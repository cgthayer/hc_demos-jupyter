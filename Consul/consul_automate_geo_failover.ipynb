{
 "cells": [
  {
   "cell_type": "markdown",
   "id": "b64f28e6-a7e5-4a4b-b064-1731b8e4408d",
   "metadata": {
    "tags": []
   },
   "source": [
    "# Consul Failover with Prepared Queries"
   ]
  },
  {
   "cell_type": "markdown",
   "id": "500b3a1d-105d-441e-a382-0b93505e2ab6",
   "metadata": {},
   "source": [
    "Within a single datacenter, Consul provides automatic failover for services by omitting failed service instances from DNS lookups and by providing service health information in APIs.\n",
    "\n",
    "When there are no more instances of a service available in the local datacenter, it can be challenging to implement failover policies to other datacenters because typically that logic would need to be written into each application. Fortunately, Consul has a [prepared query](https://www.consul.io/api/query.html) API\n",
    "that provides the capability to let users define failover policies in a centralized way. It's easy to expose these to applications using Consul's DNS interface and it's also available to applications that consume Consul's APIs.\n",
    "\n",
    "Failover policies are flexible and can be applied in a variety of ways including:\n",
    "\n",
    "- Fully **Static** lists of **alternate datacenters**\n",
    "- Fully **Dynamic** policies that make use of network **Round Trip Time (RTT)**\n",
    "    - Consul's [network coordinate](https://www.consul.io/docs/internals/coordinates.html) subsystem.\n",
    "- **Hybrid** policies that make use of network RTT 1st then alternate DC's\n",
    "- **Template** policy allows one prepared query to apply to many or **all services**\n",
    "\n",
    "Prepared queries can be made with policies specific to certain services and prepared query templates can allow one policy to apply to many, or even all services, with just a small number of templates.\n",
    "\n",
    "This tutorial shows how to build geo failover policies using prepared queries through a set of examples. It also includes information on how to use prepared\n",
    "query templates to simplify the failover process.\n",
    "\n",
    "> Note: To complete this tutorial, you must have [WAN gossip federation](../HashiStack/hashi_playground.ipynb) configured.\n",
    "\n",
    "https://learn.hashicorp.com/tutorials/consul/automate-geo-failover"
   ]
  },
  {
   "cell_type": "markdown",
   "id": "f788ab47-eb79-456f-aae0-ff07fe81251a",
   "metadata": {},
   "source": [
    "## Prepared query introduction\n",
    "\n",
    "* Prepared queries are objects that are defined at the datacenter level.\n",
    "* Only need to be created once and are stored on the Consul servers.\n",
    "* Can be invoked by applications to perform the query and get the latest results.\n",
    "\n",
    "Here's an example request to create a prepared query:\n",
    "\n",
    "```shell\n",
    "$ curl http://127.0.0.1:8500/v1/query \\\n",
    "    --request POST \\\n",
    "    --data @- << EOF\n",
    "{\n",
    "  \"Name\": \"banking-app\",\n",
    "  \"Service\": {\n",
    "    \"Service\": \"banking-app\",\n",
    "    \"Tags\": [\"v1.2.3\"]\n",
    "  }\n",
    "}\n",
    "EOF\n",
    "```\n",
    "\n",
    "This creates a prepared query called \"`banking-app`\".\n",
    "- Does a lookup for all instances of the \"`banking-app`\" service with the tag \"`v1.2.3`\".\n",
    "- This policy could be used to control which version of a \"`banking-app`\" applications should be using in a centralized way.\n",
    "- By [updating this prepared query](https://www.consul.io/api/query.html#update-prepared-query) to look for the tag \"`v1.2.4`\" applications could start to find the newer version of the service without having to reconfigure anything."
   ]
  },
  {
   "cell_type": "markdown",
   "id": "f47f0cc8-c18b-439d-8630-598b3aa912f1",
   "metadata": {},
   "source": [
    "Applications can make use of this query in two ways.\n",
    "\n",
    "1. Since we gave the prepared query a name, they can simply do a DNS lookup for \"`banking-app.query.consul`\" instead of \"`banking-app.service.consul`\". Now with the prepared query, there's the additional filter policy working behind the scenes that the application doesn't have to know about.\n",
    "\n",
    "1. Queries can also be executed using the [prepared query execute API](https://www.consul.io/api/query.html#execute-prepared-query) for applications that integrate with Consul's APIs directly."
   ]
  },
  {
   "cell_type": "markdown",
   "id": "e07850c3-1dcc-405e-b4b9-2421341f9a9c",
   "metadata": {},
   "source": [
    "## Failover policy types\n",
    "\n",
    "Using the techniques in this section you will develop prepared queries with failover policies where simply changing application configurations to look up \"`banking-app.query.consul`\" instead of \"`banking-app.service.consul`\" via DNS will result in automatic geo failover to the next closest [federated](https://learn.hashicorp.com/tutorials/consul/federation-gossip-wan) Consul datacenters, in order of increasing network round trip time.\n",
    "\n",
    "Failover is just another policy choice for a prepared query, it works in the same manner as the previous example and is similarly transparent to applications. The failover policy is configured using the `Failover` structure, which contains two fields, both of which are optional, and determine what happens if no healthy nodes are available in the local datacenter when the query is executed.\n",
    "\n",
    "- `NearestN` `(int: 0)` - Specifies that the query will be forwarded to up to `NearestN` other datacenters based on their estimated network round trip time using [network coordinates](https://www.consul.io/docs/internals/coordinates.html).\n",
    "\n",
    "- `Datacenters` `(array<string>: nil)` - Specifies a fixed list of remote datacenters to forward the query to if there are no healthy nodes in the local datacenter.\n",
    "    - **NOTE**: Datacenters are queried in the order given in the list.\n",
    "\n",
    "The following examples use those fields to implement different geo failover policies methods."
   ]
  },
  {
   "cell_type": "markdown",
   "id": "97e3dde8-51b2-4019-a636-9327d83eed21",
   "metadata": {
    "tags": []
   },
   "source": [
    "## Register a Service"
   ]
  },
  {
   "cell_type": "code",
   "execution_count": 167,
   "id": "fc4e80f1-ab2f-4a49-a3de-85d27aa75808",
   "metadata": {
    "tags": []
   },
   "outputs": [
    {
     "name": "stdout",
     "output_type": "stream",
     "text": [
      "#==> create service definition.\n",
      "\n",
      "#==> register service.\n",
      "#==> create service definition.\n",
      "\n",
      "#==> register service.\n",
      "#==> create service definition.\n",
      "\n",
      "#==> register service.\n"
     ]
    }
   ],
   "source": [
    "for node_number in 0 3 4; do\n",
    "docker exec -i consul-server-${node_number} sh <<EOM\n",
    "printf \"#==> create service definition.\\n\"\n",
    "cat > /tmp/consul_service.json <<EOF\n",
    "{\n",
    "    \"service\": {\n",
    "        \"id\": \"banking1\",\n",
    "        \"name\": \"banking-app\",\n",
    "        \"Tags\": [\"primary\", \"v1.2.3\"],\n",
    "        \"Address\": \"127.0.0.1\",\n",
    "        \"Port\": 8000,\n",
    "        \"Meta\": {\n",
    "            \"banking_version\": \"4.0\"\n",
    "        },\n",
    "        \"enable_tag_override\": false,\n",
    "        \"Weights\": {\n",
    "            \"Passing\": 10,\n",
    "            \"Warning\": 1\n",
    "        }\n",
    "    }\n",
    "}\n",
    "EOF\n",
    "#   \"Check\": {\n",
    "#     \"DeregisterCriticalServiceAfter\": \"90m\",\n",
    "#     \"Args\": [\"/usr/local/bin/check_redis.py\"],\n",
    "#     \"Interval\": \"10s\",\n",
    "#     \"Timeout\": \"5s\"\n",
    "#   },\n",
    "# }\n",
    "# EOF\n",
    "\n",
    "printf \"\\n#==> register service.\\n\"\n",
    "# curl \\\n",
    "#     --request PUT \\\n",
    "#     --data @/tmp/consul_service.json \\\n",
    "#     http://127.0.0.1:8500/v1/agent/service/register #?replace-existing-checks=true\n",
    "EOM\n",
    "done"
   ]
  },
  {
   "cell_type": "code",
   "execution_count": 10,
   "id": "7fbab124-4946-4b89-9412-c2f3a229dbde",
   "metadata": {},
   "outputs": [],
   "source": [
    "curl \\\n",
    "    --request PUT \\\n",
    "    http://127.0.0.1:8500/v1/agent/service/deregister/redis1"
   ]
  },
  {
   "cell_type": "markdown",
   "id": "93064758-c7b2-499a-a269-12b2cab99ef8",
   "metadata": {
    "tags": []
   },
   "source": [
    "## Static policy\n",
    "\n",
    "A static failover policy includes a fixed list of datacenters to contact once there are no healthy instances in the local datacenter."
   ]
  },
  {
   "cell_type": "markdown",
   "id": "48254488-c977-4749-a89d-2ed04b14dabc",
   "metadata": {},
   "source": [
    "List your zones."
   ]
  },
  {
   "cell_type": "code",
   "execution_count": 226,
   "id": "1b1adec3-92c6-42af-aa68-b8bb98aab294",
   "metadata": {},
   "outputs": [
    {
     "name": "stdout",
     "output_type": "stream",
     "text": [
      "zone1\n",
      "zone2\n",
      "zone3\n"
     ]
    }
   ],
   "source": [
    "curl -s http://localhost:8500/v1/catalog/datacenters | jq -r .[]"
   ]
  },
  {
   "cell_type": "markdown",
   "id": "69645ce2-7da1-48bf-b900-6c199d98a8b7",
   "metadata": {},
   "source": [
    "Set them for the `CONSUL_DC*` variables below."
   ]
  },
  {
   "cell_type": "code",
   "execution_count": 222,
   "id": "9da5f38f-121c-44ca-b7fa-95f36f3a4328",
   "metadata": {},
   "outputs": [
    {
     "name": "stdout",
     "output_type": "stream",
     "text": [
      "zone1 zone2 zone3"
     ]
    }
   ],
   "source": [
    "export CONSUL_DC=zone1 CONSUL_DC_2=zone2 CONSUL_DC_3=zone3\n",
    "printf \"$CONSUL_DC $CONSUL_DC_2 $CONSUL_DC_3\""
   ]
  },
  {
   "cell_type": "markdown",
   "id": "cc97727c-fe38-41be-899c-c9083d9742f9",
   "metadata": {
    "tags": []
   },
   "source": [
    "Here's the example from the introduction, expanded with a static failover policy:"
   ]
  },
  {
   "cell_type": "code",
   "execution_count": 113,
   "id": "7510e7c9-6feb-426d-b727-86347a9ea2b8",
   "metadata": {},
   "outputs": [
    {
     "name": "stdout",
     "output_type": "stream",
     "text": [
      "{\"ID\":\"c5228df7-b502-384d-2bea-9452e731617c\"}"
     ]
    }
   ],
   "source": [
    "curl http://127.0.0.1:8500/v1/query \\\n",
    "    --request POST \\\n",
    "    --data @- << EOF\n",
    "{\n",
    "  \"Name\": \"banking-app\",\n",
    "  \"Service\": {\n",
    "    \"Service\": \"banking-app\",\n",
    "    \"Tags\": [\"v1.2.3\"],\n",
    "    \"Failover\": {\n",
    "      \"Datacenters\": [\"${CONSUL_DC}\", \"${CONSUL_DC_2}\", \"${CONSUL_DC_3}\"]\n",
    "    }\n",
    "  }\n",
    "}\n",
    "EOF"
   ]
  },
  {
   "cell_type": "markdown",
   "id": "a43d1c57-a556-4561-b340-a57cc8b03051",
   "metadata": {},
   "source": [
    "When this query is executed, such as with a DNS lookup to \"`banking-app.query.consul`\", the following actions will occur:\n",
    "\n",
    "1. Consul servers in the local datacenter will attempt to find healthy instances of the \"banking-app\" service with the required tag.\n",
    "1. If none are available locally, the Consul servers will make an RPC request to the Consul servers in \"dc2\" to perform the query there.\n",
    "1. If none are available in \"dc2\", then an RPC will be made to the Consul servers in \"dc3\" to perform the query there.\n",
    "1. Finally an error will be returned if none of these datacenters had any instances available."
   ]
  },
  {
   "cell_type": "markdown",
   "id": "57454c2f-e945-4a6b-ac8b-15d56fd6fdb2",
   "metadata": {},
   "source": [
    "### Verify Prepared Queries were added to the system"
   ]
  },
  {
   "cell_type": "code",
   "execution_count": 195,
   "id": "a4d53f2c-61b1-488b-a3c0-348494a4fd1e",
   "metadata": {
    "tags": []
   },
   "outputs": [
    {
     "name": "stdout",
     "output_type": "stream",
     "text": [
      "\u001b[1;39m[\u001b[1;39m{\u001b[0m\u001b[34;1m\"ID\"\u001b[0m\u001b[1;39m:\u001b[0m\u001b[0;32m\"c5228df7-b502-384d-2bea-9452e731617c\"\u001b[0m\u001b[1;39m,\u001b[0m\u001b[34;1m\"Name\"\u001b[0m\u001b[1;39m:\u001b[0m\u001b[0;32m\"banking-app\"\u001b[0m\u001b[1;39m,\u001b[0m\u001b[34;1m\"Session\"\u001b[0m\u001b[1;39m:\u001b[0m\u001b[0;32m\"\"\u001b[0m\u001b[1;39m,\u001b[0m\u001b[34;1m\"Token\"\u001b[0m\u001b[1;39m:\u001b[0m\u001b[0;32m\"\"\u001b[0m\u001b[1;39m,\u001b[0m\u001b[34;1m\"Template\"\u001b[0m\u001b[1;39m:\u001b[0m\u001b[1;39m{\u001b[0m\u001b[34;1m\"Type\"\u001b[0m\u001b[1;39m:\u001b[0m\u001b[0;32m\"\"\u001b[0m\u001b[1;39m,\u001b[0m\u001b[34;1m\"Regexp\"\u001b[0m\u001b[1;39m:\u001b[0m\u001b[0;32m\"\"\u001b[0m\u001b[1;39m,\u001b[0m\u001b[34;1m\"RemoveEmptyTags\"\u001b[0m\u001b[1;39m:\u001b[0m\u001b[0;39mfalse\u001b[0m\u001b[1;39m\u001b[1;39m}\u001b[0m\u001b[1;39m,\u001b[0m\u001b[34;1m\"Service\"\u001b[0m\u001b[1;39m:\u001b[0m\u001b[1;39m{\u001b[0m\u001b[34;1m\"Service\"\u001b[0m\u001b[1;39m:\u001b[0m\u001b[0;32m\"banking-app\"\u001b[0m\u001b[1;39m,\u001b[0m\u001b[34;1m\"Failover\"\u001b[0m\u001b[1;39m:\u001b[0m\u001b[1;39m{\u001b[0m\u001b[34;1m\"NearestN\"\u001b[0m\u001b[1;39m:\u001b[0m\u001b[0;39m2\u001b[0m\u001b[1;39m,\u001b[0m\u001b[34;1m\"Datacenters\"\u001b[0m\u001b[1;39m:\u001b[0m\u001b[1;30mnull\u001b[0m\u001b[1;39m\u001b[1;39m}\u001b[0m\u001b[1;39m,\u001b[0m\u001b[34;1m\"OnlyPassing\"\u001b[0m\u001b[1;39m:\u001b[0m\u001b[0;39mfalse\u001b[0m\u001b[1;39m,\u001b[0m\u001b[34;1m\"IgnoreCheckIDs\"\u001b[0m\u001b[1;39m:\u001b[0m\u001b[1;30mnull\u001b[0m\u001b[1;39m,\u001b[0m\u001b[34;1m\"Near\"\u001b[0m\u001b[1;39m:\u001b[0m\u001b[0;32m\"\"\u001b[0m\u001b[1;39m,\u001b[0m\u001b[34;1m\"Tags\"\u001b[0m\u001b[1;39m:\u001b[0m\u001b[1;39m[\u001b[0;32m\"v1.2.3\"\u001b[0m\u001b[1;39m\u001b[1;39m]\u001b[0m\u001b[1;39m,\u001b[0m\u001b[34;1m\"NodeMeta\"\u001b[0m\u001b[1;39m:\u001b[0m\u001b[1;30mnull\u001b[0m\u001b[1;39m,\u001b[0m\u001b[34;1m\"ServiceMeta\"\u001b[0m\u001b[1;39m:\u001b[0m\u001b[1;30mnull\u001b[0m\u001b[1;39m,\u001b[0m\u001b[34;1m\"Connect\"\u001b[0m\u001b[1;39m:\u001b[0m\u001b[0;39mfalse\u001b[0m\u001b[1;39m\u001b[1;39m}\u001b[0m\u001b[1;39m,\u001b[0m\u001b[34;1m\"DNS\"\u001b[0m\u001b[1;39m:\u001b[0m\u001b[1;39m{\u001b[0m\u001b[34;1m\"TTL\"\u001b[0m\u001b[1;39m:\u001b[0m\u001b[0;32m\"\"\u001b[0m\u001b[1;39m\u001b[1;39m}\u001b[0m\u001b[1;39m,\u001b[0m\u001b[34;1m\"CreateIndex\"\u001b[0m\u001b[1;39m:\u001b[0m\u001b[0;39m507\u001b[0m\u001b[1;39m,\u001b[0m\u001b[34;1m\"ModifyIndex\"\u001b[0m\u001b[1;39m:\u001b[0m\u001b[0;39m9626\u001b[0m\u001b[1;39m\u001b[1;39m}\u001b[0m\u001b[1;39m\u001b[1;39m]\u001b[0m\n"
     ]
    }
   ],
   "source": [
    "PREPARED_QUERIES=$(curl -s http://127.0.0.1:8500/v1/query | jq \".\") \\\n",
    "  && echo $PREPARED_QUERIES | jq -c"
   ]
  },
  {
   "cell_type": "code",
   "execution_count": 215,
   "id": "88a589e2-20f4-42d7-b9c0-b3466d49d0ab",
   "metadata": {
    "tags": []
   },
   "outputs": [
    {
     "name": "stdout",
     "output_type": "stream",
     "text": [
      "c5228df7-b502-384d-2bea-9452e731617c\n"
     ]
    }
   ],
   "source": [
    "curl -s http://127.0.0.1:8500/v1/query | jq -r '.[] | select(.Name | contains(\"banking-app\"))|.ID'"
   ]
  },
  {
   "cell_type": "code",
   "execution_count": 194,
   "id": "5b803908-bed3-4c84-aa8b-796e991273f9",
   "metadata": {},
   "outputs": [
    {
     "name": "stdout",
     "output_type": "stream",
     "text": [
      "\u001b[1;39m{\u001b[0m\u001b[34;1m\"genre\"\u001b[0m\u001b[1;39m:\u001b[0m\u001b[0;32m\"deep house\"\u001b[0m\u001b[1;39m\u001b[1;39m}\u001b[0m\n",
      "\u001b[1;39m{\u001b[0m\u001b[34;1m\"genre\"\u001b[0m\u001b[1;39m:\u001b[0m\u001b[0;32m\"progressive house\"\u001b[0m\u001b[1;39m\u001b[1;39m}\u001b[0m\n",
      "\u001b[1;39m{\u001b[0m\u001b[34;1m\"genre\"\u001b[0m\u001b[1;39m:\u001b[0m\u001b[0;32m\"dubstep\"\u001b[0m\u001b[1;39m\u001b[1;39m}\u001b[0m\n"
     ]
    }
   ],
   "source": [
    "json='[{\"genre\":\"deep house\"}, {\"genre\": \"progressive house\"}, {\"genre\": \"dubstep\"}]'\n",
    "echo \"$json\" | jq -c '.[] | select(.genre | contains(\"house\"))'"
   ]
  },
  {
   "cell_type": "code",
   "execution_count": 139,
   "id": "9d9e0a03-7bb8-46f0-9f97-9129dc0f9cd1",
   "metadata": {
    "collapsed": true,
    "jupyter": {
     "outputs_hidden": true
    },
    "tags": []
   },
   "outputs": [
    {
     "name": "stdout",
     "output_type": "stream",
     "text": [
      ";; OPT PSEUDOSECTION:\n",
      "; EDNS: version: 0, flags:; udp: 4096\n",
      ";; QUESTION SECTION:\n",
      ";banking-app.query.consul.\tIN\tSRV\n",
      "\n",
      ";; ANSWER SECTION:\n",
      "banking-app.query.consul. 0\tIN\tSRV\t1 1 8000 7f000001.addr.zone1.consul.\n",
      "\n",
      ";; ADDITIONAL SECTION:\n",
      "7f000001.addr.zone1.consul. 0\tIN\tA\t127.0.0.1\n",
      "consul-server-0.node.zone1.consul. 0 IN\tTXT\t\"consul-network-segment=\"\n"
     ]
    }
   ],
   "source": [
    "docker exec -i consul-server-0 sh <<\"EOF\"\n",
    "apk add bind-tools\n",
    "dig @consul-server-0 -p 8600 banking-app.query.consul srv | grep -A2 SECTION\n",
    "EOF"
   ]
  },
  {
   "cell_type": "markdown",
   "id": "d92beab3-3f67-4647-b1f1-bdea3bb77f8f",
   "metadata": {},
   "source": [
    "### Deregister service from DC1"
   ]
  },
  {
   "cell_type": "code",
   "execution_count": 172,
   "id": "e74bfbb6-3ac6-4cb1-a4b1-a355e052f09a",
   "metadata": {
    "collapsed": true,
    "jupyter": {
     "outputs_hidden": true
    },
    "tags": []
   },
   "outputs": [
    {
     "name": "stdout",
     "output_type": "stream",
     "text": [
      "Deregistered service: banking1\n",
      "\n",
      "#==> Confirm that the banking service is gone\n",
      "consul\n"
     ]
    }
   ],
   "source": [
    "consul services deregister -id banking1\n",
    "printf \"\\n#==> Confirm that the banking service is gone\\n\"\n",
    "consul catalog services"
   ]
  },
  {
   "cell_type": "markdown",
   "id": "3e29bc4e-7cb3-4f4c-8aa2-e619cc44285b",
   "metadata": {},
   "source": [
    "Verify DNS answer is now for `DC2`"
   ]
  },
  {
   "cell_type": "code",
   "execution_count": 173,
   "id": "9ff3ed44-1c45-4c4f-b6ae-86bf1d42ff00",
   "metadata": {
    "collapsed": true,
    "jupyter": {
     "outputs_hidden": true
    },
    "tags": []
   },
   "outputs": [
    {
     "name": "stdout",
     "output_type": "stream",
     "text": [
      ";; OPT PSEUDO\u001b[01;31m\u001b[KSECTION\u001b[m\u001b[K:\n",
      "; EDNS: version: 0, flags:; udp: 4096\n",
      ";; QUESTION \u001b[01;31m\u001b[KSECTION\u001b[m\u001b[K:\n",
      ";banking-app.query.consul.\tIN\tSRV\n",
      "\n",
      ";; ANSWER \u001b[01;31m\u001b[KSECTION\u001b[m\u001b[K:\n",
      "banking-app.query.consul. 0\tIN\tSRV\t1 1 8000 7f000001.addr.zone2.consul.\n",
      "\n",
      ";; ADDITIONAL \u001b[01;31m\u001b[KSECTION\u001b[m\u001b[K:\n",
      "7f000001.addr.zone2.consul. 0\tIN\tA\t127.0.0.1\n",
      "consul-server-3.node.zone2.consul. 0 IN\tTXT\t\"zone=zone0\"\n"
     ]
    }
   ],
   "source": [
    "dig @127.0.0.1 -p 8600 banking-app.query.consul srv | grep -A2 SECTION"
   ]
  },
  {
   "cell_type": "markdown",
   "id": "0b6c7189-01dd-4801-820f-ec6866f9840b",
   "metadata": {},
   "source": [
    "Add service back in."
   ]
  },
  {
   "cell_type": "code",
   "execution_count": 174,
   "id": "25e29228-d883-4afb-8dfe-bdc54de86327",
   "metadata": {},
   "outputs": [
    {
     "name": "stdout",
     "output_type": "stream",
     "text": [
      "\n",
      "#==> register service.\n",
      "Registered service: banking-app\n"
     ]
    }
   ],
   "source": [
    "for node_number in 0; do\n",
    "docker exec -i consul-server-${node_number} sh <<EOM\n",
    "printf \"\\n#==> register service.\\n\"\n",
    "consul services register /tmp/consul_service.json #\\\n",
    "#    http://127.0.0.1:8500/v1/agent/service/register #?replace-existing-checks=true\n",
    "EOM\n",
    "done"
   ]
  },
  {
   "cell_type": "markdown",
   "id": "04349e72-eb29-4de2-82f4-a8a3481572ed",
   "metadata": {},
   "source": [
    "Verify answer is now for `DC1` again."
   ]
  },
  {
   "cell_type": "code",
   "execution_count": 175,
   "id": "f0ad01bd-a8df-4b92-a4a6-f258c7f41630",
   "metadata": {
    "collapsed": true,
    "jupyter": {
     "outputs_hidden": true
    },
    "tags": []
   },
   "outputs": [
    {
     "name": "stdout",
     "output_type": "stream",
     "text": [
      "\n",
      "; <<>> DiG 9.16.1-Ubuntu <<>> @127.0.0.1 -p 8600 banking-app.query.consul srv\n",
      "; (1 server found)\n",
      ";; global options: +cmd\n",
      ";; Got answer:\n",
      ";; ->>HEADER<<- opcode: QUERY, status: NOERROR, id: 29475\n",
      ";; flags: qr aa rd; QUERY: 1, ANSWER: 1, AUTHORITY: 0, ADDITIONAL: 3\n",
      ";; WARNING: recursion requested but not available\n",
      "\n",
      ";; OPT PSEUDOSECTION:\n",
      "; EDNS: version: 0, flags:; udp: 4096\n",
      ";; QUESTION SECTION:\n",
      ";banking-app.query.consul.\tIN\tSRV\n",
      "\n",
      ";; ANSWER SECTION:\n",
      "banking-app.query.consul. 0\tIN\tSRV\t1 10 8000 7f000001.addr.zone1.consul.\n",
      "\n",
      ";; ADDITIONAL SECTION:\n",
      "7f000001.addr.zone1.consul. 0\tIN\tA\t127.0.0.1\n",
      "consul-server-0.node.zone1.consul. 0 IN\tTXT\t\"consul-network-segment=\"\n",
      "\n",
      ";; Query time: 0 msec\n",
      ";; SERVER: 127.0.0.1#8600(127.0.0.1)\n",
      ";; WHEN: Sat Dec 11 02:44:37 UTC 2021\n",
      ";; MSG SIZE  rcvd: 172\n",
      "\n"
     ]
    }
   ],
   "source": [
    "dig @127.0.0.1 -p 8600 banking-app.query.consul srv"
   ]
  },
  {
   "cell_type": "markdown",
   "id": "662ef1c1-c3c7-4435-bc8d-372212c10aa0",
   "metadata": {},
   "source": [
    "## Dynamic policy\n",
    "\n",
    "In a complex federated environment with many Consul datacenters, it can be cumbersome to set static failover policies, so Consul offers a dynamic option based on Consul's [network coordinate](https://www.consul.io/docs/internals/coordinates.html) subsystem.\n",
    "\n",
    "Consul continuously maintains an estimate of the network round trip time from the local datacenter to the servers in other datacenters it is federated with. Each server uses the median round trip time from itself to the servers in the remote datacenter. This means that failover can simply try other remote datacenters in order of increasing network round trip time, and if datacenters come and go, or experience network issues, this order will adjust automatically.\n",
    "\n",
    "Here's the example from the introduction, expanded with a dynamic failover policy:\n",
    "\n",
    "```shell-session\n",
    "$ curl http://127.0.0.1:8500/v1/query \\\n",
    "    --request POST \\\n",
    "    --data @- << EOF\n",
    "{\n",
    "  \"Name\": \"banking-app\",\n",
    "  \"Service\": {\n",
    "    \"Service\": \"banking-app\",\n",
    "    \"Tags\": [\"v1.2.3\"],\n",
    "    \"Failover\": {\n",
    "      \"NearestN\": 2\n",
    "    }\n",
    "  }\n",
    "}\n",
    "EOF\n",
    "```"
   ]
  },
  {
   "cell_type": "markdown",
   "id": "8d9a15f7-ab01-4934-9ff9-8e9b69a23986",
   "metadata": {},
   "source": [
    "This example updates an existing query. If this is a new query then delete the values after `/v1/query/`."
   ]
  },
  {
   "cell_type": "code",
   "execution_count": 219,
   "id": "62f7aed7-934d-4b4e-bb65-eab209662cc7",
   "metadata": {},
   "outputs": [],
   "source": [
    "BANKING_APP_ID=$(curl -s http://127.0.0.1:8500/v1/query | jq -r '.[] | select(.Name | contains(\"banking-app\"))|.ID')\n",
    "curl http://127.0.0.1:8500/v1/query/${BANKING_APP_ID} \\\n",
    "    --request PUT \\\n",
    "    --data @- << EOF\n",
    "{\n",
    "  \"Name\": \"banking-app\",\n",
    "  \"Service\": {\n",
    "    \"Service\": \"banking-app\",\n",
    "    \"Tags\": [\"v1.2.3\"],\n",
    "    \"Failover\": {\n",
    "      \"NearestN\": 2\n",
    "    }\n",
    "  }\n",
    "}\n",
    "EOF"
   ]
  },
  {
   "cell_type": "markdown",
   "id": "638233b4-6429-4fb8-a882-7102c9f2aa4c",
   "metadata": {},
   "source": [
    "This query is resolved in a similar fashion to the previous example, except the choice of \"`dc1`\" or \"`dc2`\", or possibly some other datacenter, is made automatically."
   ]
  },
  {
   "cell_type": "markdown",
   "id": "859d4203-2fb5-4944-b7ae-5a0cb2efdf31",
   "metadata": {},
   "source": [
    "* `\"NearestN\": 2` - Specifies that the query will be forwarded to up to `NearestN` other datacenters based on their estimated network round trip time using Network Coordinates from the WAN gossip pool.\n",
    "    * The median round trip time from the server handling the query to the servers in the remote datacenter is used to determine the priority."
   ]
  },
  {
   "cell_type": "markdown",
   "id": "0047a72a-8be1-44fe-8e06-6095c94e34bf",
   "metadata": {},
   "source": [
    "### Verify Dynamic Prepared Queries"
   ]
  },
  {
   "cell_type": "code",
   "execution_count": 245,
   "id": "641a9b27-8c99-4cf1-aa9e-b65e473a3f32",
   "metadata": {},
   "outputs": [
    {
     "name": "stdout",
     "output_type": "stream",
     "text": [
      "Estimated consul-server-0.zone1 <-> consul-server-3.zone2 rtt: 1.357 ms (using WAN coordinates)\n",
      "Estimated consul-server-0.zone1 <-> consul-server-4.zone3 rtt: 1.371 ms (using WAN coordinates)\n",
      "Estimated consul-server-0.zone1 <-> consul-server-3.zone2 rtt: 1.357 ms (using WAN coordinates)\n",
      "Estimated consul-server-0.zone1 <-> consul-server-4.zone3 rtt: 1.371 ms (using WAN coordinates)\n",
      "Estimated consul-server-0.zone1 <-> consul-server-3.zone2 rtt: 1.357 ms (using WAN coordinates)\n",
      "Estimated consul-server-0.zone1 <-> consul-server-4.zone3 rtt: 1.371 ms (using WAN coordinates)\n"
     ]
    }
   ],
   "source": [
    "for i in {1..3};do\n",
    "consul rtt -wan consul-server-0.${CONSUL_DC} consul-server-3.${CONSUL_DC_2}\n",
    "consul rtt -wan consul-server-0.${CONSUL_DC} consul-server-4.${CONSUL_DC_3}\n",
    "done"
   ]
  },
  {
   "cell_type": "markdown",
   "id": "67aca7ea-08d5-46f6-9843-fcbf72773586",
   "metadata": {},
   "source": [
    "<br>\n",
    "Confirm that the query returns the local result (DC1)."
   ]
  },
  {
   "cell_type": "code",
   "execution_count": 238,
   "id": "90fe58ac-6415-4cde-b754-68f2fdf2d8e7",
   "metadata": {
    "tags": []
   },
   "outputs": [
    {
     "name": "stdout",
     "output_type": "stream",
     "text": [
      ";; OPT PSEUDOSECTION:\n",
      "; EDNS: version: 0, flags:; udp: 4096\n",
      ";; QUESTION SECTION:\n",
      ";banking-app.query.consul.\tIN\tSRV\n",
      "\n",
      ";; ANSWER SECTION:\n",
      "banking-app.query.consul. 0\tIN\tSRV\t1 10 8000 7f000001.addr.zone1.consul.\n",
      "\n",
      ";; ADDITIONAL SECTION:\n",
      "7f000001.addr.zone1.consul. 0\tIN\tA\t127.0.0.1\n",
      "consul-server-0.node.zone1.consul. 0 IN\tTXT\t\"consul-network-segment=\"\n"
     ]
    }
   ],
   "source": [
    "docker exec -i consul-server-0 sh <<\"EOF\"\n",
    "# apk add bind-tools\n",
    "dig @consul-server-0 -p 8600 banking-app.query.consul srv | grep -A2 SECTION\n",
    "EOF"
   ]
  },
  {
   "cell_type": "markdown",
   "id": "aa4eafab-953a-4564-b167-75c93759b38a",
   "metadata": {},
   "source": [
    "Deregister service from DC1"
   ]
  },
  {
   "cell_type": "code",
   "execution_count": 240,
   "id": "f0ea542b-e799-4a73-858a-f88425ea79c0",
   "metadata": {
    "tags": []
   },
   "outputs": [
    {
     "name": "stdout",
     "output_type": "stream",
     "text": [
      "Deregistered service: banking1\n",
      "\n",
      "#==> Confirm that the banking service is gone\n",
      "consul\n"
     ]
    }
   ],
   "source": [
    "consul services deregister -id banking1\n",
    "printf \"\\n#==> Confirm that the banking service is gone\\n\"\n",
    "consul catalog services"
   ]
  },
  {
   "cell_type": "markdown",
   "id": "0de86103-e27e-4595-b768-7b7e78d9ead7",
   "metadata": {},
   "source": [
    "<br>Verify DNS answer now points to `DC2` or `DC3`."
   ]
  },
  {
   "cell_type": "code",
   "execution_count": 250,
   "id": "59d32bd2-699b-4a56-9a14-0dd5d74cea41",
   "metadata": {
    "tags": []
   },
   "outputs": [
    {
     "name": "stdout",
     "output_type": "stream",
     "text": [
      ";; OPT PSEUDO\u001b[01;31m\u001b[KSECTION\u001b[m\u001b[K:\n",
      "; EDNS: version: 0, flags:; udp: 4096\n",
      ";; QUESTION \u001b[01;31m\u001b[KSECTION\u001b[m\u001b[K:\n",
      ";banking-app.query.consul.\tIN\tSRV\n",
      "\n",
      ";; ANSWER \u001b[01;31m\u001b[KSECTION\u001b[m\u001b[K:\n",
      "banking-app.query.consul. 0\tIN\tSRV\t1 1 8000 7f000001.addr.zone3.consul.\n",
      "\n",
      ";; ADDITIONAL \u001b[01;31m\u001b[KSECTION\u001b[m\u001b[K:\n",
      "7f000001.addr.zone3.consul. 0\tIN\tA\t127.0.0.1\n",
      "consul-server-4.node.zone3.consul. 0 IN\tTXT\t\"consul-network-segment=\"\n"
     ]
    }
   ],
   "source": [
    "dig @127.0.0.1 -p 8600 banking-app.query.consul srv | grep -A2 SECTION"
   ]
  },
  {
   "cell_type": "markdown",
   "id": "20030dbe-3be3-4e10-b647-f095333ecd05",
   "metadata": {},
   "source": [
    "Deregister service from zone in `watch` results"
   ]
  },
  {
   "cell_type": "code",
   "execution_count": 253,
   "id": "f0feeafa-4e1a-4155-b463-70dbf0030cc3",
   "metadata": {
    "tags": []
   },
   "outputs": [
    {
     "name": "stdout",
     "output_type": "stream",
     "text": [
      "Deregistered service: banking1\n",
      "\n",
      "#==> Confirm that the banking service is gone\n",
      "consul\n"
     ]
    }
   ],
   "source": [
    "docker exec -i consul-server-3 sh <<EOF\n",
    "consul services deregister -id banking1\n",
    "printf \"\\n#==> Confirm that the banking service is gone\\n\"\n",
    "consul catalog services\n",
    "EOF"
   ]
  },
  {
   "cell_type": "markdown",
   "id": "e9956396-d10e-4213-8284-d083692cbcec",
   "metadata": {},
   "source": [
    "NOTE: The DNS answer should now be for the last zone."
   ]
  },
  {
   "cell_type": "markdown",
   "id": "7147f4b7-0a76-4885-acf6-51020aab859d",
   "metadata": {},
   "source": [
    "Deregister service from last zone in `watch` results"
   ]
  },
  {
   "cell_type": "code",
   "execution_count": 254,
   "id": "a1603d00-084e-40a6-930f-ed32ef6ebc65",
   "metadata": {
    "tags": []
   },
   "outputs": [
    {
     "name": "stdout",
     "output_type": "stream",
     "text": [
      "\n",
      "#==> List current services\n",
      "banking-app\n",
      "consul\n",
      "Deregistered service: banking1\n",
      "\n",
      "#==> Confirm that the banking service is gone\n",
      "consul\n"
     ]
    }
   ],
   "source": [
    "docker exec -i consul-server-4 sh <<EOF\n",
    "printf \"\\n#==> List current services\\n\"\n",
    "consul catalog services\n",
    "printf \"\\n#==> Deregister services\\n\"\n",
    "consul services deregister -id banking1\n",
    "printf \"\\n#==> Confirm that the banking service is gone\\n\"\n",
    "consul catalog services\n",
    "EOF"
   ]
  },
  {
   "cell_type": "markdown",
   "id": "ff963ecc-25a0-439e-9709-26bc455f2c93",
   "metadata": {},
   "source": [
    "NOTE: The DNS answer should now be unavailable."
   ]
  },
  {
   "cell_type": "markdown",
   "id": "b85ad142-6c82-4daf-a154-105f289b991a",
   "metadata": {},
   "source": [
    "Add service back in."
   ]
  },
  {
   "cell_type": "code",
   "execution_count": 256,
   "id": "4099e0ff-d770-4d71-9651-9f3b73f261c5",
   "metadata": {},
   "outputs": [
    {
     "name": "stdout",
     "output_type": "stream",
     "text": [
      "\n",
      "#==> register service.\n",
      "Registered service: banking-app\n",
      "\n",
      "#==> register service.\n",
      "Registered service: banking-app\n",
      "\n",
      "#==> register service.\n",
      "Registered service: banking-app\n"
     ]
    }
   ],
   "source": [
    "for node_number in 0 3 4; do\n",
    "docker exec -i consul-server-${node_number} sh <<EOM\n",
    "printf \"\\n#==> register service.\\n\"\n",
    "consul services register /tmp/consul_service.json #\\\n",
    "#    http://127.0.0.1:8500/v1/agent/service/register #?replace-existing-checks=true\n",
    "EOM\n",
    "done"
   ]
  },
  {
   "cell_type": "markdown",
   "id": "736dca20-ca79-4809-a8bd-a026707ba0e6",
   "metadata": {},
   "source": [
    "<br>Verify answer is now for `DC1` again."
   ]
  },
  {
   "cell_type": "markdown",
   "id": "8f9dbdef-d19b-4173-8d35-a0c26c4bf81a",
   "metadata": {},
   "source": [
    "```shell\n",
    "Every 1.0s: dig @127.0.0.1 -p 8600 banking-app.query.consul srv | grep -A2 SECTION -h\n",
    "\n",
    ";; OPT PSEUDOSECTION:\n",
    "; EDNS: version: 0, flags:; udp: 4096\n",
    ";; QUESTION SECTION:\n",
    ";banking-app.query.consul.      IN      SRV\n",
    "\n",
    ";; ANSWER SECTION:\n",
    "banking-app.query.consul. 0     IN      SRV     1 10 8000 7f000001.addr.zone1.consul.\n",
    "\n",
    ";; ADDITIONAL SECTION:\n",
    "7f000001.addr.zone1.consul. 0   IN      A       127.0.0.1\n",
    "consul-server-0.node.zone1.consul. 0 IN TXT     \"consul-network-segment=\"\n",
    "```"
   ]
  },
  {
   "cell_type": "code",
   "execution_count": 175,
   "id": "3ee81f44-f9eb-4d7f-b59f-d85317007f87",
   "metadata": {
    "tags": []
   },
   "outputs": [
    {
     "name": "stdout",
     "output_type": "stream",
     "text": [
      "\n",
      "; <<>> DiG 9.16.1-Ubuntu <<>> @127.0.0.1 -p 8600 banking-app.query.consul srv\n",
      "; (1 server found)\n",
      ";; global options: +cmd\n",
      ";; Got answer:\n",
      ";; ->>HEADER<<- opcode: QUERY, status: NOERROR, id: 29475\n",
      ";; flags: qr aa rd; QUERY: 1, ANSWER: 1, AUTHORITY: 0, ADDITIONAL: 3\n",
      ";; WARNING: recursion requested but not available\n",
      "\n",
      ";; OPT PSEUDOSECTION:\n",
      "; EDNS: version: 0, flags:; udp: 4096\n",
      ";; QUESTION SECTION:\n",
      ";banking-app.query.consul.\tIN\tSRV\n",
      "\n",
      ";; ANSWER SECTION:\n",
      "banking-app.query.consul. 0\tIN\tSRV\t1 10 8000 7f000001.addr.zone1.consul.\n",
      "\n",
      ";; ADDITIONAL SECTION:\n",
      "7f000001.addr.zone1.consul. 0\tIN\tA\t127.0.0.1\n",
      "consul-server-0.node.zone1.consul. 0 IN\tTXT\t\"consul-network-segment=\"\n",
      "\n",
      ";; Query time: 0 msec\n",
      ";; SERVER: 127.0.0.1#8600(127.0.0.1)\n",
      ";; WHEN: Sat Dec 11 02:44:37 UTC 2021\n",
      ";; MSG SIZE  rcvd: 172\n",
      "\n"
     ]
    }
   ],
   "source": [
    "dig @127.0.0.1 -p 8600 banking-app.query.consul srv"
   ]
  },
  {
   "cell_type": "markdown",
   "id": "47515876-506b-4d17-bb9c-16f9c9150ad6",
   "metadata": {},
   "source": [
    "## Delete prepared query"
   ]
  },
  {
   "cell_type": "code",
   "execution_count": 71,
   "id": "4c7136fa-7801-4d9e-9a05-3b33d28fc578",
   "metadata": {},
   "outputs": [],
   "source": [
    "curl -s http://127.0.0.1:8500/v1/query/$(echo $PREPARED_QUERIES | jq -r .[0].ID) -X DELETE"
   ]
  },
  {
   "cell_type": "markdown",
   "id": "f817d2c6-765e-4f28-a469-63a5bf696513",
   "metadata": {},
   "source": [
    "## Prepared query template"
   ]
  },
  {
   "cell_type": "markdown",
   "id": "c1798c07-71be-4e12-ab11-7f96299fd56a",
   "metadata": {},
   "source": [
    "For datacenters with many services, it can be challenging to define a geo failover policy for each service. To relieve this challenge, Consul provides a [prepared query template](https://www.consul.io/api/query.html#prepared-query-templates) that allows one prepared query to apply to many, and even all, services.\n",
    "\n",
    "Templates can match on prefixes or use full regular expressions to determine which services they match.\n",
    "\n",
    "Below is an example request to create a prepared query template that applies a catch-all policy of dynamic geo failover to all services accessed by query lookup (`*.query.consul`). By specifying the `name_prefix_match` type and an empty name, this query template's policy will be applied to any name (`<name>.query.consul`) that doesn't [match a higher-precedence query](https://www.consul.io/api-docs/query#type).\n",
    "\n",
    "```shell\n",
    "$ curl http://127.0.0.1:8500/v1/query \\\n",
    "    --request POST \\\n",
    "    --data @- << EOF\n",
    "{\n",
    "  \"Name\": \"\",\n",
    "  \"Template\": {\n",
    "    \"Type\": \"name_prefix_match\"\n",
    "  },\n",
    "  \"Service\": {\n",
    "    \"Service\": \"${name.full}\",\n",
    "    \"Failover\": {\n",
    "      \"NearestN\": 2\n",
    "    }\n",
    "  }\n",
    "}\n",
    "EOF\n",
    "```"
   ]
  },
  {
   "cell_type": "markdown",
   "id": "c23c863b-d002-481b-a31c-0d5380d566b9",
   "metadata": {},
   "source": [
    "This example updates an existing query. If this is a new query then delete the values after `/v1/query/`."
   ]
  },
  {
   "cell_type": "code",
   "execution_count": 259,
   "id": "2a5a2d4a-3a28-46d8-85e3-e6bba85c42ef",
   "metadata": {},
   "outputs": [],
   "source": [
    "BANKING_APP_ID=$(curl -s http://127.0.0.1:8500/v1/query | jq -r '.[] | select(.Name | contains(\"banking-app\"))|.ID')\n",
    "curl http://127.0.0.1:8500/v1/query/${BANKING_APP_ID} \\\n",
    "    --request PUT \\\n",
    "    --data @- << EOF\n",
    "{\n",
    "  \"Name\": \"\",\n",
    "  \"Template\": {\n",
    "    \"Type\": \"name_prefix_match\"\n",
    "  },\n",
    "  \"Service\": {\n",
    "    \"Service\": \"\\${name.full}\",\n",
    "    \"Failover\": {\n",
    "      \"NearestN\": 2,\n",
    "      \"Datacenters\": [\"${CONSUL_DC}\",\"${CONSUL_DC_2}\",\"${CONSUL_DC_3}\"]\n",
    "    }\n",
    "  }\n",
    "}\n",
    "EOF"
   ]
  },
  {
   "cell_type": "markdown",
   "id": "b1867e84-f9b1-4da4-bef3-1567e7479535",
   "metadata": {},
   "source": [
    "> **Note**: If multiple queries are registered, the most specific one will be selected, so it's possible to have a template like this as a catch-all, and then apply more specific policies to certain services.\n",
    "\n",
    "With this one prepared query template in place, simply changing application configurations to look up `banking-app.query.consul` instead of `banking-app.service.consul` via DNS will result in automatic geo failover to the next closest federated Consul datacenters, in order of increasing network round trip time."
   ]
  },
  {
   "cell_type": "markdown",
   "id": "6ef209b4-6bd4-47c4-bf9f-8310ab1932a8",
   "metadata": {},
   "source": [
    "Verify query was added to the system."
   ]
  },
  {
   "cell_type": "code",
   "execution_count": 277,
   "id": "c8f54a8f-c562-4ca2-aaac-87a8e095facf",
   "metadata": {
    "tags": []
   },
   "outputs": [
    {
     "name": "stdout",
     "output_type": "stream",
     "text": [
      "\u001b[1;39m{\n",
      "  \u001b[0m\u001b[34;1m\"ID\"\u001b[0m\u001b[1;39m: \u001b[0m\u001b[0;32m\"c5228df7-b502-384d-2bea-9452e731617c\"\u001b[0m\u001b[1;39m\n",
      "\u001b[1;39m}\u001b[0m\n",
      "\u001b[1;39m{\n",
      "  \u001b[0m\u001b[34;1m\"Type\"\u001b[0m\u001b[1;39m: \u001b[0m\u001b[0;32m\"name_prefix_match\"\u001b[0m\u001b[1;39m,\n",
      "  \u001b[0m\u001b[34;1m\"Regexp\"\u001b[0m\u001b[1;39m: \u001b[0m\u001b[0;32m\"\"\u001b[0m\u001b[1;39m,\n",
      "  \u001b[0m\u001b[34;1m\"RemoveEmptyTags\"\u001b[0m\u001b[1;39m: \u001b[0m\u001b[0;39mfalse\u001b[0m\u001b[1;39m\n",
      "\u001b[1;39m}\u001b[0m\n",
      "\u001b[1;39m{\n",
      "  \u001b[0m\u001b[34;1m\"Service\"\u001b[0m\u001b[1;39m: \u001b[0m\u001b[0;32m\"${name.full}\"\u001b[0m\u001b[1;39m,\n",
      "  \u001b[0m\u001b[34;1m\"Failover\"\u001b[0m\u001b[1;39m: \u001b[0m\u001b[1;39m{\n",
      "    \u001b[0m\u001b[34;1m\"NearestN\"\u001b[0m\u001b[1;39m: \u001b[0m\u001b[0;39m2\u001b[0m\u001b[1;39m,\n",
      "    \u001b[0m\u001b[34;1m\"Datacenters\"\u001b[0m\u001b[1;39m: \u001b[0m\u001b[1;39m[\n",
      "      \u001b[0;32m\"zone1\"\u001b[0m\u001b[1;39m,\n",
      "      \u001b[0;32m\"zone2\"\u001b[0m\u001b[1;39m,\n",
      "      \u001b[0;32m\"zone3\"\u001b[0m\u001b[1;39m\n",
      "    \u001b[1;39m]\u001b[0m\u001b[1;39m\n",
      "  \u001b[1;39m}\u001b[0m\u001b[1;39m,\n",
      "  \u001b[0m\u001b[34;1m\"OnlyPassing\"\u001b[0m\u001b[1;39m: \u001b[0m\u001b[0;39mfalse\u001b[0m\u001b[1;39m,\n",
      "  \u001b[0m\u001b[34;1m\"IgnoreCheckIDs\"\u001b[0m\u001b[1;39m: \u001b[0m\u001b[1;30mnull\u001b[0m\u001b[1;39m,\n",
      "  \u001b[0m\u001b[34;1m\"Near\"\u001b[0m\u001b[1;39m: \u001b[0m\u001b[0;32m\"\"\u001b[0m\u001b[1;39m,\n",
      "  \u001b[0m\u001b[34;1m\"Tags\"\u001b[0m\u001b[1;39m: \u001b[0m\u001b[1;30mnull\u001b[0m\u001b[1;39m,\n",
      "  \u001b[0m\u001b[34;1m\"NodeMeta\"\u001b[0m\u001b[1;39m: \u001b[0m\u001b[1;30mnull\u001b[0m\u001b[1;39m,\n",
      "  \u001b[0m\u001b[34;1m\"ServiceMeta\"\u001b[0m\u001b[1;39m: \u001b[0m\u001b[1;30mnull\u001b[0m\u001b[1;39m,\n",
      "  \u001b[0m\u001b[34;1m\"Connect\"\u001b[0m\u001b[1;39m: \u001b[0m\u001b[0;39mfalse\u001b[0m\u001b[1;39m\n",
      "\u001b[1;39m}\u001b[0m\n"
     ]
    }
   ],
   "source": [
    "curl -s http://127.0.0.1:8500/v1/query | jq -r '.[] | {ID: .ID}, .Template, .Service'"
   ]
  },
  {
   "cell_type": "markdown",
   "id": "f69994d0-86b6-4f16-b1a3-21dc9567663f",
   "metadata": {},
   "source": [
    "Create a new service called `banking-2`."
   ]
  },
  {
   "cell_type": "code",
   "execution_count": 315,
   "id": "76b618a8-3b9c-4de2-8773-fbc04f3fb58a",
   "metadata": {
    "tags": []
   },
   "outputs": [
    {
     "name": "stdout",
     "output_type": "stream",
     "text": [
      "#==> create service definition.\n",
      "\n",
      "#==> register service.\n",
      "Registered service: banking-app-2\n",
      "#==> create service definition.\n",
      "\n",
      "#==> register service.\n",
      "Registered service: banking-app-2\n",
      "#==> create service definition.\n",
      "\n",
      "#==> register service.\n",
      "Registered service: banking-app-2\n"
     ]
    }
   ],
   "source": [
    "for node_number in 0 3 4; do\n",
    "docker exec -i consul-server-${node_number} sh <<EOM\n",
    "printf \"#==> create service definition.\\n\"\n",
    "cat > /tmp/consul_service_2.json <<EOF\n",
    "{\n",
    "    \"service\": {\n",
    "        \"id\": \"banking2\",\n",
    "        \"name\": \"banking-app-2\",\n",
    "        \"Tags\": [\"primary\", \"v1.2.3\"],\n",
    "        \"Address\": \"127.0.0.1\",\n",
    "        \"Port\": 8000,\n",
    "        \"Meta\": {\n",
    "            \"banking_version\": \"4.0\"\n",
    "        },\n",
    "        \"enable_tag_override\": false,\n",
    "        \"Weights\": {\n",
    "            \"Passing\": 10,\n",
    "            \"Warning\": 1\n",
    "        }\n",
    "    }\n",
    "}\n",
    "EOF\n",
    "\n",
    "printf \"\\n#==> register service.\\n\"\n",
    "consul services register /tmp/consul_service_2.json\n",
    "EOM\n",
    "done"
   ]
  },
  {
   "cell_type": "markdown",
   "id": "ddf6c377-2bf1-45a2-8cfd-64d4bb1ae80f",
   "metadata": {},
   "source": [
    "<br>Confirm the new `banking-app-2` shows up in the catalog."
   ]
  },
  {
   "cell_type": "code",
   "execution_count": 301,
   "id": "29fa6f3d-a086-4c9c-b391-c0505e2c25f3",
   "metadata": {},
   "outputs": [
    {
     "name": "stdout",
     "output_type": "stream",
     "text": [
      "banking-app\n",
      "banking-app-2\n",
      "consul\n"
     ]
    }
   ],
   "source": [
    "consul catalog services"
   ]
  },
  {
   "cell_type": "markdown",
   "id": "dac756ec-7bd6-4a15-9744-b1826a9e0b7c",
   "metadata": {},
   "source": [
    "### Verify Prepared Query Templates"
   ]
  },
  {
   "cell_type": "code",
   "execution_count": 303,
   "id": "34c6a271-9a0b-476f-b1b6-3fd6407bc1ba",
   "metadata": {},
   "outputs": [
    {
     "name": "stdout",
     "output_type": "stream",
     "text": [
      ";; OPT PSEUDO\u001b[01;31m\u001b[KSECTION\u001b[m\u001b[K:\n",
      "; EDNS: version: 0, flags:; udp: 4096\n",
      ";; QUESTION \u001b[01;31m\u001b[KSECTION\u001b[m\u001b[K:\n",
      ";banking-app-2.query.consul.\tIN\tSRV\n",
      "\n",
      ";; ANSWER \u001b[01;31m\u001b[KSECTION\u001b[m\u001b[K:\n",
      "banking-app-2.query.consul. 0\tIN\tSRV\t1 10 8000 7f000001.addr.zone1.consul.\n",
      "\n",
      ";; ADDITIONAL \u001b[01;31m\u001b[KSECTION\u001b[m\u001b[K:\n",
      "7f000001.addr.zone1.consul. 0\tIN\tA\t127.0.0.1\n",
      "consul-server-0.node.zone1.consul. 0 IN\tTXT\t\"consul-network-segment=\"\n"
     ]
    }
   ],
   "source": [
    "dig @127.0.0.1 -p 8600 banking-app-2.query.consul srv | grep -A2 SECTION"
   ]
  },
  {
   "cell_type": "markdown",
   "id": "214c6c78-fbdf-4217-a5de-95c43b6c00bc",
   "metadata": {},
   "source": [
    "NOTE: Even though you did not create a prepared query for `banking-app-2`, the template caught the request and responded accordingly."
   ]
  },
  {
   "cell_type": "markdown",
   "id": "38926444-deea-49dc-a43b-0e188bd372b7",
   "metadata": {},
   "source": [
    "Deregister service from DC1"
   ]
  },
  {
   "cell_type": "code",
   "execution_count": 318,
   "id": "9b9bdc08-b233-415a-a63b-5636ff5f67b3",
   "metadata": {},
   "outputs": [
    {
     "name": "stdout",
     "output_type": "stream",
     "text": [
      "Deregistered service: banking2\n"
     ]
    }
   ],
   "source": [
    "consul services deregister -id=banking2"
   ]
  },
  {
   "cell_type": "markdown",
   "id": "6709699e-ec57-478b-a541-6030a81723f3",
   "metadata": {},
   "source": [
    "Verify answer is now for `DC2` or `DC3`"
   ]
  },
  {
   "cell_type": "code",
   "execution_count": 310,
   "id": "36648315-a07e-4dad-bb62-4022e39cca81",
   "metadata": {},
   "outputs": [
    {
     "name": "stdout",
     "output_type": "stream",
     "text": [
      ";; OPT PSEUDO\u001b[01;31m\u001b[KSECTION\u001b[m\u001b[K:\n",
      "; EDNS: version: 0, flags:; udp: 4096\n",
      ";; QUESTION \u001b[01;31m\u001b[KSECTION\u001b[m\u001b[K:\n",
      ";banking-app-2.query.consul.\tIN\tSRV\n",
      "\n",
      ";; ANSWER \u001b[01;31m\u001b[KSECTION\u001b[m\u001b[K:\n",
      "banking-app-2.query.consul. 0\tIN\tSRV\t1 10 8000 7f000001.addr.zone2.consul.\n",
      "\n",
      ";; ADDITIONAL \u001b[01;31m\u001b[KSECTION\u001b[m\u001b[K:\n",
      "7f000001.addr.zone2.consul. 0\tIN\tA\t127.0.0.1\n",
      "consul-server-3.node.zone2.consul. 0 IN\tTXT\t\"zone=zone0\"\n"
     ]
    }
   ],
   "source": [
    "dig @127.0.0.1 -p 8600 banking-app-2.query.consul srv | grep -A2 SECTION"
   ]
  },
  {
   "cell_type": "markdown",
   "id": "e7a178b6-59f7-4c41-8147-e38fc7522877",
   "metadata": {},
   "source": [
    "Sample Output\n",
    "```shell\n",
    "...\n",
    ";; QUESTION SECTION:\n",
    ";banking-app-2.query.consul.\tIN\tSRV\n",
    "\n",
    ";; ANSWER SECTION:\n",
    "banking-app-2.query.consul. 0\tIN\tSRV\t1 10 8000 7f000001.addr.zone2.consul.\n",
    "\n",
    ";; ADDITIONAL SECTION:\n",
    "7f000001.addr.zone2.consul. 0\tIN\tA\t127.0.0.1\n",
    "...\n",
    "```"
   ]
  },
  {
   "cell_type": "markdown",
   "id": "2f45481a-d905-47c1-999e-19a57deb8841",
   "metadata": {},
   "source": [
    "Deregister service from cluster currently in answer.\n",
    "* DC1 = consul-server0\n",
    "* DC2 = consul-server3\n",
    "* DC3 = consul-server4"
   ]
  },
  {
   "cell_type": "code",
   "execution_count": 317,
   "id": "56e27918-7757-41d9-bc46-b2474dcce99a",
   "metadata": {},
   "outputs": [
    {
     "name": "stdout",
     "output_type": "stream",
     "text": [
      "Deregistered service: banking2\n"
     ]
    }
   ],
   "source": [
    "docker exec consul-server-3 consul services deregister -id=banking2"
   ]
  },
  {
   "cell_type": "markdown",
   "id": "409db70f-dea9-4596-8484-e1586b4b6b7d",
   "metadata": {},
   "source": [
    "Verify answer is now for remaining cluster."
   ]
  },
  {
   "cell_type": "code",
   "execution_count": 313,
   "id": "9207ee07-9c1c-4655-bfc1-2a6d163c616e",
   "metadata": {},
   "outputs": [
    {
     "name": "stdout",
     "output_type": "stream",
     "text": [
      ";; \u001b[01;31m\u001b[KANSWER SECTION\u001b[m\u001b[K:\n",
      "banking-app-2.query.consul. 0\tIN\tSRV\t1 10 8000 7f000001.addr.zone3.consul.\n",
      "\n"
     ]
    }
   ],
   "source": [
    "dig @127.0.0.1 -p 8600 banking-app-2.query.consul srv | grep -A2 \"ANSWER SECTION\""
   ]
  },
  {
   "cell_type": "markdown",
   "id": "377bb931-3bad-453c-81c4-14180d0596ee",
   "metadata": {},
   "source": [
    "Sample Output\n",
    "```\n",
    ";; ANSWER SECTION:\n",
    "banking-app-2.query.consul. 0\tIN\tSRV\t1 10 8000 7f000001.addr.zone3.consul.\n",
    "```"
   ]
  },
  {
   "cell_type": "markdown",
   "id": "1a9c835f-47e6-4cc4-ae78-8a3af6e067a3",
   "metadata": {},
   "source": [
    "Deregister service from cluster currently in answer.\n",
    "* DC1 = consul-server0\n",
    "* DC2 = consul-server3\n",
    "* DC3 = consul-server4"
   ]
  },
  {
   "cell_type": "code",
   "execution_count": 319,
   "id": "495c5bf7-f431-45a2-8086-508366b07c11",
   "metadata": {},
   "outputs": [
    {
     "name": "stdout",
     "output_type": "stream",
     "text": [
      "Deregistered service: banking2\n"
     ]
    }
   ],
   "source": [
    "docker exec consul-server-4 consul services deregister -id=banking2"
   ]
  },
  {
   "cell_type": "markdown",
   "id": "afe247da-4089-4b65-a3b4-2cc4b9201996",
   "metadata": {},
   "source": [
    "Verify answer is now unavailable."
   ]
  },
  {
   "cell_type": "code",
   "execution_count": 321,
   "id": "188fa7ab-59f5-4b04-9560-afe4b82d6239",
   "metadata": {},
   "outputs": [],
   "source": [
    "dig @127.0.0.1 -p 8600 banking-app-2.query.consul srv | grep -A2 \"ANSWER SECTION\" || true"
   ]
  },
  {
   "cell_type": "markdown",
   "id": "2d3b53df-283e-423e-aba0-9d733d093d0a",
   "metadata": {},
   "source": [
    "Add service back in and check results. We will add to non-local DC's first."
   ]
  },
  {
   "cell_type": "code",
   "execution_count": 325,
   "id": "4b9ebe42-bdd2-44a3-9d64-9d4f9ca3e4a6",
   "metadata": {},
   "outputs": [
    {
     "name": "stdout",
     "output_type": "stream",
     "text": [
      "\n",
      "#==> register service.\n",
      "Registered service: banking-app-2\n",
      "\n",
      "#==> Check DNS Results.\n",
      ";; \u001b[01;31m\u001b[KANSWER SECTION\u001b[m\u001b[K:\n",
      "banking-app-2.query.consul. 0\tIN\tSRV\t1 10 8000 7f000001.addr.zone3.consul.\n",
      "\n",
      "\n",
      "#==> register service.\n",
      "Registered service: banking-app-2\n",
      "\n",
      "#==> Check DNS Results.\n",
      ";; \u001b[01;31m\u001b[KANSWER SECTION\u001b[m\u001b[K:\n",
      "banking-app-2.query.consul. 0\tIN\tSRV\t1 10 8000 7f000001.addr.zone2.consul.\n",
      "\n",
      "\n",
      "#==> register service.\n",
      "Registered service: banking-app-2\n",
      "\n",
      "#==> Check DNS Results.\n",
      ";; \u001b[01;31m\u001b[KANSWER SECTION\u001b[m\u001b[K:\n",
      "banking-app-2.query.consul. 0\tIN\tSRV\t1 10 8000 7f000001.addr.zone1.consul.\n",
      "\n"
     ]
    }
   ],
   "source": [
    "for node_number in 4 3 0; do\n",
    "docker exec -i consul-server-${node_number} sh <<EOM\n",
    "printf \"\\n#==> register service.\\n\"\n",
    "consul services register /tmp/consul_service_2.json\n",
    "EOM\n",
    "\n",
    "printf \"\\n#==> Check DNS Results.\\n\"\n",
    "dig @127.0.0.1 -p 8600 banking-app-2.query.consul srv | grep -A2 \"ANSWER SECTION\"\n",
    "done"
   ]
  },
  {
   "cell_type": "markdown",
   "id": "58454a0f-1545-4e9c-9837-e5da571ed34c",
   "metadata": {},
   "source": [
    "Verify answer is now for DC1 again."
   ]
  },
  {
   "cell_type": "code",
   "execution_count": 327,
   "id": "cca115a2-2122-4529-ab2e-d1de8f9dc69e",
   "metadata": {},
   "outputs": [
    {
     "name": "stdout",
     "output_type": "stream",
     "text": [
      ";; \u001b[01;31m\u001b[KANSWER SECTION\u001b[m\u001b[K:\n",
      "banking-app-2.query.consul. 0\tIN\tSRV\t1 10 8000 7f000001.addr.zone1.consul.\n",
      "\n"
     ]
    }
   ],
   "source": [
    "dig @127.0.0.1 -p 8600 banking-app-2.query.consul srv | grep -A2 \"ANSWER SECTION\""
   ]
  },
  {
   "cell_type": "markdown",
   "id": "a0456b9d-5045-485e-9692-f2f5a7068a1d",
   "metadata": {},
   "source": [
    "## Next steps\n",
    "\n",
    "In this tutorial, you learned how to use prepared queries for failover when integrating Consul with other applications. You can now configure your policies to failover to the nearest federated datacenter or to a list of secondary datacenters. You can also create a prepared query template which will help you reduce some complexity of creating policies for each individual service."
   ]
  },
  {
   "cell_type": "markdown",
   "id": "95d8297e-7c27-409a-a124-aa0b25a0b840",
   "metadata": {},
   "source": [
    "## Resources\n",
    "\n",
    "* https://learn.hashicorp.com/tutorials/consul/automate-geo-failover\n",
    "* https://www.consul.io/api-docs/query\n",
    "* https://www.devtech101.com/2019/01/30/updated-using-consul-for-service-discovery-in-multiple-data-centers-version-1-4-part-2/\n",
    "* https://www.consul.io/docs/architecture/coordinates\n"
   ]
  }
 ],
 "metadata": {
  "kernelspec": {
   "display_name": "Bash",
   "language": "bash",
   "name": "bash"
  },
  "language_info": {
   "codemirror_mode": "shell",
   "file_extension": ".sh",
   "mimetype": "text/x-sh",
   "name": "bash"
  }
 },
 "nbformat": 4,
 "nbformat_minor": 5
}
