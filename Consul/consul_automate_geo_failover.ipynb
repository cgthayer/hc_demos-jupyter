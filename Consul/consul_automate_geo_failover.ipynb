{
 "cells": [
  {
   "cell_type": "markdown",
   "id": "7e94f133-5f8e-4fd6-9f87-b781e1a584eb",
   "metadata": {},
   "source": [
    "# Consul Failover with Prepared Queries\n",
    "\n",
    "* **Static** lists of **alternate datacenters**\n",
    "* **Dynamic** policies that make use of network **Round Trip Time (RTT)**\n",
    "* **Hybrid** policies that make use of network RTT 1st then alternate DC's\n",
    "* **Template** allows one prepared query to apply to many or **all services**\n",
    "\n",
    "https://learn.hashicorp.com/tutorials/consul/automate-geo-failover"
   ]
  },
  {
   "cell_type": "markdown",
   "id": "97e3dde8-51b2-4019-a636-9327d83eed21",
   "metadata": {},
   "source": [
    "### Register a Service"
   ]
  },
  {
   "cell_type": "code",
   "execution_count": 39,
   "id": "fc4e80f1-ab2f-4a49-a3de-85d27aa75808",
   "metadata": {
    "collapsed": true,
    "jupyter": {
     "outputs_hidden": true
    },
    "tags": []
   },
   "outputs": [
    {
     "name": "stdout",
     "output_type": "stream",
     "text": [
      "#==> create service definition.\n",
      "\n",
      "#==> register service.\n",
      "  % Total    % Received % Xferd  Average Speed   Time    Time     Time  Current\n",
      "                                 Dload  Upload   Total   Spent    Left  Speed\n",
      "100   174    0     0  100   174      0   6449 --:--:-- --:--:-- --:--:--  6692\n",
      "#==> create service definition.\n",
      "\n",
      "#==> register service.\n",
      "  % Total    % Received % Xferd  Average Speed   Time    Time     Time  Current\n",
      "                                 Dload  Upload   Total   Spent    Left  Speed\n",
      "100   174    0     0  100   174      0   8980 --:--:-- --:--:-- --:--:--  9666\n",
      "#==> create service definition.\n",
      "\n",
      "#==> register service.\n",
      "  % Total    % Received % Xferd  Average Speed   Time    Time     Time  Current\n",
      "                                 Dload  Upload   Total   Spent    Left  Speed\n",
      "100   174    0     0  100   174      0  11705 --:--:-- --:--:-- --:--:-- 12428\n"
     ]
    }
   ],
   "source": [
    "for node_number in 0 3 4; do\n",
    "docker exec -i consul-server-${node_number} sh <<EOM\n",
    "printf \"#==> create service definition.\\n\"\n",
    "cat > /tmp/consul_service.json <<EOF\n",
    "{\n",
    "  \"ID\": \"redis1\",\n",
    "  \"Name\": \"redis\",\n",
    "  \"Tags\": [\"primary\", \"v1\"],\n",
    "  \"Address\": \"127.0.0.1\",\n",
    "  \"Port\": 8000,\n",
    "  \"Meta\": {\n",
    "    \"redis_version\": \"4.0\"\n",
    "  },\n",
    "  \"EnableTagOverride\": false\n",
    "}\n",
    "EOF\n",
    "#   \"Check\": {\n",
    "#     \"DeregisterCriticalServiceAfter\": \"90m\",\n",
    "#     \"Args\": [\"/usr/local/bin/check_redis.py\"],\n",
    "#     \"Interval\": \"10s\",\n",
    "#     \"Timeout\": \"5s\"\n",
    "#   },\n",
    "#   \"Weights\": {\n",
    "#     \"Passing\": 10,\n",
    "#     \"Warning\": 1\n",
    "#   }\n",
    "# }\n",
    "# EOF\n",
    "printf \"\\n#==> register service.\\n\"\n",
    "\n",
    "curl \\\n",
    "    --request PUT \\\n",
    "    --data @/tmp/consul_service.json \\\n",
    "    http://127.0.0.1:8500/v1/agent/service/register #?replace-existing-checks=true\n",
    "EOM\n",
    "done"
   ]
  },
  {
   "cell_type": "code",
   "execution_count": 10,
   "id": "7fbab124-4946-4b89-9412-c2f3a229dbde",
   "metadata": {},
   "outputs": [],
   "source": [
    "curl \\\n",
    "    --request PUT \\\n",
    "    http://127.0.0.1:8500/v1/agent/service/deregister/redis1"
   ]
  },
  {
   "cell_type": "markdown",
   "id": "d682f774-2ea7-4a35-8322-4ef2bf9fd5d5",
   "metadata": {},
   "source": [
    "## Static policy\n",
    "\n",
    "A static failover policy includes a fixed list of datacenters to contact once there are no healthy instances in the local datacenter.\n",
    "\n",
    "Here's the example from the introduction, expanded with a static failover policy:"
   ]
  },
  {
   "cell_type": "code",
   "execution_count": 1,
   "id": "9da5f38f-121c-44ca-b7fa-95f36f3a4328",
   "metadata": {},
   "outputs": [],
   "source": [
    "export CONSUL_DC=west CONSUL_DC_2=dc2"
   ]
  },
  {
   "cell_type": "code",
   "execution_count": 53,
   "id": "7510e7c9-6feb-426d-b727-86347a9ea2b8",
   "metadata": {},
   "outputs": [
    {
     "name": "stdout",
     "output_type": "stream",
     "text": [
      "{\"ID\":\"d28c8ed3-b2de-ebaa-4d8b-1a3845b89e4d\"}"
     ]
    }
   ],
   "source": [
    "curl http://127.0.0.1:8500/v1/query \\\n",
    "    --request POST \\\n",
    "    --data @- << EOF\n",
    "{\n",
    "  \"Name\": \"redis-prod\",\n",
    "  \"Service\": {\n",
    "    \"Service\": \"redis\",\n",
    "    \"Failover\": {\n",
    "      \"Datacenters\": [\"${CONSUL_DC}\", \"${CONSUL_DC_2}\"]\n",
    "    }\n",
    "  }\n",
    "}\n",
    "EOF"
   ]
  },
  {
   "cell_type": "markdown",
   "id": "a43d1c57-a556-4561-b340-a57cc8b03051",
   "metadata": {},
   "source": [
    "When this query is executed, such as with a DNS lookup to \"`banking-app.query.consul`\", the following actions will occur:\n",
    "\n",
    "    Consul servers in the local datacenter will attempt to find healthy instances of the \"banking-app\" service with the required tag.\n",
    "    If none are available locally, the Consul servers will make an RPC request to the Consul servers in \"dc2\" to perform the query there.\n",
    "    If none are available in \"dc2\", then an RPC will be made to the Consul servers in \"dc3\" to perform the query there.\n",
    "    Finally an error will be returned if none of these datacenters had any instances available."
   ]
  },
  {
   "cell_type": "markdown",
   "id": "57454c2f-e945-4a6b-ac8b-15d56fd6fdb2",
   "metadata": {},
   "source": [
    "### Verify Prepared Queries were added to the system"
   ]
  },
  {
   "cell_type": "code",
   "execution_count": 57,
   "id": "a4d53f2c-61b1-488b-a3c0-348494a4fd1e",
   "metadata": {
    "tags": []
   },
   "outputs": [
    {
     "name": "stdout",
     "output_type": "stream",
     "text": [
      "\u001b[1;39m[\n",
      "  \u001b[1;39m{\n",
      "    \u001b[0m\u001b[34;1m\"ID\"\u001b[0m\u001b[1;39m: \u001b[0m\u001b[0;32m\"8d6df755-5de4-1fc7-a695-3cc6bb063f90\"\u001b[0m\u001b[1;39m,\n",
      "    \u001b[0m\u001b[34;1m\"Name\"\u001b[0m\u001b[1;39m: \u001b[0m\u001b[0;32m\"\"\u001b[0m\u001b[1;39m,\n",
      "    \u001b[0m\u001b[34;1m\"Session\"\u001b[0m\u001b[1;39m: \u001b[0m\u001b[0;32m\"\"\u001b[0m\u001b[1;39m,\n",
      "    \u001b[0m\u001b[34;1m\"Token\"\u001b[0m\u001b[1;39m: \u001b[0m\u001b[0;32m\"\"\u001b[0m\u001b[1;39m,\n",
      "    \u001b[0m\u001b[34;1m\"Template\"\u001b[0m\u001b[1;39m: \u001b[0m\u001b[1;39m{\n",
      "      \u001b[0m\u001b[34;1m\"Type\"\u001b[0m\u001b[1;39m: \u001b[0m\u001b[0;32m\"name_prefix_match\"\u001b[0m\u001b[1;39m,\n",
      "      \u001b[0m\u001b[34;1m\"Regexp\"\u001b[0m\u001b[1;39m: \u001b[0m\u001b[0;32m\"\"\u001b[0m\u001b[1;39m,\n",
      "      \u001b[0m\u001b[34;1m\"RemoveEmptyTags\"\u001b[0m\u001b[1;39m: \u001b[0m\u001b[0;39mfalse\u001b[0m\u001b[1;39m\n",
      "    \u001b[1;39m}\u001b[0m\u001b[1;39m,\n",
      "    \u001b[0m\u001b[34;1m\"Service\"\u001b[0m\u001b[1;39m: \u001b[0m\u001b[1;39m{\n",
      "      \u001b[0m\u001b[34;1m\"Service\"\u001b[0m\u001b[1;39m: \u001b[0m\u001b[0;32m\"${name.full}\"\u001b[0m\u001b[1;39m,\n",
      "      \u001b[0m\u001b[34;1m\"Failover\"\u001b[0m\u001b[1;39m: \u001b[0m\u001b[1;39m{\n",
      "        \u001b[0m\u001b[34;1m\"NearestN\"\u001b[0m\u001b[1;39m: \u001b[0m\u001b[0;39m2\u001b[0m\u001b[1;39m,\n",
      "        \u001b[0m\u001b[34;1m\"Datacenters\"\u001b[0m\u001b[1;39m: \u001b[0m\u001b[1;30mnull\u001b[0m\u001b[1;39m\n",
      "      \u001b[1;39m}\u001b[0m\u001b[1;39m,\n",
      "      \u001b[0m\u001b[34;1m\"OnlyPassing\"\u001b[0m\u001b[1;39m: \u001b[0m\u001b[0;39mfalse\u001b[0m\u001b[1;39m,\n",
      "      \u001b[0m\u001b[34;1m\"IgnoreCheckIDs\"\u001b[0m\u001b[1;39m: \u001b[0m\u001b[1;30mnull\u001b[0m\u001b[1;39m,\n",
      "      \u001b[0m\u001b[34;1m\"Near\"\u001b[0m\u001b[1;39m: \u001b[0m\u001b[0;32m\"\"\u001b[0m\u001b[1;39m,\n",
      "      \u001b[0m\u001b[34;1m\"Tags\"\u001b[0m\u001b[1;39m: \u001b[0m\u001b[1;30mnull\u001b[0m\u001b[1;39m,\n",
      "      \u001b[0m\u001b[34;1m\"NodeMeta\"\u001b[0m\u001b[1;39m: \u001b[0m\u001b[1;30mnull\u001b[0m\u001b[1;39m,\n",
      "      \u001b[0m\u001b[34;1m\"ServiceMeta\"\u001b[0m\u001b[1;39m: \u001b[0m\u001b[1;30mnull\u001b[0m\u001b[1;39m,\n",
      "      \u001b[0m\u001b[34;1m\"Connect\"\u001b[0m\u001b[1;39m: \u001b[0m\u001b[0;39mfalse\u001b[0m\u001b[1;39m\n",
      "    \u001b[1;39m}\u001b[0m\u001b[1;39m,\n",
      "    \u001b[0m\u001b[34;1m\"DNS\"\u001b[0m\u001b[1;39m: \u001b[0m\u001b[1;39m{\n",
      "      \u001b[0m\u001b[34;1m\"TTL\"\u001b[0m\u001b[1;39m: \u001b[0m\u001b[0;32m\"\"\u001b[0m\u001b[1;39m\n",
      "    \u001b[1;39m}\u001b[0m\u001b[1;39m,\n",
      "    \u001b[0m\u001b[34;1m\"CreateIndex\"\u001b[0m\u001b[1;39m: \u001b[0m\u001b[0;39m5524\u001b[0m\u001b[1;39m,\n",
      "    \u001b[0m\u001b[34;1m\"ModifyIndex\"\u001b[0m\u001b[1;39m: \u001b[0m\u001b[0;39m5524\u001b[0m\u001b[1;39m\n",
      "  \u001b[1;39m}\u001b[0m\u001b[1;39m\n",
      "\u001b[1;39m]\u001b[0m\n"
     ]
    }
   ],
   "source": [
    "PREPARED_QUERIES=$(curl -s http://127.0.0.1:8500/v1/query | jq \".\") \\\n",
    "  && echo $PREPARED_QUERIES | jq"
   ]
  },
  {
   "cell_type": "code",
   "execution_count": 51,
   "id": "9d9e0a03-7bb8-46f0-9f97-9129dc0f9cd1",
   "metadata": {},
   "outputs": [
    {
     "name": "stdout",
     "output_type": "stream",
     "text": [
      "\n",
      "; <<>> DiG 9.16.1-Ubuntu <<>> @127.0.0.1 -p 8600 redis-prod.query.consul srv\n",
      "; (1 server found)\n",
      ";; global options: +cmd\n",
      ";; Got answer:\n",
      ";; ->>HEADER<<- opcode: QUERY, status: NXDOMAIN, id: 63353\n",
      ";; flags: qr aa rd; QUERY: 1, ANSWER: 0, AUTHORITY: 1, ADDITIONAL: 1\n",
      ";; WARNING: recursion requested but not available\n",
      "\n",
      ";; OPT PSEUDOSECTION:\n",
      "; EDNS: version: 0, flags:; udp: 4096\n",
      ";; QUESTION SECTION:\n",
      ";redis-prod.query.consul.\tIN\tSRV\n",
      "\n",
      ";; AUTHORITY SECTION:\n",
      "consul.\t\t\t0\tIN\tSOA\tns.consul. hostmaster.consul. 1639160756 3600 600 86400 0\n",
      "\n",
      ";; Query time: 7 msec\n",
      ";; SERVER: 127.0.0.1#8600(127.0.0.1)\n",
      ";; WHEN: Fri Dec 10 18:25:56 UTC 2021\n",
      ";; MSG SIZE  rcvd: 102\n",
      "\n"
     ]
    }
   ],
   "source": [
    "dig @127.0.0.1 -p 8600 redis-prod.query.consul srv"
   ]
  },
  {
   "cell_type": "markdown",
   "id": "d92beab3-3f67-4647-b1f1-bdea3bb77f8f",
   "metadata": {},
   "source": [
    "### Deregister service from DC1"
   ]
  },
  {
   "cell_type": "code",
   "execution_count": 35,
   "id": "e74bfbb6-3ac6-4cb1-a4b1-a355e052f09a",
   "metadata": {},
   "outputs": [
    {
     "name": "stdout",
     "output_type": "stream",
     "text": [
      "  % Total    % Received % Xferd  Average Speed   Time    Time     Time  Current\n",
      "                                 Dload  Upload   Total   Spent    Left  Speed\n",
      "  0     0    0     0    0     0      0      0 --:--:-- --:--:-- --:--:--     0\n"
     ]
    }
   ],
   "source": [
    "docker exec consul-server-0 \\\n",
    "curl \\\n",
    "    --request PUT \\\n",
    "    http://127.0.0.1:8500/v1/agent/service/deregister/redis1"
   ]
  },
  {
   "cell_type": "markdown",
   "id": "3e29bc4e-7cb3-4f4c-8aa2-e619cc44285b",
   "metadata": {},
   "source": [
    "Verify answer is now for DC2"
   ]
  },
  {
   "cell_type": "code",
   "execution_count": 36,
   "id": "9ff3ed44-1c45-4c4f-b6ae-86bf1d42ff00",
   "metadata": {},
   "outputs": [
    {
     "name": "stdout",
     "output_type": "stream",
     "text": [
      "\n",
      "; <<>> DiG 9.16.1-Ubuntu <<>> @127.0.0.1 -p 8600 redis-prod.query.consul srv\n",
      "; (1 server found)\n",
      ";; global options: +cmd\n",
      ";; Got answer:\n",
      ";; ->>HEADER<<- opcode: QUERY, status: NOERROR, id: 3120\n",
      ";; flags: qr aa rd; QUERY: 1, ANSWER: 1, AUTHORITY: 0, ADDITIONAL: 4\n",
      ";; WARNING: recursion requested but not available\n",
      "\n",
      ";; OPT PSEUDOSECTION:\n",
      "; EDNS: version: 0, flags:; udp: 4096\n",
      ";; QUESTION SECTION:\n",
      ";redis-prod.query.consul.\tIN\tSRV\n",
      "\n",
      ";; ANSWER SECTION:\n",
      "redis-prod.query.consul. 0\tIN\tSRV\t1 1 8000 7f000001.addr.dc2.consul.\n",
      "\n",
      ";; ADDITIONAL SECTION:\n",
      "7f000001.addr.dc2.consul. 0\tIN\tA\t127.0.0.1\n",
      "consul-server-3.node.dc2.consul. 0 IN\tTXT\t\"consul-network-segment=\"\n",
      "consul-server-3.node.dc2.consul. 0 IN\tTXT\t\"zone=zone0\"\n",
      "\n",
      ";; Query time: 3 msec\n",
      ";; SERVER: 127.0.0.1#8600(127.0.0.1)\n",
      ";; WHEN: Fri Dec 10 16:59:40 UTC 2021\n",
      ";; MSG SIZE  rcvd: 192\n",
      "\n"
     ]
    }
   ],
   "source": [
    "dig @127.0.0.1 -p 8600 redis-prod.query.consul srv"
   ]
  },
  {
   "cell_type": "markdown",
   "id": "0b6c7189-01dd-4801-820f-ec6866f9840b",
   "metadata": {},
   "source": [
    "Add service back in."
   ]
  },
  {
   "cell_type": "code",
   "execution_count": 37,
   "id": "25e29228-d883-4afb-8dfe-bdc54de86327",
   "metadata": {},
   "outputs": [
    {
     "name": "stdout",
     "output_type": "stream",
     "text": [
      "\n",
      "#==> register service.\n",
      "  % Total    % Received % Xferd  Average Speed   Time    Time     Time  Current\n",
      "                                 Dload  Upload   Total   Spent    Left  Speed\n",
      "100   174    0     0  100   174      0   3203 --:--:-- --:--:-- --:--:--  3283\n"
     ]
    }
   ],
   "source": [
    "for node_number in 0; do\n",
    "docker exec -i consul-server-${node_number} sh <<EOM\n",
    "printf \"\\n#==> register service.\\n\"\n",
    "\n",
    "curl \\\n",
    "    --request PUT \\\n",
    "    --data @/tmp/consul_service.json \\\n",
    "    http://127.0.0.1:8500/v1/agent/service/register #?replace-existing-checks=true\n",
    "EOM\n",
    "done"
   ]
  },
  {
   "cell_type": "markdown",
   "id": "04349e72-eb29-4de2-82f4-a8a3481572ed",
   "metadata": {},
   "source": [
    "Verify answer is now for DC1 again."
   ]
  },
  {
   "cell_type": "code",
   "execution_count": 38,
   "id": "f0ad01bd-a8df-4b92-a4a6-f258c7f41630",
   "metadata": {},
   "outputs": [
    {
     "name": "stdout",
     "output_type": "stream",
     "text": [
      "\n",
      "; <<>> DiG 9.16.1-Ubuntu <<>> @127.0.0.1 -p 8600 redis-prod.query.consul srv\n",
      "; (1 server found)\n",
      ";; global options: +cmd\n",
      ";; Got answer:\n",
      ";; ->>HEADER<<- opcode: QUERY, status: NOERROR, id: 63677\n",
      ";; flags: qr aa rd; QUERY: 1, ANSWER: 1, AUTHORITY: 0, ADDITIONAL: 3\n",
      ";; WARNING: recursion requested but not available\n",
      "\n",
      ";; OPT PSEUDOSECTION:\n",
      "; EDNS: version: 0, flags:; udp: 4096\n",
      ";; QUESTION SECTION:\n",
      ";redis-prod.query.consul.\tIN\tSRV\n",
      "\n",
      ";; ANSWER SECTION:\n",
      "redis-prod.query.consul. 0\tIN\tSRV\t1 1 8000 7f000001.addr.west.consul.\n",
      "\n",
      ";; ADDITIONAL SECTION:\n",
      "7f000001.addr.west.consul. 0\tIN\tA\t127.0.0.1\n",
      "consul-server-0.node.west.consul. 0 IN\tTXT\t\"consul-network-segment=\"\n",
      "\n",
      ";; Query time: 0 msec\n",
      ";; SERVER: 127.0.0.1#8600(127.0.0.1)\n",
      ";; WHEN: Fri Dec 10 17:00:56 UTC 2021\n",
      ";; MSG SIZE  rcvd: 170\n",
      "\n"
     ]
    }
   ],
   "source": [
    "dig @127.0.0.1 -p 8600 redis-prod.query.consul srv"
   ]
  },
  {
   "cell_type": "markdown",
   "id": "47515876-506b-4d17-bb9c-16f9c9150ad6",
   "metadata": {},
   "source": [
    "## Delete prepared query"
   ]
  },
  {
   "cell_type": "code",
   "execution_count": 71,
   "id": "4c7136fa-7801-4d9e-9a05-3b33d28fc578",
   "metadata": {},
   "outputs": [],
   "source": [
    "curl -s http://127.0.0.1:8500/v1/query/$(echo $PREPARED_QUERIES | jq -r .[0].ID) -X DELETE"
   ]
  },
  {
   "cell_type": "markdown",
   "id": "f817d2c6-765e-4f28-a469-63a5bf696513",
   "metadata": {},
   "source": [
    "## Prepared query template"
   ]
  },
  {
   "cell_type": "markdown",
   "id": "c1798c07-71be-4e12-ab11-7f96299fd56a",
   "metadata": {},
   "source": [
    "For datacenters with many services, it can be challenging to define a geo failover policy for each service. To relieve this challenge, Consul provides a [prepared query template](https://www.consul.io/api/query.html#prepared-query-templates) that allows one prepared query to apply to many, and even all, services.\n",
    "\n",
    "Templates can match on prefixes or use full regular expressions to determine which services they match.\n",
    "\n",
    "Below is an example request to create a prepared query template that applies a catch-all policy of dynamic geo failover to all services accessed by query lookup (`*.query.consul`). By specifying the `name_prefix_match` type and an empty name, this query template's policy will be applied to any name (`<name>.query.consul`) that doesn't [match a higher-precedence query](https://www.consul.io/api-docs/query#type).\n",
    "\n",
    "```shell\n",
    "$ curl http://127.0.0.1:8500/v1/query \\\n",
    "    --request POST \\\n",
    "    --data @- << EOF\n",
    "{\n",
    "  \"Name\": \"\",\n",
    "  \"Template\": {\n",
    "    \"Type\": \"name_prefix_match\"\n",
    "  },\n",
    "  \"Service\": {\n",
    "    \"Service\": \"${name.full}\",\n",
    "    \"Failover\": {\n",
    "      \"NearestN\": 2\n",
    "    }\n",
    "  }\n",
    "}\n",
    "EOF\n",
    "```"
   ]
  },
  {
   "cell_type": "code",
   "execution_count": 72,
   "id": "2a5a2d4a-3a28-46d8-85e3-e6bba85c42ef",
   "metadata": {},
   "outputs": [
    {
     "name": "stdout",
     "output_type": "stream",
     "text": [
      "{\"ID\":\"acd3de07-868a-bbf0-f02d-8d16a00249d2\"}"
     ]
    }
   ],
   "source": [
    "curl http://127.0.0.1:8500/v1/query \\\n",
    "    --request POST \\\n",
    "    --data @- << \"EOF\"\n",
    "{\n",
    "  \"Name\": \"\",\n",
    "  \"Template\": {\n",
    "    \"Type\": \"name_prefix_match\"\n",
    "  },\n",
    "  \"Service\": {\n",
    "    \"Service\": \"${name.full}\",\n",
    "    \"Failover\": {\n",
    "      \"NearestN\": 2,\n",
    "      \"Datacenters\": [\"west\",\"dc2\",\"dc3\"]\n",
    "    }\n",
    "  }\n",
    "}\n",
    "EOF"
   ]
  },
  {
   "cell_type": "markdown",
   "id": "6ef209b4-6bd4-47c4-bf9f-8310ab1932a8",
   "metadata": {},
   "source": [
    "Verify query was added to the system."
   ]
  },
  {
   "cell_type": "code",
   "execution_count": 67,
   "id": "c8f54a8f-c562-4ca2-aaac-87a8e095facf",
   "metadata": {
    "tags": []
   },
   "outputs": [
    {
     "name": "stdout",
     "output_type": "stream",
     "text": [
      "\u001b[1;39m[\n",
      "  \u001b[1;39m{\n",
      "    \u001b[0m\u001b[34;1m\"ID\"\u001b[0m\u001b[1;39m: \u001b[0m\u001b[0;32m\"8d6df755-5de4-1fc7-a695-3cc6bb063f90\"\u001b[0m\u001b[1;39m,\n",
      "    \u001b[0m\u001b[34;1m\"Name\"\u001b[0m\u001b[1;39m: \u001b[0m\u001b[0;32m\"\"\u001b[0m\u001b[1;39m,\n",
      "    \u001b[0m\u001b[34;1m\"Session\"\u001b[0m\u001b[1;39m: \u001b[0m\u001b[0;32m\"\"\u001b[0m\u001b[1;39m,\n",
      "    \u001b[0m\u001b[34;1m\"Token\"\u001b[0m\u001b[1;39m: \u001b[0m\u001b[0;32m\"\"\u001b[0m\u001b[1;39m,\n",
      "    \u001b[0m\u001b[34;1m\"Template\"\u001b[0m\u001b[1;39m: \u001b[0m\u001b[1;39m{\n",
      "      \u001b[0m\u001b[34;1m\"Type\"\u001b[0m\u001b[1;39m: \u001b[0m\u001b[0;32m\"name_prefix_match\"\u001b[0m\u001b[1;39m,\n",
      "      \u001b[0m\u001b[34;1m\"Regexp\"\u001b[0m\u001b[1;39m: \u001b[0m\u001b[0;32m\"\"\u001b[0m\u001b[1;39m,\n",
      "      \u001b[0m\u001b[34;1m\"RemoveEmptyTags\"\u001b[0m\u001b[1;39m: \u001b[0m\u001b[0;39mfalse\u001b[0m\u001b[1;39m\n",
      "    \u001b[1;39m}\u001b[0m\u001b[1;39m,\n",
      "    \u001b[0m\u001b[34;1m\"Service\"\u001b[0m\u001b[1;39m: \u001b[0m\u001b[1;39m{\n",
      "      \u001b[0m\u001b[34;1m\"Service\"\u001b[0m\u001b[1;39m: \u001b[0m\u001b[0;32m\"${name.full}\"\u001b[0m\u001b[1;39m,\n",
      "      \u001b[0m\u001b[34;1m\"Failover\"\u001b[0m\u001b[1;39m: \u001b[0m\u001b[1;39m{\n",
      "        \u001b[0m\u001b[34;1m\"NearestN\"\u001b[0m\u001b[1;39m: \u001b[0m\u001b[0;39m2\u001b[0m\u001b[1;39m,\n",
      "        \u001b[0m\u001b[34;1m\"Datacenters\"\u001b[0m\u001b[1;39m: \u001b[0m\u001b[1;30mnull\u001b[0m\u001b[1;39m\n",
      "      \u001b[1;39m}\u001b[0m\u001b[1;39m,\n",
      "      \u001b[0m\u001b[34;1m\"OnlyPassing\"\u001b[0m\u001b[1;39m: \u001b[0m\u001b[0;39mfalse\u001b[0m\u001b[1;39m,\n",
      "      \u001b[0m\u001b[34;1m\"IgnoreCheckIDs\"\u001b[0m\u001b[1;39m: \u001b[0m\u001b[1;30mnull\u001b[0m\u001b[1;39m,\n",
      "      \u001b[0m\u001b[34;1m\"Near\"\u001b[0m\u001b[1;39m: \u001b[0m\u001b[0;32m\"\"\u001b[0m\u001b[1;39m,\n",
      "      \u001b[0m\u001b[34;1m\"Tags\"\u001b[0m\u001b[1;39m: \u001b[0m\u001b[1;30mnull\u001b[0m\u001b[1;39m,\n",
      "      \u001b[0m\u001b[34;1m\"NodeMeta\"\u001b[0m\u001b[1;39m: \u001b[0m\u001b[1;30mnull\u001b[0m\u001b[1;39m,\n",
      "      \u001b[0m\u001b[34;1m\"ServiceMeta\"\u001b[0m\u001b[1;39m: \u001b[0m\u001b[1;30mnull\u001b[0m\u001b[1;39m,\n",
      "      \u001b[0m\u001b[34;1m\"Connect\"\u001b[0m\u001b[1;39m: \u001b[0m\u001b[0;39mfalse\u001b[0m\u001b[1;39m\n",
      "    \u001b[1;39m}\u001b[0m\u001b[1;39m,\n",
      "    \u001b[0m\u001b[34;1m\"DNS\"\u001b[0m\u001b[1;39m: \u001b[0m\u001b[1;39m{\n",
      "      \u001b[0m\u001b[34;1m\"TTL\"\u001b[0m\u001b[1;39m: \u001b[0m\u001b[0;32m\"\"\u001b[0m\u001b[1;39m\n",
      "    \u001b[1;39m}\u001b[0m\u001b[1;39m,\n",
      "    \u001b[0m\u001b[34;1m\"CreateIndex\"\u001b[0m\u001b[1;39m: \u001b[0m\u001b[0;39m5524\u001b[0m\u001b[1;39m,\n",
      "    \u001b[0m\u001b[34;1m\"ModifyIndex\"\u001b[0m\u001b[1;39m: \u001b[0m\u001b[0;39m5524\u001b[0m\u001b[1;39m\n",
      "  \u001b[1;39m}\u001b[0m\u001b[1;39m\n",
      "\u001b[1;39m]\u001b[0m\n"
     ]
    }
   ],
   "source": [
    "curl -s http://127.0.0.1:8500/v1/query | jq"
   ]
  },
  {
   "cell_type": "code",
   "execution_count": 74,
   "id": "34c6a271-9a0b-476f-b1b6-3fd6407bc1ba",
   "metadata": {},
   "outputs": [
    {
     "name": "stdout",
     "output_type": "stream",
     "text": [
      "\n",
      "; <<>> DiG 9.16.1-Ubuntu <<>> @127.0.0.1 -p 8600 redis.query.consul srv\n",
      "; (1 server found)\n",
      ";; global options: +cmd\n",
      ";; Got answer:\n",
      ";; ->>HEADER<<- opcode: QUERY, status: NOERROR, id: 29570\n",
      ";; flags: qr aa rd; QUERY: 1, ANSWER: 1, AUTHORITY: 0, ADDITIONAL: 3\n",
      ";; WARNING: recursion requested but not available\n",
      "\n",
      ";; OPT PSEUDOSECTION:\n",
      "; EDNS: version: 0, flags:; udp: 4096\n",
      ";; QUESTION SECTION:\n",
      ";redis.query.consul.\t\tIN\tSRV\n",
      "\n",
      ";; ANSWER SECTION:\n",
      "redis.query.consul.\t0\tIN\tSRV\t1 1 8000 7f000001.addr.west.consul.\n",
      "\n",
      ";; ADDITIONAL SECTION:\n",
      "7f000001.addr.west.consul. 0\tIN\tA\t127.0.0.1\n",
      "consul-server-0.node.west.consul. 0 IN\tTXT\t\"consul-network-segment=\"\n",
      "\n",
      ";; Query time: 0 msec\n",
      ";; SERVER: 127.0.0.1#8600(127.0.0.1)\n",
      ";; WHEN: Fri Dec 10 18:39:11 UTC 2021\n",
      ";; MSG SIZE  rcvd: 165\n",
      "\n"
     ]
    }
   ],
   "source": [
    "dig @127.0.0.1 -p 8600 redis.query.consul srv"
   ]
  },
  {
   "cell_type": "markdown",
   "id": "38926444-deea-49dc-a43b-0e188bd372b7",
   "metadata": {},
   "source": [
    "### Deregister service from DC1"
   ]
  },
  {
   "cell_type": "code",
   "execution_count": 75,
   "id": "1c2af46d-b595-4a4e-9f0b-e25dbb2faa39",
   "metadata": {},
   "outputs": [
    {
     "name": "stdout",
     "output_type": "stream",
     "text": [
      "  % Total    % Received % Xferd  Average Speed   Time    Time     Time  Current\n",
      "                                 Dload  Upload   Total   Spent    Left  Speed\n",
      "  0     0    0     0    0     0      0      0 --:--:-- --:--:-- --:--:--     0\n"
     ]
    }
   ],
   "source": [
    "docker exec consul-server-0 \\\n",
    "curl \\\n",
    "    --request PUT \\\n",
    "    http://127.0.0.1:8500/v1/agent/service/deregister/redis1"
   ]
  },
  {
   "cell_type": "markdown",
   "id": "6709699e-ec57-478b-a541-6030a81723f3",
   "metadata": {},
   "source": [
    "Verify answer is now for DC2 or DC3"
   ]
  },
  {
   "cell_type": "code",
   "execution_count": 81,
   "id": "36648315-a07e-4dad-bb62-4022e39cca81",
   "metadata": {},
   "outputs": [
    {
     "name": "stdout",
     "output_type": "stream",
     "text": [
      "\n",
      "; <<>> DiG 9.16.1-Ubuntu <<>> @127.0.0.1 -p 8600 redis.query.consul srv\n",
      "; (1 server found)\n",
      ";; global options: +cmd\n",
      ";; Got answer:\n",
      ";; ->>HEADER<<- opcode: QUERY, status: NOERROR, id: 62228\n",
      ";; flags: qr aa rd; QUERY: 1, ANSWER: 1, AUTHORITY: 0, ADDITIONAL: 4\n",
      ";; WARNING: recursion requested but not available\n",
      "\n",
      ";; OPT PSEUDOSECTION:\n",
      "; EDNS: version: 0, flags:; udp: 4096\n",
      ";; QUESTION SECTION:\n",
      ";redis.query.consul.\t\tIN\tSRV\n",
      "\n",
      ";; ANSWER SECTION:\n",
      "redis.query.consul.\t0\tIN\tSRV\t1 1 8000 7f000001.addr.dc3.consul.\n",
      "\n",
      ";; ADDITIONAL SECTION:\n",
      "7f000001.addr.dc3.consul. 0\tIN\tA\t127.0.0.1\n",
      "consul-server-4.node.dc3.consul. 0 IN\tTXT\t\"consul-network-segment=\"\n",
      "consul-server-4.node.dc3.consul. 0 IN\tTXT\t\"zone=zone1\"\n",
      "\n",
      ";; Query time: 3 msec\n",
      ";; SERVER: 127.0.0.1#8600(127.0.0.1)\n",
      ";; WHEN: Fri Dec 10 18:48:10 UTC 2021\n",
      ";; MSG SIZE  rcvd: 187\n",
      "\n"
     ]
    }
   ],
   "source": [
    "dig @127.0.0.1 -p 8600 redis.query.consul srv"
   ]
  },
  {
   "cell_type": "markdown",
   "id": "2d3b53df-283e-423e-aba0-9d733d093d0a",
   "metadata": {},
   "source": [
    "Add service back in."
   ]
  },
  {
   "cell_type": "code",
   "execution_count": 82,
   "id": "4b9ebe42-bdd2-44a3-9d64-9d4f9ca3e4a6",
   "metadata": {},
   "outputs": [
    {
     "name": "stdout",
     "output_type": "stream",
     "text": [
      "\n",
      "#==> register service.\n",
      "  % Total    % Received % Xferd  Average Speed   Time    Time     Time  Current\n",
      "                                 Dload  Upload   Total   Spent    Left  Speed\n",
      "100   174    0     0  100   174      0   2969 --:--:-- --:--:-- --:--:--  3000\n"
     ]
    }
   ],
   "source": [
    "for node_number in 0; do\n",
    "docker exec -i consul-server-${node_number} sh <<EOM\n",
    "printf \"\\n#==> register service.\\n\"\n",
    "\n",
    "curl \\\n",
    "    --request PUT \\\n",
    "    --data @/tmp/consul_service.json \\\n",
    "    http://127.0.0.1:8500/v1/agent/service/register #?replace-existing-checks=true\n",
    "EOM\n",
    "done"
   ]
  },
  {
   "cell_type": "markdown",
   "id": "58454a0f-1545-4e9c-9837-e5da571ed34c",
   "metadata": {},
   "source": [
    "Verify answer is now for DC1 again."
   ]
  },
  {
   "cell_type": "code",
   "execution_count": 89,
   "id": "cca115a2-2122-4529-ab2e-d1de8f9dc69e",
   "metadata": {},
   "outputs": [
    {
     "name": "stdout",
     "output_type": "stream",
     "text": [
      "\n",
      "; <<>> DiG 9.16.1-Ubuntu <<>> @127.0.0.1 -p 8600 redis.query.consul srv\n",
      "; (1 server found)\n",
      ";; global options: +cmd\n",
      ";; Got answer:\n",
      ";; ->>HEADER<<- opcode: QUERY, status: NOERROR, id: 59147\n",
      ";; flags: qr aa rd; QUERY: 1, ANSWER: 1, AUTHORITY: 0, ADDITIONAL: 3\n",
      ";; WARNING: recursion requested but not available\n",
      "\n",
      ";; OPT PSEUDOSECTION:\n",
      "; EDNS: version: 0, flags:; udp: 4096\n",
      ";; QUESTION SECTION:\n",
      ";redis.query.consul.\t\tIN\tSRV\n",
      "\n",
      ";; ANSWER SECTION:\n",
      "redis.query.consul.\t0\tIN\tSRV\t1 1 8000 7f000001.addr.west.consul.\n",
      "\n",
      ";; ADDITIONAL SECTION:\n",
      "7f000001.addr.west.consul. 0\tIN\tA\t127.0.0.1\n",
      "consul-server-0.node.west.consul. 0 IN\tTXT\t\"consul-network-segment=\"\n",
      "\n",
      ";; Query time: 3 msec\n",
      ";; SERVER: 127.0.0.1#8600(127.0.0.1)\n",
      ";; WHEN: Fri Dec 10 18:48:47 UTC 2021\n",
      ";; MSG SIZE  rcvd: 165\n",
      "\n"
     ]
    }
   ],
   "source": [
    "dig @127.0.0.1 -p 8600 redis.query.consul srv"
   ]
  },
  {
   "cell_type": "markdown",
   "id": "a0456b9d-5045-485e-9692-f2f5a7068a1d",
   "metadata": {},
   "source": [
    "> **Note**: If multiple queries are registered, the most specific one will be selected, so it's possible to have a template like this as a catch-all, and then apply more specific policies to certain services.\n",
    "\n",
    "With this one prepared query template in place, simply changing application configurations to look up `banking-app.query.consul` instead of `banking-app.service.consul` via DNS will result in automatic geo failover to the next closest federated Consul datacenters, in order of increasing network round trip time.\n",
    "\n",
    "## Next steps\n",
    "\n",
    "In this tutorial, you learned how to use prepared queries for failover when integrating Consul with other applications. You can now configure your policies to failover to the nearest federated datacenter or to a list of secondary datacenters. You can also create a prepared query template which will help you reduce some complexity of creating policies for each individual service."
   ]
  },
  {
   "cell_type": "markdown",
   "id": "95d8297e-7c27-409a-a124-aa0b25a0b840",
   "metadata": {},
   "source": [
    "## Resources\n",
    "\n",
    "https://www.devtech101.com/2019/01/30/updated-using-consul-for-service-discovery-in-multiple-data-centers-version-1-4-part-2/"
   ]
  }
 ],
 "metadata": {
  "kernelspec": {
   "display_name": "Bash",
   "language": "bash",
   "name": "bash"
  },
  "language_info": {
   "codemirror_mode": "shell",
   "file_extension": ".sh",
   "mimetype": "text/x-sh",
   "name": "bash"
  }
 },
 "nbformat": 4,
 "nbformat_minor": 5
}
