{
 "cells": [
  {
   "cell_type": "markdown",
   "id": "653d5ae7-a01e-4de8-9a46-01c5ad16f6c7",
   "metadata": {},
   "source": [
    "# Multi Cloud Service Networking with Consul - Base"
   ]
  },
  {
   "cell_type": "code",
   "execution_count": null,
   "id": "e6d5bbdc-a6ef-46a5-bb99-80102a8adb18",
   "metadata": {},
   "outputs": [],
   "source": [
    "This notebooks covers setting up your environment for the Multi-Cloud Demo."
   ]
  },
  {
   "cell_type": "markdown",
   "id": "f6063ed0-3f40-4f5e-bdfa-2204d1bcdcf1",
   "metadata": {
    "tags": []
   },
   "source": [
    "## Prerequisites\n",
    "\n",
    "* Azure Client\n",
    "* AWS Client"
   ]
  },
  {
   "cell_type": "markdown",
   "id": "6d0d1087-5efc-41bb-817a-98f2a9d2b664",
   "metadata": {},
   "source": [
    "Get your bearings."
   ]
  },
  {
   "cell_type": "code",
   "execution_count": null,
   "id": "c21dd1ce-5db7-4b6d-88e7-02f82dcf9c80",
   "metadata": {},
   "outputs": [],
   "source": [
    "export MAIN_DIR=$(pwd)\n",
    "export GIT_REPO_DIR=config/consul/field-workshops-consul\n",
    "export WORK_DIR=$MAIN_DIR/$GIT_REPO_DIR\n",
    "printf \"$MAIN_DIR\\n$GIT_REPO_DIR\\n$WORK_DIR\""
   ]
  },
  {
   "cell_type": "markdown",
   "id": "385f6fc5-6b1b-4625-aeb0-c6dc1d16780f",
   "metadata": {},
   "source": [
    "### Cloud Credentials"
   ]
  },
  {
   "cell_type": "code",
   "execution_count": null,
   "id": "8a11e8ac-78e9-4907-878a-788875a2aa38",
   "metadata": {
    "tags": []
   },
   "outputs": [],
   "source": [
    "#debugging\n",
    "echo $AZURE_CREDS_FILE\n",
    "echo $INSTRUQT_AZURE_SUBSCRIPTION_CONSUL_SUBSCRIPTION_ID\n",
    "echo $INSTRUQT_AZURE_SUBSCRIPTION_CONSUL_SPN_ID\n",
    "echo $INSTRUQT_AZURE_SUBSCRIPTION_CONSUL_SPN_PASSWORD"
   ]
  },
  {
   "cell_type": "code",
   "execution_count": null,
   "id": "fec48413-59bc-4a3f-99aa-a74a4747a939",
   "metadata": {
    "tags": []
   },
   "outputs": [],
   "source": [
    "export AZURE_CREDS_FILE=${HOME}/.Azure/creds2.txt\n",
    "export INSTRUQT_AZURE_SUBSCRIPTION_CONSUL_SUBSCRIPTION_ID=\"REPLACEME\"\n",
    "export INSTRUQT_AZURE_SUBSCRIPTION_CONSUL_SPN_ID=$(jq -r .appId ${AZURE_CREDS_FILE})\n",
    "export INSTRUQT_AZURE_SUBSCRIPTION_CONSUL_SPN_PASSWORD=$(jq -r .password ${AZURE_CREDS_FILE})"
   ]
  },
  {
   "cell_type": "code",
   "execution_count": null,
   "id": "98287fa0-e630-498a-b974-2fb53aa9be9b",
   "metadata": {},
   "outputs": [],
   "source": [
    "export GOOGLE_CREDENTIALS=$(echo $INSTRUQT_GCP_PROJECT_CONSUL_SERVICE_ACCOUNT_KEY | base64 -d)\n",
    "\n",
    "# echo 'export GOOGLE_CREDENTIALS=$(echo $INSTRUQT_GCP_PROJECT_CONSUL_SERVICE_ACCOUNT_KEY | base64 -d)' >> ${HOME}/.bashrc\n",
    "# source ${HOME}/.bashrc"
   ]
  },
  {
   "cell_type": "markdown",
   "id": "d89d2f5e-b026-40c0-956d-db5602aedf2e",
   "metadata": {
    "tags": []
   },
   "source": [
    "### Install Cloud Clients"
   ]
  },
  {
   "cell_type": "code",
   "execution_count": null,
   "id": "2bf80aaa-31bf-4541-ab3c-781a7221c7c4",
   "metadata": {},
   "outputs": [],
   "source": [
    "brew update\n",
    "brew install awscli\n",
    "brew install azure-cli"
   ]
  },
  {
   "cell_type": "markdown",
   "id": "7a341f08-0848-48ff-969a-143a5cfee4e5",
   "metadata": {},
   "source": [
    "Login to Azure CLI"
   ]
  },
  {
   "cell_type": "code",
   "execution_count": null,
   "id": "453f53e2-f6b0-40bc-86d8-187ad9887afa",
   "metadata": {
    "tags": []
   },
   "outputs": [],
   "source": [
    "az login\n",
    "# az login \\\n",
    "#   --username \"${INSTRUQT_AZURE_SUBSCRIPTION_CONSUL_USERNAME}\" \\\n",
    "#   --password \"${INSTRUQT_AZURE_SUBSCRIPTION_CONSUL_PASSWORD}\""
   ]
  },
  {
   "cell_type": "markdown",
   "id": "bc5f131b-a0bc-40ff-ae71-85ecfda6e651",
   "metadata": {},
   "source": [
    "### AWS Setup"
   ]
  },
  {
   "cell_type": "code",
   "execution_count": null,
   "id": "b1d13aff-e1ab-4006-9d6d-bee5b62506c0",
   "metadata": {},
   "outputs": [],
   "source": [
    "aws configure set default.region us-east-1\n",
    "aws ec2 create-default-vpc"
   ]
  },
  {
   "cell_type": "markdown",
   "id": "5e921679-e4a2-45d8-bac1-cf91b596f9e7",
   "metadata": {},
   "source": [
    "### Azure Packer Setup"
   ]
  },
  {
   "cell_type": "code",
   "execution_count": null,
   "id": "e168ce3b-b144-480f-bcea-1d1204531b8f",
   "metadata": {},
   "outputs": [],
   "source": [
    "POC_NAME=pphan\n",
    "az group create -l westus2 -n ${POC_NAME}-packer"
   ]
  },
  {
   "cell_type": "markdown",
   "id": "ce5c8e72-792f-4101-b46b-7afa8167faf7",
   "metadata": {},
   "source": [
    "### jwt validation"
   ]
  },
  {
   "cell_type": "code",
   "execution_count": null,
   "id": "9c188aea-b8f8-4f11-8c31-0b458c20794d",
   "metadata": {},
   "outputs": [],
   "source": [
    "# apt install npm -y\n",
    "# npm install -g jwt-cli"
   ]
  },
  {
   "cell_type": "markdown",
   "id": "0790bf1f-138b-4cb4-b9ec-772e1829784d",
   "metadata": {},
   "source": [
    "### Clone Assets"
   ]
  },
  {
   "cell_type": "code",
   "execution_count": null,
   "id": "eaae9570-0529-4ba1-84ce-bfea7c4fe2a2",
   "metadata": {},
   "outputs": [],
   "source": [
    "git clone https://github.com/hashicorp/field-workshops-consul.git $GIT_REPO_DIR"
   ]
  },
  {
   "cell_type": "code",
   "execution_count": null,
   "id": "90fb313c-26d9-4a9d-9cd2-7d6ecf6167cb",
   "metadata": {},
   "outputs": [],
   "source": [
    "cp -r $GIT_REPO_DIR/instruqt-tracks/multi-cloud-service-networking-with-consul/assets/terraform .\n",
    "cp -r $GIT_REPO_DIR/instruqt-tracks/multi-cloud-service-networking-with-consul/assets/packer .\n",
    "cp -r $GIT_REPO_DIR/instruqt-tracks/multi-cloud-service-networking-with-consul/assets/apps .\n",
    "cp -r $GIT_REPO_DIR/instruqt-tracks/multi-cloud-service-networking-with-consul/assets/policies .\n",
    "cp -r $GIT_REPO_DIR/instruqt-tracks/multi-cloud-service-networking-with-consul/assets/helm ."
   ]
  },
  {
   "cell_type": "markdown",
   "id": "8aaf8191-6add-4882-8cf3-25dd7fbebce5",
   "metadata": {},
   "source": [
    "Open folder in VS Code."
   ]
  },
  {
   "cell_type": "code",
   "execution_count": null,
   "id": "1f2034b4-25db-4815-8297-b3f1a358567a",
   "metadata": {},
   "outputs": [],
   "source": [
    "code ."
   ]
  },
  {
   "cell_type": "markdown",
   "id": "7dc991d0-0cff-4e4f-a3d1-fd0a3b3b2f1d",
   "metadata": {},
   "source": [
    "### Packer"
   ]
  },
  {
   "cell_type": "code",
   "execution_count": null,
   "id": "abade2fb-16fe-4a52-af53-c5dac9ab8d93",
   "metadata": {},
   "outputs": [],
   "source": [
    "echo \"Provisoning Packer Builds...\"\n",
    "# cd $MAIN_DIR/packer\n",
    "pushd packer\n",
    "nohup packer build hashistack.json 2>&1 | tee nohup.out &\n",
    "popd"
   ]
  },
  {
   "cell_type": "markdown",
   "id": "94eadaf5-c60a-4918-a4dd-d9be4618d4eb",
   "metadata": {},
   "source": [
    "This can take awhile (~7 minutes). Go grab some coffee. You can check the status with the code editor."
   ]
  },
  {
   "cell_type": "markdown",
   "id": "4876c2aa-fcf5-4c7e-a257-546f32b2a488",
   "metadata": {},
   "source": [
    "**NOTE**: Need to fix.\n",
    "* Azure account variables.\n",
    "* License files.\n",
    "* more"
   ]
  },
  {
   "cell_type": "markdown",
   "id": "d2cfb151-734f-4a07-8f8b-98f9d6f33c41",
   "metadata": {},
   "source": [
    "### Terraform"
   ]
  },
  {
   "cell_type": "markdown",
   "id": "88c8760f-aaef-4192-9a8f-c0fbba49856a",
   "metadata": {},
   "source": [
    "#### Provisoning Infra"
   ]
  },
  {
   "cell_type": "code",
   "execution_count": null,
   "id": "e8c806fb-8186-4422-ac72-c040bfec3a17",
   "metadata": {},
   "outputs": [],
   "source": [
    "# cd ${MAIN_DIR}/terraform/infra\n",
    "terraform -chdir=terraform/infra init\n",
    "pubkey=$(cat ~/.ssh/id_rsa.pub)\n",
    "cat > $MAIN_DIR/terraform/infra/terraform.tfvars << EOF\n",
    "gcp_project_id=\"$(echo $INSTRUQT_GCP_PROJECT_CONSUL_PROJECT_ID)\"\n",
    "ssh_public_key=\"${pubkey}\"\n",
    "EOF"
   ]
  },
  {
   "cell_type": "code",
   "execution_count": null,
   "id": "b066a960-40d1-4221-ac19-df7c40be3ccb",
   "metadata": {
    "tags": []
   },
   "outputs": [],
   "source": [
    "terraform -chdir=terraform/infra apply -auto-approve 2>&1 | tee terraform/infra/nohup.out"
   ]
  },
  {
   "cell_type": "markdown",
   "id": "44e9e2e1-f581-49aa-9482-f45fd05abcaf",
   "metadata": {},
   "source": [
    "#### Provisoning IAM"
   ]
  },
  {
   "cell_type": "code",
   "execution_count": null,
   "id": "58583b99-2717-4850-887a-6f8efcfe36bb",
   "metadata": {},
   "outputs": [],
   "source": [
    "#iam\n",
    "echo \"Provisoning IAM...\"\n",
    "cd $MAIN_DIR/terraform/iam\n",
    "terraform init\n",
    "cat << EOF > $MAIN_DIR/terraform/iam/terraform.tfvars\n",
    "gcp_project_id=\"$(echo $INSTRUQT_GCP_PROJECT_CONSUL_PROJECT_ID)\"\n",
    "EOF\n",
    "terraform apply -auto-approve 2>&1 | tee nohup.out"
   ]
  },
  {
   "cell_type": "markdown",
   "id": "f4ca54e4-17b1-47bc-b757-d5c67eb14907",
   "metadata": {},
   "source": [
    "#### Provisoning GKE K8s Consul Cluster"
   ]
  },
  {
   "cell_type": "code",
   "execution_count": null,
   "id": "6c45aaa4-285b-44d9-aa00-a10ab24a21e9",
   "metadata": {},
   "outputs": [],
   "source": [
    "#gcp GKE secondary\n",
    "echo \"Provisoning GKE K8s Consul Cluster...\"\n",
    "cd /root/terraform/gcp-consul-secondary\n",
    "terraform init\n",
    "cat <<EOF > $MAIN_DIR/terraform/gcp-consul-secondary/terraform.tfvars\n",
    "gcp_project_id=\"$(echo $INSTRUQT_GCP_PROJECT_CONSUL_PROJECT_ID)\"\n",
    "EOF\n",
    "export GOOGLE_CREDENTIALS=$(echo $INSTRUQT_GCP_PROJECT_CONSUL_SERVICE_ACCOUNT_KEY | base64 -d)\n",
    "nohup terraform apply -auto-approve 2>&1 | tee nohup.out &"
   ]
  },
  {
   "cell_type": "markdown",
   "id": "7ac52e87-7085-4bf8-bdec-2568e720b4b1",
   "metadata": {},
   "source": [
    "#### Provisoning GKE K8s App Clusters"
   ]
  },
  {
   "cell_type": "code",
   "execution_count": null,
   "id": "032d8c9f-5c24-4236-8189-482ba3f4e210",
   "metadata": {},
   "outputs": [],
   "source": [
    "#gcp GKE app clusters\n",
    "echo \"Provisoning GKE K8s App Clusters...\"\n",
    "cd $MAIN_DIR/terraform/k8s-scheduler-services\n",
    "terraform init\n",
    "cat <<EOF > $MAIN_DIR/terraform/k8s-scheduler-services/terraform.tfvars\n",
    "gcp_project_id=\"$(echo $INSTRUQT_GCP_PROJECT_CONSUL_PROJECT_ID)\"\n",
    "EOF\n",
    "export GOOGLE_CREDENTIALS=$(echo $INSTRUQT_GCP_PROJECT_CONSUL_SERVICE_ACCOUNT_KEY | base64 -d)\n",
    "nohup terraform apply -auto-approve 2>&1 | tee nohup.out &"
   ]
  },
  {
   "cell_type": "markdown",
   "id": "741733e1-e57a-4253-aede-e344ebd3cb5b",
   "metadata": {},
   "source": [
    "#### Provisoning AWS ElastiCache"
   ]
  },
  {
   "cell_type": "code",
   "execution_count": null,
   "id": "696d4ae4-7ec7-4706-96e3-962040603b2d",
   "metadata": {},
   "outputs": [],
   "source": [
    "#aws elasticache\n",
    "echo \"Provisoning AWS ElastiCache...\"\n",
    "cd $MAIN_DIR/terraform/cache-services\n",
    "terraform init\n",
    "AWS_CONSUL_IP=$(terraform output -state /root/terraform/aws-consul-primary/terraform.tfstate aws_consul_public_ip)\n",
    "cat <<EOF > $MAIN_DIR/terraform/cache-services/terraform.tfvars\n",
    "consul_http_addr=\"http://127.0.0.1:8500\"\n",
    "EOF\n",
    "nohup terraform apply -target=aws_elasticache_cluster.redis -auto-approve 2>&1 | tee nohup.out &"
   ]
  },
  {
   "cell_type": "markdown",
   "id": "80d50205-52aa-455c-8c9e-1a7f8c410414",
   "metadata": {},
   "source": [
    "#### Provisoning Azure PostgreSQL"
   ]
  },
  {
   "cell_type": "code",
   "execution_count": null,
   "id": "2a322dae-2c7b-49c3-b402-827529f3c285",
   "metadata": {},
   "outputs": [],
   "source": [
    "#azure postgreSQL\n",
    "echo \"Provisoning Azure PostgreSQL...\"\n",
    "cd $MAIN_DIR/terraform/database-services\n",
    "terraform init\n",
    "AZURE_CONSUL_IP=$(terraform output -state /root/terraform/azure-consul-secondary/terraform.tfstate azure_consul_public_ip)\n",
    "cat <<EOF > $MAIN_DIR/terraform/database-services/terraform.tfvars\n",
    "consul_http_addr=\"http://127.0.0.1:8500\"\n",
    "EOF\n",
    "nohup terraform apply -target=azurerm_postgresql_server.postgres -auto-approve 2>&1 | tee nohup.out &"
   ]
  },
  {
   "cell_type": "markdown",
   "id": "9beeb86e-7e75-438c-8dfa-f3056279212d",
   "metadata": {},
   "source": [
    "## Clean Up"
   ]
  },
  {
   "cell_type": "markdown",
   "id": "eeda4ba4-648f-4ec4-898b-d510ac651d8a",
   "metadata": {},
   "source": [
    "### Remove Cloud Assets"
   ]
  },
  {
   "cell_type": "markdown",
   "id": "d95512b9-9562-426b-866f-8f7cad4194c0",
   "metadata": {},
   "source": [
    "### Azure"
   ]
  },
  {
   "cell_type": "markdown",
   "id": "e7bd50f9-80ab-473f-ae8a-10bdbae807c2",
   "metadata": {},
   "source": [
    "Remove Azure Resource Group for Packer"
   ]
  },
  {
   "cell_type": "code",
   "execution_count": null,
   "id": "e4c96cc3-565b-4854-88f6-0dd62659de8c",
   "metadata": {},
   "outputs": [],
   "source": [
    "az group delete -y --no-wait -n ${POC_NAME}-packer"
   ]
  },
  {
   "cell_type": "markdown",
   "id": "a22fccd9-a814-44c5-854e-aaee0a6b1724",
   "metadata": {},
   "source": [
    "## Terraform Destroy"
   ]
  },
  {
   "cell_type": "code",
   "execution_count": null,
   "id": "a0f0b263-254b-4221-881f-6256fb2df429",
   "metadata": {
    "tags": []
   },
   "outputs": [],
   "source": [
    "terraform -chdir=terraform/infra plan -destroy "
   ]
  },
  {
   "cell_type": "code",
   "execution_count": null,
   "id": "7077aea3-178b-4677-b821-78e33b6631ab",
   "metadata": {
    "tags": []
   },
   "outputs": [],
   "source": [
    "terraform -chdir=terraform/infra destroy -auto-approve"
   ]
  },
  {
   "cell_type": "markdown",
   "id": "801e173e-44bc-490e-9389-890ba11e4e0f",
   "metadata": {},
   "source": [
    "### Remove Assets"
   ]
  },
  {
   "cell_type": "code",
   "execution_count": null,
   "id": "74d28ccc-6494-40c9-8cc5-2b2af82e7759",
   "metadata": {},
   "outputs": [],
   "source": [
    "pushd $MAIN_DIR\n",
    "rm -rf $GIT_REPO_DIR apps helm packer policies terraform nohup.out\n",
    "popd"
   ]
  },
  {
   "cell_type": "markdown",
   "id": "fd210836-7087-4ed1-9e8f-9a471cd5538e",
   "metadata": {},
   "source": [
    "# Misc"
   ]
  },
  {
   "cell_type": "markdown",
   "id": "f4a599c6-eb26-4637-8e6c-416c701d65e3",
   "metadata": {},
   "source": [
    "### Packer"
   ]
  },
  {
   "cell_type": "code",
   "execution_count": null,
   "id": "4186e73c-288e-48c6-93d6-b77ec6729016",
   "metadata": {},
   "outputs": [],
   "source": [
    "The terraform code will provision cloud infrastructure in AWS, GPC, and Azure.\n",
    "\n",
    "Your lab environment will leverage pre-built packer images.\n",
    "You can inspect the image build in the code editor, and validate the images are available in AWS & Azure."
   ]
  },
  {
   "cell_type": "markdown",
   "id": "3151973a-ee4a-462d-b5a0-b411063e5e1d",
   "metadata": {},
   "source": [
    "Validate the images are available in AWS & Azure"
   ]
  },
  {
   "cell_type": "code",
   "execution_count": null,
   "id": "f239f93c-0d31-4974-9c92-8b5f5a7059a0",
   "metadata": {},
   "outputs": [],
   "source": [
    "az image list -g packer | jq\n",
    "# aws ec2 describe-images --owners self | jq"
   ]
  },
  {
   "cell_type": "code",
   "execution_count": null,
   "id": "aae6464f-490a-4527-9680-11acb0e96499",
   "metadata": {},
   "outputs": [],
   "source": [
    "docker run --rm -d \\\n",
    "    --name consul \\\n",
    "    -p 8500:8500 \\\n",
    "    -e 'VAULT_DEV_ROOT_TOKEN_ID=root' \\\n",
    "    -e \"VAULT_ADDR=http://127.0.0.1:8200\" \\\n",
    "    hashicorp/consul"
   ]
  }
 ],
 "metadata": {
  "kernelspec": {
   "display_name": "Bash",
   "language": "bash",
   "name": "bash"
  },
  "language_info": {
   "codemirror_mode": "shell",
   "file_extension": ".sh",
   "mimetype": "text/x-sh",
   "name": "bash"
  }
 },
 "nbformat": 4,
 "nbformat_minor": 5
}
