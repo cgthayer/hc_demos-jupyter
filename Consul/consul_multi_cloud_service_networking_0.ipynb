{
 "cells": [
  {
   "cell_type": "markdown",
   "id": "653d5ae7-a01e-4de8-9a46-01c5ad16f6c7",
   "metadata": {},
   "source": [
    "# Multi Cloud Service Networking with Consul - Base"
   ]
  },
  {
   "cell_type": "markdown",
   "id": "097e343d-984a-45c2-9cc7-e7cb7b103cb6",
   "metadata": {},
   "source": [
    "### THIS TUTORIAL IS UNDER CONSTRUCTION\n",
    "\n",
    "THIS TUTORIAL IS UNDER CONSTRUCTION - MORE TO COME\n",
    "\n",
    "This tutorial covers setting up your environment for the Multi-Cloud Demo. Here are the things it will cover.\n",
    "\n",
    "* Use Packer to build images in AWS, Azure, and Google.\n",
    "* Use Terraform to provision infrastructure in all three clouds.\n",
    "  * Network, Storage, Kubernetes"
   ]
  },
  {
   "cell_type": "markdown",
   "id": "f6063ed0-3f40-4f5e-bdfa-2204d1bcdcf1",
   "metadata": {
    "tags": []
   },
   "source": [
    "## Prerequisites\n",
    "\n",
    "* Azure Client\n",
    "* AWS Client"
   ]
  },
  {
   "cell_type": "markdown",
   "id": "11f6b61e-d4ac-4a8d-b97f-7751cc8aee0f",
   "metadata": {},
   "source": [
    "### Set Main Environment Variables"
   ]
  },
  {
   "cell_type": "code",
   "execution_count": 2,
   "id": "7d318717-57da-489a-af8c-b9bed3e7383a",
   "metadata": {},
   "outputs": [
    {
     "name": "stdout",
     "output_type": "stream",
     "text": [
      "\u001b[0;32m# Set MAIN_DIR for future reference.\u001b[0ml\u001b[?2004l\n",
      "\u001b[?2004h\u001b[?2004l"
     ]
    },
    {
     "ename": "",
     "evalue": "1",
     "output_type": "error",
     "traceback": []
    }
   ],
   "source": [
    "export RED=\"\\e[0;31m\" YELLOW=\"\\e[0;33m\" BLDYELLOW=\"\\e[1;33m\" GREEN=\"\\e[0;32m\"\n",
    "export CYAN=\"\\e[0;36m\" BLUE=\"\\e[0;34m\" WHITE=\"\\e[0;37m\" BLDWHITE=\"\\e[1;37m\"\n",
    "export NC=\"\\e[0m\"\n",
    "# Some commands may have sensitive information. Prevent commands starting with a space to be saved to shell history.\n",
    "HISTCONTROL=ignoreboth # do not save lines that begin with space in history\n",
    "\n",
    "printf \"${GREEN}# Set MAIN_DIR for future reference.${NC}\\n\"\n",
    "export MAIN_DIR=${PWD}"
   ]
  },
  {
   "cell_type": "markdown",
   "id": "bea83d05-898e-4af2-a25e-1fc3e472573c",
   "metadata": {},
   "source": [
    "Be sure to replace `POC_NAME` with your own value."
   ]
  },
  {
   "cell_type": "code",
   "execution_count": 3,
   "id": "c21dd1ce-5db7-4b6d-88e7-02f82dcf9c80",
   "metadata": {},
   "outputs": [
    {
     "name": "stdout",
     "output_type": "stream",
     "text": [
      "/Users/pephan/OneDrive/code/vault_transit_test/hc_demos-jupyter/Consul\n",
      "config/consul/field-workshops-consul\n",
      "/Users/pephan/OneDrive/code/vault_transit_test/hc_demos-jupyter/Consul/config/consul/field-workshops-consul\u001b[?2004h"
     ]
    },
    {
     "ename": "",
     "evalue": "1",
     "output_type": "error",
     "traceback": []
    }
   ],
   "source": [
    "export POC_NAME=pphan\n",
    "export GIT_REPO_DIR=config/consul/field-workshops-consul\n",
    "export WORK_DIR=$MAIN_DIR/$GIT_REPO_DIR\n",
    "printf \"$MAIN_DIR\\n$GIT_REPO_DIR\\n$WORK_DIR\""
   ]
  },
  {
   "cell_type": "markdown",
   "id": "74fd21ec-7bed-411a-8673-9ab51f7b72eb",
   "metadata": {},
   "source": [
    "Be sure to replace `TF_ORG` and `TF_WS_NAME` with your own values."
   ]
  },
  {
   "cell_type": "code",
   "execution_count": null,
   "id": "7a6d2c19-4bd9-4fa0-bb61-fbca3fb55f29",
   "metadata": {},
   "outputs": [],
   "source": [
    "export TF_GIT_DIR=\"config/terraform/<repo>\"\n",
    "printf \"${GREEN}# Set Terraform Variables.${NC}\\n\"\n",
    "printf \"\\n$MAIN_DIR \\n $TF_GIT_DIR \\n\""
   ]
  },
  {
   "cell_type": "markdown",
   "id": "d3d5f4e3-ee62-4be6-8537-f0f536da05a6",
   "metadata": {},
   "source": [
    "Be sure to replace `VAULT_ADDR` with your own values."
   ]
  },
  {
   "cell_type": "code",
   "execution_count": null,
   "id": "dc8e2991-e81a-4e93-8df6-e3f5e9db14f9",
   "metadata": {},
   "outputs": [],
   "source": [
    "printf \"${GREEN}# Set Vault Variables.${NC}\\n\"\n",
    "export VAULT_PORT=8200\n",
    "export VAULT_TOKEN=root\n",
    "export VAULT_ADDR=http://localhost:${VAULT_PORT}\n",
    "export VAULT_LICENSE=$(cat ../../license/vault.hclic)\n",
    "# Set dir env vars. Create required directory.\n",
    "WORK_DIR=config/vault\n",
    "mkdir -p config/vault/{data,logs,config}"
   ]
  },
  {
   "cell_type": "markdown",
   "id": "385f6fc5-6b1b-4625-aeb0-c6dc1d16780f",
   "metadata": {},
   "source": [
    "### Cloud Credentials"
   ]
  },
  {
   "cell_type": "markdown",
   "id": "53eba6c1-b154-407a-bf03-bc9508c2a002",
   "metadata": {},
   "source": [
    "NOTE: You can grab credentials from Instruqt"
   ]
  },
  {
   "cell_type": "code",
   "execution_count": null,
   "id": "2278688f-cfe1-434c-b1ec-ce55273d927e",
   "metadata": {},
   "outputs": [],
   "source": [
    "```\n",
    "env | grep -i ^AWS_ | grep -v ACCOUNT && \\\n",
    "env | grep INSTRUQT_AZURE_SUBSCRIPTION_CONSUL_SUBSCRIPTION_ID && \\\n",
    "env | grep INSTRUQT_AZURE_SUBSCRIPTION_CONSUL_SPN_ID \\\n",
    "&& env | grep INSTRUQT_AZURE_SUBSCRIPTION_CONSUL_SPN_PASSWORD\n",
    "```"
   ]
  },
  {
   "cell_type": "markdown",
   "id": "b7d44b40-32a8-4ad4-b40e-13d01b677916",
   "metadata": {},
   "source": [
    "#### AWS Credentials"
   ]
  },
  {
   "cell_type": "markdown",
   "id": "c1dd177c-21fc-4a35-b0df-b4b9d20ef07d",
   "metadata": {},
   "source": [
    "`terraform` will use credentials set in your environment or through other means as described in the [Terraform documentation](https://www.terraform.io/docs/providers/aws/index.html#environment-variables). This guide will assume you are using the \"**Environment Variables**\" method.\n",
    "\n",
    "Add your AWS credentials as two environment variables. Set your `AWS_ACCESS_KEY_ID` and `AWS_SECRET_ACCESS_KEY` replacing `AAAAAA` with your own values."
   ]
  },
  {
   "cell_type": "code",
   "execution_count": null,
   "id": "2f6a9150-e3f5-418c-8d11-49c3957ecea8",
   "metadata": {},
   "outputs": [],
   "source": [
    " export AWS_ACCESS_KEY_ID=AAAAAA\n",
    " export AWS_SECRET_ACCESS_KEY=AAAAAA\n",
    "#  export AWS_SESSION_TOKEN=AAAAAA"
   ]
  },
  {
   "cell_type": "markdown",
   "id": "d4084f60-b4f6-4ed1-a6c0-26810fa36883",
   "metadata": {},
   "source": [
    "NOTE: If you use `doormat`, then use this method."
   ]
  },
  {
   "cell_type": "code",
   "execution_count": 1,
   "id": "f2e05952-08bd-42a0-bf4d-7811e6ff5218",
   "metadata": {},
   "outputs": [
    {
     "name": "stdout",
     "output_type": "stream",
     "text": [
      "Doormat auth credentials are valid!\n",
      "\u001b[?2004h"
     ]
    },
    {
     "ename": "",
     "evalue": "1",
     "output_type": "error",
     "traceback": []
    }
   ],
   "source": [
    "alias awscredsenv='doormat --smoke-test || doormat -r && eval $(doormat aws -a $account)'\n",
    "awscredsenv"
   ]
  },
  {
   "cell_type": "code",
   "execution_count": null,
   "id": "8a11e8ac-78e9-4907-878a-788875a2aa38",
   "metadata": {
    "tags": []
   },
   "outputs": [],
   "source": [
    "#debugging\n",
    "echo $AZURE_CREDS_FILE\n",
    "echo $INSTRUQT_AZURE_SUBSCRIPTION_CONSUL_SUBSCRIPTION_ID\n",
    "echo $INSTRUQT_AZURE_SUBSCRIPTION_CONSUL_SPN_ID\n",
    "echo $INSTRUQT_AZURE_SUBSCRIPTION_CONSUL_SPN_PASSWORD"
   ]
  },
  {
   "cell_type": "code",
   "execution_count": null,
   "id": "fec48413-59bc-4a3f-99aa-a74a4747a939",
   "metadata": {
    "tags": []
   },
   "outputs": [],
   "source": [
    "export AZURE_CREDS_FILE=${HOME}/.Azure/creds2.txt\n",
    "export INSTRUQT_AZURE_SUBSCRIPTION_CONSUL_SUBSCRIPTION_ID=\"REPLACEME\"\n",
    "export INSTRUQT_AZURE_SUBSCRIPTION_CONSUL_SPN_ID=$(jq -r .appId ${AZURE_CREDS_FILE})\n",
    "export INSTRUQT_AZURE_SUBSCRIPTION_CONSUL_SPN_PASSWORD=$(jq -r .password ${AZURE_CREDS_FILE})"
   ]
  },
  {
   "cell_type": "code",
   "execution_count": null,
   "id": "98287fa0-e630-498a-b974-2fb53aa9be9b",
   "metadata": {},
   "outputs": [],
   "source": [
    "export GOOGLE_CREDENTIALS=$(echo $INSTRUQT_GCP_PROJECT_CONSUL_SERVICE_ACCOUNT_KEY | base64 -d)\n",
    "\n",
    "# echo 'export GOOGLE_CREDENTIALS=$(echo $INSTRUQT_GCP_PROJECT_CONSUL_SERVICE_ACCOUNT_KEY | base64 -d)' >> ${HOME}/.bashrc\n",
    "# source ${HOME}/.bashrc"
   ]
  },
  {
   "cell_type": "markdown",
   "id": "d89d2f5e-b026-40c0-956d-db5602aedf2e",
   "metadata": {
    "tags": []
   },
   "source": [
    "### Install Cloud Clients"
   ]
  },
  {
   "cell_type": "code",
   "execution_count": null,
   "id": "2bf80aaa-31bf-4541-ab3c-781a7221c7c4",
   "metadata": {},
   "outputs": [],
   "source": [
    "brew update\n",
    "brew install awscli\n",
    "brew install azure-cli"
   ]
  },
  {
   "cell_type": "markdown",
   "id": "7a341f08-0848-48ff-969a-143a5cfee4e5",
   "metadata": {},
   "source": [
    "Login to Azure CLI"
   ]
  },
  {
   "cell_type": "code",
   "execution_count": null,
   "id": "453f53e2-f6b0-40bc-86d8-187ad9887afa",
   "metadata": {
    "tags": []
   },
   "outputs": [],
   "source": [
    "az login\n",
    "# az login \\\n",
    "#   --username \"${INSTRUQT_AZURE_SUBSCRIPTION_CONSUL_USERNAME}\" \\\n",
    "#   --password \"${INSTRUQT_AZURE_SUBSCRIPTION_CONSUL_PASSWORD}\""
   ]
  },
  {
   "cell_type": "markdown",
   "id": "bc5f131b-a0bc-40ff-ae71-85ecfda6e651",
   "metadata": {},
   "source": [
    "### AWS Setup"
   ]
  },
  {
   "cell_type": "code",
   "execution_count": null,
   "id": "b1d13aff-e1ab-4006-9d6d-bee5b62506c0",
   "metadata": {},
   "outputs": [],
   "source": [
    "aws configure set default.region us-east-1\n",
    "aws ec2 create-default-vpc"
   ]
  },
  {
   "cell_type": "markdown",
   "id": "5e921679-e4a2-45d8-bac1-cf91b596f9e7",
   "metadata": {},
   "source": [
    "### Azure Resource Group for Packer"
   ]
  },
  {
   "cell_type": "code",
   "execution_count": null,
   "id": "e168ce3b-b144-480f-bcea-1d1204531b8f",
   "metadata": {},
   "outputs": [],
   "source": [
    "az group create -l westus2 -n ${POC_NAME}-packer"
   ]
  },
  {
   "cell_type": "markdown",
   "id": "ce5c8e72-792f-4101-b46b-7afa8167faf7",
   "metadata": {},
   "source": [
    "### jwt validation"
   ]
  },
  {
   "cell_type": "code",
   "execution_count": null,
   "id": "9c188aea-b8f8-4f11-8c31-0b458c20794d",
   "metadata": {},
   "outputs": [],
   "source": [
    "# apt install npm -y\n",
    "# npm install -g jwt-cli"
   ]
  },
  {
   "cell_type": "markdown",
   "id": "0790bf1f-138b-4cb4-b9ec-772e1829784d",
   "metadata": {},
   "source": [
    "### Clone Assets"
   ]
  },
  {
   "cell_type": "code",
   "execution_count": null,
   "id": "eaae9570-0529-4ba1-84ce-bfea7c4fe2a2",
   "metadata": {},
   "outputs": [],
   "source": [
    "git clone https://github.com/hashicorp/field-workshops-consul.git $GIT_REPO_DIR"
   ]
  },
  {
   "cell_type": "code",
   "execution_count": null,
   "id": "90fb313c-26d9-4a9d-9cd2-7d6ecf6167cb",
   "metadata": {},
   "outputs": [],
   "source": [
    "cp -r $GIT_REPO_DIR/instruqt-tracks/multi-cloud-service-networking-with-consul/assets/terraform .\n",
    "cp -r $GIT_REPO_DIR/instruqt-tracks/multi-cloud-service-networking-with-consul/assets/packer .\n",
    "cp -r $GIT_REPO_DIR/instruqt-tracks/multi-cloud-service-networking-with-consul/assets/apps .\n",
    "cp -r $GIT_REPO_DIR/instruqt-tracks/multi-cloud-service-networking-with-consul/assets/policies .\n",
    "cp -r $GIT_REPO_DIR/instruqt-tracks/multi-cloud-service-networking-with-consul/assets/helm ."
   ]
  },
  {
   "cell_type": "markdown",
   "id": "8aaf8191-6add-4882-8cf3-25dd7fbebce5",
   "metadata": {},
   "source": [
    "Open folder in VS Code."
   ]
  },
  {
   "cell_type": "code",
   "execution_count": null,
   "id": "1f2034b4-25db-4815-8297-b3f1a358567a",
   "metadata": {},
   "outputs": [],
   "source": [
    "code ."
   ]
  },
  {
   "cell_type": "markdown",
   "id": "7dc991d0-0cff-4e4f-a3d1-fd0a3b3b2f1d",
   "metadata": {},
   "source": [
    "## Packer"
   ]
  },
  {
   "cell_type": "code",
   "execution_count": null,
   "id": "abade2fb-16fe-4a52-af53-c5dac9ab8d93",
   "metadata": {},
   "outputs": [],
   "source": [
    "echo \"Provisoning Packer Builds...\"\n",
    "# cd $MAIN_DIR/packer\n",
    "pushd packer\n",
    "nohup packer build hashistack.json 2>&1 | tee nohup.out &\n",
    "popd"
   ]
  },
  {
   "cell_type": "markdown",
   "id": "94eadaf5-c60a-4918-a4dd-d9be4618d4eb",
   "metadata": {},
   "source": [
    "This can take awhile (~7 minutes). Go grab some coffee. You can check the status with the code editor."
   ]
  },
  {
   "cell_type": "markdown",
   "id": "4876c2aa-fcf5-4c7e-a257-546f32b2a488",
   "metadata": {},
   "source": [
    "**NOTE**: Need to fix.\n",
    "* Azure account variables.\n",
    "* License files.\n",
    "* more"
   ]
  },
  {
   "cell_type": "markdown",
   "id": "d2cfb151-734f-4a07-8f8b-98f9d6f33c41",
   "metadata": {},
   "source": [
    "## Terraform"
   ]
  },
  {
   "cell_type": "markdown",
   "id": "88c8760f-aaef-4192-9a8f-c0fbba49856a",
   "metadata": {},
   "source": [
    "#### Provisoning Infra"
   ]
  },
  {
   "cell_type": "code",
   "execution_count": null,
   "id": "e8c806fb-8186-4422-ac72-c040bfec3a17",
   "metadata": {},
   "outputs": [],
   "source": [
    "# cd ${MAIN_DIR}/terraform/infra\n",
    "terraform -chdir=terraform/infra init\n",
    "pubkey=$(cat ~/.ssh/id_rsa.pub)\n",
    "cat > $MAIN_DIR/terraform/infra/terraform.tfvars << EOF\n",
    "gcp_project_id=\"$(echo $INSTRUQT_GCP_PROJECT_CONSUL_PROJECT_ID)\"\n",
    "ssh_public_key=\"${pubkey}\"\n",
    "EOF"
   ]
  },
  {
   "cell_type": "code",
   "execution_count": null,
   "id": "b066a960-40d1-4221-ac19-df7c40be3ccb",
   "metadata": {
    "tags": []
   },
   "outputs": [],
   "source": [
    "terraform -chdir=terraform/infra apply -auto-approve 2>&1 | tee terraform/infra/nohup.out"
   ]
  },
  {
   "cell_type": "markdown",
   "id": "44e9e2e1-f581-49aa-9482-f45fd05abcaf",
   "metadata": {},
   "source": [
    "#### Provisoning IAM"
   ]
  },
  {
   "cell_type": "code",
   "execution_count": 4,
   "id": "9c1042eb-ad26-423c-b005-56d610f8b145",
   "metadata": {},
   "outputs": [
    {
     "name": "stdout",
     "output_type": "stream",
     "text": [
      "Provisoning IAM...\n",
      "\u001b[?2004h\u001b[?2004l\u001b[?2004l\n",
      "\u001b[0m\u001b[1mInitializing the backend...\u001b[0m\n",
      "\n",
      "\u001b[0m\u001b[1mInitializing provider plugins...\u001b[0m\n",
      "- terraform.io/builtin/terraform is built in to Terraform\n",
      "- Finding hashicorp/google versions matching \"~> 3.45.0\"...\n",
      "- Finding hashicorp/aws versions matching \"~> 3.0\"...\n",
      "- Finding hashicorp/azurerm versions matching \"2.47.0\"...\n",
      "- Installing hashicorp/google v3.45.0...\n",
      "- Installed hashicorp/google v3.45.0 (signed by HashiCorp)\n",
      "- Installing hashicorp/aws v3.59.0...\n",
      "- Installed hashicorp/aws v3.59.0 (signed by HashiCorp)\n",
      "- Installing hashicorp/azurerm v2.47.0...\n",
      "- Installed hashicorp/azurerm v2.47.0 (signed by HashiCorp)\n",
      "\n",
      "Terraform has created a lock file \u001b[1m.terraform.lock.hcl\u001b[0m to record the provider\n",
      "selections it made above. Include this file in your version control repository\n",
      "so that Terraform can guarantee to make the same selections by default when\n",
      "you run \"terraform init\" in the future.\u001b[0m\n",
      "\n",
      "\u001b[33m\u001b[33m╷\u001b[0m\u001b[0m\n",
      "\u001b[33m│\u001b[0m \u001b[0m\u001b[1m\u001b[33mWarning: \u001b[0m\u001b[0m\u001b[1mVersion constraints inside provider configuration blocks are deprecated\u001b[0m\n",
      "\u001b[33m│\u001b[0m \u001b[0m\n",
      "\u001b[33m│\u001b[0m \u001b[0m\u001b[0m  on main.tf line 2, in provider \"aws\":\n",
      "\u001b[33m│\u001b[0m \u001b[0m   2:   version = \u001b[4m\"~> 3.0\"\u001b[0m\u001b[0m\n",
      "\u001b[33m│\u001b[0m \u001b[0m\n",
      "\u001b[33m│\u001b[0m \u001b[0mTerraform 0.13 and earlier allowed provider version constraints inside the\n",
      "\u001b[33m│\u001b[0m \u001b[0mprovider configuration block, but that is now deprecated and will be removed\n",
      "\u001b[33m│\u001b[0m \u001b[0min a future version of Terraform. To silence this warning, move the provider\n",
      "\u001b[33m│\u001b[0m \u001b[0mversion constraint into the required_providers block.\n",
      "\u001b[33m│\u001b[0m \u001b[0m\n",
      "\u001b[33m│\u001b[0m \u001b[0m(and 2 more similar warnings elsewhere)\n",
      "\u001b[33m╵\u001b[0m\u001b[0m\n",
      "\u001b[0m\u001b[0m\n",
      "\u001b[0m\u001b[1m\u001b[32mTerraform has been successfully initialized!\u001b[0m\u001b[32m\u001b[0m\n",
      "\u001b[0m\u001b[32m\n",
      "You may now begin working with Terraform. Try running \"terraform plan\" to see\n",
      "any changes that are required for your infrastructure. All Terraform commands\n",
      "should now work.\n",
      "\n",
      "If you ever set or change modules or backend configuration for Terraform,\n",
      "rerun this command to reinitialize your working directory. If you forget, other\n",
      "commands will detect it and remind you to do so if necessary.\u001b[0m\n",
      "\u001b[?2004h\u001b[?2004l\u001b[?2004l\u001b[?2004l"
     ]
    },
    {
     "ename": "",
     "evalue": "1",
     "output_type": "error",
     "traceback": []
    }
   ],
   "source": [
    "#iam\n",
    "echo \"Provisoning IAM...\"\n",
    "cd $MAIN_DIR/terraform/iam\n",
    "terraform -chdir=$MAIN_DIR/terraform/iam init\n",
    "cat > $MAIN_DIR/terraform/iam/terraform.tfvars << EOF\n",
    "gcp_project_id=\"$(echo $INSTRUQT_GCP_PROJECT_CONSUL_PROJECT_ID)\"\n",
    "EOF"
   ]
  },
  {
   "cell_type": "code",
   "execution_count": null,
   "id": "cba40e6f-9192-46e3-b79b-fdce15059d27",
   "metadata": {},
   "outputs": [],
   "source": [
    "terraform -chdir=$MAIN_DIR apply -auto-approve 2>&1 | tee $MAIN_DIR/nohup.out"
   ]
  },
  {
   "cell_type": "markdown",
   "id": "f4ca54e4-17b1-47bc-b757-d5c67eb14907",
   "metadata": {},
   "source": [
    "#### Provisoning GKE K8s Consul Cluster"
   ]
  },
  {
   "cell_type": "code",
   "execution_count": 6,
   "id": "fff86cbb-52ab-4f40-a5cd-707efd5009ac",
   "metadata": {},
   "outputs": [
    {
     "name": "stdout",
     "output_type": "stream",
     "text": [
      "Provisoning GKE K8s Consul Cluster...\n",
      "\u001b[?2004h\u001b[?2004l\u001b[?2004l\n",
      "\u001b[0m\u001b[1mInitializing the backend...\u001b[0m\n",
      "\n",
      "\u001b[0m\u001b[1mInitializing provider plugins...\u001b[0m\n",
      "- terraform.io/builtin/terraform is built in to Terraform\n",
      "- Finding hashicorp/google versions matching \"~> 3.45.0\"...\n",
      "- Finding latest version of hashicorp/google-beta...\n",
      "- Installing hashicorp/google v3.45.0...\n",
      "- Installed hashicorp/google v3.45.0 (signed by HashiCorp)\n",
      "- Installing hashicorp/google-beta v3.84.0...\n",
      "- Installed hashicorp/google-beta v3.84.0 (signed by HashiCorp)\n",
      "\n",
      "Terraform has created a lock file \u001b[1m.terraform.lock.hcl\u001b[0m to record the provider\n",
      "selections it made above. Include this file in your version control repository\n",
      "so that Terraform can guarantee to make the same selections by default when\n",
      "you run \"terraform init\" in the future.\u001b[0m\n",
      "\n",
      "\u001b[33m\u001b[33m╷\u001b[0m\u001b[0m\n",
      "\u001b[33m│\u001b[0m \u001b[0m\u001b[1m\u001b[33mWarning: \u001b[0m\u001b[0m\u001b[1mVersion constraints inside provider configuration blocks are deprecated\u001b[0m\n",
      "\u001b[33m│\u001b[0m \u001b[0m\n",
      "\u001b[33m│\u001b[0m \u001b[0m\u001b[0m  on main.tf line 2, in provider \"google\":\n",
      "\u001b[33m│\u001b[0m \u001b[0m   2:   version = \u001b[4m\"~> 3.45.0\"\u001b[0m\u001b[0m\n",
      "\u001b[33m│\u001b[0m \u001b[0m\n",
      "\u001b[33m│\u001b[0m \u001b[0mTerraform 0.13 and earlier allowed provider version constraints inside the\n",
      "\u001b[33m│\u001b[0m \u001b[0mprovider configuration block, but that is now deprecated and will be removed\n",
      "\u001b[33m│\u001b[0m \u001b[0min a future version of Terraform. To silence this warning, move the provider\n",
      "\u001b[33m│\u001b[0m \u001b[0mversion constraint into the required_providers block.\n",
      "\u001b[33m╵\u001b[0m\u001b[0m\n",
      "\u001b[0m\u001b[0m\n",
      "\u001b[0m\u001b[1m\u001b[32mTerraform has been successfully initialized!\u001b[0m\u001b[32m\u001b[0m\n",
      "\u001b[0m\u001b[32m\n",
      "You may now begin working with Terraform. Try running \"terraform plan\" to see\n",
      "any changes that are required for your infrastructure. All Terraform commands\n",
      "should now work.\n",
      "\n",
      "If you ever set or change modules or backend configuration for Terraform,\n",
      "rerun this command to reinitialize your working directory. If you forget, other\n",
      "commands will detect it and remind you to do so if necessary.\u001b[0m\n",
      "\u001b[?2004h\u001b[?2004l\u001b[?2004l\u001b[?2004l"
     ]
    },
    {
     "ename": "",
     "evalue": "1",
     "output_type": "error",
     "traceback": []
    }
   ],
   "source": [
    "#gcp GKE secondary\n",
    "echo \"Provisoning GKE K8s Consul Cluster...\"\n",
    "# cd $MAIN_DIR/terraform/gcp-consul-secondary\n",
    "terraform -chdir=$MAIN_DIR/terraform/gcp-consul-secondary init\n",
    "cat > $MAIN_DIR/terraform/gcp-consul-secondary/terraform.tfvars <<EOF\n",
    "gcp_project_id=\"$(echo $INSTRUQT_GCP_PROJECT_CONSUL_PROJECT_ID)\"\n",
    "EOF"
   ]
  },
  {
   "cell_type": "code",
   "execution_count": null,
   "id": "4fc5bd73-c69a-4c21-bdcf-4b26cfe01ed6",
   "metadata": {},
   "outputs": [],
   "source": [
    "export GOOGLE_CREDENTIALS=$(echo $INSTRUQT_GCP_PROJECT_CONSUL_SERVICE_ACCOUNT_KEY | base64 -d)\n",
    "nohup terraform -chdir=$MAIN_DIR/terraform/gcp-consul-secondary apply -auto-approve 2>&1 | tee $MAIN_DIR/terraform/gcp-consul-secondary/nohup.out &"
   ]
  },
  {
   "cell_type": "markdown",
   "id": "7ac52e87-7085-4bf8-bdec-2568e720b4b1",
   "metadata": {},
   "source": [
    "#### Provisoning GKE K8s App Clusters"
   ]
  },
  {
   "cell_type": "code",
   "execution_count": 7,
   "id": "aa565638-7e74-4d2c-af10-7901ad2ae894",
   "metadata": {},
   "outputs": [
    {
     "name": "stdout",
     "output_type": "stream",
     "text": [
      "Provisoning GKE K8s App Clusters...\n",
      "\u001b[?2004h\u001b[?2004l\u001b[?2004l\n",
      "\u001b[0m\u001b[1mInitializing the backend...\u001b[0m\n",
      "\n",
      "\u001b[0m\u001b[1mInitializing provider plugins...\u001b[0m\n",
      "- terraform.io/builtin/terraform is built in to Terraform\n",
      "- Finding latest version of hashicorp/google-beta...\n",
      "- Finding hashicorp/google versions matching \"~> 3.45.0\"...\n",
      "- Finding latest version of hashicorp/kubernetes...\n",
      "- Installing hashicorp/google-beta v3.84.0...\n",
      "- Installed hashicorp/google-beta v3.84.0 (signed by HashiCorp)\n",
      "- Installing hashicorp/google v3.45.0...\n",
      "- Installed hashicorp/google v3.45.0 (signed by HashiCorp)\n",
      "- Installing hashicorp/kubernetes v2.5.0...\n",
      "- Installed hashicorp/kubernetes v2.5.0 (signed by HashiCorp)\n",
      "\n",
      "Terraform has created a lock file \u001b[1m.terraform.lock.hcl\u001b[0m to record the provider\n",
      "selections it made above. Include this file in your version control repository\n",
      "so that Terraform can guarantee to make the same selections by default when\n",
      "you run \"terraform init\" in the future.\u001b[0m\n",
      "\n",
      "\u001b[33m\u001b[33m╷\u001b[0m\u001b[0m\n",
      "\u001b[33m│\u001b[0m \u001b[0m\u001b[1m\u001b[33mWarning: \u001b[0m\u001b[0m\u001b[1mVersion constraints inside provider configuration blocks are deprecated\u001b[0m\n",
      "\u001b[33m│\u001b[0m \u001b[0m\n",
      "\u001b[33m│\u001b[0m \u001b[0m\u001b[0m  on main.tf line 2, in provider \"google\":\n",
      "\u001b[33m│\u001b[0m \u001b[0m   2:   version = \u001b[4m\"~> 3.45.0\"\u001b[0m\u001b[0m\n",
      "\u001b[33m│\u001b[0m \u001b[0m\n",
      "\u001b[33m│\u001b[0m \u001b[0mTerraform 0.13 and earlier allowed provider version constraints inside the\n",
      "\u001b[33m│\u001b[0m \u001b[0mprovider configuration block, but that is now deprecated and will be removed\n",
      "\u001b[33m│\u001b[0m \u001b[0min a future version of Terraform. To silence this warning, move the provider\n",
      "\u001b[33m│\u001b[0m \u001b[0mversion constraint into the required_providers block.\n",
      "\u001b[33m╵\u001b[0m\u001b[0m\n",
      "\u001b[0m\u001b[0m\n",
      "\u001b[0m\u001b[1m\u001b[32mTerraform has been successfully initialized!\u001b[0m\u001b[32m\u001b[0m\n",
      "\u001b[0m\u001b[32m\n",
      "You may now begin working with Terraform. Try running \"terraform plan\" to see\n",
      "any changes that are required for your infrastructure. All Terraform commands\n",
      "should now work.\n",
      "\n",
      "If you ever set or change modules or backend configuration for Terraform,\n",
      "rerun this command to reinitialize your working directory. If you forget, other\n",
      "commands will detect it and remind you to do so if necessary.\u001b[0m\n",
      "\u001b[?2004h\u001b[?2004l\u001b[?2004l\u001b[?2004l"
     ]
    },
    {
     "ename": "",
     "evalue": "1",
     "output_type": "error",
     "traceback": []
    }
   ],
   "source": [
    "#gcp GKE app clusters\n",
    "echo \"Provisoning GKE K8s App Clusters...\"\n",
    "# cd $MAIN_DIR/terraform/k8s-scheduler-services\n",
    "terraform -chdir=$MAIN_DIR/terraform/k8s-scheduler-services init\n",
    "cat > $MAIN_DIR/terraform/k8s-scheduler-services/terraform.tfvars <<EOF\n",
    "gcp_project_id=\"$(echo $INSTRUQT_GCP_PROJECT_CONSUL_PROJECT_ID)\"\n",
    "EOF"
   ]
  },
  {
   "cell_type": "code",
   "execution_count": null,
   "id": "2b6b7ef1-d596-4c23-bbce-15b73aa52c4e",
   "metadata": {},
   "outputs": [],
   "source": [
    "export GOOGLE_CREDENTIALS=$(echo $INSTRUQT_GCP_PROJECT_CONSUL_SERVICE_ACCOUNT_KEY | base64 -d)\n",
    "nohup terraform -chdir=$MAIN_DIR/terraform/k8s-scheduler-services apply -auto-approve 2>&1 | tee $MAIN_DIR/terraform/k8s-scheduler-services/nohup.out &"
   ]
  },
  {
   "cell_type": "markdown",
   "id": "741733e1-e57a-4253-aede-e344ebd3cb5b",
   "metadata": {},
   "source": [
    "#### Provisoning AWS ElastiCache"
   ]
  },
  {
   "cell_type": "code",
   "execution_count": null,
   "id": "696d4ae4-7ec7-4706-96e3-962040603b2d",
   "metadata": {},
   "outputs": [],
   "source": [
    "#aws elasticache\n",
    "echo \"Provisoning AWS ElastiCache...\"\n",
    "cd $MAIN_DIR/terraform/cache-services\n",
    "terraform init\n",
    "AWS_CONSUL_IP=$(terraform output -state /root/terraform/aws-consul-primary/terraform.tfstate aws_consul_public_ip)\n",
    "cat <<EOF > $MAIN_DIR/terraform/cache-services/terraform.tfvars\n",
    "consul_http_addr=\"http://127.0.0.1:8500\"\n",
    "EOF\n",
    "nohup terraform apply -target=aws_elasticache_cluster.redis -auto-approve 2>&1 | tee nohup.out &"
   ]
  },
  {
   "cell_type": "markdown",
   "id": "80d50205-52aa-455c-8c9e-1a7f8c410414",
   "metadata": {},
   "source": [
    "#### Provisoning Azure PostgreSQL"
   ]
  },
  {
   "cell_type": "code",
   "execution_count": null,
   "id": "2a322dae-2c7b-49c3-b402-827529f3c285",
   "metadata": {},
   "outputs": [],
   "source": [
    "#azure postgreSQL\n",
    "echo \"Provisoning Azure PostgreSQL...\"\n",
    "cd $MAIN_DIR/terraform/database-services\n",
    "terraform init\n",
    "AZURE_CONSUL_IP=$(terraform output -state /root/terraform/azure-consul-secondary/terraform.tfstate azure_consul_public_ip)\n",
    "cat <<EOF > $MAIN_DIR/terraform/database-services/terraform.tfvars\n",
    "consul_http_addr=\"http://127.0.0.1:8500\"\n",
    "EOF\n",
    "nohup terraform apply -target=azurerm_postgresql_server.postgres -auto-approve 2>&1 | tee nohup.out &"
   ]
  },
  {
   "cell_type": "markdown",
   "id": "9beeb86e-7e75-438c-8dfa-f3056279212d",
   "metadata": {},
   "source": [
    "## Clean Up"
   ]
  },
  {
   "cell_type": "markdown",
   "id": "eeda4ba4-648f-4ec4-898b-d510ac651d8a",
   "metadata": {},
   "source": [
    "### Remove Cloud Assets"
   ]
  },
  {
   "cell_type": "markdown",
   "id": "d95512b9-9562-426b-866f-8f7cad4194c0",
   "metadata": {},
   "source": [
    "### Azure"
   ]
  },
  {
   "cell_type": "markdown",
   "id": "e7bd50f9-80ab-473f-ae8a-10bdbae807c2",
   "metadata": {},
   "source": [
    "Remove Azure Resource Group for Packer"
   ]
  },
  {
   "cell_type": "code",
   "execution_count": null,
   "id": "e4c96cc3-565b-4854-88f6-0dd62659de8c",
   "metadata": {},
   "outputs": [],
   "source": [
    "az group delete -y --no-wait -n ${POC_NAME}-packer"
   ]
  },
  {
   "cell_type": "markdown",
   "id": "a22fccd9-a814-44c5-854e-aaee0a6b1724",
   "metadata": {},
   "source": [
    "## Terraform Destroy"
   ]
  },
  {
   "cell_type": "code",
   "execution_count": null,
   "id": "a0f0b263-254b-4221-881f-6256fb2df429",
   "metadata": {
    "tags": []
   },
   "outputs": [],
   "source": [
    "terraform -chdir=terraform/infra plan -destroy "
   ]
  },
  {
   "cell_type": "code",
   "execution_count": null,
   "id": "7077aea3-178b-4677-b821-78e33b6631ab",
   "metadata": {
    "tags": []
   },
   "outputs": [],
   "source": [
    "terraform -chdir=terraform/infra destroy -auto-approve"
   ]
  },
  {
   "cell_type": "markdown",
   "id": "801e173e-44bc-490e-9389-890ba11e4e0f",
   "metadata": {},
   "source": [
    "### Remove Assets"
   ]
  },
  {
   "cell_type": "code",
   "execution_count": null,
   "id": "74d28ccc-6494-40c9-8cc5-2b2af82e7759",
   "metadata": {},
   "outputs": [],
   "source": [
    "pushd $MAIN_DIR\n",
    "rm -rf $GIT_REPO_DIR apps helm packer policies terraform nohup.out\n",
    "popd"
   ]
  },
  {
   "cell_type": "markdown",
   "id": "fd210836-7087-4ed1-9e8f-9a471cd5538e",
   "metadata": {},
   "source": [
    "# Misc"
   ]
  },
  {
   "cell_type": "markdown",
   "id": "f4a599c6-eb26-4637-8e6c-416c701d65e3",
   "metadata": {},
   "source": [
    "### Packer"
   ]
  },
  {
   "cell_type": "code",
   "execution_count": null,
   "id": "4186e73c-288e-48c6-93d6-b77ec6729016",
   "metadata": {},
   "outputs": [],
   "source": [
    "The terraform code will provision cloud infrastructure in AWS, GPC, and Azure.\n",
    "\n",
    "Your lab environment will leverage pre-built packer images.\n",
    "You can inspect the image build in the code editor, and validate the images are available in AWS & Azure."
   ]
  },
  {
   "cell_type": "markdown",
   "id": "3151973a-ee4a-462d-b5a0-b411063e5e1d",
   "metadata": {},
   "source": [
    "Validate the images are available in AWS & Azure"
   ]
  },
  {
   "cell_type": "code",
   "execution_count": null,
   "id": "f239f93c-0d31-4974-9c92-8b5f5a7059a0",
   "metadata": {},
   "outputs": [],
   "source": [
    "az image list -g packer | jq\n",
    "# aws ec2 describe-images --owners self | jq"
   ]
  },
  {
   "cell_type": "code",
   "execution_count": null,
   "id": "aae6464f-490a-4527-9680-11acb0e96499",
   "metadata": {},
   "outputs": [],
   "source": [
    "docker run --rm -d \\\n",
    "    --name consul \\\n",
    "    -p 8500:8500 \\\n",
    "    -e 'VAULT_DEV_ROOT_TOKEN_ID=root' \\\n",
    "    -e \"VAULT_ADDR=http://127.0.0.1:8200\" \\\n",
    "    hashicorp/consul"
   ]
  }
 ],
 "metadata": {
  "kernelspec": {
   "display_name": "Bash",
   "language": "bash",
   "name": "bash"
  },
  "language_info": {
   "codemirror_mode": "shell",
   "file_extension": ".sh",
   "mimetype": "text/x-sh",
   "name": "bash"
  }
 },
 "nbformat": 4,
 "nbformat_minor": 5
}
