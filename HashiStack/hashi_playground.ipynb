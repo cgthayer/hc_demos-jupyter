{
 "cells": [
  {
   "cell_type": "markdown",
   "id": "36c5ec8a-c1fd-458e-8102-ef4946dd20b0",
   "metadata": {},
   "source": [
    "# Setting Up Your Lab Environment"
   ]
  },
  {
   "cell_type": "markdown",
   "id": "a443b513-ef26-4876-9b02-1dc76afd5500",
   "metadata": {},
   "source": [
    "This guide shows you how to setup a Hashi environment for testing features in Consul, Vault, and Nomad.\n",
    "\n",
    "Things to note:\n",
    "* If you use Enterprise binaries\n",
    "  * Enterprise binaries (`+ent`) need to be licensed - set in `docker-compose*.yml`\n",
    "  * Consul 1.9, Nomad 1.0, Vault 1.7 has a starter license of 6 hours.\n",
    "  * Consul 1.10+, Nomad 1.1+, and Vault 1.8+ requires a license file or it won't start\n",
    "  * `Prem` images have their licenses baked in.\n"
   ]
  },
  {
   "cell_type": "markdown",
   "id": "8556fb65-bdaf-41b4-92de-19be2999e8bd",
   "metadata": {},
   "source": [
    "## Prerequisites"
   ]
  },
  {
   "cell_type": "markdown",
   "id": "22beff95-169b-4fc3-af04-8b16fb154d97",
   "metadata": {
    "tags": []
   },
   "source": [
    "### Set Key Variables for your environment"
   ]
  },
  {
   "cell_type": "markdown",
   "id": "04536459-ca22-45c6-9980-8bffeec0bb45",
   "metadata": {},
   "source": [
    "Customize `CONSUL_DC` and `CONSUL_DC_2` if desired.  Note: if you reset the kernel, you'll have to re-run this part."
   ]
  },
  {
   "cell_type": "code",
   "execution_count": null,
   "id": "0aec0aca-6353-4c01-83da-27d2a0be79bf",
   "metadata": {},
   "outputs": [],
   "source": [
    "export CONSUL_DC=dc1 CONSUL_DC_2=dc2\n",
    "export COMPOSE_PROJECT_NAME=hashi\n",
    "#// compose file - files on the right take precedence\n",
    "export COMPOSE_FILE=docker-compose.yml:docker-compose-proxy.yml:docker-compose-vault.yml:docker-compose-hashi.yml\n",
    "printf \"$CONSUL_DC \\n$CONSUL_DC_2 \\n$COMPOSE_PROJECT_NAME \\n$COMPOSE_FILE\""
   ]
  },
  {
   "cell_type": "markdown",
   "id": "b7c312ab-c43b-4a3a-a3d8-e442d0ece54d",
   "metadata": {},
   "source": [
    "* `CONSUL_DC*` - is used for Consul config files, docker-compose files, and more.\n",
    "* `COMPOSE_FILE` - specifies the docker-compose files to work with"
   ]
  },
  {
   "cell_type": "markdown",
   "id": "4fc1f8d4-bfaf-479e-b205-84dcb5910554",
   "metadata": {},
   "source": [
    "### What's the Jupyter environment"
   ]
  },
  {
   "cell_type": "code",
   "execution_count": null,
   "id": "e8a57591-84be-4662-86b7-ed0c04d21aaa",
   "metadata": {},
   "outputs": [],
   "source": [
    "echo Shell $0\n",
    "echo Pwd $(pwd)\n",
    "echo == LS ==\n",
    "ls\n",
    "echo == Docker ==\n",
    "docker ps\n",
    "echo == PS ==\n",
    "ps"
   ]
  },
  {
   "cell_type": "markdown",
   "id": "c66e7728-2611-46ea-8c17-7bc98f7d1ca2",
   "metadata": {},
   "source": [
    "### Install software"
   ]
  },
  {
   "cell_type": "markdown",
   "id": "4d94d4e1-cfec-4702-85da-89c593f4c9fa",
   "metadata": {},
   "source": [
    "#### Hashi software"
   ]
  },
  {
   "cell_type": "markdown",
   "id": "fd3d3566-a2a3-4563-aba5-7c0c7f74ede0",
   "metadata": {},
   "source": [
    "Customize the versions, architecture, and os for your environment. It's currently set for Ubuntu on Pi so update it. If it fails use a web browser to https://releases.hashicorp.com/vault/"
   ]
  },
  {
   "cell_type": "code",
   "execution_count": null,
   "id": "269d0e73-4f1e-4966-a980-30d32ccfbdc2",
   "metadata": {},
   "outputs": [],
   "source": [
    "#// +ent for enterprise\n",
    "VAULT_VER=1.8.5+ent\n",
    "CONSUL_VER=1.10.4+ent\n",
    "NOMAD_VER=1.2.2 #1.1.7+ent\n",
    "\n",
    "VAULT_VER=1.8.5\n",
    "CONSUL_VER=1.10.4\n",
    "NOMAD_VER=1.2.2\n",
    "\n",
    "# Set these\n",
    "ARCH=amd86 #// arm64\n",
    "OS=darwin #// darwin, linux\n",
    "\n",
    "curl -L -o /tmp/vault.zip \\\n",
    "  https://releases.hashicorp.com/vault/${VAULT_VER}/vault_${VAULT_VER}_${OS}_${ARCH}.zip\n",
    "curl -L -o /tmp/consul.zip \\\n",
    "  https://releases.hashicorp.com/consul/${CONSUL_VER}/consul_${CONSUL_VER}_${OS}_${ARCH}.zip\n",
    "curl -L -o /tmp/nomad.zip \\\n",
    "  https://releases.hashicorp.com/nomad/${NOMAD_VER}/nomad_${NOMAD_VER}_${OS}_${ARCH}.zip"
   ]
  },
  {
   "cell_type": "markdown",
   "id": "717ffaf7-22a7-489c-b31f-bdafcf232459",
   "metadata": {},
   "source": [
    "May need to cut-n-paste this one due to the password for sudo"
   ]
  },
  {
   "cell_type": "code",
   "execution_count": null,
   "id": "30ae31c7-3852-4cbb-b005-f5c229d92fee",
   "metadata": {
    "tags": []
   },
   "outputs": [],
   "source": [
    "for bin in consul vault nomad; do\n",
    "sudo unzip -od /usr/local/bin /tmp/${bin}.zip && ${bin} version\n",
    "done"
   ]
  },
  {
   "cell_type": "markdown",
   "id": "18ae06a9-5c59-4b17-88ae-2efc3956f3bb",
   "metadata": {
    "tags": []
   },
   "source": [
    "Optional:"
   ]
  },
  {
   "cell_type": "code",
   "execution_count": null,
   "id": "c5f5ea27-29a3-4ac5-ad56-c17288754e72",
   "metadata": {},
   "outputs": [],
   "source": [
    "for bin in consul vault nomad; do\n",
    "${bin} -autocomplete-install || true\n",
    "done"
   ]
  },
  {
   "cell_type": "markdown",
   "id": "b9070edb-b15a-4d10-a865-9be79959fcd2",
   "metadata": {},
   "source": [
    "Ubuntu Linux - UNDER DEVELOPMENT - NOT WORKING FOR ARM64"
   ]
  },
  {
   "cell_type": "code",
   "execution_count": null,
   "id": "6b2c2aa7-547b-4bdf-8ef1-151b27f93b9a",
   "metadata": {
    "tags": []
   },
   "outputs": [],
   "source": [
    "ARCH=arm64\n",
    "# curl -fsSL https://apt.releases.hashicorp.com/gpg | sudo apt-key add -\n",
    "sudo apt-add-repository \\\n",
    "    \"deb [arch=${ARCH}] https://apt.releases.hashicorp.com $(lsb_release -cs) main\" \\\n",
    "    && sudo apt-get update #&& sudo apt-get install nomad"
   ]
  },
  {
   "cell_type": "markdown",
   "id": "84acba90-84f4-4410-9997-10ba32420c92",
   "metadata": {},
   "source": [
    "#### Other Software"
   ]
  },
  {
   "cell_type": "code",
   "execution_count": null,
   "id": "3b2ee477-924a-4fc6-9949-694aceff2cf2",
   "metadata": {},
   "outputs": [],
   "source": [
    "sudo apt install -qq unzip python3-pip"
   ]
  },
  {
   "cell_type": "markdown",
   "id": "7cd66754-9f69-4563-803e-8e7285ffe951",
   "metadata": {
    "tags": []
   },
   "source": [
    "#### Docker and Docker Compose\n",
    "\n",
    "You may be able to skip this, if already installed\n",
    "\n",
    "* Ubuntu and Raspbian\n",
    "  * https://dev.to/elalemanyo/how-to-install-docker-and-docker-compose-on-raspberry-pi-1mo"
   ]
  },
  {
   "cell_type": "code",
   "execution_count": null,
   "id": "06b9f977-2ad4-48e9-93cc-f0820f234391",
   "metadata": {},
   "outputs": [],
   "source": [
    "if which docker; then\n",
    "  echo Already installed, Yay\n",
    "else\n",
    "  #// docker\n",
    "  curl -sSL https://get.docker.com | sh\n",
    "  sudo usermod -aG docker ${USER}\n",
    "  sudo systemctl enable docker\n",
    "  #// docker-compose\n",
    "  sudo pip3 install docker-compose\n",
    "  sudo pip3 install docker-compose\n",
    "fi"
   ]
  },
  {
   "cell_type": "markdown",
   "id": "a7e68e50-1830-478b-b129-548547eb7481",
   "metadata": {},
   "source": [
    "* Mac - https://docs.docker.com/desktop/mac/install/"
   ]
  },
  {
   "cell_type": "markdown",
   "id": "d9034dd4-22f1-4918-98bc-268e907059d7",
   "metadata": {
    "tags": []
   },
   "source": [
    "## Consul Setup - Primary"
   ]
  },
  {
   "cell_type": "markdown",
   "id": "5b6b2d0c-4801-4063-aef6-838ad468737a",
   "metadata": {},
   "source": [
    "Quick overview: We're going to create a consul cluster for the primary datacenter. This includes getting some keys set up for all the consul agents, both client and servers.  We'll start these up using docker-compose.  The number of servers should be 3 or 5, and the number of clients doesn't really matter here.  Here's what we're shooting for ultimately, but yours may be a little different.\n",
    "\n",
    "<img src=\"images/federation-lab-jup.png\">"
   ]
  },
  {
   "cell_type": "markdown",
   "id": "07aaba2f-9b43-4948-8235-dad5339242ed",
   "metadata": {},
   "source": [
    "Create needed directories."
   ]
  },
  {
   "cell_type": "code",
   "execution_count": null,
   "id": "11dfd5ed-9636-438b-81ef-fe3bdaab924d",
   "metadata": {},
   "outputs": [],
   "source": [
    "mkdir -p consul/config\n",
    "mkdir -p consul/cert/{server,client}\n",
    "ls -R consul"
   ]
  },
  {
   "cell_type": "markdown",
   "id": "c8f8b907-e927-4436-a3c3-28b568b9ddaf",
   "metadata": {
    "tags": []
   },
   "source": [
    "### Generate Consul Gossip Encryption Key"
   ]
  },
  {
   "cell_type": "markdown",
   "id": "165a044a-924f-4aa7-9db8-4edfd9bae009",
   "metadata": {},
   "source": [
    "Generate encryption key for Gossip - UDP; same key for all agents; [more info](https://learn.hashicorp.com/consul/security-networking/agent-encryption)"
   ]
  },
  {
   "cell_type": "code",
   "execution_count": null,
   "id": "8d9f979f-745d-4fc4-9f7e-1b47ad1840d8",
   "metadata": {},
   "outputs": [],
   "source": [
    "CONSUL_KEY=$(consul keygen) && echo $CONSUL_KEY"
   ]
  },
  {
   "cell_type": "markdown",
   "id": "c0d36a31-ac1d-491f-a822-174ffdcf144d",
   "metadata": {},
   "source": [
    "Sample Output: `qDOPBEr+/oUVeOFQOnVypxwDaHzLrD+lvjo5vCEBbZ0=`"
   ]
  },
  {
   "cell_type": "markdown",
   "id": "9ca66752-2fdc-4635-83f2-7a0706272146",
   "metadata": {},
   "source": [
    "### Create CA and Certs for RPC Encryption"
   ]
  },
  {
   "cell_type": "markdown",
   "id": "83b9cbe5-0315-40f6-9e14-0699bf386201",
   "metadata": {},
   "source": [
    "#### Create Certificate Authority"
   ]
  },
  {
   "cell_type": "markdown",
   "id": "f6d68554-afe7-40c0-8daa-8c641459f9ec",
   "metadata": {},
   "source": [
    "Create Certificate Authority"
   ]
  },
  {
   "cell_type": "code",
   "execution_count": null,
   "id": "2ffee1e0-374b-4d66-8cc1-d6e680661c8b",
   "metadata": {},
   "outputs": [],
   "source": [
    "consul tls ca create || true"
   ]
  },
  {
   "cell_type": "markdown",
   "id": "da632895-90f2-4b43-9214-d667e11be5ba",
   "metadata": {},
   "source": [
    "Output\n",
    "```\n",
    "==> Saved consul-agent-ca.pem\n",
    "==> Saved consul-agent-ca-key.pem\n",
    "```"
   ]
  },
  {
   "cell_type": "markdown",
   "id": "d00a3e3f-c54d-4b46-9c3f-a7ee9131ca5c",
   "metadata": {},
   "source": [
    "Copy CA Public Key to all consul agents using the shared `client` and `server` folders."
   ]
  },
  {
   "cell_type": "code",
   "execution_count": null,
   "id": "1cac1dd4-dcca-416f-bc64-2ea00a4ef262",
   "metadata": {},
   "outputs": [],
   "source": [
    "for dir in client server; do\n",
    "cp -v consul-agent-ca.pem consul/cert/${dir}/\n",
    "done"
   ]
  },
  {
   "cell_type": "markdown",
   "id": "3d252965-73b6-4666-848a-b7a7e73a5f85",
   "metadata": {},
   "source": [
    "#### Create Server and Client Certificates"
   ]
  },
  {
   "cell_type": "markdown",
   "id": "1406178d-5429-4ed6-b484-52b5d867b5d6",
   "metadata": {},
   "source": [
    "Create server certificate and move it to shared `server` folder."
   ]
  },
  {
   "cell_type": "code",
   "execution_count": null,
   "id": "40848170-c450-45ea-8162-5eb1bb7a2724",
   "metadata": {
    "tags": []
   },
   "outputs": [],
   "source": [
    "consul tls cert create -server -dc ${CONSUL_DC}\n",
    "mv ${CONSUL_DC}-server-consul-*.pem consul/cert/server/"
   ]
  },
  {
   "cell_type": "markdown",
   "id": "b63bad21-8615-4462-a323-d25f8927583e",
   "metadata": {},
   "source": [
    "Output\n",
    "```\n",
    "==> WARNING: Server Certificates grants authority to become a\n",
    "    server and access all state in the cluster including root keys\n",
    "    and all ACL tokens. Do not distribute them to production hosts\n",
    "    that are not server nodes. Store them as securely as CA keys.\n",
    "==> Using consul-agent-ca.pem and consul-agent-ca-key.pem\n",
    "==> Saved west-server-consul-0.pem\n",
    "==> Saved west-server-consul-0-key.pem\n",
    "```"
   ]
  },
  {
   "cell_type": "markdown",
   "id": "e59cb2a8-d0a1-4b73-83a1-a84a8f17d457",
   "metadata": {},
   "source": [
    "Now the same for the **second** datacenter"
   ]
  },
  {
   "cell_type": "code",
   "execution_count": null,
   "id": "0f8d73cf-27a9-42e2-8e0e-263a9852e8e6",
   "metadata": {
    "tags": []
   },
   "outputs": [],
   "source": [
    "consul tls cert create -server -dc ${CONSUL_DC_2}\n",
    "mv ${CONSUL_DC_2}-server-consul-*.pem consul/cert/server/"
   ]
  },
  {
   "cell_type": "markdown",
   "id": "1873cf08-426e-49f8-b52f-1d72f0340f00",
   "metadata": {},
   "source": [
    "Output\n",
    "```\n",
    "==> WARNING: Server Certificates grants authority to become a\n",
    "    server and access all state in the cluster including root keys\n",
    "    and all ACL tokens. Do not distribute them to production hosts\n",
    "    that are not server nodes. Store them as securely as CA keys.\n",
    "==> Using consul-agent-ca.pem and consul-agent-ca-key.pem\n",
    "==> Saved east-server-consul-0.pem\n",
    "==> Saved east-server-consul-0-key.pem\n",
    "```"
   ]
  },
  {
   "cell_type": "markdown",
   "id": "9f24af2d-ded9-4319-9d80-f79167b4acce",
   "metadata": {},
   "source": [
    "Create client certificate and move it to shared `client` folder."
   ]
  },
  {
   "cell_type": "code",
   "execution_count": null,
   "id": "26040d6b-5e38-4170-b9ab-c3ea4c4c62a1",
   "metadata": {
    "tags": []
   },
   "outputs": [],
   "source": [
    "consul tls cert create -client -dc ${CONSUL_DC} && \\\n",
    "  mv ${CONSUL_DC}-client-consul-*.pem consul/cert/client"
   ]
  },
  {
   "cell_type": "markdown",
   "id": "eb2760f7-58ad-4360-aa18-26a1985eb94a",
   "metadata": {},
   "source": [
    "Output\n",
    "```\n",
    "==> Using consul-agent-ca.pem and consul-agent-ca-key.pem\n",
    "==> Saved west-client-consul-0.pem\n",
    "==> Saved west-client-consul-0-key.pem\n",
    "```"
   ]
  },
  {
   "cell_type": "code",
   "execution_count": null,
   "id": "040d588a-a91b-4cf2-a6e6-77168731580e",
   "metadata": {},
   "outputs": [],
   "source": [
    "consul tls cert create -client -dc ${CONSUL_DC_2} && \\\n",
    "  mv ${CONSUL_DC_2}-client-consul-*.pem consul/cert/client"
   ]
  },
  {
   "cell_type": "markdown",
   "id": "908b7581-9ed5-470f-a052-404aa4ab07c6",
   "metadata": {},
   "source": [
    "### Create Consul Configs"
   ]
  },
  {
   "cell_type": "markdown",
   "id": "a69a43fa-b13e-425c-8c42-84a0e37f4e4a",
   "metadata": {},
   "source": [
    "#### Consul Server Configuration"
   ]
  },
  {
   "cell_type": "markdown",
   "id": "09c7a93d-2418-4ea6-a513-e9950c743fac",
   "metadata": {},
   "source": [
    "Create Core Consul config - Server\n",
    "\n",
    "Using a generic configuration. Using CLI parameters to customize at run time"
   ]
  },
  {
   "cell_type": "code",
   "execution_count": null,
   "id": "bf63d9ea-794a-495e-91b0-8917a7549cd0",
   "metadata": {
    "tags": []
   },
   "outputs": [],
   "source": [
    "for i in {0..2}; do\n",
    "cat > consul/config/server$i.hcl <<-EOF\n",
    "# datacenter  = \"${CONSUL_DC}\" # in CLI\n",
    "# node_name   = \"ConsulServer${i}\" # in CLI or use hostname\n",
    "bind_addr   = \"0.0.0.0\" #default\n",
    "client_addr = \"0.0.0.0\" #default 127.0.0.1\n",
    "data_dir    = \"/consul/data\"\n",
    "log_level   = \"DEBUG\"\n",
    "\n",
    "encrypt     = \"${CONSUL_KEY}\"\n",
    "ca_file     = \"/consul/cert/consul-agent-ca.pem\"\n",
    "cert_file   = \"/consul/cert/${CONSUL_DC}-server-consul-0.pem\"\n",
    "key_file    = \"/consul/cert/${CONSUL_DC}-server-consul-0-key.pem\"\n",
    "verify_incoming = true\n",
    "verify_outgoing = true\n",
    "verify_server_hostname = true\n",
    "\n",
    "# server           =  true # in CLI\n",
    "bootstrap_expect = 3\n",
    "retry_join  = [ \"consul-server-0\", \"consul-server-1\", \"consul-server-2\" ]\n",
    "ui_config { enabled = true } \n",
    "\n",
    "#// 5 is default multiplier\n",
    "performance {\n",
    "  raft_multiplier = 2 #// fast but not too fast\n",
    "}\n",
    "\n",
    "discovery_max_stale = \"5s\"\n",
    "\n",
    "telemetry {\n",
    "    prometheus_retention_time = \"8h\",\n",
    "    disable_hostname = true\n",
    "}\n",
    "\n",
    "connect {\n",
    "    enabled = true\n",
    "}\n",
    "\n",
    "enable_local_script_checks = true\n",
    "EOF\n",
    "done\n",
    "ls -l consul/config/server*"
   ]
  },
  {
   "cell_type": "markdown",
   "id": "dd593790-cdf7-4385-8299-5f1f3d7a3841",
   "metadata": {},
   "source": [
    "The config is generic-ish. The command in `docker-compose` file will specify more flags."
   ]
  },
  {
   "cell_type": "markdown",
   "id": "1a4b02ef-b7e8-49f9-909a-9e9c6ec4dd28",
   "metadata": {},
   "source": [
    "#### Consul Client Configuration"
   ]
  },
  {
   "cell_type": "markdown",
   "id": "52ce9207-5bf5-4e29-a0d3-46025356d0af",
   "metadata": {},
   "source": [
    "Create Core Consul config - Client"
   ]
  },
  {
   "cell_type": "code",
   "execution_count": null,
   "id": "d73daddf-4e18-4a81-a0c1-e02d54f767aa",
   "metadata": {},
   "outputs": [],
   "source": [
    "tee consul/config/client.hcl <<-EOF\n",
    "# datacenter  = \"dc1\" # in CLI\n",
    "# node_name   = \"ConsulServer${i}\" # in CLI\n",
    "bind_addr   = \"0.0.0.0\" #default\n",
    "client_addr = \"0.0.0.0\" #default 127.0.0.1\n",
    "data_dir    = \"/consul/data\"\n",
    "\n",
    "encrypt     = \"${CONSUL_KEY}\"\n",
    "ca_file     = \"/consul/cert/consul-agent-ca.pem\"\n",
    "cert_file   = \"/consul/cert/${CONSUL_DC}-client-consul-0.pem\"\n",
    "key_file    = \"/consul/cert/${CONSUL_DC}-client-consul-0-key.pem\"\n",
    "verify_incoming = true\n",
    "verify_outgoing = true\n",
    "verify_server_hostname = true\n",
    "\n",
    "ui               = true\n",
    "retry_join  = [ \"consul-server-0\", \"consul-server-1\", \"consul-server-2\" ]\n",
    "\n",
    "discovery_max_stale = \"5s\"\n",
    "\n",
    "telemetry {\n",
    "    prometheus_retention_time = \"8h\",\n",
    "    disable_hostname = true\n",
    "}\n",
    "\n",
    "connect {\n",
    "    enabled = true\n",
    "}\n",
    "\n",
    "enable_local_script_checks = true\n",
    "EOF"
   ]
  },
  {
   "cell_type": "markdown",
   "id": "931e7f0c-a842-467e-a8fd-9a426e8e2970",
   "metadata": {},
   "source": [
    "#### Consul ACL Configuration"
   ]
  },
  {
   "cell_type": "markdown",
   "id": "5d4c4256-fbc4-4c2b-ae36-baef08d0aae0",
   "metadata": {},
   "source": [
    "Create Consul config for misc features eg `acl`, `performance multiplier`, etc.\n",
    "We'll skip this for now, since ACLs will make things more challenging."
   ]
  },
  {
   "cell_type": "code",
   "execution_count": null,
   "id": "0007cd85-3bdb-48a7-a7f9-87b8bf89a08f",
   "metadata": {},
   "outputs": [],
   "source": [
    "cat > consul/config/acl.hcl << EOF\n",
    "# acl = {\n",
    "#   enabled = true\n",
    "#   default_policy = \"deny\"\n",
    "#   down_policy    = \"extend-cache\"\n",
    "#   enable_token_persistence = true\n",
    "#   # tokens = {\n",
    "#   #   master = \"49792521-8362-f878-5a32-7405f1783838\"\n",
    "#   # }\n",
    "# }\n",
    "EOF"
   ]
  },
  {
   "cell_type": "code",
   "execution_count": null,
   "id": "dde17e47-e700-4835-b70d-137e4780f469",
   "metadata": {},
   "outputs": [],
   "source": [
    "for i in {0..2}; do\n",
    "  echo == server $i ==\n",
    "  docker-compose restart consul-server-${i}\n",
    "  sleep 3\n",
    "done"
   ]
  },
  {
   "cell_type": "code",
   "execution_count": null,
   "id": "faab8059-f78b-41fa-af7e-4b69dbf53b8b",
   "metadata": {},
   "outputs": [],
   "source": [
    "consul members\n",
    "consul operator raft list-peers"
   ]
  },
  {
   "cell_type": "markdown",
   "id": "48283f1c-6ccb-4a2b-a211-ef57264be109",
   "metadata": {},
   "source": [
    "If ACLs are enabled correctly, the leader's logs will contain the following warning and info messages."
   ]
  },
  {
   "cell_type": "code",
   "execution_count": null,
   "id": "9d2587cf-f317-4795-a46d-43c9ae72c6cb",
   "metadata": {},
   "outputs": [],
   "source": [
    "docker-compose logs --tail=100 | grep -i acl | grep INFO"
   ]
  },
  {
   "cell_type": "markdown",
   "id": "647e0b9b-b891-40d9-a2d6-93fa8da1ea4c",
   "metadata": {},
   "source": [
    "##### Create the bootstrap token"
   ]
  },
  {
   "cell_type": "code",
   "execution_count": null,
   "id": "7a95ea59-f65c-4d32-89ad-525ff891f6a0",
   "metadata": {},
   "outputs": [],
   "source": [
    "consul acl bootstrap"
   ]
  },
  {
   "cell_type": "markdown",
   "id": "f307a8b0-382d-4e96-a62a-204bdaeb8885",
   "metadata": {},
   "source": [
    "**VERIFY** - The logs should contain the following log message."
   ]
  },
  {
   "cell_type": "code",
   "execution_count": null,
   "id": "a940c414-473f-4fd7-894c-282971a93435",
   "metadata": {},
   "outputs": [],
   "source": [
    "docker-compose logs --tail=100 | grep \"ACL bootstrap\"\n",
    "docker-compose logs --tail=100 | grep \"/v1/acl/bootstrap\""
   ]
  },
  {
   "cell_type": "code",
   "execution_count": null,
   "id": "08e3af4f-2079-46a7-9603-40299e12406f",
   "metadata": {},
   "outputs": [],
   "source": [
    "echo \"#==> Without Token - will see no output\"\n",
    "consul members\n",
    "echo \"#==> With Token\"\n",
    "CONSUL_HTTP_TOKEN=1eb8a07d-3b5a-9069-2673-e031a48851a7 consul members"
   ]
  },
  {
   "cell_type": "markdown",
   "id": "a52e8909-c78f-4218-851d-2e153144a5b7",
   "metadata": {},
   "source": [
    "##### Configure Environment Variables"
   ]
  },
  {
   "cell_type": "code",
   "execution_count": null,
   "id": "c451f668-c540-454c-95c7-5e72a8222132",
   "metadata": {},
   "outputs": [],
   "source": [
    "export CONSUL_HTTP_TOKEN=1eb8a07d-3b5a-9069-2673-e031a48851a7\n",
    "# export CONSUL_CACERT=/etc/training/consul/consul-agent-ca.pem\n",
    "# export CONSUL_CLIENT_CERT=/etc/training/consul/<dc-name>-<server/client>-consul-<cert-number>.pem\n",
    "# export CONSUL_CLIENT_KEY=/etc/training/consul/<dc-name>-<server/client>-consul-<cert-number>-key.pem"
   ]
  },
  {
   "cell_type": "markdown",
   "id": "91e23d26-d196-481c-b84f-1e2aa6f23da7",
   "metadata": {},
   "source": [
    "##### Apply the Bootstrap Token to the Agents"
   ]
  },
  {
   "cell_type": "code",
   "execution_count": null,
   "id": "cfe159c2-ac41-4c0e-a2b5-5c9f1335f5ca",
   "metadata": {},
   "outputs": [],
   "source": [
    "for i in {0..2}; do\n",
    "docker exec -i consul-server-${i} sh <<EOF\n",
    "hostname\n",
    "consul acl set-agent-token agent $CONSUL_HTTP_TOKEN\n",
    "EOF\n",
    "done"
   ]
  },
  {
   "cell_type": "markdown",
   "id": "2e9f9321-0eec-49df-ac62-38eab7ace828",
   "metadata": {},
   "source": [
    "ACL token \"agent\" set successfully"
   ]
  },
  {
   "cell_type": "markdown",
   "id": "04108403-26d4-44da-b2de-0181aec30dfa",
   "metadata": {},
   "source": [
    "#### Validate Consul Configuration"
   ]
  },
  {
   "cell_type": "code",
   "execution_count": null,
   "id": "11a2b534-c5b7-4ff2-93de-d847085f1283",
   "metadata": {},
   "outputs": [],
   "source": [
    "consul validate consul/config/ || true"
   ]
  },
  {
   "cell_type": "markdown",
   "id": "9ea22f9b-8d83-44f4-b121-6b6223bf4188",
   "metadata": {},
   "source": [
    "If you see this: `Config validation failed: 'bootstrap_expect > 0' requires 'server = true'`, you can ignore. We specify this from the command line."
   ]
  },
  {
   "cell_type": "code",
   "execution_count": null,
   "id": "8825432f-96fb-4d08-9ac3-c5cb94d23769",
   "metadata": {},
   "outputs": [],
   "source": [
    "consul members\n",
    "consul operator raft list-peers"
   ]
  },
  {
   "cell_type": "markdown",
   "id": "381cc5f7-8a07-46fd-8e8e-c50aaecc2521",
   "metadata": {},
   "source": [
    "Check on the UI\n",
    "\n",
    "1. Go to http://192.168.17.101:8500\n",
    "1. Then go to ACL and enter the token.\n",
    "1. Go to `Nodes` tab and verify you can see the nodes.\n"
   ]
  },
  {
   "cell_type": "markdown",
   "id": "0094bbe8-b5ba-46bd-ba7a-decbc490b70e",
   "metadata": {},
   "source": [
    "### Start Consul docker-compose up"
   ]
  },
  {
   "cell_type": "markdown",
   "id": "f0aa4936-6b10-491b-9cb7-debdf60b0692",
   "metadata": {},
   "source": [
    "We will now bring up the three Consul servers and one client for our first Datacenter. I use `--force-recreate` to have Docker recreate the containers. This is handy for a fresh start when testing code bits."
   ]
  },
  {
   "cell_type": "code",
   "execution_count": null,
   "id": "562fa75d-bd73-49d2-ae41-96a3da7bc304",
   "metadata": {
    "tags": []
   },
   "outputs": [],
   "source": [
    "#// Check your docker-compose configuration\n",
    "docker-compose config"
   ]
  },
  {
   "cell_type": "code",
   "execution_count": null,
   "id": "f3719317-9a40-46bd-a33e-8479eb703d6f",
   "metadata": {},
   "outputs": [],
   "source": [
    "export CONSUL_DC=west CONSUL_DC_2=east\n",
    "docker-compose \\\n",
    "  up --force-recreate -d \\\n",
    "  consul-server-0 consul-server-1 consul-server-2 consul-agent-1 #\\\n",
    "  # && docker ps --format \"table {{.Image}}\\t{{.Names}}\\t{{.Ports}}\""
   ]
  },
  {
   "cell_type": "markdown",
   "id": "2a7670ef-2017-4fde-b8c6-924d2b2b2e25",
   "metadata": {},
   "source": [
    "> NOTE: We specify only the containers we want to bring up. If you don't specify something, then everything comes up."
   ]
  },
  {
   "cell_type": "markdown",
   "id": "0497825d-ab02-40f7-94b4-32f08a063b2a",
   "metadata": {},
   "source": [
    "Verify containers are up"
   ]
  },
  {
   "cell_type": "code",
   "execution_count": null,
   "id": "6236b65c-11ae-4bca-abf8-0f0019ae3506",
   "metadata": {},
   "outputs": [],
   "source": [
    "docker ps --format \"table {{.Image}}\\t{{.Names}}\\t{{.Ports}}\" -f name=consul"
   ]
  },
  {
   "cell_type": "markdown",
   "id": "20cd9884-4687-4944-b5e9-748b3edf03a2",
   "metadata": {},
   "source": [
    "### Verify Consul"
   ]
  },
  {
   "cell_type": "code",
   "execution_count": null,
   "id": "c4997309-684c-454f-a101-82c9f26f4d79",
   "metadata": {
    "tags": []
   },
   "outputs": [],
   "source": [
    "for i in {0..2}; do\n",
    "docker logs consul-server-${i} | (head; tail -n 5)\n",
    "done"
   ]
  },
  {
   "cell_type": "markdown",
   "id": "014e86d9-58f3-4430-ac5c-6e3207264113",
   "metadata": {},
   "source": [
    "Quick check to make sure your Consul environment is running correctly."
   ]
  },
  {
   "cell_type": "code",
   "execution_count": null,
   "id": "fbe9979a-7260-4147-86d0-7559f19bbbec",
   "metadata": {
    "tags": []
   },
   "outputs": [],
   "source": [
    "printf \"#==> List Members\\n\"\n",
    "consul members\n",
    "# curl http://127.0.0.1:8500/v1/agent/members | jq -c .[]\n",
    "printf \"\\n#==> List Raft Peers\\n\"\n",
    "consul operator raft list-peers\n",
    "printf \"\\n#==> List services from Consul catalog\\n\"\n",
    "consul catalog services"
   ]
  },
  {
   "cell_type": "markdown",
   "id": "81deed1d-c151-4a75-803c-08fd9232b477",
   "metadata": {},
   "source": [
    "You should see something like the following.\n",
    "\n",
    "* There should be three servers. `DC` should match\n",
    "\n",
    "```#==> List Members\n",
    "Node             Address        Status  Type    Build       Protocol  DC    Segment\n",
    "consul-server-0  10.5.0.2:8301  alive   server  1.9.11+ent  2         west  <all>\n",
    "consul-server-1  10.5.0.3:8301  alive   server  1.9.11+ent  2         west  <all>\n",
    "consul-server-2  10.5.0.4:8301  alive   server  1.9.11+ent  2         west  <all>\n",
    "```\n",
    "\n",
    "* There should be a leader and two followers.\n",
    "\n",
    "```\n",
    "#==> List Raft Peers\n",
    "Node             ID                                    Address        State     Voter  RaftProtocol\n",
    "consul-server-2  08f89457-d9db-b025-c65e-185246fe577c  10.5.0.4:8300  leader    true   3\n",
    "consul-server-1  f4c7057f-83ec-11ac-2027-ca85eccfce89  10.5.0.3:8300  follower  true   3\n",
    "consul-server-0  2c965ad0-5042-424c-259c-a5781d001d28  10.5.0.2:8300  follower  true   3\n",
    "```\n",
    "\n",
    "```\n",
    "#==> List services from Consul catalog\n",
    "consul\n",
    "```"
   ]
  },
  {
   "cell_type": "markdown",
   "id": "ced6e23a-0e86-4c2c-8734-940844689174",
   "metadata": {
    "tags": []
   },
   "source": [
    "## Vault Setup - Primary"
   ]
  },
  {
   "cell_type": "markdown",
   "id": "9a2f80b7-1ce3-4b68-b787-5a9fc0d8b84d",
   "metadata": {
    "tags": []
   },
   "source": [
    "### Create Vault Configs"
   ]
  },
  {
   "cell_type": "code",
   "execution_count": null,
   "id": "ee3ca606-3a5a-4cbd-a3e6-d815c611cafd",
   "metadata": {
    "tags": []
   },
   "outputs": [],
   "source": [
    "# Create Vault Directories\n",
    "for node in {1..5}; do\n",
    "mkdir -p vault/config/vault_s${node}\n",
    "mkdir -p vault/logs/vault_s${node}\n",
    "done"
   ]
  },
  {
   "cell_type": "code",
   "execution_count": null,
   "id": "2caea516-35fd-44b7-b832-f7c56fe927e4",
   "metadata": {
    "tags": []
   },
   "outputs": [],
   "source": [
    "# Create Vault Server Config\n",
    "for i in {1..3}; do\n",
    "cat > vault/config/vault_s${i}/server${i}.hcl <<-EOF\n",
    "# Note: this file will be re-written by script\n",
    "api_addr     = \"http://10.5.0.10${i}:8200\"\n",
    "cluster_addr = \"https://10.5.0.10${i}:8201\"\n",
    "cluster_name = \"${CONSUL_DC}\"\n",
    "disable_mlock = true\n",
    "\n",
    "# Base Configuration\n",
    "listener \"tcp\" {\n",
    "  address = \"0.0.0.0:8200\"\n",
    "  tls_disable = \"true\"\n",
    "#   #tls_cert_file = \"/etc/ssl/certs/vault-server.crt\"\n",
    "#   #tls_key_file  = \"/etc/ssl/vault-server.key\"\n",
    "}\n",
    "\n",
    "ui = \"true\"\n",
    "log_level=\"INFO\"\n",
    "\n",
    "# Raft configuration\n",
    "storage \"raft\" {\n",
    "  path    = \"/vault/file\"\n",
    "  node_id = \"vault_s${i}\"\n",
    "  retry_join {\n",
    "    leader_api_addr = \"http://vault_s1:8200\"\n",
    "  }\n",
    "  retry_join {\n",
    "    leader_api_addr = \"http://vault_s2:8200\"\n",
    "  }\n",
    "  retry_join {\n",
    "    leader_api_addr = \"http://vault_s3:8200\"\n",
    "  }\n",
    "}\n",
    "\n",
    "service_registration \"consul\" {\n",
    "  address = \"consul-server-0:8500\"\n",
    "}\n",
    "\n",
    "telemetry {\n",
    "  prometheus_retention_time = \"30s\"\n",
    "  disable_hostname          = true\n",
    "}\n",
    "# raw_storage_endpoint = true #//for debugging\n",
    "EOF\n",
    "done"
   ]
  },
  {
   "cell_type": "markdown",
   "id": "914e95d8-8442-47ea-97c3-8be08a121f1f",
   "metadata": {},
   "source": [
    "### Vault docker-compose up"
   ]
  },
  {
   "cell_type": "code",
   "execution_count": null,
   "id": "ade22157-4578-41d2-91f9-62b8e363ccf7",
   "metadata": {},
   "outputs": [],
   "source": [
    "# Restart Vault Cluster\n",
    "docker-compose up --force-recreate -d \\\n",
    "  vault_s1 vault_s2 vault_s3"
   ]
  },
  {
   "cell_type": "code",
   "execution_count": null,
   "id": "8c3cc990-4080-4c4b-bdcb-5b26fcffdd5c",
   "metadata": {},
   "outputs": [],
   "source": [
    "docker ps --format \"table {{.Image}}\\t{{.Names}}\\t{{.Ports}}\" -f name=vault"
   ]
  },
  {
   "cell_type": "markdown",
   "id": "2e52c1bc-819d-4300-8647-65bd1fc8e3cb",
   "metadata": {},
   "source": [
    "### Init Vault `init.sh`"
   ]
  },
  {
   "cell_type": "code",
   "execution_count": null,
   "id": "afdb0a78-5e65-4a52-94cc-908dfe85a238",
   "metadata": {},
   "outputs": [],
   "source": [
    "export VAULT_ADDR=http://localhost:8200"
   ]
  },
  {
   "cell_type": "code",
   "execution_count": null,
   "id": "9b825cfb-db52-4813-bf20-6282e0ce81d2",
   "metadata": {},
   "outputs": [],
   "source": [
    "printf \"#==> Init vault_s1 \\n\"\n",
    "#// Confirm that vault_s1 is listening on port 8200\n",
    "while ! nc -w 1 127.0.0.1 8200 </dev/null; do sleep 1; done\n",
    "time vault operator init -format=json -n 1 -t 1 > /tmp/vault.init"
   ]
  },
  {
   "cell_type": "code",
   "execution_count": null,
   "id": "cc38bd49-933a-4aff-84d2-365641b8d254",
   "metadata": {},
   "outputs": [],
   "source": [
    "export VAULT_TOKEN_PRIMARY=$(jq -r '.root_token' /tmp/vault.init)\n",
    "printf \"\\nRoot VAULT TOKEN is: $VAULT_TOKEN_PRIMARY \\n\"\n",
    "printf \"\\n*** Please Run: export VAULT_TOKEN=${VAULT_TOKEN_PRIMARY} \\n\"\n",
    "export unseal_key=$(jq -r '.unseal_keys_b64[0]' /tmp/vault.init)\n",
    "printf \"\\nUnseal Key is: ${unseal_key}\\n\"\n",
    "export VAULT_TOKEN=${VAULT_TOKEN_PRIMARY}"
   ]
  },
  {
   "cell_type": "markdown",
   "id": "8f35db8c-718d-450f-b74f-c6b80329fdd3",
   "metadata": {},
   "source": [
    "### Unseal Vault `unseal.sh`"
   ]
  },
  {
   "cell_type": "code",
   "execution_count": null,
   "id": "cc4484f3-547d-4ef2-95f8-0d07b9f5052d",
   "metadata": {},
   "outputs": [],
   "source": [
    "vault operator unseal ${unseal_key}"
   ]
  },
  {
   "cell_type": "code",
   "execution_count": null,
   "id": "1b65e416-2985-4aa4-858a-c480c96d3c35",
   "metadata": {
    "tags": []
   },
   "outputs": [],
   "source": [
    "while ! vault operator raft list-peers > /dev/null 2>&1 ; do \n",
    "  sleep 1; echo \"waiting...\"\n",
    "done\n",
    "vault operator raft autopilot state\n",
    "\n",
    "for i in {2..3}; do\n",
    "docker exec -i vault_s${i} sh <<EOM\n",
    "printf \"\\n#==> Unsealing:\\n\"\n",
    "hostname\n",
    "export VAULT_ADDR=http://localhost:8200\n",
    "vault operator unseal ${unseal_key}\n",
    "EOM\n",
    "done"
   ]
  },
  {
   "cell_type": "markdown",
   "id": "144013de-5a89-428d-a8e1-876dcb6a490e",
   "metadata": {},
   "source": [
    "### Verify Vault"
   ]
  },
  {
   "cell_type": "code",
   "execution_count": null,
   "id": "1aabf4fc-066a-4a3d-801b-2064563ac6fc",
   "metadata": {},
   "outputs": [],
   "source": [
    "printf \"#==> Check token\\n\"\n",
    "vault token lookup\n",
    "printf \"\\n#==> Check status\\n\"\n",
    "vault status"
   ]
  },
  {
   "cell_type": "code",
   "execution_count": null,
   "id": "cf6b1558-6c8b-44ff-84fd-620b033a7874",
   "metadata": {},
   "outputs": [],
   "source": [
    "printf \"#==> List Peers\\n\"\n",
    "vault operator raft list-peers\n",
    "printf \"\\n#==> Show autopilot state\\n\"\n",
    "vault operator raft autopilot state || true\n",
    "printf \"\\n#==> Show autopilot settings\\n\"\n",
    "vault operator raft autopilot get-config || true"
   ]
  },
  {
   "cell_type": "code",
   "execution_count": null,
   "id": "e5e44bf6-95e8-47c6-b035-95f3c96b8695",
   "metadata": {},
   "outputs": [],
   "source": [
    "vault secrets list\n",
    "vault read sys/license"
   ]
  },
  {
   "cell_type": "code",
   "execution_count": null,
   "id": "8fdb8511-0163-4abe-88c7-7af2c31882f1",
   "metadata": {},
   "outputs": [],
   "source": [
    "# vault write sys/license text=@vault/config/vault.hclic && \\\n",
    "# vault read sys/license"
   ]
  },
  {
   "cell_type": "code",
   "execution_count": null,
   "id": "ca717562-f183-4340-ae0b-d7d6f2eb4349",
   "metadata": {},
   "outputs": [],
   "source": [
    "vault secrets enable kv\n",
    "# vault write kv/game/account username=foo password=bar"
   ]
  },
  {
   "cell_type": "code",
   "execution_count": null,
   "id": "c8956141-faf8-4507-8d69-ba5372ab52a8",
   "metadata": {},
   "outputs": [],
   "source": [
    "for i in {1..10}; do\n",
    "vault secrets enable -path=kv-app-${i} kv\n",
    "done"
   ]
  },
  {
   "cell_type": "code",
   "execution_count": null,
   "id": "14618695-ebaf-4c0f-90ff-8e32a681ca72",
   "metadata": {
    "tags": []
   },
   "outputs": [],
   "source": [
    "for i in {1..10}; do\n",
    "vault write kv/game/account-${i} username=foo-${i} password=bar\n",
    "vault read kv/game/account-${i} > /dev/null\n",
    "vault kv put kv-peter/data/game/account-${i} username=foo-${i} password=bar\n",
    "vault kv get kv-peter/data/game/account-${i} > /dev/null\n",
    "done"
   ]
  },
  {
   "cell_type": "code",
   "execution_count": null,
   "id": "aa81bcee-864b-4cca-ba31-6eddb3932f5e",
   "metadata": {
    "tags": []
   },
   "outputs": [],
   "source": [
    "for i in {1..10}; do\n",
    "vault kv put kv-app-${i}/game/account-${i} username=foo-${i} password=bar\n",
    "vault kv get kv-app-${i}/game/account-${i} > /dev/null\n",
    "done"
   ]
  },
  {
   "cell_type": "code",
   "execution_count": null,
   "id": "29bf422c-2dc5-4154-808f-d9d773913564",
   "metadata": {},
   "outputs": [],
   "source": [
    "for i in {1..10}; do\n",
    "vault token create \\\n",
    "  -field=token \\\n",
    "  -policy prometheus-metrics\n",
    "done"
   ]
  },
  {
   "cell_type": "code",
   "execution_count": null,
   "id": "d7d530a9-bd1c-4e9e-a9ed-2f3db6fe1ecf",
   "metadata": {},
   "outputs": [],
   "source": [
    "vault secrets list -detailed"
   ]
  },
  {
   "cell_type": "markdown",
   "id": "6ddcfffc-e6ec-47f8-869b-5bc023f30942",
   "metadata": {
    "tags": []
   },
   "source": [
    "## Monitoring"
   ]
  },
  {
   "cell_type": "markdown",
   "id": "31fd4103-6646-4dd0-8bb3-254a5e8c9142",
   "metadata": {},
   "source": [
    "In this scenario, you will use Docker containers to deploy a Vault server, Prometheus monitoring, and a Grafana dashboard.\n",
    "\n",
    "You will configure Vault to enable Prometheus metrics, and deploy the containers using the command line in a terminal session. You will also use the Grafana web interface to create a dashboard for visualizing metrics.\n",
    "\n",
    "Begin the scenario by preparing your environment."
   ]
  },
  {
   "cell_type": "markdown",
   "id": "72312318-491b-4ed6-8e25-7a7161e85e0c",
   "metadata": {},
   "source": [
    "### Prerequisites"
   ]
  },
  {
   "cell_type": "markdown",
   "id": "b07d6fcc-631d-4e9c-af36-9943d385e8ac",
   "metadata": {},
   "source": [
    "* [Vault Cluster](#Vault-Setup---Primary)"
   ]
  },
  {
   "cell_type": "code",
   "execution_count": null,
   "id": "f22bb46d-0194-4ecb-ba59-4126eca32736",
   "metadata": {},
   "outputs": [],
   "source": [
    "mkdir -p grafana/provisioning/{datasources,dashboards} \\\n",
    "  grafana/dashboards prometheus"
   ]
  },
  {
   "cell_type": "markdown",
   "id": "f814f685-c4c1-46c3-8246-e7a3570b2fb5",
   "metadata": {},
   "source": [
    "### Vault configuration\n",
    "\n",
    "Prometheus metrics are not enabled by default. Setting the `prometheus_retention_time` to a non-zero value enables them.\n",
    "\n",
    "```\n",
    "telemetry {\n",
    "  prometheus_retention_time = \"1h\"\n",
    "  disable_hostname          = true\n",
    "}\n",
    "```\n",
    "\n",
    "* `prometheus_retention_time = \"1h\"` retain in memory for 1 hour\n",
    "* `disable_hostname = true` - do not emit Prometheus metrics prefixed with host names, which is not desirable in most cases\n",
    "* Go to [telemetry parameters](https://www.vaultproject.io/docs/configuration/telemetry#telemetry-parameters) documentation for more details.\n"
   ]
  },
  {
   "cell_type": "markdown",
   "id": "2daf6184-35b6-44f2-b8ed-bed9ffc2da8a",
   "metadata": {},
   "source": [
    "This configuration was already included in the prerequisite sections."
   ]
  },
  {
   "cell_type": "markdown",
   "id": "5e59d28e-d041-4add-87b3-f3dfb6214cc8",
   "metadata": {},
   "source": [
    "### Prometheus Configuration"
   ]
  },
  {
   "cell_type": "markdown",
   "id": "142f121b-5c98-4430-ad28-58c95b82771b",
   "metadata": {},
   "source": [
    "#### Vault Integration"
   ]
  },
  {
   "cell_type": "markdown",
   "id": "5d7a640e-3e25-435f-a8b4-7eca9293ad16",
   "metadata": {},
   "source": [
    "Prep vault token for Prometheus."
   ]
  },
  {
   "cell_type": "code",
   "execution_count": null,
   "id": "e5d84f41-2d1d-494a-acf3-4554758e282c",
   "metadata": {},
   "outputs": [],
   "source": [
    "printf \"$(jq -r '.root_token' /tmp/vault.init)\" > prometheus/prometheus-token\n",
    "cat prometheus/prometheus-token"
   ]
  },
  {
   "cell_type": "markdown",
   "id": "4da2a9d3-93fa-42c6-beb7-42fb885189ff",
   "metadata": {},
   "source": [
    "Define a prometheus-metrics ACL policy that grants read capabilities to the metrics endpoint."
   ]
  },
  {
   "cell_type": "code",
   "execution_count": null,
   "id": "ba487969-7c43-4542-896b-5627f94c1e2e",
   "metadata": {},
   "outputs": [],
   "source": [
    "vault policy write prometheus-metrics - << EOF\n",
    "path \"/sys/metrics\" {\n",
    "  capabilities = [\"read\"]\n",
    "}\n",
    "EOF"
   ]
  },
  {
   "cell_type": "code",
   "execution_count": null,
   "id": "a0ab0325-61e0-4be7-826d-b02f61350bd1",
   "metadata": {},
   "outputs": [],
   "source": [
    "cat > prometheus/prometheus.yml << EOF\n",
    "# Generated via hashistack playbook\n",
    "global:\n",
    "  scrape_interval: 5s #default 1m\n",
    "  scrape_timeout: 3s #default 10s\n",
    "\n",
    "scrape_configs:\n",
    "  - job_name: services\n",
    "    metrics_path: /metrics\n",
    "    static_configs:\n",
    "      - targets:\n",
    "        - 'prometheus:9090'\n",
    "  - job_name: node\n",
    "    metrics_path: /metrics\n",
    "    static_configs:\n",
    "      - targets:\n",
    "        - 'node-exporter:9100'\n",
    "\n",
    "  - job_name: 'consul-server'\n",
    "    metrics_path: '/v1/agent/metrics'\n",
    "    params:\n",
    "      format: ['prometheus']\n",
    "    static_configs:\n",
    "      - targets: \n",
    "        - 'consul-server-0:8500'\n",
    "        - 'consul-server-1:8500'\n",
    "        - 'consul-server-2:8500'\n",
    "        - 'consul-server-3:8500'\n",
    "        - 'consul-server-4:8500'\n",
    "        - 'consul-server-5:8500'\n",
    "        - 'consul-agent-1:8500'\n",
    "\n",
    "  - job_name: 'tempo'\n",
    "    static_configs:\n",
    "      - targets: ['tempo:3100']\n",
    "\n",
    "  - job_name: vault\n",
    "    metrics_path: /v1/sys/metrics\n",
    "    params:\n",
    "      format: ['prometheus']\n",
    "    scheme: http\n",
    "    authorization:\n",
    "      credentials_file: /etc/prometheus/prometheus-token\n",
    "    # static_configs:\n",
    "    #   - targets: ['vault_s1:8200','vault_s2:8200','vault_s3:8200']\n",
    "    #// dynamic targets via Consul\n",
    "    consul_sd_configs:\n",
    "      - server: 'consul-server-0:8500'\n",
    "        services: ['vault']\n",
    "\n",
    "  #// Container monitoring\n",
    "  - job_name: cadvisor\n",
    "    scrape_interval: 5s\n",
    "    metrics_path: '/metrics'\n",
    "    static_configs:\n",
    "    - targets:\n",
    "      - cadvisor:8080\n",
    "\n",
    "EOF"
   ]
  },
  {
   "cell_type": "markdown",
   "id": "1d2a5dcd-ef5b-4e59-a023-e13dedd7da85",
   "metadata": {},
   "source": [
    "Prometheus Jobs\n",
    "* `prometheus`\n",
    "* `consul`\n",
    "* `vault`\n",
    "* `nomad` - need to add\n",
    "* `cadvisor`"
   ]
  },
  {
   "cell_type": "markdown",
   "id": "0b25447e-27c8-47a5-89cd-a5f82a969dfe",
   "metadata": {},
   "source": [
    "### Start Prometheus docker-compose up"
   ]
  },
  {
   "cell_type": "code",
   "execution_count": null,
   "id": "0ec1dc7b-ad35-4f84-beec-4474c6592511",
   "metadata": {},
   "outputs": [],
   "source": [
    "# Restart Prometheus\n",
    "docker-compose up --force-recreate -d prometheus"
   ]
  },
  {
   "cell_type": "code",
   "execution_count": null,
   "id": "6eb0fa4f-4610-4166-8c23-4c5000146c1d",
   "metadata": {},
   "outputs": [],
   "source": [
    "docker logs -n 1 prometheus"
   ]
  },
  {
   "cell_type": "markdown",
   "id": "0efe6d0d-a4ed-4613-bb38-7d7ef8a4ea59",
   "metadata": {},
   "source": [
    "The log should contain an entry like this one.\n",
    "```shell\n",
    "level=info ts=2021-11-20T01:29:46.330Z caller=main.go:767 msg=\"Server is ready to receive web requests.\"\n",
    "```"
   ]
  },
  {
   "cell_type": "markdown",
   "id": "159d6818-f597-4418-92af-11740d3fde3f",
   "metadata": {},
   "source": [
    "#### Validate Prometheus\n",
    "\n",
    "* Go to UI - http://<prometheus_ip>:9090\n",
    "    * ex http://192.168.17.101:9090\n",
    "* Run of some the following queries\n",
    "\n",
    "| Metric | Description | |\n",
    "| --- | --- | --- |\n",
    "| `consul_raft_apply` | | |\n",
    "| cAdvisor | | |\n",
    "| `container_start_time_seconds` | The start time of containers (in seconds). You can select for specific containers by name using the `name=\"<container_name>\"` expression.\n",
    "| `rate(container_cpu_usage_seconds_total{name=\"consul-server-0\"}[1m])` | The cgroup's CPU usage in the last minute\n",
    "| `container_memory_usage_bytes{name=\"redis\"}` | The cgroup's total memory usage (in bytes)\n",
    "| `rate(container_network_transmit_bytes_total[1m])` | [link](http://192.168.17.101:9090/graph?g0.range_input=1h&g0.expr=rate(container_network_transmit_bytes_total%5B1m%5D)&g0.tab=1) - Bytes transmitted over the network by the container per second in the last minute\n",
    "| `rate(container_network_receive_bytes_total[1m])` | Bytes received over the network by the container per second in the last minute"
   ]
  },
  {
   "cell_type": "markdown",
   "id": "d1793e34-f5ae-4f09-bd17-d455db5d9f2d",
   "metadata": {},
   "source": [
    "Reload prometheus if config has been modified."
   ]
  },
  {
   "cell_type": "code",
   "execution_count": null,
   "id": "a2e8150e-de58-4474-9e44-1636e06229ab",
   "metadata": {},
   "outputs": [],
   "source": [
    "docker exec prometheus kill -HUP 1\n",
    "# curl -X POST http://localhost:9090/-/reload"
   ]
  },
  {
   "cell_type": "markdown",
   "id": "ecd226ef-ce6c-4abc-b0f6-29d9e1d0a67b",
   "metadata": {},
   "source": [
    "#### node-exporter"
   ]
  },
  {
   "cell_type": "code",
   "execution_count": null,
   "id": "60030354-1073-4bf7-a7f3-48126690f620",
   "metadata": {},
   "outputs": [],
   "source": [
    "# Restart node-exporter\n",
    "docker-compose up --force-recreate -d node-exporter"
   ]
  },
  {
   "cell_type": "markdown",
   "id": "425588ef-6395-4218-b777-168e7b4f3908",
   "metadata": {},
   "source": [
    "Verify the status of node-exporter by checking its logs."
   ]
  },
  {
   "cell_type": "code",
   "execution_count": null,
   "id": "ad263fd9-f138-4a24-8fb7-7f51221afc82",
   "metadata": {},
   "outputs": [],
   "source": [
    "docker logs -n5 node-exporter"
   ]
  },
  {
   "cell_type": "markdown",
   "id": "f598b1e4-db88-415b-8203-8213e2cac5f5",
   "metadata": {},
   "source": [
    "Output\n",
    "```shell\n",
    "ts=2021-12-08T05:58:35.398Z caller=node_exporter.go:115 level=info collector=vmstat\n",
    "ts=2021-12-08T05:58:35.398Z caller=node_exporter.go:115 level=info collector=xfs\n",
    "ts=2021-12-08T05:58:35.398Z caller=node_exporter.go:115 level=info collector=zfs\n",
    "ts=2021-12-08T05:58:35.399Z caller=node_exporter.go:199 level=info msg=\"Listening on\" address=:9100\n",
    "ts=2021-12-08T05:58:35.399Z caller=tls_config.go:195 level=info msg=\"TLS is disabled.\" http2=false\n",
    "```"
   ]
  },
  {
   "cell_type": "code",
   "execution_count": null,
   "id": "d5e34615-2b21-45b4-8310-19ee69154003",
   "metadata": {},
   "outputs": [],
   "source": [
    "# Restart cAdvisor\n",
    "docker-compose up --force-recreate -d cadvisor"
   ]
  },
  {
   "cell_type": "markdown",
   "id": "67d97043-007e-417e-84cb-da7fc0d9340a",
   "metadata": {
    "tags": []
   },
   "source": [
    "### Grafana Configuration"
   ]
  },
  {
   "cell_type": "code",
   "execution_count": null,
   "id": "1e9bf9ff-4875-444e-b695-ab57f5731e59",
   "metadata": {},
   "outputs": [],
   "source": [
    "cat > grafana/datasource.yml << EOF\n",
    "# config file version\n",
    "apiVersion: 1\n",
    "\n",
    "datasources:\n",
    "- name: vault\n",
    "  type: prometheus\n",
    "  access: server\n",
    "  orgId: 1\n",
    "  url: http://10.42.74.110:9090\n",
    "  password:\n",
    "  user:\n",
    "  database:\n",
    "  basicAuth:\n",
    "  basicAuthUser:\n",
    "  basicAuthPassword:\n",
    "  withCredentials:\n",
    "  isDefault:\n",
    "  jsonData:\n",
    "     graphiteVersion: \"1.1\"\n",
    "     tlsAuth: false\n",
    "     tlsAuthWithCACert: false\n",
    "  secureJsonData:\n",
    "    tlsCACert: \"\"\n",
    "    tlsClientCert: \"\"\n",
    "    tlsClientKey: \"\"\n",
    "  version: 1\n",
    "  editable: true\n",
    "EOF"
   ]
  },
  {
   "cell_type": "code",
   "execution_count": null,
   "id": "3e904257-c75a-483d-8029-19ff6fc49448",
   "metadata": {},
   "outputs": [],
   "source": [
    "cat > grafana/provisioning/datasources/datasource_peter.yml << EOF\n",
    "# config file version\n",
    "apiVersion: 1\n",
    "# list of datasources to insert/update depending\n",
    "# what's available in the database\n",
    "datasources:\n",
    "- name: Loki\n",
    "  type: loki\n",
    "  access: proxy\n",
    "  orgId: 1\n",
    "  url: http://loki:3100\n",
    "  basicAuth: false\n",
    "  isDefault: true\n",
    "  version: 1\n",
    "  editable: false\n",
    "  apiVersion: 1\n",
    "  jsonData:\n",
    "    derivedFields:\n",
    "      - datasourceUid: tempo\n",
    "        matcherRegex: (?:traceID|trace_id)=(\\w+)\n",
    "        name: TraceID\n",
    "        url: $${__value.raw}\n",
    "\n",
    "\n",
    "EOF"
   ]
  },
  {
   "cell_type": "code",
   "execution_count": null,
   "id": "bb18928a-95dc-4969-9f16-8a63a2f8182a",
   "metadata": {},
   "outputs": [],
   "source": [
    "cat > grafana/provisioning/datasources/datasource_prometheus.yml << EOF\n",
    "# config file version\n",
    "apiVersion: 1\n",
    "# list of datasources to insert/update depending\n",
    "# what's available in the database\n",
    "datasources:\n",
    "- name: Prometheus\n",
    "  type: prometheus\n",
    "  access: proxy\n",
    "  orgId: 1\n",
    "  url: http://prometheus:9090\n",
    "  # basicAuth: false\n",
    "  isDefault: false\n",
    "  version: 1\n",
    "  editable: true\n",
    "  apiVersion: 1\n",
    "\n",
    "EOF"
   ]
  },
  {
   "cell_type": "code",
   "execution_count": null,
   "id": "9404cffd-2adb-4e62-883b-7d0896e63c1f",
   "metadata": {},
   "outputs": [],
   "source": [
    "chmod 755 grafana/provisioning/datasources/datasource.yml\n",
    "chmod -R 755 grafana/provisioning\n",
    "chmod -R 755 grafana/dashboards"
   ]
  },
  {
   "cell_type": "code",
   "execution_count": null,
   "id": "9986fc93-21ff-42aa-ba34-26b9cd438547",
   "metadata": {},
   "outputs": [],
   "source": [
    "ll grafana/dashboards consul/config/"
   ]
  },
  {
   "cell_type": "markdown",
   "id": "5ee44122-d9e0-464c-ad9a-4f01d046a30b",
   "metadata": {},
   "source": [
    "* `grafana/dashboards:/var/lib/grafana/dashboards` - preconfigured dashboards"
   ]
  },
  {
   "cell_type": "markdown",
   "id": "8574fa7c-0979-4b01-953d-181dafa668d6",
   "metadata": {},
   "source": [
    "### Start Grafana docker-compose up"
   ]
  },
  {
   "cell_type": "code",
   "execution_count": null,
   "id": "d638e8bf-6372-43d7-803b-8840202515b8",
   "metadata": {},
   "outputs": [],
   "source": [
    "# Restart Grafana\n",
    "docker-compose up --force-recreate -d grafana"
   ]
  },
  {
   "cell_type": "markdown",
   "id": "d1ad33fc-04ad-4217-9bc7-2357823b4efe",
   "metadata": {},
   "source": [
    "Validate Grafana"
   ]
  },
  {
   "cell_type": "markdown",
   "id": "a1a9ab00-ae78-4e50-a214-799d810696d0",
   "metadata": {},
   "source": [
    "1. Go to `http://<grafana_ip>:3000` ex http://192.168.17.101:3000"
   ]
  },
  {
   "cell_type": "markdown",
   "id": "c3fd12a5-ba09-4d7f-8185-bc1f864559f7",
   "metadata": {},
   "source": [
    "#### Generate Traffic"
   ]
  },
  {
   "cell_type": "markdown",
   "id": "23bbfaac-5bf7-4dcc-9bd3-37f8f94a27da",
   "metadata": {},
   "source": [
    "Install dns tools into Consul server"
   ]
  },
  {
   "cell_type": "code",
   "execution_count": null,
   "id": "04fc3250-3da3-46bb-a7db-8130a3aeec28",
   "metadata": {
    "tags": []
   },
   "outputs": [],
   "source": [
    "docker exec consul-server-0 apk add bind-tools"
   ]
  },
  {
   "cell_type": "markdown",
   "id": "b34203c4-46d4-4cd6-84f6-932770dbdade",
   "metadata": {},
   "source": [
    "Run Consul load script. **TODO** Need to add more."
   ]
  },
  {
   "cell_type": "code",
   "execution_count": null,
   "id": "88c5aa86-4b95-45cb-bc2e-4792d13d5a9d",
   "metadata": {
    "tags": []
   },
   "outputs": [],
   "source": [
    "docker exec -i consul-server-0 sh <<\"EOM\"\n",
    "cat > test_dns.sh <<\"EOF\"\n",
    "#!/bin/sh\n",
    "i=0\n",
    "while [ $i -lt 100 ];do\n",
    "dig @consul-server-0 -p8600 +short consul.service.consul SRV >> /tmp/test_dns.out\n",
    "dig @consul-server-1 -p8600 +short consul.service.consul SRV >> /tmp/test_dns.out\n",
    "dig @consul-server-2 -p8600 +short consul.service.consul SRV >> /tmp/test_dns.out\n",
    "dig @consul-server-0 -p8600 +short -x 10.5.0.2 -x 10.5.0.3 >> /tmp/test_dns.out\n",
    "dig @consul-server-1 -p8600 +short -x 10.5.0.2 -x 10.5.0.3 >> /tmp/test_dns.out\n",
    "dig @consul-server-2 -p8600 +short -x 10.5.0.2 -x 10.5.0.3 >> /tmp/test_dns.out\n",
    "export CONSUL_HTTP_ADDR=http://consul-server-0:8500\n",
    "consul kv put redis/config/connections ${i} > /dev/null\n",
    "consul kv get redis/config/connections > /dev/null\n",
    "export CONSUL_HTTP_ADDR=http://consul-server-1:8500\n",
    "consul kv put redis/config/connections ${i} > /dev/null\n",
    "consul kv get redis/config/connections > /dev/null\n",
    "export CONSUL_HTTP_ADDR=http://consul-server-2:8500\n",
    "consul kv put redis/config/connections ${i} > /dev/null\n",
    "consul kv get redis/config/connections > /dev/null\n",
    "echo ${i}.c >> /tmp/test_dns.out\n",
    "sleep 1\n",
    "i=$(( $i +1 ))\n",
    "done\n",
    "EOF\n",
    "chmod +x test_dns.sh\n",
    "nohup ./test_dns.sh &\n",
    "EOM"
   ]
  },
  {
   "cell_type": "markdown",
   "id": "bbaf63f3-c376-4382-bf40-0601c3f8ff5d",
   "metadata": {},
   "source": [
    "Look at these charts.\n",
    "* Transaction Times\n",
    "* System Stats\n",
    "* DNS\n"
   ]
  },
  {
   "cell_type": "markdown",
   "id": "7f2d92b4-4b5a-4d45-9f34-dee46292c3ca",
   "metadata": {},
   "source": [
    "#### Customizations"
   ]
  },
  {
   "cell_type": "markdown",
   "id": "5efa5b92-ae00-484b-a5e8-f667723a839d",
   "metadata": {},
   "source": [
    "Raft Election\n",
    "* Visualization: Stat\n",
    "  * Orientation: Horizontal; Color mode: Background\n",
    "\n",
    "Raft Election\n",
    "* Visualization: Stat\n",
    "  * Orientation: Horizontal; Color mode: Background\n",
    "Raft Commit Time\n",
    "* consul_raft_commitTime\n",
    "* Visualization: Stat\n",
    "  * Orientation: Horizontal; Color mode: Background\n",
    "* Thresholds - Base, 80, 160"
   ]
  },
  {
   "cell_type": "markdown",
   "id": "5eb83551-ac29-455f-8b43-3d6fd46c501b",
   "metadata": {},
   "source": [
    "Grafana Dashboards\n",
    "* cadvisor - https://grafana.com/grafana/dashboards/193"
   ]
  },
  {
   "cell_type": "markdown",
   "id": "1802db78-3dec-4a10-8eac-e7a36db664bd",
   "metadata": {},
   "source": [
    "# Vault Monitoring"
   ]
  },
  {
   "cell_type": "markdown",
   "id": "2432df42-4f27-4391-b51d-2de4bbe00037",
   "metadata": {},
   "source": [
    "Install dns tools into Consul server"
   ]
  },
  {
   "cell_type": "code",
   "execution_count": null,
   "id": "1c017808-ae78-4c87-8cc2-faaed6ecf1ec",
   "metadata": {
    "tags": []
   },
   "outputs": [],
   "source": [
    "docker exec vault_s1 \\\n",
    "    apk add bind-tools dig"
   ]
  },
  {
   "cell_type": "markdown",
   "id": "60d4531b-0ab8-4dcc-8b27-b233f067501b",
   "metadata": {},
   "source": [
    "Run Consul load script. **TODO** Need to add more."
   ]
  },
  {
   "cell_type": "code",
   "execution_count": null,
   "id": "bb9c8f71-e45f-4241-a016-dcdce8bd1aff",
   "metadata": {
    "tags": []
   },
   "outputs": [],
   "source": [
    "docker exec -i consul-server-0 sh <<\"EOM\"\n",
    "cat > test_dns.sh <<\"EOF\"\n",
    "#!/bin/sh\n",
    "i=0\n",
    "while [ $i -lt 100 ];do\n",
    "dig @consul-server-0 -p8600 +short consul.service.consul SRV >> /tmp/test_dns.out\n",
    "dig @consul-server-1 -p8600 +short consul.service.consul SRV >> /tmp/test_dns.out\n",
    "dig @consul-server-2 -p8600 +short consul.service.consul SRV >> /tmp/test_dns.out\n",
    "dig @consul-server-0 -p8600 +short -x 10.5.0.2 -x 10.5.0.3 >> /tmp/test_dns.out\n",
    "dig @consul-server-1 -p8600 +short -x 10.5.0.2 -x 10.5.0.3 >> /tmp/test_dns.out\n",
    "dig @consul-server-2 -p8600 +short -x 10.5.0.2 -x 10.5.0.3 >> /tmp/test_dns.out\n",
    "export CONSUL_HTTP_ADDR=http://consul-server-0:8500\n",
    "consul kv put redis/config/connections ${i} > /dev/null\n",
    "consul kv get redis/config/connections > /dev/null\n",
    "export CONSUL_HTTP_ADDR=http://consul-server-1:8500\n",
    "consul kv put redis/config/connections ${i} > /dev/null\n",
    "consul kv get redis/config/connections > /dev/null\n",
    "export CONSUL_HTTP_ADDR=http://consul-server-2:8500\n",
    "consul kv put redis/config/connections ${i} > /dev/null\n",
    "consul kv get redis/config/connections > /dev/null\n",
    "echo ${i}.c >> /tmp/test_dns.out\n",
    "sleep 1\n",
    "i=$(( $i +1 ))\n",
    "done\n",
    "EOF\n",
    "chmod +x test_dns.sh\n",
    "nohup ./test_dns.sh &\n",
    "EOM"
   ]
  },
  {
   "cell_type": "markdown",
   "id": "ae24c802-a4c9-48b5-a29b-c4dfbaff6169",
   "metadata": {},
   "source": [
    "Look at these charts.\n",
    "* Transaction Times\n",
    "* System Stats\n",
    "* DNS\n"
   ]
  },
  {
   "cell_type": "markdown",
   "id": "a2e95c75-afa2-4e15-ae2b-015a7141d9cf",
   "metadata": {
    "toc-hr-collapsed": true
   },
   "source": [
    "## Vault Performance Nodes"
   ]
  },
  {
   "cell_type": "markdown",
   "id": "a1d28e3f-4b1f-463f-bfb2-4e732332e059",
   "metadata": {},
   "source": [
    "optional - Vault Performance Nodes\n",
    "* main difference here is that it does not auto-join\n",
    "* joining manually as non-voter from CLI\n",
    "* https://learn.hashicorp.com/tutorials/vault/performance-standbys?in=vault/enterprise"
   ]
  },
  {
   "cell_type": "code",
   "execution_count": null,
   "id": "9653dc75-529b-44d8-a051-05bd46cf8ede",
   "metadata": {
    "tags": []
   },
   "outputs": [],
   "source": [
    "# Create Vault Server Config\n",
    "for i in {4..5}; do\n",
    "cat > vault/config/vault_s${i}/server${i}.hcl <<-EOF\n",
    "# Note: this file will be re-written by script\n",
    "api_addr     = \"http://10.5.0.10${i}:8200\"\n",
    "cluster_addr = \"https://10.5.0.10${i}:8201\"\n",
    "disable_mlock = true\n",
    "\n",
    "# Base Configuration\n",
    "listener \"tcp\" {\n",
    "  address = \"0.0.0.0:8200\"\n",
    "  tls_disable = \"true\"\n",
    "}\n",
    "\n",
    "ui = \"true\"\n",
    "log_level=\"INFO\"\n",
    "\n",
    "# Raft configuration\n",
    "storage \"raft\" {\n",
    "  path    = \"/vault/file\"\n",
    "  node_id = \"vault_s${i}\"\n",
    "}\n",
    "\n",
    "service_registration \"consul\" {\n",
    "  address = \"consul-server-0:8500\"\n",
    "}\n",
    "EOF\n",
    "done"
   ]
  },
  {
   "cell_type": "markdown",
   "id": "17cb6b81-5a94-4c78-8191-c93457f77cbf",
   "metadata": {},
   "source": [
    "### Vault Performance Nodes docker-compose up"
   ]
  },
  {
   "cell_type": "code",
   "execution_count": null,
   "id": "d0af0fd4-1902-4b07-96a4-771163c5b7a9",
   "metadata": {},
   "outputs": [],
   "source": [
    "# Restart Vault Cluster\n",
    "docker-compose -f docker-compose-hashi.yml up --force-recreate -d \\\n",
    "  vault_s4"
   ]
  },
  {
   "cell_type": "code",
   "execution_count": null,
   "id": "2170bc72-dbce-413b-80b3-27be21ef691a",
   "metadata": {},
   "outputs": [],
   "source": [
    "docker exec -i vault_s4 sh -s <<EOM\n",
    "export VAULT_ADDR=http://127.0.0.1:8200\n",
    "vault operator raft join -non-voter http://vault_s1:8200\n",
    "EOM"
   ]
  },
  {
   "cell_type": "code",
   "execution_count": null,
   "id": "6aee7bab-3728-4d13-9c95-0883c878712c",
   "metadata": {},
   "outputs": [],
   "source": [
    "export unseal_key=$(cat /tmp/vault.init | jq -r '.unseal_keys_b64[0]')\n",
    "printf \"${unseal_key}\\n\"\n",
    "\n",
    "for i in {4..4}; do\n",
    "docker exec -i vault_s${i} sh <<EOM\n",
    "export VAULT_ADDR=http://localhost:8200\n",
    "vault operator unseal ${unseal_key}\n",
    "EOM\n",
    "done"
   ]
  },
  {
   "cell_type": "code",
   "execution_count": null,
   "id": "5480e94f-db41-45c1-8266-cf1816aafc73",
   "metadata": {},
   "outputs": [],
   "source": [
    "vault operator raft list-peers"
   ]
  },
  {
   "cell_type": "markdown",
   "id": "7e108fce-882a-4700-b150-54b46ce01284",
   "metadata": {},
   "source": [
    "* `vault_s4` is not a voter."
   ]
  },
  {
   "cell_type": "markdown",
   "id": "6c1b3aec-dd43-42c3-934e-135be2d81342",
   "metadata": {
    "toc-hr-collapsed": true
   },
   "source": [
    "## Vault Replication"
   ]
  },
  {
   "cell_type": "markdown",
   "id": "132e9d94-e40c-41cf-bdd4-882d104639a2",
   "metadata": {},
   "source": [
    "optional - Vault Performance Nodes\n",
    "* main difference here is that it does not auto-join\n",
    "* joining manually as non-voter from CLI\n",
    "* https://learn.hashicorp.com/tutorials/vault/performance-standbys?in=vault/enterprise"
   ]
  },
  {
   "cell_type": "markdown",
   "id": "ae1c7a0e-aaea-4182-b6ca-b146837d0940",
   "metadata": {},
   "source": [
    "If you want the secondary Vault Cluster to register with a secondary Consul Cluster, the do this [step](#Consul-Federation-Using-WAN-Gossip) as well."
   ]
  },
  {
   "cell_type": "markdown",
   "id": "625e23eb-b8fe-47a4-9aa9-7e0ba71fba50",
   "metadata": {},
   "source": [
    "### Create Vault Configuration - Secondary"
   ]
  },
  {
   "cell_type": "markdown",
   "id": "a4a09cbd-8183-42a1-a06e-be4cb5b567b8",
   "metadata": {},
   "source": [
    "Change service registration from `consul-server-0` to `consul-server-4` if desired."
   ]
  },
  {
   "cell_type": "code",
   "execution_count": null,
   "id": "54c1d2eb-5523-4fdc-8379-27969f969f21",
   "metadata": {
    "tags": []
   },
   "outputs": [],
   "source": [
    "# Create Vault Server Config\n",
    "for i in {4..6}; do\n",
    "cat > vault/config/vault_s${i}/server${i}.hcl <<-EOF\n",
    "# Note: this file will be re-written by script\n",
    "api_addr     = \"http://10.5.0.10${i}:8200\"\n",
    "cluster_addr = \"https://10.5.0.10${i}:8201\"\n",
    "disable_mlock = true\n",
    "\n",
    "# Base Configuration\n",
    "listener \"tcp\" {\n",
    "  address = \"0.0.0.0:8200\"\n",
    "  tls_disable = \"true\"\n",
    "}\n",
    "\n",
    "ui = \"true\"\n",
    "log_level=\"INFO\"\n",
    "\n",
    "# Raft configuration\n",
    "storage \"raft\" {\n",
    "  path    = \"/vault/file\"\n",
    "  node_id = \"vault_s${i}\"\n",
    "}\n",
    "\n",
    "service_registration \"consul\" {\n",
    "  address = \"consul-server-3:8500\"\n",
    "}\n",
    "EOF\n",
    "done"
   ]
  },
  {
   "cell_type": "markdown",
   "id": "0036b7c3-eb0c-47de-bd5b-fab6bd07f193",
   "metadata": {},
   "source": [
    "### Vault DR Nodes docker-compose up"
   ]
  },
  {
   "cell_type": "code",
   "execution_count": null,
   "id": "e1d6e11e-4d84-4bee-a613-e0e24847deda",
   "metadata": {},
   "outputs": [],
   "source": [
    "# Restart Vault Cluster\n",
    "docker-compose up --force-recreate -d \\\n",
    "  vault_s4 vault_s5 vault_s6"
   ]
  },
  {
   "cell_type": "code",
   "execution_count": null,
   "id": "3b60876f-1f49-469d-a010-cf7031146df8",
   "metadata": {},
   "outputs": [],
   "source": [
    "# Restart Vault Cluster\n",
    "docker-compose up --force-recreate -d \\\n",
    "  vault_s5"
   ]
  },
  {
   "cell_type": "markdown",
   "id": "ec7a6906-d2f0-4b61-846c-b3d814d8dc99",
   "metadata": {},
   "source": [
    "### Init Vault `init.sh` - PR Secondary"
   ]
  },
  {
   "cell_type": "code",
   "execution_count": null,
   "id": "248bcedd-a4c2-4640-aa6d-8231473cf4ec",
   "metadata": {},
   "outputs": [],
   "source": [
    "printf \"Init vault_s4 \\n\"\n",
    "docker exec \\\n",
    "  -e VAULT_ADDR=http://localhost:8200 \\\n",
    "  vault_s4 vault operator init -format=json -n 1 -t 1 > /tmp/vault_secondary.init"
   ]
  },
  {
   "cell_type": "code",
   "execution_count": null,
   "id": "1e45243b-54b8-44f8-b760-6b4d0b4d49b7",
   "metadata": {},
   "outputs": [],
   "source": [
    "export root_token2=$(jq -r '.root_token' /tmp/vault_secondary.init)\n",
    "printf \"Root VAULT TOKEN 2 is: $root_token2 \\n\"\n",
    "\n",
    "export unseal_key2=$(cat /tmp/vault_secondary.init | jq -r '.unseal_keys_b64[0]')\n",
    "printf \"Unseal Key 2 is:       ${unseal_key2}\\n\""
   ]
  },
  {
   "cell_type": "markdown",
   "id": "c627ed9e-2bcb-479d-a72d-8b14bf4b787c",
   "metadata": {},
   "source": [
    "### Unseal Vault `unseal.sh` - PR Secondary"
   ]
  },
  {
   "cell_type": "code",
   "execution_count": null,
   "id": "c76e9968-4bc4-47bb-922a-2b9b6d075db5",
   "metadata": {},
   "outputs": [],
   "source": [
    "for i in {4..4}; do\n",
    "docker exec -i vault_s${i} sh <<EOM\n",
    "export VAULT_ADDR=http://localhost:8200\n",
    "vault operator unseal ${unseal_key2}\n",
    "EOM\n",
    "done"
   ]
  },
  {
   "cell_type": "markdown",
   "id": "f0de2918-7a5d-404c-8aa8-f799b02599f9",
   "metadata": {},
   "source": [
    "### Verify Vault"
   ]
  },
  {
   "cell_type": "code",
   "execution_count": null,
   "id": "7adda2bb-a78f-4d1c-b3fa-5dea8acf57a2",
   "metadata": {},
   "outputs": [],
   "source": [
    "docker exec -i vault_s4 sh <<EOM\n",
    "export VAULT_TOKEN=$root_token2\n",
    "vault token lookup\n",
    "vault status\n",
    "vault version\n",
    "vault operator raft list-peers\n",
    "EOM"
   ]
  },
  {
   "cell_type": "markdown",
   "id": "ccbc36b6-74e9-40b1-b9f6-21d2fa8070c3",
   "metadata": {},
   "source": [
    "### Enable Replication on Primary - PR and DR"
   ]
  },
  {
   "cell_type": "code",
   "execution_count": null,
   "id": "edec3c8d-cdc4-49cf-bddd-bc47af29f00e",
   "metadata": {
    "tags": []
   },
   "outputs": [],
   "source": [
    "export VAULT_TOKEN=${VAULT_TOKEN_PRIMARY}\n",
    "printf \"#==> Enable Performance Replication as primary\\n\"\n",
    "vault write -f sys/replication/performance/primary/enable\n",
    "printf \"#==> Enable Disaster Replication as secondary\\n\"\n",
    "vault write -f sys/replication/dr/primary/enable"
   ]
  },
  {
   "cell_type": "markdown",
   "id": "044ee2a8-30a9-47ab-be6d-afd1340df3b0",
   "metadata": {},
   "source": [
    "Revoke **Performance** Secondary Token"
   ]
  },
  {
   "cell_type": "code",
   "execution_count": null,
   "id": "fe5b7954-72f7-4d92-b54d-c0953b9227a8",
   "metadata": {},
   "outputs": [],
   "source": [
    "vault write sys/replication/performance/primary/revoke-secondary id=perfsec || true"
   ]
  },
  {
   "cell_type": "code",
   "execution_count": null,
   "id": "83182f83-f66a-4927-b112-b445103ea108",
   "metadata": {},
   "outputs": [],
   "source": [
    "printf \"#==> Generate a PR secondary token.\\n\"\n",
    "vault write -field wrapping_token sys/replication/performance/primary/secondary-token id=perfsec \\\n",
    "  > /tmp/secondaryToken.out && cat /tmp/secondaryToken.out"
   ]
  },
  {
   "cell_type": "code",
   "execution_count": null,
   "id": "d6b387b8-da0e-475e-8c40-8d167baca961",
   "metadata": {},
   "outputs": [],
   "source": [
    "secondaryToken=$(cat /tmp/secondaryToken.out)"
   ]
  },
  {
   "cell_type": "markdown",
   "id": "6952b34a-f01e-42a4-b505-307018f99538",
   "metadata": {},
   "source": [
    "Revoke **DR** Secondary Token"
   ]
  },
  {
   "cell_type": "code",
   "execution_count": null,
   "id": "0931f414-281d-40af-82c9-c4760c737dc0",
   "metadata": {},
   "outputs": [],
   "source": [
    "vault write sys/replication/dr/primary/revoke-secondary id=drsec || true"
   ]
  },
  {
   "cell_type": "markdown",
   "id": "c08c40ee-7352-4272-b792-ce3e36fa9c3a",
   "metadata": {},
   "source": [
    "Generate **DR** Secondary Token"
   ]
  },
  {
   "cell_type": "code",
   "execution_count": null,
   "id": "abbb13a7-5c0f-446d-b09d-87c4b9120457",
   "metadata": {},
   "outputs": [],
   "source": [
    "printf \"#==> Generate a DR secondary token.\\n\"\n",
    "vault write -field wrapping_token sys/replication/dr/primary/secondary-token id=drsec \\\n",
    "  > /tmp/drSecondaryToken.out && cat /tmp/drSecondaryToken.out\n",
    "\n",
    "drSecondaryToken=$(cat /tmp/drSecondaryToken.out)"
   ]
  },
  {
   "cell_type": "markdown",
   "id": "993c0d4e-1c7a-4246-9795-876fa89f5669",
   "metadata": {},
   "source": [
    "### Enable Replication on Secondary - PR"
   ]
  },
  {
   "cell_type": "code",
   "execution_count": null,
   "id": "21ba3efb-be39-4327-bb70-18d167393d7b",
   "metadata": {},
   "outputs": [],
   "source": [
    "echo $root_token2\n",
    "echo $secondaryToken"
   ]
  },
  {
   "cell_type": "code",
   "execution_count": null,
   "id": "0c52d639-3d54-498f-9556-b801b93f473f",
   "metadata": {
    "tags": []
   },
   "outputs": [],
   "source": [
    "docker exec -i vault_s4 sh <<EOM\n",
    "printf \"#==> Enable Performance Replication as secondary\\n\"\n",
    "export VAULT_TOKEN=$root_token2\n",
    "vault write sys/replication/performance/secondary/enable token=$secondaryToken\n",
    "EOM"
   ]
  },
  {
   "cell_type": "code",
   "execution_count": null,
   "id": "af9efdf3-4a87-454f-b9a5-c3836eb0d744",
   "metadata": {},
   "outputs": [],
   "source": [
    "printf \"\\n#==> Status of PR Primary\\n\"\n",
    "vault read sys/replication/performance/status || true\n",
    "printf \"\\n#==> Status of PR Secondary\\n\"\n",
    "docker exec vault_s4 sh -c \"vault read sys/replication/performance/status || true\"\n",
    "printf \"\\n#==> Status of DR Primary\\n\"\n",
    "vault read sys/replication/dr/status || true\n",
    "printf \"\\n#==> Status of DR Secondary\\n\"\n",
    "docker exec vault_s5 sh -c \"vault read sys/replication/dr/status || true\""
   ]
  },
  {
   "cell_type": "markdown",
   "id": "012a8daa-2fff-4284-9105-51b237882f43",
   "metadata": {},
   "source": [
    "### DR Secondary"
   ]
  },
  {
   "cell_type": "markdown",
   "id": "a47c2041-7acd-4e69-a977-1c91d566873f",
   "metadata": {},
   "source": [
    "#### Init Vault `init.sh` - DR Secondary"
   ]
  },
  {
   "cell_type": "code",
   "execution_count": null,
   "id": "afe877b4-ccab-4998-a67f-c83113a220e2",
   "metadata": {},
   "outputs": [],
   "source": [
    "printf \"Init vault_s5 \\n\"\n",
    "docker exec \\\n",
    "  -e VAULT_ADDR=http://localhost:8200 \\\n",
    "  vault_s5 vault operator init -format=json -n 1 -t 1 > /tmp/vault_drsecondary.init"
   ]
  },
  {
   "cell_type": "code",
   "execution_count": null,
   "id": "1243b72a-6ba0-49f8-aa61-af6038e0ec51",
   "metadata": {},
   "outputs": [],
   "source": [
    "export root_token3=$(jq -r '.root_token' /tmp/vault_drsecondary.init)\n",
    "printf \"Root VAULT TOKEN 3 is: $root_token3 \\n\"\n",
    "\n",
    "export unseal_key3=$(cat /tmp/vault_drsecondary.init | jq -r '.unseal_keys_b64[0]')\n",
    "printf \"Unseal Key 3 is:       ${unseal_key3}\\n\""
   ]
  },
  {
   "cell_type": "markdown",
   "id": "b2251924-87dd-4bf2-8ea7-687b5e183ba3",
   "metadata": {},
   "source": [
    "#### Unseal Vault `unseal.sh` - DR Secondary"
   ]
  },
  {
   "cell_type": "code",
   "execution_count": null,
   "id": "df0b8a33-dd96-424c-af46-1a9b734700d1",
   "metadata": {},
   "outputs": [],
   "source": [
    "for i in {5..5}; do\n",
    "docker exec -i vault_s${i} sh <<EOM\n",
    "export VAULT_ADDR=http://localhost:8200\n",
    "vault operator unseal ${unseal_key3}\n",
    "EOM\n",
    "done"
   ]
  },
  {
   "cell_type": "markdown",
   "id": "2027852e-802b-4087-a59f-ab3f64ac5339",
   "metadata": {},
   "source": [
    "#### Verify Vault - DR Secondary"
   ]
  },
  {
   "cell_type": "code",
   "execution_count": null,
   "id": "bec922e7-5765-4ea6-81cc-bdd7c8ab0740",
   "metadata": {},
   "outputs": [],
   "source": [
    "docker exec -i vault_s5 sh <<EOM\n",
    "export VAULT_TOKEN=$root_token3\n",
    "vault token lookup\n",
    "vault status\n",
    "vault version\n",
    "vault operator raft list-peers\n",
    "EOM"
   ]
  },
  {
   "cell_type": "markdown",
   "id": "5e6f93f9-12b8-4999-9ee1-889b4ec62099",
   "metadata": {},
   "source": [
    "### Enable Replication on Secondary - DR"
   ]
  },
  {
   "cell_type": "code",
   "execution_count": null,
   "id": "77902dcf-7635-4d72-bd71-bae75ebd75a0",
   "metadata": {},
   "outputs": [],
   "source": [
    "echo $root_token3\n",
    "echo $drSecondaryToken"
   ]
  },
  {
   "cell_type": "code",
   "execution_count": null,
   "id": "5bc9477d-6f5e-48a7-a963-cc1d61e0e7c5",
   "metadata": {
    "tags": []
   },
   "outputs": [],
   "source": [
    "docker exec -i vault_s5 sh <<EOM\n",
    "printf \"#==> Enable DR as secondary\\n\"\n",
    "export VAULT_TOKEN=$root_token3\n",
    "vault write sys/replication/dr/secondary/enable token=$drSecondaryToken\n",
    "EOM"
   ]
  },
  {
   "cell_type": "code",
   "execution_count": null,
   "id": "24ec22d0-d0e8-4c29-8d98-cccb0663eca9",
   "metadata": {},
   "outputs": [],
   "source": [
    "printf \"\\n#==> Status of PR Primary\\n\"\n",
    "vault read sys/replication/performance/status || true\n",
    "printf \"\\n#==> Status of PR Secondary\\n\"\n",
    "docker exec vault_s4 sh -c \"vault read sys/replication/performance/status || true\"\n",
    "printf \"\\n#==> Status of DR Primary\\n\"\n",
    "vault read sys/replication/dr/status || true\n",
    "printf \"\\n#==> Status of DR Secondary\\n\"\n",
    "docker exec vault_s5 sh -c \"vault read sys/replication/dr/status || true\""
   ]
  },
  {
   "cell_type": "markdown",
   "id": "55763fb0-cc0e-43a0-a21f-acb07b343041",
   "metadata": {},
   "source": [
    "### Promote Secondary - DR"
   ]
  },
  {
   "cell_type": "markdown",
   "id": "7dc05ee1-2a27-44fd-a6d5-0529fed25e7c",
   "metadata": {},
   "source": [
    "#### Batch Token for Replication Operations"
   ]
  },
  {
   "cell_type": "markdown",
   "id": "ae4c99b4-6623-45ae-890d-c50fdf6c94fb",
   "metadata": {},
   "source": [
    "Create a policy named \"`dr-secondary-promotion`\".\n",
    "\n",
    "https://learn.hashicorp.com/tutorials/vault/disaster-recovery#dr-operation-token-strategy"
   ]
  },
  {
   "cell_type": "code",
   "execution_count": null,
   "id": "cc50d774-88ff-4c7f-b0cb-73e000ce810f",
   "metadata": {},
   "outputs": [],
   "source": [
    "vault policy write dr-secondary-promotion - <<EOF\n",
    "path \"sys/replication/dr/secondary/promote\" {\n",
    "  capabilities = [ \"update\" ]\n",
    "}\n",
    "\n",
    "# To update the primary to connect\n",
    "path \"sys/replication/dr/secondary/update-primary\" {\n",
    "    capabilities = [ \"update\" ]\n",
    "}\n",
    "\n",
    "# Only if using integrated storage (raft) as the storage backend\n",
    "# To read the current autopilot status\n",
    "path \"sys/storage/raft/autopilot/state\" {\n",
    "    capabilities = [ \"update\" , \"read\" ]\n",
    "}\n",
    "EOF"
   ]
  },
  {
   "cell_type": "markdown",
   "id": "b59a9a9d-a37d-462d-a1db-657fe0fcc6f7",
   "metadata": {},
   "source": [
    "Create a token role named \"`failover-handler`\" with the `dr-secondary-promotion` policy attached and its type should be `batch`."
   ]
  },
  {
   "cell_type": "code",
   "execution_count": null,
   "id": "ef12a934-3c79-4d92-951b-69640dcbaeec",
   "metadata": {},
   "outputs": [],
   "source": [
    "vault write auth/token/roles/failover-handler \\\n",
    "    allowed_policies=dr-secondary-promotion \\\n",
    "    orphan=true \\\n",
    "    renewable=false \\\n",
    "    token_type=batch"
   ]
  },
  {
   "cell_type": "markdown",
   "id": "04beb14c-7245-4cdd-98ea-079900072a60",
   "metadata": {},
   "source": [
    "Create a token for role, \"`failover-handler`\" with time-to-live (TTL) set to 8 hours."
   ]
  },
  {
   "cell_type": "code",
   "execution_count": null,
   "id": "65e98346-1cb6-4bfa-a09d-1f97edaff0e3",
   "metadata": {},
   "outputs": [],
   "source": [
    "vault token create -format=json -role=failover-handler -ttl=8h | tee /tmp/bToken.out | jq .auth\n",
    "bToken=$(jq -r .auth.client_token /tmp/bToken.out)"
   ]
  },
  {
   "cell_type": "markdown",
   "id": "a04dc373-b3fa-4135-8d0b-1489818d0f41",
   "metadata": {},
   "source": [
    "Promote the DR secondary (Cluster B) to become the new primary. The request must pass the DR operation token."
   ]
  },
  {
   "cell_type": "code",
   "execution_count": null,
   "id": "abe4d7fe-43c2-4771-bf28-e7109270cbdd",
   "metadata": {},
   "outputs": [],
   "source": [
    "docker exec vault_s5 \\\n",
    "  sh -c \"vault write sys/replication/dr/secondary/promote dr_operation_token=$bToken\""
   ]
  },
  {
   "cell_type": "markdown",
   "id": "177660f0-25a6-4b7a-907a-30ca04069456",
   "metadata": {},
   "source": [
    "Sample Output:\n",
    "```\n",
    "WARNING! The following warnings were returned from Vault:\n",
    "\n",
    "  * This cluster is being promoted to a replication primary. Vault will be\n",
    "  unavailable for a brief period and will resume service shortly.\n",
    "```"
   ]
  },
  {
   "cell_type": "markdown",
   "id": "561af6ba-9521-404f-ba39-48f358877047",
   "metadata": {
    "tags": [],
    "toc-hr-collapsed": true
   },
   "source": [
    "## haproxy - Load Balancer"
   ]
  },
  {
   "cell_type": "markdown",
   "id": "1ac6c6ab-5176-4c4d-9ea3-b19a7fee3fc8",
   "metadata": {},
   "source": [
    "In this section, we will set up haproxy to provide performance and high-availability for Vault. Client requests sent to haproxy for Vault will treated the following way:\n",
    "\n",
    "* `GET` requests will be round-robined to all Vault nodes\n",
    "* Non-`GET` requests will be sent only to the active Vault node."
   ]
  },
  {
   "cell_type": "markdown",
   "id": "cb727dcb-71bb-4bc9-a76e-65aface66fee",
   "metadata": {},
   "source": [
    "### Prerequisites"
   ]
  },
  {
   "cell_type": "markdown",
   "id": "97badcd3-cff9-435c-84fa-e11e9c61afb2",
   "metadata": {},
   "source": [
    "* [Vault Cluster](#Vault-Setup---Primary)"
   ]
  },
  {
   "cell_type": "markdown",
   "id": "581cd6aa-424e-45ef-b84c-c607629cf92e",
   "metadata": {},
   "source": [
    "### Bring up the load balancer"
   ]
  },
  {
   "cell_type": "code",
   "execution_count": null,
   "id": "50250685-edd6-4db3-97da-3c3e41d29782",
   "metadata": {},
   "outputs": [],
   "source": [
    "docker-compose -f docker-compose-hashi.yml \\\n",
    "  -f docker-compose-proxy.yml up --force-recreate -d \\\n",
    "  haproxy"
   ]
  },
  {
   "cell_type": "markdown",
   "id": "f24b4095-9d09-4fb7-8c09-da18574eeba0",
   "metadata": {},
   "source": [
    "### Validate"
   ]
  },
  {
   "cell_type": "code",
   "execution_count": null,
   "id": "36c9a12c-73be-4833-b54a-cd099061d3f7",
   "metadata": {},
   "outputs": [],
   "source": [
    "export VAULT_TOKEN=$(cat /tmp/vault.init | jq -r '.root_token')"
   ]
  },
  {
   "cell_type": "markdown",
   "id": "59cdffee-a6e0-4149-a188-2bd6d3d95216",
   "metadata": {},
   "source": [
    "#### Write test"
   ]
  },
  {
   "cell_type": "markdown",
   "id": "cebd6228-f243-46a3-adbf-335718bb3f96",
   "metadata": {},
   "source": [
    "Send POST (Write) request - Should go to \"active\" backend"
   ]
  },
  {
   "cell_type": "code",
   "execution_count": null,
   "id": "dbb42d32-6559-409f-af90-35ab09275fba",
   "metadata": {},
   "outputs": [],
   "source": [
    "curl -H \"X-Vault-Token: ${VAULT_TOKEN}\" \\\n",
    "  -X POST \\\n",
    "  -d '{\"data\":{\"foo\":\"bar\"}}' \\\n",
    "  http://127.0.0.1:18200/v1/kv/data/game/account | jq -c\n",
    "docker logs haproxy 2>&1 | tail -n 1"
   ]
  },
  {
   "cell_type": "markdown",
   "id": "ce1bfba3-56e8-4bc8-8278-6121d25878c9",
   "metadata": {},
   "source": [
    "This should go to active server from `primary_cluster_active_api` backend.\n",
    "```\n",
    "... primary_cluster_api primary_cluster_active_api/vault-active 0/1/252 389 -- 1/1/0/0/0 0/0\n",
    "```"
   ]
  },
  {
   "cell_type": "markdown",
   "id": "662d038d-a282-43dd-9714-3d32088a89df",
   "metadata": {},
   "source": [
    "#### Read test"
   ]
  },
  {
   "cell_type": "markdown",
   "id": "3ecbf08c-4d42-47b9-b3ce-020a02b5fe7d",
   "metadata": {},
   "source": [
    "Send several GET (Read) requests - Should go to different nodes in \"read\" backend."
   ]
  },
  {
   "cell_type": "code",
   "execution_count": null,
   "id": "14a77215-7ca8-4d03-ba88-c605705c80ee",
   "metadata": {},
   "outputs": [],
   "source": [
    "for i in {1..9}; do\n",
    "curl -s -H \"X-Vault-Token: ${VAULT_TOKEN}\" \\\n",
    "  -X GET \\\n",
    "  http://127.0.0.1:18200/v1/kv/data/game/account | jq -c .data.data\n",
    "docker logs haproxy 2>&1 | tail -n 1\n",
    "done"
   ]
  },
  {
   "cell_type": "markdown",
   "id": "960ba4ad-87d8-4d53-a28e-b836c6ce4a64",
   "metadata": {},
   "source": [
    "This should go to any server from `vault_read` backend\n",
    "```\n",
    "... primary_cluster_api vault_read/vault_s2 0/0/6 423 -- 1/1/0/0/0 0/0\n",
    "```"
   ]
  },
  {
   "cell_type": "markdown",
   "id": "c17713c4-5a89-44f2-8d38-d277d007ceeb",
   "metadata": {},
   "source": [
    "More info:\n",
    "\n",
    "* https://learn.hashicorp.com/tutorials/consul/load-balancing-haproxy"
   ]
  },
  {
   "cell_type": "markdown",
   "id": "2247075c-ab04-4a3f-90ee-1933f8248b16",
   "metadata": {},
   "source": [
    "### Reload haproxy"
   ]
  },
  {
   "cell_type": "markdown",
   "id": "45ecf667-c964-435a-90b2-5713203561ef",
   "metadata": {},
   "source": [
    "If you make changes to `haproxy.cfg`, you can reload `haproxy`."
   ]
  },
  {
   "cell_type": "code",
   "execution_count": null,
   "id": "569cf3f9-d659-4437-99c1-ad5417ada209",
   "metadata": {},
   "outputs": [],
   "source": [
    "docker kill -s HUP haproxy"
   ]
  },
  {
   "cell_type": "markdown",
   "id": "434f4c45-e2b2-4c83-912d-3e75440f9943",
   "metadata": {},
   "source": [
    "# Clean Up"
   ]
  },
  {
   "cell_type": "markdown",
   "id": "1570f110-c91f-4a05-be3d-d31c46929237",
   "metadata": {},
   "source": [
    "If you are done with your tests, you might want to shut everything down to reduce your heating bills."
   ]
  },
  {
   "cell_type": "markdown",
   "id": "2266d860-ea8e-4cf3-8072-f51f8e1d1d2b",
   "metadata": {},
   "source": [
    "### docker-compose down - everything"
   ]
  },
  {
   "cell_type": "code",
   "execution_count": null,
   "id": "14736c7b-127b-4df2-91b3-4d054e6decfe",
   "metadata": {},
   "outputs": [],
   "source": [
    "CONSUL_DC=west\n",
    "CONSUL_DC_2=east\n",
    "export COMPOSE_PROJECT_NAME=hashi\n",
    "export COMPOSE_FILE=docker-compose-hashi.yml:docker-compose-proxy.yml:docker-compose-vault.yml:docker-compose.yml"
   ]
  },
  {
   "cell_type": "code",
   "execution_count": null,
   "id": "57424fcb-e0f5-46e9-8047-26787dafb6f2",
   "metadata": {},
   "outputs": [],
   "source": [
    "docker-compose down"
   ]
  },
  {
   "cell_type": "markdown",
   "id": "680bb2b3-c3b2-412c-9c3d-515e05a27269",
   "metadata": {
    "toc-hr-collapsed": true
   },
   "source": [
    "## DEBUGGING"
   ]
  },
  {
   "cell_type": "markdown",
   "id": "e38f9c70-76be-43a3-956b-bd0cb3374c9e",
   "metadata": {},
   "source": [
    "### Review logs"
   ]
  },
  {
   "cell_type": "markdown",
   "id": "3096cf1b-1b6d-4e62-91a9-762152ad73f2",
   "metadata": {},
   "source": [
    "Review consul logs - for docker"
   ]
  },
  {
   "cell_type": "code",
   "execution_count": null,
   "id": "19ac7eac-e49b-4541-a864-ae17115a63f9",
   "metadata": {
    "tags": []
   },
   "outputs": [],
   "source": [
    "for i in {0..3}; do\n",
    "printf \"docker logs consul-server-${i}\\n\"\n",
    "docker logs consul-server-${i} | { head ; tail -n 3;}\n",
    "printf \"\\n\"\n",
    "done"
   ]
  },
  {
   "cell_type": "markdown",
   "id": "8876673a-44f0-481e-823a-c4e836e760d4",
   "metadata": {},
   "source": [
    "# Appendix"
   ]
  },
  {
   "cell_type": "markdown",
   "id": "75898163-1c75-4879-ba6f-4f24f800dd13",
   "metadata": {},
   "source": [
    "## Addresses"
   ]
  },
  {
   "cell_type": "markdown",
   "id": "1a924b69-de59-437a-9014-b7ec770c7844",
   "metadata": {},
   "source": [
    "\n",
    "| Name | Address | Description |\n",
    "| :--- | --- | --- |\n",
    "| Consul | http://192.168.17.101:8500 | Consul Dashboard\n",
    "| Nomad | http://192.168.17.101:4646 | Nomad Dashboard\n",
    "| Vault | http://192.168.17.101:8200 | Vault Dashboard\n",
    "| haproxy stats | http://192.168.17.101:11936 | haproxy Consul Dashboard\n",
    "| haproxy - Consul | http://192.168.17.101:18500 | haproxy Consul Dashboard\n",
    "| haproxy - Nomad | http://192.168.17.101:14646 | haproxy Nomad Dashboard\n",
    "| haproxy - Vault | http://192.168.17.101:18200 | haproxy Vault Dashboard\n",
    "| | |\n",
    "| demo-webapp | http://192.168.17.101:8080 | web - shows db creds\n",
    "| Consul 2 | http://192.168.17.101:8520 | Consul Dashboard\n",
    "| Vault PR Secondary | http://192.168.17.101:8210 | Vault Dashboard\n",
    "| Vault DR Secondary | http://192.168.17.101:8220 | Vault Dashboard\n",
    "| Prometheus | http://192.168.17.101:9090<br>http://192.168.17.101:9090/targets | Prometheus Dashboard\n",
    "| Grafana | http://192.168.17.101:3000 | Grafana Dashboard\n",
    "| cadvisor | http://192.168.17.101:8080<br>http://192.168.17.101:8080/docker/consul-server-0<br>http://192.168.17.101:8080/docker/vault_s1| cAdvisor Dashboard"
   ]
  },
  {
   "cell_type": "markdown",
   "id": "01ecaceb-e75a-4073-b63d-09a2ad72c9cc",
   "metadata": {},
   "source": [
    "## Passwords"
   ]
  },
  {
   "cell_type": "code",
   "execution_count": null,
   "id": "a8615e01-9f4c-480b-a1ed-5f16fe5d3654",
   "metadata": {},
   "outputs": [],
   "source": [
    "printf \"\\n*** Please Run: export VAULT_TOKEN=${VAULT_TOKEN} \\n\""
   ]
  },
  {
   "cell_type": "markdown",
   "id": "8da587a0-8e82-4114-a104-7a3e3c7d51f9",
   "metadata": {},
   "source": [
    "## Directory Structure"
   ]
  },
  {
   "cell_type": "code",
   "execution_count": null,
   "id": "1a9999b9-07df-4cd9-9d08-de516a8883b8",
   "metadata": {
    "tags": []
   },
   "outputs": [],
   "source": [
    "tree"
   ]
  },
  {
   "cell_type": "markdown",
   "id": "23d83574-3060-4ca8-868c-ac3f81fccbc5",
   "metadata": {},
   "source": [
    "Sample Output for tree\n",
    "<details><summary></summary>\n",
    "\n",
    "```\n",
    ".\n",
    "├── README.md\n",
    "├── consul\n",
    "│   ├── cert\n",
    "│   │   ├── client\n",
    "│   │   │   ├── consul-agent-ca.pem\n",
    "│   │   │   ├── west-client-consul-0-key.pem\n",
    "│   │   │   └── west-client-consul-0.pem\n",
    "│   │   └── server\n",
    "│   │       ├── consul-agent-ca.pem\n",
    "│   │       ├── consul.hclic\n",
    "│   │       ├── west-server-consul-0-key.pem\n",
    "│   │       └── west-server-consul-0.pem\n",
    "│   ├── config\n",
    "│   │   ├── acl.hcl\n",
    "│   │   ├── server.hcl\n",
    "│   │   ├── server0.hcl\n",
    "│   │   ├── server1.hcl\n",
    "│   │   ├── server2.hcl\n",
    "│   │   ├── server4.hcl\n",
    "│   │   └── server5.hcl\n",
    "│   └── policies\n",
    "├── consul-agent-ca-key.pem\n",
    "├── consul-agent-ca.pem\n",
    "├── docker\n",
    "│   └── haproxy\n",
    "│       └── haproxy.cfg\n",
    "├── docker-compose-app.yml\n",
    "├── docker-compose-consul-app.yml\n",
    "├── docker-compose-hashi.yml\n",
    "├── docker-compose-proxy.yml\n",
    "├── docker-compose-scratch.yml\n",
    "├── docker-compose.yml\n",
    "├── grafana\n",
    "│   ├── dashboards\n",
    "│   │   ├── alerts.yaml\n",
    "│   │   ├── consul-server-monitoring_rev3.json\n",
    "│   │   ├── node-exporter-full_rev22.json\n",
    "│   │   ├── rules.yaml\n",
    "│   │   ├── tempo-operational.json\n",
    "│   │   ├── tempo-reads.json\n",
    "│   │   ├── tempo-resources.json\n",
    "│   │   └── tempo-writes.json\n",
    "│   └── provisioning\n",
    "│       ├── dashboards\n",
    "│       │   └── dashboards.yaml\n",
    "│       └── datasources\n",
    "│           └── datasource.yml\n",
    "├── haproxy\n",
    "│   ├── haproxy.cfg\n",
    "│   └── haproxy.cfg.txt2\n",
    "├── hashi_troubleshooting.ipynb\n",
    "└── vault\n",
    "    ├── config\n",
    "    │   ├── vault_s1\n",
    "    │   │   └── server1.hcl\n",
    "    │   ├── vault_s2\n",
    "    │   │   └── server2.hcl\n",
    "    │   └── vault_s3\n",
    "    │       └── server3.hcl\n",
    "    └── logs\n",
    "        ├── vault_s1\n",
    "        ├── vault_s2\n",
    "        ├── vault_s3\n",
    "        └── vaults_s3\n",
    "```\n",
    "</details>"
   ]
  },
  {
   "cell_type": "markdown",
   "id": "69768ef4-64b8-42c2-a8d9-6e29c5810b01",
   "metadata": {},
   "source": [
    "## Resources"
   ]
  },
  {
   "cell_type": "markdown",
   "id": "0d54e482-9cb4-4e2d-a596-0a57cf999308",
   "metadata": {},
   "source": [
    "* https://learn.hashicorp.com/tutorials/consul/deployment-guide\n",
    "\n",
    "Vault\n",
    "* [Vault DR Operation Token Strategy](https://learn.hashicorp.com/tutorials/vault/disaster-recovery#dr-operation-token-strategy)"
   ]
  },
  {
   "cell_type": "markdown",
   "id": "041bd8aa-f67d-4e31-9e2f-25f4bfda2889",
   "metadata": {},
   "source": [
    "# Advanced Use Cases"
   ]
  },
  {
   "cell_type": "markdown",
   "id": "8a734976-f1a4-431f-bfb6-3b28969144b2",
   "metadata": {},
   "source": [
    "## Consul Auto Upgrade"
   ]
  },
  {
   "cell_type": "markdown",
   "id": "0d42d625-be1d-4aae-929c-8d7ba1dbc250",
   "metadata": {},
   "source": []
  },
  {
   "cell_type": "markdown",
   "id": "c4d31a32-cf7b-4b56-ba0e-f695aa4809db",
   "metadata": {},
   "source": [
    "Modify `docker-compose-hashi.yml`. For consul-server-3, 4, and 5, comment the image parameter for `1.9` and uncomment the one for `latest`."
   ]
  },
  {
   "cell_type": "markdown",
   "id": "bfce42f1-cae3-46fb-bbe6-2233df11abe2",
   "metadata": {},
   "source": [
    "```yaml\n",
    "    # image: hashicorp/consul-enterprise:1.9-ent\n",
    "    image: hashicorp/consul-enterprise:latest\n",
    "```"
   ]
  },
  {
   "cell_type": "markdown",
   "id": "7ea33f15-b395-4467-8bed-9a35f1e90a75",
   "metadata": {},
   "source": [
    "Start consul-server-3 consul-server-4 consul-server-5"
   ]
  },
  {
   "cell_type": "code",
   "execution_count": null,
   "id": "97371819-0a70-4c47-b38d-39daa3be9375",
   "metadata": {},
   "outputs": [],
   "source": [
    "docker-compose -f docker-compose-hashi.yml up --force-recreate -d \\\n",
    "  consul-server-3 consul-server-4 consul-server-5"
   ]
  },
  {
   "cell_type": "markdown",
   "id": "30357e39-db42-41ae-9d21-973562a1138f",
   "metadata": {},
   "source": [
    "Verify Consul"
   ]
  },
  {
   "cell_type": "code",
   "execution_count": null,
   "id": "ca3f5148-8ba1-4db4-b081-b5b837b88674",
   "metadata": {},
   "outputs": [],
   "source": [
    "printf \"#==> List Members\\n\"\n",
    "consul members\n",
    "# curl http://127.0.0.1:8500/v1/agent/members | jq -c .[]\n",
    "printf \"\\n#==> List Raft Peers\\n\"\n",
    "consul operator raft list-peers"
   ]
  },
  {
   "cell_type": "markdown",
   "id": "995451f8-76ef-4064-8d26-a00728a8bb36",
   "metadata": {
    "tags": []
   },
   "source": [
    "## Consul Redundancy Zones"
   ]
  },
  {
   "cell_type": "markdown",
   "id": "344785e2-1a2c-42b0-a404-cc0883b0c5f4",
   "metadata": {},
   "source": [
    "> NOTE: This is an Enterprise only feature.\n",
    "\n",
    "You will configure fault resiliency for Consul using redundancy zones.\n",
    "\n",
    "Redunancy zones is a Consul autopilot feature that makes it possible to run:\n",
    "* **one voter** and any number of non-voters in each defined zone.\n",
    "\n",
    "You will set up one voter and one non-voter in three regions.\n",
    "* If one zone is completely lost, both the the voter and non-voters will be lost.\n",
    "  * However, the the cluster will remain available.\n",
    "* If only the voter is lost in a zone, autopilot will promote the non-voter to voter automatically.\n",
    "  * Puts the hot standby server into service quickly.\n",
    "\n",
    "You will implement isolated failure domains such as AWS Availability Zones to obtain redundancy within an AZ with less overhead sustained by a larger quorum."
   ]
  },
  {
   "cell_type": "markdown",
   "id": "a1239096-5f63-4e3a-9ddb-e81313bcaee9",
   "metadata": {},
   "source": [
    "#### Prerequisites\n",
    "\n",
    "You will need:\n",
    "* A Consul Enterprise cluster with three servers. See `Consul Setup`.\n",
    "* Three extre nodes to be used as non-voters."
   ]
  },
  {
   "cell_type": "markdown",
   "id": "578a6ebe-c5e1-4bbb-b4e7-d7bcfc36b3b7",
   "metadata": {},
   "source": [
    "#### Create Consul config for Redundancy Zone.\n",
    "\n",
    "This is for the three servers currently running. "
   ]
  },
  {
   "cell_type": "code",
   "execution_count": null,
   "id": "d77f0073-5186-4cb0-a515-3f878dfdb56c",
   "metadata": {},
   "outputs": [],
   "source": [
    "for i in {0..2}; do\n",
    "docker exec -i consul-server-${i} sh <<EOM\n",
    "cat > /consul/config/rz.hcl <<EOF\n",
    "node_meta {\n",
    "  zone = \"zone${i}\"\n",
    "}\n",
    "EOF\n",
    "cat /consul/config/rz.hcl\n",
    "consul reload\n",
    "EOM\n",
    "done"
   ]
  },
  {
   "cell_type": "markdown",
   "id": "a49a9fc0-85b9-4a00-9790-c523f3cc5083",
   "metadata": {},
   "source": [
    "* `node_meta` allows us to add a tag `zone` to a server\n",
    "* `consul reload` triggers a reload of the configuration files. "
   ]
  },
  {
   "cell_type": "markdown",
   "id": "a4bc9abf-80ad-48d1-8687-cc1fd9cc1526",
   "metadata": {},
   "source": [
    "Verify the configuration is in place using the `/agent/self` API endpoint."
   ]
  },
  {
   "cell_type": "code",
   "execution_count": null,
   "id": "bb17a664-0ee4-4830-bb2a-6a93193b16e3",
   "metadata": {},
   "outputs": [],
   "source": [
    "for i in {0..2}; do\n",
    "docker exec consul-server-${i} \\\n",
    "curl -s localhost:8500/v1/agent/self | jq \". | .Config, .Meta\"\n",
    "done"
   ]
  },
  {
   "cell_type": "markdown",
   "id": "f8946726-4ab6-42de-84b9-6c4a9174cb73",
   "metadata": {},
   "source": [
    "We check all three servers. We use `docker exec` since only one server container is exposing ports.\n",
    "\n",
    "Expected Output\n",
    "```json\n",
    "...\n",
    "{\n",
    "  \"consul-network-segment\": \"\",\n",
    "  \"zone\": \"zone0\"\n",
    "}\n",
    "...\n",
    "```"
   ]
  },
  {
   "cell_type": "markdown",
   "id": "d6a5f40d-f8eb-4686-be82-72f6e8650a17",
   "metadata": {},
   "source": [
    "#### Update Consul autopilot configuration\n",
    "\n",
    "Update Consul autopilot configuration so it knows which `node_meta` tag is used for `-redundancy-zone-tag`."
   ]
  },
  {
   "cell_type": "code",
   "execution_count": null,
   "id": "3e2327f3-cf3a-46b1-a0bc-7f54741c71a4",
   "metadata": {},
   "outputs": [],
   "source": [
    "#// Confirm nothing is currently set.\n",
    "consul operator autopilot get-config | grep Redundancy"
   ]
  },
  {
   "cell_type": "markdown",
   "id": "d85e1a0f-6abe-4cba-bce4-78f0d49a3d92",
   "metadata": {},
   "source": [
    "```\n",
    "RedundancyZoneTag = \"\"\n",
    "```"
   ]
  },
  {
   "cell_type": "code",
   "execution_count": null,
   "id": "31af5c45-acd1-43c0-8afa-7c6bd4a6ceda",
   "metadata": {},
   "outputs": [],
   "source": [
    "consul operator autopilot set-config -redundancy-zone-tag=zone"
   ]
  },
  {
   "cell_type": "markdown",
   "id": "4de23369-d5de-45ad-9f6b-c01dc871bcf8",
   "metadata": {},
   "source": [
    "#### Verify autopilot updates"
   ]
  },
  {
   "cell_type": "code",
   "execution_count": null,
   "id": "e1551459-b0a3-400e-8654-72d9b05336e8",
   "metadata": {},
   "outputs": [],
   "source": [
    "consul operator autopilot get-config"
   ]
  },
  {
   "cell_type": "markdown",
   "id": "f764020b-97f1-4501-9061-9eedfd5a7620",
   "metadata": {},
   "source": [
    "Sample Output\n",
    "```shell\n",
    "CleanupDeadServers = true\n",
    "LastContactThreshold = 200ms\n",
    "MaxTrailingLogs = 250\n",
    "MinQuorum = 0\n",
    "ServerStabilizationTime = 10s\n",
    "RedundancyZoneTag = \"zone\"   <==---\n",
    "DisableUpgradeMigration = false\n",
    "UpgradeVersionTag = \"\"\n",
    "```"
   ]
  },
  {
   "cell_type": "markdown",
   "id": "66e8efa6-70cc-4ae2-95ff-7d20f0f5271d",
   "metadata": {},
   "source": [
    "#### Create Consul config - Redundancy Zone for new nodes"
   ]
  },
  {
   "cell_type": "code",
   "execution_count": null,
   "id": "7c1a0376-6051-4198-9833-4cbc4e6577cd",
   "metadata": {},
   "outputs": [],
   "source": [
    "for i in {0..2}; do\n",
    "cat > consul/config/rz-${i}.hcl <<-EOF\n",
    "node_meta {\n",
    "  zone = \"zone${i}\"\n",
    "}\n",
    "autopilot {\n",
    "  redundancy_zone_tag = \"zone\"\n",
    "}\n",
    "EOF\n",
    "done"
   ]
  },
  {
   "cell_type": "markdown",
   "id": "8199c8ae-d11f-45fc-94b7-c06be35c4326",
   "metadata": {},
   "source": [
    "Server 3, 4, and 5 are used for various scenarios. In this scenario, we can reuse the configs from the first cluster."
   ]
  },
  {
   "cell_type": "code",
   "execution_count": null,
   "id": "ce4b50ed-80b7-4d46-9494-50008a1ba794",
   "metadata": {},
   "outputs": [],
   "source": [
    "cp consul/config/server.hcl consul/config/server_dc2.hcl"
   ]
  },
  {
   "cell_type": "markdown",
   "id": "07ea04dc-bdff-4570-9005-4c73ac8e92f8",
   "metadata": {},
   "source": [
    "Click here if you want to view the config files.\n",
    "* [server.hcl](./consul/config/server.hcl)\n",
    "* [server_dc2.hcl](./consul/config/server_dc2.hcl)"
   ]
  },
  {
   "cell_type": "markdown",
   "id": "0c391249-3ca5-43c9-bd56-4edd48574d04",
   "metadata": {},
   "source": [
    "Modify [docker-compose-hashi.yml](docker-compose-hashi.yml). For `consul-server-3`, uncomment the image parameter for `1.9` and comment the one for `latest`. Servers 4 and 5 will inherit the settings."
   ]
  },
  {
   "cell_type": "markdown",
   "id": "32b789f4-d362-4370-96c3-f819a5c4ebb9",
   "metadata": {},
   "source": [
    "```yaml\n",
    "    image: hashicorp/consul-enterprise:1.9-ent\n",
    "    # image: hashicorp/consul-enterprise:latest\n",
    "```"
   ]
  },
  {
   "cell_type": "markdown",
   "id": "b220b4c5-f7c2-4c69-bbae-c59d9e741a4c",
   "metadata": {},
   "source": [
    "#### Bring up new Consul nodes"
   ]
  },
  {
   "cell_type": "markdown",
   "id": "483e3f1f-ba9f-4c51-9c8b-e217575f42b0",
   "metadata": {},
   "source": [
    "Start consul-server-3 consul-server-4 consul-server-5"
   ]
  },
  {
   "cell_type": "code",
   "execution_count": null,
   "id": "0b6f731c-0180-431b-bed2-79152d6d796d",
   "metadata": {},
   "outputs": [],
   "source": [
    "CONSUL_DC=west CONSUL_DC_2=west\n",
    "docker-compose up --force-recreate -d \\\n",
    "  consul-server-3 consul-server-4 consul-server-5"
   ]
  },
  {
   "cell_type": "markdown",
   "id": "6d92324e-8e66-4bf6-a6dd-5f43a760bd91",
   "metadata": {},
   "source": [
    "Verify Consul with `operator` subcommand."
   ]
  },
  {
   "cell_type": "code",
   "execution_count": null,
   "id": "0e958da3-756d-4b33-8f62-648f5fbf452a",
   "metadata": {},
   "outputs": [],
   "source": [
    "printf \"#==> List Members\\n\"\n",
    "consul members\n",
    "# curl http://127.0.0.1:8500/v1/agent/members | jq -c .[]\n",
    "printf \"\\n#==> List Raft Peers\\n\"\n",
    "consul operator raft list-peers"
   ]
  },
  {
   "cell_type": "markdown",
   "id": "ecad40e5-4abd-4582-8b1c-3def7402812f",
   "metadata": {},
   "source": [
    "Sample Output\n",
    "```\n",
    "#==> List Members\n",
    "Node             Address         Status  Type    Build       Protocol  DC    Segment\n",
    "consul-server-0  10.5.0.2:8301   alive   server  1.9.11+ent  2         west  <all>\n",
    "consul-server-1  10.5.0.3:8301   alive   server  1.9.11+ent  2         west  <all>\n",
    "consul-server-2  10.5.0.4:8301   alive   server  1.9.11+ent  2         west  <all>\n",
    "consul-server-3  10.5.0.7:8301   alive   server  1.9.11+ent  2         west  <all>\n",
    "consul-server-4  10.5.0.6:8301   alive   server  1.9.11+ent  2         west  <all>\n",
    "consul-server-5  10.5.0.5:8301   alive   server  1.9.11+ent  2         west  <all>\n",
    "App1             10.5.0.12:8301  alive   client  1.9.11+ent  2         west  <default>\n",
    "\n",
    "#==> List Raft Peers\n",
    "Node             ID                                    Address        State     Voter  RaftProtocol\n",
    "consul-server-0  bf8054d2-57da-128c-1a0e-b81ab694105d  10.5.0.2:8300  follower  true   3\n",
    "consul-server-1  d7e82aa0-2fa0-9308-5970-44e839786d2b  10.5.0.3:8300  leader    true   3\n",
    "consul-server-2  3c60ff6c-3836-9f3a-627c-80370f71b172  10.5.0.4:8300  follower  true   3\n",
    "consul-server-5  b9c2c042-b161-3085-f417-d5739e6cbb50  10.5.0.5:8300  follower  false  3\n",
    "consul-server-4  21c6c18d-b89d-edca-4f8e-011cbb244036  10.5.0.6:8300  follower  false  3\n",
    "consul-server-3  524afd65-feea-79f2-1431-09b6dbbb8c05  10.5.0.7:8300  follower  false  3\n",
    "```\n",
    "\n",
    "* **NOTE:** All the new servers, once started, are added to the datacenter as non-voters (`Voter` = `false`). You can reference the Voter column in the output to verify it."
   ]
  },
  {
   "cell_type": "markdown",
   "id": "c039f111-5224-4b41-b49e-c14b2055b920",
   "metadata": {},
   "source": [
    "#### Test fault tolerance"
   ]
  },
  {
   "cell_type": "markdown",
   "id": "b182cee5-703f-483d-8908-1a8ce88fa18c",
   "metadata": {},
   "source": [
    "Stop one of the voters. We use `consul-server-1` from `zone1`."
   ]
  },
  {
   "cell_type": "code",
   "execution_count": null,
   "id": "e143eecb-e1ab-4757-9489-1f8da064304f",
   "metadata": {},
   "outputs": [],
   "source": [
    "docker stop consul-server-1"
   ]
  },
  {
   "cell_type": "markdown",
   "id": "b2bc59d7-1cfd-481a-bb68-82fcf7182a21",
   "metadata": {},
   "source": [
    "Verify that the correspondent non-voter in its redundancy zone gets promoted as a voter as soon as the server gets declared unhealthy."
   ]
  },
  {
   "cell_type": "code",
   "execution_count": null,
   "id": "2f57768a-a028-48b9-8a8e-ddefc4750354",
   "metadata": {},
   "outputs": [],
   "source": [
    "consul operator raft list-peers"
   ]
  },
  {
   "cell_type": "markdown",
   "id": "e01b2825-a12f-4e5c-86f6-30ed221fb105",
   "metadata": {},
   "source": [
    "```shell\n",
    "Node             ID                                    Address        State     Voter  RaftProtocol\n",
    "consul-server-0  bf8054d2-57da-128c-1a0e-b81ab694105d  10.5.0.2:8300  leader    true   3\n",
    "consul-server-2  3c60ff6c-3836-9f3a-627c-80370f71b172  10.5.0.4:8300  follower  true   3\n",
    "consul-server-5  b9c2c042-b161-3085-f417-d5739e6cbb50  10.5.0.5:8300  follower  false  3\n",
    "consul-server-4  21c6c18d-b89d-edca-4f8e-011cbb244036  10.5.0.6:8300  follower  true   3   <==---\n",
    "consul-server-3  524afd65-feea-79f2-1431-09b6dbbb8c05  10.5.0.7:8300  follower  false  3\n",
    "```\n",
    "\n",
    "* `consul-server-4` from `zone1` is now a voter"
   ]
  },
  {
   "cell_type": "markdown",
   "id": "e486555e-47c7-4f15-9bec-6f9aa6673e6b",
   "metadata": {},
   "source": [
    "Once `server-server-4` gets promoted as a voter you can start Consul on `consul-server-1` again and verify the one voter per redundancy zone rule is still respected."
   ]
  },
  {
   "cell_type": "code",
   "execution_count": null,
   "id": "4c5220f2-4acb-4a04-8687-4c6dde5cdbde",
   "metadata": {},
   "outputs": [],
   "source": [
    "docker start consul-server-1"
   ]
  },
  {
   "cell_type": "code",
   "execution_count": null,
   "id": "17bc25fb-1027-4348-b5d5-8b380338411e",
   "metadata": {},
   "outputs": [],
   "source": [
    "consul operator raft list-peers"
   ]
  },
  {
   "cell_type": "markdown",
   "id": "030a6066-b271-44aa-a71e-e618b0132e34",
   "metadata": {},
   "source": [
    "```shell\n",
    "Node             ID                                    Address        State     Voter  RaftProtocol\n",
    "consul-server-0  bf8054d2-57da-128c-1a0e-b81ab694105d  10.5.0.2:8300  leader    true   3\n",
    "consul-server-2  3c60ff6c-3836-9f3a-627c-80370f71b172  10.5.0.4:8300  follower  true   3\n",
    "consul-server-5  b9c2c042-b161-3085-f417-d5739e6cbb50  10.5.0.5:8300  follower  false  3\n",
    "consul-server-4  21c6c18d-b89d-edca-4f8e-011cbb244036  10.5.0.6:8300  follower  true   3\n",
    "consul-server-3  524afd65-feea-79f2-1431-09b6dbbb8c05  10.5.0.7:8300  follower  false  3\n",
    "consul-server-1  d7e82aa0-2fa0-9308-5970-44e839786d2b  10.5.0.3:8300  follower  false  3   <==---\n",
    "```\n",
    "\n",
    "**NOTE:** `consul-server` is up as a `follower`, but is no longer a `voter`."
   ]
  },
  {
   "cell_type": "markdown",
   "id": "c1b0b59a-8433-4868-b83a-b17baa938370",
   "metadata": {},
   "source": [
    "If you no longer need these nodes you can stop them.\n",
    "\n",
    "Stop consul-server-3 consul-server-4 consul-server-5"
   ]
  },
  {
   "cell_type": "code",
   "execution_count": null,
   "id": "f04f9796-e0e8-4567-8a9e-f150d036c154",
   "metadata": {},
   "outputs": [],
   "source": [
    "for i in {3..5}; do\n",
    "echo \"#==> Stopping consul-server-${i}\"\n",
    "docker-compose stop consul-server-${i}\n",
    "consul operator raft list-peers\n",
    "sleep 2\n",
    "done"
   ]
  },
  {
   "cell_type": "code",
   "execution_count": null,
   "id": "886e60dc-13f9-4604-8d76-d283401f2eab",
   "metadata": {},
   "outputs": [],
   "source": [
    "consul operator raft list-peers"
   ]
  },
  {
   "cell_type": "markdown",
   "id": "705a8691-6c01-4d14-9ce4-f55e55125b4e",
   "metadata": {},
   "source": [
    "#### Troubleshooting\n",
    "\n",
    "```\n",
    "Failed to join 10.5.0.2: No installed keys could decrypt the message\n",
    "```\n",
    "\n",
    "* https://learn.hashicorp.com/tutorials/consul/gossip-encryption-rotate"
   ]
  },
  {
   "cell_type": "markdown",
   "id": "49259edb-b0c7-407c-a214-28ac5969aca6",
   "metadata": {},
   "source": [
    "Create new keys"
   ]
  },
  {
   "cell_type": "code",
   "execution_count": null,
   "id": "020b1386-5485-4c34-bb13-582b7c703dd7",
   "metadata": {},
   "outputs": [],
   "source": [
    "export CONSUL_HTTP_ADDR=\"http://localhost:8500\"\n",
    "export NEW_KEY=`consul keygen`\n",
    "echo $NEW_KEY\n",
    "\n",
    "for i in {0..5}; do\n",
    "docker exec -i consul-server-${i} sh <<EOM\n",
    "# Install the key\n",
    "consul keyring -install ${NEW_KEY}\n",
    "\n",
    "# Set as primary\n",
    "consul keyring -use ${NEW_KEY}\n",
    "EOM\n",
    "done"
   ]
  },
  {
   "cell_type": "markdown",
   "id": "a73c4864-acc1-46ef-aa16-06e48f3ef5d5",
   "metadata": {},
   "source": [
    "Delete old keys"
   ]
  },
  {
   "cell_type": "code",
   "execution_count": null,
   "id": "589d6e64-22cc-41b1-846e-2d5cc5a0744c",
   "metadata": {},
   "outputs": [],
   "source": [
    "for i in {0..5}; do\n",
    "docker exec -i \\\n",
    "  -e CONSUL_HTTP_ADDR=$CONSUL_HTTP_ADDR \\\n",
    "  -e NEW_KEY=$NEW_KEY \\\n",
    "  consul-server-${i} \\\n",
    "  sh -s <<\"EOM\"\n",
    "echo \"#==> Retrieve all keys used by Consul\"\n",
    "echo \"Host: $(hostname)\"\n",
    "KEYS=$(curl -s http://localhost:8500/v1/operator/keyring)\n",
    "#echo Keys: $KEYS #DEBUGGING \n",
    "ALL_KEYS=$(echo ${KEYS} | jq -r '.[].Keys| to_entries[].key' | sort | uniq)\n",
    "\n",
    "echo \"#==> Delete all older keys used by Consul\"\n",
    "for i in `echo ${ALL_KEYS}`; do\n",
    "  # echo $i #DEBUGGING\n",
    "  if [ $i != ${NEW_KEY} ] ; then\n",
    "    echo consul keyring -remove $i\n",
    "    consul keyring -remove $i\n",
    "  fi\n",
    "done\n",
    "EOM\n",
    "done"
   ]
  },
  {
   "cell_type": "markdown",
   "id": "932c05ca-3984-48c6-bece-3c2240ec0669",
   "metadata": {},
   "source": [
    "`last_log_index` and `commit_index`\n"
   ]
  },
  {
   "cell_type": "markdown",
   "id": "0d2cbac1-9e94-4e93-aba9-048623b1b561",
   "metadata": {},
   "source": [
    "## Consul Federation Using WAN Gossip"
   ]
  },
  {
   "cell_type": "markdown",
   "id": "dfdef8ad-65c8-4a91-a44f-46bfaab4039d",
   "metadata": {},
   "source": [
    "### Create Server Configuration - DC2"
   ]
  },
  {
   "cell_type": "markdown",
   "id": "a19ab6d0-6ec6-4039-b336-ce290f161258",
   "metadata": {},
   "source": [
    "Create Core Consul config - Server"
   ]
  },
  {
   "cell_type": "code",
   "execution_count": null,
   "id": "fe9be060-fc32-466e-8a08-f2c46cffeaab",
   "metadata": {},
   "outputs": [],
   "source": [
    "#debugging - in case variable from earlier was lost\n",
    "export CONSUL_KEY=\"Y+rrmAn0c9R7MLIf/eRNOjvglJA+z9dY/uqyqitaB0E=\""
   ]
  },
  {
   "cell_type": "code",
   "execution_count": null,
   "id": "5fba4584-5786-4e08-8582-4741c0397249",
   "metadata": {},
   "outputs": [],
   "source": [
    "# for i in {3..5}; do\n",
    "tee consul/config/server_dc2.hcl <<-EOF\n",
    "# datacenter  = \"${CONSUL_DC_2}\" # in CLI\n",
    "# node_name   = \"ConsulServer${i}\" # in CLI\n",
    "bind_addr   = \"0.0.0.0\" #default\n",
    "client_addr = \"0.0.0.0\" #default 127.0.0.1\n",
    "data_dir    = \"/consul/data\"\n",
    "log_level   = \"DEBUG\"\n",
    "\n",
    "encrypt     = \"${CONSUL_KEY}\"\n",
    "ca_file     = \"/consul/cert/consul-agent-ca.pem\"\n",
    "cert_file   = \"/consul/cert/${CONSUL_DC_2}-server-consul-0.pem\"\n",
    "key_file    = \"/consul/cert/${CONSUL_DC_2}-server-consul-0-key.pem\"\n",
    "verify_incoming = true\n",
    "verify_outgoing = true\n",
    "verify_server_hostname = true\n",
    "\n",
    "# server           =  true # in CLI\n",
    "bootstrap_expect = 1\n",
    "retry_join  = [ \"consul-server-3\", \"consul-server-4\", \"consul-server-5\" ]\n",
    "ui_config { enabled = true } \n",
    "\n",
    "#// 5 is default multiplier\n",
    "performance {\n",
    "  raft_multiplier = 2 #// fast but not too fast\n",
    "}\n",
    "\n",
    "discovery_max_stale = \"5s\"\n",
    "\n",
    "telemetry {\n",
    "    prometheus_retention_time = \"8h\",\n",
    "    disable_hostname = true\n",
    "}\n",
    "\n",
    "connect {\n",
    "    enabled = true\n",
    "}\n",
    "\n",
    "enable_local_script_checks = true\n",
    "EOF\n",
    "# done"
   ]
  },
  {
   "cell_type": "markdown",
   "id": "824b7ebe-62c6-47b9-9900-6b10929f7786",
   "metadata": {},
   "source": [
    "### Consul docker-compose up"
   ]
  },
  {
   "cell_type": "markdown",
   "id": "7a503156-5d92-40c6-8502-0b94acf1d7e0",
   "metadata": {},
   "source": [
    "We will now bring up the three Consul servers in a second Consul Cluster. You can use `--force-recreate` to have Docker recreate the containers."
   ]
  },
  {
   "cell_type": "code",
   "execution_count": null,
   "id": "e427a568-63fb-4718-a0a7-56c09d54b1b9",
   "metadata": {},
   "outputs": [],
   "source": [
    "export CONSUL_DC=west CONSUL_DC_2=east\n",
    "docker-compose \\\n",
    "  up --force-recreate -d \\\n",
    "  consul-server-3 consul-server-4 consul-server-5"
   ]
  },
  {
   "cell_type": "markdown",
   "id": "398dfa6a-c13a-412c-8e1d-ee08f8c8014a",
   "metadata": {},
   "source": [
    "### Verify Consul"
   ]
  },
  {
   "cell_type": "markdown",
   "id": "8ecf08ed-eed7-4d36-ac83-62546e4a9522",
   "metadata": {},
   "source": [
    "Quick check to make sure your Consul environment is running correctly."
   ]
  },
  {
   "cell_type": "code",
   "execution_count": null,
   "id": "95744524-3ff1-4bad-aac4-981c5705a209",
   "metadata": {
    "tags": []
   },
   "outputs": [],
   "source": [
    "docker exec -i consul-server-3 sh <<EOM\n",
    "echo export CONSUL_HTTP_TOKEN=$CONSUL_HTTP_TOKEN\n",
    "printf \"#==> List Members\\n\"\n",
    "consul members\n",
    "# curl http://127.0.0.1:8500/v1/agent/members | jq -c .[]\n",
    "printf \"\\n#==> List Raft Peers\\n\"\n",
    "consul operator raft list-peers\n",
    "printf \"\\n#==> List services from Consul catalog\\n\"\n",
    "consul catalog services\n",
    "EOM"
   ]
  },
  {
   "cell_type": "markdown",
   "id": "6cc85c43-8db1-4430-881d-7d1f2bb9ed48",
   "metadata": {},
   "source": [
    "You should see something like the following.\n",
    "* There should be three servers. `DC` should match\n",
    "```\n",
    "#==> List Members\n",
    "Node             Address        Status  Type    Build       Protocol  DC    Segment\n",
    "consul-server-3  10.5.1.2:8301  alive   server  1.10.4+ent  2         east  <all>\n",
    "consul-server-4  10.5.1.3:8301  alive   server  1.10.4+ent  2         east  <all>\n",
    "consul-server-5  10.5.1.4:8301  alive   server  1.10.4+ent  2         east  <all>\n",
    "```\n",
    "\n",
    "* There should be a leader and two followers.\n",
    "\n",
    "```\n",
    "#==> List Raft Peers\n",
    "Node             ID                                    Address        State     Voter  RaftProtocol\n",
    "consul-server-3  cff9fe90-1bfe-84a9-72cb-84f132297c32  10.5.1.2:8300  leader    true   3\n",
    "consul-server-4  7b7d6e78-fc82-9ea7-4c99-e17d2be86439  10.5.1.3:8300  follower  true   3\n",
    "consul-server-5  dd9fc878-7cd5-3b86-a122-bb2000c446f2  10.5.1.4:8300  follower  true   3\n",
    "```\n",
    "\n",
    "\n",
    "```\n",
    "#==> List services from Consul catalog\n",
    "consul\n",
    "```"
   ]
  },
  {
   "cell_type": "code",
   "execution_count": null,
   "id": "96fe6702-2f88-4a08-913f-f7ed16d69919",
   "metadata": {
    "tags": []
   },
   "outputs": [],
   "source": [
    "for i in {3..5}; do\n",
    "docker logs consul-server-${i} | (head; tail -n 5)\n",
    "done"
   ]
  },
  {
   "cell_type": "markdown",
   "id": "b9bd930d-b77b-4950-a2aa-b5902556b5db",
   "metadata": {},
   "source": [
    "### Confirm the Datacenters are Joined and Replicating Tokens"
   ]
  },
  {
   "cell_type": "code",
   "execution_count": null,
   "id": "ced4165f-7eff-4391-9b17-bc87c5828a42",
   "metadata": {},
   "outputs": [],
   "source": [
    "consul members -wan"
   ]
  },
  {
   "cell_type": "markdown",
   "id": "37fffcf0-d63f-4143-a71c-eaaab1d1eda6",
   "metadata": {},
   "source": [
    "Join the Datacenters"
   ]
  },
  {
   "cell_type": "code",
   "execution_count": null,
   "id": "16b208c3-edc9-4833-b18a-d677ad2a7363",
   "metadata": {},
   "outputs": [],
   "source": [
    "consul join -wan consul-server-3"
   ]
  },
  {
   "cell_type": "markdown",
   "id": "1a716c5c-0560-4c27-b180-740b0fa30021",
   "metadata": {},
   "source": [
    "#### Verify Consul Federation"
   ]
  },
  {
   "cell_type": "markdown",
   "id": "a4c2c04a-60d3-47be-9a3e-d68f59ccb64c",
   "metadata": {},
   "source": [
    "Once the join is complete, the members command can be used to verify that all server nodes gossiping over WAN."
   ]
  },
  {
   "cell_type": "code",
   "execution_count": null,
   "id": "1c6e819c-eabb-4679-8bec-83fb3e07e8ae",
   "metadata": {},
   "outputs": [],
   "source": [
    "consul members -wan"
   ]
  },
  {
   "cell_type": "code",
   "execution_count": null,
   "id": "0c2c0bda-c4d7-40ab-b001-e277d27a247b",
   "metadata": {},
   "outputs": [],
   "source": [
    "curl http://localhost:8500/v1/catalog/datacenters"
   ]
  },
  {
   "cell_type": "markdown",
   "id": "51687436-8236-4ace-8632-382ea18f897d",
   "metadata": {},
   "source": [
    "Check that ACL replication is configured properly in the secondary datacenter."
   ]
  },
  {
   "cell_type": "code",
   "execution_count": null,
   "id": "66b75954-195b-4ef0-ac5d-be9615e41ad5",
   "metadata": {},
   "outputs": [],
   "source": [
    "docker exec -i consul-server-0 sh <<EOF\n",
    "echo \"#==> From dc1\"\n",
    "apk add curl\n",
    "curl http://localhost:8500/v1/acl/replication?pretty\n",
    "printf \"\\n\\n\"; echo \"#==> From dc2\"\n",
    "curl http://consul-server-3:8500/v1/acl/replication?pretty\n",
    "EOF"
   ]
  },
  {
   "cell_type": "markdown",
   "id": "fecc13eb-60f4-464c-99c4-99ca755c4cca",
   "metadata": {},
   "source": [
    "Query the nodes in each datacenter"
   ]
  },
  {
   "cell_type": "code",
   "execution_count": null,
   "id": "d1b59199-a7ba-4e70-b110-e8e365bda559",
   "metadata": {},
   "outputs": [],
   "source": [
    "docker exec consul-server-0 \\\n",
    "  curl -s http://localhost:8500/v1/catalog/nodes?dc=${CONSUL_DC} | jq -c .[]"
   ]
  },
  {
   "cell_type": "code",
   "execution_count": null,
   "id": "274032e6-12a4-42ef-b792-fe58536067d4",
   "metadata": {},
   "outputs": [],
   "source": [
    "docker exec consul-server-0 \\\n",
    "  curl -s http://localhost:8500/v1/catalog/nodes?dc=${CONSUL_DC_2} | jq -c .[]"
   ]
  },
  {
   "cell_type": "markdown",
   "id": "375192c8-ede7-41e5-a271-293efaa736cd",
   "metadata": {},
   "source": [
    "Query for service in both datacenters - `consul.service.west.consul` and `consul.service.east.consul` "
   ]
  },
  {
   "cell_type": "code",
   "execution_count": null,
   "id": "a17c8b9f-8599-4f20-b139-f5522c7d7678",
   "metadata": {},
   "outputs": [],
   "source": [
    "dig @127.0.0.1 -p 8600 consul.service.west.consul | grep -A3 \"ANSWER SECTION\""
   ]
  },
  {
   "cell_type": "code",
   "execution_count": null,
   "id": "fe97b0b3-5749-457c-848d-43f95c8a7ef1",
   "metadata": {},
   "outputs": [],
   "source": [
    "dig @127.0.0.1 -p 8600 consul.service.east.consul | grep -A3 \"ANSWER SECTION\""
   ]
  },
  {
   "cell_type": "markdown",
   "id": "b3371cb7-bcd4-4d64-b4b3-2949472e9838",
   "metadata": {},
   "source": [
    "NOTES:\n",
    "\n",
    "* All server nodes must be able to talk to each other; Else gossip and RPC forwarding will not work\n",
    "* Data is not replicated between Consul Clusters\n",
    "  * Request made for resource in another datacenter is forwarded to remote Consul Servers\n",
    "  "
   ]
  },
  {
   "cell_type": "markdown",
   "id": "38945624-cfb6-404e-a596-6f27b8f60593",
   "metadata": {},
   "source": [
    "### Additional Consul Steps"
   ]
  },
  {
   "cell_type": "markdown",
   "id": "dd54dc48-32a7-416c-9c8f-eb8f7e5ad62e",
   "metadata": {},
   "source": [
    "Setup Consul environment variables - Notice that since TLS encryption is enabled, you will now need to use the server certificates to complete all other tasks."
   ]
  },
  {
   "cell_type": "code",
   "execution_count": null,
   "id": "42d9440f-d935-4dc5-bdc7-bc63c4e63bd4",
   "metadata": {},
   "outputs": [],
   "source": [
    "export CONSUL_CACERT=/etc/consul.d/consul-agent-ca.pem\n",
    "export CONSUL_CLIENT_CERT=/etc/consul.d/<dc-name>-<server/ client>-consul-<cert-number>.pem\n",
    "export CONSUL_CLIENT_KEY=/etc/consul.d/<dc-name>-<server/   client>-consul-<cert-number>-key.pem"
   ]
  },
  {
   "cell_type": "markdown",
   "id": "dcc8d041-7883-4aac-8551-243f68df50a3",
   "metadata": {},
   "source": [
    "## Vault DR and PR"
   ]
  },
  {
   "cell_type": "markdown",
   "id": "35e87535-57a9-4f2d-bbc9-6cf467551d7f",
   "metadata": {},
   "source": [
    "## Debug - Network"
   ]
  },
  {
   "cell_type": "code",
   "execution_count": null,
   "id": "10c9bc6c-a8c4-4cbf-bc9a-0b4b9609d1d9",
   "metadata": {},
   "outputs": [],
   "source": [
    "docker exec -i consul-server-0 sh <<\"EOM\"\n",
    "hostname\n",
    "for i in consul-server-1 consul-server-2 consul-agent-1; do\n",
    "ping -qc 1 ${i}\n",
    "done\n",
    "EOM"
   ]
  },
  {
   "cell_type": "markdown",
   "id": "730ff5eb-79bc-4397-9176-050f747bc459",
   "metadata": {},
   "source": [
    "### docker-compose restart"
   ]
  },
  {
   "cell_type": "code",
   "execution_count": null,
   "id": "43cda94f-a4f6-4f52-8ea7-d71cf53fbe74",
   "metadata": {},
   "outputs": [],
   "source": [
    "docker-compose -f docker-compose-hashi.yml restart"
   ]
  },
  {
   "cell_type": "markdown",
   "id": "b7a21249-5d31-43bf-9fca-be58c3660190",
   "metadata": {},
   "source": [
    "### docker-compose down"
   ]
  },
  {
   "cell_type": "code",
   "execution_count": null,
   "id": "e654ef17-05db-431d-ad21-d456a28584fc",
   "metadata": {},
   "outputs": [],
   "source": [
    "docker-compose -f docker-compose-hashi.yml down"
   ]
  },
  {
   "cell_type": "code",
   "execution_count": null,
   "id": "d6a4ec0b-fcae-489c-9cf1-284fce9d88dd",
   "metadata": {},
   "outputs": [],
   "source": [
    "docker-compose stop grafana prometheus"
   ]
  },
  {
   "cell_type": "markdown",
   "id": "8c1bb1c2-3d5f-45d0-b6de-6555dc48fe59",
   "metadata": {},
   "source": [
    "### Restart Vault Cluster"
   ]
  },
  {
   "cell_type": "code",
   "execution_count": null,
   "id": "875df0ba-6ed8-47b7-aa2f-e0ab5fddd8d9",
   "metadata": {},
   "outputs": [],
   "source": [
    "docker-compose -f docker-compose-hashi.yml restart vault_s1 vault_s2 vault_s3"
   ]
  },
  {
   "cell_type": "markdown",
   "id": "d93c15db-85d3-4dfd-96ba-a1813ea1bd2b",
   "metadata": {},
   "source": [
    "## Vault DB"
   ]
  },
  {
   "cell_type": "code",
   "execution_count": null,
   "id": "e6178669-8891-4c86-b704-e8b228bf3138",
   "metadata": {},
   "outputs": [],
   "source": [
    "# This script configures a Postgres Dynamic Database credential database for benchmarking\n",
    "vault secrets enable database\n",
    "\n",
    "vault write database/config/postgres \\\n",
    "  plugin_name=postgresql-database-plugin \\\n",
    "  allowed_roles=\"*\" \\\n",
    "  connection_url=\"postgresql://{{username}}:{{password}}@db:5432/products?sslmode=disable\" \\\n",
    "  username=\"postgres\" \\\n",
    "  password=\"password\"\n",
    "\n",
    "vault write database/roles/benchmarking \\\n",
    "    db_name=postgres \\\n",
    "    creation_statements=\"CREATE ROLE \\\"{{name}}\\\" WITH LOGIN PASSWORD '{{password}}' VALID UNTIL '{{expiration}}'; \\\n",
    "        GRANT SELECT ON ALL TABLES IN SCHEMA public TO \\\"{{name}}\\\";\" \\\n",
    "    default_ttl=\"24h\" \\\n",
    "    max_ttl=\"48h\"\n",
    "\n",
    "vault read database/creds/benchmarking"
   ]
  },
  {
   "cell_type": "markdown",
   "id": "8d235065-23cb-49a9-a039-ddfb93f74f02",
   "metadata": {},
   "source": [
    "Admin token (optional): You may prefer using an admin token instead of root (for example if you’re using an existing cluster). If so, create an admin token using the vault-admin.hcl policy file shown below. This admin policy is authored based on the Vault Policies guide."
   ]
  },
  {
   "cell_type": "code",
   "execution_count": null,
   "id": "000e6b1c-2bab-410f-aff0-6c52faccddae",
   "metadata": {},
   "outputs": [],
   "source": [
    "# Assuming that VAULT_TOKEN is set with root or higher Admin token\n",
    "vault policy write learn-admin admin-policy.hcl\n",
    "vault token create -policy=learn-adminexport\n",
    "VAULT_TOKEN=<token-from-above command>\n",
    "vault token lookup"
   ]
  },
  {
   "cell_type": "code",
   "execution_count": null,
   "id": "8b9a0297-9e32-4e04-8110-aba8ebef2502",
   "metadata": {},
   "outputs": [],
   "source": [
    "consul members\n",
    "consul operator raft list-peers\n",
    "consul operator autopilot get-config\n",
    "vault operator raft list-peers"
   ]
  },
  {
   "cell_type": "markdown",
   "id": "ff092a02-88f0-421d-8d82-abd985bc09db",
   "metadata": {},
   "source": [
    "## Onboarding App"
   ]
  },
  {
   "cell_type": "code",
   "execution_count": null,
   "id": "34d5f8ca-374a-4155-b31e-5bcd1bd59361",
   "metadata": {},
   "outputs": [],
   "source": [
    "vault secrets list\n",
    "vault read database/config/postgres"
   ]
  },
  {
   "cell_type": "markdown",
   "id": "77989b7d-70bf-4d04-8b7d-667ee6785772",
   "metadata": {},
   "source": [
    "### Vault Onboarding docker-compose up"
   ]
  },
  {
   "cell_type": "markdown",
   "id": "9a54e617-12ba-42c1-b01b-551b7b742fb3",
   "metadata": {},
   "source": [
    "We will now bring up the three Consul servers and one client. You can use `--force-recreate` to have Docker recreate the containers."
   ]
  },
  {
   "cell_type": "code",
   "execution_count": null,
   "id": "07e5465e-7c9b-49ff-93b6-7c38ce53255f",
   "metadata": {},
   "outputs": [],
   "source": [
    "export CONSUL_DC=west CONSUL_DC_2=east\n",
    "docker-compose \\\n",
    "  up --force-recreate -d \\\n",
    "  db web vault-agent haproxy"
   ]
  },
  {
   "cell_type": "code",
   "execution_count": null,
   "id": "7855f5c3-a05c-4c36-87ad-fb5c45f32a67",
   "metadata": {},
   "outputs": [],
   "source": []
  },
  {
   "cell_type": "code",
   "execution_count": null,
   "id": "584d3f44-1d6b-44bf-9bf1-249471de1c60",
   "metadata": {},
   "outputs": [],
   "source": [
    "git clone https://github.com/hashicorp/vault-guides.git tmp/vault-guides"
   ]
  },
  {
   "cell_type": "code",
   "execution_count": null,
   "id": "8210a6f9-9a66-47ad-8eab-2c6baa952a6f",
   "metadata": {},
   "outputs": [],
   "source": [
    "cp tmp/vault-guides/operations/onboarding/terraform/*.* terraform/"
   ]
  },
  {
   "cell_type": "code",
   "execution_count": null,
   "id": "1e24d2f7-88e7-40cd-b719-a9c5260e19f6",
   "metadata": {},
   "outputs": [],
   "source": [
    "cp -r tmp/vault-guides/operations/onboarding/docker-compose/vault-agent ."
   ]
  },
  {
   "cell_type": "markdown",
   "id": "126ad08f-2196-4164-b07a-5d36573b3376",
   "metadata": {
    "tags": []
   },
   "source": [
    "### Vault administration with Terraform"
   ]
  },
  {
   "cell_type": "markdown",
   "id": "45fbac10-fc2e-44e0-82c0-2db7f5e1149d",
   "metadata": {},
   "source": [
    "Modifications: \n",
    "\n",
    "* I modified the `auth.tf`. Changed the local file destination since `vault-agent` folder is not under `docker-compose` folder."
   ]
  },
  {
   "cell_type": "code",
   "execution_count": null,
   "id": "ed6eb804-2f55-4510-8275-a81cfebd7d10",
   "metadata": {},
   "outputs": [],
   "source": [
    "TF_CLI_ARGS=\"-input=false\""
   ]
  },
  {
   "cell_type": "code",
   "execution_count": null,
   "id": "56856ed7-1ea5-4d9d-b806-46b3eaac2cde",
   "metadata": {},
   "outputs": [],
   "source": [
    "terraform -chdir=terraform init"
   ]
  },
  {
   "cell_type": "code",
   "execution_count": null,
   "id": "d50d3234-c175-4a20-9e31-efcaf251389e",
   "metadata": {
    "tags": []
   },
   "outputs": [],
   "source": [
    "terraform -chdir=terraform plan"
   ]
  },
  {
   "cell_type": "code",
   "execution_count": null,
   "id": "95f8df4a-7083-442b-8303-b616e11cd8e4",
   "metadata": {
    "tags": []
   },
   "outputs": [],
   "source": [
    "terraform -chdir=terraform apply -auto-approve"
   ]
  },
  {
   "cell_type": "code",
   "execution_count": null,
   "id": "53cb25e0-7ebf-4e9c-beb4-12e9eb396cd1",
   "metadata": {},
   "outputs": [],
   "source": [
    "docker restart vault-agent"
   ]
  },
  {
   "cell_type": "markdown",
   "id": "ae3d3391-2494-40cf-8605-a4fe97773174",
   "metadata": {},
   "source": [
    "Access http://localhost:8080 on your browser, and you should be able to see the nginx application display a dynamic PostgreSQL database credential provided by Vault as shown below. Also try accessing http://localhost:8080/kv.html to see example static secret values."
   ]
  },
  {
   "cell_type": "markdown",
   "id": "21cf645b-c7d0-4dbf-bbd6-6a00a3775e94",
   "metadata": {},
   "source": [
    "\n",
    "\n",
    "<img src=\"https://www.datocms-assets.com/2885/1624893789-vtf-onboarding-2.png?fit=max&fm=webp&q=80&w=2500\" width=640 />"
   ]
  },
  {
   "cell_type": "markdown",
   "id": "a5739ebf-36e1-4cc6-a968-f3085534d9d2",
   "metadata": {},
   "source": [
    "The Terraform configurations for this demo are described in more detail below along with the corresponding source file names:\n",
    "\n",
    "* \"**Application entity**\" — `entity.tf`:\n",
    "  * Pre-creating the application entity is optional but encouraged.\n",
    "  * It allows easier auditing and more flexibility in attaching ACL policies.\n",
    "  1. Please log in to the Vault UI on http://localhost:8200 with the root token\n",
    "  1. Then click `Access` > `Entities`. You should see two created entities: `nginx` and `app100`.\n",
    "  1. Clicking into these entities will display\n",
    "      * an alias for the AppRole authentication method \n",
    "      * and the mapped entity ACL policies.\n",
    "* \"Authentication method\" — `auth.tf`:\n",
    "  * This demo uses the AppRole auth method, which is a type of “trusted orchestrator” secure introduction pattern.\n",
    "  * An authentication method alias links the entity to the AppRole role.\n",
    "* \"ACL policy\" — `entity.tf`: We recommend using templated policies to reduce the overhead of policy management.\n",
    "  * This demo uses two templated policies:\n",
    "    * `kv_rw_policy` for accessing key-value secrets\n",
    "    * `postgres_creds_policy` for accessing dynamic Postgres credentials.\n",
    "\n",
    "These elements are represented as a Terraform graph diagram snippet, shown below:"
   ]
  },
  {
   "cell_type": "markdown",
   "id": "c3435580-5793-4df5-8591-30da81112817",
   "metadata": {},
   "source": [
    "Terraform graph snippet for authentication, entity, and ACL policy.\n",
    "\n",
    "<img src=\"https://www.datocms-assets.com/2885/1624893793-vtf-onboarding-3.png?fit=max&fm=webp&q=80&w=2500\" width=640 />"
   ]
  },
  {
   "cell_type": "markdown",
   "id": "499cd285-09a4-41a1-92c1-fbf7b00eade1",
   "metadata": {},
   "source": [
    "### Application Integration with Vault\n",
    "\n",
    "Now that the Vault configurations are built, we need the application to log in to Vault using AppRole credentials and fetch a secret. The demo uses Vault Agent to achieve this (see App Integration for more patterns).\n",
    "Vault Agent workflow."
   ]
  },
  {
   "cell_type": "markdown",
   "id": "0b08480b-6337-49da-9707-943e20022602",
   "metadata": {},
   "source": [
    "Vault Agent workflow.\n",
    "\n",
    "<img src=\"https://www.datocms-assets.com/2885/1624893810-vtf-onboarding-5.png?fit=max&fm=webp&q=80&w=2500\" width=640 />"
   ]
  },
  {
   "cell_type": "markdown",
   "id": "bf7336ec-155c-43c1-a469-7b6972d66076",
   "metadata": {},
   "source": [
    "The file `nginx-vault-agent.hcl` specifies how to authenticate the `nginx` container using AppRole. It also links two template files, `kv.tpl` and `postgres.tpl`, that tell Vault Agent how to render secrets from a KV and Database Secrets Engine respectively."
   ]
  },
  {
   "cell_type": "markdown",
   "id": "3d349d08-97d9-4719-ad6a-c1ee9a2736c1",
   "metadata": {},
   "source": [
    "### Register a service"
   ]
  },
  {
   "cell_type": "code",
   "execution_count": null,
   "id": "a9e8c820-1f96-4aad-a8e7-c6abc7cfcad5",
   "metadata": {},
   "outputs": [],
   "source": [
    "docker exec -i consul-server-1 sh <<EOM\n",
    "cat > /consul/config/webapp.hcl <<EOF\n",
    "service {\n",
    "  name = \"webapp\",\n",
    "  port = 80,\n",
    "  check {\n",
    "    http = \"http://demo-webapp\",\n",
    "    interval = \"5s\"\n",
    "  }\n",
    "}\n",
    "EOM"
   ]
  },
  {
   "cell_type": "code",
   "execution_count": null,
   "id": "072d719f-a3bc-4f14-846f-061f15028aec",
   "metadata": {},
   "outputs": [],
   "source": [
    "docker exec consul-server-1 consul reload"
   ]
  },
  {
   "cell_type": "markdown",
   "id": "cc971c7b-ad4a-483a-a893-d83f7e818d1a",
   "metadata": {},
   "source": [
    "### Onboarding the Next Application\n",
    "\n",
    "To onboard another application, simply add its name to the default value of the entities variable in `variables.tf` as shown below for `app200`."
   ]
  },
  {
   "cell_type": "markdown",
   "id": "d67a3b81-fac5-4d8f-8652-45d196380a4c",
   "metadata": {},
   "source": [
    "# Snippet from variables.tf after adding app200"
   ]
  },
  {
   "cell_type": "code",
   "execution_count": null,
   "id": "5d52f123-311e-46f8-a90f-5848588d1476",
   "metadata": {},
   "outputs": [],
   "source": [
    "cat > terraform/terraform.tfvars <<EOF\n",
    "entities = [\n",
    "    \"nginx\",\n",
    "    \"app100\",\n",
    "    \"app200\"\n",
    "]\n",
    "EOF"
   ]
  },
  {
   "cell_type": "markdown",
   "id": "2e40e040-7d5b-42a0-bdb1-b5b20febdd6f",
   "metadata": {},
   "source": [
    "Then run `terraform apply` to create the additional Vault configurations for this application:\n",
    "\n",
    "NOTE: Ensure that `VAULT_TOKEN` was set from before"
   ]
  },
  {
   "cell_type": "code",
   "execution_count": null,
   "id": "a4a74bfa-90d0-49d4-8cb8-56d71f12de15",
   "metadata": {
    "tags": []
   },
   "outputs": [],
   "source": [
    "terraform -chdir=terraform validate && \\\n",
    "terraform -chdir=terraform apply -auto-approve"
   ]
  },
  {
   "cell_type": "markdown",
   "id": "77fdcb4f-fab0-40d0-a2d5-e0c0960f734a",
   "metadata": {},
   "source": [
    "Verify from the Vault UI that there is a new entity called `app200` with an alias to the AppRole auth method:"
   ]
  },
  {
   "cell_type": "markdown",
   "id": "efd7a7f5-75b1-466a-90c4-9b8dc640d869",
   "metadata": {},
   "source": [
    "Vault screenshot showing a new app200 entity being added.\n",
    "\n",
    "Vault screenshot showing a new app200 entity being added.\n",
    "\n",
    "A new Role ID and Secret ID have also been created, which you can find by running the terraform output command. We can use this to test authentication and secret access as shown below. Note that the Role ID, Secret ID, and Vault token will be unique in your case."
   ]
  },
  {
   "cell_type": "code",
   "execution_count": null,
   "id": "2b138aaa-cd27-4a41-b454-baf4c5226691",
   "metadata": {},
   "outputs": [],
   "source": [
    "terraform -chdir=terraform output -json > /tmp/approle_200.txt"
   ]
  },
  {
   "cell_type": "code",
   "execution_count": null,
   "id": "4ca4b10f-b628-4176-8fcc-0d7be3bb4ae8",
   "metadata": {},
   "outputs": [],
   "source": [
    "ROLE_ID=$(jq -r .role_ids.value.app200 /tmp/approle_200.txt)\n",
    "SECRET_ID=$(jq -r .secret_ids.value.app200 /tmp/approle_200.txt)"
   ]
  },
  {
   "cell_type": "code",
   "execution_count": null,
   "id": "da8f094d-34b7-4654-8427-7d7bd79f0d0b",
   "metadata": {},
   "outputs": [],
   "source": [
    "Login using AppRole"
   ]
  },
  {
   "cell_type": "code",
   "execution_count": null,
   "id": "a79c62d6-eb9b-40a2-9e31-f3eccc9006d8",
   "metadata": {},
   "outputs": [],
   "source": [
    "vault write -format=json auth/approle/login \\\n",
    "  role_id=${ROLE_ID} \\\n",
    "  secret_id=${SECRET_ID} | tee /tmp/approle_200.token"
   ]
  },
  {
   "cell_type": "code",
   "execution_count": null,
   "id": "fa53f87e-0e50-40c1-9634-c5e75753b50b",
   "metadata": {},
   "outputs": [],
   "source": [
    "VAULT_TOKEN_APP200=$(jq -r .auth.client_token /tmp/approle_200.token) && echo $VAULT_TOKEN_APP200"
   ]
  },
  {
   "cell_type": "markdown",
   "id": "5e68c0b9-4f83-4528-9911-647c30cf62d4",
   "metadata": {},
   "source": [
    "Read KV secret"
   ]
  },
  {
   "cell_type": "code",
   "execution_count": null,
   "id": "30cdd0fd-d180-4972-a146-d381163e94d4",
   "metadata": {},
   "outputs": [],
   "source": [
    "VAULT_TOKEN=${VAULT_TOKEN_APP200} vault kv get kv/app200/static"
   ]
  },
  {
   "cell_type": "markdown",
   "id": "6ea3fb92-b462-45ed-8b79-760f6d238ab0",
   "metadata": {},
   "source": [
    "Sample Output\n",
    "```\n",
    "====== Metadata ======\n",
    "Key              Value\n",
    "---              -----\n",
    "created_time     2021-11-16T20:49:58.138197524Z\n",
    "deletion_time    n/a\n",
    "destroyed        false\n",
    "version          1\n",
    "\n",
    "====== Data ======\n",
    "Key         Value\n",
    "---         -----\n",
    "app         app200\n",
    "password    cheese\n",
    "username    app200\n",
    "```"
   ]
  },
  {
   "cell_type": "markdown",
   "id": "63308403-e198-4a8e-9575-4e1cba6aca14",
   "metadata": {},
   "source": [
    "To de-board an application, simply remove the entity from the same variable and re-rerun `terraform apply`."
   ]
  },
  {
   "cell_type": "markdown",
   "id": "662fa2a3-9497-4b6c-b402-e5495f3723ab",
   "metadata": {},
   "source": [
    "Gabe's Envoy Notes\n",
    "\n",
    "```\n",
    "sudo apt install -y apt-transport-https gnupg2 curl lsb-release\n",
    "curl -sL 'https://deb.dl.getenvoy.io/public/gpg.8115BA8E629CC074.key' | sudo gpg --dearmor -o /usr/share/keyrings/getenvoy-keyring.gpg\n",
    "echo \"deb [arch=amd64 signed-by=/usr/share/keyrings/getenvoy-keyring.gpg] https://deb.dl.getenvoy.io/public/deb/ubuntu $(lsb_release -cs) main\" | sudo tee /etc/apt/sources.list.d/getenvoy.list\n",
    "sudo apt update\n",
    "sudo apt install -y getenvoy-envoy\n",
    "\n",
    "envoy --version\n",
    "```"
   ]
  },
  {
   "cell_type": "markdown",
   "id": "334271b1-39de-4701-b769-06c253cb9161",
   "metadata": {},
   "source": [
    "# Grafana Dashboards Vault"
   ]
  },
  {
   "cell_type": "markdown",
   "id": "2f7e3c5e-ebb4-4ca5-a1c7-bd91af0ab587",
   "metadata": {},
   "source": [
    "https://docs.datadoghq.com/integrations/vault/?tab=host\n",
    "\n",
    "\n",
    "GC pause time (ns)\n",
    "{\n",
    "\"viz\": \"timeseries\",\n",
    "\"query\": \"avg:service.vault_runtime_gc_pause_ns.quantile{$vault_cluster,quantile:0.9} by {host}\",\n",
    "\"data_source\": \"metrics\",\n",
    "\"type\": \"line\",\n",
    "            \"style\": {\n",
    "                \"palette\": \"dog_classic\",\n",
    "                \"type\": \"solid\",\n",
    "                \"width\": \"normal\"\n",
    "            }\n",
    "        }\n",
    "    ],\n",
    "    \"yaxis\": {\n",
    "        \"include_zero\": true,\n",
    "        \"max\": \"auto\",\n",
    "        \"scale\": \"linear\",\n",
    "        \"min\": \"auto\",\n",
    "        \"label\": \"\"\n",
    "    },\n",
    "    \"markers\": []\n",
    "}"
   ]
  },
  {
   "cell_type": "code",
   "execution_count": null,
   "id": "8249f464-0c74-457b-9c14-b879b628b871",
   "metadata": {
    "tags": []
   },
   "outputs": [],
   "source": [
    "cat > /tmp/generate_traffic_vault.sh <<\"EOF\"\n",
    "echo $VAULT_TOKEN\n",
    "vault secrets list\n",
    "vault secrets enable kv\n",
    "vault secrets enable -path=kv-peter kv\n",
    "for i in {1..1}; do\n",
    "vault secrets enable -path=kv-app-${i} kv > /dev/null || true\n",
    "done\n",
    "\n",
    "printf \"\\n#==> write and read secrets\\n\"\n",
    "for i in {1..10}; do\n",
    "vault kv put kv/game/account-${i} username=foo-${i} password=bar\n",
    "vault kv get kv/game/account-${i} > /dev/null\n",
    "vault kv put kv-peter/data/game/account-${i} username=foo-${i} password=bar\n",
    "vault kv get kv-peter/data/game/account-${i} > /dev/null\n",
    "done\n",
    "\n",
    "printf \"\\n#==> write and read secrets\\n\"\n",
    "for i in {1..10}; do\n",
    "vault kv put kv-app-${i}/game/account-${i} username=foo-${i} password=bar\n",
    "vault kv get kv-app-${i}/game/account-${i} > /dev/null\n",
    "done\n",
    "\n",
    "printf \"\\n#==> create tokens\\n\"\n",
    "for i in {1..10}; do\n",
    "vault token create \\\n",
    "  -field=token \\\n",
    "  -policy prometheus-metrics\n",
    "done\n",
    "\n",
    "vault auth enable userpass || true\n",
    "for i in {1..10}; do\n",
    "vault write auth/userpass/users/mitchellh password=foo policies=admins\n",
    "vault login -method=userpass username=user-${i} password=foo\n",
    "done\n",
    "EOF\n",
    "\n",
    "chmod +x /tmp/generate_traffic_vault.sh"
   ]
  },
  {
   "cell_type": "code",
   "execution_count": null,
   "id": "718f0703-6ff9-4eb9-bdfe-551dd95b1d68",
   "metadata": {},
   "outputs": [],
   "source": [
    "# for i in {1..10}; do\n",
    "# vault write auth/userpass/users/user-${i} password=foo policies=admins\n",
    "# done\n",
    "\n",
    "for i in {1..10}; do\n",
    "# vault kv list kv-app-${i}/game > /dev/null\n",
    "vault login -method=userpass username=user-${i} password=foo 2>&1 > /dev/null\n",
    "done"
   ]
  },
  {
   "cell_type": "code",
   "execution_count": null,
   "id": "146edeb2-5ada-427c-acda-c733626a103e",
   "metadata": {},
   "outputs": [],
   "source": [
    "/tmp/generate_traffic_vault.sh"
   ]
  }
 ],
 "metadata": {
  "kernelspec": {
   "display_name": "Bash",
   "language": "bash",
   "name": "bash"
  },
  "language_info": {
   "codemirror_mode": "shell",
   "file_extension": ".sh",
   "mimetype": "text/x-sh",
   "name": "bash"
  },
  "toc-autonumbering": true,
  "toc-showcode": false,
  "toc-showmarkdowntxt": false
 },
 "nbformat": 4,
 "nbformat_minor": 5
}
