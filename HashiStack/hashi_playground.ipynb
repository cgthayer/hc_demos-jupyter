{
 "cells": [
  {
   "cell_type": "markdown",
   "id": "36c5ec8a-c1fd-458e-8102-ef4946dd20b0",
   "metadata": {},
   "source": [
    "# Setting Up Your Lab Environment"
   ]
  },
  {
   "cell_type": "markdown",
   "id": "a443b513-ef26-4876-9b02-1dc76afd5500",
   "metadata": {},
   "source": [
    "This guide shows you how to setup a Hashi environment for testing features in Consul, Vault, and Nomad.\n",
    "\n",
    "Things to note:\n",
    "* Enterprise binaries need to be licensed - set in `docker-compose*.yml`\n",
    "  * Prem images are pre-license.\n",
    "  * Consul 1.9, Nomad 1.0, Vault 1.7 has a starter license of 6 hours.\n",
    "  * Consul 1.10+, Nomad 1.1+, and Vault 1.8+ requires a license file or it won't start\n"
   ]
  },
  {
   "cell_type": "markdown",
   "id": "8556fb65-bdaf-41b4-92de-19be2999e8bd",
   "metadata": {},
   "source": [
    "## Prerequisites"
   ]
  },
  {
   "cell_type": "markdown",
   "id": "22beff95-169b-4fc3-af04-8b16fb154d97",
   "metadata": {},
   "source": [
    "### Set Key Variables for your environment"
   ]
  },
  {
   "cell_type": "code",
   "execution_count": 311,
   "id": "0aec0aca-6353-4c01-83da-27d2a0be79bf",
   "metadata": {},
   "outputs": [],
   "source": [
    "export CONSUL_DC=west\n",
    "export COMPOSE_PROJECT_NAME=hashi\n",
    "export COMPOSE_FILE=docker-compose-hashi.yml:docker-compose-proxy.yml"
   ]
  },
  {
   "cell_type": "markdown",
   "id": "f1674767-843f-4d10-be36-925b46033ec0",
   "metadata": {},
   "source": [
    "Create needed directories."
   ]
  },
  {
   "cell_type": "code",
   "execution_count": 113,
   "id": "6c32f688-9e48-4a92-8f05-bc24faa496ad",
   "metadata": {},
   "outputs": [],
   "source": [
    "mkdir -p consul/config"
   ]
  },
  {
   "cell_type": "code",
   "execution_count": 118,
   "id": "93469eae-b416-4110-b8c4-e99f09342cac",
   "metadata": {},
   "outputs": [],
   "source": [
    "mkdir -p consul/cert/{server,client}"
   ]
  },
  {
   "cell_type": "markdown",
   "id": "d9034dd4-22f1-4918-98bc-268e907059d7",
   "metadata": {},
   "source": [
    "## Consul"
   ]
  },
  {
   "cell_type": "markdown",
   "id": "b3c5f78b-2108-4035-8564-fb5e489d2616",
   "metadata": {},
   "source": [
    "### Create Consul Configs"
   ]
  },
  {
   "cell_type": "markdown",
   "id": "165a044a-924f-4aa7-9db8-4edfd9bae009",
   "metadata": {},
   "source": [
    "Generate encryption key for Gossip - UDP; same key for all agents"
   ]
  },
  {
   "cell_type": "code",
   "execution_count": 19,
   "id": "8d9f979f-745d-4fc4-9f7e-1b47ad1840d8",
   "metadata": {},
   "outputs": [
    {
     "name": "stdout",
     "output_type": "stream",
     "text": [
      "WS/1KjlJkRNwSvrv1TXRvYaouwEw5+x8IvYrg9+5PjE=\n"
     ]
    }
   ],
   "source": [
    "CONSUL_KEY=$(consul keygen) && echo $CONSUL_KEY"
   ]
  },
  {
   "cell_type": "markdown",
   "id": "c0d36a31-ac1d-491f-a822-174ffdcf144d",
   "metadata": {},
   "source": [
    "Sample Output: `qDOPBEr+/oUVeOFQOnVypxwDaHzLrD+lvjo5vCEBbZ0=`"
   ]
  },
  {
   "cell_type": "markdown",
   "id": "9ca66752-2fdc-4635-83f2-7a0706272146",
   "metadata": {},
   "source": [
    "### Create CA and Certs"
   ]
  },
  {
   "cell_type": "markdown",
   "id": "f6d68554-afe7-40c0-8daa-8c641459f9ec",
   "metadata": {},
   "source": [
    "Create Certificate Authority"
   ]
  },
  {
   "cell_type": "code",
   "execution_count": 61,
   "id": "2ffee1e0-374b-4d66-8cc1-d6e680661c8b",
   "metadata": {},
   "outputs": [
    {
     "name": "stdout",
     "output_type": "stream",
     "text": [
      "/media/usb_128g/hc_demos-jupyter/HashiStack/consul/config /media/usb_128g/hc_demos-jupyter/HashiStack\n",
      "==> Saved consul-agent-ca.pem\n",
      "==> Saved consul-agent-ca-key.pem\n"
     ]
    }
   ],
   "source": [
    "consul tls ca create"
   ]
  },
  {
   "cell_type": "markdown",
   "id": "d00a3e3f-c54d-4b46-9c3f-a7ee9131ca5c",
   "metadata": {},
   "source": [
    "Copy CA Public Key to shared `client` and `server` folders."
   ]
  },
  {
   "cell_type": "code",
   "execution_count": 128,
   "id": "1cac1dd4-dcca-416f-bc64-2ea00a4ef262",
   "metadata": {},
   "outputs": [],
   "source": [
    "for dir in client server; do\n",
    "cp -r consul-agent-ca.pem consul/cert/${dir}/\n",
    "done"
   ]
  },
  {
   "cell_type": "markdown",
   "id": "1406178d-5429-4ed6-b484-52b5d867b5d6",
   "metadata": {},
   "source": [
    "Create server certificate and move it to shared `server` folder."
   ]
  },
  {
   "cell_type": "code",
   "execution_count": 157,
   "id": "40848170-c450-45ea-8162-5eb1bb7a2724",
   "metadata": {
    "collapsed": true,
    "jupyter": {
     "outputs_hidden": true
    },
    "tags": []
   },
   "outputs": [
    {
     "name": "stdout",
     "output_type": "stream",
     "text": [
      "==> WARNING: Server Certificates grants authority to become a\n",
      "    server and access all state in the cluster including root keys\n",
      "    and all ACL tokens. Do not distribute them to production hosts\n",
      "    that are not server nodes. Store them as securely as CA keys.\n",
      "==> Using consul-agent-ca.pem and consul-agent-ca-key.pem\n",
      "==> Saved west-server-consul-0.pem\n",
      "==> Saved west-server-consul-0-key.pem\n"
     ]
    }
   ],
   "source": [
    "consul tls cert create -server -dc ${CONSUL_DC}\n",
    "mv ${CONSUL_DC}-server-consul-*.pem consul/cert/server/"
   ]
  },
  {
   "cell_type": "markdown",
   "id": "9f24af2d-ded9-4319-9d80-f79167b4acce",
   "metadata": {},
   "source": [
    "Create client certificate and move it to shared `client` folder."
   ]
  },
  {
   "cell_type": "code",
   "execution_count": 120,
   "id": "26040d6b-5e38-4170-b9ab-c3ea4c4c62a1",
   "metadata": {
    "collapsed": true,
    "jupyter": {
     "outputs_hidden": true
    },
    "tags": []
   },
   "outputs": [
    {
     "name": "stdout",
     "output_type": "stream",
     "text": [
      "==> Using consul-agent-ca.pem and consul-agent-ca-key.pem\n",
      "==> Saved west-client-consul-0.pem\n",
      "==> Saved west-client-consul-0-key.pem\n"
     ]
    }
   ],
   "source": [
    "consul tls cert create -client -dc ${CONSUL_DC} && \\\n",
    "  mv ${CONSUL_DC}-client-consul-*.pem consul/cert/client"
   ]
  },
  {
   "cell_type": "markdown",
   "id": "09c7a93d-2418-4ea6-a513-e9950c743fac",
   "metadata": {},
   "source": [
    "Create Core Consul config - Server"
   ]
  },
  {
   "cell_type": "code",
   "execution_count": 24,
   "id": "bf63d9ea-794a-495e-91b0-8917a7549cd0",
   "metadata": {},
   "outputs": [],
   "source": [
    "# for i in {0..5}; do\n",
    "tee consul/config/server.hcl <<-EOF\n",
    "# datacenter  = \"dc1\" # in CLI\n",
    "# node_name   = \"ConsulServer${i}\" # in CLI\n",
    "bind_addr   = \"0.0.0.0\" #default\n",
    "client_addr = \"0.0.0.0\" #default 127.0.0.1\n",
    "data_dir    = \"/consul/data\"\n",
    "\n",
    "encrypt     = \"${CONSUL_KEY}\"\n",
    "ca_file     = \"/consul/cert/consul-agent-ca.pem\"\n",
    "cert_file   = \"/consul/cert/${CONSUL_DC}-server-consul-0.pem\"\n",
    "key_file    = \"/consul/cert/${CONSUL_DC}-server-consul-0-key.pem\"\n",
    "verify_incoming = true\n",
    "verify_outgoing = true\n",
    "verify_server_hostname = true\n",
    "\n",
    "# server           =  true # in CLI\n",
    "ui               = true\n",
    "bootstrap_expect = 3\n",
    "retry_join  = [\n",
    "  \"consul-server-0\",\n",
    "  \"consul-server-1\",\n",
    "  \"consul-server-2\"\n",
    "]\n",
    "EOF\n",
    "# done"
   ]
  },
  {
   "cell_type": "markdown",
   "id": "52ce9207-5bf5-4e29-a0d3-46025356d0af",
   "metadata": {},
   "source": [
    "Create Core Consul config - Client"
   ]
  },
  {
   "cell_type": "code",
   "execution_count": 25,
   "id": "d73daddf-4e18-4a81-a0c1-e02d54f767aa",
   "metadata": {},
   "outputs": [],
   "source": [
    "# for i in {0..5}; do\n",
    "cat > consul/config/client.hcl <<-EOF\n",
    "# datacenter  = \"dc1\" # in CLI\n",
    "# node_name   = \"ConsulServer${i}\" # in CLI\n",
    "bind_addr   = \"0.0.0.0\" #default\n",
    "client_addr = \"0.0.0.0\" #default 127.0.0.1\n",
    "data_dir    = \"/consul/data\"\n",
    "\n",
    "encrypt     = \"${CONSUL_KEY}\"\n",
    "ca_file     = \"/consul/cert/consul-agent-ca.pem\"\n",
    "cert_file   = \"/consul/cert/${CONSUL_DC}-client-consul-0.pem\"\n",
    "key_file    = \"/consul/cert/${CONSUL_DC}-client-consul-0-key.pem\"\n",
    "verify_incoming = true\n",
    "verify_outgoing = true\n",
    "verify_server_hostname = true\n",
    "\n",
    "ui               = true\n",
    "retry_join  = [\n",
    "  \"consul-server-0\",\n",
    "  \"consul-server-1\",\n",
    "  \"consul-server-2\"\n",
    "]\n",
    "EOF\n",
    "# done"
   ]
  },
  {
   "cell_type": "markdown",
   "id": "5d4c4256-fbc4-4c2b-ae36-baef08d0aae0",
   "metadata": {},
   "source": [
    "Create Consul config for misc features eg `acl`, `performance multiplier`, etc"
   ]
  },
  {
   "cell_type": "code",
   "execution_count": 158,
   "id": "0007cd85-3bdb-48a7-a7f9-87b8bf89a08f",
   "metadata": {},
   "outputs": [],
   "source": [
    "cat > consul/config/acl.hcl << EOF\n",
    "# acl = {\n",
    "#   enabled = true\n",
    "#   default_policy = \"allow\"\n",
    "#   enable_token_persistence = true\n",
    "# }\n",
    "performance {raft_multiplier = 1}\n",
    "EOF"
   ]
  },
  {
   "cell_type": "markdown",
   "id": "0094bbe8-b5ba-46bd-ba7a-decbc490b70e",
   "metadata": {},
   "source": [
    "### Consul docker-compose up"
   ]
  },
  {
   "cell_type": "markdown",
   "id": "f0aa4936-6b10-491b-9cb7-debdf60b0692",
   "metadata": {},
   "source": [
    "We will now bring up the three Consul servers and one client. You can use `--force-recreate` to have Docker recreate the containers."
   ]
  },
  {
   "cell_type": "code",
   "execution_count": 306,
   "id": "562fa75d-bd73-49d2-ae41-96a3da7bc304",
   "metadata": {
    "collapsed": true,
    "jupyter": {
     "outputs_hidden": true
    },
    "tags": []
   },
   "outputs": [
    {
     "name": "stdout",
     "output_type": "stream",
     "text": [
      "networks:\n",
      "  vpcbr:\n",
      "    driver: bridge\n",
      "    ipam:\n",
      "      config:\n",
      "      - subnet: 10.5.0.0/16\n",
      "services:\n",
      "  consul-agent-1:\n",
      "    command: agent -datacenter=west -retry-join consul-server-0 -client 0.0.0.0 -node=App1\n",
      "    container_name: consul-agent-1\n",
      "    environment:\n",
      "      CONSUL_LICENSE_PATH: /consul/cert/consul.hclic\n",
      "    hostname: consul-agent-1\n",
      "    image: hashicorp/consul-enterprise:1.9-ent\n",
      "    networks:\n",
      "      vpcbr:\n",
      "        ipv4_address: 10.5.0.12\n",
      "    volumes:\n",
      "    - /media/usb_128g/hc_demos-jupyter/HashiStack/consul/cert/client:/consul/cert:rw\n",
      "    - /media/usb_128g/hc_demos-jupyter/HashiStack/consul/config/client.hcl:/consul/config/client.hcl:rw\n",
      "    - /consul/data\n",
      "  consul-server-0:\n",
      "    command: agent -datacenter=west -server -config-dir=/consul/config\n",
      "    container_name: consul-server-0\n",
      "    environment:\n",
      "      CONSUL_LICENSE_PATH: /consul/cert/consul.hclic\n",
      "    hostname: consul-server-0\n",
      "    image: hashicorp/consul-enterprise:1.9-ent\n",
      "    networks:\n",
      "      vpcbr:\n",
      "        ipv4_address: 10.5.0.2\n",
      "    ports:\n",
      "    - protocol: tcp\n",
      "      published: 8300\n",
      "      target: 8300\n",
      "    - protocol: tcp\n",
      "      published: 8301\n",
      "      target: 8301\n",
      "    - protocol: udp\n",
      "      published: 8301\n",
      "      target: 8301\n",
      "    - protocol: tcp\n",
      "      published: 8302\n",
      "      target: 8302\n",
      "    - protocol: udp\n",
      "      published: 8302\n",
      "      target: 8302\n",
      "    - protocol: tcp\n",
      "      published: 8500\n",
      "      target: 8500\n",
      "    - protocol: tcp\n",
      "      published: 8600\n",
      "      target: 8600\n",
      "    - protocol: udp\n",
      "      published: 8600\n",
      "      target: 8600\n",
      "    volumes:\n",
      "    - /media/usb_128g/hc_demos-jupyter/HashiStack/consul/cert/server:/consul/cert:rw\n",
      "    - /media/usb_128g/hc_demos-jupyter/HashiStack/consul/config/acl.hcl:/consul/config/acl.hcl:rw\n",
      "    - /media/usb_128g/hc_demos-jupyter/HashiStack/consul/config/server.hcl:/consul/config/server.hcl:rw\n",
      "    - /consul/data\n",
      "    - /etc/consul/logs\n",
      "  consul-server-1:\n",
      "    command: agent -datacenter=west -server -config-dir=/consul/config\n",
      "    container_name: consul-server-1\n",
      "    environment:\n",
      "      CONSUL_LICENSE_PATH: /consul/cert/consul.hclic\n",
      "    hostname: consul-server-1\n",
      "    image: hashicorp/consul-enterprise:1.9-ent\n",
      "    networks:\n",
      "      vpcbr:\n",
      "        ipv4_address: 10.5.0.3\n",
      "    volumes:\n",
      "    - /media/usb_128g/hc_demos-jupyter/HashiStack/consul/cert/server:/consul/cert:rw\n",
      "    - /media/usb_128g/hc_demos-jupyter/HashiStack/consul/config/acl.hcl:/consul/config/acl.hcl:rw\n",
      "    - /media/usb_128g/hc_demos-jupyter/HashiStack/consul/config/server.hcl:/consul/config/server.hcl:rw\n",
      "    - /consul/data\n",
      "    - /media/usb_128g/hc_demos-jupyter/HashiStack/consul/policies:/consul/policies:rw\n",
      "    - /etc/consul/logs\n",
      "  consul-server-2:\n",
      "    command: agent -datacenter=west -server -config-dir=/consul/config\n",
      "    container_name: consul-server-2\n",
      "    environment:\n",
      "      CONSUL_LICENSE_PATH: /consul/cert/consul.hclic\n",
      "    hostname: consul-server-2\n",
      "    image: hashicorp/consul-enterprise:1.9-ent\n",
      "    networks:\n",
      "      vpcbr:\n",
      "        ipv4_address: 10.5.0.4\n",
      "    volumes:\n",
      "    - /media/usb_128g/hc_demos-jupyter/HashiStack/consul/cert/server:/consul/cert:rw\n",
      "    - /media/usb_128g/hc_demos-jupyter/HashiStack/consul/config/acl.hcl:/consul/config/acl.hcl:rw\n",
      "    - /media/usb_128g/hc_demos-jupyter/HashiStack/consul/config/server.hcl:/consul/config/server.hcl:rw\n",
      "    - /consul/data\n",
      "    - /media/usb_128g/hc_demos-jupyter/HashiStack/consul/policies:/consul/policies:rw\n",
      "    - /etc/consul/logs\n",
      "  consul-server-3:\n",
      "    command: agent -datacenter=west -server -config-dir=/consul/config\n",
      "    container_name: consul-server-3\n",
      "    environment:\n",
      "      CONSUL_LICENSE_PATH: /consul/cert/consul.hclic\n",
      "    hostname: consul-server-3\n",
      "    image: hashicorp/consul-enterprise:latest\n",
      "    networks:\n",
      "      vpcbr: {}\n",
      "    volumes:\n",
      "    - /media/usb_128g/hc_demos-jupyter/HashiStack/consul/cert/server:/consul/cert:rw\n",
      "    - /media/usb_128g/hc_demos-jupyter/HashiStack/consul/config/acl.hcl:/consul/config/acl.hcl:rw\n",
      "    - /media/usb_128g/hc_demos-jupyter/HashiStack/consul/config/rz-0.hcl:/consul/config/rz-0.hcl:rw\n",
      "    - /media/usb_128g/hc_demos-jupyter/HashiStack/consul/config/server.hcl:/consul/config/server.hcl:rw\n",
      "    - /consul/data\n",
      "    - /media/usb_128g/hc_demos-jupyter/HashiStack/consul/policies:/consul/policies:rw\n",
      "    - /etc/consul/logs\n",
      "  consul-server-4:\n",
      "    command: agent -datacenter=west -server -config-dir=/consul/config\n",
      "    container_name: consul-server-4\n",
      "    environment:\n",
      "      CONSUL_LICENSE_PATH: /consul/cert/consul.hclic\n",
      "    hostname: consul-server-4\n",
      "    image: hashicorp/consul-enterprise:latest\n",
      "    networks:\n",
      "      vpcbr: {}\n",
      "    volumes:\n",
      "    - /media/usb_128g/hc_demos-jupyter/HashiStack/consul/cert/server:/consul/cert:rw\n",
      "    - /media/usb_128g/hc_demos-jupyter/HashiStack/consul/config/acl.hcl:/consul/config/acl.hcl:rw\n",
      "    - /media/usb_128g/hc_demos-jupyter/HashiStack/consul/config/rz-1.hcl:/consul/config/rz-1.hcl:rw\n",
      "    - /media/usb_128g/hc_demos-jupyter/HashiStack/consul/config/server.hcl:/consul/config/server.hcl:rw\n",
      "    - /consul/data\n",
      "    - /media/usb_128g/hc_demos-jupyter/HashiStack/consul/policies:/consul/policies:rw\n",
      "    - /etc/consul/logs\n",
      "  consul-server-5:\n",
      "    command: agent -datacenter=west -server -config-dir=/consul/config\n",
      "    container_name: consul-server-5\n",
      "    environment:\n",
      "      CONSUL_LICENSE_PATH: /consul/cert/consul.hclic\n",
      "    hostname: consul-server-5\n",
      "    image: hashicorp/consul-enterprise:latest\n",
      "    networks:\n",
      "      vpcbr: {}\n",
      "    volumes:\n",
      "    - /media/usb_128g/hc_demos-jupyter/HashiStack/consul/cert/server:/consul/cert:rw\n",
      "    - /media/usb_128g/hc_demos-jupyter/HashiStack/consul/config/acl.hcl:/consul/config/acl.hcl:rw\n",
      "    - /media/usb_128g/hc_demos-jupyter/HashiStack/consul/config/rz-2.hcl:/consul/config/rz-2.hcl:rw\n",
      "    - /media/usb_128g/hc_demos-jupyter/HashiStack/consul/config/server.hcl:/consul/config/server.hcl:rw\n",
      "    - /consul/data\n",
      "    - /media/usb_128g/hc_demos-jupyter/HashiStack/consul/policies:/consul/policies:rw\n",
      "    - /etc/consul/logs\n",
      "  haproxy:\n",
      "    container_name: haproxy\n",
      "    environment:\n",
      "      APACHE_1_IP: 10.5.0.11\n",
      "      APACHE_2_IP: 10.5.0.22\n",
      "      APACHE_EXPOSED_PORT: '80'\n",
      "      LOG_LEVEL: debug\n",
      "    image: haproxy:latest\n",
      "    networks:\n",
      "      vpcbr:\n",
      "        ipv4_address: 10.5.0.112\n",
      "    ports:\n",
      "    - published: 1080\n",
      "      target: 1080\n",
      "    - published: 11936\n",
      "      target: 1936\n",
      "    - published: 18200\n",
      "      target: 8200\n",
      "    - published: 8901\n",
      "      target: 9200\n",
      "    volumes:\n",
      "    - /media/usb_128g/hc_demos-jupyter/HashiStack/haproxy/haproxy.cfg:/usr/local/etc/haproxy/haproxy.cfg:ro\n",
      "  vault_s1:\n",
      "    cap_add:\n",
      "    - IPC_LOCK\n",
      "    command: vault server -config=/vault/config\n",
      "    container_name: vault_s1\n",
      "    environment:\n",
      "      VAULT_LICENSE_PATH: /vault/config/vault.hclic\n",
      "      VAULT_LOG_LEVEL: debug\n",
      "      VAULT_REDIRECT_INTERFACE: eth0\n",
      "    hostname: vault_s1\n",
      "    image: hashicorp/vault-enterprise:1.7.5_ent\n",
      "    networks:\n",
      "      vpcbr:\n",
      "        ipv4_address: 10.5.0.101\n",
      "    ports:\n",
      "    - protocol: tcp\n",
      "      published: 8200\n",
      "      target: 8200\n",
      "    volumes:\n",
      "    - /media/usb_128g/hc_demos-jupyter/HashiStack/vault/config/vault_s1:/vault/config:rw\n",
      "    - /media/usb_128g/hc_demos-jupyter/HashiStack/vault/config/vault.hclic:/vault/config/vault.hclic:rw\n",
      "    - /vault/data\n",
      "    - /media/usb_128g/hc_demos-jupyter/HashiStack/vault/logs/vault_s1:/vault/logs:rw\n",
      "  vault_s2:\n",
      "    cap_add:\n",
      "    - IPC_LOCK\n",
      "    command: vault server -config=/vault/config\n",
      "    container_name: vault_s2\n",
      "    depends_on:\n",
      "      vault_s1:\n",
      "        condition: service_started\n",
      "    environment:\n",
      "      VAULT_ADDR: http://127.0.0.1:8200\n",
      "      VAULT_LICENSE_PATH: /vault/config/vault.hclic\n",
      "      VAULT_LOG_LEVEL: debug\n",
      "      VAULT_REDIRECT_INTERFACE: eth0\n",
      "    hostname: vault_s2\n",
      "    image: hashicorp/vault-enterprise:1.7.5_ent\n",
      "    networks:\n",
      "      vpcbr:\n",
      "        ipv4_address: 10.5.0.102\n",
      "    volumes:\n",
      "    - /media/usb_128g/hc_demos-jupyter/HashiStack/vault/config/vault_s2:/vault/config:rw\n",
      "    - /media/usb_128g/hc_demos-jupyter/HashiStack/vault/config/vault.hclic:/vault/config/vault.hclic:rw\n",
      "    - /vault/data\n",
      "    - /media/usb_128g/hc_demos-jupyter/HashiStack/vault/logs/vault_s2:/vault/logs:rw\n",
      "  vault_s3:\n",
      "    cap_add:\n",
      "    - IPC_LOCK\n",
      "    command: vault server -config=/vault/config\n",
      "    container_name: vault_s3\n",
      "    depends_on:\n",
      "      vault_s1:\n",
      "        condition: service_started\n",
      "    environment:\n",
      "      VAULT_ADDR: http://127.0.0.1:8200\n",
      "      VAULT_LICENSE_PATH: /vault/config/vault.hclic\n",
      "      VAULT_LOG_LEVEL: debug\n",
      "      VAULT_REDIRECT_INTERFACE: eth0\n",
      "    hostname: vault_s3\n",
      "    image: hashicorp/vault-enterprise:1.7.5_ent\n",
      "    networks:\n",
      "      vpcbr:\n",
      "        ipv4_address: 10.5.0.103\n",
      "    volumes:\n",
      "    - /media/usb_128g/hc_demos-jupyter/HashiStack/vault/config/vault_s3:/vault/config:rw\n",
      "    - /media/usb_128g/hc_demos-jupyter/HashiStack/vault/config/vault.hclic:/vault/config/vault.hclic:rw\n",
      "    - /vault/data\n",
      "    - /media/usb_128g/hc_demos-jupyter/HashiStack/vault/logs/vault_s3:/vault/logs:rw\n",
      "  vault_s4:\n",
      "    cap_add:\n",
      "    - IPC_LOCK\n",
      "    command: vault server -config=/vault/config\n",
      "    container_name: vault_s4\n",
      "    depends_on:\n",
      "      vault_s1:\n",
      "        condition: service_started\n",
      "    environment:\n",
      "      VAULT_ADDR: http://127.0.0.1:8200\n",
      "      VAULT_LICENSE_PATH: /vault/config/vault.hclic\n",
      "      VAULT_LOG_LEVEL: debug\n",
      "      VAULT_REDIRECT_INTERFACE: eth0\n",
      "    hostname: vault_s4\n",
      "    image: hashicorp/vault-enterprise:1.7.5_ent\n",
      "    networks:\n",
      "      vpcbr:\n",
      "        ipv4_address: 10.5.0.104\n",
      "    volumes:\n",
      "    - /media/usb_128g/hc_demos-jupyter/HashiStack/vault/config/vault_s4:/vault/config:rw\n",
      "    - /media/usb_128g/hc_demos-jupyter/HashiStack/vault/config/vault.hclic:/vault/config/vault.hclic:rw\n",
      "    - /vault/data\n",
      "    - /media/usb_128g/hc_demos-jupyter/HashiStack/vault/logs/vault_s4:/vault/logs:rw\n",
      "  x-consul:\n",
      "    environment:\n",
      "      CONSUL_LICENSE_PATH: /consul/cert/consul.hclic\n",
      "    image: hashicorp/consul-enterprise:1.9-ent\n",
      "  x-vault:\n",
      "    cap_add:\n",
      "    - IPC_LOCK\n",
      "    command: vault server -config=/vault/config\n",
      "    environment:\n",
      "      VAULT_ADDR: http://127.0.0.1:8200\n",
      "      VAULT_LICENSE_PATH: /vault/config/vault.hclic\n",
      "      VAULT_LOG_LEVEL: debug\n",
      "      VAULT_REDIRECT_INTERFACE: eth0\n",
      "    image: hashicorp/vault-enterprise:1.7.5_ent\n",
      "version: '3.7'\n",
      "\n"
     ]
    }
   ],
   "source": [
    "#docker-compose config"
   ]
  },
  {
   "cell_type": "code",
   "execution_count": null,
   "id": "f3719317-9a40-46bd-a33e-8479eb703d6f",
   "metadata": {},
   "outputs": [
    {
     "name": "stdout",
     "output_type": "stream",
     "text": [
      "Recreating consul-server-2 ... \n",
      "Recreating consul-server-0 ... \n",
      "Recreating consul-agent-1  ... \n",
      "Recreating consul-server-1 ... \n"
     ]
    }
   ],
   "source": [
    "export CONSUL_DC=west\n",
    "docker-compose \\\n",
    "  up --force-recreate -d \\\n",
    "  consul-server-0 consul-server-1 consul-server-2 consul-agent-1\n",
    "  # -f docker-compose-hashi.yml \\"
   ]
  },
  {
   "cell_type": "markdown",
   "id": "20cd9884-4687-4944-b5e9-748b3edf03a2",
   "metadata": {},
   "source": [
    "### Verify Consul"
   ]
  },
  {
   "cell_type": "markdown",
   "id": "014e86d9-58f3-4430-ac5c-6e3207264113",
   "metadata": {},
   "source": [
    "Quick check to make sure your Consul environment is running correctly."
   ]
  },
  {
   "cell_type": "code",
   "execution_count": 309,
   "id": "fbe9979a-7260-4147-86d0-7559f19bbbec",
   "metadata": {
    "tags": []
   },
   "outputs": [
    {
     "name": "stdout",
     "output_type": "stream",
     "text": [
      "#==> List Members\n",
      "Node             Address         Status  Type    Build       Protocol  DC    Segment\n",
      "consul-server-0  10.5.0.2:8301   alive   server  1.9.11+ent  2         west  <all>\n",
      "consul-server-1  10.5.0.3:8301   alive   server  1.9.11+ent  2         west  <all>\n",
      "consul-server-2  10.5.0.4:8301   alive   server  1.9.11+ent  2         west  <all>\n",
      "App1             10.5.0.12:8301  alive   client  1.9.11+ent  2         west  <default>\n",
      "\n",
      "#==> List Raft Peers\n",
      "Node             ID                                    Address        State     Voter  RaftProtocol\n",
      "consul-server-0  7e1300bd-c6fd-cfca-1c92-f9fa13ee6287  10.5.0.2:8300  follower  true   3\n",
      "consul-server-1  e42d4ebb-30ff-0567-003b-e9d51bf50029  10.5.0.3:8300  leader    true   3\n",
      "consul-server-2  bdd2d25c-b1d5-c313-3d05-f47921e3ab02  10.5.0.4:8300  follower  true   3\n",
      "\n",
      "#==> List services from Consul catalog\n",
      "consul\n",
      "nomad\n",
      "nomad-client\n",
      "vault\n"
     ]
    }
   ],
   "source": [
    "printf \"#==> List Members\\n\"\n",
    "consul members\n",
    "# curl http://127.0.0.1:8500/v1/agent/members | jq -c .[]\n",
    "printf \"\\n#==> List Raft Peers\\n\"\n",
    "consul operator raft list-peers\n",
    "printf \"\\n#==> List services from Consul catalog\\n\"\n",
    "consul catalog services"
   ]
  },
  {
   "cell_type": "markdown",
   "id": "81deed1d-c151-4a75-803c-08fd9232b477",
   "metadata": {},
   "source": [
    "You should see something like the following.\n",
    "```#==> List Members\n",
    "Node             Address        Status  Type    Build       Protocol  DC    Segment\n",
    "consul-server-0  10.5.0.2:8301  alive   server  1.9.11+ent  2         west  <all>\n",
    "consul-server-1  10.5.0.3:8301  alive   server  1.9.11+ent  2         west  <all>\n",
    "consul-server-2  10.5.0.4:8301  alive   server  1.9.11+ent  2         west  <all>\n",
    "```\n",
    "\n",
    "* There should be three servers. `DC` should match\n",
    "\n",
    "```\n",
    "#==> List Raft Peers\n",
    "Node             ID                                    Address        State     Voter  RaftProtocol\n",
    "consul-server-2  08f89457-d9db-b025-c65e-185246fe577c  10.5.0.4:8300  leader    true   3\n",
    "consul-server-1  f4c7057f-83ec-11ac-2027-ca85eccfce89  10.5.0.3:8300  follower  true   3\n",
    "consul-server-0  2c965ad0-5042-424c-259c-a5781d001d28  10.5.0.2:8300  follower  true   3\n",
    "\n",
    "* There should be a leader and two followers.\n",
    "\n",
    "#==> List services from Consul catalog\n",
    "consul\n",
    "```"
   ]
  },
  {
   "cell_type": "markdown",
   "id": "ced6e23a-0e86-4c2c-8734-940844689174",
   "metadata": {},
   "source": [
    "## Vault"
   ]
  },
  {
   "cell_type": "markdown",
   "id": "9a2f80b7-1ce3-4b68-b787-5a9fc0d8b84d",
   "metadata": {
    "tags": []
   },
   "source": [
    "### Create Vault Configs"
   ]
  },
  {
   "cell_type": "code",
   "execution_count": 240,
   "id": "ee3ca606-3a5a-4cbd-a3e6-d815c611cafd",
   "metadata": {
    "tags": []
   },
   "outputs": [],
   "source": [
    "# Create Vault Directories\n",
    "for node in {1..5}; do\n",
    "mkdir -p vault/config/vault_s${node}\n",
    "mkdir -p vault/logs/vault_s${node}\n",
    "done"
   ]
  },
  {
   "cell_type": "code",
   "execution_count": 250,
   "id": "2caea516-35fd-44b7-b832-f7c56fe927e4",
   "metadata": {
    "tags": []
   },
   "outputs": [],
   "source": [
    "# Create Vault Server Config\n",
    "for i in {1..3}; do\n",
    "cat > vault/config/vault_s${i}/server${i}.hcl <<-EOF\n",
    "# Note: this file will be re-written by script\n",
    "api_addr     = \"http://10.5.0.10${i}:8200\"\n",
    "cluster_addr = \"https://10.5.0.10${i}:8201\"\n",
    "disable_mlock = true\n",
    "\n",
    "# Base Configuration\n",
    "listener \"tcp\" {\n",
    "  address = \"0.0.0.0:8200\"\n",
    "  tls_disable = \"true\"\n",
    "}\n",
    "\n",
    "ui = \"true\"\n",
    "log_level=\"INFO\"\n",
    "\n",
    "# Raft configuration\n",
    "storage \"raft\" {\n",
    "  path    = \"/vault/file\"\n",
    "  node_id = \"vault_s${i}\"\n",
    "  retry_join {\n",
    "    leader_api_addr = \"http://vault_s1:8200\"\n",
    "  }\n",
    "  retry_join {\n",
    "    leader_api_addr = \"http://vault_s2:8200\"\n",
    "  }\n",
    "  retry_join {\n",
    "    leader_api_addr = \"http://vault_s3:8200\"\n",
    "  }\n",
    "}\n",
    "\n",
    "service_registration \"consul\" {\n",
    "  address = \"consul-server-0:8500\"\n",
    "}\n",
    "EOF\n",
    "done"
   ]
  },
  {
   "cell_type": "markdown",
   "id": "914e95d8-8442-47ea-97c3-8be08a121f1f",
   "metadata": {},
   "source": [
    "### Vault docker-compose up"
   ]
  },
  {
   "cell_type": "code",
   "execution_count": 298,
   "id": "ade22157-4578-41d2-91f9-62b8e363ccf7",
   "metadata": {},
   "outputs": [
    {
     "name": "stdout",
     "output_type": "stream",
     "text": [
      "Recreating vault_s1 ... \n",
      "\u001b[1BRecreating vault_s2 ... mdone\u001b[0m\n",
      "Recreating vault_s3 ... \n",
      "\u001b[1Beating vault_s3 ... \u001b[32mdone\u001b[0m"
     ]
    }
   ],
   "source": [
    "# Restart Vault Cluster\n",
    "docker-compose -f docker-compose-hashi.yml up --force-recreate -d \\\n",
    "  vault_s1 vault_s2 vault_s3"
   ]
  },
  {
   "cell_type": "markdown",
   "id": "2e52c1bc-819d-4300-8647-65bd1fc8e3cb",
   "metadata": {},
   "source": [
    "### Init Vault `init.sh`"
   ]
  },
  {
   "cell_type": "code",
   "execution_count": 252,
   "id": "5b61c28a-31f8-491e-8a52-4b72ed522cdc",
   "metadata": {},
   "outputs": [
    {
     "name": "stdout",
     "output_type": "stream",
     "text": [
      "Init vault_s1 \n",
      "\n",
      "Root VAULT TOKEN is: s.jaSQdKm0Q6C0vQznCqVEtUC4 \n",
      "\n",
      "*** Please Run: export VAULT_TOKEN=s.jaSQdKm0Q6C0vQznCqVEtUC4 \n"
     ]
    }
   ],
   "source": [
    "printf \"Init vault_s1 \\n\"\n",
    "export VAULT_ADDR=http://localhost:8200\n",
    "# sleep 5\n",
    "vault operator init -format=json -n 1 -t 1 > /tmp/vault.txt\n",
    "\n",
    "export VAULT_TOKEN=$(cat /tmp/vault.txt | jq -r '.root_token')\n",
    "printf \"\\nRoot VAULT TOKEN is: $VAULT_TOKEN \\n\"\n",
    "printf \"\\n*** Please Run: export VAULT_TOKEN=${VAULT_TOKEN} \\n\"\n",
    "sleep 5"
   ]
  },
  {
   "cell_type": "markdown",
   "id": "8f35db8c-718d-450f-b74f-c6b80329fdd3",
   "metadata": {},
   "source": [
    "### Unseal Vault `unseal.sh`"
   ]
  },
  {
   "cell_type": "code",
   "execution_count": 264,
   "id": "c3a97e45-a8f3-4946-b5fb-2bf1ceccd740",
   "metadata": {},
   "outputs": [
    {
     "name": "stdout",
     "output_type": "stream",
     "text": [
      "gNbB3iXOkoKaTWZ0/+IdPAHFEyeO2Yrdx0r4NxIHAs8=\n",
      "Key                                    Value\n",
      "---                                    -----\n",
      "Seal Type                              shamir\n",
      "Initialized                            true\n",
      "Sealed                                 false\n",
      "Total Shares                           1\n",
      "Threshold                              1\n",
      "Version                                1.7.5+ent\n",
      "Storage Type                           raft\n",
      "Cluster Name                           vault-cluster-e995a4d8\n",
      "Cluster ID                             6a03657e-1963-38a6-e1de-3ba9552c70bd\n",
      "HA Enabled                             true\n",
      "HA Cluster                             https://10.5.0.102:8201\n",
      "HA Mode                                standby\n",
      "Active Node Address                    http://10.5.0.102:8200\n",
      "Performance Standby Node               true\n",
      "Performance Standby Last Remote WAL    0\n",
      "Raft Committed Index                   556\n",
      "Raft Applied Index                     556\n",
      "Key                     Value\n",
      "---                     -----\n",
      "Seal Type               shamir\n",
      "Initialized             true\n",
      "Sealed                  false\n",
      "Total Shares            1\n",
      "Threshold               1\n",
      "Version                 1.7.5+ent\n",
      "Storage Type            raft\n",
      "Cluster Name            vault-cluster-e995a4d8\n",
      "Cluster ID              6a03657e-1963-38a6-e1de-3ba9552c70bd\n",
      "HA Enabled              true\n",
      "HA Cluster              https://10.5.0.102:8201\n",
      "HA Mode                 active\n",
      "Active Since            2021-11-15T23:43:44.338909077Z\n",
      "Raft Committed Index    556\n",
      "Raft Applied Index      556\n",
      "Last WAL                57\n",
      "Key                                    Value\n",
      "---                                    -----\n",
      "Seal Type                              shamir\n",
      "Initialized                            true\n",
      "Sealed                                 false\n",
      "Total Shares                           1\n",
      "Threshold                              1\n",
      "Version                                1.7.5+ent\n",
      "Storage Type                           raft\n",
      "Cluster Name                           vault-cluster-e995a4d8\n",
      "Cluster ID                             6a03657e-1963-38a6-e1de-3ba9552c70bd\n",
      "HA Enabled                             true\n",
      "HA Cluster                             https://10.5.0.102:8201\n",
      "HA Mode                                standby\n",
      "Active Node Address                    http://10.5.0.102:8200\n",
      "Performance Standby Node               true\n",
      "Performance Standby Last Remote WAL    57\n",
      "Raft Committed Index                   557\n",
      "Raft Applied Index                     557\n"
     ]
    }
   ],
   "source": [
    "export VAULT_ADDR=http://localhost:8200\n",
    "export unseal_key=$(cat /tmp/vault.txt | jq -r '.unseal_keys_b64[0]')\n",
    "printf \"${unseal_key}\\n\"\n",
    "\n",
    "for i in {1..3}; do\n",
    "docker exec -i vault_s${i} sh <<EOM\n",
    "export VAULT_ADDR=http://localhost:8200\n",
    "vault operator unseal ${unseal_key}\n",
    "EOM\n",
    "done"
   ]
  },
  {
   "cell_type": "code",
   "execution_count": 153,
   "id": "335c84f9-2709-4076-9a19-e9d8402b2405",
   "metadata": {},
   "outputs": [
    {
     "name": "stdout",
     "output_type": "stream",
     "text": [
      "\u001b[0mKey                 Value\n",
      "---                 -----\n",
      "accessor            DXe3jDdBtiJzqJYratIHqefG\n",
      "creation_time       1637004624\n",
      "creation_ttl        0s\n",
      "display_name        root\n",
      "entity_id           n/a\n",
      "expire_time         <nil>\n",
      "explicit_max_ttl    0s\n",
      "id                  s.BmIUWWzJYJ2UupjA0obtYkNl\n",
      "meta                <nil>\n",
      "num_uses            0\n",
      "orphan              true\n",
      "path                auth/token/root\n",
      "policies            [root]\n",
      "ttl                 0s\n",
      "type                service\u001b[0m\n"
     ]
    }
   ],
   "source": [
    "export VAULT_TOKEN=$(cat /tmp/vault.txt | jq -r '.root_token')\n",
    "vault token lookup"
   ]
  },
  {
   "cell_type": "markdown",
   "id": "144013de-5a89-428d-a8e1-876dcb6a490e",
   "metadata": {},
   "source": [
    "### Verify Vault"
   ]
  },
  {
   "cell_type": "code",
   "execution_count": 266,
   "id": "3457de9f-ba50-48cb-af5a-4c749dd3c684",
   "metadata": {},
   "outputs": [
    {
     "name": "stdout",
     "output_type": "stream",
     "text": [
      "\u001b[0mKey                                    Value\n",
      "---                                    -----\n",
      "Seal Type                              shamir\n",
      "Initialized                            true\n",
      "Sealed                                 false\n",
      "Total Shares                           1\n",
      "Threshold                              1\n",
      "Version                                1.7.5+ent\n",
      "Cluster Name                           vault-cluster-e995a4d8\n",
      "Cluster ID                             6a03657e-1963-38a6-e1de-3ba9552c70bd\n",
      "HA Enabled                             true\n",
      "HA Cluster                             https://10.5.0.102:8201\n",
      "HA Mode                                standby\n",
      "Active Node Address                    http://10.5.0.102:8200\n",
      "Performance Standby Node               true\n",
      "Performance Standby Last Remote WAL    0\n",
      "Raft Committed Index                   563\n",
      "Raft Applied Index                     563\u001b[0m\n"
     ]
    }
   ],
   "source": [
    "vault status"
   ]
  },
  {
   "cell_type": "code",
   "execution_count": 265,
   "id": "cf6b1558-6c8b-44ff-84fd-620b033a7874",
   "metadata": {},
   "outputs": [
    {
     "name": "stdout",
     "output_type": "stream",
     "text": [
      "\u001b[0mNode        Address            State       Voter\n",
      "----        -------            -----       -----\n",
      "vault_s1    10.5.0.101:8201    follower    true\n",
      "vault_s2    10.5.0.102:8201    leader      true\n",
      "vault_s3    10.5.0.103:8201    follower    true\u001b[0m\n"
     ]
    }
   ],
   "source": [
    "vault operator raft list-peers"
   ]
  },
  {
   "cell_type": "code",
   "execution_count": 202,
   "id": "e5e44bf6-95e8-47c6-b035-95f3c96b8695",
   "metadata": {},
   "outputs": [
    {
     "name": "stdout",
     "output_type": "stream",
     "text": [
      "\u001b[0mKey                Value\n",
      "---                -----\n",
      "Seal Type          shamir\n",
      "Initialized        true\n",
      "Sealed             true\n",
      "Total Shares       1\n",
      "Threshold          1\n",
      "Unseal Progress    0/1\n",
      "Unseal Nonce       n/a\n",
      "Version            1.7.5+ent\n",
      "HA Enabled         true\u001b[0m\n",
      "\u001b[91mError reading the raft cluster configuration: Error making API request.\n",
      "\n",
      "URL: GET http://localhost:8200/v1/sys/storage/raft/configuration\n",
      "Code: 503. Errors:\n",
      "\n",
      "* Vault is sealed\u001b[0m\n",
      "\u001b[91mError listing secrets engines: Error making API request.\n",
      "\n",
      "URL: GET http://localhost:8200/v1/sys/mounts\n",
      "Code: 503. Errors:\n",
      "\n",
      "* Vault is sealed\u001b[0m\n",
      "\u001b[91mError reading sys/license: Error making API request.\n",
      "\n",
      "URL: GET http://localhost:8200/v1/sys/license\n",
      "Code: 503. Errors:\n",
      "\n",
      "* Vault is sealed\u001b[0m\n"
     ]
    },
    {
     "ename": "",
     "evalue": "2",
     "output_type": "error",
     "traceback": []
    }
   ],
   "source": [
    "vault secrets list\n",
    "vault read sys/license"
   ]
  },
  {
   "cell_type": "code",
   "execution_count": 155,
   "id": "8fdb8511-0163-4abe-88c7-7af2c31882f1",
   "metadata": {},
   "outputs": [
    {
     "name": "stdout",
     "output_type": "stream",
     "text": [
      "\u001b[0mSuccess! Data written to: sys/license\u001b[0m\n"
     ]
    }
   ],
   "source": [
    "vault write sys/license text=@vault/config/vault.hclic"
   ]
  },
  {
   "cell_type": "code",
   "execution_count": 273,
   "id": "ca717562-f183-4340-ae0b-d7d6f2eb4349",
   "metadata": {},
   "outputs": [
    {
     "name": "stdout",
     "output_type": "stream",
     "text": [
      "\u001b[0mSuccess! Enabled the kv secrets engine at: kv/\u001b[0m\n"
     ]
    }
   ],
   "source": [
    "vault secrets enable kv\n",
    "# vault write kv/game/account username=foo password=bar"
   ]
  },
  {
   "cell_type": "code",
   "execution_count": 274,
   "id": "d7d530a9-bd1c-4e9e-a9ed-2f3db6fe1ecf",
   "metadata": {},
   "outputs": [
    {
     "name": "stdout",
     "output_type": "stream",
     "text": [
      "\u001b[0mPath          Type         Accessor              Description\n",
      "----          ----         --------              -----------\n",
      "cubbyhole/    cubbyhole    cubbyhole_6eaa11f9    per-token private secret storage\n",
      "identity/     identity     identity_afd3cddb     identity store\n",
      "kv/           kv           kv_b050a90b           n/a\n",
      "sys/          system       system_efd35649       system endpoints used for control, policy and debugging\u001b[0m\n"
     ]
    }
   ],
   "source": [
    "vault secrets list"
   ]
  },
  {
   "cell_type": "markdown",
   "id": "a2e95c75-afa2-4e15-ae2b-015a7141d9cf",
   "metadata": {},
   "source": [
    "## Vault Performance Nodes"
   ]
  },
  {
   "cell_type": "markdown",
   "id": "a1d28e3f-4b1f-463f-bfb2-4e732332e059",
   "metadata": {},
   "source": [
    "optional - Vault Performance Nodes\n",
    "* main difference here is that it does not auto-join"
   ]
  },
  {
   "cell_type": "code",
   "execution_count": 257,
   "id": "9653dc75-529b-44d8-a051-05bd46cf8ede",
   "metadata": {
    "tags": []
   },
   "outputs": [],
   "source": [
    "# Create Vault Server Config\n",
    "for i in {4..5}; do\n",
    "cat > vault/config/vault_s${i}/server${i}.hcl <<-EOF\n",
    "# Note: this file will be re-written by script\n",
    "api_addr     = \"http://10.5.0.10${i}:8200\"\n",
    "cluster_addr = \"https://10.5.0.10${i}:8201\"\n",
    "disable_mlock = true\n",
    "\n",
    "# Base Configuration\n",
    "listener \"tcp\" {\n",
    "  address = \"0.0.0.0:8200\"\n",
    "  tls_disable = \"true\"\n",
    "}\n",
    "\n",
    "ui = \"true\"\n",
    "log_level=\"INFO\"\n",
    "\n",
    "# Raft configuration\n",
    "storage \"raft\" {\n",
    "  path    = \"/vault/file\"\n",
    "  node_id = \"vault_s${i}\"\n",
    "}\n",
    "\n",
    "service_registration \"consul\" {\n",
    "  address = \"consul-server-0:8500\"\n",
    "}\n",
    "EOF\n",
    "done"
   ]
  },
  {
   "cell_type": "markdown",
   "id": "17cb6b81-5a94-4c78-8191-c93457f77cbf",
   "metadata": {},
   "source": [
    "### Vault Performance Nodes docker-compose up"
   ]
  },
  {
   "cell_type": "code",
   "execution_count": 258,
   "id": "d0af0fd4-1902-4b07-96a4-771163c5b7a9",
   "metadata": {},
   "outputs": [
    {
     "name": "stdout",
     "output_type": "stream",
     "text": [
      "Recreating vault_s1 ... \n",
      "\u001b[1BCreating vault_s4   ... mdone\u001b[0m\n",
      "\u001b[1Bting vault_s4   ... \u001b[32mdone\u001b[0m"
     ]
    }
   ],
   "source": [
    "# Restart Vault Cluster\n",
    "docker-compose -f docker-compose-hashi.yml up --force-recreate -d \\\n",
    "  vault_s4"
   ]
  },
  {
   "cell_type": "code",
   "execution_count": 267,
   "id": "2170bc72-dbce-413b-80b3-27be21ef691a",
   "metadata": {},
   "outputs": [
    {
     "name": "stdout",
     "output_type": "stream",
     "text": [
      "Key       Value\n",
      "---       -----\n",
      "Joined    true\n"
     ]
    }
   ],
   "source": [
    "docker exec -i vault_s4 sh -s <<EOM\n",
    "export VAULT_ADDR=http://127.0.0.1:8200\n",
    "vault operator raft join -non-voter http://vault_s1:8200\n",
    "EOM"
   ]
  },
  {
   "cell_type": "code",
   "execution_count": 268,
   "id": "6aee7bab-3728-4d13-9c95-0883c878712c",
   "metadata": {},
   "outputs": [
    {
     "name": "stdout",
     "output_type": "stream",
     "text": [
      "gNbB3iXOkoKaTWZ0/+IdPAHFEyeO2Yrdx0r4NxIHAs8=\n",
      "Key                Value\n",
      "---                -----\n",
      "Seal Type          shamir\n",
      "Initialized        true\n",
      "Sealed             true\n",
      "Total Shares       1\n",
      "Threshold          1\n",
      "Unseal Progress    0/1\n",
      "Unseal Nonce       n/a\n",
      "Version            1.7.5+ent\n",
      "Storage Type       raft\n",
      "HA Enabled         true\n"
     ]
    }
   ],
   "source": [
    "export unseal_key=$(cat /tmp/vault.txt | jq -r '.unseal_keys_b64[0]')\n",
    "printf \"${unseal_key}\\n\"\n",
    "\n",
    "for i in {4..4}; do\n",
    "docker exec -i vault_s${i} sh <<EOM\n",
    "export VAULT_ADDR=http://localhost:8200\n",
    "vault operator unseal ${unseal_key}\n",
    "EOM\n",
    "done"
   ]
  },
  {
   "cell_type": "code",
   "execution_count": 269,
   "id": "5480e94f-db41-45c1-8266-cf1816aafc73",
   "metadata": {},
   "outputs": [
    {
     "name": "stdout",
     "output_type": "stream",
     "text": [
      "\u001b[0mNode        Address            State       Voter\n",
      "----        -------            -----       -----\n",
      "vault_s1    10.5.0.101:8201    follower    true\n",
      "vault_s2    10.5.0.102:8201    leader      true\n",
      "vault_s3    10.5.0.103:8201    follower    true\n",
      "vault_s4    10.5.0.104:8201    follower    false\u001b[0m\n"
     ]
    }
   ],
   "source": [
    "vault operator raft list-peers"
   ]
  },
  {
   "cell_type": "markdown",
   "id": "7e108fce-882a-4700-b150-54b46ce01284",
   "metadata": {},
   "source": [
    "* `vault_s4` is not a voter."
   ]
  },
  {
   "cell_type": "markdown",
   "id": "561af6ba-9521-404f-ba39-48f358877047",
   "metadata": {},
   "source": [
    "## haproxy - Load Balancer"
   ]
  },
  {
   "cell_type": "markdown",
   "id": "1ac6c6ab-5176-4c4d-9ea3-b19a7fee3fc8",
   "metadata": {},
   "source": [
    "In this section, we will set up haproxy to provide performance and high-availability for Vault. Client requests sent to haproxy for Vault will treated the following way:\n",
    "\n",
    "* `GET` requests will be round-robined to all Vault nodes\n",
    "* Non-`GET` requests will be sent only to the active Vault node."
   ]
  },
  {
   "cell_type": "code",
   "execution_count": 271,
   "id": "50250685-edd6-4db3-97da-3c3e41d29782",
   "metadata": {},
   "outputs": [
    {
     "name": "stdout",
     "output_type": "stream",
     "text": [
      "Creating haproxy ... \n",
      "\u001b[1Bting haproxy ... \u001b[32mdone\u001b[0m"
     ]
    }
   ],
   "source": [
    "docker-compose -f docker-compose-hashi.yml \\\n",
    "  -f docker-compose-proxy.yml up --force-recreate -d \\\n",
    "  haproxy"
   ]
  },
  {
   "cell_type": "markdown",
   "id": "f24b4095-9d09-4fb7-8c09-da18574eeba0",
   "metadata": {},
   "source": [
    "### Validate"
   ]
  },
  {
   "cell_type": "code",
   "execution_count": 19,
   "id": "36c9a12c-73be-4833-b54a-cd099061d3f7",
   "metadata": {},
   "outputs": [],
   "source": [
    "export VAULT_TOKEN=$(cat /tmp/vault.txt | jq -r '.root_token')"
   ]
  },
  {
   "cell_type": "markdown",
   "id": "cebd6228-f243-46a3-adbf-335718bb3f96",
   "metadata": {},
   "source": [
    "Send POST (Write) request"
   ]
  },
  {
   "cell_type": "code",
   "execution_count": 275,
   "id": "dbb42d32-6559-409f-af90-35ab09275fba",
   "metadata": {},
   "outputs": [
    {
     "name": "stdout",
     "output_type": "stream",
     "text": [
      "  % Total    % Received % Xferd  Average Speed   Time    Time     Time  Current\n",
      "                                 Dload  Upload   Total   Spent    Left  Speed\n",
      "100    22    0     0  100    22      0    107 --:--:-- --:--:-- --:--:--   107\n",
      "10.5.0.1:47272 [16/Nov/2021:00:12:46.754] primary_cluster_api primary_cluster_active_api/vault-active 0/1/203 289 -- 1/1/0/0/0 0/0\n"
     ]
    }
   ],
   "source": [
    "curl -H \"X-Vault-Token: ${VAULT_TOKEN}\" \\\n",
    "  -X POST \\\n",
    "  -d '{\"data\":{\"foo\":\"bar\"}}' \\\n",
    "  http://127.0.0.1:18200/v1/kv/data/game/account | jq -c\n",
    "docker logs haproxy 2>&1 | tail -n 1"
   ]
  },
  {
   "cell_type": "markdown",
   "id": "ce1bfba3-56e8-4bc8-8278-6121d25878c9",
   "metadata": {},
   "source": [
    "This should go to active server from `primary_cluster_active_api` backend.\n",
    "```\n",
    "... primary_cluster_api primary_cluster_active_api/vault-active 0/1/252 389 -- 1/1/0/0/0 0/0\n",
    "```"
   ]
  },
  {
   "cell_type": "code",
   "execution_count": 276,
   "id": "14a77215-7ca8-4d03-ba88-c605705c80ee",
   "metadata": {},
   "outputs": [
    {
     "name": "stdout",
     "output_type": "stream",
     "text": [
      "\u001b[1;39m{\u001b[0m\u001b[34;1m\"foo\"\u001b[0m\u001b[1;39m:\u001b[0m\u001b[0;32m\"bar\"\u001b[0m\u001b[1;39m\u001b[1;39m}\u001b[0m\n",
      "10.5.0.1:47534 [16/Nov/2021:00:13:15.847] primary_cluster_api vault_read/vault-any1 0/1/3 319 -- 1/1/0/0/0 0/0\n",
      "\u001b[1;39m{\u001b[0m\u001b[34;1m\"foo\"\u001b[0m\u001b[1;39m:\u001b[0m\u001b[0;32m\"bar\"\u001b[0m\u001b[1;39m\u001b[1;39m}\u001b[0m\n",
      "10.5.0.1:47540 [16/Nov/2021:00:13:16.081] primary_cluster_api vault_read/vault-any2 0/1/3 319 -- 1/1/0/0/0 0/0\n",
      "\u001b[1;39m{\u001b[0m\u001b[34;1m\"foo\"\u001b[0m\u001b[1;39m:\u001b[0m\u001b[0;32m\"bar\"\u001b[0m\u001b[1;39m\u001b[1;39m}\u001b[0m\n",
      "10.5.0.1:47548 [16/Nov/2021:00:13:16.315] primary_cluster_api vault_read/vault-any3 0/0/2 319 -- 1/1/0/0/0 0/0\n",
      "\u001b[1;39m{\u001b[0m\u001b[34;1m\"foo\"\u001b[0m\u001b[1;39m:\u001b[0m\u001b[0;32m\"bar\"\u001b[0m\u001b[1;39m\u001b[1;39m}\u001b[0m\n",
      "10.5.0.1:47556 [16/Nov/2021:00:13:16.555] primary_cluster_api vault_read/vault-any1 0/1/3 319 -- 1/1/0/0/0 0/0\n",
      "\u001b[1;39m{\u001b[0m\u001b[34;1m\"foo\"\u001b[0m\u001b[1;39m:\u001b[0m\u001b[0;32m\"bar\"\u001b[0m\u001b[1;39m\u001b[1;39m}\u001b[0m\n",
      "10.5.0.1:47562 [16/Nov/2021:00:13:16.787] primary_cluster_api vault_read/vault-any2 0/0/2 319 -- 1/1/0/0/0 0/0\n",
      "\u001b[1;39m{\u001b[0m\u001b[34;1m\"foo\"\u001b[0m\u001b[1;39m:\u001b[0m\u001b[0;32m\"bar\"\u001b[0m\u001b[1;39m\u001b[1;39m}\u001b[0m\n",
      "10.5.0.1:47570 [16/Nov/2021:00:13:17.032] primary_cluster_api vault_read/vault-any3 0/1/3 319 -- 1/1/0/0/0 0/0\n",
      "\u001b[1;39m{\u001b[0m\u001b[34;1m\"foo\"\u001b[0m\u001b[1;39m:\u001b[0m\u001b[0;32m\"bar\"\u001b[0m\u001b[1;39m\u001b[1;39m}\u001b[0m\n",
      "10.5.0.1:47580 [16/Nov/2021:00:13:17.280] primary_cluster_api vault_read/vault-any1 0/0/2 319 -- 1/1/0/0/0 0/0\n",
      "\u001b[1;39m{\u001b[0m\u001b[34;1m\"foo\"\u001b[0m\u001b[1;39m:\u001b[0m\u001b[0;32m\"bar\"\u001b[0m\u001b[1;39m\u001b[1;39m}\u001b[0m\n",
      "10.5.0.1:47590 [16/Nov/2021:00:13:17.519] primary_cluster_api vault_read/vault-any2 0/1/2 319 -- 1/1/0/0/0 0/0\n",
      "\u001b[1;39m{\u001b[0m\u001b[34;1m\"foo\"\u001b[0m\u001b[1;39m:\u001b[0m\u001b[0;32m\"bar\"\u001b[0m\u001b[1;39m\u001b[1;39m}\u001b[0m\n",
      "10.5.0.1:47596 [16/Nov/2021:00:13:17.757] primary_cluster_api vault_read/vault-any3 0/1/2 319 -- 1/1/0/0/0 0/0\n"
     ]
    }
   ],
   "source": [
    "for i in {1..9}; do\n",
    "curl -s -H \"X-Vault-Token: ${VAULT_TOKEN}\" \\\n",
    "  -X GET \\\n",
    "  http://127.0.0.1:18200/v1/kv/data/game/account | jq -c .data.data\n",
    "docker logs haproxy 2>&1 | tail -n 1\n",
    "done"
   ]
  },
  {
   "cell_type": "markdown",
   "id": "bac04810-8266-4757-aedb-d5fa1934ff94",
   "metadata": {},
   "source": [
    "Send GET (Read) request "
   ]
  },
  {
   "cell_type": "markdown",
   "id": "960ba4ad-87d8-4d53-a28e-b836c6ce4a64",
   "metadata": {},
   "source": [
    "This should go to any server from `vault_read` backend\n",
    "```\n",
    "... primary_cluster_api vault_read/vault_s2 0/0/6 423 -- 1/1/0/0/0 0/0\n",
    "```"
   ]
  },
  {
   "cell_type": "markdown",
   "id": "2247075c-ab04-4a3f-90ee-1933f8248b16",
   "metadata": {},
   "source": [
    "### Reload haproxy"
   ]
  },
  {
   "cell_type": "markdown",
   "id": "45ecf667-c964-435a-90b2-5713203561ef",
   "metadata": {},
   "source": [
    "If you make changes to haproxy.cfg, you can reload haproxy."
   ]
  },
  {
   "cell_type": "code",
   "execution_count": 183,
   "id": "569cf3f9-d659-4437-99c1-ad5417ada209",
   "metadata": {},
   "outputs": [
    {
     "name": "stdout",
     "output_type": "stream",
     "text": [
      "haproxy\n"
     ]
    }
   ],
   "source": [
    "docker kill -s HUP haproxy"
   ]
  },
  {
   "cell_type": "markdown",
   "id": "434f4c45-e2b2-4c83-912d-3e75440f9943",
   "metadata": {},
   "source": [
    "## Clean Up"
   ]
  },
  {
   "cell_type": "markdown",
   "id": "1570f110-c91f-4a05-be3d-d31c46929237",
   "metadata": {},
   "source": [
    "If you are done with your tests, you might want to shut everything down to reduce your heating bills."
   ]
  },
  {
   "cell_type": "markdown",
   "id": "2266d860-ea8e-4cf3-8072-f51f8e1d1d2b",
   "metadata": {},
   "source": [
    "### docker-compose down - everything"
   ]
  },
  {
   "cell_type": "code",
   "execution_count": 192,
   "id": "14736c7b-127b-4df2-91b3-4d054e6decfe",
   "metadata": {},
   "outputs": [],
   "source": [
    "CONSUL_DC=west\n",
    "export COMPOSE_PROJECT_NAME=hashi\n",
    "export COMPOSE_FILE=docker-compose-hashi.yml:docker-compose-proxy.yml"
   ]
  },
  {
   "cell_type": "code",
   "execution_count": 247,
   "id": "57424fcb-e0f5-46e9-8047-26787dafb6f2",
   "metadata": {},
   "outputs": [
    {
     "name": "stdout",
     "output_type": "stream",
     "text": [
      "Stopping vault_s3        ... \n",
      "Stopping vault_s2        ... \n",
      "Stopping vault_s1        ... \n",
      "Stopping consul-server-2 ... \n",
      "Stopping consul-server-1 ... \n",
      "Stopping consul-server-0 ... \n",
      "Stopping consul-agent-1  ... \n",
      "\u001b[5BRemoving vault_s3        ... mdone\u001b[0m\n",
      "Removing vault_s2        ... \n",
      "Removing vault_s1        ... \n",
      "Removing consul-server-2 ... \n",
      "Removing consul-server-1 ... \n",
      "Removing consul-server-0 ... \n",
      "Removing consul-agent-1  ... \n",
      "\u001b[6BRemoving network hashi_vpcbr2mdone\u001b[0m\n"
     ]
    }
   ],
   "source": [
    "docker-compose down"
   ]
  },
  {
   "cell_type": "markdown",
   "id": "680bb2b3-c3b2-412c-9c3d-515e05a27269",
   "metadata": {},
   "source": [
    "## DEBUGGING"
   ]
  },
  {
   "cell_type": "markdown",
   "id": "e38f9c70-76be-43a3-956b-bd0cb3374c9e",
   "metadata": {},
   "source": [
    "### Review logs"
   ]
  },
  {
   "cell_type": "markdown",
   "id": "3096cf1b-1b6d-4e62-91a9-762152ad73f2",
   "metadata": {},
   "source": [
    "Review consul logs - for docker"
   ]
  },
  {
   "cell_type": "code",
   "execution_count": 49,
   "id": "19ac7eac-e49b-4541-a864-ae17115a63f9",
   "metadata": {
    "collapsed": true,
    "jupyter": {
     "outputs_hidden": true
    },
    "tags": []
   },
   "outputs": [
    {
     "name": "stdout",
     "output_type": "stream",
     "text": [
      "docker logs consul-server-0\n",
      "==> Starting Consul agent...\n",
      "           Version: '1.9.11+ent'\n",
      "           Node ID: '2c965ad0-5042-424c-259c-a5781d001d28'\n",
      "         Node name: 'consul-server-0'\n",
      "        Datacenter: 'west' (Segment: '<all>')\n",
      "            Server: true (Bootstrap: false)\n",
      "       Client Addr: [0.0.0.0] (HTTP: 8500, HTTPS: -1, gRPC: -1, DNS: 8600)\n",
      "      Cluster Addr: 10.5.0.2 (LAN: 8301, WAN: 8302)\n",
      "           Encrypt: Gossip: true, TLS-Outgoing: true, TLS-Incoming: true, Auto-Encrypt-TLS: false\n",
      "\n",
      "2021-11-15T17:05:52.955Z [WARN]  agent: Check socket connection failed: check=default/_nomad-check-01bd2cc7d206e8b625724dc0222789c02df5c4af error=\"dial tcp 0.0.0.0:4648: connect: connection refused\"\n",
      "2021-11-15T17:05:52.955Z [WARN]  agent: Check is now critical: check=default/_nomad-check-01bd2cc7d206e8b625724dc0222789c02df5c4af\n",
      "2021-11-15T17:05:52.957Z [WARN]  agent: Check is now critical: check=default/_nomad-check-30f7971e26a03d0e2767122f7edfaaca35f8e001\n",
      "\n",
      "docker logs consul-server-1\n",
      "==> Starting Consul agent...\n",
      "           Version: '1.9.11+ent'\n",
      "           Node ID: 'f4c7057f-83ec-11ac-2027-ca85eccfce89'\n",
      "         Node name: 'consul-server-1'\n",
      "        Datacenter: 'west' (Segment: '<all>')\n",
      "            Server: true (Bootstrap: false)\n",
      "       Client Addr: [0.0.0.0] (HTTP: 8500, HTTPS: -1, gRPC: -1, DNS: 8600)\n",
      "      Cluster Addr: 10.5.0.3 (LAN: 8301, WAN: 8302)\n",
      "           Encrypt: Gossip: true, TLS-Outgoing: true, TLS-Incoming: true, Auto-Encrypt-TLS: false\n",
      "\n",
      "2021-11-15T16:58:35.724Z [INFO]  agent.server: Handled event for server in area: event=member-update server=consul-server-1.west area=wan\n",
      "2021-11-15T17:03:27.844Z [WARN]  agent.server.license: license close to expiration: expiration_time=\"2021-11-15 22:58:28 +0000 UTC\" time_left=5h55m0s\n",
      "2021-11-15T17:04:54.446Z [INFO]  agent.server.serf.lan: serf: EventMemberJoin: App1 10.5.0.12\n",
      "\n",
      "docker logs consul-server-2\n",
      "==> Starting Consul agent...\n",
      "           Version: '1.9.11+ent'\n",
      "           Node ID: '08f89457-d9db-b025-c65e-185246fe577c'\n",
      "         Node name: 'consul-server-2'\n",
      "        Datacenter: 'west' (Segment: '<all>')\n",
      "            Server: true (Bootstrap: false)\n",
      "       Client Addr: [0.0.0.0] (HTTP: 8500, HTTPS: -1, gRPC: -1, DNS: 8600)\n",
      "      Cluster Addr: 10.5.0.4 (LAN: 8301, WAN: 8302)\n",
      "           Encrypt: Gossip: true, TLS-Outgoing: true, TLS-Incoming: true, Auto-Encrypt-TLS: false\n",
      "\n",
      "2021-11-15T17:03:28.323Z [WARN]  agent.server.license: license close to expiration: expiration_time=\"2021-11-15 22:58:28 +0000 UTC\" time_left=5h55m0s\n",
      "2021-11-15T17:04:54.462Z [INFO]  agent.server.serf.lan: serf: EventMemberJoin: App1 10.5.0.12\n",
      "2021-11-15T17:04:54.464Z [INFO]  agent.server: member joined, marking health alive: member=App1\n",
      "\n",
      "docker logs consul-server-3\n",
      "Error: No such container: consul-server-3\n",
      "\n"
     ]
    }
   ],
   "source": [
    "for i in {0..3}; do\n",
    "printf \"docker logs consul-server-${i}\\n\"\n",
    "docker logs consul-server-${i} | { head ; tail -n 3;}\n",
    "printf \"\\n\"\n",
    "done"
   ]
  },
  {
   "cell_type": "code",
   "execution_count": 130,
   "id": "fa64eb4a-7f7a-435c-8a95-126312d2cc94",
   "metadata": {},
   "outputs": [],
   "source": [
    "cat > .env <<EOF\n",
    "#COMPOSE_PROJECT_NAME=helloworld\n",
    "APACHE_EXPOSED_PORT=80\n",
    "APACHE_1_IP=10.5.0.11\n",
    "APACHE_2_IP=10.5.0.22\n",
    "HA_PROXY_IP=10.5.0.33\n",
    "#NETWORK_SUBNET=10.5.0.0/24\n",
    "EOF"
   ]
  },
  {
   "cell_type": "markdown",
   "id": "8876673a-44f0-481e-823a-c4e836e760d4",
   "metadata": {},
   "source": [
    "## Appendix"
   ]
  },
  {
   "cell_type": "markdown",
   "id": "75898163-1c75-4879-ba6f-4f24f800dd13",
   "metadata": {},
   "source": [
    "### Addresses"
   ]
  },
  {
   "cell_type": "markdown",
   "id": "1a924b69-de59-437a-9014-b7ec770c7844",
   "metadata": {},
   "source": [
    "\n",
    "| Name | Address | Description |\n",
    "| :--- | --- | --- |\n",
    "| Consul | http://192.168.17.101:8500 | Consul Dashboard\n",
    "| Nomad | http://192.168.17.101:4646 | Nomad Dashboard\n",
    "| Vault | http://192.168.17.101:8200 | Vault Dashboard\n",
    "| haproxy stats | http://192.168.17.101:11936 | haproxy Consul Dashboard\n",
    "| haproxy - Consul | http://192.168.17.101:18500 | haproxy Consul Dashboard\n",
    "| haproxy - Nomad | http://192.168.17.101:14646 | haproxy Nomad Dashboard\n",
    "| haproxy - Vault | http://192.168.17.101:18200 | haproxy Vault Dashboard"
   ]
  },
  {
   "cell_type": "markdown",
   "id": "8a734976-f1a4-431f-bfb6-3b28969144b2",
   "metadata": {},
   "source": [
    "### Consul Auto Upgrade"
   ]
  },
  {
   "cell_type": "markdown",
   "id": "0d42d625-be1d-4aae-929c-8d7ba1dbc250",
   "metadata": {},
   "source": []
  },
  {
   "cell_type": "markdown",
   "id": "c4d31a32-cf7b-4b56-ba0e-f695aa4809db",
   "metadata": {},
   "source": [
    "Modify `docker-compose-hashi.yml`. For consul-server-3, 4, and 5, comment the image parameter for `1.9` and uncomment the one for `latest`."
   ]
  },
  {
   "cell_type": "markdown",
   "id": "bfce42f1-cae3-46fb-bbe6-2233df11abe2",
   "metadata": {},
   "source": [
    "```yaml\n",
    "    # image: hashicorp/consul-enterprise:1.9-ent\n",
    "    image: hashicorp/consul-enterprise:latest\n",
    "```"
   ]
  },
  {
   "cell_type": "markdown",
   "id": "7ea33f15-b395-4467-8bed-9a35f1e90a75",
   "metadata": {},
   "source": [
    "Start consul-server-3 consul-server-4 consul-server-5"
   ]
  },
  {
   "cell_type": "code",
   "execution_count": 99,
   "id": "97371819-0a70-4c47-b38d-39daa3be9375",
   "metadata": {},
   "outputs": [
    {
     "name": "stdout",
     "output_type": "stream",
     "text": [
      "Recreating consul-server-4 ... \n",
      "Recreating consul-server-3 ... \n",
      "Recreating consul-server-5 ... \n",
      "\u001b[3Beating consul-server-4 ... \u001b[32mdone\u001b[0m"
     ]
    }
   ],
   "source": [
    "docker-compose -f docker-compose-hashi.yml up --force-recreate -d \\\n",
    "  consul-server-3 consul-server-4 consul-server-5"
   ]
  },
  {
   "cell_type": "markdown",
   "id": "30357e39-db42-41ae-9d21-973562a1138f",
   "metadata": {},
   "source": [
    "Verify Consul"
   ]
  },
  {
   "cell_type": "code",
   "execution_count": 103,
   "id": "ca3f5148-8ba1-4db4-b081-b5b837b88674",
   "metadata": {},
   "outputs": [
    {
     "name": "stdout",
     "output_type": "stream",
     "text": [
      "#==> List Members\n",
      "Node             Address         Status  Type    Build       Protocol  DC    Segment\n",
      "consul-server-0  10.5.0.2:8301   alive   server  1.9.11+ent  2         west  <all>\n",
      "consul-server-1  10.5.0.3:8301   alive   server  1.9.11+ent  2         west  <all>\n",
      "consul-server-2  10.5.0.4:8301   alive   server  1.9.11+ent  2         west  <all>\n",
      "consul-server-3  10.5.0.5:8301   alive   server  1.10.4+ent  2         west  <all>\n",
      "consul-server-4  10.5.0.6:8301   alive   server  1.10.4+ent  2         west  <all>\n",
      "consul-server-5  10.5.0.7:8301   alive   server  1.10.4+ent  2         west  <all>\n",
      "App1             10.5.0.12:8301  alive   client  1.9.11+ent  2         west  <default>\n",
      "\n",
      "#==> List Raft Peers\n",
      "Node             ID                                    Address        State     Voter  RaftProtocol\n",
      "consul-server-0  bf8054d2-57da-128c-1a0e-b81ab694105d  10.5.0.2:8300  follower  false  3\n",
      "consul-server-2  3c60ff6c-3836-9f3a-627c-80370f71b172  10.5.0.4:8300  follower  false  3\n",
      "consul-server-1  d7e82aa0-2fa0-9308-5970-44e839786d2b  10.5.0.3:8300  follower  false  3\n",
      "consul-server-3  524afd65-feea-79f2-1431-09b6dbbb8c05  10.5.0.5:8300  follower  true   3\n",
      "consul-server-5  b9c2c042-b161-3085-f417-d5739e6cbb50  10.5.0.7:8300  follower  true   3\n",
      "consul-server-4  21c6c18d-b89d-edca-4f8e-011cbb244036  10.5.0.6:8300  leader    true   3\n"
     ]
    }
   ],
   "source": [
    "printf \"#==> List Members\\n\"\n",
    "consul members\n",
    "# curl http://127.0.0.1:8500/v1/agent/members | jq -c .[]\n",
    "printf \"\\n#==> List Raft Peers\\n\"\n",
    "consul operator raft list-peers"
   ]
  },
  {
   "cell_type": "markdown",
   "id": "654e0f40-86d1-46a5-98c0-985e66253b19",
   "metadata": {},
   "source": [
    "### Directory Structure"
   ]
  },
  {
   "cell_type": "code",
   "execution_count": 5,
   "id": "1a9999b9-07df-4cd9-9d08-de516a8883b8",
   "metadata": {
    "collapsed": true,
    "jupyter": {
     "outputs_hidden": true
    },
    "tags": []
   },
   "outputs": [
    {
     "name": "stdout",
     "output_type": "stream",
     "text": [
      ".\n",
      "├── README.md\n",
      "├── apache\n",
      "│   ├── 1\n",
      "│   │   ├── Dockerfile\n",
      "│   │   └── index.html\n",
      "│   └── 2\n",
      "│       ├── Dockerfile\n",
      "│       └── index.html\n",
      "├── consul\n",
      "│   ├── cert\n",
      "│   │   ├── client\n",
      "│   │   │   ├── consul-agent-ca.pem\n",
      "│   │   │   ├── west-client-consul-0-key.pem\n",
      "│   │   │   └── west-client-consul-0.pem\n",
      "│   │   └── server\n",
      "│   │       ├── consul-agent-ca.pem\n",
      "│   │       ├── consul.hclic\n",
      "│   │       ├── west-server-consul-0-key.pem\n",
      "│   │       └── west-server-consul-0.pem\n",
      "│   ├── config\n",
      "│   │   ├── acl.hcl\n",
      "│   │   ├── server.hcl\n",
      "│   │   ├── server0.hcl\n",
      "│   │   ├── server1.hcl\n",
      "│   │   ├── server2.hcl\n",
      "│   │   ├── server4.hcl\n",
      "│   │   └── server5.hcl\n",
      "│   └── policies\n",
      "├── consul-agent-ca-key.pem\n",
      "├── consul-agent-ca.pem\n",
      "├── docker\n",
      "│   └── haproxy\n",
      "│       └── haproxy.cfg\n",
      "├── docker-compose-app.yml\n",
      "├── docker-compose-consul-app.yml\n",
      "├── docker-compose-hashi.yml\n",
      "├── docker-compose-proxy.yml\n",
      "├── docker-compose-scratch.yml\n",
      "├── docker-compose.yml\n",
      "├── grafana\n",
      "│   ├── dashboards\n",
      "│   │   ├── alerts.yaml\n",
      "│   │   ├── consul-server-monitoring_rev3.json\n",
      "│   │   ├── node-exporter-full_rev22.json\n",
      "│   │   ├── rules.yaml\n",
      "│   │   ├── tempo-operational.json\n",
      "│   │   ├── tempo-reads.json\n",
      "│   │   ├── tempo-resources.json\n",
      "│   │   └── tempo-writes.json\n",
      "│   └── provisioning\n",
      "│       ├── dashboards\n",
      "│       │   └── dashboards.yaml\n",
      "│       └── datasources\n",
      "│           └── datasource.yml\n",
      "├── haproxy\n",
      "│   ├── haproxy.cfg\n",
      "│   └── haproxy.cfg.txt2\n",
      "├── hashi_troubleshooting.ipynb\n",
      "├── tmp\n",
      "│   └── consul\n",
      "│       ├── config\n",
      "│       ├── data-agent-0\n",
      "│       ├── data-server-0\n",
      "│       ├── data-server-1\n",
      "│       └── data-server-2\n",
      "└── vault\n",
      "    ├── config\n",
      "    │   ├── vault_s1\n",
      "    │   │   └── server1.hcl\n",
      "    │   ├── vault_s2\n",
      "    │   │   └── server2.hcl\n",
      "    │   └── vault_s3\n",
      "    │       └── server3.hcl\n",
      "    └── logs\n",
      "        ├── vault_s1\n",
      "        ├── vault_s2\n",
      "        ├── vault_s3\n",
      "        └── vaults_s3\n",
      "\n",
      "34 directories, 44 files\n"
     ]
    }
   ],
   "source": [
    "tree"
   ]
  },
  {
   "cell_type": "markdown",
   "id": "fcf2c5a2-3369-4445-9755-4c269fa2d9ca",
   "metadata": {},
   "source": [
    "Sample Output for tree\n",
    "<details><summary></summary>\n",
    "\n",
    "```\n",
    ".\n",
    "├── README.md\n",
    "├── consul\n",
    "│   ├── cert\n",
    "│   │   ├── client\n",
    "│   │   │   ├── consul-agent-ca.pem\n",
    "│   │   │   ├── west-client-consul-0-key.pem\n",
    "│   │   │   └── west-client-consul-0.pem\n",
    "│   │   └── server\n",
    "│   │       ├── consul-agent-ca.pem\n",
    "│   │       ├── consul.hclic\n",
    "│   │       ├── west-server-consul-0-key.pem\n",
    "│   │       └── west-server-consul-0.pem\n",
    "│   ├── config\n",
    "│   │   ├── acl.hcl\n",
    "│   │   ├── server.hcl\n",
    "│   │   ├── server0.hcl\n",
    "│   │   ├── server1.hcl\n",
    "│   │   ├── server2.hcl\n",
    "│   │   ├── server4.hcl\n",
    "│   │   └── server5.hcl\n",
    "│   └── policies\n",
    "├── consul-agent-ca-key.pem\n",
    "├── consul-agent-ca.pem\n",
    "├── docker\n",
    "│   └── haproxy\n",
    "│       └── haproxy.cfg\n",
    "├── docker-compose-app.yml\n",
    "├── docker-compose-consul-app.yml\n",
    "├── docker-compose-hashi.yml\n",
    "├── docker-compose-proxy.yml\n",
    "├── docker-compose-scratch.yml\n",
    "├── docker-compose.yml\n",
    "├── grafana\n",
    "│   ├── dashboards\n",
    "│   │   ├── alerts.yaml\n",
    "│   │   ├── consul-server-monitoring_rev3.json\n",
    "│   │   ├── node-exporter-full_rev22.json\n",
    "│   │   ├── rules.yaml\n",
    "│   │   ├── tempo-operational.json\n",
    "│   │   ├── tempo-reads.json\n",
    "│   │   ├── tempo-resources.json\n",
    "│   │   └── tempo-writes.json\n",
    "│   └── provisioning\n",
    "│       ├── dashboards\n",
    "│       │   └── dashboards.yaml\n",
    "│       └── datasources\n",
    "│           └── datasource.yml\n",
    "├── haproxy\n",
    "│   ├── haproxy.cfg\n",
    "│   └── haproxy.cfg.txt2\n",
    "├── hashi_troubleshooting.ipynb\n",
    "└── vault\n",
    "    ├── config\n",
    "    │   ├── vault_s1\n",
    "    │   │   └── server1.hcl\n",
    "    │   ├── vault_s2\n",
    "    │   │   └── server2.hcl\n",
    "    │   └── vault_s3\n",
    "    │       └── server3.hcl\n",
    "    └── logs\n",
    "        ├── vault_s1\n",
    "        ├── vault_s2\n",
    "        ├── vault_s3\n",
    "        └── vaults_s3\n",
    "```\n",
    "</details>"
   ]
  },
  {
   "cell_type": "markdown",
   "id": "c2958013-f120-41bd-a496-96193dc07bfc",
   "metadata": {},
   "source": [
    "### Resources"
   ]
  },
  {
   "cell_type": "markdown",
   "id": "c84fc4ca-0042-484c-ab2a-1432ecafb30c",
   "metadata": {},
   "source": [
    "* https://learn.hashicorp.com/tutorials/consul/deployment-guide\n"
   ]
  },
  {
   "cell_type": "markdown",
   "id": "b0c61920-d4b7-4c29-b35b-8611d2dd794a",
   "metadata": {},
   "source": [
    "### Additional Consul Steps"
   ]
  },
  {
   "cell_type": "markdown",
   "id": "bd95cbf3-dcd0-4cfd-9b1b-b2226633c320",
   "metadata": {},
   "source": [
    "Setup Consul environment variables - Notice that since TLS encryption is enabled, you will now need to use the server certificates to complete all other tasks."
   ]
  },
  {
   "cell_type": "code",
   "execution_count": null,
   "id": "42d9440f-d935-4dc5-bdc7-bc63c4e63bd4",
   "metadata": {},
   "outputs": [],
   "source": [
    "export CONSUL_CACERT=/etc/consul.d/consul-agent-ca.pem\n",
    "export CONSUL_CLIENT_CERT=/etc/consul.d/<dc-name>-<server/ client>-consul-<cert-number>.pem\n",
    "export CONSUL_CLIENT_KEY=/etc/consul.d/<dc-name>-<server/   client>-consul-<cert-number>-key.pem"
   ]
  },
  {
   "cell_type": "markdown",
   "id": "995451f8-76ef-4064-8d26-a00728a8bb36",
   "metadata": {},
   "source": [
    "### Consul Redundancy Zones"
   ]
  },
  {
   "cell_type": "code",
   "execution_count": 82,
   "id": "d77f0073-5186-4cb0-a515-3f878dfdb56c",
   "metadata": {},
   "outputs": [
    {
     "name": "stdout",
     "output_type": "stream",
     "text": [
      "node_meta {\n",
      "  zone = \"zone0\"\n",
      "}\n",
      "Configuration reload triggered\n",
      "node_meta {\n",
      "  zone = \"zone1\"\n",
      "}\n",
      "Configuration reload triggered\n",
      "node_meta {\n",
      "  zone = \"zone2\"\n",
      "}\n",
      "Configuration reload triggered\n"
     ]
    }
   ],
   "source": [
    "for i in {0..2}; do\n",
    "docker exec -i consul-server-${i} sh <<EOM\n",
    "cat > /consul/config/rz.hcl <<EOF\n",
    "node_meta {\n",
    "  zone = \"zone${i}\"\n",
    "}\n",
    "EOF\n",
    "cat /consul/config/rz.hcl\n",
    "consul reload\n",
    "EOM\n",
    "done"
   ]
  },
  {
   "cell_type": "markdown",
   "id": "d6a5f40d-f8eb-4686-be82-72f6e8650a17",
   "metadata": {},
   "source": [
    "Update Consul autopilot configuration to reflect the `node_meta` configuration."
   ]
  },
  {
   "cell_type": "code",
   "execution_count": 83,
   "id": "31af5c45-acd1-43c0-8afa-7c6bd4a6ceda",
   "metadata": {},
   "outputs": [
    {
     "name": "stdout",
     "output_type": "stream",
     "text": [
      "Configuration updated!\n"
     ]
    }
   ],
   "source": [
    "consul operator autopilot set-config -redundancy-zone-tag=zone"
   ]
  },
  {
   "cell_type": "code",
   "execution_count": 84,
   "id": "e1551459-b0a3-400e-8654-72d9b05336e8",
   "metadata": {},
   "outputs": [
    {
     "name": "stdout",
     "output_type": "stream",
     "text": [
      "CleanupDeadServers = true\n",
      "LastContactThreshold = 200ms\n",
      "MaxTrailingLogs = 250\n",
      "MinQuorum = 0\n",
      "ServerStabilizationTime = 10s\n",
      "RedundancyZoneTag = \"zone\"\n",
      "DisableUpgradeMigration = false\n",
      "UpgradeVersionTag = \"\"\n"
     ]
    }
   ],
   "source": [
    "consul operator autopilot get-config"
   ]
  },
  {
   "cell_type": "markdown",
   "id": "f764020b-97f1-4501-9061-9eedfd5a7620",
   "metadata": {},
   "source": [
    "Sample Output\n",
    "```\n",
    "CleanupDeadServers = true\n",
    "LastContactThreshold = 200ms\n",
    "MaxTrailingLogs = 250\n",
    "MinQuorum = 0\n",
    "ServerStabilizationTime = 10s\n",
    "RedundancyZoneTag = \"zone\"   <==---\n",
    "DisableUpgradeMigration = false\n",
    "UpgradeVersionTag = \"\"\n",
    "```"
   ]
  },
  {
   "cell_type": "markdown",
   "id": "66e8efa6-70cc-4ae2-95ff-7d20f0f5271d",
   "metadata": {},
   "source": [
    "Create Core Consul config - Server"
   ]
  },
  {
   "cell_type": "code",
   "execution_count": 67,
   "id": "7c1a0376-6051-4198-9833-4cbc4e6577cd",
   "metadata": {},
   "outputs": [],
   "source": [
    "for i in {0..2}; do\n",
    "cat > consul/config/rz-${i}.hcl <<-EOF\n",
    "node_meta {\n",
    "  zone = \"zone${i}\"\n",
    "}\n",
    "autopilot {\n",
    "  redundancy_zone_tag = \"zone\"\n",
    "}\n",
    "EOF\n",
    "done"
   ]
  },
  {
   "cell_type": "markdown",
   "id": "0c391249-3ca5-43c9-bd56-4edd48574d04",
   "metadata": {},
   "source": [
    "Modify docker-compose-hashi.yml. For consul-server-3, 4, and 5, uncomment the image parameter for `1.9` and comment the one for `latest`."
   ]
  },
  {
   "cell_type": "markdown",
   "id": "32b789f4-d362-4370-96c3-f819a5c4ebb9",
   "metadata": {},
   "source": [
    "```yaml\n",
    "    image: hashicorp/consul-enterprise:1.9-ent\n",
    "    # image: hashicorp/consul-enterprise:latest\n",
    "```"
   ]
  },
  {
   "cell_type": "markdown",
   "id": "483e3f1f-ba9f-4c51-9c8b-e217575f42b0",
   "metadata": {},
   "source": [
    "Start consul-server-3 consul-server-4 consul-server-5"
   ]
  },
  {
   "cell_type": "code",
   "execution_count": 85,
   "id": "0b6f731c-0180-431b-bed2-79152d6d796d",
   "metadata": {},
   "outputs": [
    {
     "name": "stdout",
     "output_type": "stream",
     "text": [
      "Creating consul-server-4 ... \n",
      "Creating consul-server-3 ... \n",
      "Creating consul-server-5 ... \n",
      "\u001b[3Bting consul-server-4 ... \u001b[32mdone\u001b[0m"
     ]
    }
   ],
   "source": [
    "docker-compose -f docker-compose-hashi.yml up --force-recreate -d \\\n",
    "  consul-server-3 consul-server-4 consul-server-5"
   ]
  },
  {
   "cell_type": "markdown",
   "id": "6d92324e-8e66-4bf6-a6dd-5f43a760bd91",
   "metadata": {},
   "source": [
    "Verify Consul"
   ]
  },
  {
   "cell_type": "code",
   "execution_count": 86,
   "id": "0e958da3-756d-4b33-8f62-648f5fbf452a",
   "metadata": {},
   "outputs": [
    {
     "name": "stdout",
     "output_type": "stream",
     "text": [
      "#==> List Members\n",
      "Node             Address         Status  Type    Build       Protocol  DC    Segment\n",
      "consul-server-0  10.5.0.2:8301   alive   server  1.9.11+ent  2         west  <all>\n",
      "consul-server-1  10.5.0.3:8301   alive   server  1.9.11+ent  2         west  <all>\n",
      "consul-server-2  10.5.0.4:8301   alive   server  1.9.11+ent  2         west  <all>\n",
      "consul-server-3  10.5.0.7:8301   alive   server  1.9.11+ent  2         west  <all>\n",
      "consul-server-4  10.5.0.6:8301   alive   server  1.9.11+ent  2         west  <all>\n",
      "consul-server-5  10.5.0.5:8301   alive   server  1.9.11+ent  2         west  <all>\n",
      "App1             10.5.0.12:8301  alive   client  1.9.11+ent  2         west  <default>\n",
      "\n",
      "#==> List Raft Peers\n",
      "Node             ID                                    Address        State     Voter  RaftProtocol\n",
      "consul-server-0  bf8054d2-57da-128c-1a0e-b81ab694105d  10.5.0.2:8300  follower  true   3\n",
      "consul-server-1  d7e82aa0-2fa0-9308-5970-44e839786d2b  10.5.0.3:8300  leader    true   3\n",
      "consul-server-2  3c60ff6c-3836-9f3a-627c-80370f71b172  10.5.0.4:8300  follower  true   3\n",
      "consul-server-5  b9c2c042-b161-3085-f417-d5739e6cbb50  10.5.0.5:8300  follower  false  3\n",
      "consul-server-4  21c6c18d-b89d-edca-4f8e-011cbb244036  10.5.0.6:8300  follower  false  3\n",
      "consul-server-3  524afd65-feea-79f2-1431-09b6dbbb8c05  10.5.0.7:8300  follower  false  3\n"
     ]
    }
   ],
   "source": [
    "printf \"#==> List Members\\n\"\n",
    "consul members\n",
    "# curl http://127.0.0.1:8500/v1/agent/members | jq -c .[]\n",
    "printf \"\\n#==> List Raft Peers\\n\"\n",
    "consul operator raft list-peers"
   ]
  },
  {
   "cell_type": "markdown",
   "id": "ecad40e5-4abd-4582-8b1c-3def7402812f",
   "metadata": {},
   "source": [
    "Sample Output\n",
    "```\n",
    "#==> List Members\n",
    "Node             Address         Status  Type    Build       Protocol  DC    Segment\n",
    "consul-server-0  10.5.0.2:8301   alive   server  1.9.11+ent  2         west  <all>\n",
    "consul-server-1  10.5.0.3:8301   alive   server  1.9.11+ent  2         west  <all>\n",
    "consul-server-2  10.5.0.4:8301   alive   server  1.9.11+ent  2         west  <all>\n",
    "consul-server-3  10.5.0.7:8301   alive   server  1.9.11+ent  2         west  <all>\n",
    "consul-server-4  10.5.0.6:8301   alive   server  1.9.11+ent  2         west  <all>\n",
    "consul-server-5  10.5.0.5:8301   alive   server  1.9.11+ent  2         west  <all>\n",
    "App1             10.5.0.12:8301  alive   client  1.9.11+ent  2         west  <default>\n",
    "\n",
    "#==> List Raft Peers\n",
    "Node             ID                                    Address        State     Voter  RaftProtocol\n",
    "consul-server-0  bf8054d2-57da-128c-1a0e-b81ab694105d  10.5.0.2:8300  follower  true   3\n",
    "consul-server-1  d7e82aa0-2fa0-9308-5970-44e839786d2b  10.5.0.3:8300  leader    true   3\n",
    "consul-server-2  3c60ff6c-3836-9f3a-627c-80370f71b172  10.5.0.4:8300  follower  true   3\n",
    "consul-server-5  b9c2c042-b161-3085-f417-d5739e6cbb50  10.5.0.5:8300  follower  false  3\n",
    "consul-server-4  21c6c18d-b89d-edca-4f8e-011cbb244036  10.5.0.6:8300  follower  false  3\n",
    "consul-server-3  524afd65-feea-79f2-1431-09b6dbbb8c05  10.5.0.7:8300  follower  false  3\n",
    "```\n",
    "\n",
    "* All the new servers, once started, are added to the datacenter as non-voters (`Voter` = `false`). You can reference the Voter column in the output to verify it."
   ]
  },
  {
   "cell_type": "markdown",
   "id": "c039f111-5224-4b41-b49e-c14b2055b920",
   "metadata": {},
   "source": [
    "#### Test fault tolerance"
   ]
  },
  {
   "cell_type": "markdown",
   "id": "b182cee5-703f-483d-8908-1a8ce88fa18c",
   "metadata": {},
   "source": [
    "Stop one of the voters. We use `consul-server-1` from `zone1`."
   ]
  },
  {
   "cell_type": "code",
   "execution_count": 87,
   "id": "e143eecb-e1ab-4757-9489-1f8da064304f",
   "metadata": {},
   "outputs": [
    {
     "name": "stdout",
     "output_type": "stream",
     "text": [
      "consul-server-1\n"
     ]
    }
   ],
   "source": [
    "docker stop consul-server-1"
   ]
  },
  {
   "cell_type": "markdown",
   "id": "b2bc59d7-1cfd-481a-bb68-82fcf7182a21",
   "metadata": {},
   "source": [
    "Verify that the correspondent non-voter in its redundancy zone gets promoted as a voter as soon as the server gets declared unhealthy."
   ]
  },
  {
   "cell_type": "code",
   "execution_count": 91,
   "id": "2f57768a-a028-48b9-8a8e-ddefc4750354",
   "metadata": {},
   "outputs": [
    {
     "name": "stdout",
     "output_type": "stream",
     "text": [
      "Node             ID                                    Address        State     Voter  RaftProtocol\n",
      "consul-server-0  bf8054d2-57da-128c-1a0e-b81ab694105d  10.5.0.2:8300  leader    true   3\n",
      "consul-server-2  3c60ff6c-3836-9f3a-627c-80370f71b172  10.5.0.4:8300  follower  true   3\n",
      "consul-server-5  b9c2c042-b161-3085-f417-d5739e6cbb50  10.5.0.5:8300  follower  false  3\n",
      "consul-server-4  21c6c18d-b89d-edca-4f8e-011cbb244036  10.5.0.6:8300  follower  true   3\n",
      "consul-server-3  524afd65-feea-79f2-1431-09b6dbbb8c05  10.5.0.7:8300  follower  false  3\n"
     ]
    }
   ],
   "source": [
    "consul operator raft list-peers"
   ]
  },
  {
   "cell_type": "markdown",
   "id": "e01b2825-a12f-4e5c-86f6-30ed221fb105",
   "metadata": {},
   "source": [
    "```shell\n",
    "Node             ID                                    Address        State     Voter  RaftProtocol\n",
    "consul-server-0  bf8054d2-57da-128c-1a0e-b81ab694105d  10.5.0.2:8300  leader    true   3\n",
    "consul-server-2  3c60ff6c-3836-9f3a-627c-80370f71b172  10.5.0.4:8300  follower  true   3\n",
    "consul-server-5  b9c2c042-b161-3085-f417-d5739e6cbb50  10.5.0.5:8300  follower  false  3\n",
    "consul-server-4  21c6c18d-b89d-edca-4f8e-011cbb244036  10.5.0.6:8300  follower  true   3   <==---\n",
    "consul-server-3  524afd65-feea-79f2-1431-09b6dbbb8c05  10.5.0.7:8300  follower  false  3\n",
    "```\n",
    "\n",
    "* `consul-server-4` from `zone1` is now a voter"
   ]
  },
  {
   "cell_type": "markdown",
   "id": "e486555e-47c7-4f15-9bec-6f9aa6673e6b",
   "metadata": {},
   "source": [
    "Once `server-server-4` gets promoted as a voter you can start Consul on `consul-server-1` again and verify the one voter per redundancy zone rule is still respected."
   ]
  },
  {
   "cell_type": "code",
   "execution_count": 92,
   "id": "4c5220f2-4acb-4a04-8687-4c6dde5cdbde",
   "metadata": {},
   "outputs": [
    {
     "name": "stdout",
     "output_type": "stream",
     "text": [
      "consul-server-1\n"
     ]
    }
   ],
   "source": [
    "docker start consul-server-1"
   ]
  },
  {
   "cell_type": "code",
   "execution_count": 93,
   "id": "17bc25fb-1027-4348-b5d5-8b380338411e",
   "metadata": {},
   "outputs": [
    {
     "name": "stdout",
     "output_type": "stream",
     "text": [
      "Node             ID                                    Address        State     Voter  RaftProtocol\n",
      "consul-server-0  bf8054d2-57da-128c-1a0e-b81ab694105d  10.5.0.2:8300  leader    true   3\n",
      "consul-server-2  3c60ff6c-3836-9f3a-627c-80370f71b172  10.5.0.4:8300  follower  true   3\n",
      "consul-server-5  b9c2c042-b161-3085-f417-d5739e6cbb50  10.5.0.5:8300  follower  false  3\n",
      "consul-server-4  21c6c18d-b89d-edca-4f8e-011cbb244036  10.5.0.6:8300  follower  true   3\n",
      "consul-server-3  524afd65-feea-79f2-1431-09b6dbbb8c05  10.5.0.7:8300  follower  false  3\n",
      "consul-server-1  d7e82aa0-2fa0-9308-5970-44e839786d2b  10.5.0.3:8300  follower  false  3\n"
     ]
    }
   ],
   "source": [
    "consul operator raft list-peers"
   ]
  },
  {
   "cell_type": "markdown",
   "id": "030a6066-b271-44aa-a71e-e618b0132e34",
   "metadata": {},
   "source": [
    "```shell\n",
    "Node             ID                                    Address        State     Voter  RaftProtocol\n",
    "consul-server-0  bf8054d2-57da-128c-1a0e-b81ab694105d  10.5.0.2:8300  leader    true   3\n",
    "consul-server-2  3c60ff6c-3836-9f3a-627c-80370f71b172  10.5.0.4:8300  follower  true   3\n",
    "consul-server-5  b9c2c042-b161-3085-f417-d5739e6cbb50  10.5.0.5:8300  follower  false  3\n",
    "consul-server-4  21c6c18d-b89d-edca-4f8e-011cbb244036  10.5.0.6:8300  follower  true   3\n",
    "consul-server-3  524afd65-feea-79f2-1431-09b6dbbb8c05  10.5.0.7:8300  follower  false  3\n",
    "consul-server-1  d7e82aa0-2fa0-9308-5970-44e839786d2b  10.5.0.3:8300  follower  false  3   <==---\n",
    "```\n",
    "\n",
    "* `consul-server` is up as a `follower`, but is no longer a `voter`."
   ]
  },
  {
   "cell_type": "markdown",
   "id": "c1b0b59a-8433-4868-b83a-b17baa938370",
   "metadata": {},
   "source": [
    "Stop consul-server-3 consul-server-4 consul-server-5"
   ]
  },
  {
   "cell_type": "code",
   "execution_count": 94,
   "id": "f04f9796-e0e8-4567-8a9e-f150d036c154",
   "metadata": {},
   "outputs": [
    {
     "name": "stdout",
     "output_type": "stream",
     "text": [
      "Stopping consul-server-3 ... \n",
      "Stopping consul-server-5 ... \n",
      "Stopping consul-server-4 ... \n",
      "\u001b[2Bping consul-server-5 ... \u001b[32mdone\u001b[0m"
     ]
    }
   ],
   "source": [
    "docker-compose -f docker-compose-hashi.yml stop \\\n",
    "  consul-server-3 consul-server-4 consul-server-5"
   ]
  },
  {
   "cell_type": "code",
   "execution_count": 98,
   "id": "886e60dc-13f9-4604-8d76-d283401f2eab",
   "metadata": {},
   "outputs": [
    {
     "name": "stdout",
     "output_type": "stream",
     "text": [
      "Node             ID                                    Address        State     Voter  RaftProtocol\n",
      "consul-server-0  bf8054d2-57da-128c-1a0e-b81ab694105d  10.5.0.2:8300  leader    true   3\n",
      "consul-server-2  3c60ff6c-3836-9f3a-627c-80370f71b172  10.5.0.4:8300  follower  true   3\n",
      "consul-server-1  d7e82aa0-2fa0-9308-5970-44e839786d2b  10.5.0.3:8300  follower  true   3\n"
     ]
    }
   ],
   "source": [
    "consul operator raft list-peers"
   ]
  },
  {
   "cell_type": "markdown",
   "id": "35e87535-57a9-4f2d-bbc9-6cf467551d7f",
   "metadata": {},
   "source": [
    "## Debug - Network"
   ]
  },
  {
   "cell_type": "code",
   "execution_count": 39,
   "id": "10c9bc6c-a8c4-4cbf-bc9a-0b4b9609d1d9",
   "metadata": {},
   "outputs": [
    {
     "name": "stdout",
     "output_type": "stream",
     "text": [
      "consul-server-0\n",
      "PING consul-server-1 (10.5.0.3) 56(84) bytes of data.\n",
      "\n",
      "--- consul-server-1 ping statistics ---\n",
      "1 packets transmitted, 1 received, 0% packet loss, time 0ms\n",
      "rtt min/avg/max/mdev = 0.260/0.260/0.260/0.000 ms\n",
      "PING consul-server-2 (10.5.0.4) 56(84) bytes of data.\n",
      "\n",
      "--- consul-server-2 ping statistics ---\n",
      "1 packets transmitted, 1 received, 0% packet loss, time 0ms\n",
      "rtt min/avg/max/mdev = 0.218/0.218/0.218/0.000 ms\n"
     ]
    }
   ],
   "source": [
    "docker exec -i consul-server-0 sh <<EOM\n",
    "hostname\n",
    "ping -qc 1 consul-server-1\n",
    "ping -qc 1 consul-server-2\n",
    "EOM"
   ]
  },
  {
   "cell_type": "markdown",
   "id": "730ff5eb-79bc-4397-9176-050f747bc459",
   "metadata": {},
   "source": [
    "### docker-compose restart"
   ]
  },
  {
   "cell_type": "code",
   "execution_count": 16,
   "id": "43cda94f-a4f6-4f52-8ea7-d71cf53fbe74",
   "metadata": {},
   "outputs": [
    {
     "name": "stdout",
     "output_type": "stream",
     "text": [
      "Restarting consul-server-0 ... \n",
      "Restarting consul-server-1 ... \n",
      "\u001b[2Barting consul-server-0 ... \u001b[32mdone\u001b[0m"
     ]
    }
   ],
   "source": [
    "docker-compose -f docker-compose-hashi.yml restart"
   ]
  },
  {
   "cell_type": "markdown",
   "id": "b7a21249-5d31-43bf-9fca-be58c3660190",
   "metadata": {},
   "source": [
    "### docker-compose down"
   ]
  },
  {
   "cell_type": "code",
   "execution_count": 2,
   "id": "e654ef17-05db-431d-ad21-d456a28584fc",
   "metadata": {},
   "outputs": [
    {
     "name": "stdout",
     "output_type": "stream",
     "text": [
      "Removing consul-server-1 ... \n",
      "Removing consul-server-0 ... \n",
      "\u001b[1BRemoving network monitoring_vpcbre\u001b[0m\n"
     ]
    }
   ],
   "source": [
    "docker-compose -f docker-compose-hashi.yml down"
   ]
  },
  {
   "cell_type": "markdown",
   "id": "8c1bb1c2-3d5f-45d0-b6de-6555dc48fe59",
   "metadata": {},
   "source": [
    "### Restart Vault Cluster"
   ]
  },
  {
   "cell_type": "code",
   "execution_count": 70,
   "id": "875df0ba-6ed8-47b7-aa2f-e0ab5fddd8d9",
   "metadata": {},
   "outputs": [
    {
     "name": "stdout",
     "output_type": "stream",
     "text": [
      "Restarting vault_s3 ... \n",
      "Restarting vault_s2 ... \n",
      "Restarting vault_s1 ... \n",
      "\u001b[1Barting vault_s1 ... \u001b[32mdone\u001b[0m"
     ]
    }
   ],
   "source": [
    "docker-compose -f docker-compose-hashi.yml restart vault_s1 vault_s2 vault_s3"
   ]
  },
  {
   "cell_type": "markdown",
   "id": "ed679c5e-4191-4414-90ab-ddad9681482e",
   "metadata": {},
   "source": [
    "## Apps"
   ]
  },
  {
   "cell_type": "code",
   "execution_count": 59,
   "id": "d789509b-4e45-4975-ad53-d112e9e57c58",
   "metadata": {},
   "outputs": [
    {
     "name": "stdout",
     "output_type": "stream",
     "text": [
      "Pulling db (hashicorpdemoapp/product-api-db:v0.0.17)...\n",
      "v0.0.17: Pulling from hashicorpdemoapp/product-api-db\n",
      "\n",
      "\u001b[1B0fa6465e: Pulling fs layer\n",
      "\u001b[1B899232ff: Pulling fs layer\n",
      "\u001b[1B0476b7ab: Pulling fs layer\n",
      "\u001b[1B470eb370: Pulling fs layer\n",
      "\u001b[1Bdb6dc34b: Pulling fs layer\n",
      "\u001b[1B17c35d15: Pulling fs layer\n",
      "\u001b[1B905f4f68: Pulling fs layer\n",
      "\u001b[1B0687a25d: Pulling fs layer\n",
      "\u001b[1B8fa32d04: Pulling fs layer\n",
      "\u001b[1B46436326: Pulling fs layer\n",
      "\u001b[1Bff7aa983: Pulling fs layer\n",
      "\u001b[1B8b11efac: Pulling fs layer\n",
      "\u001b[1Bc1b58fc3: Pulling fs layer\n",
      "\u001b[1B9244105e: Pulling fs layer\n",
      "Digest: sha256:c3e8ca2ba549ecbfe59a7d161995d844180b491e312695569b8e401ccdce5b74 1.043kB/1.043kBB\n",
      "Status: Downloaded newer image for hashicorpdemoapp/product-api-db:v0.0.17\n",
      "vault_s1 is up-to-date\n",
      "consul-server-2 is up-to-date\n",
      "consul-server-0 is up-to-date\n",
      "Recreating db ... \n",
      "vault_s3 is up-to-date\n",
      "vault_s2 is up-to-date\n",
      "consul-server-1 is up-to-date\n",
      "consul-agent-0 is up-to-date\n",
      "\u001b[1Beating db ... \u001b[32mdone\u001b[0m"
     ]
    }
   ],
   "source": [
    "docker-compose -f docker-compose-hashi.yml -f docker-compose-app.yml up -d"
   ]
  },
  {
   "cell_type": "markdown",
   "id": "d93c15db-85d3-4dfd-96ba-a1813ea1bd2b",
   "metadata": {},
   "source": [
    "## Vault DB"
   ]
  },
  {
   "cell_type": "code",
   "execution_count": 60,
   "id": "e6178669-8891-4c86-b704-e8b228bf3138",
   "metadata": {},
   "outputs": [
    {
     "name": "stdout",
     "output_type": "stream",
     "text": [
      "\u001b[0mSuccess! Enabled the database secrets engine at: database/\u001b[0m\n",
      "\u001b[0mSuccess! Data written to: database/roles/benchmarking\u001b[0m\n",
      "\u001b[0mKey                Value\n",
      "---                -----\n",
      "lease_id           database/creds/benchmarking/sSerDQhyjqbBD5LvqIRu5yPK\n",
      "lease_duration     24h\n",
      "lease_renewable    true\n",
      "password           PGBO-kfIxvnas7OFNz-7\n",
      "username           v-root-benchmar-ZTzumhwHC2WO7aXplc08-1636742131\u001b[0m\n"
     ]
    }
   ],
   "source": [
    "# This script configures a Postgres Dynamic Database credential database for benchmarking\n",
    "vault secrets enable database\n",
    "\n",
    "vault write database/config/postgres \\\n",
    "  plugin_name=postgresql-database-plugin \\\n",
    "  allowed_roles=\"*\" \\\n",
    "  connection_url=\"postgresql://{{username}}:{{password}}@db:5432/products?sslmode=disable\" \\\n",
    "  username=\"postgres\" \\\n",
    "  password=\"password\"\n",
    "\n",
    "vault write database/roles/benchmarking \\\n",
    "    db_name=postgres \\\n",
    "    creation_statements=\"CREATE ROLE \\\"{{name}}\\\" WITH LOGIN PASSWORD '{{password}}' VALID UNTIL '{{expiration}}'; \\\n",
    "        GRANT SELECT ON ALL TABLES IN SCHEMA public TO \\\"{{name}}\\\";\" \\\n",
    "    default_ttl=\"24h\" \\\n",
    "    max_ttl=\"48h\"\n",
    "\n",
    "vault read database/creds/benchmarking"
   ]
  },
  {
   "cell_type": "markdown",
   "id": "8d235065-23cb-49a9-a039-ddfb93f74f02",
   "metadata": {},
   "source": [
    "Admin token (optional): You may prefer using an admin token instead of root (for example if you’re using an existing cluster). If so, create an admin token using the vault-admin.hcl policy file shown below. This admin policy is authored based on the Vault Policies guide."
   ]
  },
  {
   "cell_type": "code",
   "execution_count": null,
   "id": "000e6b1c-2bab-410f-aff0-6c52faccddae",
   "metadata": {},
   "outputs": [],
   "source": [
    "# Assuming that VAULT_TOKEN is set with root or higher Admin token\n",
    "vault policy write learn-admin admin-policy.hcl\n",
    "vault token create -policy=learn-adminexport\n",
    "VAULT_TOKEN=<token-from-above command>\n",
    "vault token lookup"
   ]
  },
  {
   "cell_type": "code",
   "execution_count": 111,
   "id": "8b9a0297-9e32-4e04-8110-aba8ebef2502",
   "metadata": {},
   "outputs": [
    {
     "name": "stdout",
     "output_type": "stream",
     "text": [
      "Node            Address         Status  Type    Build   Protocol  DC   Segment\n",
      "ConsulServer0   10.5.0.2:8301   alive   server  1.10.4  2         dc1  <all>\n",
      "ConsulServer1   10.5.0.3:8301   alive   server  1.10.4  2         dc1  <all>\n",
      "ConsulServer2   10.5.0.4:8301   alive   server  1.10.4  2         dc1  <all>\n",
      "consul-agent-0  10.5.0.12:8301  alive   client  1.10.4  2         dc1  <default>\n",
      "Node           ID                                    Address        State     Voter  RaftProtocol\n",
      "ConsulServer2  09a93096-bcd7-2841-1bcd-3dcbdf2f4efb  10.5.0.4:8300  leader    true   3\n",
      "ConsulServer1  6076ceb7-6135-7beb-ef21-ca31e271b705  10.5.0.3:8300  follower  true   3\n",
      "ConsulServer0  b771e8f4-fbf8-bd7d-32ac-25389354602f  10.5.0.2:8300  follower  true   3\n",
      "CleanupDeadServers = true\n",
      "LastContactThreshold = 200ms\n",
      "MaxTrailingLogs = 250\n",
      "MinQuorum = 0\n",
      "ServerStabilizationTime = 10s\n",
      "RedundancyZoneTag = \"\"\n",
      "DisableUpgradeMigration = false\n",
      "UpgradeVersionTag = \"\"\n",
      "\u001b[0mNode        Address            State       Voter\n",
      "----        -------            -----       -----\n",
      "vault_s1    10.5.0.101:8201    leader      true\n",
      "vault_s2    10.5.0.102:8201    follower    true\n",
      "vault_s3    10.5.0.103:8201    follower    true\u001b[0m\n"
     ]
    }
   ],
   "source": [
    "consul members\n",
    "consul operator raft list-peers\n",
    "consul operator autopilot get-config\n",
    "vault operator raft list-peers"
   ]
  }
 ],
 "metadata": {
  "kernelspec": {
   "display_name": "Bash",
   "language": "bash",
   "name": "bash"
  },
  "language_info": {
   "codemirror_mode": "shell",
   "file_extension": ".sh",
   "mimetype": "text/x-sh",
   "name": "bash"
  }
 },
 "nbformat": 4,
 "nbformat_minor": 5
}
