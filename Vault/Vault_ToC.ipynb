{
 "cells": [
  {
   "cell_type": "markdown",
   "id": "32a2c37f-0c64-4384-bdff-e7e1929c9b65",
   "metadata": {},
   "source": [
    "# Vault"
   ]
  },
  {
   "cell_type": "markdown",
   "id": "5a780424-18c7-4d1f-81be-f5ed47813b18",
   "metadata": {},
   "source": [
    "This is a summary that you can follow to progress through the labs for demos, PoV's, etc."
   ]
  },
  {
   "cell_type": "markdown",
   "id": "2fcb1867-fe24-4ef7-a819-eac43efc8419",
   "metadata": {},
   "source": [
    "## Vault\n",
    "\n",
    "1. Baseline\n",
    "    * [Setup Vault (Recommended)](01-baseline/100-Setup-Vault.ipynb)\n",
    "\t* [Setup Auth Methods - LDAP, Userpass, AppRole](01-baseline/110-Setup-Authmethods.ipynb)\n",
    "\t\n",
    "1. Auth Methods - Advanced\n",
    "    * [Userpass - Allow password change](01-baseline/vault_userpass_pw_change.ipynb)\n",
    "1. Dynamic Secrets\n",
    "    * [Database Dynamic Secrets](02-DBSecretsEngine/02-DBSecretEngine-Dynamic.ipynb)\n",
    "    * [AWS Dynamic Secrets](UCV07-AWSSecrets.ipynb)\n",
    "\t* [Terraform Secrets Engine](vault_terraform_secrets_engine.ipynb)\n",
    "1. HCP Vault\n",
    "    * [HCP Vault Provision](HCPVault_100.ipynb)\n",
    "1. Userpass\n",
    "\t* [Allow UserPass User to Update Password](01-baseline/vault_userpass_pw_change.ipynb)\n",
    "1. Transit Secrets Engine\n",
    "    * [Example Application using Transit and Database](07-Transit/720-Transit-App.ipynb)\n",
    "\t* [Sign and Verify](07-Transit/vault_transit_advanced.ipynb)\n",
    "1. Kubernetes\n",
    "    * [Vault Kubernetes Setup](08-Kubernetes/800_vault_kubernetes_setup.ipynb)\n",
    "    * [Vault Kubernetes Injection Sidecar](08-Kubernetes/vault_kubernetes-sidecar.ipynb)\n",
    "1. Operations - Advanced\n",
    "    * [Tokens and Policies](5_VaultTokensAndPolicies.ipynb)"
   ]
  },
  {
   "cell_type": "markdown",
   "id": "dcbf4008-b281-418a-8f56-1211b711d79a",
   "metadata": {},
   "source": [
    "* [hashicat-aws](https://github.com/hashicorp/hashicat-aws)"
   ]
  },
  {
   "cell_type": "markdown",
   "id": "f75006ac-81c3-4082-bc24-348b3a3eac59",
   "metadata": {},
   "source": [
    "## More\n",
    "\n",
    "<details><summary></summary>\n",
    "\n",
    "</details>\n",
    "\n",
    "* [Onboarding Applications to Vault Using Terraform — a Practical Guide](https://medium.com/hashicorp-engineering/onboarding-applications-to-vault-using-terraform-a-practical-guide-379b99b14271)\n",
    "* [Essential Patterns of Vault - Part 1](https://medium.com/hashicorp-engineering/essential-elements-of-vault-part-1-5a64d3de3be8)\n",
    "* [Essential Patterns of Vault - Part 2](https://medium.com/hashicorp-engineering/essential-patterns-of-vault-part-2-b4d34976f1dc)\n",
    "* [Monitor HashiCorp Vault metrics and logs](https://www.datadoghq.com/blog/monitor-vault-metrics-and-logs/)"
   ]
  },
  {
   "cell_type": "markdown",
   "id": "4af2ae87-3768-4e15-a97b-90945eb71321",
   "metadata": {},
   "source": [
    "## Advanced\n",
    "\n",
    "<details><summary></summary>\n",
    "\n",
    "\n",
    "</details>\n",
    "\n",
    "* "
   ]
  },
  {
   "cell_type": "markdown",
   "id": "2f345fb4-e51d-43b3-9ce8-d63a0d9d12e2",
   "metadata": {},
   "source": [
    "## Resources\n",
    "\n",
    "* https://status.hashicorp.com/\n",
    "* https://sequencediagram.org/\n",
    "* [Rover - Terraform Visualizer](https://github.com/im2nguyen/rover)"
   ]
  },
  {
   "cell_type": "code",
   "execution_count": null,
   "id": "7dff693f-62dc-4aca-9f5e-d2773172763e",
   "metadata": {},
   "outputs": [],
   "source": []
  }
 ],
 "metadata": {
  "kernelspec": {
   "display_name": "Bash",
   "language": "bash",
   "name": "bash"
  },
  "language_info": {
   "codemirror_mode": "shell",
   "file_extension": ".sh",
   "mimetype": "text/x-sh",
   "name": "bash"
  }
 },
 "nbformat": 4,
 "nbformat_minor": 5
}
