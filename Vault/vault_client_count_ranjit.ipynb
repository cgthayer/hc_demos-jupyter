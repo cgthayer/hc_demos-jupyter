{
 "cells": [
  {
   "cell_type": "markdown",
   "id": "b609b35d-2e9b-4070-bc38-2f9868032885",
   "metadata": {},
   "source": [
    "# Vault Client Count based on Ranjit\n",
    "\n",
    "[GitHub - WhatsARanjit/vault-counter](https://github.com/WhatsARanjit/vault-counter)"
   ]
  },
  {
   "cell_type": "markdown",
   "id": "3d03dc6b-b85a-4c61-a6eb-73a0c3fe6660",
   "metadata": {},
   "source": [
    "## Overview\n",
    "\n",
    "Simple container script to run and count HashiCorp Vault entities, roles/users, and tokens created without entities. The script will drill into child namespaces below the supplied namespace input.\n",
    "\n",
    "This tutorial will also help you start up a Vault server and fill it synthetically with tokens and entities. You can skip straight to the Get Count section."
   ]
  },
  {
   "cell_type": "markdown",
   "id": "5be0275e-655b-406f-89c3-b69ff38873a1",
   "metadata": {},
   "source": [
    "## Prerequisites"
   ]
  },
  {
   "cell_type": "markdown",
   "id": "d33c06b1-c0be-4930-8518-6b8e6275d9ab",
   "metadata": {},
   "source": [
    "* Software and versions\n",
    "* Credentials\n",
    "* Hardware"
   ]
  },
  {
   "cell_type": "markdown",
   "id": "d9fa4eb9-9b4f-4301-9ef4-a8882e29bbe8",
   "metadata": {},
   "source": [
    "### Set Main Environment Variables"
   ]
  },
  {
   "cell_type": "code",
   "execution_count": null,
   "id": "81ad4ba0-3337-439b-9976-a202ff2fece8",
   "metadata": {},
   "outputs": [],
   "source": [
    "export RED=\"\\e[0;31m\" YELLOW=\"\\e[0;33m\" BLDYELLOW=\"\\e[1;33m\" GREEN=\"\\e[0;32m\"\n",
    "export CYAN=\"\\e[0;36m\" BLUE=\"\\e[0;34m\" WHITE=\"\\e[0;37m\" BLDWHITE=\"\\e[1;37m\"\n",
    "export NC=\"\\e[0m\"\n",
    "# Some commands may have sensitive information. Prevent commands starting with a space to be saved to shell history.\n",
    "HISTCONTROL=ignoreboth # do not save lines that begin with space in history\n",
    "\n",
    "printf \"${GREEN}# Set MAIN_DIR for future reference.${NC}\\n\"\n",
    "export MAIN_DIR=${PWD}"
   ]
  },
  {
   "cell_type": "markdown",
   "id": "2c6b0b1b-73c9-49ff-a5fb-96b9cab8fa76",
   "metadata": {},
   "source": [
    "Be sure to replace `VAULT_ADDR` with your own values."
   ]
  },
  {
   "cell_type": "code",
   "execution_count": 5,
   "id": "1943db07-e595-4ab9-a384-fa1786e0a200",
   "metadata": {},
   "outputs": [
    {
     "name": "stdout",
     "output_type": "stream",
     "text": [
      "\u001b[0;32m# Set Vault Variables.\u001b[0m\n",
      "cat: ../../license/vault.hclic: No such file or directory\n",
      "\u001b[?2004h\u001b[?2004l\u001b[?2004l\u001b[?2004l"
     ]
    },
    {
     "ename": "",
     "evalue": "1",
     "output_type": "error",
     "traceback": []
    }
   ],
   "source": [
    "printf \"${GREEN}# Set Vault Variables.${NC}\\n\"\n",
    "export VAULT_PORT=8200\n",
    "export VAULT_TOKEN=root\n",
    "export VAULT_ADDR=http://localhost:${VAULT_PORT}\n",
    "# export VAULT_LICENSE=$(cat ../../license/vault.hclic)\n",
    "# Set dir env vars. Create required directory.\n",
    "WORK_DIR=config/vault\n",
    "mkdir -p config/vault/{data,logs,config}"
   ]
  },
  {
   "cell_type": "markdown",
   "id": "c6244221-3144-408f-bdb8-89ad341de968",
   "metadata": {},
   "source": [
    "## Steps"
   ]
  },
  {
   "cell_type": "markdown",
   "id": "d53db1b2-4725-48d3-9008-98c9a3139588",
   "metadata": {},
   "source": [
    "### Start Vault Server in Dev Mode"
   ]
  },
  {
   "cell_type": "markdown",
   "id": "df46c6d1-1ddf-4284-91dc-c11cc0ad6b9e",
   "metadata": {
    "tags": []
   },
   "source": [
    "Start the vault process in the background."
   ]
  },
  {
   "cell_type": "code",
   "execution_count": null,
   "id": "c9fa692e-1012-4332-b65a-0ae66e8a9a16",
   "metadata": {},
   "outputs": [],
   "source": [
    "docker run -d --rm --name vault \\\n",
    "    --cap-add IPC_LOCK \\\n",
    "    -p 8200:8200 \\\n",
    "    -e 'VAULT_DEV_ROOT_TOKEN_ID=root' \\\n",
    "    -e 'VAULT_DEV_LISTEN_ADDRESS=0.0.0.0:8200' \\\n",
    "    hashicorp/vault-enterprise:1.7.5_ent\n",
    "    # -e \"VAULT_ADDR=http://127.0.0.1:8200\" \\"
   ]
  },
  {
   "cell_type": "markdown",
   "id": "1895cca0-9bd3-4a05-8dee-46f5883623cd",
   "metadata": {},
   "source": [
    "Configure environment variables for connecting to Vault. We've set the dev mode root token to \"`root`\"."
   ]
  },
  {
   "cell_type": "code",
   "execution_count": 4,
   "id": "0656eb12-115e-4dba-a6e3-48f97609133c",
   "metadata": {},
   "outputs": [
    {
     "name": "stdout",
     "output_type": "stream",
     "text": [
      "\u001b[?2004h\u001b[?2004l\u001b[?2004l"
     ]
    },
    {
     "ename": "",
     "evalue": "1",
     "output_type": "error",
     "traceback": []
    }
   ],
   "source": [
    "export VAULT_ADDR=\"http://127.0.0.1:8200\"\n",
    "export VAULT_TOKEN=root"
   ]
  },
  {
   "cell_type": "markdown",
   "id": "a46d1d28-7040-421a-985c-f003d392a476",
   "metadata": {},
   "source": [
    "Check vault status"
   ]
  },
  {
   "cell_type": "code",
   "execution_count": 5,
   "id": "9277de9d-e1ec-467a-9bcd-8c33a3fd2c76",
   "metadata": {
    "tags": []
   },
   "outputs": [
    {
     "name": "stdout",
     "output_type": "stream",
     "text": [
      "\u001b[0mKey             Value\n",
      "---             -----\n",
      "Seal Type       shamir\n",
      "Initialized     true\n",
      "Sealed          false\n",
      "Total Shares    1\n",
      "Threshold       1\n",
      "Version         1.7.5+ent\n",
      "Storage Type    inmem\n",
      "Cluster Name    vault-cluster-fe242cc0\n",
      "Cluster ID      20323ab6-2b5e-3336-b71a-4cd9e39b1291\n",
      "HA Enabled      false\u001b[0m\n",
      "\u001b[?2004h"
     ]
    },
    {
     "ename": "",
     "evalue": "1",
     "output_type": "error",
     "traceback": []
    }
   ],
   "source": [
    "vault status"
   ]
  },
  {
   "cell_type": "markdown",
   "id": "bc209b08-dc6a-4ec0-aad3-cafcafa27dbb",
   "metadata": {},
   "source": [
    "### Create non-entity tokens"
   ]
  },
  {
   "cell_type": "markdown",
   "id": "89724c33-b43d-4804-92fc-d517c5edc00c",
   "metadata": {},
   "source": [
    "Create some tokens"
   ]
  },
  {
   "cell_type": "code",
   "execution_count": 8,
   "id": "04ddd6f6-c673-4ff2-a91b-e03e12b496ee",
   "metadata": {},
   "outputs": [
    {
     "name": "stdout",
     "output_type": "stream",
     "text": [
      "\u001b[?2004h\u001b[?2004l\u001b[?2004l"
     ]
    },
    {
     "ename": "",
     "evalue": "1",
     "output_type": "error",
     "traceback": []
    }
   ],
   "source": [
    "for i in {1..30}; do\n",
    "    vault token create -policy=my-policy -policy=other-policy > /dev/null 2>&1\n",
    "done"
   ]
  },
  {
   "cell_type": "markdown",
   "id": "f8a2982f-7cff-4a36-8b13-15c46c9ac2c7",
   "metadata": {},
   "source": [
    "### Userpass"
   ]
  },
  {
   "cell_type": "code",
   "execution_count": 53,
   "id": "5b521f07-b0d6-4b13-9ee7-fd3f37935bad",
   "metadata": {},
   "outputs": [
    {
     "name": "stdout",
     "output_type": "stream",
     "text": [
      "\u001b[0mSuccess! Enabled userpass auth method at: userpass/\u001b[0m\n",
      "\u001b[?2004h"
     ]
    },
    {
     "ename": "",
     "evalue": "1",
     "output_type": "error",
     "traceback": []
    }
   ],
   "source": [
    "vault auth enable userpass"
   ]
  },
  {
   "cell_type": "markdown",
   "id": "aaac651a-9f07-4419-91cd-9641a46469c6",
   "metadata": {},
   "source": [
    "Create User and login"
   ]
  },
  {
   "cell_type": "code",
   "execution_count": null,
   "id": "d4fc8ef3-05b7-4527-9507-93fa0f9fb92a",
   "metadata": {},
   "outputs": [],
   "source": [
    "for i in {10..19}; do\n",
    "    vault write auth/userpass/users/user${i} password=\"password${i}\" policies=\"default\"\n",
    "    vault login -method=userpass username=user${i} password=password${i}\n",
    "done"
   ]
  },
  {
   "cell_type": "markdown",
   "id": "8169b70f-4beb-4879-b1ab-50e9f4b08b60",
   "metadata": {},
   "source": [
    "Create AppRole but don't login"
   ]
  },
  {
   "cell_type": "code",
   "execution_count": 56,
   "id": "06f811c6-8878-472d-b943-216cb2b93049",
   "metadata": {},
   "outputs": [
    {
     "name": "stdout",
     "output_type": "stream",
     "text": [
      "\u001b[0mSuccess! Data written to: auth/userpass/users/user20\u001b[0m\n",
      "\u001b[0mSuccess! Data written to: auth/userpass/users/user21\u001b[0m\n",
      "\u001b[0mSuccess! Data written to: auth/userpass/users/user22\u001b[0m\n",
      "\u001b[0mSuccess! Data written to: auth/userpass/users/user23\u001b[0m\n",
      "\u001b[0mSuccess! Data written to: auth/userpass/users/user24\u001b[0m\n",
      "\u001b[0mSuccess! Data written to: auth/userpass/users/user25\u001b[0m\n",
      "\u001b[0mSuccess! Data written to: auth/userpass/users/user26\u001b[0m\n",
      "\u001b[0mSuccess! Data written to: auth/userpass/users/user27\u001b[0m\n",
      "\u001b[0mSuccess! Data written to: auth/userpass/users/user28\u001b[0m\n",
      "\u001b[0mSuccess! Data written to: auth/userpass/users/user29\u001b[0m\n",
      "\u001b[?2004h"
     ]
    },
    {
     "ename": "",
     "evalue": "1",
     "output_type": "error",
     "traceback": []
    }
   ],
   "source": [
    "for i in {20..29}; do\n",
    "    vault write auth/userpass/users/user${i} password=\"password${i}\" policies=\"default\"\n",
    "done"
   ]
  },
  {
   "cell_type": "markdown",
   "id": "a7b2b349-6cda-4497-bd68-6d4a428d735c",
   "metadata": {},
   "source": [
    "### AppRole"
   ]
  },
  {
   "cell_type": "markdown",
   "id": "d7a43286-ce01-4bc1-aba9-70aebc723727",
   "metadata": {},
   "source": [
    "Create AppRole and login"
   ]
  },
  {
   "cell_type": "code",
   "execution_count": 9,
   "id": "fe789f49-d043-45d1-b90d-bf80fa2a82a3",
   "metadata": {},
   "outputs": [
    {
     "name": "stdout",
     "output_type": "stream",
     "text": [
      "\u001b[0mSuccess! Enabled approle auth method at: approle/\u001b[0m\n",
      "\u001b[?2004h"
     ]
    },
    {
     "ename": "",
     "evalue": "1",
     "output_type": "error",
     "traceback": []
    }
   ],
   "source": [
    "vault auth enable approle"
   ]
  },
  {
   "cell_type": "code",
   "execution_count": null,
   "id": "6b1a22db-1df8-4cdd-b77c-f42850166f32",
   "metadata": {},
   "outputs": [],
   "source": [
    "for i in {10..19}; do\n",
    "    vault write -f auth/approle/role/app${i}\n",
    "    vault write auth/approle/login \\\n",
    "    role_id=$(vault read -field=role_id auth/approle/role/app${i}/role-id) \\\n",
    "    secret_id=$(vault write -force -field=secret_id auth/approle/role/app${i}/secret-id)\n",
    "done"
   ]
  },
  {
   "cell_type": "markdown",
   "id": "d92a8cb6-dee7-49d1-a36c-e71f25fe8615",
   "metadata": {},
   "source": [
    "Create AppRole but don't login"
   ]
  },
  {
   "cell_type": "code",
   "execution_count": null,
   "id": "3e7f2e11-ee79-4a53-8ec1-c30947253195",
   "metadata": {},
   "outputs": [],
   "source": [
    "for i in {20..29}; do\n",
    "    vault write -f auth/approle/role/app${i}\n",
    "    vault write auth/approle/login \\\n",
    "    role_id=$(vault read -field=role_id auth/approle/role/app${i}/role-id) \\\n",
    "    secret_id=$(vault write -force -field=secret_id auth/approle/role/app${i}/secret-id)\n",
    "done"
   ]
  },
  {
   "cell_type": "markdown",
   "id": "bb65ba46-eb6c-4568-a4c5-40ccbc876f77",
   "metadata": {},
   "source": [
    "### Get Count"
   ]
  },
  {
   "cell_type": "code",
   "execution_count": 59,
   "id": "0937ea70-74e3-4ed0-8f8e-9d505f0fad97",
   "metadata": {},
   "outputs": [
    {
     "name": "stdout",
     "output_type": "stream",
     "text": [
      "Vault address: http://192.168.17.167:8200[?2004l\u001b[?2004l\n",
      "Namespace: root\n",
      "Total entities: 45\n",
      "Total users/roles: 55\n",
      "Total tokens: 138\n",
      "Total orphan tokens: 91\n",
      "\u001b[?2004h"
     ]
    },
    {
     "ename": "",
     "evalue": "1",
     "output_type": "error",
     "traceback": []
    }
   ],
   "source": [
    "docker run --rm \\\n",
    "    -e SKIP_ORPHAN_TOKENS=\"\" \\\n",
    "    -e VAULT_ADDR=http://$(ipconfig getifaddr en0):8200 \\\n",
    "    -e VAULT_TOKEN=$VAULT_TOKEN \\\n",
    "    -e VAULT_NAMESPACE=root \\\n",
    "    -e JSON_OUTPUT=\"\" \\\n",
    "    whatsaranjit/vault_counter:latest"
   ]
  },
  {
   "cell_type": "markdown",
   "id": "c09b2faf-9b43-4683-b62d-f315452b8bad",
   "metadata": {},
   "source": [
    "* `JSON_OUTPUT=\"\"` - Set to anything for json output\n",
    "* `SKIP_ORPHAN_TOKENS=\"\"` - Set to anything to skip inspecting each token to see if it is tied to an auth method. RECOMMENDED if you have lots of tokens.\n",
    "* `VAULT_ADDR` - The URL to your Vault server\n",
    "    * I'm using my Mac's IP for the `counter` container to reach the `vault` container.\n",
    "\n",
    "**TIPS**\n",
    "* Start with `SKIP_ORPHAN_TOKENS` enabled to get a feel for impact on system.\n",
    "* This script can take down a node that has lots of tokens and not enough HW resources."
   ]
  },
  {
   "cell_type": "markdown",
   "id": "8d1b2c01-1518-4e80-b49a-a041eedb4093",
   "metadata": {},
   "source": [
    "Sample Output\n",
    "```shell\n",
    "Vault address: http://192.168.17.167:8200\n",
    "Namespace: root/\n",
    "Total entities: 0\n",
    "Total users/roles: 30\n",
    "Total tokens: 91\n",
    "Total orphan tokens: 91\n",
    "```"
   ]
  },
  {
   "cell_type": "markdown",
   "id": "d053da45-1908-4653-a0d5-be8dc9cf8fcb",
   "metadata": {},
   "source": [
    "## Conclusion"
   ]
  },
  {
   "cell_type": "markdown",
   "id": "ecdb0c55-24c9-4567-8273-94f4c9713a93",
   "metadata": {},
   "source": [
    "When you want to purchase that cool Vault Enterprise solution. What one of the key factors for licensing is client count. Luckily for Vault 1.7 and higher, there are metrics built-in that can provide you the client count. For previous versions, there is a tool that can scan your audit logs, if you turned on audit logging. For everyone else, the vault_counter tool can provide you a client count."
   ]
  },
  {
   "cell_type": "markdown",
   "id": "f5caac96-1641-4fdd-bcb7-8358ca521803",
   "metadata": {},
   "source": [
    "## Clean up"
   ]
  },
  {
   "cell_type": "markdown",
   "id": "f231c34e-c40d-45bd-a1e3-5e1b4ee9dbeb",
   "metadata": {},
   "source": [
    "### Stop Vault container"
   ]
  },
  {
   "cell_type": "code",
   "execution_count": null,
   "id": "e85a5a74-ceff-42d7-bd8e-d4ad9a611b43",
   "metadata": {},
   "outputs": [],
   "source": [
    "docker stop vault\n",
    "docker rm vault"
   ]
  },
  {
   "cell_type": "markdown",
   "id": "22374c2d-e771-45e8-9c61-b095a053a943",
   "metadata": {},
   "source": [
    "### Remove Docker Image"
   ]
  },
  {
   "cell_type": "code",
   "execution_count": 60,
   "id": "be683c03-d9fc-424a-b161-dcc0e6668489",
   "metadata": {},
   "outputs": [
    {
     "name": "stdout",
     "output_type": "stream",
     "text": [
      "Untagged: whatsaranjit/vault_counter:latest\n",
      "Untagged: whatsaranjit/vault_counter@sha256:d5084d45ad330ee3a119d52d76149a1bbc2387355b0884c0da79ab7b6b2a6bb5\n",
      "Deleted: sha256:e6cdf41d9c7aedd1ebcfcef0a6d0335389e9aaa31baa379ef6dc5927f8032430\n",
      "Deleted: sha256:2b963b254ecbf4031f4202c59dcae555bea75e7cea5a47a98036b5d5befcb908\n",
      "Deleted: sha256:7eafc7cd20f8816b2279231a132565647fd79bf979bd0996f82f8269ae5b4174\n",
      "Deleted: sha256:e0dc89104fe4d9f7d3a3f540a104569b102b7892793f7d7aecb945681845f262\n",
      "Deleted: sha256:2aa359861e4a4e1e71516dcc22f1add1574fc7c91389f3210e18c26d6341bb06\n",
      "\u001b[?2004h"
     ]
    },
    {
     "ename": "",
     "evalue": "1",
     "output_type": "error",
     "traceback": []
    }
   ],
   "source": [
    "docker image rm whatsaranjit/vault_counter"
   ]
  },
  {
   "cell_type": "code",
   "execution_count": null,
   "id": "322e61c4-3162-4037-ad41-c95f3ab68ce9",
   "metadata": {},
   "outputs": [],
   "source": [
    "docker image rm vault"
   ]
  },
  {
   "cell_type": "markdown",
   "id": "98d63ea4-71af-4cf5-93ef-2e58505d8ca5",
   "metadata": {},
   "source": [
    "## Next steps"
   ]
  },
  {
   "cell_type": "markdown",
   "id": "e5c9c4be-35d0-493c-9566-1bc5b81ef1bc",
   "metadata": {},
   "source": [
    "### Misc Notes - Please disregard for now"
   ]
  },
  {
   "cell_type": "markdown",
   "id": "59074de9-f640-43ad-8111-2993c672bd85",
   "metadata": {},
   "source": [
    "List auth methods"
   ]
  },
  {
   "cell_type": "code",
   "execution_count": null,
   "id": "0299891c-2f6e-44f4-a2a5-7d6b8bed73af",
   "metadata": {
    "tags": []
   },
   "outputs": [],
   "source": [
    "curl -H \"X-Vault-Token: $VAULT_TOKEN\" $VAULT_ADDR/v1/sys/auth | jq"
   ]
  },
  {
   "cell_type": "markdown",
   "id": "f8d1ca56-b3e6-48ef-b805-2f61765cb7d1",
   "metadata": {},
   "source": []
  },
  {
   "cell_type": "code",
   "execution_count": 21,
   "id": "9ae0c5a5-0b88-41d0-bc12-e22fd80f09aa",
   "metadata": {},
   "outputs": [
    {
     "name": "stdout",
     "output_type": "stream",
     "text": [
      "{\"errors\":[]}04l\u001b[?2004l\u001b[?2004l\n",
      "\u001b[?2004h"
     ]
    },
    {
     "ename": "",
     "evalue": "1",
     "output_type": "error",
     "traceback": []
    }
   ],
   "source": [
    "curl \\\n",
    "--header \"X-Vault-Token: $VAULT_TOKEN\" \\\n",
    "--request LIST \\\n",
    "http://127.0.0.1:8200/v1/identity/entity/id"
   ]
  },
  {
   "cell_type": "code",
   "execution_count": 23,
   "id": "48299480-d788-43ba-81f2-737c52306bda",
   "metadata": {},
   "outputs": [
    {
     "name": "stdout",
     "output_type": "stream",
     "text": [
      "  % Total    % Received % Xferd  Average Speed   Time    Time     Time  Current\n",
      "                                 Dload  Upload   Total   Spent    Left  Speed\n",
      "100  1441  100  1441    0     0   156k      0 --:--:-- --:--:-- --:--:--  156k\n",
      "approle/\n",
      "token/\n",
      "\u001b[?2004h"
     ]
    },
    {
     "ename": "",
     "evalue": "1",
     "output_type": "error",
     "traceback": []
    }
   ],
   "source": [
    "curl -H \"X-Vault-Token: $VAULT_TOKEN\" --request LIST --request GET $VAULT_ADDR/v1/sys/auth | jq -r '.? | .[\"data\"] | keys[]'"
   ]
  }
 ],
 "metadata": {
  "kernelspec": {
   "display_name": "Bash",
   "language": "bash",
   "name": "bash"
  },
  "language_info": {
   "codemirror_mode": "shell",
   "file_extension": ".sh",
   "mimetype": "text/x-sh",
   "name": "bash"
  }
 },
 "nbformat": 4,
 "nbformat_minor": 5
}
