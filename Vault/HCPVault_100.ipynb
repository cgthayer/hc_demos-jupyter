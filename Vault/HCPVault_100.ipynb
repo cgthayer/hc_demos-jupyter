{
 "cells": [
  {
   "cell_type": "markdown",
   "id": "8fb9bf6f-cf8a-4848-902c-3accdac15c56",
   "metadata": {},
   "source": [
    "# Set up HCP Vault\n",
    "\n",
    "Sign up for HCP Vault if you haven't already: https://portal.cloud.hashicorp.com/\n",
    "\n",
    "In this guide, we will automate the creation of our enviroments. For this we will need HCP credentials for a Service Principal to use with Terraform."
   ]
  },
  {
   "cell_type": "markdown",
   "id": "0a394048-77f0-4fd9-ad67-8a9bc9222eda",
   "metadata": {},
   "source": [
    "## Required Credentials\n",
    "\n",
    "### HCP Vault Credentials\n",
    "\n",
    "After signing up to Hashicorp Cloud Platform.\n",
    "* Login at https://portal.cloud.hashicorp.com/sign-in\n",
    "* Go to **Access control (IAM)** -> **Service Principals**.\n",
    "* Create a Service Principal with the Contributor Role.\n",
    "  * Click \"**Create service principal**\" and provide the following info:\n",
    "\t* Name: eg `pphan`\n",
    "\t* Role: `Contributor`\n",
    "  * Click \"Create service principal\".\n",
    "* Create key for service principal.\n",
    "  * Click the service principal you just created.\n",
    "  * Click \"**Create service principle key**\".\n",
    "  * Save your \"**Client ID**\" and \"**Client secret**\". NOTE: You will not be able to see secret again.\n",
    "* Export these credentials as enviroment variables:\n",
    "```shell\n",
    "export HCP_CLIENT_ID=<YOUR_HCP_SERVICE_PRINCIPAL_ID>\n",
    "export HCP_CLIENT_SECRET=<YOU_HCP_SECRET_KEY>\n",
    "```"
   ]
  },
  {
   "cell_type": "code",
   "execution_count": null,
   "id": "57824007-1763-4842-a994-3ef0fb013c5a",
   "metadata": {},
   "outputs": [],
   "source": [
    "export HCP_CLIENT_ID=ZORhkMMPRN8ls6igRazYs5hUX8mlIRWS\n",
    "export HCP_CLIENT_SECRET=djchmSAdeBonqrBcuZgQ-Q1uPFw88vJg5Qe53mA04gwjoPatOfwdgqmjbskJ34L0"
   ]
  },
  {
   "cell_type": "markdown",
   "id": "33667340-865c-4c58-a4d5-deeb6a23433d",
   "metadata": {},
   "source": [
    "### AWS Credentials"
   ]
  },
  {
   "cell_type": "markdown",
   "id": "7c116137-0cc2-4e9d-a63f-67bcf92e40ef",
   "metadata": {},
   "source": [
    "`terraform` will use credentials set in your environment or through other means as described in the [Terraform documentation](https://www.terraform.io/docs/providers/aws/index.html#environment-variables). This guide will assume you are using the \"Environment Variables\" method.\n",
    "\n",
    "Add your AWS credentials as two environment variables.\n",
    "\n",
    "Set your `AWS_ACCESS_KEY_ID` and `AWS_SECRET_ACCESS_KEY` replacing `AAAAAA` with your own values."
   ]
  },
  {
   "cell_type": "code",
   "execution_count": null,
   "id": "8945e4f6-d5e2-42e7-ad44-aa2e65271187",
   "metadata": {},
   "outputs": [],
   "source": [
    "export AWS_ACCESS_KEY_ID=AAAAAA\n",
    "export AWS_SECRET_ACCESS_KEY=AAAAA"
   ]
  },
  {
   "cell_type": "markdown",
   "id": "fdaea8fe-ca63-432d-9ce8-f14402dd36bf",
   "metadata": {},
   "source": [
    "NOTE: If you use `doormat`, you can this method."
   ]
  },
  {
   "cell_type": "code",
   "execution_count": null,
   "id": "c6dc0348-ceb9-4d2c-a0c7-1f786ad06eef",
   "metadata": {},
   "outputs": [],
   "source": [
    "doormat --refresh && eval $(doormat aws -a se_demos_dev)"
   ]
  },
  {
   "cell_type": "markdown",
   "id": "d6eccdb3-3bf9-4940-b010-ef84d5ea35d2",
   "metadata": {},
   "source": [
    "## Terraform Vault HCP Setup\n",
    "\n",
    "This Terraform code will create:\n",
    "* HCP Vault cluster\n",
    "* along with the required vpcs, security groups, subnets, internet gateways, assocations, and peering"
   ]
  },
  {
   "cell_type": "markdown",
   "id": "6e876af3-0196-4f7e-b219-43e4cef4f9e8",
   "metadata": {},
   "source": [
    "### Pre-Requisites\n",
    "\n",
    "* Terraform ~>1.0"
   ]
  },
  {
   "cell_type": "markdown",
   "id": "db43baca-c6f2-4634-9267-2cffe6a95800",
   "metadata": {},
   "source": [
    "### Pick a Demo"
   ]
  },
  {
   "cell_type": "markdown",
   "id": "f86db9d5-55fc-49c9-aa6c-5b30f94748f6",
   "metadata": {},
   "source": [
    "At this point you get to choose your own adventure. There are a few repos that we can try out.\n",
    "\n",
    "Go to the demo you want to try out.\n",
    "\n",
    "* [terraform-vault-hcp-setup](#terraform-vault-hcp-setup)\n",
    "  * VPC Peering\n",
    "* [Andrew Demo](#Andrew-Demo)\n",
    "  * Transit Gateway, Bastion Host"
   ]
  },
  {
   "cell_type": "code",
   "execution_count": null,
   "id": "3c713fcd-7b1b-49f6-ba90-5c565245b77a",
   "metadata": {},
   "outputs": [],
   "source": [
    "export MAIN_DIR=$(pwd)\n",
    "export GIT_DIR=hcp-vault-demo\n",
    "export WORK_DIR=$MAIN_DIR/$GIT_DIR"
   ]
  },
  {
   "cell_type": "markdown",
   "id": "b59f5714-bf9c-4cb7-b63f-35fc55539266",
   "metadata": {},
   "source": [
    "### terraform-vault-hcp-setup"
   ]
  },
  {
   "cell_type": "code",
   "execution_count": null,
   "id": "4bde6b4b-6af1-479e-8091-fda0e5ee816e",
   "metadata": {},
   "outputs": [],
   "source": [
    "# rm -rf $WORK_DIR/*\n",
    "git clone https://github.com/kalenarndt/terraform-vault-hcp-setup $WORK_DIR"
   ]
  },
  {
   "cell_type": "code",
   "execution_count": null,
   "id": "7163e208-ef83-423f-8023-0498d0778776",
   "metadata": {},
   "outputs": [],
   "source": [
    "cd $WORK_DIR"
   ]
  },
  {
   "cell_type": "code",
   "execution_count": null,
   "id": "ab14301b-7f65-4985-b12c-25d1afc50996",
   "metadata": {},
   "outputs": [],
   "source": [
    "cat <<EOF > terraform.tfvars\n",
    "aws_product_tag     = \"vault\"\n",
    "aws_environment_tag = \"HCP\"\n",
    "aws_owner_tag       = \"pphan\"\n",
    "# hcp_client_secret   = \"myclientsecret\"\n",
    "# hcp_client_id       = \"myclientid\"\n",
    "EOF"
   ]
  },
  {
   "cell_type": "markdown",
   "id": "5479d6c3-538d-481b-abb9-a0617ab7e08a",
   "metadata": {},
   "source": [
    "Now we can run our terraform project. Skip to [Provision Resources](#Provision-Resources)."
   ]
  },
  {
   "cell_type": "markdown",
   "id": "03a4028f-d6b2-477f-930e-eb26b230a750",
   "metadata": {},
   "source": [
    "### Andrew Demo"
   ]
  },
  {
   "cell_type": "code",
   "execution_count": null,
   "id": "aa105c1f-15c9-4974-ab5b-185c2bb02b16",
   "metadata": {},
   "outputs": [],
   "source": [
    "rm -rf $WORK_DIR\n",
    "git clone https://github.com/Andrew-Klaas/hcp-vault-demo $WORK_DIR && cd $WORK_DIR"
   ]
  },
  {
   "cell_type": "markdown",
   "id": "e66f0dfe-b692-484f-a9a9-1a13061e8135",
   "metadata": {},
   "source": [
    "#### Andrew Demo terraform.vars"
   ]
  },
  {
   "cell_type": "code",
   "execution_count": null,
   "id": "6c56a6e1-d2cd-47e5-b4e1-0f2ec8d04b88",
   "metadata": {},
   "outputs": [],
   "source": [
    "cat <<EOF > terraform.tfvars\n",
    "region              = \"us-west-2\"\n",
    "az                  = \"us-west-2a\"\n",
    "\n",
    "//Instance Tags\n",
    "Name                = \"pphan\" #\"YOUR-NAME\"\n",
    "owner               = \"pphan@hashicorp.com\" # \"YOUR-EMAIL\"\n",
    "TTL                 = 48\n",
    "\n",
    "//Your public key will be uploaded to machine for SSH access\n",
    "public_key = \"$(cat ~/.ssh/id_rsa.pub)\" #\"ssh-rsa AA....\"\n",
    "\n",
    "EOF"
   ]
  },
  {
   "cell_type": "markdown",
   "id": "7be20a63-0317-4943-bfa8-e23e81d96edc",
   "metadata": {},
   "source": [
    "Now we can run our terraform project:"
   ]
  },
  {
   "cell_type": "markdown",
   "id": "cd7a09d9-65db-4931-a40a-46a4867983bb",
   "metadata": {},
   "source": [
    "### Provision Resources\n",
    "\n",
    "terraform init, plan, apply"
   ]
  },
  {
   "cell_type": "code",
   "execution_count": null,
   "id": "8de27dd5-e075-4d43-9790-81cd3af8bd37",
   "metadata": {},
   "outputs": [],
   "source": [
    "# if you have tfswitch and need to switch to v1.0+\n",
    "# tfswitch 1.0.0"
   ]
  },
  {
   "cell_type": "code",
   "execution_count": null,
   "id": "e306ce9f-d433-4871-b9d2-5cc5daf36f2a",
   "metadata": {},
   "outputs": [],
   "source": [
    "terraform init\n",
    "# terraform plan -input=false"
   ]
  },
  {
   "cell_type": "code",
   "execution_count": null,
   "id": "7a07b542-5817-460a-bb41-924f788dd7c9",
   "metadata": {
    "tags": []
   },
   "outputs": [],
   "source": [
    "terraform apply -input=false -auto-approve"
   ]
  },
  {
   "cell_type": "markdown",
   "id": "b4eae435-32f6-4006-b3d5-3995f07736fb",
   "metadata": {},
   "source": [
    "NOTE: Deploying a Vault Cluster can take 10 minutes."
   ]
  },
  {
   "cell_type": "markdown",
   "id": "77c2c34f-9910-442a-a1f7-dd1c9b509753",
   "metadata": {},
   "source": [
    "### Test Vault Functionality from Bastion Host\n",
    "\n",
    "> NOTE: This section only works with Andrew's Demo"
   ]
  },
  {
   "cell_type": "markdown",
   "id": "4d7e6fbd-69b8-4f52-b4bb-da7eb23a832e",
   "metadata": {},
   "source": [
    "SSH into your newly provisioned machine using the output from the apply.\n",
    "\n",
    "Sample Output\n",
    "```shell\n",
    "PUBLIC_IP = \"55.199.135.119\"\n",
    "VAULT_ADDR = \"https://demo-vault-cluster.private.vault.......63.aws.hashicorp.cloud:8200\"\n",
    "```"
   ]
  },
  {
   "cell_type": "markdown",
   "id": "c773b27f-b1ca-4866-a925-b4ae561fb089",
   "metadata": {},
   "source": [
    "Create a bash function to reduce typing for ssh command. We are not going to do host checking, which does not work well in Jupyter."
   ]
  },
  {
   "cell_type": "code",
   "execution_count": null,
   "id": "16ebec08-63b1-4073-8297-0d3168b8902a",
   "metadata": {},
   "outputs": [],
   "source": [
    "ssh_hcp() {\n",
    "  ssh -i ~/.ssh/id_rsa -o StrictHostKeyChecking=no ubuntu@$(terraform output -raw PUBLIC_IP) \"$@\"\n",
    "}"
   ]
  },
  {
   "cell_type": "markdown",
   "id": "a857579a-afcc-4233-b06a-c4ac1c4507a2",
   "metadata": {},
   "source": [
    "Run `vault status` on Bastion host."
   ]
  },
  {
   "cell_type": "code",
   "execution_count": null,
   "id": "d22bbc0b-671e-4a9b-9341-8a74da5bb77a",
   "metadata": {},
   "outputs": [],
   "source": [
    "ssh_hcp VAULT_ADDR=$(terraform output -raw VAULT_ADDR) vault status"
   ]
  },
  {
   "cell_type": "markdown",
   "id": "0735a432-2d85-49bb-a498-58047ccfa3b4",
   "metadata": {},
   "source": [
    "Sample Output\n",
    "```shell\n",
    "Key                      Value\n",
    "---                      -----\n",
    "Recovery Seal Type       shamir\n",
    "Initialized              true\n",
    "Sealed                   false\n",
    "Total Recovery Shares    1\n",
    "Threshold                1\n",
    "Version                  1.7.3+ent\n",
    "Storage Type             raft\n",
    "Cluster Name             vault-cluster-411134ac\n",
    "Cluster ID               9de2b307-b512-df16-1d7e-7347a08c95c7\n",
    "HA Enabled               true\n",
    "HA Cluster               https://172.25.17.216:8201\n",
    "HA Mode                  active\n",
    "Active Since             2021-07-15T14:46:19.053608784Z\n",
    "Raft Committed Index     980\n",
    "Raft Applied Index       980\n",
    "Last WAL                 269\n",
    "```"
   ]
  },
  {
   "cell_type": "code",
   "execution_count": null,
   "id": "af843f36-34d0-4cf5-8dd7-d50047a08126",
   "metadata": {},
   "outputs": [],
   "source": [
    "Run `vault secrets list` on Bastion host. Replace the value of `VAULT_TOKEN` with your own."
   ]
  },
  {
   "cell_type": "code",
   "execution_count": null,
   "id": "6b2f32be-717b-40bd-be29-705ffb941f5e",
   "metadata": {},
   "outputs": [],
   "source": [
    "ssh_hcp VAULT_ADDR=$(terraform output -raw VAULT_ADDR) VAULT_NAMESPACE=admin VAULT_TOKEN=s.BBB.CCC vault secrets list"
   ]
  },
  {
   "cell_type": "markdown",
   "id": "6d30623b-fc3a-4ed8-8a08-fa6a18b0f4da",
   "metadata": {},
   "source": [
    "You can grab the Vault Admin token from the HCP portal. You can also grab it from the Terraform state file. NOTE: Make sure you secure your state file. Admin tokens are valid for 6 hours."
   ]
  },
  {
   "cell_type": "markdown",
   "id": "6e06410a-bc60-4cd3-a058-bd93f2de7800",
   "metadata": {},
   "source": [
    "## (WIP) Add a Consul Cluster\n",
    "\n",
    "Now add a Consul cluster. This is guidance from our learning portal."
   ]
  },
  {
   "cell_type": "code",
   "execution_count": null,
   "id": "e3e44287-4876-476f-babd-2bd44805f678",
   "metadata": {},
   "outputs": [],
   "source": [
    "cd learn-hcp-consul"
   ]
  },
  {
   "cell_type": "markdown",
   "id": "cced76c7-8e53-45f1-82ea-9731da572f68",
   "metadata": {},
   "source": [
    "The challenge now is to update VPC peering with your HVN and account details following the Learning Portal instructions. https://learn.hashicorp.com/tutorials/cloud/terraform-hcp-consul-provider"
   ]
  },
  {
   "cell_type": "code",
   "execution_count": null,
   "id": "7952aadd-663a-4d4f-a216-ac36a2cdacf3",
   "metadata": {},
   "outputs": [],
   "source": [
    "terraform init\n",
    "terraform plan"
   ]
  },
  {
   "cell_type": "markdown",
   "id": "04016be8-fcfd-47d3-9c39-dcfae1ab7318",
   "metadata": {},
   "source": [
    "You could also use a Terraform data source to look up the state from your other workspace. You don't need to actually have a Consul cluster created to pass this challenge check but it is a sandbox where you can experiment with Consul."
   ]
  },
  {
   "cell_type": "markdown",
   "id": "9b92c0c9-6260-4090-97b6-06c0f7ebb49e",
   "metadata": {},
   "source": [
    "## (WIP) Exploring Service Principals\n",
    "\n",
    "Now we'll generate three service principals. Service principals come in 3 types:\n",
    "\n",
    "* Admin\n",
    "* Contributor\n",
    "* Viewer\n",
    "\n",
    "A policy of least privilege can be used to limit API access to reading HCP state for things like Terraform data sources. HCP lets you create named service principals and then create one or more tokens to access that service principal. Be sure to delete any service principals you create during this workshop as they won't be destroyed when Instruqt expires your track. https://portal.cloud.hashicorp.com/access/service-principals\n",
    "\n",
    "https://registry.terraform.io/providers/hashicorp/hcp/latest/docs/guides/auth"
   ]
  },
  {
   "cell_type": "markdown",
   "id": "5176493e-0291-42be-9854-fd5ae2a5309e",
   "metadata": {},
   "source": [
    "## Clean Up"
   ]
  },
  {
   "cell_type": "markdown",
   "id": "3289bd8f-13e9-438c-9ce0-efa946ab98e7",
   "metadata": {},
   "source": [
    "### Destroy terraform provisioned resources."
   ]
  },
  {
   "cell_type": "code",
   "execution_count": null,
   "id": "a3149343-35cc-43f5-871a-207ae4e471c3",
   "metadata": {},
   "outputs": [],
   "source": [
    "terraform destroy -auto-approve"
   ]
  },
  {
   "cell_type": "markdown",
   "id": "779a8c5d-5468-4b9f-b6ac-ed35dd23ed41",
   "metadata": {},
   "source": [
    "## Resources\n",
    "\n",
    "* [Terraform Vault HCP Setup](https://github.com/kalenarndt/terraform-vault-hcp-setup) by Kalen Arndt\n",
    "* https://play.instruqt.com/hashicorp/tracks/hcp-vault-dynamic-credentials-alpha"
   ]
  },
  {
   "cell_type": "markdown",
   "id": "b1c96bf3-3290-4b8c-ba0a-8521a59ed997",
   "metadata": {},
   "source": [
    "## Work in Progress - Create terraform configurations"
   ]
  },
  {
   "cell_type": "markdown",
   "id": "ad198966-b235-4c4a-8459-da6b03b3819d",
   "metadata": {},
   "source": [
    "Create `main.tf` file."
   ]
  },
  {
   "cell_type": "markdown",
   "id": "0618f6a6-ce1d-44b6-87c2-28bb3ba16640",
   "metadata": {},
   "source": [
    "#### terraform.tfvars"
   ]
  },
  {
   "cell_type": "code",
   "execution_count": null,
   "id": "72e8a291-6cbc-4edb-8f24-703f8cbf27e5",
   "metadata": {},
   "outputs": [],
   "source": [
    "cat <<EOF > terraform.tfvars.2\n",
    "aws_product_tag     = \"vault\"\n",
    "aws_environment_tag = \"HCP\"\n",
    "aws_owner_tag       = \"Kalen\"\n",
    "# hcp_client_secret   = \"myclientsecret\"\n",
    "# hcp_client_id       = \"myclientid\" \n",
    "\n",
    "region              = \"us-west-2\"\n",
    "az                  = \"us-west-2a\"\n",
    "\n",
    "//Instance Tags\n",
    "Name                = \"YOUR-NAME\"\n",
    "owner               = \"YOUR-EMAIL\"\n",
    "TTL                 = 48\n",
    "\n",
    "//Your public key will be uploaded to machine for SSH access\n",
    "public_key = $(cat ~/.ssh/id_rsa.pub) #\"ssh-rsa AA....\"\n",
    "EOF"
   ]
  },
  {
   "cell_type": "code",
   "execution_count": null,
   "id": "b8de2a99-77a6-4ceb-bf0c-e6f61d39d7ec",
   "metadata": {},
   "outputs": [],
   "source": [
    "cat <<EOF > main.tf.2\n",
    "// Credentials can be set explicitly or via the environment variables HCP_CLIENT_ID and HCP_CLIENT_SECRET\n",
    "provider \"hcp\" {\n",
    "}\n",
    "\n",
    "provider \"aws\" {\n",
    "  region = var.region\n",
    "  default_tags {\n",
    "    tags = {\n",
    "      Name  = var.Name\n",
    "      owner = var.owner\n",
    "      TTL   = var.TTL\n",
    "    }\n",
    "  }\n",
    "}\n",
    "EOF\n",
    "\n",
    "cat <<EOF > versions.tf.2\n",
    "terraform {\n",
    "  required_version = \"~>1.0.0\"\n",
    "  required_providers {\n",
    "    aws = {\n",
    "      source  = \"hashicorp/aws\"\n",
    "      version = \"~>3.51.0\"\n",
    "    }\n",
    "    hcp = {\n",
    "      source  = \"hashicorp/hcp\"\n",
    "      version = \"~>0.10.0\"\n",
    "    }\n",
    "  }\n",
    "}\n",
    "EOF"
   ]
  },
  {
   "cell_type": "code",
   "execution_count": null,
   "id": "50b1c32e-9ddf-4e85-86f8-72b794329eb4",
   "metadata": {},
   "outputs": [],
   "source": [
    "## variables.tf\n",
    "cat <<EOF > variables.tf.2\n",
    "variable \"az\" {\n",
    "  type = string \n",
    "  default = \"us-west-2a\"\n",
    "}\n",
    "\n",
    "variable \"region\" {\n",
    "  description = \"The region of the HCP HVN and Vault cluster.\"\n",
    "  type = string\n",
    "  default = \"us-west-2\"\n",
    "}\n",
    "\n",
    "variable \"Name\" {\n",
    "  type = string\n",
    "}\n",
    "\n",
    "variable \"owner\" {\n",
    "  type = string\n",
    "}\n",
    "\n",
    "variable \"TTL\" {\n",
    "  type = number\n",
    "}\n",
    "\n",
    "variable \"public_key\" {\n",
    "  type = string\n",
    "}\n",
    "\n",
    "variable \"hcp_client_id\" {\n",
    "  description = \"Client ID used to authenticate with HCP\"\n",
    "  type        = string\n",
    "  sensitive   = false\n",
    "  default     = null\n",
    "}\n",
    "\n",
    "variable \"hcp_client_secret\" {\n",
    "  description = \"Client secret used to authenticate with HCP\"\n",
    "  type        = string\n",
    "  sensitive   = true\n",
    "  default     = null\n",
    "}\n",
    "\n",
    "variable \"hcp_cluster_id\" {\n",
    "  description = \"The ID of the HCP Vault cluster.\"\n",
    "  type        = string\n",
    "  default     = \"hcp-vault-cluster\"\n",
    "}\n",
    "\n",
    "variable \"hcp_public_endpoint\" {\n",
    "  description = \"Exposes the cluster to the internet. Defaults to false\"\n",
    "  type        = bool\n",
    "  default     = false\n",
    "}\n",
    "\n",
    "variable \"hcp_tier\" {\n",
    "  description = \"Tier to provision in HCP Vault - dev, standard_small, standard_medium, standard_large\"\n",
    "  type        = string\n",
    "  default     = \"dev\"\n",
    "  validation {\n",
    "    condition     = var.hcp_tier != \"dev\" || var.hcp_tier != \"standard_small\" || var.hcp_tier != \"standard_medium\" || var.hcp_tier != \"standard_large\"\n",
    "    error_message = \"The variable hcp_tier must be \\\"dev\\\", \\\"standard_small\\\", \\\"standard_medium\\\", or \\\"standard_large\\\".\"\n",
    "  }\n",
    "}\n",
    "\n",
    "variable \"hvn_cidr\" {\n",
    "  type = string\n",
    "  default = \"172.25.16.0/20\"\n",
    "}\n",
    "\n",
    "variable \"hvn_id\" {\n",
    "  description = \"The ID of the HCP HVN.\"\n",
    "  type        = string\n",
    "  default     = \"hcp-vault-hvn\"\n",
    "}\n",
    "\n",
    "variable \"hvn_peering_id\" {\n",
    "  description = \"The ID of the HCP peering connection.\"\n",
    "  type        = string\n",
    "  default     = \"hcp-hvn-peering\"\n",
    "}\n",
    "\n",
    "variable \"hvn_route_id\" {\n",
    "  description = \"The ID of the HCP HVN route.\"\n",
    "  type        = string\n",
    "  default     = \"hcp-hvn-route\"\n",
    "}\n",
    "\n",
    "variable \"vpc_cidr\" {\n",
    "  type = string\n",
    "  default = \"10.0.1.0/24\"\n",
    "}\n",
    "\n",
    "\n",
    "\n",
    "\n",
    "\n",
    "\n",
    "\n",
    "\n",
    "variable \"cloud_provider\" {\n",
    "  description = \"The cloud provider of the HCP HVN and Vault cluster.\"\n",
    "  type        = string\n",
    "  default     = \"aws\"\n",
    "}"
   ]
  },
  {
   "cell_type": "markdown",
   "id": "b43ab4e3-b5c1-489c-823a-af6a917743cf",
   "metadata": {},
   "source": [
    "#### aws.tf"
   ]
  },
  {
   "cell_type": "code",
   "execution_count": null,
   "id": "7b3fde4e-bf5b-422f-895b-c5d53bd381ba",
   "metadata": {},
   "outputs": [],
   "source": [
    "## aws.tf\n",
    "cat <<EOF > aws.tf.2\n",
    "// create the aws vpc\n",
    "resource \"aws_vpc\" \"example\" {\n",
    "  cidr_block = \"10.0.0.0/16\"\n",
    "#   tags = {\n",
    "#     Name = var.aws_vpc_hvn_name\n",
    "#   }\n",
    "}\n",
    "\n",
    "resource \"aws_subnet\" \"my_subnet\" {\n",
    "  vpc_id            = aws_vpc.example.id\n",
    "  cidr_block        = var.vpc_cidr  #default to 10.0.1.0.24\n",
    "  availability_zone = var.az #defaults to us-west-2a\n",
    "}\n",
    "\n",
    "resource \"aws_internet_gateway\" \"vpc-igw\" {\n",
    "  vpc_id = \"${aws_vpc.example.id}\"\n",
    "}\n",
    "\n",
    "resource \"aws_main_route_table_association\" \"main-vpc\" {\n",
    "  vpc_id         = \"${aws_vpc.example.id}\"\n",
    "  route_table_id = \"${aws_route_table.main-rt.id}\"\n",
    "}\n",
    "\n",
    "resource \"aws_route_table\" \"main-rt\" {\n",
    "  vpc_id = \"${aws_vpc.example.id}\"\n",
    "\n",
    "  route {\n",
    "    cidr_block = var.hvn_cidr\n",
    "    transit_gateway_id = \"${aws_ec2_transit_gateway.example.id}\"\n",
    "  }\n",
    "\n",
    "  route {\n",
    "    cidr_block = \"0.0.0.0/0\"\n",
    "    gateway_id = \"${aws_internet_gateway.vpc-igw.id}\"\n",
    "  }\n",
    "\n",
    "  depends_on = [ \n",
    "      aws_ec2_transit_gateway.example,\n",
    "      aws_ec2_transit_gateway_vpc_attachment.example,\n",
    "  ]\n",
    "}\n",
    "\n",
    "resource \"aws_security_group\" \"main-vpc-sg\" {\n",
    "  name        = \"${var.Name}-main-vpc-sg\"\n",
    "  vpc_id      = \"${aws_vpc.example.id}\"\n",
    "  ingress {\n",
    "    from_port   = 22\n",
    "    to_port     = 22\n",
    "    protocol    = \"tcp\"\n",
    "    cidr_blocks = [\"0.0.0.0/0\"]\n",
    "  }\n",
    "  ingress {\n",
    "    from_port   = 8 # the ICMP type number for 'Echo'\n",
    "    to_port     = 0 # the ICMP code\n",
    "    protocol    = \"icmp\"\n",
    "    cidr_blocks = [\"0.0.0.0/0\"]\n",
    "  }\n",
    "  ingress {\n",
    "    from_port   = 0 # the ICMP type number for 'Echo Reply'\n",
    "    to_port     = 0 # the ICMP code\n",
    "    protocol    = \"icmp\"\n",
    "    cidr_blocks = [\"0.0.0.0/0\"]\n",
    "  }\n",
    "  egress {\n",
    "    from_port       = 0\n",
    "    to_port         = 0\n",
    "    protocol        = \"-1\"\n",
    "    cidr_blocks     = [\"0.0.0.0/0\"]\n",
    "  }\n",
    "  tags = {\n",
    "  }\n",
    "}\n",
    "\n",
    "###########################\n",
    "# AWS Transit Gateway\n",
    "#\n",
    "# Connects HVN to VPC\n",
    "###########################\n",
    "resource \"aws_ec2_transit_gateway_vpc_attachment\" \"example\" {\n",
    "  subnet_ids         = [aws_subnet.my_subnet.id]\n",
    "  transit_gateway_id = aws_ec2_transit_gateway.example.id\n",
    "  vpc_id             = aws_vpc.example.id\n",
    "  depends_on = [ \n",
    "    aws_ec2_transit_gateway.example, \n",
    "  ]\n",
    "}\n",
    "\n",
    "## Fetching AMI info\n",
    "data \"aws_ami\" \"ubuntu\" {\n",
    "  most_recent = true\n",
    "  filter {\n",
    "    name   = \"name\"\n",
    "    values = [\"ubuntu/images/hvm-ssd/ubuntu-bionic-18.04-amd64-server-*\"]\n",
    "  }\n",
    "  filter {\n",
    "    name   = \"virtualization-type\"\n",
    "    values = [\"hvm\"]\n",
    "  }\n",
    "  owners = [\"099720109477\"] # Canonical\n",
    "}\n",
    "\n",
    "resource \"aws_instance\" \"test-instance\" {\n",
    "  ami                         = \"${data.aws_ami.ubuntu.id}\"\n",
    "  instance_type               = \"t2.micro\"\n",
    "  subnet_id                   = \"${aws_subnet.my_subnet.id}\"\n",
    "  vpc_security_group_ids     = [ \"${aws_security_group.main-vpc-sg.id}\" ]\n",
    "  key_name                    = \"${aws_key_pair.test-tgw-keypair.key_name}\"\n",
    "  associate_public_ip_address = true\n",
    "  user_data                   = \"${data.template_file.init.rendered}\"\n",
    "}\n",
    "\n",
    "data \"template_file\" \"init\" {\n",
    "  template = \"${file(\"${path.module}/init.tpl\")}\"\n",
    "}\n",
    "\n",
    "\n",
    "resource \"aws_key_pair\" \"test-tgw-keypair\" {\n",
    "  key_name   = \"${var.Name}-keypair\"\n",
    "  public_key = \"${var.public_key}\"\n",
    "}\n",
    "EOF"
   ]
  }
 ],
 "metadata": {
  "kernelspec": {
   "display_name": "Bash",
   "language": "bash",
   "name": "bash"
  },
  "language_info": {
   "codemirror_mode": "shell",
   "file_extension": ".sh",
   "mimetype": "text/x-sh",
   "name": "bash"
  }
 },
 "nbformat": 4,
 "nbformat_minor": 5
}
