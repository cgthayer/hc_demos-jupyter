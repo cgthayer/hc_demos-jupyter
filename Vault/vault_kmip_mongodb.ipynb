{
 "cells": [
  {
   "cell_type": "markdown",
   "id": "d0f11f5e-4333-4c8d-bc3d-e9adfc60befd",
   "metadata": {},
   "source": [
    "# Vault KMIP Secrets Engine for MongoDB Encryption (ADP)\n",
    "\n",
    "teaser: Help implement the \"Assumed Breach\" principal of a Zero Trust methodology by leveraging Vault’s KMIP Secret engine to encrypt all MongoDB Enterprise data."
   ]
  },
  {
   "cell_type": "markdown",
   "id": "d50e2058-6f57-4939-9d8c-aa1870952b5e",
   "metadata": {},
   "source": [
    "## Overview\n",
    "\n",
    "The KMIP secrets engine allows Vault to act as a **Key Management Interoperability\n",
    "Protocol (KMIP)** server provider and handle the lifecycle of its KMIP managed objects.\n",
    "\n",
    "In this tutorial, we will leverage this KMIP secrets engine for external MongoDB encryption key management.\n",
    "\n",
    "A few other examples (not included here) are:\n",
    "* MySQL Enterprise\n",
    "* VSphere VMs and VSANs\n",
    "* NetApp\n",
    "* EMC Unity and PowerEdge/Max (in progress)\n",
    "\n",
    "This encryption workflow protects against the scenario where an adversary has gained privileged access to the Linux/Windows box running the database. In this case, they may only have permissions to inspect database files on the host and are not actually logged into the database itself."
   ]
  },
  {
   "cell_type": "markdown",
   "id": "7734e1b1-ff35-4db8-9606-b02174f14c97",
   "metadata": {},
   "source": [
    "## Prerequisites"
   ]
  },
  {
   "cell_type": "markdown",
   "id": "b7b1bfda-d7f4-4fc3-9d98-a424a1c4794f",
   "metadata": {},
   "source": [
    "Install MongoDB client. Here is an example for Mac"
   ]
  },
  {
   "cell_type": "code",
   "execution_count": null,
   "id": "9f56c49b-6379-4fc2-81ca-2bc6b34c86f0",
   "metadata": {},
   "outputs": [],
   "source": [
    "brew tap mongodb/brew\n",
    "brew install mongodb-community@4.4"
   ]
  },
  {
   "cell_type": "markdown",
   "id": "c62e1942-85b6-4343-9dcd-d374f315f5e9",
   "metadata": {},
   "source": [
    "## Test MongoDB unecrypted\n",
    "\n",
    "teaser: In this challenge you will see the impact of a breach with unencrypted database files\n",
    "\n",
    "**notes:**\n",
    "In recent news, it seems as though a new data breach occurs every other week...\n",
    "\n",
    "With the advent of events like the SolarWinds hack (a supply chain attack), it is fair to say that we must always assume adversaries are on our network.\n",
    "They are likely working to escalate credentials and expand their footprint laterally. As a last line of defense, we must ensure our customer data is encrypted!\n",
    "\n",
    "In this challenge, we will role play an attacker who was able to gain remote access to our database machine.\n",
    "\n",
    "They do not have priviledged database credentials, only RDP/SSH access to the machine.\n",
    "You will simulate exfiltrating data from unencrypted MongoDB storage files."
   ]
  },
  {
   "cell_type": "markdown",
   "id": "7e73b831-5e3d-4a11-af71-3fab28238fec",
   "metadata": {},
   "source": [
    "### assignment:\n",
    "\n",
    "Welcome to the lab. \n",
    "\n",
    "Before we introduce Vault for filesystem encryption. Lets test a write to MongoDB."
   ]
  },
  {
   "cell_type": "markdown",
   "id": "d894f811-6524-429b-a121-d5737816d83d",
   "metadata": {},
   "source": [
    "#### Start MongoDB Server - unencrypted"
   ]
  },
  {
   "cell_type": "markdown",
   "id": "68e1373c-8bd9-4dfd-8b7c-669776fefde3",
   "metadata": {},
   "source": [
    "Start MongoD server (without encryption enabled). The process will not exit."
   ]
  },
  {
   "cell_type": "code",
   "execution_count": null,
   "id": "70eecc8c-159c-419c-9256-693d14f779e6",
   "metadata": {},
   "outputs": [],
   "source": [
    "docker run --rm --name mongodb -d \\\n",
    "    -p 27017:27017 \\\n",
    "    mongo --bind_ip_all"
   ]
  },
  {
   "cell_type": "markdown",
   "id": "71a9c7ce-c7a7-41ab-bb76-7907cc41779c",
   "metadata": {},
   "source": [
    "Insert an example record"
   ]
  },
  {
   "cell_type": "code",
   "execution_count": null,
   "id": "940ca579-3593-4a8f-b332-833d5ad3f891",
   "metadata": {},
   "outputs": [],
   "source": [
    "mongo --eval 'db.examples.insertOne(\n",
    "    { name: \"sue\", age: 26 }\n",
    ")' && sleep 30"
   ]
  },
  {
   "cell_type": "markdown",
   "id": "03159d5e-5d2e-4d7d-93f9-6e643ad1f0d1",
   "metadata": {},
   "source": [
    "Now `cat` out the mongodb collection file, there should be several. It will likely be the \"`7`th\" file."
   ]
  },
  {
   "cell_type": "markdown",
   "id": "bde8cd09-85e9-43fb-bc99-c03a42978357",
   "metadata": {},
   "source": [
    "**NOTE:** It cloud take about two minutes for the full contents to be written to disk. There will be multiple lines of data."
   ]
  },
  {
   "cell_type": "code",
   "execution_count": null,
   "id": "49583e51-689c-4f72-ae09-63f02e70f81a",
   "metadata": {},
   "outputs": [],
   "source": [
    "docker exec -it mongodb sh -c \"cat /data/db/collection-7*.wt\""
   ]
  },
  {
   "cell_type": "markdown",
   "id": "b9fcd66e-c517-4879-adac-ab53bee6b406",
   "metadata": {},
   "source": [
    "Sample Output\n",
    "```shell\n",
    ":�7�Knamesueage:@4*r/�8���䁜�H2\n",
    "V�F���������.֖�T�������/��`encryption=(keyid=,name=),block_metadata_encrypted=false,block_metadata=[access_pattern_hint=none,allocation_size=4KB,app_metadata=(formatVersion=1),assert=(commit_timestamp=none,durable_timestamp=none,read_timestamp=none),block_allocation=best,block_compressor=snappy,cache_resident=false,checkpoint=,checkpoint_backup_info=,checkpoint_lsn=,checksum=on,collator=,columns=,dictionary=0,encryption=(keyid=,name=),<snip>\n",
    "```"
   ]
  },
  {
   "cell_type": "markdown",
   "id": "332c814f-7908-4f42-abf2-fe22721ebab6",
   "metadata": {},
   "source": [
    "The contents and metadata are in clear text on disk. Notice the plaintext \"`namesueage`\" and the unecrypted metadata in the collection file.\n",
    "An adversary in this scenario would only need to gain remote access to the physical database machine in order to exfiltrate critical customer data."
   ]
  },
  {
   "cell_type": "markdown",
   "id": "669b9567-1328-403e-9e38-0d9a505d9459",
   "metadata": {},
   "source": [
    "#### Stop MongoDB Server - unencrypted"
   ]
  },
  {
   "cell_type": "markdown",
   "id": "7e1e23fa-96d6-4303-a7a3-8d2fb84d5f12",
   "metadata": {},
   "source": [
    "Cleanup mongodb and move to the next challenge."
   ]
  },
  {
   "cell_type": "code",
   "execution_count": null,
   "id": "bb1a168a-d10f-40d7-a97b-4001335abee5",
   "metadata": {},
   "outputs": [],
   "source": [
    "docker stop mongodb && docker rm mongodb"
   ]
  },
  {
   "cell_type": "markdown",
   "id": "2192c512-a15b-453a-a326-6323532dfa8f",
   "metadata": {},
   "source": [
    "## Configure the Vault KMIP Secrets Engine\n",
    "\n",
    "teaser: In this challenge you will configure Vault's KMIP Secret Engine for external KMIP object management.\n",
    "\n",
    "notes:\n",
    "\n",
    "The KMIP secrets engine allows Vault to act as a **Key Management Interoperability Protocol (KMIP)** server provider and handle the lifecycle of its KMIP managed objects.\n",
    "\n",
    "KMIP is a standardized protocol that allows services and applications to perform cryptographic operations without having to manage cryptographic material, otherwise known as managed objects, by delegating its storage and lifecycle to a key management server.\n",
    "\n",
    "In this section we will configure a \"`scope`\" for managing this application's objects. Within the scope, we designate `roles` that define access control around allowed KMIP operations.\n",
    "\n",
    "Finally, we will create the certificate and the key for MongoDB to authenticate to Vault's KMIP listener."
   ]
  },
  {
   "cell_type": "markdown",
   "id": "9527ca2e-d146-426c-bdac-5cecc81925ca",
   "metadata": {},
   "source": [
    "### Prerequisites"
   ]
  },
  {
   "cell_type": "code",
   "execution_count": null,
   "id": "07bfacfd-2e40-4ae4-b66c-a8ade7170f5d",
   "metadata": {},
   "outputs": [],
   "source": [
    "WORK_DIR=config/vault/kmip"
   ]
  },
  {
   "cell_type": "code",
   "execution_count": null,
   "id": "85db7660-3683-42d6-9bf3-5fa75927f322",
   "metadata": {},
   "outputs": [],
   "source": [
    "mkdir -p $WORK_DIR/ssl"
   ]
  },
  {
   "cell_type": "markdown",
   "id": "a22de3c2-b871-4fe4-bcac-a2e22a399876",
   "metadata": {
    "tags": []
   },
   "source": [
    "### assignment"
   ]
  },
  {
   "cell_type": "markdown",
   "id": "7bb77cbc-eaed-4c3b-8a7b-a2a7511a5634",
   "metadata": {},
   "source": [
    "#### Start Vault Server"
   ]
  },
  {
   "cell_type": "markdown",
   "id": "b29c7114-83ba-4016-83ba-8dc8fd924835",
   "metadata": {
    "tags": []
   },
   "source": [
    "Run the following command. This will start the vault process in the background."
   ]
  },
  {
   "cell_type": "code",
   "execution_count": null,
   "id": "cbe3599f-3564-494b-b409-8b722fbec7fa",
   "metadata": {},
   "outputs": [],
   "source": [
    "docker run -d --rm --name vault \\\n",
    "    --cap-add IPC_LOCK \\\n",
    "    -p 8200:8200 -p 5696:5696 \\\n",
    "    -e 'VAULT_DEV_ROOT_TOKEN_ID=root' \\\n",
    "    -e 'VAULT_DEV_LISTEN_ADDRESS=0.0.0.0:8200' \\\n",
    "    hashicorp/vault-enterprise:1.7.5_ent\n",
    "    # -e \"VAULT_ADDR=http://127.0.0.1:8200\" \\"
   ]
  },
  {
   "cell_type": "markdown",
   "id": "9ea999c0-04cf-44aa-89b8-f1a6695482dc",
   "metadata": {},
   "source": [
    "Configure environment variables for connecting to Vault. We've set the dev mode root token to \"`root`\"."
   ]
  },
  {
   "cell_type": "code",
   "execution_count": null,
   "id": "00a7100a-69e1-4a53-8267-23f80326ff66",
   "metadata": {},
   "outputs": [],
   "source": [
    "export VAULT_ADDR=\"http://127.0.0.1:8200\"\n",
    "export VAULT_TOKEN=root\n",
    "# echo \"export VAULT_ADDR=$VAULT_ADDR\" >> /root/.bashrc"
   ]
  },
  {
   "cell_type": "markdown",
   "id": "b31c99e9-9672-4585-b966-7cde9d3a6f9f",
   "metadata": {},
   "source": [
    "Check vault status"
   ]
  },
  {
   "cell_type": "code",
   "execution_count": null,
   "id": "20697106-276a-4f29-847d-804489d87523",
   "metadata": {},
   "outputs": [],
   "source": [
    "vault status"
   ]
  },
  {
   "cell_type": "markdown",
   "id": "0dcc2b00-6dc9-4f77-a901-2f131fda7874",
   "metadata": {},
   "source": [
    "#### Enable the KMIP Secrets Engine."
   ]
  },
  {
   "cell_type": "code",
   "execution_count": null,
   "id": "cabbd011-10a6-4aca-a1e7-53099f51fb1b",
   "metadata": {},
   "outputs": [],
   "source": [
    "vault secrets enable kmip"
   ]
  },
  {
   "cell_type": "markdown",
   "id": "97c6f0fc-5478-4cf5-be51-8f59ab1b8a58",
   "metadata": {},
   "source": [
    "Configure the KMIP Listener (5696 is the standard default port). You can also set key types and lengths."
   ]
  },
  {
   "cell_type": "markdown",
   "id": "165aa1ae-0659-4705-9e3c-79388f1a7799",
   "metadata": {},
   "source": [
    "#### Configure KMIP secrets engine"
   ]
  },
  {
   "cell_type": "code",
   "execution_count": null,
   "id": "210cf514-e36d-4766-8e97-5538390c1fd3",
   "metadata": {},
   "outputs": [],
   "source": [
    "vault write kmip/config listen_addrs=0.0.0.0:5696 \\\n",
    "  tls_ca_key_type=\"rsa\" \\\n",
    "  tls_ca_key_bits=2048 \\\n",
    "  server_hostnames=\"192.168.17.167\",\"localhost\""
   ]
  },
  {
   "cell_type": "markdown",
   "id": "35acc3b3-6449-41fe-bd9d-2849813285aa",
   "metadata": {},
   "source": [
    "* `server_hostnames` - Set SAN DNS names for TLS. Click [here](https://www.vaultproject.io/api/secret/kmip#server_hostnames) for info."
   ]
  },
  {
   "cell_type": "markdown",
   "id": "95543fac-2d41-475e-978b-e72a1469ac41",
   "metadata": {},
   "source": [
    "Confirm configuration"
   ]
  },
  {
   "cell_type": "code",
   "execution_count": null,
   "id": "6d21949a-ff8f-4203-b4db-0d627c8a3174",
   "metadata": {},
   "outputs": [],
   "source": [
    "vault read kmip/config"
   ]
  },
  {
   "cell_type": "markdown",
   "id": "3b9b2fb0-7b78-4138-9188-6d8151d657c8",
   "metadata": {},
   "source": [
    "#### Create KMIP Scope and Role"
   ]
  },
  {
   "cell_type": "markdown",
   "id": "c904c77f-52d0-438f-b00a-7b00399ab52d",
   "metadata": {},
   "source": [
    "* **Scopes** partition KMIP managed objects into multiple named buckets.\n",
    "* **Roles** are managed within buckets and can be assigned various permitted KMIP operations.\n",
    "\n",
    "<img src=https://learn.hashicorp.com/img/vault-kmip-2.png width=640>"
   ]
  },
  {
   "cell_type": "markdown",
   "id": "6bb20c8c-df3e-4af3-9af9-32a2a7715154",
   "metadata": {},
   "source": [
    "Create a `hashicups` scope for the app's managed objects."
   ]
  },
  {
   "cell_type": "code",
   "execution_count": null,
   "id": "2a03f9e4-5e83-45d7-8c9e-aff251fb2533",
   "metadata": {},
   "outputs": [],
   "source": [
    "# Create a scope\n",
    "vault write -f kmip/scope/hashicups"
   ]
  },
  {
   "cell_type": "markdown",
   "id": "0c9a6aa9-7f2e-4808-bea5-36eb580dc2f7",
   "metadata": {},
   "source": [
    "List the existing scopes"
   ]
  },
  {
   "cell_type": "code",
   "execution_count": null,
   "id": "2cbc991e-5092-44fe-9945-d13415148948",
   "metadata": {},
   "outputs": [],
   "source": [
    "vault list kmip/scope"
   ]
  },
  {
   "cell_type": "markdown",
   "id": "af5fc3cb-4528-4561-adf8-d95c287f6d3a",
   "metadata": {},
   "source": [
    "Create a \"`payments`\" role under the `hashicups` scope that specifies the allowed [KMIP operations](http://docs.oasis-open.org/kmip/spec/v1.4/os/kmip-spec-v1.4-os.html#_Toc490660840) that MongoDB can perform."
   ]
  },
  {
   "cell_type": "code",
   "execution_count": null,
   "id": "1fc8d4e5-c31c-4827-ad97-60136e662b84",
   "metadata": {},
   "outputs": [],
   "source": [
    "# Create a role\n",
    "vault write kmip/scope/hashicups/role/payments operation_all=true"
   ]
  },
  {
   "cell_type": "markdown",
   "id": "db2c5c83-1c8a-4f22-925e-09780c8a4a12",
   "metadata": {},
   "source": [
    "* Setting the `operation_all` parameter to `true` - role is allowed to perform all KMIP client-server operations.\n",
    "\n",
    "Refer to Step 6 to learn how to modify the allowed operation list."
   ]
  },
  {
   "cell_type": "markdown",
   "id": "dbd27756-8e9b-4154-aba2-2fdfc74bbb81",
   "metadata": {},
   "source": [
    "List existing roles under `hashicups` scope."
   ]
  },
  {
   "cell_type": "code",
   "execution_count": null,
   "id": "f6e9458e-226f-400b-bd92-91fcac2fcb9f",
   "metadata": {},
   "outputs": [],
   "source": [
    "vault list kmip/scope/hashicups/role"
   ]
  },
  {
   "cell_type": "markdown",
   "id": "0d1bc994-62e3-4885-853f-534e66f63ce2",
   "metadata": {},
   "source": [
    "Save the KMIP CA cert that we will pass to MongoDB."
   ]
  },
  {
   "cell_type": "code",
   "execution_count": null,
   "id": "f1e305ec-5f75-4d39-9f6c-df1f8643bd0a",
   "metadata": {},
   "outputs": [],
   "source": [
    "vault read -format json kmip/ca | jq -r .data.ca_pem | tee $WORK_DIR/ssl/ca.pem"
   ]
  },
  {
   "cell_type": "markdown",
   "id": "29e5b86c-b394-45f1-bd51-09735d650783",
   "metadata": {},
   "source": [
    "#### Client certificate generation"
   ]
  },
  {
   "cell_type": "markdown",
   "id": "f3fe0d64-ef91-4c12-9972-02fbc808f2c7",
   "metadata": {},
   "source": [
    "These Leaf/CA certs and keys allow MongoDB to authenticate to Vault."
   ]
  },
  {
   "cell_type": "markdown",
   "id": "d2abf37b-936f-4fd6-8d67-11901bdc6b31",
   "metadata": {},
   "source": [
    "Create the leaf cert and private key. Then save them as a `client.pem`\n",
    "This cert and key will be used by Mongo to authenticate to Vault."
   ]
  },
  {
   "cell_type": "markdown",
   "id": "ed1ef37c-2ab3-4d1c-8957-e39679d91b2c",
   "metadata": {},
   "source": [
    "Generate a certificate in PEM format and save it to a JSON file named `credential.json`"
   ]
  },
  {
   "cell_type": "code",
   "execution_count": null,
   "id": "0e9be8b6-6517-4dad-a1bb-70dcfdeaac55",
   "metadata": {},
   "outputs": [],
   "source": [
    "vault write -format=json \\\n",
    "  kmip/scope/hashicups/role/payments/credential/generate \\\n",
    "  format=pem | tee $WORK_DIR/ssl/credential.json"
   ]
  },
  {
   "cell_type": "markdown",
   "id": "0a596557-5eb2-4f2c-8151-71cad5409593",
   "metadata": {},
   "source": [
    "Extract the certificate from the `credential.json` using `jq` and save it to a file called `cert.pem`."
   ]
  },
  {
   "cell_type": "code",
   "execution_count": null,
   "id": "94c9d6ac-169a-4ce8-9b10-c07f1d24a711",
   "metadata": {},
   "outputs": [],
   "source": [
    "jq -r .data.certificate $WORK_DIR/ssl/credential.json | tee $WORK_DIR/ssl/cert.pem"
   ]
  },
  {
   "cell_type": "markdown",
   "id": "5ddb0045-f359-41eb-865a-364b9100debd",
   "metadata": {},
   "source": [
    "Extract the private key from the `credential.json` using `jq` and save it to a file called `key.pem`."
   ]
  },
  {
   "cell_type": "code",
   "execution_count": null,
   "id": "63978144-ee30-42dd-82f3-0c565da16174",
   "metadata": {},
   "outputs": [],
   "source": [
    "jq -r .data.private_key $WORK_DIR/ssl/credential.json | tee $WORK_DIR/ssl/key.pem"
   ]
  },
  {
   "cell_type": "markdown",
   "id": "444ae6ba-93e6-4a11-9423-0122e3177a9a",
   "metadata": {},
   "source": [
    "#### KMIP client configuration"
   ]
  },
  {
   "cell_type": "markdown",
   "id": "ec6ad899-7492-46f2-8d4d-44071686564a",
   "metadata": {},
   "source": [
    "Combine the `cert.pem` and `key.pem` and save it as `client.pem`."
   ]
  },
  {
   "cell_type": "code",
   "execution_count": null,
   "id": "ec9a750a-98f4-41f4-aaa3-2ba6b54a28e4",
   "metadata": {},
   "outputs": [],
   "source": [
    "cat $WORK_DIR/ssl/{cert.pem,key.pem} | tee $WORK_DIR/ssl/client.pem"
   ]
  },
  {
   "cell_type": "markdown",
   "id": "23e6fba8-7481-4921-a2fb-e381fd8ffaa6",
   "metadata": {},
   "source": [
    "Confirm that you see the `client.pem` and `ca.pem` files."
   ]
  },
  {
   "cell_type": "code",
   "execution_count": null,
   "id": "6bc149dc-c34e-47ef-a3e3-376171f8fafe",
   "metadata": {},
   "outputs": [],
   "source": [
    "ls -l $WORK_DIR/ssl/"
   ]
  },
  {
   "cell_type": "markdown",
   "id": "15079729-8c57-4a4b-9049-1046f832bc6b",
   "metadata": {},
   "source": [
    "With the Vault configuration all set, we can now encrypt MongoDB."
   ]
  },
  {
   "cell_type": "markdown",
   "id": "43d21624-5108-4e8b-a6ff-8715db0998a1",
   "metadata": {},
   "source": [
    "## Test MongoDB Encryption via Vault KMIP\n",
    "\n",
    "teaser: In this challenge you will see the impact of a breach with encrypted database files\n",
    "\n",
    "notes:\n",
    "\n",
    "With Vault's KMIP Secret Engine all set up, we can now start MongoDB with KMIP encryption enabled.\n",
    "\n",
    "We will role play as the same adversary as before, but show that any exfiltrated data would prove useless to the attacker as it is now encrypted ciphertext via Vault!"
   ]
  },
  {
   "cell_type": "markdown",
   "id": "94540ed6-bf6a-4296-ae2c-28d719555011",
   "metadata": {},
   "source": [
    "### assignment\n",
    "\n",
    "Now, we can start MongoDB with Encryption leveraging Vault as the KMIP Key Management Server."
   ]
  },
  {
   "cell_type": "markdown",
   "id": "1dd11544-5ab2-48e2-adca-995a45280138",
   "metadata": {},
   "source": [
    "#### Build Dockerfile"
   ]
  },
  {
   "cell_type": "code",
   "execution_count": null,
   "id": "e575e2eb-d793-4c09-8265-e9e0ca9c71d8",
   "metadata": {},
   "outputs": [],
   "source": [
    "pushd $WORK_DIR"
   ]
  },
  {
   "cell_type": "markdown",
   "id": "9d600f3a-09f1-42a0-ace9-b77841a085a4",
   "metadata": {},
   "source": [
    "Set environment variables. Specify your own `DOCKER_USERNAME`."
   ]
  },
  {
   "cell_type": "code",
   "execution_count": null,
   "id": "e694338e-c98d-472e-899f-6e4018f47774",
   "metadata": {},
   "outputs": [],
   "source": [
    "export MONGODB_VERSION=4.4\n",
    "export DOCKER_USERNAME=peterphan"
   ]
  },
  {
   "cell_type": "code",
   "execution_count": null,
   "id": "0cfe68d8-e450-43c3-b16f-8ad215b70034",
   "metadata": {},
   "outputs": [],
   "source": [
    "curl -O --remote-name-all https://raw.githubusercontent.com/docker-library/mongo/master/$MONGODB_VERSION/{Dockerfile,docker-entrypoint.sh}"
   ]
  },
  {
   "cell_type": "markdown",
   "id": "83f27f1e-274c-48f5-b402-00889b8b8768",
   "metadata": {},
   "source": [
    "#### Build mongodb-enterprise container"
   ]
  },
  {
   "cell_type": "code",
   "execution_count": null,
   "id": "7308fd7f-423a-4f5a-893c-dbc7d02f6837",
   "metadata": {},
   "outputs": [],
   "source": [
    "chmod 755 ./docker-entrypoint.sh\n",
    "docker build --build-arg MONGO_PACKAGE=mongodb-enterprise \\\n",
    "    --build-arg MONGO_REPO=repo.mongodb.com \\\n",
    "    -t $DOCKER_USERNAME/mongo-enterprise:$MONGODB_VERSION . > build.log 2>&1"
   ]
  },
  {
   "cell_type": "markdown",
   "id": "2e93dbc4-0986-478b-9b44-f5cc85434bbe",
   "metadata": {},
   "source": [
    "Confirm image was created."
   ]
  },
  {
   "cell_type": "code",
   "execution_count": null,
   "id": "62367cb8-b414-46f1-ad53-1475a4e6ef70",
   "metadata": {},
   "outputs": [],
   "source": [
    "docker images | head -n 2"
   ]
  },
  {
   "cell_type": "markdown",
   "id": "eb6b4d44-fbf2-4b09-97a3-83ff33c0b85b",
   "metadata": {},
   "source": [
    "Sample Output\n",
    "```shell\n",
    "REPOSITORY                                                    TAG             IMAGE ID       CREATED          SIZE\n",
    "peterphan/mongo-enterprise                                    4.4             268f772c93ea   21 seconds ago   662MB\n",
    "```"
   ]
  },
  {
   "cell_type": "code",
   "execution_count": null,
   "id": "2f3f7ddb-ba2d-46ac-bb37-5b26bf61dd9d",
   "metadata": {},
   "outputs": [],
   "source": [
    "popd"
   ]
  },
  {
   "cell_type": "markdown",
   "id": "94d5dbc8-5654-4681-86ae-7de555d584c1",
   "metadata": {},
   "source": [
    "#### Start MongoDB server - encrypted"
   ]
  },
  {
   "cell_type": "markdown",
   "id": "3e511f21-cab2-4706-b8f2-2c5cc2de474c",
   "metadata": {},
   "source": [
    "Start MongoD server (with encryption enabled)."
   ]
  },
  {
   "cell_type": "code",
   "execution_count": null,
   "id": "fa12909c-4b30-4c0a-8600-369ff0e11670",
   "metadata": {},
   "outputs": [],
   "source": [
    "docker run --rm --name mongodb -d \\\n",
    "    -p 27017:27017 \\\n",
    "    -v ${PWD}/config/vault/kmip/db:/data/db \\\n",
    "    -v ${PWD}/config/vault/kmip/ssl:/data/ssl \\\n",
    "    $DOCKER_USERNAME/mongo-enterprise:$MONGODB_VERSION \\\n",
    "    --dbpath /data/db \\\n",
    "    --logpath /var/log/mongodb/mongo.log \\\n",
    "    --enableEncryption \\\n",
    "    --kmipServerName 192.168.17.167 \\\n",
    "    --kmipPort 5696 \\\n",
    "    --kmipServerCAFile /data/ssl/ca.pem \\\n",
    "    --kmipClientCertificateFile /data/ssl/client.pem \\\n",
    "    --bind_ip_all"
   ]
  },
  {
   "cell_type": "markdown",
   "id": "544f4668-af05-49d8-90a8-0e5610169168",
   "metadata": {},
   "source": [
    "You can verify that MongoDB was able to connect to Vault's KMIP Secret engine with the following command"
   ]
  },
  {
   "cell_type": "code",
   "execution_count": null,
   "id": "e5ce0bbe-6562-462c-a783-c9125e71e1f1",
   "metadata": {},
   "outputs": [],
   "source": [
    "docker exec -it mongodb sh -c \\\n",
    "    \"cat /var/log/mongodb/mongo.log  | grep -i kmip | jq\""
   ]
  },
  {
   "cell_type": "markdown",
   "id": "e144e6f6-5457-46d1-a366-40fee180821f",
   "metadata": {},
   "source": [
    "The output should look like this:\n",
    "```shell\n",
    "{\n",
    "  \"t\": {\n",
    "    \"$date\": \"2021-04-21T16:07:30.855+00:00\"\n",
    "  },\n",
    "  \"s\": \"I\",\n",
    "  \"c\": \"STORAGE\",\n",
    "  \"id\": 24199,\n",
    "  \"ctx\": \"initandlisten\",\n",
    "  \"msg\": \"Created KMIP key\",\n",
    "  \"attr\": {\n",
    "    \"keyId\": \"3ggasHBokpcWjwau4En8uGj6XO091QXL\"\n",
    "  }\n",
    "}\n",
    "```"
   ]
  },
  {
   "cell_type": "markdown",
   "id": "82174f9e-e3bd-48c9-b50b-6f66c181085f",
   "metadata": {},
   "source": [
    "#### Confirm"
   ]
  },
  {
   "cell_type": "code",
   "execution_count": null,
   "id": "3dd303b8-569e-41a6-93f1-336b3ffe3b5c",
   "metadata": {},
   "outputs": [],
   "source": [
    "mongo --eval 'db.examples.insertOne({ name: \"sue\", age: 26 })' \\\n",
    "    && sleep 30"
   ]
  },
  {
   "cell_type": "markdown",
   "id": "d6c2deb6-7e56-4f8f-8b6a-b3b201a31fac",
   "metadata": {},
   "source": [
    "Now `cat` out the mongodb collection file, there should be several. It will likely be the \"`7`th\" file."
   ]
  },
  {
   "cell_type": "markdown",
   "id": "76803c31-2154-4d19-85c8-ffa09cddf7fe",
   "metadata": {},
   "source": [
    "**NOTE:** It cloud take about two minutes for the full contents to be written to disk. There will be multiple lines of data."
   ]
  },
  {
   "cell_type": "code",
   "execution_count": null,
   "id": "d830231b-4b37-4a66-9ea7-df215eaf1ee3",
   "metadata": {},
   "outputs": [],
   "source": [
    "docker exec -it mongodb sh -c \"cat /data/db/collection-7*.wt\" "
   ]
  },
  {
   "cell_type": "markdown",
   "id": "3a8459de-b9f2-4383-b4a3-9d335f2b1c4b",
   "metadata": {},
   "source": [
    "Now the contents of the file are encrypted! You should not be able to see any object data or metadata in plaintext."
   ]
  },
  {
   "cell_type": "markdown",
   "id": "1bbf8571-9df9-4686-b6f8-fc8cf662c69e",
   "metadata": {},
   "source": [
    "## Conclusion"
   ]
  },
  {
   "cell_type": "markdown",
   "id": "737573f2-4950-4efd-85ea-c3fcd1867b96",
   "metadata": {},
   "source": [
    "A critical principal in implementing Zero Trust is to always assume a breach.\n",
    "With the implmentation of Vault's KMIP secret engine, we've ensured that our customer data is secure even if your adversaries gain access to physical database hosts.\n",
    "\n",
    "This tutorial is based on work from Andrew Klaas, Troy Fluegge, Vault Learn guide."
   ]
  },
  {
   "cell_type": "markdown",
   "id": "ad52b719-2cc7-47d1-959a-092e0c34215c",
   "metadata": {},
   "source": [
    "## Resources"
   ]
  },
  {
   "cell_type": "markdown",
   "id": "406249ed-c23a-4e70-a0fb-ba7bd4f3afea",
   "metadata": {},
   "source": [
    "* Learn - [KMIP Secrets Engine](https://learn.hashicorp.com/tutorials/vault/kmip-engine)\n",
    "* Lab - [Vault KMIP Secrets Engine for MongoDB Encryption (ADP)](https://play.instruqt.com/hashicorp/tracks/vault-kmip-secrets-engine-mongodb)"
   ]
  },
  {
   "cell_type": "markdown",
   "id": "18ebe6f0-239c-4595-b300-c2529249a335",
   "metadata": {},
   "source": [
    "## Clean Up"
   ]
  },
  {
   "cell_type": "markdown",
   "id": "5b0a6f42-47b2-4955-831c-7d7cfcb833c1",
   "metadata": {},
   "source": [
    "### Stop Vault and MongoDB"
   ]
  },
  {
   "cell_type": "code",
   "execution_count": null,
   "id": "b7194657-6b18-4dbc-9cf2-73acbe133bdf",
   "metadata": {},
   "outputs": [],
   "source": [
    "docker stop mongodb vault\n",
    "docker rm mongodb vault"
   ]
  },
  {
   "cell_type": "code",
   "execution_count": null,
   "id": "5542cbf2-e9d4-4ab1-98fc-0d80d1dba9e5",
   "metadata": {},
   "outputs": [],
   "source": [
    "pkill vault mongo"
   ]
  },
  {
   "cell_type": "markdown",
   "id": "2eaeef97-f262-4281-a5fd-b00713f59782",
   "metadata": {},
   "source": [
    "### Remove artifacts"
   ]
  },
  {
   "cell_type": "code",
   "execution_count": null,
   "id": "9cf64495-4b9c-412f-81f3-627f1010ee5f",
   "metadata": {},
   "outputs": [],
   "source": [
    "rm -rf $WORK_DIR"
   ]
  },
  {
   "cell_type": "markdown",
   "id": "24e3f4d0-4fc7-4eec-a4ed-313db7fd914b",
   "metadata": {},
   "source": [
    "### Remove Docker Image"
   ]
  },
  {
   "cell_type": "code",
   "execution_count": null,
   "id": "b9b54a72-ed72-4278-b72e-c1750cd2ae5c",
   "metadata": {},
   "outputs": [],
   "source": [
    "docker image rm $DOCKER_USERNAME/mongo-enterprise:4.4"
   ]
  }
 ],
 "metadata": {
  "kernelspec": {
   "display_name": "Bash",
   "language": "bash",
   "name": "bash"
  },
  "language_info": {
   "codemirror_mode": "shell",
   "file_extension": ".sh",
   "mimetype": "text/x-sh",
   "name": "bash"
  }
 },
 "nbformat": 4,
 "nbformat_minor": 5
}
