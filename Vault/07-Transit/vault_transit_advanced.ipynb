{
 "cells": [
  {
   "cell_type": "markdown",
   "id": "f6bc18e4-0ad2-41ea-9dad-22ca162d9991",
   "metadata": {},
   "source": [
    "# Encryption as a Service: Transit Secrets Engine - Advanced"
   ]
  },
  {
   "cell_type": "markdown",
   "id": "9f68741e-1bd3-4e3b-a846-fb7cc620b545",
   "metadata": {},
   "source": [
    "## Prerequisites"
   ]
  },
  {
   "cell_type": "markdown",
   "id": "bd268549-686c-4251-b86f-c35b1cceb63d",
   "metadata": {},
   "source": [
    "* Running Vault Server at localhost:8200 - see [Start Vault Server](./01-baseline/100-Setup-Vault.ipynb)"
   ]
  },
  {
   "cell_type": "markdown",
   "id": "e7c2542f-ce63-43bb-9a79-7540283eb7d9",
   "metadata": {},
   "source": [
    "### Set Main Environment Variables"
   ]
  },
  {
   "cell_type": "code",
   "execution_count": null,
   "id": "0a2547a9-33fd-44bf-9969-4989b7c5acfc",
   "metadata": {},
   "outputs": [],
   "source": [
    "export RED=\"\\e[0;31m\" YELLOW=\"\\e[0;33m\" BLDYELLOW=\"\\e[1;33m\" GREEN=\"\\e[0;32m\"\n",
    "export CYAN=\"\\e[0;36m\" BLUE=\"\\e[0;34m\" WHITE=\"\\e[0;37m\" BLDWHITE=\"\\e[1;37m\"\n",
    "export NC=\"\\e[0m\"\n",
    "# Some commands may have sensitive information. Prevent commands starting with a space to be saved to shell history.\n",
    "HISTCONTROL=ignoreboth # do not save lines that begin with space in history\n",
    "\n",
    "printf \"${GREEN}# Set MAIN_DIR for future reference.${NC}\\n\"\n",
    "export MAIN_DIR=${PWD}"
   ]
  },
  {
   "cell_type": "markdown",
   "id": "c25b22d6-f258-4311-804e-a7a07bf2dc84",
   "metadata": {},
   "source": [
    "Be sure to replace `TF_ORG` and `TF_WS_NAME` with your own values."
   ]
  },
  {
   "cell_type": "code",
   "execution_count": null,
   "id": "d7b78826-744f-4bbd-b0cf-8a574fd02f98",
   "metadata": {},
   "outputs": [],
   "source": [
    "printf \"${GREEN}# Set Vault Variables.${NC}\\n\"\n",
    "export VAULT_PORT=8200\n",
    "export VAULT_TOKEN=root\n",
    "export VAULT_ADDR=http://localhost:${VAULT_PORT}\n",
    "export VAULT_LICENSE=$(cat ../../license/vault.hclic)\n",
    "# Set dir env vars. Create required directory.\n",
    "WORK_DIR=config/vault\n",
    "mkdir -p config/vault/{data,logs,config}\n",
    "printf \"\\n$MAIN_DIR \\n $WORK_DIR \\n\""
   ]
  },
  {
   "cell_type": "markdown",
   "id": "1c05f405-9399-492f-8cc3-106f2bdf09f1",
   "metadata": {},
   "source": [
    "## Transit Engine for Sign and Verify"
   ]
  },
  {
   "cell_type": "markdown",
   "id": "b097c243-8e51-45a9-b1fa-70f40f944cff",
   "metadata": {
    "tags": []
   },
   "source": [
    "### Sign\n",
    "\n",
    "This code shows the steps to enable the transit secret engine, configure a key, and use the sign leveraging Vault."
   ]
  },
  {
   "cell_type": "markdown",
   "id": "b3da2817-4dc2-4b47-8980-5a581360a011",
   "metadata": {},
   "source": [
    "### Enable Transit engine"
   ]
  },
  {
   "cell_type": "code",
   "execution_count": null,
   "id": "3ac32db3-772d-44e8-960b-937eb9101f68",
   "metadata": {
    "jp-MarkdownHeadingCollapsed": true,
    "tags": []
   },
   "outputs": [],
   "source": [
    "vault secrets enable transit"
   ]
  },
  {
   "cell_type": "markdown",
   "id": "9ad53b4c-bcda-4e78-a9a7-d358a31b61e9",
   "metadata": {
    "tags": []
   },
   "source": [
    "### Create key\n",
    "* Set `type` to `rsa-4096`.\n",
    "* **NOTE**: Default key type (`aes256-gcm96`) doesn't support signing"
   ]
  },
  {
   "cell_type": "markdown",
   "id": "f93266cd-9b19-4045-85c8-68085da36309",
   "metadata": {},
   "source": [
    "CLI method"
   ]
  },
  {
   "cell_type": "code",
   "execution_count": null,
   "id": "4140e5cb-b7fe-4f36-911e-65ca14c203fc",
   "metadata": {
    "jp-MarkdownHeadingCollapsed": true,
    "tags": []
   },
   "outputs": [],
   "source": [
    "vault write -f transit/keys/my-key type=rsa-4096"
   ]
  },
  {
   "cell_type": "markdown",
   "id": "a8a2bf7e-dc77-438f-8443-c56632ee9eb6",
   "metadata": {},
   "source": [
    "API method (illustration purposes only)"
   ]
  },
  {
   "cell_type": "code",
   "execution_count": null,
   "id": "2a2d6e8d-1a94-40d4-afa3-7c2e2087d627",
   "metadata": {},
   "outputs": [],
   "source": [
    "curl -i \\\n",
    "    -H \"X-Vault-Token: root\" \\\n",
    "    -d '{\"type\":\"rsa-4096\"}' \\\n",
    "    -X POST \"http://127.0.0.1:8200/v1/transit/keys/sign_key\""
   ]
  },
  {
   "cell_type": "markdown",
   "id": "69b1dae2-1366-4c7e-be2d-95e1cd50e0f3",
   "metadata": {},
   "source": [
    "Read key information."
   ]
  },
  {
   "cell_type": "code",
   "execution_count": null,
   "id": "adba42c1-aa14-4bc5-b200-59ed87968603",
   "metadata": {
    "tags": []
   },
   "outputs": [],
   "source": [
    "vault read transit/keys/my-key"
   ]
  },
  {
   "cell_type": "markdown",
   "id": "b11ce72c-12ed-4cb5-acf2-b2615f7dd687",
   "metadata": {},
   "source": [
    "### Delete a key\n",
    "\n",
    "In case you made mistakes and need to delete a key..."
   ]
  },
  {
   "cell_type": "code",
   "execution_count": null,
   "id": "89810d4d-901c-4fba-b0d7-3b93bf919bf0",
   "metadata": {
    "tags": []
   },
   "outputs": [],
   "source": [
    "#enable key deletion\n",
    "vault write transit/keys/sign_key/config deletion_allowed=true\n",
    "vault read transit/keys/sign_key #confirm deletion_allowed\n",
    "vault delete transit/keys/sign_key # delete key\n",
    "vault read transit/keys/sign_key #confirm key is gone"
   ]
  },
  {
   "cell_type": "markdown",
   "id": "bf53c5b5-d573-455d-bc58-8f430facee6a",
   "metadata": {
    "jp-MarkdownHeadingCollapsed": true,
    "tags": []
   },
   "source": [
    "Encode a string as base64"
   ]
  },
  {
   "cell_type": "code",
   "execution_count": null,
   "id": "1d26fe17-635a-4575-8f56-dc384f4266fb",
   "metadata": {
    "jp-MarkdownHeadingCollapsed": true,
    "tags": []
   },
   "outputs": [],
   "source": [
    "echo -n 'Created by Peter, you can trust me!' \\\n",
    "  | openssl base64 | tee $WORK_DIR/vault_b64.txt"
   ]
  },
  {
   "cell_type": "markdown",
   "id": "e3f922b9-4680-436f-8375-971699a58880",
   "metadata": {
    "jp-MarkdownHeadingCollapsed": true,
    "tags": []
   },
   "source": [
    "Sample Output\n",
    "```\n",
    "Q3JlYXRlZCBieSBQZXRlciwgeW91IGNhbiB0cnVzdCBtZSE=\n",
    "```"
   ]
  },
  {
   "cell_type": "markdown",
   "id": "9f039767-f8bd-41d7-b033-9663cdacbb41",
   "metadata": {
    "jp-MarkdownHeadingCollapsed": true,
    "tags": []
   },
   "source": [
    "Sign the encoded data with your key through Vault."
   ]
  },
  {
   "cell_type": "code",
   "execution_count": null,
   "id": "a6936066-893e-45c7-b27a-1b42d1b26ef8",
   "metadata": {
    "jp-MarkdownHeadingCollapsed": true,
    "tags": []
   },
   "outputs": [],
   "source": [
    "vault write \\\n",
    "    -field=signature \\\n",
    "    transit/sign/my-key \\\n",
    "    input=@$WORK_DIR/vault_b64.txt \\\n",
    "    > $WORK_DIR/vault_b64_signed.txt\n",
    "\n",
    "cat $WORK_DIR/vault_b64_signed.txt"
   ]
  },
  {
   "cell_type": "markdown",
   "id": "ff717165-fbdb-4bb0-b396-d8bc5f39f8a5",
   "metadata": {
    "jp-MarkdownHeadingCollapsed": true,
    "tags": []
   },
   "source": [
    "Sample Output\n",
    "```\n",
    "vault:v1:F+KxZxL6YX2fR7Wo65+jkpS3bTrrOfYdlXqxe01uAjle6zzEpi4n...\n",
    "```"
   ]
  },
  {
   "cell_type": "markdown",
   "id": "6efc4e35-6d0b-4153-8e09-f43c99c823f5",
   "metadata": {},
   "source": [
    "## Verify with the Key\n",
    "\n",
    "Verify the signature of the file."
   ]
  },
  {
   "cell_type": "markdown",
   "id": "cba20e05-0d2e-4b46-973f-204bd12de3d4",
   "metadata": {
    "tags": []
   },
   "source": [
    "### Client with access to Vault"
   ]
  },
  {
   "cell_type": "code",
   "execution_count": null,
   "id": "05c4af86-1155-4610-9421-dbb1e0aeda43",
   "metadata": {
    "jp-MarkdownHeadingCollapsed": true,
    "tags": []
   },
   "outputs": [],
   "source": [
    "# Verify on the receiving end\n",
    "vault write transit/verify/my-key \\\n",
    "    input=@$WORK_DIR/vault_b64.txt \\\n",
    "    signature=@$WORK_DIR/vault_b64_signed.txt"
   ]
  },
  {
   "cell_type": "markdown",
   "id": "b5ec3d3e-2adb-403d-80e2-8a21aaecdfdf",
   "metadata": {},
   "source": [
    "You should see\n",
    "```shell\n",
    "Key      Value\n",
    "---      -----\n",
    "valid    true\n",
    "```"
   ]
  },
  {
   "cell_type": "markdown",
   "id": "621fe262-0795-480d-88ee-fe3f5dad7448",
   "metadata": {
    "tags": []
   },
   "source": [
    "### Command Summary for Client with access to Vault"
   ]
  },
  {
   "cell_type": "code",
   "execution_count": null,
   "id": "8c9710e2-9b89-4c50-b70a-f65fab382f55",
   "metadata": {
    "tags": []
   },
   "outputs": [],
   "source": [
    "vault secrets enable transit\n",
    "vault write -f transit/keys/my-key type=rsa-4096\n",
    "#vault write -f transit/keys/bad-key type=rsa-4096\n",
    "\n",
    "echo -n 'Created by Peter, you can trust me!' | base64 > $WORK_DIR/vault_b64.txt\n",
    "cat $WORK_DIR/vault_b64.txt\n",
    "\n",
    "#==> Sign the string\n",
    "vault write \\\n",
    "    -field=signature \\\n",
    "    transit/sign/my-key \\\n",
    "    input=@$WORK_DIR/vault_b64.txt \\\n",
    "    > $WORK_DIR/vault_b64_signed.txt\n",
    "cat $WORK_DIR/vault_b64_signed.txt\n",
    "\n",
    "vault write \\\n",
    "    -field=signature \\\n",
    "    transit/sign/bad-key \\\n",
    "    input=@$WORK_DIR/vault_b64.txt \\\n",
    "    > $WORK_DIR/vault_b64_signed_bad.txt\n",
    "\n",
    "#==> Verify the key: Client with access to Vault:\n",
    "vault write transit/verify/my-key \\\n",
    "    input=@$WORK_DIR/vault_b64.txt \\\n",
    "    signature=@$WORK_DIR/vault_b64_signed.txt\n",
    "\n",
    "vault write transit/verify/my-key \\\n",
    "    input=@$WORK_DIR/vault_b64.txt \\\n",
    "    signature=@$WORK_DIR/vault_b64_signed_bad.txt"
   ]
  },
  {
   "cell_type": "markdown",
   "id": "f40695bb-33ce-4efb-9767-ee55527abcf1",
   "metadata": {},
   "source": [
    "### Offline client"
   ]
  },
  {
   "cell_type": "markdown",
   "id": "9b8079d9-b795-4d78-b76e-0266e2e3956a",
   "metadata": {},
   "source": [
    "#### Export Public Key"
   ]
  },
  {
   "cell_type": "markdown",
   "id": "d354eb49-a9c1-4425-8d27-584f7e7362a4",
   "metadata": {},
   "source": [
    "Export the **PUBLIC** key. Used for verification, so not sensitive.\n",
    "* Grab content between (and including) \"`-----BEGIN PUBLIC KEY-----`\" and \"`-----END PUBLIC KEY-----`\"\n",
    "* Put contents into a file: `public.key`\n",
    "* If you have multiple versions of the key, you need to specify index. ex `.[\"1\"].public_key`"
   ]
  },
  {
   "cell_type": "code",
   "execution_count": null,
   "id": "e795a9fa-eb61-4762-b6f8-9ef09eba84ec",
   "metadata": {},
   "outputs": [],
   "source": [
    "vault read -field=keys -format=json transit/keys/my-key | jq .[].public_key | cat"
   ]
  },
  {
   "cell_type": "code",
   "execution_count": null,
   "id": "03d58569-8265-4226-8d43-db8571bc7246",
   "metadata": {},
   "outputs": [],
   "source": [
    "vault read -field=keys -format=json transit/keys/my-key \\\n",
    "    | jq -r '.[].public_key' > $WORK_DIR/public.key\n",
    "cat $WORK_DIR/public.key"
   ]
  },
  {
   "cell_type": "markdown",
   "id": "d6eef260-a3c3-4efe-8eee-67903312f442",
   "metadata": {},
   "source": [
    "Sample Output\n",
    "```\n",
    "-----BEGIN PUBLIC KEY-----\n",
    "MIICIjANBgkqhkiG9w0BAQEFAAOCAg8AMIICCgKCAgEApvlAEqQwgyymVtMcVm5L\n",
    "FuAKdU9XbL5CLC9Vi7V1COIgvgq57XV7GmcKyhb2/q6rJICsILwObytNzQEznjeE\n",
    "FiTj2TfzobHAi70iRhP4vLtTdUnzNu6g+nx9iCPWN32AvMhk7VtHk7EX27d1ap4E\n",
    "o8UCFokpzlTWF0trnfHhiMNcnxHILpedm3Rc6uSK/6zghMMXAT3TvPFZeQZMrilh\n",
    "zprisdURUkfqVuUUk9DW+dMs1ABAUcKlAi/JbUBe1t8aDrkl7mEk58/tCndkrlyt\n",
    "3tNBEoahcyCXgL/8lTNJwlw9mqQsTUv2zm/+WMrsxxNlTIu+Z40KGYdBDBXY3rNr\n",
    "Eh2F7ATfpf5Ws6N5a8PkQ3o6ng2vME/PQZ4CXnnI1w/z+dFm6FlK/DOz+L7qCNI+\n",
    "ewarl23eX1M/7WaZnYLlD63j1UWuO+aD+RzbsmGyl/5CC5MUnBhY9F+w5KA1fhz6\n",
    "eRXELtYBHE8d0qV87CP+P9Es0XSWWuN1qE+qih3kNkAlWuHhlqGFxtZPOFSOokE8\n",
    "J4LSehSU530VqxJzppkBrKnBj8AMAYMxvbUHsiyy4zmgdGYTX9/riccspws77Q+K\n",
    "JwMaRWvVo7o0PcnfCEZTdAucKuvZZhfe8sbCeOqN+SlcRDXMXc/ChKCSZamSiFA7\n",
    "4b2JEcdeuMCzMp8t0HZsD60CAwEAAQ==\n",
    "-----END PUBLIC KEY-----\n",
    "```"
   ]
  },
  {
   "cell_type": "code",
   "execution_count": null,
   "id": "9f56d55d-84bf-4897-904e-b813bedd9022",
   "metadata": {},
   "outputs": [],
   "source": [
    "echo \"supersecret\" > $WORK_DIR/in.txt.sha256"
   ]
  },
  {
   "cell_type": "markdown",
   "id": "9376ecf8-ec20-4378-a4b0-7f3860835f85",
   "metadata": {},
   "source": [
    "* Sign and base64 encode. Save output to `plaintext.sign` file.\n",
    "\t* When you sign, it's important to use the same `hash_algorithm` and `signature_algorithm` as OpenSSL."
   ]
  },
  {
   "cell_type": "code",
   "execution_count": null,
   "id": "e4241c32-a6a2-469f-b2cb-11265b5f0f2a",
   "metadata": {},
   "outputs": [],
   "source": [
    "#--> Test Sign\n",
    "cat $WORK_DIR/in.txt.sha256 | base64 \\\n",
    "    | vault write transit/sign/my-key input=-"
   ]
  },
  {
   "cell_type": "code",
   "execution_count": null,
   "id": "61cce666-708e-43cd-af27-141868a57d3c",
   "metadata": {},
   "outputs": [],
   "source": [
    "#==> Sign and encode.\n",
    "cat $WORK_DIR/in.txt.sha256 | base64 \\\n",
    "    | vault write -format=json transit/sign/my-key input=- \\\n",
    "    | jq -r '.data.signature' \\\n",
    "    | sed 's|vault:v.:||g' | base64 -d \\\n",
    "    > $WORK_DIR/plaintext.sign"
   ]
  },
  {
   "cell_type": "markdown",
   "id": "c8d3a9f0-d189-4742-b569-cbb44ca952dd",
   "metadata": {},
   "source": [
    "* We removed the vault:v1: prefix\n",
    "  * `s|vault:v.:||g` - used \"`.`\" wildcard to match any version number.\n",
    "\n",
    "Sample Output\n",
    "```\n",
    "Verified OK \n",
    "```"
   ]
  },
  {
   "cell_type": "code",
   "execution_count": null,
   "id": "d4187b25-ae57-4a9d-91f3-301232d4f41d",
   "metadata": {},
   "outputs": [],
   "source": [
    "openssl dgst -sha256 \\\n",
    "  -verify $WORK_DIR/public.key \\\n",
    "  -signature $WORK_DIR/plaintext.sign \\\n",
    "  -sigopt rsa_padding_mode:pss -sigopt rsa_pss_saltlen:-2 \\\n",
    "  $WORK_DIR/in.txt.sha256"
   ]
  },
  {
   "cell_type": "code",
   "execution_count": null,
   "id": "656b451a-6858-48da-a127-2adb880d9c61",
   "metadata": {},
   "outputs": [],
   "source": [
    "vault write -format=json transit/sign/my-key \\\n",
    "    input=@$WORK_DIR/vault_b64.txt \\\n",
    "    hash_algorithm=sha2-256 signature_algorithm=pkcs1v15 \\\n",
    "    | jq -r .data.signature > $WORK_DIR/msg.sig.base64"
   ]
  },
  {
   "cell_type": "code",
   "execution_count": null,
   "id": "48be2c33-d3f0-4300-a857-59e958da2c91",
   "metadata": {},
   "outputs": [],
   "source": [
    "cat $WORK_DIR/msg.sig.base64"
   ]
  },
  {
   "cell_type": "markdown",
   "id": "647561bf-554d-43c7-af61-ddcca7abef48",
   "metadata": {},
   "source": [
    "* `hash_algorithm` - default is sha2-256\n",
    "* `signature_algorithm` - default is pss\n",
    "\n",
    "* Then create a file `msg.sig.base64` with the signature generated by Vault.\n",
    "\t* Vault always use base64 so the signature will be returned in base64.\n",
    "\t* OpenSSL only works with binary data, so you'll have to decode the signature first"
   ]
  },
  {
   "cell_type": "code",
   "execution_count": null,
   "id": "9286f6e1-f13d-4053-84f7-07b39bbaf54a",
   "metadata": {},
   "outputs": [],
   "source": [
    "openssl base64 -d -A -in $WORK_DIR/msg.sig.base64 -out $WORK_DIR/msg.sig"
   ]
  },
  {
   "cell_type": "markdown",
   "id": "e9e41925-99b4-44b7-8b0e-e0bce689626e",
   "metadata": {},
   "source": [
    "And then verify the signature of your original message"
   ]
  },
  {
   "cell_type": "code",
   "execution_count": null,
   "id": "38d010ad-ae11-43bf-b600-3c7a14819068",
   "metadata": {},
   "outputs": [],
   "source": [
    "openssl dgst -sha256 -verify $WORK_DIR/public.key -signature $WORK_DIR/msg.sig msg.txt"
   ]
  },
  {
   "cell_type": "markdown",
   "id": "cdfe6445-9fc5-4cff-a82a-27447b0071c2",
   "metadata": {},
   "source": [
    "### Rotate\n",
    "\n",
    "```shell\n",
    "export ENGINE_PATH=transit\n",
    "export KEY_NAME=my-key\n",
    "vault write -f ${ENGINE_PATH}/keys/${KEY_NAME}/rotate\n",
    "```\n",
    "\n",
    "\n",
    "Need to have OpenSSL use PSS padding:\n",
    "```shell\n",
    "openssl dgst -sha256 -verify public.key -signature msg.sig -sigopt rsa_padding_mode:pss msg.txt\n",
    "```"
   ]
  },
  {
   "cell_type": "markdown",
   "id": "0ff0ceff-e89f-45fb-91d9-49824cd4692b",
   "metadata": {},
   "source": [
    "## Resources\n",
    "* Stenio - https://gist.github.com/stenio123/0ae467df32364efad0ca01d3b9c3e1c5\n",
    "* https://gist.github.com/42wim/795acbdd90ac8a76fc78bc7f54ebbba7\n",
    "* jwt - https://jwt.io/"
   ]
  }
 ],
 "metadata": {
  "kernelspec": {
   "display_name": "Bash",
   "language": "bash",
   "name": "bash"
  },
  "language_info": {
   "codemirror_mode": "shell",
   "file_extension": ".sh",
   "mimetype": "text/x-sh",
   "name": "bash"
  }
 },
 "nbformat": 4,
 "nbformat_minor": 5
}
