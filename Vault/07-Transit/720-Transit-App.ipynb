{
 "cells": [
  {
   "cell_type": "markdown",
   "metadata": {},
   "source": [
    "# Encryption as a Service using MySQL\n",
    "Based on\n",
    "https://github.com/assareh/transit-app-example\n",
    "\n",
    "This scenario demonstrates dynamically generated MySQL credentials, Encryption as a Service and Format Preserving Encryption all together."
   ]
  },
  {
   "cell_type": "markdown",
   "metadata": {},
   "source": [
    "## Prerequisites"
   ]
  },
  {
   "cell_type": "markdown",
   "metadata": {},
   "source": [
    "### Set Up Environment Variables"
   ]
  },
  {
   "cell_type": "markdown",
   "metadata": {},
   "source": [
    "Customize the values below if you want Vault to start with different parameters"
   ]
  },
  {
   "cell_type": "code",
   "execution_count": null,
   "metadata": {},
   "outputs": [],
   "source": [
    "export RED=\"\\e[0;31m\" YELLOW=\"\\e[0;33m\" BLDYELLOW=\"\\e[1;33m\" GREEN=\"\\e[0;32m\"\n",
    "export CYAN=\"\\e[0;36m\" BLUE=\"\\e[0;34m\" WHITE=\"\\e[0;37m\" BLDWHITE=\"\\e[1;37m\"\n",
    "export NC=\"\\e[0m\"\n",
    "# Some commands may have sensitive information. Prevent commands starting with a space to be saved to shell history.\n",
    "HISTCONTROL=ignoreboth # do not save lines that begin with space in history\n",
    "# Set dir env vars. \n",
    "# MAIN_DIR=$(pwd)\n",
    "# WORK_DIR=config/vault"
   ]
  },
  {
   "cell_type": "code",
   "execution_count": null,
   "metadata": {},
   "outputs": [],
   "source": [
    "# Common\n",
    "export VAULT_VER=1.7.5 # 1.8+ enterprise requires license file\n",
    "export VAULT_PORT=8200\n",
    "export VAULT_TOKEN=root\n",
    "export VAULT_ADDR=http://localhost:${VAULT_PORT}\n",
    "export VAULT_LICENSE=$(cat ../../license/vault.hclic)\n",
    "export LOGS_PATH=$(PWD)/vault_logs"
   ]
  },
  {
   "cell_type": "code",
   "execution_count": null,
   "metadata": {},
   "outputs": [],
   "source": [
    "# Create required directories.\n",
    "mkdir -p $WORK_DIR/{data,logs,config}"
   ]
  },
  {
   "cell_type": "markdown",
   "metadata": {},
   "source": []
  },
  {
   "cell_type": "code",
   "execution_count": null,
   "metadata": {},
   "outputs": [],
   "source": [
    "## Create docker-compose file.\n",
    "cat > docker-compose.yaml << EOF\n",
    "version: '3.8'\n",
    "services:\n",
    "  vault:\n",
    "    image: hashicorp/vault-enterprise:${VAULT_VER}_ent # Vault Enterprise\n",
    "    #image: hashicorp/vault:${VAULT_VER}                # Vault OSS\n",
    "    container_name: vault\n",
    "    restart: always\n",
    "    volumes:\n",
    "      - ./${WORK_DIR}/logs:/vault/logs\n",
    "    ports:\n",
    "      - \"8200:8200/tcp\"\n",
    "    environment:\n",
    "      VAULT_DEV_ROOT_TOKEN_ID: ${VAULT_TOKEN}\n",
    "      VAULT_DEV_LISTEN_ADDRESS: \"0.0.0.0:${VAULT_PORT}\"\n",
    "      VAULT_ADDR: ${VAULT_ADDR}\n",
    "      VAULT_LICENSE: ${VAULT_LICENSE}\n",
    "    cap_add:\n",
    "      - IPC_LOCK\n",
    "    entrypoint: \"vault server -dev\" # dev mode\n",
    "EOF"
   ]
  },
  {
   "cell_type": "code",
   "execution_count": null,
   "metadata": {
    "tags": []
   },
   "outputs": [],
   "source": [
    "docker compose up -d --quiet-pull > docker-compose.log 2>&1"
   ]
  },
  {
   "cell_type": "code",
   "execution_count": null,
   "metadata": {},
   "outputs": [],
   "source": [
    "vault status"
   ]
  },
  {
   "cell_type": "markdown",
   "metadata": {},
   "source": [
    "### Get Credentials"
   ]
  },
  {
   "cell_type": "code",
   "execution_count": null,
   "metadata": {},
   "outputs": [],
   "source": [
    "export creds=$(vault token create -format=json -period=30m | jq .auth.client_token -r)\n",
    "echo $creds"
   ]
  },
  {
   "cell_type": "markdown",
   "metadata": {},
   "source": [
    "## Create a database"
   ]
  },
  {
   "cell_type": "code",
   "execution_count": null,
   "metadata": {},
   "outputs": [],
   "source": [
    "docker run --name workshop-mysql \\\n",
    "  -p 3306:3306 \\\n",
    "  --rm \\\n",
    "  -e MYSQL_ROOT_PASSWORD=root \\\n",
    "  -e MYSQL_ROOT_HOST=% \\\n",
    "  -e MYSQL_DATABASE=my_app \\\n",
    "  -e MYSQL_USER=vault \\\n",
    "  -e MYSQL_PASSWORD=vaultpw \\\n",
    "  -d mysql/mysql-server:5.7"
   ]
  },
  {
   "cell_type": "markdown",
   "metadata": {
    "tags": []
   },
   "source": [
    "### Verify Database functionality"
   ]
  },
  {
   "cell_type": "markdown",
   "metadata": {
    "jp-MarkdownHeadingCollapsed": true,
    "tags": []
   },
   "source": [
    "Display existing database users"
   ]
  },
  {
   "cell_type": "code",
   "execution_count": null,
   "metadata": {},
   "outputs": [],
   "source": [
    "docker exec -it workshop-mysql mysql -uroot -proot -e \"select user from mysql.user;\""
   ]
  },
  {
   "cell_type": "markdown",
   "metadata": {},
   "source": [
    "Display existing databases"
   ]
  },
  {
   "cell_type": "code",
   "execution_count": null,
   "metadata": {},
   "outputs": [],
   "source": [
    "docker exec -it workshop-mysql mysql -uroot -proot -e \"show databases\""
   ]
  },
  {
   "cell_type": "markdown",
   "metadata": {},
   "source": [
    "## Configure Vault and Database Engine"
   ]
  },
  {
   "cell_type": "code",
   "execution_count": null,
   "metadata": {},
   "outputs": [],
   "source": [
    "vault audit enable file file_path=/tmp/vault_audit.log"
   ]
  },
  {
   "cell_type": "markdown",
   "metadata": {},
   "source": [
    "Enable Database secrets engine."
   ]
  },
  {
   "cell_type": "code",
   "execution_count": null,
   "metadata": {},
   "outputs": [],
   "source": [
    "vault secrets enable -path=lob_a/workshop/database database"
   ]
  },
  {
   "cell_type": "markdown",
   "metadata": {},
   "source": [
    "Configure database connection."
   ]
  },
  {
   "cell_type": "code",
   "execution_count": null,
   "metadata": {},
   "outputs": [],
   "source": [
    "vault write lob_a/workshop/database/config/ws-mysql-database \\\n",
    "    plugin_name=mysql-database-plugin \\\n",
    "    connection_url=\"{{username}}:{{password}}@tcp(host.docker.internal:3306)/\" \\\n",
    "    allowed_roles=\"workshop-app-long,workshop-app\" \\\n",
    "    username=\"root\" \\\n",
    "    password=\"root\""
   ]
  },
  {
   "cell_type": "markdown",
   "metadata": {},
   "source": [
    "Configure Vault `workshop-app` role"
   ]
  },
  {
   "cell_type": "code",
   "execution_count": null,
   "metadata": {},
   "outputs": [],
   "source": [
    "vault write lob_a/workshop/database/roles/workshop-app-long \\\n",
    "    db_name=ws-mysql-database \\\n",
    "    creation_statements=\"CREATE USER '{{name}}'@'%' IDENTIFIED BY '{{password}}';GRANT ALL ON *.* TO '{{name}}'@'%';\" \\\n",
    "    default_ttl=\"1h\" \\\n",
    "    max_ttl=\"24h\""
   ]
  },
  {
   "cell_type": "code",
   "execution_count": null,
   "metadata": {},
   "outputs": [],
   "source": [
    "vault write lob_a/workshop/database/roles/workshop-app \\\n",
    "    db_name=ws-mysql-database \\\n",
    "    creation_statements=\"CREATE USER '{{name}}'@'%' IDENTIFIED BY '{{password}}';GRANT ALL ON *.* TO '{{name}}'@'%';\" \\\n",
    "    default_ttl=\"5m\" \\\n",
    "    max_ttl=\"1h\""
   ]
  },
  {
   "cell_type": "markdown",
   "metadata": {},
   "source": [
    "## Demo"
   ]
  },
  {
   "cell_type": "markdown",
   "metadata": {},
   "source": [
    "### Get Database credential"
   ]
  },
  {
   "cell_type": "code",
   "execution_count": null,
   "metadata": {},
   "outputs": [],
   "source": [
    "vault read lob_a/workshop/database/creds/workshop-app-long"
   ]
  },
  {
   "cell_type": "markdown",
   "metadata": {},
   "source": [
    "Display database users. Note new user added by Vault"
   ]
  },
  {
   "cell_type": "code",
   "execution_count": null,
   "metadata": {},
   "outputs": [],
   "source": [
    "docker exec -it workshop-mysql mysql -u root -p'root' \\\n",
    "  -e \"select user from mysql.user\"; "
   ]
  },
  {
   "cell_type": "markdown",
   "metadata": {},
   "source": [
    "### Configure Encryption as a Service "
   ]
  },
  {
   "cell_type": "markdown",
   "metadata": {},
   "source": [
    "Enable Transit secrets engine."
   ]
  },
  {
   "cell_type": "code",
   "execution_count": null,
   "metadata": {},
   "outputs": [],
   "source": [
    "vault secrets enable -path=lob_a/workshop/transit transit"
   ]
  },
  {
   "cell_type": "raw",
   "metadata": {},
   "source": [
    "Create transit keys."
   ]
  },
  {
   "cell_type": "code",
   "execution_count": null,
   "metadata": {},
   "outputs": [],
   "source": [
    "\n",
    "vault write -f lob_a/workshop/transit/keys/customer-key"
   ]
  },
  {
   "cell_type": "code",
   "execution_count": null,
   "metadata": {},
   "outputs": [],
   "source": [
    "vault write -f lob_a/workshop/transit/keys/archive-key"
   ]
  },
  {
   "cell_type": "markdown",
   "metadata": {},
   "source": [
    "### Configure Transform"
   ]
  },
  {
   "cell_type": "code",
   "execution_count": null,
   "metadata": {},
   "outputs": [],
   "source": [
    "TRANSFORM_PATH=lob_a/workshop/transform\n",
    "vault secrets enable -path=${TRANSFORM_PATH} transform"
   ]
  },
  {
   "cell_type": "code",
   "execution_count": null,
   "metadata": {},
   "outputs": [],
   "source": [
    "vault write ${TRANSFORM_PATH}/role/ssn transformations=ssn-fpe"
   ]
  },
  {
   "cell_type": "code",
   "execution_count": null,
   "metadata": {},
   "outputs": [],
   "source": [
    "vault write ${TRANSFORM_PATH}/transformation/ssn-fpe \\\n",
    "  type=fpe \\\n",
    "  template=builtin/socialsecuritynumber \\\n",
    "  tweak_source=internal \\\n",
    "  allowed_roles=ssn"
   ]
  },
  {
   "cell_type": "markdown",
   "metadata": {},
   "source": [
    "## RUN the transit app \n",
    "\n",
    "**Note:** after a while the transit-app-example gives 500 Internal Server Error.  Just stop and rerun the container."
   ]
  },
  {
   "cell_type": "markdown",
   "metadata": {},
   "source": [
    "Clone Andy Assareh's repo."
   ]
  },
  {
   "cell_type": "code",
   "execution_count": null,
   "metadata": {},
   "outputs": [],
   "source": [
    "git clone https://github.com/assareh/transit-app-example.git"
   ]
  },
  {
   "cell_type": "markdown",
   "metadata": {},
   "source": [
    "Build transit app container"
   ]
  },
  {
   "cell_type": "code",
   "execution_count": null,
   "metadata": {},
   "outputs": [],
   "source": [
    "pushd transit-app-example/backend"
   ]
  },
  {
   "cell_type": "code",
   "execution_count": null,
   "metadata": {},
   "outputs": [],
   "source": [
    "docker build -q -t transit-app ."
   ]
  },
  {
   "cell_type": "code",
   "execution_count": null,
   "metadata": {},
   "outputs": [],
   "source": [
    "popd"
   ]
  },
  {
   "cell_type": "markdown",
   "metadata": {},
   "source": [
    "Run the transit app container"
   ]
  },
  {
   "cell_type": "code",
   "execution_count": null,
   "metadata": {},
   "outputs": [],
   "source": [
    "docker run --name transit-app \\\n",
    "  --rm \\\n",
    "  -p 5000:5000 \\\n",
    "  -e VAULT_ADDR=http://host.docker.internal:8200 \\\n",
    "  -e VAULT_DATABASE_CREDS_PATH=lob_a/workshop/database/creds/workshop-app-long \\\n",
    "  -e VAULT_NAMESPACE=root \\\n",
    "  -e VAULT_TOKEN=${creds} \\\n",
    "  -e VAULT_TRANSFORM_PATH=${TRANSFORM_PATH} \\\n",
    "  -e VAULT_TRANSFORM_MASKING_PATH=lob_a/workshop/transform \\\n",
    "  -e VAULT_TRANSIT_PATH=lob_a/workshop/transit \\\n",
    "  -e MYSQL_ADDR=host.docker.internal \\\n",
    "  -d transit-app"
   ]
  },
  {
   "cell_type": "markdown",
   "metadata": {},
   "source": [
    "* `VAULT_ADDR`\n",
    "    * `host.docker.internal` - special DNS name which resolves to internal IP used by host. Mac only.\n",
    "    \n",
    "* `VAULT_TRANSFORM_PATH` and `VAULT_TRANSFORM_MASKING_PATH` should not be the same?"
   ]
  },
  {
   "cell_type": "markdown",
   "metadata": {},
   "source": [
    "See the additional database accounts created."
   ]
  },
  {
   "cell_type": "code",
   "execution_count": null,
   "metadata": {},
   "outputs": [],
   "source": [
    "docker exec -it workshop-mysql mysql -uroot -proot -e  \"select user from mysql.user;\""
   ]
  },
  {
   "cell_type": "markdown",
   "metadata": {},
   "source": [
    "Open the transit app in a browser."
   ]
  },
  {
   "cell_type": "code",
   "execution_count": null,
   "metadata": {},
   "outputs": [],
   "source": [
    "open http://localhost:5000"
   ]
  },
  {
   "cell_type": "markdown",
   "metadata": {},
   "source": [
    "## Cleanup"
   ]
  },
  {
   "cell_type": "markdown",
   "metadata": {},
   "source": [
    "Stop transit app"
   ]
  },
  {
   "cell_type": "code",
   "execution_count": null,
   "metadata": {},
   "outputs": [],
   "source": [
    "docker stop transit-app"
   ]
  },
  {
   "cell_type": "markdown",
   "metadata": {},
   "source": [
    "Stop mysql database container"
   ]
  },
  {
   "cell_type": "code",
   "execution_count": null,
   "metadata": {},
   "outputs": [],
   "source": [
    "docker stop workshop-mysql"
   ]
  },
  {
   "cell_type": "markdown",
   "metadata": {},
   "source": [
    "Stop Vault container"
   ]
  },
  {
   "cell_type": "code",
   "execution_count": null,
   "metadata": {},
   "outputs": [],
   "source": [
    "docker compose down -h"
   ]
  },
  {
   "cell_type": "markdown",
   "metadata": {},
   "source": [
    "Delete artifacts"
   ]
  },
  {
   "cell_type": "code",
   "execution_count": null,
   "metadata": {},
   "outputs": [],
   "source": [
    "rm -rf transit-app-example"
   ]
  },
  {
   "cell_type": "markdown",
   "metadata": {},
   "source": [
    "## End"
   ]
  }
 ],
 "metadata": {
  "kernelspec": {
   "display_name": "Bash",
   "language": "bash",
   "name": "bash"
  },
  "language_info": {
   "codemirror_mode": "shell",
   "file_extension": ".sh",
   "mimetype": "text/x-sh",
   "name": "bash"
  }
 },
 "nbformat": 4,
 "nbformat_minor": 4
}
