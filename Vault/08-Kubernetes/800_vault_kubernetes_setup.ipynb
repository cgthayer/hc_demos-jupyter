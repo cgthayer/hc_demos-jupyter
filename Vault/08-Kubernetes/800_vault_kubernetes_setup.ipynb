{
 "cells": [
  {
   "cell_type": "markdown",
   "id": "47ed97d9-738f-4447-9dca-0e749689e261",
   "metadata": {},
   "source": [
    "# Vault and Kubernetes Setup"
   ]
  },
  {
   "cell_type": "markdown",
   "id": "4ab7fd2b-9018-4b51-b3a4-405ecc83ffc5",
   "metadata": {},
   "source": [
    "Vault Agent takes responsibility for these tasks and enables your applications to\n",
    "remain unaware of Vault. However, this introduces a new requirement that\n",
    "deployments install and configure Vault Agent alongside the application as a\n",
    "sidecar.\n",
    "\n",
    "The Vault Helm chart enables you to run Vault and the Vault Agent Injector\n",
    "service. This injector service leverages the Kubernetes mutating admission\n",
    "webhook to intercept pods that define specific annotations and inject a Vault\n",
    "Agent container to manage these secrets. This is beneficial because:\n",
    "\n",
    "- Applications remain Vault unaware as the secrets are stored on the file-system\n",
    "  in their container.\n",
    "- Existing deployments require no change; as annotations can be patched.\n",
    "- Access to secrets can be enforced via Kubernetes service accounts and\n",
    "  namespaces\n",
    "\n",
    "In this tutorial, you setup Vault and this injector service with the Vault Helm\n",
    "chart. Then you will deploy several applications to demonstrate how this new injector\n",
    "service retrieves and writes these secrets for the applications to use."
   ]
  },
  {
   "cell_type": "markdown",
   "id": "5e5fa481-d5d4-4086-acd2-97429a60fc0e",
   "metadata": {},
   "source": [
    "## Prerequisites\n",
    "\n",
    "This tutorial requires:\n",
    "* the [Kubernetes command-line interface\n",
    "(CLI)](https://kubernetes.io/docs/tasks/tools/install-kubectl/) \n",
    "* the [Helm\n",
    "CLI](https://helm.sh/docs/helm/) installed\n",
    "* [kind](https://kind.sigs.k8s.io/) or [Minikube](https://minikube.sigs.k8s.io)\n",
    "* and additional configuration to bring it all together.\n",
    "\n",
    "This tutorial was last tested 23 Apr 2021 on a macOS 11.2.3 using this\n",
    "configuration.\n",
    "\n",
    "* Docker version: 20.10.6\n",
    "* kind version: 0.11.1\n",
    "* Minikube version: - ?\n",
    "* helm version: 3.6.3"
   ]
  },
  {
   "cell_type": "code",
   "execution_count": null,
   "id": "98a24f63-49b4-4189-9d85-ebddf637b2e4",
   "metadata": {},
   "outputs": [],
   "source": [
    "echo \"#==> docker version\"\n",
    "docker version | grep -i version\n",
    "echo \"#==> kind version\"\n",
    "kind version\n",
    "echo \"#==> minikube version\"\n",
    "minikube version\n",
    "echo \"#==> helm version\"\n",
    "helm version"
   ]
  },
  {
   "cell_type": "markdown",
   "id": "a3df785a-9db9-4a84-abbf-ada6d8627bff",
   "metadata": {
    "tags": []
   },
   "source": [
    "### Install software"
   ]
  },
  {
   "cell_type": "markdown",
   "id": "d52795e7-45ca-45ef-b1f2-ac1c35db68a7",
   "metadata": {},
   "source": [
    "#### Instal minikube kubernetes"
   ]
  },
  {
   "cell_type": "markdown",
   "id": "dbc95e94-9f24-4057-b0a6-27463bd1d2c6",
   "metadata": {
    "tags": []
   },
   "source": [
    "Follow the directions to [install\n",
    "Minikube](https://kubernetes.io/docs/tasks/tools/install-minikube/), including\n",
    "VirtualBox or similar."
   ]
  },
  {
   "cell_type": "markdown",
   "id": "df57e115-8758-47d4-b4b2-6d53e5138f0b",
   "metadata": {
    "tags": []
   },
   "source": [
    "#### Install kind kubernetes"
   ]
  },
  {
   "cell_type": "code",
   "execution_count": null,
   "id": "0c738926-3925-4640-ade7-f577714d97af",
   "metadata": {
    "tags": []
   },
   "outputs": [],
   "source": [
    "brew install kind"
   ]
  },
  {
   "cell_type": "markdown",
   "id": "b7b61b68-f404-41c3-a2c1-647deea33f82",
   "metadata": {
    "tags": []
   },
   "source": [
    "#### Install kubectl CLI and helm CLI"
   ]
  },
  {
   "cell_type": "markdown",
   "id": "85fa147e-87cf-4cba-a836-19b9976449a9",
   "metadata": {
    "tags": []
   },
   "source": [
    "Install [kubectl CLI](https://kubernetes.io/docs/tasks/tools/install-kubectl/)\n",
    "and [helm CLI](https://github.com/helm/helm#install).\n",
    "\n",
    "**Homebrew on OS X**\n",
    "\n",
    "Install `kubectl`  and `helm` with [Homebrew](https://brew.sh)."
   ]
  },
  {
   "cell_type": "code",
   "execution_count": null,
   "id": "ab514466-6f90-4fcc-99f7-600b511db133",
   "metadata": {},
   "outputs": [],
   "source": [
    "brew install kubernetes-cli\n",
    "brew install helm"
   ]
  },
  {
   "cell_type": "markdown",
   "id": "5654682a-0981-4df7-ac3d-cfd8349cf78f",
   "metadata": {
    "tags": []
   },
   "source": [
    "**Chocolatey on Windows**\n",
    "\n",
    "Install `kubectl` and `helm` with [Chocolatey](https://chocolatey.org/).\n",
    "\n",
    "```shell\n",
    "$ choco install kubernetes-cli\n",
    "$ choco install kubernetes-helm\n",
    "```"
   ]
  },
  {
   "cell_type": "markdown",
   "id": "a05168e6-3cc1-47ea-a68c-8a75acaefd31",
   "metadata": {},
   "source": [
    "(optional) Install Lens IDE"
   ]
  },
  {
   "cell_type": "code",
   "execution_count": null,
   "id": "06bad058-9582-4be7-a6f8-5167ce8492ca",
   "metadata": {},
   "outputs": [],
   "source": [
    "brew install --cask lens"
   ]
  },
  {
   "cell_type": "markdown",
   "id": "6b153a6a-3301-40a0-a679-52bb31ea1589",
   "metadata": {},
   "source": [
    "### Clone Git Repo"
   ]
  },
  {
   "cell_type": "markdown",
   "id": "b36ec584-a38b-402c-97a0-6736c866205a",
   "metadata": {},
   "source": [
    "Next, retrieve the web application and additional configuration by cloning the\n",
    "[hashicorp/vault-guides](https://github.com/hashicorp/vault-guides) repository\n",
    "from GitHub."
   ]
  },
  {
   "cell_type": "code",
   "execution_count": null,
   "id": "3d4ab80c-758b-4333-ab88-53ed0450a92a",
   "metadata": {},
   "outputs": [],
   "source": [
    "git clone https://github.com/hashicorp/vault-guides.git\n",
    "# GIT_DIR=vault-agent-sidecar"
   ]
  },
  {
   "cell_type": "markdown",
   "id": "52272b59-02d0-4bd0-b823-ed40a7d366e0",
   "metadata": {},
   "source": [
    "This repository contains supporting content for all of the Vault learn guides.\n",
    "The content specific to this tutorial can be found in a sub-directory.\n",
    "\n",
    "Go into the\n",
    "`vault-guides/operations/provision-vault/kubernetes/minikube/vault-agent-sidecar`\n",
    "directory."
   ]
  },
  {
   "cell_type": "code",
   "execution_count": null,
   "id": "a760344e-efb2-429a-9593-044a48f60268",
   "metadata": {},
   "outputs": [],
   "source": [
    "pushd vault-guides/operations/provision-vault/kubernetes/minikube/vault-agent-sidecar"
   ]
  },
  {
   "cell_type": "markdown",
   "id": "a3434f5e-71ad-48a7-9943-717672a9ee3c",
   "metadata": {},
   "source": [
    "> **Working directory:** This tutorial assumes that the remainder of commands\n",
    "are executed in this directory."
   ]
  },
  {
   "cell_type": "markdown",
   "id": "3966faef-f66b-4fe3-88b4-b9fead436aa1",
   "metadata": {},
   "source": [
    "## Create a kind Kubernetes cluster"
   ]
  },
  {
   "cell_type": "markdown",
   "id": "9b0c7ef5-d191-472b-a28e-44c8f7677329",
   "metadata": {},
   "source": [
    "Create a kind Kubernetes cluster called `vault-learn`. This takes approximately 2 minutes."
   ]
  },
  {
   "cell_type": "code",
   "execution_count": null,
   "id": "7a8ae2da-9e1a-4dfe-946b-92695524c5ec",
   "metadata": {},
   "outputs": [],
   "source": [
    "kind create cluster --name vault-learn"
   ]
  },
  {
   "cell_type": "markdown",
   "id": "aafbe917-bfae-4ed0-ab9a-b51767a0d81e",
   "metadata": {},
   "source": [
    "Sample Output\n",
    "\n",
    "```shell\n",
    "Creating cluster \"vault-learn\" ...\n",
    " ✓ Ensuring node image (kindest/node:v1.21.1) 🖼\n",
    " ✓ Preparing nodes 📦\n",
    " ✓ Writing configuration 📜\n",
    " ✓ Starting control-plane 🕹️\n",
    " ✓ Installing CNI 🔌\n",
    " ✓ Installing StorageClass 💾\n",
    "Set kubectl context to \"kind-vault-learn\"\n",
    "You can now use your cluster with:\n",
    "\n",
    "kubectl cluster-info --context kind-vault-learn\n",
    "```"
   ]
  },
  {
   "cell_type": "markdown",
   "id": "45ae566d-d1ea-43ad-8b33-1200671b6f15",
   "metadata": {
    "tags": []
   },
   "source": [
    "### Verify kind cluster"
   ]
  },
  {
   "cell_type": "markdown",
   "id": "7f7dee4c-91da-4c38-a202-905b5ff8cb6d",
   "metadata": {},
   "source": [
    "Confirm that `kind` created a container for you."
   ]
  },
  {
   "cell_type": "code",
   "execution_count": null,
   "id": "3fbaecb1-b286-4868-9d41-09706d6d2ed9",
   "metadata": {},
   "outputs": [],
   "source": [
    "docker ps -a | grep kind"
   ]
  },
  {
   "cell_type": "markdown",
   "id": "df3c0333-e76c-4f55-b9d6-732ee78561c1",
   "metadata": {},
   "source": [
    "Verify that your kubernetes cluster exists by listing your `kind` clusters."
   ]
  },
  {
   "cell_type": "code",
   "execution_count": null,
   "id": "a5303750-6d06-4809-a8cf-c177b36e9334",
   "metadata": {},
   "outputs": [],
   "source": [
    "kind get clusters"
   ]
  },
  {
   "cell_type": "markdown",
   "id": "efe26f47-9aed-471b-982e-84e26ef29388",
   "metadata": {},
   "source": [
    "Sample Output\n",
    "```shell\n",
    "vault-learn\n",
    "```"
   ]
  },
  {
   "cell_type": "markdown",
   "id": "043c3d2d-6043-4a10-8e87-5ac7be412ba9",
   "metadata": {},
   "source": [
    "Then, point `kubectl` to interact with this cluster."
   ]
  },
  {
   "cell_type": "code",
   "execution_count": null,
   "id": "876525bb-b139-4a67-9b0c-a096ff161a71",
   "metadata": {},
   "outputs": [],
   "source": [
    "kubectl cluster-info --context kind-vault-learn"
   ]
  },
  {
   "cell_type": "markdown",
   "id": "860dd069-4316-48ba-8d61-89a681eeb341",
   "metadata": {},
   "source": [
    "Sample Output\n",
    "```shell\n",
    "Kubernetes master is running at https://127.0.0.1:32769\n",
    "KubeDNS is running at https://127.0.0.1:32769/api/v1/namespaces/kube-system/services/kube-dns:dns/proxy\n",
    "\n",
    "To further debug and diagnose cluster problems, use 'kubectl cluster-info dump'.\n",
    "```"
   ]
  },
  {
   "cell_type": "markdown",
   "id": "f17494a5-df2a-4739-b94c-8e81c23bcf68",
   "metadata": {},
   "source": [
    "### Optional - Start Minikube\n",
    "\n",
    "[Minikube](https://minikube.sigs.k8s.io/) is a CLI tool that provisions and\n",
    "manages the lifecycle of single-node [Kubernetes\n",
    "clusters](https://kubernetes.io/docs/concepts/architecture/) locally\n",
    "inside Virtual Machines (VM) on your system.\n",
    "\n",
    "Start a Kubernetes cluster.\n",
    "\n",
    "```shell-session\n",
    "$ minikube start\n",
    "😄  minikube v1.19.0 on Darwin 11.2.3\n",
    "✨  Using the docker driver based on existing profile\n",
    "👍  Starting control plane node minikube in cluster minikube\n",
    "🔄  Restarting existing docker container for \"minikube\" ...\n",
    "🐳  Preparing Kubernetes v1.20.2 on Docker 20.10.5 ...\n",
    "🔎  Verifying Kubernetes components...\n",
    "    ▪ Using image gcr.io/k8s-minikube/storage-provisioner:v5\n",
    "🌟  Enabled addons: storage-provisioner, default-storageclass\n",
    "🏄  Done! kubectl is now configured to use \"minikube\" cluster and \"default\" namespace by default\n",
    "```\n",
    "\n",
    "The initialization process takes several minutes as it retrieves any necessary\n",
    "dependencies and executes various container images.\n",
    "\n",
    "Verify the status of the Minikube cluster.\n",
    "\n",
    "```shell-session\n",
    "$ minikube status\n",
    "minikube\n",
    "type: Control Plane\n",
    "host: Running\n",
    "kubelet: Running\n",
    "apiserver: Running\n",
    "kubeconfig: Configured\n",
    "```\n",
    "\n",
    "> **Additional waiting:** Even if this last command completed successfully, you\n",
    "may have to wait for Minikube to be available. If an error is displayed, try\n",
    "again after a few minutes.\n",
    "\n",
    "The host, kubelet, and apiserver report that they are running. The `kubectl`, a\n",
    "command line interface (CLI) for running commands against Kubernetes cluster, is\n",
    "also configured to communicate with this recently started cluster.\n",
    "\n",
    "Minikube provides a visual representation of the status in a web-based\n",
    "dashboard. This interface displays the cluster activity in a visual interface\n",
    "that can assist in delving into the issues affecting it.\n",
    "\n",
    "In **another terminal**, launch the minikube dashboard.\n",
    "\n",
    "```shell-session\n",
    "$ minikube dashboard\n",
    "```\n",
    "\n",
    "The operating system's default browser opens and displays the dashboard.\n",
    "\n",
    "![Minikube Dashboard](/img/vault-k8s/minikube-dashboard.png)"
   ]
  },
  {
   "cell_type": "markdown",
   "id": "0fc17ac9-c775-4b3f-a5dd-0829a484425a",
   "metadata": {
    "tags": []
   },
   "source": [
    "## Install the Vault Helm chart\n",
    "\n",
    "The recommended way to run Vault on Kubernetes is via the [Helm\n",
    "chart](https://www.vaultproject.io/docs/platform/k8s/helm.html).\n",
    "[Helm](https://helm.sh/docs/helm/) is a package manager that installs and\n",
    "configures all the necessary components to run Vault in several different\n",
    "modes. A Helm chart includes\n",
    "[templates](https://helm.sh/docs/chart_template_guide)\n",
    "that enable conditional and parameterized execution. These parameters can be set\n",
    "through command-line arguments or defined in YAML."
   ]
  },
  {
   "cell_type": "markdown",
   "id": "d19caef4-aaba-4e13-bee7-6813c0c33bff",
   "metadata": {},
   "source": [
    "Create Kubernetes namespace for Vault called `vault`."
   ]
  },
  {
   "cell_type": "code",
   "execution_count": null,
   "id": "e9f6c130-7533-4ac6-9a39-4a218d7511d7",
   "metadata": {},
   "outputs": [],
   "source": [
    "kubectl create ns vault"
   ]
  },
  {
   "cell_type": "code",
   "execution_count": null,
   "id": "4dddf714-3e23-4e3f-92e2-cbdc8895b263",
   "metadata": {},
   "outputs": [],
   "source": [
    "kubectl get ns\n",
    "printf \"\\n# View your new k8s objects\\n\"\n",
    "kubectl -n vault get all"
   ]
  },
  {
   "cell_type": "markdown",
   "id": "adf4f02f-5c74-4bba-b2eb-25ee819ad78c",
   "metadata": {
    "tags": []
   },
   "source": [
    "Add the HashiCorp Helm repository."
   ]
  },
  {
   "cell_type": "code",
   "execution_count": null,
   "id": "7aaa025e-5b44-4f9e-8c12-49393a0c83ac",
   "metadata": {
    "jp-MarkdownHeadingCollapsed": true,
    "tags": []
   },
   "outputs": [],
   "source": [
    "helm repo add hashicorp https://helm.releases.hashicorp.com"
   ]
  },
  {
   "cell_type": "markdown",
   "id": "a264dfdc-c33a-472e-acdb-71971b8ab56c",
   "metadata": {
    "tags": []
   },
   "source": [
    "```shell\n",
    "\"hashicorp\" has been added to your repositories\n",
    "```"
   ]
  },
  {
   "cell_type": "markdown",
   "id": "3f021fa2-7d8d-4630-bf66-31f78aa510ed",
   "metadata": {
    "tags": []
   },
   "source": [
    "Update all the repositories to ensure `helm` is aware of the latest versions."
   ]
  },
  {
   "cell_type": "code",
   "execution_count": null,
   "id": "2e62e946-ee9e-4b43-84c7-373e4ce39f39",
   "metadata": {
    "tags": []
   },
   "outputs": [],
   "source": [
    "helm repo update"
   ]
  },
  {
   "cell_type": "markdown",
   "id": "3739a706-883b-47ed-8f80-13939da977a9",
   "metadata": {
    "jp-MarkdownHeadingCollapsed": true,
    "tags": []
   },
   "source": [
    "```shell\n",
    "Hang tight while we grab the latest from your chart repositories...\n",
    "...Successfully got an update from the \"hashicorp\" chart repository\n",
    "Update Complete. ⎈Happy Helming!⎈\n",
    "```"
   ]
  },
  {
   "cell_type": "markdown",
   "id": "fd74d287-5279-4d74-83d9-2060f70637b5",
   "metadata": {},
   "source": [
    "Run `helm install` as a dry-run."
   ]
  },
  {
   "cell_type": "code",
   "execution_count": null,
   "id": "5f3c14d5-f924-4fa0-9a79-f86ee3d59034",
   "metadata": {
    "tags": []
   },
   "outputs": [],
   "source": [
    "helm install vault hashicorp/vault --namespace=default \\\n",
    "  --set \"server.dev.enabled=true\" --dry-run"
   ]
  },
  {
   "cell_type": "markdown",
   "id": "e7d5905d-b3a4-46e1-851a-cebeed597c29",
   "metadata": {
    "jp-MarkdownHeadingCollapsed": true,
    "tags": []
   },
   "source": [
    "Install the latest version of the Vault server running in development mode."
   ]
  },
  {
   "cell_type": "code",
   "execution_count": null,
   "id": "c1fc5af9-73c0-412d-8704-a92f6764a970",
   "metadata": {
    "tags": []
   },
   "outputs": [],
   "source": [
    "helm search repo hashicorp/vault --versions"
   ]
  },
  {
   "cell_type": "markdown",
   "id": "04d6872d-5a37-4c44-8252-f8e3e2b4a844",
   "metadata": {},
   "source": [
    "### Override default settings."
   ]
  },
  {
   "cell_type": "code",
   "execution_count": null,
   "id": "5c937242-049e-4afc-8f07-d1749a6c157b",
   "metadata": {},
   "outputs": [],
   "source": [
    "helm install vault hashicorp/vault \\\n",
    "  --namespace vault \\\n",
    "  --set \"server.ha.enabled=true\" \\\n",
    "  --set \"server.ha.replicas=5\" \\\n",
    "  --dry-run"
   ]
  },
  {
   "cell_type": "markdown",
   "id": "8e187cae-45ca-4374-8417-0704c879c8eb",
   "metadata": {},
   "source": [
    "Alternatively, specify the desired configuration in a file `override-values.yml`"
   ]
  },
  {
   "cell_type": "code",
   "execution_count": null,
   "id": "d8229030-48ef-44f6-8b87-94cf5021aef3",
   "metadata": {},
   "outputs": [],
   "source": [
    "cat > ./override-values.yml << EOF\n",
    "server:\n",
    "  ha:\n",
    "    enabled: true\n",
    "    replicas: 5\n",
    "EOF"
   ]
  },
  {
   "cell_type": "code",
   "execution_count": null,
   "id": "54c54a38-8955-4ad1-85e4-de2c69a6c53d",
   "metadata": {
    "tags": []
   },
   "outputs": [],
   "source": [
    "helm install vault hashicorp/vault \\\n",
    "  --namespace vault \\\n",
    "  -f override-values.yml # \\\n",
    "  --dry-run"
   ]
  },
  {
   "cell_type": "code",
   "execution_count": null,
   "id": "c3fb8def-7ec0-4aa5-8d76-fb93cc0cfb82",
   "metadata": {
    "jp-MarkdownHeadingCollapsed": true,
    "tags": []
   },
   "outputs": [],
   "source": [
    "helm install vault hashicorp/vault \\\n",
    "  --namespace=vault \\\n",
    "  --set \"server.dev.enabled=true\" \n",
    "  # \\\n",
    "  # --set \"injector.enabled=false\" \\\n",
    "  # --set \"csi.enabled=true\""
   ]
  },
  {
   "cell_type": "markdown",
   "id": "d141915a-1f4e-4552-a761-f855e297d32c",
   "metadata": {
    "jp-MarkdownHeadingCollapsed": true,
    "tags": []
   },
   "source": [
    "```shell-session\n",
    "NAME: vault\n",
    "##...\n",
    "```\n",
    "\n",
    "The Vault pod and Vault Agent Injector pod are deployed in the `default`\n",
    "namespace."
   ]
  },
  {
   "cell_type": "markdown",
   "id": "2fa76842-34b0-4808-a480-f2233c04e809",
   "metadata": {
    "jp-MarkdownHeadingCollapsed": true,
    "tags": []
   },
   "source": [
    "Display all the pods in the `default` namespace."
   ]
  },
  {
   "cell_type": "code",
   "execution_count": null,
   "id": "55ff68e6-ed1c-45e5-a14a-bc47b6079334",
   "metadata": {},
   "outputs": [],
   "source": [
    "kubectl get pods -n vault"
   ]
  },
  {
   "cell_type": "markdown",
   "id": "f173c776-aeb4-4b19-b9d0-0d85c5b6d99a",
   "metadata": {
    "jp-MarkdownHeadingCollapsed": true,
    "tags": []
   },
   "source": [
    "```shell\n",
    "NAME                                    READY   STATUS    RESTARTS   AGE\n",
    "vault-0                                 1/1     Running   0          80s\n",
    "vault-agent-injector-5945fb98b5-tpglz   1/1     Running   0          80s\n",
    "```\n",
    "\n",
    "The `vault-0` pod runs a Vault server in development mode. The\n",
    "`vault-agent-injector` pod performs the injection based on the annotations\n",
    "present or patched on a deployment.\n",
    "\n",
    "> **Development mode:** Running a Vault server in development is automatically\n",
    "initialized and unsealed. This is ideal in a learning environment but NOT\n",
    "recommended for a production environment.\n",
    "\n",
    "Wait until the `vault-0` pod and `vault-agent-injector` pod are `Running` and\n",
    "`Ready` (`1/1`)."
   ]
  },
  {
   "cell_type": "markdown",
   "id": "80c1f53a-642c-4f28-be90-8645a9d518ea",
   "metadata": {},
   "source": [
    "## Configure Vault"
   ]
  },
  {
   "cell_type": "markdown",
   "id": "08671a09-ca84-4fb0-8188-ede8976478b0",
   "metadata": {},
   "source": [
    "Create a bash alias for the `vault_0` command."
   ]
  },
  {
   "cell_type": "code",
   "execution_count": null,
   "id": "53111bbd-6873-443b-a014-b2063f9f329a",
   "metadata": {},
   "outputs": [],
   "source": [
    "# set mysql alias\n",
    "alias vault_0=\"kubectl exec -it vault-0 -n vault -- vault\""
   ]
  },
  {
   "cell_type": "markdown",
   "id": "5fdf26bd-0bb7-4196-a4bc-f1583aa11174",
   "metadata": {},
   "source": [
    "## Clean Up Resources"
   ]
  },
  {
   "cell_type": "code",
   "execution_count": null,
   "id": "3b5396d6-7174-466f-9ed9-27c1b7ade730",
   "metadata": {},
   "outputs": [],
   "source": [
    "helm uninstall vault -n vault "
   ]
  },
  {
   "cell_type": "markdown",
   "id": "7d2667b6-668a-458a-89f3-646637fe73fb",
   "metadata": {
    "tags": []
   },
   "source": [
    "### Delete `kind` cluster"
   ]
  },
  {
   "cell_type": "markdown",
   "id": "53659251-1672-4ba7-b860-528e44a8eb4f",
   "metadata": {},
   "source": [
    "Finally, delete the `kind` cluster."
   ]
  },
  {
   "cell_type": "code",
   "execution_count": null,
   "id": "3ee59764-ac0c-4986-92c0-97e05dcc4e7a",
   "metadata": {},
   "outputs": [],
   "source": [
    "kind delete cluster --name vault-learn"
   ]
  },
  {
   "cell_type": "markdown",
   "id": "3c923f8e-6364-4ef3-9c49-49f3710c44b1",
   "metadata": {},
   "source": [
    "Sample Output\n",
    "```shell\n",
    "Deleting cluster \"terraform-learn\" ...\n",
    "```"
   ]
  },
  {
   "cell_type": "markdown",
   "id": "dd10f354-280e-48a0-99c9-7ffb75124ca1",
   "metadata": {},
   "source": [
    "### Delete artifacts\n",
    "\n",
    "**CAUTION**: Make sure you no longer need these before deleting."
   ]
  },
  {
   "cell_type": "code",
   "execution_count": null,
   "id": "f91f6e0d-b521-43aa-adce-ed8e5ff8fcdc",
   "metadata": {},
   "outputs": [],
   "source": [
    "# Go back to original folder\n",
    "popd\n",
    "# Confirm you are in correct directory and can see the dir you're going to delete.\n",
    "pwd; echo; ls -l"
   ]
  },
  {
   "cell_type": "code",
   "execution_count": null,
   "id": "43cc412c-76c9-4612-bf32-9a5330466141",
   "metadata": {},
   "outputs": [],
   "source": [
    "rm -rf vault-guides"
   ]
  },
  {
   "cell_type": "markdown",
   "id": "e2292491-7ff2-4539-a71f-7e49422e6666",
   "metadata": {
    "jp-MarkdownHeadingCollapsed": true,
    "tags": []
   },
   "source": [
    "## Resources\n",
    "\n",
    "* [Learn - Injecting Secrets into Kubernetes Pods via Vault Agent Containers](https://learn.hashicorp.com/tutorials/vault/kubernetes-sidecar#define-a-kubernetes-service-account)\n",
    "* [Doc - K8s integration](https://www.vaultproject.io/docs/platform/k8s/)\n",
    "* [Doc - K8s Helm Chart](https://www.vaultproject.io/docs/platform/k8s/helm/configuration)\n",
    "* [Vault Helm project source code](https://github.com/hashicorp/vault-helm)\n",
    "* [Doc - Agent Sidecar\n",
    "Injector](https://www.vaultproject.io/docs/platform/k8s/injector/index.html)"
   ]
  },
  {
   "cell_type": "markdown",
   "id": "b2daff33-228f-49ff-b9d6-2447248b6302",
   "metadata": {},
   "source": [
    "## Troubleshooting"
   ]
  },
  {
   "cell_type": "markdown",
   "id": "74f6019a-1d3f-42bb-a873-01b11de66919",
   "metadata": {},
   "source": [
    "### Connect to Vault UI"
   ]
  },
  {
   "cell_type": "markdown",
   "id": "2192b911-5b99-4be4-bd1f-a8cb502354fd",
   "metadata": {},
   "source": [
    "```shell\n",
    "kubectl port-forward svc/vault 8200:8200\n",
    "```"
   ]
  },
  {
   "cell_type": "code",
   "execution_count": null,
   "id": "385abfcb-db3b-4349-9df3-c5998ae03a1b",
   "metadata": {},
   "outputs": [],
   "source": [
    "echo $VAULT_ADDR\n",
    "export VAULT_ADDR=http://localhost:8200\n",
    "export VAULT_TOKEN=root"
   ]
  },
  {
   "cell_type": "markdown",
   "id": "2f06c5d8-52ea-4540-becc-108c07778a49",
   "metadata": {},
   "source": [
    "Create a read-only policy, `myapp-kv-ro` in Vault."
   ]
  },
  {
   "cell_type": "code",
   "execution_count": null,
   "id": "58947bfe-65be-497e-84a2-fa8bdb985adb",
   "metadata": {},
   "outputs": [],
   "source": [
    "vault policy write myapp-kv-ro - <<EOF\n",
    "path \"secret/data/myapp/*\" {\n",
    "    capabilities = [\"read\", \"list\"]\n",
    "}\n",
    "EOF"
   ]
  },
  {
   "cell_type": "markdown",
   "id": "bba1079e-a1f0-4338-8e3d-1ef59e6fd8bb",
   "metadata": {},
   "source": [
    "Create some test data at the `secret/myapp` path."
   ]
  },
  {
   "cell_type": "code",
   "execution_count": null,
   "id": "648a1a20-b9d3-4f80-826d-646bd2ff95d2",
   "metadata": {},
   "outputs": [],
   "source": [
    "vault kv put secret/myapp/config \\\n",
    "username='appuser' \\\n",
    "password='suP3rsec(et!' \\\n",
    "ttl='30s'"
   ]
  },
  {
   "cell_type": "code",
   "execution_count": null,
   "id": "cb2f069c-811f-4b6b-b11e-f5f1775eaf4c",
   "metadata": {},
   "outputs": [],
   "source": [
    "vault kv get secret/myapp/config"
   ]
  },
  {
   "cell_type": "markdown",
   "id": "b78f02a4-80ec-4c26-bc3f-c6d647c8f41e",
   "metadata": {},
   "source": [
    "#### Set environment variables required for Vault configuration.\n",
    "\n",
    "https://docs.armory.io/docs/armory-admin/secrets/vault-k8s-configuration/\n",
    "https://learn.hashicorp.com/tutorials/vault/agent-kubernetes?in=vault/kubernetes"
   ]
  },
  {
   "cell_type": "code",
   "execution_count": null,
   "id": "7252c474-b5fd-4d89-8d03-25a8e7df3f4d",
   "metadata": {},
   "outputs": [],
   "source": [
    "# Set VAULT_SA_NAME to the service account you created earlier\n",
    "export VAULT_SA_NAME=$(kubectl -n default get sa vault-auth -o jsonpath=\"{.secrets[*]['name']}\")\n",
    "echo $VAULT_SA_NAME"
   ]
  },
  {
   "cell_type": "code",
   "execution_count": null,
   "id": "3c2fb5f0-9588-470b-a574-5e41f79fff43",
   "metadata": {},
   "outputs": [],
   "source": [
    "# Set SA_JWT_TOKEN value to the service account JWT used to access the TokenReview API\n",
    "export SA_JWT_TOKEN=$(kubectl get secret $VAULT_SA_NAME \\\n",
    "  --output 'go-template={{ .data.token }}' | base64 --decode)\n",
    "echo $SA_JWT_TOKEN"
   ]
  },
  {
   "cell_type": "code",
   "execution_count": null,
   "id": "fabb3c9f-7dff-4100-a28c-0a42e9e033ef",
   "metadata": {},
   "outputs": [],
   "source": [
    "# Set SA_CA_CRT to the PEM encoded CA cert used to talk to Kubernetes API\n",
    "export SA_CA_CRT=$(kubectl config view --raw --minify --flatten \\\n",
    "  --output 'jsonpath={.clusters[].cluster.certificate-authority-data}' \\\n",
    "  | base64 --decode)\n",
    "echo $SA_CA_CRT"
   ]
  },
  {
   "cell_type": "code",
   "execution_count": null,
   "id": "f69766bf-41c5-4de5-852a-65ba3865796f",
   "metadata": {},
   "outputs": [],
   "source": [
    "#Set the K8S_HOST environment variable value to minikube IP address.\n",
    "export K8S_HOST=$(kubectl config view --raw --minify --flatten \\\n",
    "    --output 'jsonpath={.clusters[].cluster.server}')\n",
    "echo $K8S_HOST"
   ]
  },
  {
   "cell_type": "code",
   "execution_count": null,
   "id": "fe236fa7-fb47-4d75-ad3d-f14d7fdacbc8",
   "metadata": {},
   "outputs": [],
   "source": [
    "#Tell Vault how to communicate with the Kubernetes (Minikube) cluster.\n",
    "vault write auth/kubernetes/config \\\n",
    "    issuer=\"https://kubernetes.default.svc.cluster.local\" \\\n",
    "    token_reviewer_jwt=\"$SA_JWT_TOKEN\" \\\n",
    "    kubernetes_host=\"$K8S_HOST\" \\\n",
    "    kubernetes_ca_cert=\"$SA_CA_CRT\""
   ]
  },
  {
   "cell_type": "code",
   "execution_count": null,
   "id": "482c615b-62d7-424e-86ac-30b96c144f99",
   "metadata": {},
   "outputs": [],
   "source": [
    "vault read auth/kubernetes/config"
   ]
  },
  {
   "cell_type": "code",
   "execution_count": null,
   "id": "597eb6cb-bc0c-414d-a2a2-3e2e0a1c687f",
   "metadata": {},
   "outputs": [],
   "source": [
    "# Create a role named, example, that maps the Kubernetes Service Account to Vault policies and default token TTL.\n",
    "vault write auth/kubernetes/role/example \\\n",
    "        bound_service_account_names=vault-auth \\\n",
    "        bound_service_account_namespaces=default \\\n",
    "        policies=myapp-kv-ro \\\n",
    "        ttl=24h"
   ]
  },
  {
   "cell_type": "code",
   "execution_count": null,
   "id": "aa69eaa1-5991-4023-a906-145fdd823cfd",
   "metadata": {},
   "outputs": [],
   "source": [
    "export EXTERNAL_VAULT_ADDR=vault"
   ]
  },
  {
   "cell_type": "code",
   "execution_count": null,
   "id": "115b92fd-9f09-41fe-8106-f2ad8c45636d",
   "metadata": {},
   "outputs": [],
   "source": [
    "tee devwebapp.yaml <<EOF\n",
    "apiVersion: v1\n",
    "kind: Pod\n",
    "metadata:\n",
    "  name: devwebapp\n",
    "  labels:\n",
    "    app: devwebapp\n",
    "spec:\n",
    "  serviceAccountName: internal-app\n",
    "  containers:\n",
    "    - name: devwebapp\n",
    "      image: burtlo/devwebapp-ruby:k8s\n",
    "      env:\n",
    "        - name: VAULT_ADDR\n",
    "          value: \"http://$EXTERNAL_VAULT_ADDR:8200\"\n",
    "        - name: VAULT_TOKEN\n",
    "          value: root\n",
    "EOF"
   ]
  },
  {
   "cell_type": "code",
   "execution_count": null,
   "id": "9b2c55fa-3a0e-4821-b532-738834584af6",
   "metadata": {},
   "outputs": [],
   "source": [
    "kubectl apply --filename devwebapp.yaml --namespace default"
   ]
  },
  {
   "cell_type": "code",
   "execution_count": null,
   "id": "06ad29aa-996a-464a-b7fc-468b4e864aa7",
   "metadata": {},
   "outputs": [],
   "source": [
    "kubectl get pods"
   ]
  },
  {
   "cell_type": "code",
   "execution_count": null,
   "id": "ddc02a3e-5586-461c-a7c2-2ed86d652965",
   "metadata": {},
   "outputs": [],
   "source": [
    "# kubectl exec --stdin=true --tty=true devwebapp -- /bin/sh\n"
   ]
  },
  {
   "cell_type": "code",
   "execution_count": null,
   "id": "5c32e19d-904a-4878-8707-9b22a9a0274d",
   "metadata": {},
   "outputs": [],
   "source": [
    "cat > vault-auth-service-account.yml <<EOF\n",
    "apiVersion: rbac.authorization.k8s.io/v1\n",
    "kind: ClusterRoleBinding\n",
    "metadata:\n",
    "  name: role-tokenreview-binding\n",
    "  namespace: default\n",
    "roleRef:\n",
    "  apiGroup: rbac.authorization.k8s.io\n",
    "  kind: ClusterRole\n",
    "  name: system:auth-delegator\n",
    "subjects:\n",
    "- kind: ServiceAccount\n",
    "  name: vault-auth\n",
    "  namespace: default\n",
    "EOF"
   ]
  },
  {
   "cell_type": "code",
   "execution_count": null,
   "id": "d08de565-08f2-4243-aed9-bd55a73f4549",
   "metadata": {},
   "outputs": [],
   "source": [
    "# Create a service account, 'vault-auth'\n",
    "kubectl -n default create serviceaccount vault-auth"
   ]
  },
  {
   "cell_type": "code",
   "execution_count": null,
   "id": "5d71afc1-ec5e-41cb-a429-3d69dfcf6ea3",
   "metadata": {},
   "outputs": [],
   "source": [
    "# Update the 'vault-auth' service account\n",
    "kubectl -n default apply --filename vault-auth-service-account.yml"
   ]
  },
  {
   "cell_type": "code",
   "execution_count": null,
   "id": "8cf8f039-e5e3-470a-9151-e3e1630791ab",
   "metadata": {
    "tags": []
   },
   "outputs": [],
   "source": [
    "cat patch-inject-secrets.yaml"
   ]
  },
  {
   "cell_type": "markdown",
   "id": "c2008ba4-5f29-40e1-b360-dca7d9473aa5",
   "metadata": {
    "jp-MarkdownHeadingCollapsed": true,
    "tags": []
   },
   "source": [
    "Create a Kubernetes authentication role named `internal-app`.\n",
    "\n",
    "```shell-session\n",
    "$ vault write auth/kubernetes/role/internal-app \\\n",
    "    bound_service_account_names=internal-app \\\n",
    "    bound_service_account_namespaces=default \\\n",
    "    policies=internal-app \\\n",
    "    ttl=24h\n",
    "Success! Data written to: auth/kubernetes/role/internal-app\n",
    "```"
   ]
  },
  {
   "cell_type": "code",
   "execution_count": null,
   "id": "6d0db6a0-5c43-4db1-aee4-5e12d0432ec3",
   "metadata": {
    "jp-MarkdownHeadingCollapsed": true,
    "tags": []
   },
   "outputs": [],
   "source": [
    "k exec -it vault-0 -- sh -c \"vault write auth/kubernetes/role/internal-app \\\n",
    "    bound_service_account_names=internal-app \\\n",
    "    bound_service_account_namespaces=default \\\n",
    "    policies=internal-app \\\n",
    "    ttl=24h\""
   ]
  },
  {
   "cell_type": "code",
   "execution_count": null,
   "id": "9e2e62ab-dc22-4515-ae3b-d70005d4a402",
   "metadata": {
    "jp-MarkdownHeadingCollapsed": true,
    "tags": []
   },
   "outputs": [],
   "source": [
    "# VERIFY\n",
    "kubectl exec -it vault-0 -- sh -c \"vault read auth/kubernetes/role/internal-app\""
   ]
  },
  {
   "cell_type": "markdown",
   "id": "2e80a176-5383-4442-b401-088f80883f05",
   "metadata": {},
   "source": [
    "Check vault logs. You can find your unseal keys and root token here."
   ]
  },
  {
   "cell_type": "code",
   "execution_count": null,
   "id": "bd23cd7e-f9b3-4623-81fe-964205774525",
   "metadata": {
    "tags": []
   },
   "outputs": [],
   "source": [
    "kubectl logs vault-0 -n vault"
   ]
  },
  {
   "cell_type": "markdown",
   "id": "f93415a9-d822-4a17-abc8-f265b37659de",
   "metadata": {},
   "source": [
    "(optional) Helm uninstall vault"
   ]
  },
  {
   "cell_type": "code",
   "execution_count": null,
   "id": "fe01dd4e-f178-48d4-bec8-92028b828383",
   "metadata": {},
   "outputs": [],
   "source": [
    "helm uninstall vault -n vault"
   ]
  }
 ],
 "metadata": {
  "kernelspec": {
   "display_name": "Bash",
   "language": "bash",
   "name": "bash"
  },
  "language_info": {
   "codemirror_mode": "shell",
   "file_extension": ".sh",
   "mimetype": "text/x-sh",
   "name": "bash"
  }
 },
 "nbformat": 4,
 "nbformat_minor": 5
}
