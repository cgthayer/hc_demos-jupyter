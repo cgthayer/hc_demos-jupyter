{
 "cells": [
  {
   "cell_type": "markdown",
   "metadata": {},
   "source": [
    "# HashiCorp Vault Database Secrets Engine\n",
    "\n",
    "## Value\n",
    "\n",
    "* Reduced effort for Regulatory Compliance by Centralizating Identity & Policy for Identity AuthN/AuthZ\n",
    "* Reduced Risk of Breach by Centralizating Identity & Policy for Identity AuthN/AuthZ\n",
    "* Reduced Risk of Downtime due to unauthorized access\n",
    "* Reduced Risk of Breach due to secrets exposure\n",
    "\n",
    "## Database Engine - MariaDB/MySQL Dynamic Credentials\n",
    "---\n",
    "Dynamic Secrets are generated when they are accessed.\n",
    "In other words, Dynamic Secrets do not exist until they are read.\n",
    "Vault has built-in revocation mechanism.\n",
    "Database Secrets engine supports:\n",
    "* Cassandra\n",
    "* Elasticsearch\n",
    "* Influxdb\n",
    "* HanaDB\n",
    "* MongoDB\n",
    "* MSSQL\n",
    "* MySQL\n",
    "* MariaDB\n",
    "* PostgreSQL\n",
    "* Snowflake\n",
    "* Oracle"
   ]
  },
  {
   "cell_type": "markdown",
   "metadata": {},
   "source": [
    "### Workflow Diagram\n",
    "\n",
    "<img src=../../Diagrams/vault_dynamic_db_creds_seq_diagram.png>\n",
    "\n",
    "## Business Value\n",
    "We use dynamic secrets to allow applications to get dynamic creds to access databases.\n",
    "\n",
    "---"
   ]
  },
  {
   "cell_type": "code",
   "execution_count": null,
   "metadata": {},
   "outputs": [],
   "source": [
    "export VAULT_ADDR=http://localhost:8200\n",
    "export VAULT_TOKEN=root"
   ]
  },
  {
   "cell_type": "markdown",
   "metadata": {},
   "source": [
    "## Prerequisites"
   ]
  },
  {
   "cell_type": "markdown",
   "metadata": {},
   "source": [
    "* Running Vault Server at localhost:8200 - see [Start Vault Server](../01-baseline/100-Setup-Vault.ipynb)"
   ]
  },
  {
   "cell_type": "markdown",
   "metadata": {},
   "source": [
    "## Database Setup"
   ]
  },
  {
   "cell_type": "markdown",
   "metadata": {},
   "source": [
    "### Start the database server"
   ]
  },
  {
   "cell_type": "code",
   "execution_count": null,
   "metadata": {},
   "outputs": [],
   "source": [
    "docker pull mysql/mysql-server:5.7"
   ]
  },
  {
   "cell_type": "code",
   "execution_count": null,
   "metadata": {},
   "outputs": [],
   "source": [
    "docker run --name workshop-mysql  \\\n",
    "  --rm -d \\\n",
    "  -p 3306:3306 \\\n",
    "  -e TZ=America/New_York \\\n",
    "  -e MYSQL_ROOT_PASSWORD=root \\\n",
    "  -e MYSQL_ROOT_HOST=% \\\n",
    "  -e MYSQL_DATABASE=my_app \\\n",
    "  mysql/mysql-server:5.7"
   ]
  },
  {
   "cell_type": "markdown",
   "metadata": {},
   "source": [
    "Verify that your database container has started."
   ]
  },
  {
   "cell_type": "code",
   "execution_count": null,
   "metadata": {},
   "outputs": [],
   "source": [
    "docker ps -a"
   ]
  },
  {
   "cell_type": "markdown",
   "metadata": {},
   "source": [
    "Create a bash alias for the `mysql` command."
   ]
  },
  {
   "cell_type": "code",
   "execution_count": null,
   "metadata": {},
   "outputs": [],
   "source": [
    "# set mysql alias\n",
    "alias mysql=\"docker exec -it workshop-mysql mysql\""
   ]
  },
  {
   "cell_type": "code",
   "execution_count": null,
   "metadata": {},
   "outputs": [],
   "source": [
    "#Display existing database users\n",
    "mysql -u root -p'root' -e \"select user from mysql.user;\""
   ]
  },
  {
   "cell_type": "markdown",
   "metadata": {},
   "source": [
    "### Populate sample data"
   ]
  },
  {
   "cell_type": "code",
   "execution_count": null,
   "metadata": {},
   "outputs": [],
   "source": [
    "#==> Create table\n",
    "mysql -u root -proot -e \"CREATE TABLE IF NOT EXISTS my_app.customers (\n",
    "    cust_no int(11) NOT NULL AUTO_INCREMENT,\n",
    "    birth_date varchar(255) NOT NULL,\n",
    "    first_name varchar(255) NOT NULL,\n",
    "    last_name varchar(255) NOT NULL,\n",
    "    create_date varchar(255) NOT NULL,\n",
    "    social_security_number varchar(255) NOT NULL,\n",
    "    address varchar(255) NOT NULL,\n",
    "    salary varchar(255) NOT NULL,\n",
    "    PRIMARY KEY (cust_no)\n",
    ") ENGINE=InnoDB;\""
   ]
  },
  {
   "cell_type": "code",
   "execution_count": null,
   "metadata": {},
   "outputs": [],
   "source": [
    "#==> Enter data into table\n",
    "mysql -u root -proot -e \"INSERT IGNORE into my_app.customers VALUES\n",
    "  (2, '3/14/69', 'Larry', 'Johnson', '2020-01-01T14:49:12.301977', '360-56-6750', 'Tyler, Texas', '7000000'),\n",
    "  (40, '11/26/69', 'Shawn', 'Kemp', '2020-02-21T10:24:55.985726', '235-32-8091', 'Elkhart, Indiana', '15000000'),\n",
    "  (34, '2/20/63', 'Charles', 'Barkley', '2019-04-09T01:10:20.548144', '531-72-1553', 'Leeds, Alabama', '9000000');\n",
    "\""
   ]
  },
  {
   "cell_type": "markdown",
   "metadata": {},
   "source": [
    "### Create static service account\n",
    "\n",
    "Create static service account `dbsvc1`. This could be an existing account used by an application."
   ]
  },
  {
   "cell_type": "code",
   "execution_count": null,
   "metadata": {},
   "outputs": [],
   "source": [
    "mysql -u root -p'root' \\\n",
    "    -e \"CREATE USER 'dbsvc1'@'%' IDENTIFIED BY 'dbsvc1';\"\n",
    "mysql -u root -p'root' \\\n",
    "    -e \"GRANT INSERT,SELECT,UPDATE,DELETE ON my_app.* TO 'dbsvc1'@'%';\""
   ]
  },
  {
   "cell_type": "markdown",
   "metadata": {},
   "source": [
    "* `IDENTIFIED BY` - sets password"
   ]
  },
  {
   "cell_type": "markdown",
   "metadata": {},
   "source": [
    "#### Verify static service account"
   ]
  },
  {
   "cell_type": "code",
   "execution_count": null,
   "metadata": {},
   "outputs": [],
   "source": [
    "#View sample data\n",
    "mysql -u dbsvc1 -pdbsvc1 -e \"SELECT * FROM my_app.customers\""
   ]
  },
  {
   "cell_type": "markdown",
   "metadata": {},
   "source": [
    "## Vault Setup"
   ]
  },
  {
   "cell_type": "markdown",
   "metadata": {},
   "source": [
    "### Create service account for Vault DB Connection"
   ]
  },
  {
   "cell_type": "markdown",
   "metadata": {},
   "source": [
    "User `vaultadmin` with password `vaultadmin`."
   ]
  },
  {
   "cell_type": "code",
   "execution_count": null,
   "metadata": {},
   "outputs": [],
   "source": [
    "mysql -u root -proot \\\n",
    "    -e \"CREATE USER 'vaultadmin'@'%' IDENTIFIED BY 'vaultadmin';\"\n",
    "\n",
    "mysql -u root -proot \\\n",
    "-e \"GRANT ALL PRIVILEGES ON *.* TO 'vaultadmin'@'%' WITH GRANT OPTION;\""
   ]
  },
  {
   "cell_type": "markdown",
   "metadata": {},
   "source": [
    "Verify service account user"
   ]
  },
  {
   "cell_type": "code",
   "execution_count": null,
   "metadata": {},
   "outputs": [],
   "source": [
    "mysql -u vaultadmin -p'vaultadmin' -e \"select user from mysql.user;\""
   ]
  },
  {
   "cell_type": "markdown",
   "metadata": {},
   "source": [
    "### Enable Database secrets engine"
   ]
  },
  {
   "cell_type": "code",
   "execution_count": null,
   "metadata": {},
   "outputs": [],
   "source": [
    "vault secrets enable -path=lob_a/db01 database"
   ]
  },
  {
   "cell_type": "markdown",
   "metadata": {},
   "source": [
    "Confirm secrets engine has been enabled."
   ]
  },
  {
   "cell_type": "code",
   "execution_count": null,
   "metadata": {},
   "outputs": [],
   "source": [
    "vault secrets list"
   ]
  },
  {
   "cell_type": "markdown",
   "metadata": {},
   "source": [
    "You should see:\n",
    "```\n",
    "Path           Type         Accessor              Description\n",
    "----           ----         --------              -----------\n",
    "<snip>\n",
    "lob_a/db01/    database     database_fe7256b2     n/a\n",
    "```"
   ]
  },
  {
   "cell_type": "markdown",
   "metadata": {},
   "source": [
    "### Configure Database Secrets Engine Connection"
   ]
  },
  {
   "cell_type": "code",
   "execution_count": null,
   "metadata": {},
   "outputs": [],
   "source": [
    "vault write lob_a/db01/config/db01 \\\n",
    "    plugin_name=mysql-database-plugin \\\n",
    "    connection_url=\"{{username}}:{{password}}@tcp(host.docker.internal:3306)/\" \\\n",
    "    allowed_roles=\"db-user-readonly\",\"db-user-readwrite\",\"db-user-static\" \\\n",
    "    username=\"vaultadmin\" \\\n",
    "    password=\"vaultadmin\""
   ]
  },
  {
   "cell_type": "markdown",
   "metadata": {},
   "source": [
    "NOTE: The username and password are templated in the \"`connection_url`\" string. They get their values from the \"`username`\" and \"`password`\" fields.  We do this so that reading the path \"`lob_a/db01/config/db01`\" will not show them."
   ]
  },
  {
   "cell_type": "markdown",
   "metadata": {},
   "source": [
    "Verify that you cannot see the password."
   ]
  },
  {
   "cell_type": "code",
   "execution_count": null,
   "metadata": {},
   "outputs": [],
   "source": [
    "#optional verification\n",
    "vault read lob_a/db01/config/db01"
   ]
  },
  {
   "cell_type": "markdown",
   "metadata": {},
   "source": [
    "### Static Roles - Create\n",
    "\n",
    "Take over password management of user `dbsvc1` by Vault."
   ]
  },
  {
   "cell_type": "code",
   "execution_count": null,
   "metadata": {},
   "outputs": [],
   "source": [
    "vault write lob_a/db01/static-roles/db-user-static \\\n",
    "  db_name=db01 \\\n",
    "  rotation_period=1h \\\n",
    "  username=dbsvc1"
   ]
  },
  {
   "cell_type": "markdown",
   "metadata": {},
   "source": [
    "The above command creates a `db-user-static` static role with database username `dbsvc1` whose password gets rotated every 3600 seconds (1 hours). The `rotation.sql` statement is passed as the rotation statement.\n",
    "\n",
    "NOTE: For static roles, the `db_name` parameter is the database configuration name (not the database name). In this scenario, you configured `lob_a/db01/config/db01`; therefore, the `db_name` must be set to `db01`."
   ]
  },
  {
   "cell_type": "markdown",
   "metadata": {},
   "source": [
    "**Verify**: Read back the `db-user-static` role definition."
   ]
  },
  {
   "cell_type": "code",
   "execution_count": null,
   "metadata": {},
   "outputs": [],
   "source": [
    "vault read lob_a/db01/static-roles/db-user-static"
   ]
  },
  {
   "cell_type": "markdown",
   "metadata": {},
   "source": [
    "#### Request Database credentials for static role"
   ]
  },
  {
   "cell_type": "code",
   "execution_count": null,
   "metadata": {},
   "outputs": [],
   "source": [
    "vault read -format=json lob_a/db01/static-creds/db-user-static \\\n",
    "  | jq -r .data | tee pov_db_static_cred.txt"
   ]
  },
  {
   "cell_type": "markdown",
   "metadata": {},
   "source": [
    "#### Verify static service account"
   ]
  },
  {
   "cell_type": "code",
   "execution_count": null,
   "metadata": {},
   "outputs": [],
   "source": [
    "#View sample data\n",
    "STATIC_ROLE_PW=$(jq -r .password pov_db_static_cred.txt)\n",
    "mysql -u dbsvc1 -p${STATIC_ROLE_PW} -e \"SELECT * FROM my_app.customers\""
   ]
  },
  {
   "cell_type": "markdown",
   "metadata": {},
   "source": [
    "#### Manually rotate static role password"
   ]
  },
  {
   "cell_type": "markdown",
   "metadata": {},
   "source": [
    "The password for the static role gets automatically rotated after a configured rotation period. Vault provides the `/database/rotate-role/<role_name>` endpoint to force an immediate password rotation.\n",
    "\n",
    "Rotate the password for static role, \"`db-user-static`\"."
   ]
  },
  {
   "cell_type": "code",
   "execution_count": null,
   "metadata": {},
   "outputs": [],
   "source": [
    "vault write -f lob_a/db01/rotate-role/db-user-static"
   ]
  },
  {
   "cell_type": "markdown",
   "metadata": {},
   "source": [
    "Read the credentials to verify that the password has been rotated"
   ]
  },
  {
   "cell_type": "code",
   "execution_count": null,
   "metadata": {},
   "outputs": [],
   "source": [
    "vault read -format=json lob_a/db01/static-creds/db-user-static | jq -r .data"
   ]
  },
  {
   "cell_type": "markdown",
   "metadata": {},
   "source": [
    "The returned password should be different from previous output, and the remaining TTL has been reset to 3600 seconds."
   ]
  },
  {
   "cell_type": "markdown",
   "metadata": {},
   "source": [
    "### Create Vault DB Dynamic Roles"
   ]
  },
  {
   "cell_type": "markdown",
   "metadata": {},
   "source": [
    "Create two Vault roles so applications can access credentials.\n",
    "\n",
    "|             | default_ttl | max_ttl |\n",
    "|-------------|-------------|------   |\n",
    "| `db-user-readonly`  | 1h | 24h |\n",
    "| `db-user-readwrite` | 5m | 24h |"
   ]
  },
  {
   "cell_type": "code",
   "execution_count": null,
   "metadata": {},
   "outputs": [],
   "source": [
    "vault write lob_a/db01/roles/db-user-readonly \\\n",
    "    db_name=db01 \\\n",
    "    creation_statements=\"CREATE USER '{{name}}'@'%' IDENTIFIED BY '{{password}}';GRANT SELECT ON my_app.* TO '{{name}}'@'%';\" \\\n",
    "    default_ttl=\"1h\" \\\n",
    "    max_ttl=\"24h\""
   ]
  },
  {
   "cell_type": "code",
   "execution_count": null,
   "metadata": {},
   "outputs": [],
   "source": [
    "vault write lob_a/db01/roles/db-user-readwrite \\\n",
    "    db_name=db01 \\\n",
    "    creation_statements=\"CREATE USER '{{name}}'@'%' IDENTIFIED BY '{{password}}';GRANT INSERT,SELECT,UPDATE,DELETE ON my_app.* TO '{{name}}'@'%';\" \\\n",
    "    default_ttl=\"5m\" \\\n",
    "    max_ttl=\"24h\""
   ]
  },
  {
   "cell_type": "markdown",
   "metadata": {},
   "source": [
    "### Authentication and Policy Setup"
   ]
  },
  {
   "cell_type": "markdown",
   "metadata": {},
   "source": [
    "Enable Userpass auth method."
   ]
  },
  {
   "cell_type": "code",
   "execution_count": null,
   "metadata": {},
   "outputs": [],
   "source": [
    "# Let's setup User/Pass Auth Method\n",
    "vault auth enable userpass"
   ]
  },
  {
   "cell_type": "markdown",
   "metadata": {},
   "source": [
    "Create Vault userpass users.\n",
    "\n",
    "|             | password | policies | token_max_ttl | \n",
    "|-------------|-------------|------   | --- |\n",
    "| `alice`  | secret | db01-readwrite-policy | 5m |\n",
    "| `bob` | secret | db01-readonly-policy | 5m |"
   ]
  },
  {
   "cell_type": "code",
   "execution_count": null,
   "metadata": {},
   "outputs": [],
   "source": [
    "# Create a few DB Users\n",
    "vault write auth/userpass/users/alice \\\n",
    "    password=secret \\\n",
    "    policies=db01-readwrite-policy \\\n",
    "    token_max_ttl=5m\n",
    "    \n",
    "vault write auth/userpass/users/bob \\\n",
    "    password=secret \\\n",
    "    policies=db01-readonly-policy \\\n",
    "    token_max_ttl=5m"
   ]
  },
  {
   "cell_type": "markdown",
   "metadata": {},
   "source": [
    "Create Vault policies: `db01-readonly-policy` and `db01-readwrite-policy`."
   ]
  },
  {
   "cell_type": "code",
   "execution_count": null,
   "metadata": {},
   "outputs": [],
   "source": [
    "# Now setup the Vault Policies\n",
    "vault policy write db01-readonly-policy - << EOF\n",
    "path \"/lob_a/db01/creds/db-user-readonly\" {\n",
    "  capabilities = [ \"read\" ]\n",
    "}\n",
    "EOF\n",
    "\n",
    "vault policy write db01-readwrite-policy - << EOF\n",
    "path \"/lob_a/db01/creds/db-user-readwrite\" {\n",
    "  capabilities = [ \"read\" ]\n",
    "}\n",
    "EOF"
   ]
  },
  {
   "cell_type": "markdown",
   "metadata": {},
   "source": [
    "## Demo as Alice (read-write access)"
   ]
  },
  {
   "cell_type": "markdown",
   "metadata": {},
   "source": [
    "Let's login as Alice. We will need to unset `VAULT_TOKEN`."
   ]
  },
  {
   "cell_type": "code",
   "execution_count": null,
   "metadata": {},
   "outputs": [],
   "source": [
    "# Let's login as Alice\n",
    "unset VAULT_TOKEN\n",
    "vault login -method=userpass username=alice password=secret"
   ]
  },
  {
   "cell_type": "markdown",
   "metadata": {},
   "source": [
    "### Get Dynamic Database credential by reading from the Vault role"
   ]
  },
  {
   "cell_type": "markdown",
   "metadata": {},
   "source": [
    "Confirm that Alice does NOT have access to `lob_a/db01/creds/db-user-readonly`. "
   ]
  },
  {
   "cell_type": "code",
   "execution_count": null,
   "metadata": {},
   "outputs": [],
   "source": [
    "vault read -format=json lob_a/db01/creds/db-user-readonly"
   ]
  },
  {
   "cell_type": "markdown",
   "metadata": {},
   "source": [
    "**NOTE**: Alice's policy only allows access to `db-user-readwrite`."
   ]
  },
  {
   "cell_type": "markdown",
   "metadata": {},
   "source": [
    "Confirm that Alice does have access to `lob_a/db01/creds/db-user-readwrite`."
   ]
  },
  {
   "cell_type": "code",
   "execution_count": null,
   "metadata": {},
   "outputs": [],
   "source": [
    "vault read -format=json lob_a/db01/creds/db-user-readwrite \\\n",
    "  | tee pov_db_dyn_cred.txt"
   ]
  },
  {
   "cell_type": "markdown",
   "metadata": {},
   "source": [
    "In these results, you see several thinggs:\n",
    "* `lease_id` - used if you want to renew or revoke the credentials (as you will do in the next challenge).\n",
    "* `username` and `password` - used to connect to the database.\n",
    "* `renewable` - has the value `true`, indicating that the lifetime of the credentials can be extended using Vault's `sys/leases/renew` API endpoint."
   ]
  },
  {
   "cell_type": "code",
   "execution_count": null,
   "metadata": {},
   "outputs": [],
   "source": [
    "# results=$(vault read -format=json lob_a/db01/creds/db-user-readwrite)\n",
    "parsed=$(jq .data[] -r pov_db_dyn_cred.txt)\n",
    "export readwrite_credentials=($parsed)\n",
    "echo ${readwrite_credentials[*]}"
   ]
  },
  {
   "cell_type": "markdown",
   "metadata": {},
   "source": [
    "Use the last set of credentials to connect to the database server. Verify that you can see the databases on the MySQL server."
   ]
  },
  {
   "cell_type": "code",
   "execution_count": null,
   "metadata": {},
   "outputs": [],
   "source": [
    "mysql -u ${readwrite_credentials[1]} -p${readwrite_credentials[0]} -e \"show databases;\""
   ]
  },
  {
   "cell_type": "markdown",
   "metadata": {},
   "source": [
    "Expected Output\n",
    "```\n",
    "+--------------------+\n",
    "| Database           |\n",
    "+--------------------+\n",
    "| information_schema |\n",
    "| my_app             |\n",
    "+--------------------+\n",
    "```"
   ]
  },
  {
   "cell_type": "markdown",
   "metadata": {},
   "source": [
    "**NOTE:** You only have 5 minutes to test this before the credentials get revoked."
   ]
  },
  {
   "cell_type": "markdown",
   "metadata": {},
   "source": [
    "Display database users. Need to use privileged user.\n",
    "\n",
    "Note the new dynamic DB users."
   ]
  },
  {
   "cell_type": "code",
   "execution_count": null,
   "metadata": {},
   "outputs": [],
   "source": [
    "#Display existing database users\n",
    "mysql -u root -p'root' -e \"select user from mysql.user;\""
   ]
  },
  {
   "cell_type": "markdown",
   "metadata": {},
   "source": [
    "You should see a user called `v-userpass-a-db-user-re-*`.\n",
    "\n",
    "```\n",
    "+----------------------------------+\n",
    "| user                             |\n",
    "+----------------------------------+\n",
    "| dbsvc1                           |\n",
    "| root                             |\n",
    "| v-userpass-a-db-user-re-ITUe4SLs |\n",
    "| vaultadmin                       |\n",
    "| mysql.session                    |\n",
    "| mysql.sys                        |\n",
    "| root                             |\n",
    "+----------------------------------+\n",
    "```"
   ]
  },
  {
   "cell_type": "markdown",
   "metadata": {},
   "source": [
    "Confirm that dynamic DB user can read the table."
   ]
  },
  {
   "cell_type": "code",
   "execution_count": null,
   "metadata": {},
   "outputs": [],
   "source": [
    "mysql -u ${readwrite_credentials[1]} -p${readwrite_credentials[0]} -e \"select first_name from my_app.customers;\""
   ]
  },
  {
   "cell_type": "markdown",
   "metadata": {},
   "source": [
    "Expected Output\n",
    "```\n",
    "+------------+\n",
    "| first_name |\n",
    "+------------+\n",
    "| Larry      |\n",
    "| Charles    |\n",
    "| Shawn      |\n",
    "+------------+\n",
    "```"
   ]
  },
  {
   "cell_type": "markdown",
   "metadata": {},
   "source": [
    "Confirm that dynamic DB user can NOT read from `mysql.user` table."
   ]
  },
  {
   "cell_type": "code",
   "execution_count": null,
   "metadata": {},
   "outputs": [],
   "source": [
    "mysql -u ${readwrite_credentials[1]} -p${readwrite_credentials[0]} -e \"select user from mysql.user;\""
   ]
  },
  {
   "cell_type": "markdown",
   "metadata": {},
   "source": [
    "Expected Output\n",
    "```\n",
    "ERROR 1045 (28000): Access denied for user 'v-userpass-a-db-user-re-ITUe4SLs'@'localhost' (using password: YES)\n",
    "```"
   ]
  },
  {
   "cell_type": "markdown",
   "metadata": {},
   "source": [
    "Confirm that dynamic DB user can write to `my_app.customers` table."
   ]
  },
  {
   "cell_type": "code",
   "execution_count": null,
   "metadata": {},
   "outputs": [],
   "source": [
    "mysql -u ${readwrite_credentials[1]} -p${readwrite_credentials[0]} -e \"INSERT IGNORE into my_app.customers VALUES\n",
    "  (5, '3/14/69', 'Moayad', 'Ismail', '2020-01-01T14:49:12.301977', '360-56-6750', 'Tyler, Texas', '7000000')\""
   ]
  },
  {
   "cell_type": "markdown",
   "metadata": {},
   "source": [
    "Confirm that the new record is in the table."
   ]
  },
  {
   "cell_type": "code",
   "execution_count": null,
   "metadata": {},
   "outputs": [],
   "source": [
    "mysql -u ${readwrite_credentials[1]} -p${readwrite_credentials[0]} -e \"select first_name from my_app.customers;\""
   ]
  },
  {
   "cell_type": "markdown",
   "metadata": {},
   "source": [
    "## Demo as Bob (readonly access)"
   ]
  },
  {
   "cell_type": "code",
   "execution_count": null,
   "metadata": {},
   "outputs": [],
   "source": [
    "unset VAULT_TOKEN\n",
    "vault login -method=userpass username=bob password=secret"
   ]
  },
  {
   "cell_type": "markdown",
   "metadata": {},
   "source": [
    "Confirm that you are logged in as `bob`."
   ]
  },
  {
   "cell_type": "code",
   "execution_count": null,
   "metadata": {},
   "outputs": [],
   "source": [
    "vault token lookup"
   ]
  },
  {
   "cell_type": "markdown",
   "metadata": {},
   "source": [
    "### Get Dyamic Database credential by reading from the Vault role"
   ]
  },
  {
   "cell_type": "markdown",
   "metadata": {},
   "source": [
    "Confirm that Bob does have access to `lob_a/db01/creds/db-user-readonly`."
   ]
  },
  {
   "cell_type": "code",
   "execution_count": null,
   "metadata": {},
   "outputs": [],
   "source": [
    "vault read -format=json lob_a/db01/creds/db-user-readonly"
   ]
  },
  {
   "cell_type": "markdown",
   "metadata": {},
   "source": [
    "Confirm that Bob does NOT have access to `lob_a/db01/creds/db-user-readwrite`."
   ]
  },
  {
   "cell_type": "code",
   "execution_count": null,
   "metadata": {},
   "outputs": [],
   "source": [
    "vault read -format=json lob_a/db01/creds/db-user-readwrite"
   ]
  },
  {
   "cell_type": "markdown",
   "metadata": {},
   "source": [
    "Generate dynamic DB credentials."
   ]
  },
  {
   "cell_type": "code",
   "execution_count": null,
   "metadata": {},
   "outputs": [],
   "source": [
    "results=$(vault read -format=json lob_a/db01/creds/db-user-readonly)\n",
    "parsed=$(echo $results | jq .data[] -r)\n",
    "export readonly_credentials=($parsed)\n",
    "echo ${readonly_credentials[*]}"
   ]
  },
  {
   "cell_type": "markdown",
   "metadata": {},
   "source": [
    "Confirm that dynamic DB user can NOT read from `mysql.user` table."
   ]
  },
  {
   "cell_type": "code",
   "execution_count": null,
   "metadata": {},
   "outputs": [],
   "source": [
    "mysql -u ${readonly_credentials[1]} -p${readonly_credentials[0]} -e \"select user from mysql.user;\""
   ]
  },
  {
   "cell_type": "markdown",
   "metadata": {},
   "source": [
    "Confirm that Bob's dynamic DB user can read from `my_app.customers` table."
   ]
  },
  {
   "cell_type": "code",
   "execution_count": null,
   "metadata": {},
   "outputs": [],
   "source": [
    "mysql -u ${readonly_credentials[1]} -p${readonly_credentials[0]} -e \"select first_name from my_app.customers;\""
   ]
  },
  {
   "cell_type": "markdown",
   "metadata": {},
   "source": [
    "Confirm that Bob's dynamic DB user can NOT write to `my_app.customers` table."
   ]
  },
  {
   "cell_type": "code",
   "execution_count": null,
   "metadata": {},
   "outputs": [],
   "source": [
    "mysql -u ${readonly_credentials[1]} -p${readonly_credentials[0]} -e \"INSERT IGNORE into my_app.customers VALUES\n",
    "  (10, '3/14/69', 'Moayad', 'Ismail', '2020-01-01T14:49:12.301977', '360-56-6750', 'Tyler, Texas', '7000000')\""
   ]
  },
  {
   "cell_type": "markdown",
   "metadata": {},
   "source": [
    "## Managing Leases"
   ]
  },
  {
   "cell_type": "markdown",
   "metadata": {},
   "source": [
    "#### List the Vault leases"
   ]
  },
  {
   "cell_type": "code",
   "execution_count": null,
   "metadata": {},
   "outputs": [],
   "source": [
    "export VAULT_TOKEN=root"
   ]
  },
  {
   "cell_type": "code",
   "execution_count": null,
   "metadata": {},
   "outputs": [],
   "source": [
    "vault list sys/leases/lookup/lob_a/db01/creds/db-user-readonly\n",
    "keys=$(vault list -format=json sys/leases/lookup/lob_a/db01/creds/db-user-readonly | jq .[] -r)\n",
    "export db_user_readonly_lease=($keys)"
   ]
  },
  {
   "cell_type": "code",
   "execution_count": null,
   "metadata": {},
   "outputs": [],
   "source": [
    "vault list sys/leases/lookup/lob_a/db01/creds/db-user-readwrite\n",
    "keys=$(vault list -format=json sys/leases/lookup/lob_a/db01/creds/db-user-readwrite | jq .[] -r)\n",
    "export db_user_readwrite_lease=($keys)"
   ]
  },
  {
   "cell_type": "markdown",
   "metadata": {},
   "source": [
    "#### Details on a lease, e.g. the remaining lifetime of the credential"
   ]
  },
  {
   "cell_type": "code",
   "execution_count": null,
   "metadata": {},
   "outputs": [],
   "source": [
    "vault write sys/leases/lookup lease_id=lob_a/db01/creds/db-user-readwrite/${db_user_readwrite_lease[0]}"
   ]
  },
  {
   "cell_type": "code",
   "execution_count": null,
   "metadata": {},
   "outputs": [],
   "source": [
    "vault write sys/leases/lookup lease_id=lob_a/db01/creds/db-user-readonly/${db_user_readonly_lease[0]}"
   ]
  },
  {
   "cell_type": "markdown",
   "metadata": {},
   "source": [
    "#### Renew credentials"
   ]
  },
  {
   "cell_type": "code",
   "execution_count": null,
   "metadata": {},
   "outputs": [],
   "source": [
    "vault write sys/leases/renew lease_id=\"lob_a/db01/creds/db-user-readwrite/${db_user_readwrite_lease[0]}\""
   ]
  },
  {
   "cell_type": "markdown",
   "metadata": {},
   "source": [
    "#### Revoke all Vault leases"
   ]
  },
  {
   "cell_type": "code",
   "execution_count": null,
   "metadata": {},
   "outputs": [],
   "source": [
    "vault lease revoke -prefix=true lob_a/db01/creds/db-user-readwrite\n",
    "vault lease revoke -prefix=true lob_a/db01/creds/db-user-readonly"
   ]
  },
  {
   "cell_type": "code",
   "execution_count": null,
   "metadata": {},
   "outputs": [],
   "source": [
    "vault list sys/leases/lookup/lob_a/db01/creds/db-user-readwrite\n",
    "vault list sys/leases/lookup/lob_a/db01/creds/db-user-readonly"
   ]
  },
  {
   "cell_type": "markdown",
   "metadata": {},
   "source": [
    "## Cleanup"
   ]
  },
  {
   "cell_type": "markdown",
   "metadata": {},
   "source": [
    "#### Disable Database Secret Engine"
   ]
  },
  {
   "cell_type": "code",
   "execution_count": null,
   "metadata": {},
   "outputs": [],
   "source": [
    "vault secrets disable lob_a/db01/ "
   ]
  },
  {
   "cell_type": "markdown",
   "metadata": {},
   "source": [
    "#### Disable Userpass Auth Method"
   ]
  },
  {
   "cell_type": "code",
   "execution_count": null,
   "metadata": {},
   "outputs": [],
   "source": [
    "vault auth disable userpass"
   ]
  },
  {
   "cell_type": "markdown",
   "metadata": {},
   "source": [
    "#### Shutdown Docker"
   ]
  },
  {
   "cell_type": "code",
   "execution_count": null,
   "metadata": {},
   "outputs": [],
   "source": [
    "docker stop workshop-mysql\n",
    "docker ps"
   ]
  },
  {
   "cell_type": "markdown",
   "metadata": {},
   "source": [
    "### Remove artifacts"
   ]
  },
  {
   "cell_type": "code",
   "execution_count": null,
   "metadata": {},
   "outputs": [],
   "source": [
    "rm -rf pov_db_dyn_cred.txt pov_db_static_cred.txt"
   ]
  },
  {
   "cell_type": "markdown",
   "metadata": {},
   "source": [
    "## END"
   ]
  }
 ],
 "metadata": {
  "kernelspec": {
   "display_name": "Bash",
   "language": "bash",
   "name": "bash"
  },
  "language_info": {
   "codemirror_mode": "shell",
   "file_extension": ".sh",
   "mimetype": "text/x-sh",
   "name": "bash"
  }
 },
 "nbformat": 4,
 "nbformat_minor": 4
}
