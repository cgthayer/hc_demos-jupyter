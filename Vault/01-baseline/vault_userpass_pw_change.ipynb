{
 "cells": [
  {
   "cell_type": "markdown",
   "id": "bddee968-fe0e-4cf9-94ae-9bdd45837e97",
   "metadata": {},
   "source": [
    "# Vault - Allow UserPass User to Update Password"
   ]
  },
  {
   "cell_type": "markdown",
   "id": "7044eb5f-3939-4b14-9cc7-2c084b5172c0",
   "metadata": {},
   "source": [
    "## Overview\n",
    "\n",
    "You might want to allow your users to change their own Userpass passwords. In order to do so, you need to have the appropriate policies in place and assigned to your users. Also, you need to make use of Vault [Template](https://learn.hashicorp.com/tutorials/vault/policy-templating) policies."
   ]
  },
  {
   "cell_type": "markdown",
   "id": "a128b049-787d-44a7-afc6-09dfe564436b",
   "metadata": {},
   "source": [
    "## Requirements:"
   ]
  },
  {
   "cell_type": "markdown",
   "id": "077aca88-54d0-4a55-8d7b-ced2a047beb9",
   "metadata": {},
   "source": [
    "### Set Main Environment Variables"
   ]
  },
  {
   "cell_type": "code",
   "execution_count": 2,
   "id": "e317fca3-b014-44dd-b851-acd153a1f33f",
   "metadata": {},
   "outputs": [
    {
     "name": "stdout",
     "output_type": "stream",
     "text": [
      "\u001b[?2004h\u001b[?2004l\u001b[?2004l\u001b[?2004l\u001b[?2004l\u001b[?2004l"
     ]
    },
    {
     "ename": "",
     "evalue": "1",
     "output_type": "error",
     "traceback": []
    }
   ],
   "source": [
    "#Set Env. This assumes Dev Mode.\n",
    "export VAULT_TOKEN=root\n",
    "export VAULT_ADDR=http://localhost:8200\n",
    "MAIN_DIR=$(pwd)\n",
    "WORK_DIR=config/vault\n",
    "mkdir -p config/vault/{data,logs,config}"
   ]
  },
  {
   "cell_type": "markdown",
   "id": "facfe687-8acb-4b3d-877e-a1e79163385d",
   "metadata": {},
   "source": [
    "### Vault Server"
   ]
  },
  {
   "cell_type": "markdown",
   "id": "d389a6a2-9a4d-41d5-9e09-1c8044673827",
   "metadata": {},
   "source": [
    "* Running Vault Server at http://localhost:8200 - see [Start Vault Server](./100-Setup-Vault.ipynb)"
   ]
  },
  {
   "cell_type": "markdown",
   "id": "c4f388cf-3027-4e55-89e3-5b6df510b2f9",
   "metadata": {},
   "source": [
    "### **Configure username/password**"
   ]
  },
  {
   "cell_type": "markdown",
   "id": "575e3aa0-8c83-4d3c-91fd-7843c4ad2039",
   "metadata": {},
   "source": [
    "Enable Userpass Auth Method"
   ]
  },
  {
   "cell_type": "code",
   "execution_count": 3,
   "id": "773f474a-b2ff-4a21-acf6-4ae47562c278",
   "metadata": {},
   "outputs": [
    {
     "name": "stdout",
     "output_type": "stream",
     "text": [
      "\u001b[0mSuccess! Enabled userpass auth method at: userpass/\u001b[0m\n",
      "\u001b[?2004h"
     ]
    },
    {
     "ename": "",
     "evalue": "1",
     "output_type": "error",
     "traceback": []
    }
   ],
   "source": [
    "vault auth enable userpass"
   ]
  },
  {
   "cell_type": "code",
   "execution_count": 5,
   "id": "8a92bdd1-52ba-44e9-a0be-78d39c0fb79a",
   "metadata": {},
   "outputs": [
    {
     "name": "stdout",
     "output_type": "stream",
     "text": [
      "auth_userpass_8be2b48c\n",
      "\u001b[?2004h"
     ]
    },
    {
     "ename": "",
     "evalue": "1",
     "output_type": "error",
     "traceback": []
    }
   ],
   "source": [
    "userpass_mount_accessor=$(vault auth list | awk '/^userpass/{print $3}')\n",
    "echo $userpass_mount_accessor"
   ]
  },
  {
   "cell_type": "markdown",
   "id": "4be93f7b-eb2a-4ce2-8bfa-afd8708ccba4",
   "metadata": {},
   "source": [
    "## Scenario"
   ]
  },
  {
   "cell_type": "markdown",
   "id": "922c8cee-4f98-4794-9ad2-5a4bd01ef55a",
   "metadata": {},
   "source": [
    "Assume that the following policy requirements were given:\n",
    "\n",
    "* Each user can perform all operations on their allocated key/value secret path (`auth/userpass/users/<user_name>`)"
   ]
  },
  {
   "cell_type": "markdown",
   "id": "ffda15c5-c63a-434b-97ef-fe57866b8478",
   "metadata": {},
   "source": [
    "### Write and deploy templated ACL policies"
   ]
  },
  {
   "cell_type": "code",
   "execution_count": 6,
   "id": "bd6b4ac2-0293-4cad-b01a-514237e798d2",
   "metadata": {},
   "outputs": [
    {
     "name": "stdout",
     "output_type": "stream",
     "text": [
      "\u001b[0mSuccess! Uploaded policy: userpass_update_pw\u001b[0m004l\u001b[?2004l\n",
      "\u001b[?2004h"
     ]
    },
    {
     "ename": "",
     "evalue": "1",
     "output_type": "error",
     "traceback": []
    }
   ],
   "source": [
    "vault policy write userpass_update_pw - << EOF\n",
    "path \"auth/userpass/users/{{identity.entity.aliases.${userpass_mount_accessor}.name}}\" {\n",
    "  capabilities = [ \"update\" ]\n",
    "  allowed_parameters = {\n",
    "    \"password\" = []\n",
    "  }\n",
    "}\n",
    "EOF"
   ]
  },
  {
   "cell_type": "markdown",
   "id": "1b2cdc22-8180-434f-bc96-51e4ed871838",
   "metadata": {},
   "source": [
    "* `identity.entity.aliases.${userpass_mount_accessor}.name` - Entity alias name for the given mount\n"
   ]
  },
  {
   "cell_type": "markdown",
   "id": "f30e9cc5-b571-484f-a619-b4a9ae789870",
   "metadata": {},
   "source": [
    "### Create user and assign policy"
   ]
  },
  {
   "cell_type": "markdown",
   "id": "c0257cf1-d370-46d8-8766-40e8b9c49ed5",
   "metadata": {},
   "source": [
    "Create user `testuser` and associate with policy `userpass_update_pw` to allow user to only change their own password."
   ]
  },
  {
   "cell_type": "code",
   "execution_count": 7,
   "id": "fb040c82-8fa4-4b23-8df3-ac949e5d9eeb",
   "metadata": {},
   "outputs": [
    {
     "name": "stdout",
     "output_type": "stream",
     "text": [
      "\u001b[0mSuccess! Data written to: auth/userpass/users/testuser\u001b[0m\n",
      "\u001b[?2004h"
     ]
    },
    {
     "ename": "",
     "evalue": "1",
     "output_type": "error",
     "traceback": []
    }
   ],
   "source": [
    "vault write auth/userpass/users/testuser password=test policies=userpass_update_pw"
   ]
  },
  {
   "cell_type": "code",
   "execution_count": 18,
   "id": "5be0de45-8d22-4c65-b09a-46a2cefa8aee",
   "metadata": {},
   "outputs": [
    {
     "name": "stdout",
     "output_type": "stream",
     "text": [
      "\u001b[0mSuccess! Data written to: auth/userpass/users/testuser2\u001b[0m\n",
      "\u001b[?2004h"
     ]
    },
    {
     "ename": "",
     "evalue": "1",
     "output_type": "error",
     "traceback": []
    }
   ],
   "source": [
    "vault write auth/userpass/users/testuser2 password=test policies=userpass_update_pw"
   ]
  },
  {
   "cell_type": "markdown",
   "id": "323f737a-4a28-4a15-a22d-e34e9513b00c",
   "metadata": {},
   "source": [
    "## Test the ACL templating policy"
   ]
  },
  {
   "cell_type": "markdown",
   "id": "8dca16e0-410f-4e93-8fc8-af514fd372f6",
   "metadata": {},
   "source": [
    "Get token for user."
   ]
  },
  {
   "cell_type": "code",
   "execution_count": 8,
   "id": "6c98c18c-bb1d-4496-93a0-0fc806389b69",
   "metadata": {},
   "outputs": [
    {
     "name": "stdout",
     "output_type": "stream",
     "text": [
      "WARNING! The VAULT_TOKEN environment variable is set! This takes precedence\n",
      "over the value set by this command. To use the value set by this command,\n",
      "unset the VAULT_TOKEN environment variable or set it to the token displayed\n",
      "below.\n",
      "\n",
      "s.pryflTfpi7A5WlaNM1VTp547\n",
      "\u001b[?2004h"
     ]
    },
    {
     "ename": "",
     "evalue": "1",
     "output_type": "error",
     "traceback": []
    }
   ],
   "source": [
    "TOKEN_TESTUSER=$(vault login -format=json -method=userpass username=testuser password=test | jq -r .auth.client_token)\n",
    "echo $TOKEN_TESTUSER"
   ]
  },
  {
   "cell_type": "markdown",
   "id": "1ab80213-9009-4484-b363-2368aa35d138",
   "metadata": {},
   "source": [
    "Use user token to change `testuser` password from `test` to `newpass`."
   ]
  },
  {
   "cell_type": "code",
   "execution_count": 12,
   "id": "59d0e219-8fc6-47cb-b0ad-c0f4973745e4",
   "metadata": {},
   "outputs": [
    {
     "name": "stdout",
     "output_type": "stream",
     "text": [
      "\u001b[0mSuccess! Data written to: auth/userpass/users/testuser\u001b[0m\n",
      "\u001b[?2004h"
     ]
    },
    {
     "ename": "",
     "evalue": "1",
     "output_type": "error",
     "traceback": []
    }
   ],
   "source": [
    "VAULT_TOKEN=$TOKEN_TESTUSER vault write auth/userpass/users/testuser password=newpass"
   ]
  },
  {
   "cell_type": "markdown",
   "id": "a4c8084f-d25a-415a-8559-d3659977f961",
   "metadata": {},
   "source": [
    "#### API"
   ]
  },
  {
   "cell_type": "markdown",
   "id": "5ce611c5-db04-48f3-8590-8cb917ce6b45",
   "metadata": {},
   "source": [
    "Login with new password and get token for user."
   ]
  },
  {
   "cell_type": "code",
   "execution_count": 14,
   "id": "9d91c9b6-8709-4279-87a6-f91fc3fd9603",
   "metadata": {},
   "outputs": [
    {
     "name": "stdout",
     "output_type": "stream",
     "text": [
      "WARNING! The VAULT_TOKEN environment variable is set! This takes precedence\n",
      "over the value set by this command. To use the value set by this command,\n",
      "unset the VAULT_TOKEN environment variable or set it to the token displayed\n",
      "below.\n",
      "\n",
      "s.RDodQQjeG1Nfysd701yc3Dak\n",
      "\u001b[?2004h"
     ]
    },
    {
     "ename": "",
     "evalue": "1",
     "output_type": "error",
     "traceback": []
    }
   ],
   "source": [
    "TOKEN_TESTUSER=$(vault login -format=json -method=userpass username=testuser password=newpass | jq -r .auth.client_token)\n",
    "echo $TOKEN_TESTUSER"
   ]
  },
  {
   "cell_type": "markdown",
   "id": "a9c575f9-7239-4601-aacd-235674406d8e",
   "metadata": {},
   "source": [
    "Use user token to change `testuser` password from `test` to `newpass`."
   ]
  },
  {
   "cell_type": "code",
   "execution_count": 15,
   "id": "034e45ed-20c2-43eb-aa6c-671a9d44e989",
   "metadata": {},
   "outputs": [
    {
     "name": "stdout",
     "output_type": "stream",
     "text": [
      "\u001b[?2004h"
     ]
    },
    {
     "ename": "",
     "evalue": "1",
     "output_type": "error",
     "traceback": []
    }
   ],
   "source": [
    "curl -X POST -H \"X-Vault-Request: true\" -H \"X-Vault-Token: ${TOKEN_TESTUSER}\" -d '{\"password\":\"newpass123\"}' http://localhost:8200/v1/auth/userpass/users/testuser"
   ]
  },
  {
   "cell_type": "markdown",
   "id": "345c3ba3-65b2-4099-bf45-f5ecfbeef9e3",
   "metadata": {},
   "source": [
    "Confirm that password has changed."
   ]
  },
  {
   "cell_type": "code",
   "execution_count": 17,
   "id": "82554bdb-fdf8-4073-8eb7-ff845c2d32b1",
   "metadata": {},
   "outputs": [
    {
     "name": "stdout",
     "output_type": "stream",
     "text": [
      "WARNING! The VAULT_TOKEN environment variable is set! This takes precedence\n",
      "over the value set by this command. To use the value set by this command,\n",
      "unset the VAULT_TOKEN environment variable or set it to the token displayed\n",
      "below.\n",
      "\n",
      "s.1Vyc4vbmlP0n5EPAKbO5WwmA\n",
      "\u001b[?2004h"
     ]
    },
    {
     "ename": "",
     "evalue": "1",
     "output_type": "error",
     "traceback": []
    }
   ],
   "source": [
    "vault login -format=json -method=userpass username=testuser password=newpass123 | jq -r .auth.client_token"
   ]
  },
  {
   "cell_type": "markdown",
   "id": "5a3c8c11-448f-4873-aed9-93f08187792e",
   "metadata": {},
   "source": [
    "### Negative Testing\n",
    "\n",
    "Confirm that you can't change another user's (`testuser2`) password."
   ]
  },
  {
   "cell_type": "code",
   "execution_count": 22,
   "id": "2da1b4e3-ba8b-4c62-82e4-7e5116e0a08a",
   "metadata": {},
   "outputs": [
    {
     "name": "stdout",
     "output_type": "stream",
     "text": [
      "{\"errors\":[\"1 error occurred:\\n\\t* permission denied\\n\\n\"]}\n",
      "\u001b[?2004h"
     ]
    },
    {
     "ename": "",
     "evalue": "1",
     "output_type": "error",
     "traceback": []
    }
   ],
   "source": [
    "curl -X POST -H \"X-Vault-Request: true\" -H \"X-Vault-Token: ${TOKEN_TESTUSER}\" -d '{\"password\":\"newpass123\"}' http://localhost:8200/v1/auth/userpass/users/testuser2"
   ]
  },
  {
   "cell_type": "markdown",
   "id": "5c76032b-d237-4ceb-a1ad-322735fd5552",
   "metadata": {},
   "source": [
    "## Clean Up"
   ]
  },
  {
   "cell_type": "code",
   "execution_count": null,
   "id": "81506905-d145-445a-88e0-24961712d784",
   "metadata": {},
   "outputs": [],
   "source": [
    "vault delete /auth/userpass/users/testuser\n",
    "vault policy delete userpass_update_pw"
   ]
  }
 ],
 "metadata": {
  "kernelspec": {
   "display_name": "Bash",
   "language": "bash",
   "name": "bash"
  },
  "language_info": {
   "codemirror_mode": "shell",
   "file_extension": ".sh",
   "mimetype": "text/x-sh",
   "name": "bash"
  }
 },
 "nbformat": 4,
 "nbformat_minor": 5
}
