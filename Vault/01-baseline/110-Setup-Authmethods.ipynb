{
 "cells": [
  {
   "cell_type": "markdown",
   "metadata": {},
   "source": [
    "# Sample Authentication Methods"
   ]
  },
  {
   "cell_type": "code",
   "execution_count": null,
   "metadata": {},
   "outputs": [],
   "source": [
    "#Set Env. This assumes Dev Mode.\n",
    "export VAULT_TOKEN=root\n",
    "export VAULT_ADDR=http://localhost:8200\n",
    "MAIN_DIR=$(pwd)\n",
    "WORK_DIR=config/vault\n",
    "mkdir -p config/vault/{data,logs,config}"
   ]
  },
  {
   "cell_type": "markdown",
   "metadata": {},
   "source": [
    "## Requirements: \n",
    "\n",
    "* Running Vault Server at localhost:8200 - see [Start Vault Server](./100-Setup-Vault.ipynb)"
   ]
  },
  {
   "cell_type": "markdown",
   "metadata": {},
   "source": [
    "## LDAP\n",
    "This starts a Docker container with an LDAP server that can be configured as an authentication source."
   ]
  },
  {
   "cell_type": "code",
   "execution_count": null,
   "metadata": {},
   "outputs": [],
   "source": [
    "docker run \\\n",
    "  --name ldap-service \\\n",
    "  --env LDAP_ORGANISATION=\"engineers\" \\\n",
    "  --env LDAP_DOMAIN=\"example.org\" \\\n",
    "  --env LDAP_ADMIN_PASSWORD=\"admin\" \\\n",
    "  -p 389:389 \\\n",
    "  -p 636:636 \\\n",
    "  --detach \\\n",
    "  --rm \\\n",
    "  osixia/openldap:latest"
   ]
  },
  {
   "cell_type": "markdown",
   "metadata": {},
   "source": [
    "### Add LDAP Users\n",
    "\n",
    "Create `dev` group with two members, `alice` and `bob`."
   ]
  },
  {
   "cell_type": "code",
   "execution_count": null,
   "metadata": {},
   "outputs": [],
   "source": [
    "ldapadd -cxD \"cn=admin,dc=example,dc=org\" -w admin <<EOF\n",
    "\n",
    "dn: ou=groups,dc=example,dc=org\n",
    "objectClass: organizationalunit\n",
    "objectClass: top\n",
    "ou: groups\n",
    "description: groups of users\n",
    "\n",
    "dn: ou=users,dc=example,dc=org\n",
    "objectClass: organizationalunit\n",
    "objectClass: top\n",
    "ou: users\n",
    "description: users\n",
    "\n",
    "dn: cn=dev,ou=groups,dc=example,dc=org\n",
    "objectClass: groupofnames\n",
    "objectClass: top\n",
    "description: testing group for dev\n",
    "cn: dev\n",
    "member: cn=alice,ou=users,dc=example,dc=org\n",
    "member: cn=bob,ou=users,dc=example,dc=org\n",
    "\n",
    "\n",
    "dn: cn=alice,ou=users,dc=example,dc=org\n",
    "objectClass: person\n",
    "objectClass: top\n",
    "cn: alice\n",
    "sn: lee\n",
    "memberOf: cn=dev,ou=groups,dc=example,dc=org\n",
    "userPassword: password123\n",
    "\n",
    "dn: cn=bob,ou=users,dc=example,dc=org\n",
    "objectClass: person\n",
    "objectClass: top\n",
    "cn: bob\n",
    "sn: villa\n",
    "memberOf: cn=dev,ou=groups,dc=example,dc=org\n",
    "userPassword: password123\n",
    "\n",
    "dn: cn=ansible,ou=users,dc=example,dc=org\n",
    "objectClass: person\n",
    "objectClass: top\n",
    "cn: ansible\n",
    "sn: ansible\n",
    "userPassword: password123\n",
    "\n",
    "EOF"
   ]
  },
  {
   "cell_type": "markdown",
   "metadata": {},
   "source": [
    "* `-c` continous operation mode (do not stop on errors)\n",
    "* `-x` simple authentication\n",
    "* `-W` prompt for bind password\n",
    "* `-D` binddn "
   ]
  },
  {
   "cell_type": "markdown",
   "metadata": {},
   "source": [
    "### Verification - Search ldap (test)"
   ]
  },
  {
   "cell_type": "code",
   "execution_count": null,
   "metadata": {},
   "outputs": [],
   "source": [
    "docker exec ldap-service ldapsearch -x -H ldap://host.docker.internal -b  cn=alice,ou=users,dc=example,dc=org -D \"cn=admin,dc=example,dc=org\" -w admin"
   ]
  },
  {
   "cell_type": "markdown",
   "metadata": {},
   "source": [
    "## Setup Vault LDAP Auth Method"
   ]
  },
  {
   "cell_type": "code",
   "execution_count": null,
   "metadata": {},
   "outputs": [],
   "source": [
    "vault auth enable ldap"
   ]
  },
  {
   "cell_type": "code",
   "execution_count": null,
   "metadata": {},
   "outputs": [],
   "source": [
    "vault write auth/ldap/config \\\n",
    "    url=ldap://host.docker.internal \\\n",
    "    userdn=\"ou=users,dc=example,dc=org\" \\\n",
    "    groupdn=\"ou=groups,dc=example,dc=org\" \\\n",
    "    binddn=\"cn=admin,dc=example,dc=org\" \\\n",
    "    bindpass=admin \\\n",
    "    token_policies=\"\""
   ]
  },
  {
   "cell_type": "markdown",
   "metadata": {},
   "source": [
    "## Configure Web Admin frontend to LDAP"
   ]
  },
  {
   "cell_type": "code",
   "execution_count": null,
   "metadata": {},
   "outputs": [],
   "source": [
    "# docker rm phpldapadmin-service\n",
    "docker run --rm -d \\\n",
    "    --name phpldapadmin-service --hostname phpldapadmin-service \\\n",
    "    -p 6443:443 \\\n",
    "    --link ldap-service:ldap-host \\\n",
    "    --env PHPLDAPADMIN_LDAP_HOSTS=ldap-host \\\n",
    "    osixia/phpldapadmin:latest"
   ]
  },
  {
   "cell_type": "markdown",
   "metadata": {},
   "source": [
    "**Information about the containers**"
   ]
  },
  {
   "cell_type": "code",
   "execution_count": null,
   "metadata": {},
   "outputs": [],
   "source": [
    "PHPLDAP_IP=$(docker inspect -f \"{{ .NetworkSettings.IPAddress }}\" phpldapadmin-service)\n",
    "LDAP_IP=$(docker inspect -f \"{{ .NetworkSettings.IPAddress }}\" ldap-service)\n",
    "echo \"open browser to https://localhost:6443\"\n",
    "echo \"phpweb IP is $PHPLDAP_IP; ldap IP is $LDAP_IP\"\n",
    "echo \"Login DN: cn=admin,dc=example,dc=org\"\n",
    "echo \"Password: admin\"\n",
    "open https://localhost:6443"
   ]
  },
  {
   "cell_type": "markdown",
   "metadata": {},
   "source": [
    "## Test Login to Vault using LDAP credential"
   ]
  },
  {
   "cell_type": "code",
   "execution_count": null,
   "metadata": {},
   "outputs": [],
   "source": [
    "VAULT_TOKEN=\"\" vault login -method=ldap username=alice password=password123"
   ]
  },
  {
   "cell_type": "markdown",
   "metadata": {},
   "source": [
    "## Cleanup - LDAP"
   ]
  },
  {
   "cell_type": "code",
   "execution_count": null,
   "metadata": {},
   "outputs": [],
   "source": [
    "vault auth disable ldap"
   ]
  },
  {
   "cell_type": "code",
   "execution_count": null,
   "metadata": {},
   "outputs": [],
   "source": [
    "docker stop ldap-service"
   ]
  },
  {
   "cell_type": "code",
   "execution_count": null,
   "metadata": {},
   "outputs": [],
   "source": [
    "docker stop phpldapadmin-service"
   ]
  },
  {
   "cell_type": "markdown",
   "metadata": {},
   "source": [
    "## UserPass"
   ]
  },
  {
   "cell_type": "code",
   "execution_count": null,
   "metadata": {},
   "outputs": [],
   "source": [
    "#Set Env\n",
    "export VAULT_TOKEN=root\n",
    "export VAULT_ADDR=http://localhost:8200"
   ]
  },
  {
   "cell_type": "markdown",
   "metadata": {},
   "source": [
    "### **Configure username/password**"
   ]
  },
  {
   "cell_type": "code",
   "execution_count": null,
   "metadata": {},
   "outputs": [],
   "source": [
    "vault auth enable userpass\n",
    "vault write auth/userpass/users/alice password=\"passw0rd\" policies=\"default\"\n",
    "vault write auth/userpass/users/bob password=\"passw0rd\" policies=\"default\"\n",
    "vault write auth/userpass/users/ansible password=\"passw0rd\" policies=\"default\""
   ]
  },
  {
   "cell_type": "markdown",
   "metadata": {},
   "source": [
    "## Approle"
   ]
  },
  {
   "cell_type": "code",
   "execution_count": null,
   "metadata": {},
   "outputs": [],
   "source": [
    "#Set Env\n",
    "export VAULT_TOKEN=root\n",
    "export VAULT_ADDR=http://localhost:8200"
   ]
  },
  {
   "cell_type": "code",
   "execution_count": null,
   "metadata": {},
   "outputs": [],
   "source": [
    "vault auth enable approle"
   ]
  },
  {
   "cell_type": "code",
   "execution_count": null,
   "metadata": {},
   "outputs": [],
   "source": [
    "vault write -force auth/approle/role/vault-agent"
   ]
  },
  {
   "cell_type": "code",
   "execution_count": null,
   "metadata": {},
   "outputs": [],
   "source": [
    "vault read auth/approle/role/vault-agent/role-id"
   ]
  },
  {
   "cell_type": "code",
   "execution_count": null,
   "metadata": {},
   "outputs": [],
   "source": [
    "vault write -f -format=json auth/approle/role/vault-agent/secret-id"
   ]
  }
 ],
 "metadata": {
  "kernelspec": {
   "display_name": "Bash",
   "language": "bash",
   "name": "bash"
  },
  "language_info": {
   "codemirror_mode": "shell",
   "file_extension": ".sh",
   "mimetype": "text/x-sh",
   "name": "bash"
  }
 },
 "nbformat": 4,
 "nbformat_minor": 4
}
