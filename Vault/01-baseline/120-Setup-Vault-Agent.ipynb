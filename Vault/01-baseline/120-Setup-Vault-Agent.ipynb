{
 "cells": [
  {
   "cell_type": "markdown",
   "metadata": {},
   "source": [
    "# Vault Setup - UNDER DEVELOPMENT"
   ]
  },
  {
   "cell_type": "markdown",
   "metadata": {},
   "source": [
    "This notebook sets up a Vault Agent to run inside a container and updates configuration files.\n",
    "\n",
    "**UNDER DEVELOPMENT**"
   ]
  },
  {
   "cell_type": "markdown",
   "metadata": {},
   "source": [
    "## Requirements: \n",
    "\n",
    "* Running Vault Server at localhost:8200 - see [Start Vault Server](./100-Setup-Vault.ipynb)"
   ]
  },
  {
   "cell_type": "markdown",
   "metadata": {},
   "source": [
    "## Container"
   ]
  },
  {
   "cell_type": "markdown",
   "metadata": {},
   "source": [
    "Need an approle/secret-id?\n",
    "* For LDAP configuration, see [LDAP](./110-Setup-Authmethods.ipynb#LDAP)"
   ]
  },
  {
   "cell_type": "code",
   "execution_count": null,
   "metadata": {},
   "outputs": [],
   "source": [
    "#Set Env. This assumes Dev Mode.\n",
    "export VAULT_TOKEN=root\n",
    "export VAULT_ADDR=http://localhost:8200\n",
    "MAIN_DIR=$(pwd)\n",
    "WORK_DIR=config/vault\n",
    "mkdir -p config/vault/{data,logs,config}"
   ]
  },
  {
   "cell_type": "code",
   "execution_count": null,
   "metadata": {},
   "outputs": [],
   "source": [
    "vault auth enable approle"
   ]
  },
  {
   "cell_type": "code",
   "execution_count": null,
   "metadata": {},
   "outputs": [],
   "source": [
    "vault write -force auth/approle/role/vault-agent"
   ]
  },
  {
   "cell_type": "code",
   "execution_count": null,
   "metadata": {},
   "outputs": [],
   "source": [
    "vault read auth/approle/role/vault-agent/role-id"
   ]
  },
  {
   "cell_type": "code",
   "execution_count": null,
   "metadata": {},
   "outputs": [],
   "source": [
    "vault write -f -format=json auth/approle/role/vault-agent/secret-id"
   ]
  }
 ],
 "metadata": {
  "kernelspec": {
   "display_name": "Bash",
   "language": "bash",
   "name": "bash"
  },
  "language_info": {
   "codemirror_mode": "shell",
   "file_extension": ".sh",
   "mimetype": "text/x-sh",
   "name": "bash"
  }
 },
 "nbformat": 4,
 "nbformat_minor": 4
}
