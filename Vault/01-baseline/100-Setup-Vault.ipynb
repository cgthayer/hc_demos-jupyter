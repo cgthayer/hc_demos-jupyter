{
 "cells": [
  {
   "cell_type": "markdown",
   "metadata": {},
   "source": [
    "# Vault Setup\n",
    "This notebook has three ways of starting up Vault.\n",
    "\n",
    "1. A Dockerized Vault OSS\n",
    "1. A Dockerized Vault Enterprise version\n",
    "1. A local version of Vault"
   ]
  },
  {
   "cell_type": "code",
   "execution_count": null,
   "metadata": {},
   "outputs": [],
   "source": [
    "# Set Env\n",
    "export VAULT_PORT=8200\n",
    "export VAULT_TOKEN=root\n",
    "export VAULT_ADDR=http://localhost:${VAULT_PORT}\n",
    "export VAULT_LICENSE=$(cat ../../license/vault.hclic)\n",
    "# Set dir env vars. Create required directory.\n",
    "MAIN_DIR=$(pwd)\n",
    "WORK_DIR=config/vault\n",
    "mkdir -p config/vault/{data,logs,config}"
   ]
  },
  {
   "cell_type": "markdown",
   "metadata": {},
   "source": [
    "## Container\n",
    "This sets up Vault in a Docker container. Run either this or the localhost version below. "
   ]
  },
  {
   "cell_type": "code",
   "execution_count": null,
   "metadata": {},
   "outputs": [],
   "source": [
    "# (optional) Clean up any running containers\n",
    "docker stop vault; docker rm vault"
   ]
  },
  {
   "cell_type": "code",
   "execution_count": null,
   "metadata": {
    "tags": []
   },
   "outputs": [],
   "source": [
    "#==> Pull docker images\n",
    "# docker pull hashicorp/vault-enterprise:latest\n",
    "# docker pull hashicorp/vault:latest\n",
    "docker pull hashicorp/vault-enterprise:1.7.3_ent # 1.7.x has 8 hour eval\n",
    "docker pull hashicorp/vault:1.7.3 # 1.7.x has 8 hour eval"
   ]
  },
  {
   "cell_type": "markdown",
   "metadata": {},
   "source": [
    "### Vault Container Configuration\n",
    "\n",
    "There are two option to choose below.\n",
    "\n",
    "* OSS vs Enterprise\n",
    "  * Vault OSS\n",
    "\t* comment out this line `image: hashicorp/vault-enterprise`\n",
    "\t* uncomment this line `image: hashicorp/vault`\n",
    "  * Vault Enterprise\n",
    "\t* uncomment this line `image: hashicorp/vault-enterprise`\n",
    "\t* comment out this line `image: hashicorp/vault`\n",
    "* Dev Mode vs local config (requires initialization)\n",
    "  * Dev mode\n",
    "\t* uncomment this line `entrypoint: \"vault server -dev`\n",
    "    * comment out this line `entrypoint: \"vault server -config=/vault/config\"`\n",
    "  * Local config\n",
    "\t* vice versa\n",
    "\n",
    "The default is to run Vault Enterprise in Dev Mode."
   ]
  },
  {
   "cell_type": "markdown",
   "metadata": {},
   "source": [
    "Create a `docker-compose.yaml` file."
   ]
  },
  {
   "cell_type": "code",
   "execution_count": null,
   "metadata": {},
   "outputs": [],
   "source": [
    "## Create docker-compose file.\n",
    "cat << EOF > docker-compose.yaml\n",
    "version: '3.7'\n",
    "services:\n",
    "  vault:\n",
    "    image: hashicorp/vault-enterprise:1.7.3_ent # Vault Enterprise\n",
    "    #image: hashicorp/vault:1.7.3 # Vault OSS\n",
    "    container_name: vault\n",
    "    restart: always\n",
    "    volumes:\n",
    "#       - ./config/vault/data:/vault/data\n",
    "      - ./config/vault/logs:/vault/logs\n",
    "      - ./config/vault/config:/vault/config:ro\n",
    "#     networks: \n",
    "#       - hashi\n",
    "    ports:\n",
    "      - \"8200:8200/tcp\"\n",
    "    environment:\n",
    "      VAULT_DEV_ROOT_TOKEN_ID: ${VAULT_TOKEN}\n",
    "      VAULT_DEV_LISTEN_ADDRESS: '0.0.0.0:8200'\n",
    "      VAULT_ADDR: ${VAULT_ADDR}\n",
    "    cap_add:\n",
    "      - IPC_LOCK\n",
    "    #entrypoint: \"vault server -dev\" # dev mode\n",
    "    entrypoint: \"vault server -config=/vault/config\" # non-dev with local config\n",
    "\n",
    "# networks:\n",
    "#  hashi:\n",
    "#    driver: bridge\n",
    "EOF"
   ]
  },
  {
   "cell_type": "markdown",
   "metadata": {},
   "source": [
    "### Vault Configuration - non-Dev Mode (WIP)\n",
    "\n",
    "If want to run with a local config, then create a Vault config file. This file is placed in a folder mounted by the container."
   ]
  },
  {
   "cell_type": "code",
   "execution_count": null,
   "metadata": {},
   "outputs": [],
   "source": [
    "cat << EOF > $MAIN_DIR/$WORK_DIR/config/vault1.hcl\n",
    "# storage \"file\" {\n",
    "#     path = \"/vault/file\"\n",
    "# }\n",
    "\n",
    "storage \"raft\" {\n",
    "  path    = \"./vault/data\"\n",
    "  node_id = \"node1\"\n",
    "}\n",
    "\n",
    "listener \"tcp\" {\n",
    "  address       = \"0.0.0.0:8200\"\n",
    "#   tls_cert_file = \"/path/to/fullchain.pem\"\n",
    "#   tls_key_file  = \"/path/to/privkey.pem\"\n",
    "  tls_disable = true\n",
    "}\n",
    "\n",
    "default_lease_ttl = \"168h\" # default(768h)\n",
    "max_lease_ttl = \"0h\" # default(768h)\n",
    "api_addr = \"http://0.0.0.0:8200\"\n",
    "cluster_addr = \"https://0.0.0.1:8201\"\n",
    "ui = true\n",
    "\n",
    "# seal \"pkcs11\" {\n",
    "#   lib            = \"/usr/vault/lib/libCryptoki2_64.so\"\n",
    "#   slot           = \"0\"\n",
    "#   pin            = \"AAAA-BBBB-CCCC-DDDD\"\n",
    "#   key_label      = \"vault-hsm-key\"\n",
    "#   hmac_key_label = \"vault-hsm-hmac-key\"\n",
    "# }\n",
    "\n",
    "log_level = debug\n",
    "telemetry {\n",
    "  prometheus_retention_time = \"30s\"\n",
    "  disable_hostname = true\n",
    "}\n",
    "EOF"
   ]
  },
  {
   "cell_type": "markdown",
   "metadata": {},
   "source": [
    "### Start Container(s)"
   ]
  },
  {
   "cell_type": "code",
   "execution_count": null,
   "metadata": {
    "tags": []
   },
   "outputs": [],
   "source": [
    "docker compose up -d --quiet-pull"
   ]
  },
  {
   "cell_type": "markdown",
   "metadata": {},
   "source": [
    "## localhost\n",
    "This sets up Vault on the local host. Run either this or the Docker version above. "
   ]
  },
  {
   "cell_type": "code",
   "execution_count": null,
   "metadata": {},
   "outputs": [],
   "source": [
    "#Set Env\n",
    "export VAULT_PORT=8201\n",
    "export VAULT_TOKEN=root\n",
    "export VAULT_ADDR=http://localhost:${VAULT_PORT}\n",
    "export VAULT_LICENSE=$(cat ../../license/vault.hclic)"
   ]
  },
  {
   "cell_type": "code",
   "execution_count": null,
   "metadata": {},
   "outputs": [],
   "source": [
    "vault server \\\n",
    "  -dev -dev-root-token-id=${VAULT_TOKEN} -dev-listen-address=:8201 \\\n",
    "  -log-level=trace \\\n",
    "  -config=./config.hcl > vault.log 2>&1 &"
   ]
  },
  {
   "cell_type": "markdown",
   "metadata": {},
   "source": [
    "## Vault - Initialize and Unseal\n",
    "\n",
    "Only for non-Dev mode, you will need to initialize and unseal your cluster."
   ]
  },
  {
   "cell_type": "code",
   "execution_count": null,
   "metadata": {},
   "outputs": [],
   "source": [
    "vault operator init -key-shares=1 -key-threshold=1 > $MAIN_DIR/$WORK_DIR/vault.init"
   ]
  },
  {
   "cell_type": "code",
   "execution_count": null,
   "metadata": {},
   "outputs": [],
   "source": [
    "VAULT_TOKEN=$(grep \"Root Token\" $MAIN_DIR/$WORK_DIR/vault.init | awk '{print $NF}')\n",
    "UNSEAL_KEY1=$(grep \"Key 1\" $MAIN_DIR/$WORK_DIR/vault.init | awk '{print $NF}')"
   ]
  },
  {
   "cell_type": "code",
   "execution_count": null,
   "metadata": {},
   "outputs": [],
   "source": [
    "vault operator unseal ${UNSEAL_KEY1}"
   ]
  },
  {
   "cell_type": "markdown",
   "metadata": {},
   "source": [
    "## Status, Audit, and License"
   ]
  },
  {
   "cell_type": "code",
   "execution_count": null,
   "metadata": {},
   "outputs": [],
   "source": [
    "vault status"
   ]
  },
  {
   "cell_type": "code",
   "execution_count": null,
   "metadata": {},
   "outputs": [],
   "source": [
    "# Enable audit output to file, audit settings are in vault1.hcl\n",
    "vault audit enable file file_path=/vault/logs/audit.log"
   ]
  },
  {
   "cell_type": "code",
   "execution_count": null,
   "metadata": {},
   "outputs": [],
   "source": [
    "#==> Install License for Vault Enterprise 1.7.x.\n",
    "## v1.8.x requires Vault to check for license file before starting\n",
    "## If setting up Vault Enterprise, place license key file in ../../license/vault.hclic\n",
    "# sleep 5\n",
    "curl \\\n",
    "    --silent \\\n",
    "    --header \"X-Vault-Token: $VAULT_TOKEN\" \\\n",
    "    --request PUT \\\n",
    "    --data '{\"text\":\"'$VAULT_LICENSE'\"}' \\\n",
    "    $VAULT_ADDR/v1/sys/license"
   ]
  },
  {
   "cell_type": "markdown",
   "metadata": {},
   "source": [
    "## UI"
   ]
  },
  {
   "cell_type": "code",
   "execution_count": null,
   "metadata": {},
   "outputs": [],
   "source": [
    "open $VAULT_ADDR\n",
    "echo \"login with token: $VAULT_TOKEN\""
   ]
  },
  {
   "cell_type": "markdown",
   "metadata": {
    "slideshow": {
     "slide_type": "-"
    }
   },
   "source": [
    "## Sample Authentication Methods"
   ]
  },
  {
   "cell_type": "markdown",
   "metadata": {},
   "source": [
    "* For LDAP configuration, see [LDAP](./110-Setup-authmethods.ipynb#LDAP)\n",
    "* For User Pass, see [UserPass](./110-Setup-authmethods.ipynb#UserPass)"
   ]
  },
  {
   "cell_type": "markdown",
   "metadata": {},
   "source": [
    "## Clean Up"
   ]
  },
  {
   "cell_type": "markdown",
   "metadata": {},
   "source": [
    "### Clean up Docker"
   ]
  },
  {
   "cell_type": "code",
   "execution_count": null,
   "metadata": {},
   "outputs": [],
   "source": [
    "# docker stop vault-enterprise vault\n",
    "# docker rm vault-enterprise vault\n",
    "docker compose down\n",
    "docker ps -a"
   ]
  },
  {
   "cell_type": "markdown",
   "metadata": {},
   "source": [
    "### Clean up localhost"
   ]
  },
  {
   "cell_type": "code",
   "execution_count": null,
   "metadata": {},
   "outputs": [],
   "source": [
    "pkill vault"
   ]
  },
  {
   "cell_type": "markdown",
   "metadata": {},
   "source": [
    "### Clean up artifacts"
   ]
  },
  {
   "cell_type": "code",
   "execution_count": null,
   "metadata": {},
   "outputs": [],
   "source": [
    "rm -rf config/vault"
   ]
  }
 ],
 "metadata": {
  "kernelspec": {
   "display_name": "Bash",
   "language": "bash",
   "name": "bash"
  },
  "language_info": {
   "codemirror_mode": "shell",
   "file_extension": ".sh",
   "mimetype": "text/x-sh",
   "name": "bash"
  }
 },
 "nbformat": 4,
 "nbformat_minor": 4
}
