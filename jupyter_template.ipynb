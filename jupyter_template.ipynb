{
 "cells": [
  {
   "cell_type": "markdown",
   "id": "b609b35d-2e9b-4070-bc38-2f9868032885",
   "metadata": {},
   "source": [
    "# Title"
   ]
  },
  {
   "cell_type": "markdown",
   "id": "3d03dc6b-b85a-4c61-a6eb-73a0c3fe6660",
   "metadata": {},
   "source": [
    "## Overview"
   ]
  },
  {
   "cell_type": "markdown",
   "id": "5be0275e-655b-406f-89c3-b69ff38873a1",
   "metadata": {},
   "source": [
    "## Prerequisites"
   ]
  },
  {
   "cell_type": "markdown",
   "id": "d33c06b1-c0be-4930-8518-6b8e6275d9ab",
   "metadata": {},
   "source": [
    "* Software and versions\n",
    "* Credentials\n",
    "* Hardware"
   ]
  },
  {
   "cell_type": "markdown",
   "id": "d9fa4eb9-9b4f-4301-9ef4-a8882e29bbe8",
   "metadata": {},
   "source": [
    "### Set Main Environment Variables"
   ]
  },
  {
   "cell_type": "code",
   "execution_count": null,
   "id": "81ad4ba0-3337-439b-9976-a202ff2fece8",
   "metadata": {},
   "outputs": [],
   "source": [
    "export RED=\"\\e[0;31m\" YELLOW=\"\\e[0;33m\" BLDYELLOW=\"\\e[1;33m\" GREEN=\"\\e[0;32m\"\n",
    "export CYAN=\"\\e[0;36m\" BLUE=\"\\e[0;34m\" WHITE=\"\\e[0;37m\" BLDWHITE=\"\\e[1;37m\"\n",
    "export NC=\"\\e[0m\"\n",
    "# Some commands may have sensitive information. Prevent commands starting with a space to be saved to shell history.\n",
    "HISTCONTROL=ignoreboth # do not save lines that begin with space in history\n",
    "\n",
    "printf \"${GREEN}# Set MAIN_DIR for future reference.${NC}\\n\"\n",
    "export MAIN_DIR=${PWD}"
   ]
  },
  {
   "cell_type": "markdown",
   "id": "9daa691b-a1c9-4149-ac2b-6f7bf21cfa1b",
   "metadata": {},
   "source": [
    "Be sure to replace `TF_ORG` and `TF_WS_NAME` with your own values."
   ]
  },
  {
   "cell_type": "code",
   "execution_count": null,
   "id": "ce268e0c-d456-4080-9499-eab52309daac",
   "metadata": {},
   "outputs": [],
   "source": [
    "export TF_GIT_DIR=\"config/terraform/<repo>\"\n",
    "printf \"${GREEN}# Set Terraform Variables.${NC}\\n\"\n",
    "printf \"\\n$MAIN_DIR \\n $TF_GIT_DIR \\n\""
   ]
  },
  {
   "cell_type": "markdown",
   "id": "2c6b0b1b-73c9-49ff-a5fb-96b9cab8fa76",
   "metadata": {},
   "source": [
    "Be sure to replace `VAULT_ADDR` with your own values."
   ]
  },
  {
   "cell_type": "code",
   "execution_count": 5,
   "id": "1943db07-e595-4ab9-a384-fa1786e0a200",
   "metadata": {},
   "outputs": [
    {
     "name": "stdout",
     "output_type": "stream",
     "text": [
      "\u001b[0;32m# Set Vault Variables.\u001b[0m\n",
      "cat: ../../license/vault.hclic: No such file or directory\n",
      "\u001b[?2004h\u001b[?2004l\u001b[?2004l\u001b[?2004l"
     ]
    },
    {
     "ename": "",
     "evalue": "1",
     "output_type": "error",
     "traceback": []
    }
   ],
   "source": [
    "printf \"${GREEN}# Set Vault Variables.${NC}\\n\"\n",
    "export VAULT_PORT=8200\n",
    "export VAULT_TOKEN=root\n",
    "export VAULT_ADDR=http://localhost:${VAULT_PORT}\n",
    "export VAULT_LICENSE=$(cat ../../license/vault.hclic)\n",
    "# Set dir env vars. Create required directory.\n",
    "WORK_DIR=config/vault\n",
    "mkdir -p config/vault/{data,logs,config}"
   ]
  },
  {
   "cell_type": "markdown",
   "id": "01f65b17-451c-410d-be63-3e839051cca6",
   "metadata": {},
   "source": [
    "### AWS Credentials"
   ]
  },
  {
   "cell_type": "markdown",
   "id": "8536f9f9-0c30-431f-8ec5-650a7f4f5c05",
   "metadata": {},
   "source": [
    "`terraform` will use credentials set in your environment or through other means as described in the [Terraform documentation](https://www.terraform.io/docs/providers/aws/index.html#environment-variables). This guide will assume you are using the \"**Environment Variables**\" method.\n",
    "\n",
    "Add your AWS credentials as two environment variables. Set your `AWS_ACCESS_KEY_ID` and `AWS_SECRET_ACCESS_KEY` replacing `AAAAAA` with your own values."
   ]
  },
  {
   "cell_type": "code",
   "execution_count": null,
   "id": "f7ceba05-a164-4726-9224-160e31f79f89",
   "metadata": {},
   "outputs": [],
   "source": [
    " export AWS_ACCESS_KEY_ID=AAAAAA\n",
    " export AWS_SECRET_ACCESS_KEY=AAAAAA\n",
    "#  export AWS_SESSION_TOKEN=AAAAAA"
   ]
  },
  {
   "cell_type": "markdown",
   "id": "96252edf-2e97-4623-9486-a652c2361fbc",
   "metadata": {},
   "source": [
    "NOTE: If you use `doormat`, then use this method."
   ]
  },
  {
   "cell_type": "code",
   "execution_count": null,
   "id": "3400d256-0e73-4cc1-bda4-ec039de31366",
   "metadata": {},
   "outputs": [],
   "source": [
    "alias awscredsenv='doormat --smoke-test || doormat -r && eval $(doormat aws -a $account)'\n",
    "awscredsenv"
   ]
  },
  {
   "cell_type": "markdown",
   "id": "2962d9b5-6c65-4470-9a04-ab9479561217",
   "metadata": {},
   "source": [
    "### Clone Repo"
   ]
  },
  {
   "cell_type": "code",
   "execution_count": null,
   "id": "f1b2f053-937e-4938-96ca-b9c472827244",
   "metadata": {},
   "outputs": [],
   "source": [
    "git clone https://github.com/<org>/<repo>.git $TF_GIT_DIR"
   ]
  },
  {
   "cell_type": "markdown",
   "id": "c6244221-3144-408f-bdb8-89ad341de968",
   "metadata": {},
   "source": [
    "## Steps 0 - x"
   ]
  },
  {
   "cell_type": "markdown",
   "id": "0700d051-b984-4e65-b823-99511093f81b",
   "metadata": {},
   "source": [
    "### Commands"
   ]
  },
  {
   "cell_type": "markdown",
   "id": "8a104282-073e-4123-9aa7-426354c0c5b9",
   "metadata": {},
   "source": [
    "### Expected Results"
   ]
  },
  {
   "cell_type": "markdown",
   "id": "c3a43481-da7c-48c6-8f08-39462c8cfcc9",
   "metadata": {},
   "source": [
    "### Validation"
   ]
  },
  {
   "cell_type": "markdown",
   "id": "f5caac96-1641-4fdd-bcb7-8358ca521803",
   "metadata": {},
   "source": [
    "## Clean up"
   ]
  },
  {
   "cell_type": "markdown",
   "id": "98d63ea4-71af-4cf5-93ef-2e58505d8ca5",
   "metadata": {},
   "source": [
    "## Next steps"
   ]
  }
 ],
 "metadata": {
  "kernelspec": {
   "display_name": "Bash",
   "language": "bash",
   "name": "bash"
  },
  "language_info": {
   "codemirror_mode": "shell",
   "file_extension": ".sh",
   "mimetype": "text/x-sh",
   "name": "bash"
  }
 },
 "nbformat": 4,
 "nbformat_minor": 5
}
