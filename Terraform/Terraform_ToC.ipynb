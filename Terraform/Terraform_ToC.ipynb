{
 "cells": [
  {
   "cell_type": "markdown",
   "id": "32a2c37f-0c64-4384-bdff-e7e1929c9b65",
   "metadata": {},
   "source": [
    "# Terraform Cloud "
   ]
  },
  {
   "cell_type": "markdown",
   "id": "5a780424-18c7-4d1f-81be-f5ed47813b18",
   "metadata": {},
   "source": [
    "This is a summary that you can follow to progress through the labs for demos, PoV's, etc.\n",
    "\n",
    "The Terraform Cloud AWS section is a copy of the Instruqt Labs. The benefit of running them here is that there are no timeouts and you can use what you build as a base for other integrations."
   ]
  },
  {
   "cell_type": "markdown",
   "id": "2fcb1867-fe24-4ef7-a819-eac43efc8419",
   "metadata": {},
   "source": [
    "## Terraform Cloud AWS\n",
    "\n",
    "1. [Terraform Cloud AWS Part 1](Terraform_Cloud_AWS_1.ipynb)\n",
    "\t* Terraform Open Source\n",
    "\t* Terraform Cloud\n",
    "\t* Remote State\n",
    "\t* Secure Variable Storage\n",
    "1. [Terraform Cloud AWS Part 2](Terraform_Cloud_AWS_2.ipynb)\n",
    "\t* Version Control Integration\n",
    "\t* Role-based Access Controls\n",
    "\t* Collaboration on Changes\n",
    "1. [Terraform AWS Sentinel](Terraform_Sentinel.ipynb)\n",
    "\t* Sentinel Security Policies\n",
    "1. [Terraform Cloud AWS Part 3](Terraform_Cloud_AWS_3.ipynb)\n",
    "\t* Private Module Registry\n",
    "\t* API Driven Workflows"
   ]
  },
  {
   "cell_type": "markdown",
   "id": "f75006ac-81c3-4082-bc24-348b3a3eac59",
   "metadata": {},
   "source": [
    "## More\n",
    "\n",
    "<details><summary></summary>\n",
    "\n",
    "\n",
    "</details>\n",
    "\n",
    "* [hashicat-aws](https://github.com/hashicorp/hashicat-aws)\n",
    "* [Third-Generation Sentinel Policies](https://github.com/hashicorp/terraform-guides/tree/master/governance/third-generation)"
   ]
  },
  {
   "cell_type": "markdown",
   "id": "4af2ae87-3768-4e15-a97b-90945eb71321",
   "metadata": {},
   "source": [
    "## Advanced\n",
    "\n",
    "<details><summary></summary>\n",
    "\n",
    "\n",
    "</details>\n",
    "\n",
    "* [Terraform Cloud Secrets Engine](https://learn.hashicorp.com/tutorials/vault/terraform-secrets-engine?in=vault/secrets-management)\n",
    "* [Migrating A Lot of State with Python and the Terraform Cloud API](https://medium.com/hashicorp-engineering/migrating-a-lot-of-state-with-python-and-the-terraform-cloud-api-997ec798cd11)\n",
    "* [How to Easily Migrate Any Data Between Terraform Enterprise/Cloud Organizations](https://medium.com/hashicorp-engineering/the-power-of-the-terraform-api-how-to-easily-migrate-any-data-between-enterprise-and-cloud-596e7023eb7f)\n",
    "* [Terraform Module Registry](https://registry.terraform.io/)"
   ]
  },
  {
   "cell_type": "markdown",
   "id": "2f345fb4-e51d-43b3-9ce8-d63a0d9d12e2",
   "metadata": {},
   "source": [
    "## Resources\n",
    "\n",
    "* Status for TFC and HCP: https://status.hashicorp.com/\n",
    "* Sequence Diagram tool: https://sequencediagram.org/\n",
    "* [Rover - Terraform Visualizer](https://github.com/im2nguyen/rover)"
   ]
  },
  {
   "cell_type": "code",
   "execution_count": null,
   "id": "7dff693f-62dc-4aca-9f5e-d2773172763e",
   "metadata": {},
   "outputs": [],
   "source": []
  }
 ],
 "metadata": {
  "kernelspec": {
   "display_name": "Bash",
   "language": "bash",
   "name": "bash"
  },
  "language_info": {
   "codemirror_mode": "shell",
   "file_extension": ".sh",
   "mimetype": "text/x-sh",
   "name": "bash"
  }
 },
 "nbformat": 4,
 "nbformat_minor": 5
}
