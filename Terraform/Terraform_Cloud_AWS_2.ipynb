{
 "cells": [
  {
   "cell_type": "markdown",
   "id": "b8972a2f-1805-4bf5-988a-9897e3a6c829",
   "metadata": {},
   "source": [
    "# Terraform Cloud with AWS - Part 2"
   ]
  },
  {
   "cell_type": "markdown",
   "id": "ef56d8c5-b424-497e-97bc-747454e55c19",
   "metadata": {},
   "source": [
    "**Teaser:**\n",
    "Join the ACME devops team on their journey to fully automated provisioning with AWS Cloud.\n",
    "\n",
    "**Description:**\n",
    "\n",
    "Work with the devops team at Acme Inc. as they go from manual provisioning with Terraform to a fully automated devops workflow with code reviews, testing, and automated provisioning in AWS Cloud. This workshop covers the following topics:\n",
    "\n",
    "  * Version Control Integration\n",
    "  * Role-based Access Controls\n",
    "  * Sentinel Security Policies\n",
    "  * Collaboration on Changes\n",
    "  * Private Module Registry\n",
    "  * API Driven Workflows\n",
    "\n",
    "In [Terraform Cloud AWS Part 1](Terraform_Cloud_AWS_1.ipynb), we covered:\n",
    "  * Terraform Open Source\n",
    "  * Terraform Cloud\n",
    "  * Remote State\n",
    "  * Secure Variable Storage"
   ]
  },
  {
   "cell_type": "markdown",
   "id": "44dd6ead-696b-4176-b805-d9676c5a9bc2",
   "metadata": {},
   "source": [
    "## Prerequisites"
   ]
  },
  {
   "cell_type": "markdown",
   "id": "35ddd6b5-c910-49d8-96ed-dc6bc9b7a11f",
   "metadata": {},
   "source": [
    "* [Terraform Cloud AWS Part 1](Terraform_Cloud_AWS_1.ipynb)"
   ]
  },
  {
   "cell_type": "markdown",
   "id": "849b413c-8fcd-4e8b-b11d-751a85cc1ade",
   "metadata": {},
   "source": [
    "### Set Main Environment Variables"
   ]
  },
  {
   "cell_type": "code",
   "execution_count": null,
   "id": "0b4e25b4-6075-4d10-b70c-b1752990de11",
   "metadata": {},
   "outputs": [],
   "source": [
    "export RED=\"\\e[0;31m\" YELLOW=\"\\e[0;33m\" BLDYELLOW=\"\\e[1;33m\" GREEN=\"\\e[0;32m\"\n",
    "export CYAN=\"\\e[0;36m\" BLUE=\"\\e[0;34m\" WHITE=\"\\e[0;37m\" BLDWHITE=\"\\e[1;37m\"\n",
    "export NC=\"\\e[0m\"\n",
    "\n",
    "printf \"${GREEN}# Set MAIN_DIR for future reference.${NC}\\n\"\n",
    "export MAIN_DIR=${PWD}"
   ]
  },
  {
   "cell_type": "markdown",
   "id": "b694385c-be68-48d9-a706-057edcf9eebc",
   "metadata": {},
   "source": [
    "**NOTE:** Replace `TF_ORG`, `TF_WS_NAME`, `GIT_ORG` with your own values."
   ]
  },
  {
   "cell_type": "code",
   "execution_count": null,
   "id": "37231647-552f-4cf1-9702-2c1f8b348e33",
   "metadata": {},
   "outputs": [],
   "source": [
    "printf \"${GREEN}# Set Terraform Variables.${NC}\\n\"\n",
    "export TF_ORG=\"pphan\"\n",
    "export TF_WS_NAME=\"hashicat-aws\"\n",
    "export TF_ADDR=\"https://app.terraform.io\"\n",
    "export TF_TOKEN=$(jq -r '.credentials.\"app.terraform.io\".token' ${HOME}/.terraform.d/credentials.tfrc.json)\n",
    "export HASHICAT_DIR=\"config/terraform/hashicat-aws\"\n",
    "export TFE_PROVIDER_DIR=\"config/terraform/tfe-provider\"\n",
    "# Get the ID of the Terraform Cloud workspace.\n",
    "export TF_WS_ID=$(terraform -chdir=config/terraform/tfe-provider output -raw workspace_id)\n",
    "\n",
    "printf \"\\n$MAIN_DIR \\n $HASHICAT_DIR \\n $TF_ADDR \\n $TF_ORG \\n $TF_WS_NAME \\n $TF_WS_ID \\n\"\n",
    "\n",
    "# Some commands may have sensitive information. Prevent commands starting with a space to be saved to shell history.\n",
    "HISTCONTROL=ignoreboth # do not save lines that begin with space in history"
   ]
  },
  {
   "cell_type": "markdown",
   "id": "850cbc55-961c-4cc7-8d3d-8cf16317fb42",
   "metadata": {
    "tags": []
   },
   "source": [
    "# Working with Teams in Terraform Cloud\n",
    "\n",
    "**Teaser:**\n",
    "As your Terraform usage increases more team members want to collaborate.\n",
    "Let's add some teams and access rules for our organization.\n",
    "\n",
    "**notes:**\n",
    "A few months go by and you continue building more infrastructure with Terraform Cloud. The devops team are all familiar with Terraform, but some members are unable to access the Terraform Cloud organization. Your manager Hiro steps into your cubicle with a clipboard in hand:\n",
    "\n",
    "👨🏻‍💼Thank you for all your hard work on this Terraform project. I'd like to have read access to your workspace, and we also need to get Lars and Aisha set up. Can you please create some teams in our organization and add your co-workers to them?\n",
    "\n",
    "Teams and role-based access controls are a paid feature of Terraform Cloud. Your instructor will need to upgrade your organization to a free trial in order to complete this challenge."
   ]
  },
  {
   "cell_type": "markdown",
   "id": "e6c72637-2d22-47ec-bf44-e58f74aae471",
   "metadata": {},
   "source": [
    "## Assignment:\n",
    "\n",
    "Teams and role-based access controls are a paid feature of Terraform Cloud. You need to ensure your free trial has been activated from the earlier steps in order to complete this challenge.\n",
    "\n",
    "In this challenge you'll create teams with different levels of access to your workspace. You can then invite other users to collaborate on code changes, approvals, and Terraform runs."
   ]
  },
  {
   "cell_type": "markdown",
   "id": "a5cc5464-50a6-469c-afe5-c25ee33c9392",
   "metadata": {},
   "source": [
    "### Create teams with UI\n",
    "\n",
    "1. Click on your organization's \"**Settings**\" tab and click on the \"**Teams**\" link.\n",
    "2. Add a team called **admins**. \n",
    "\t* Admins should be able to **Manage Policies**, **Manage Policy Overrides**, **Manage workspaces**, and **Manage VCS settings**.\n",
    "\t* Click the \"**Update team organization access**\" button after checking all 4 checkboxes.\n",
    "3. Add another team called **developers**. \n",
    "\t* Developers should not have any organization-wide access.\n",
    "4. Add a third team called **managers**. \n",
    "\t* Managers should not have any organization-wide access."
   ]
  },
  {
   "cell_type": "markdown",
   "id": "aa0f17de-cdb2-4a3c-b700-32a6e0ddc7c3",
   "metadata": {},
   "source": [
    "### Create teams with Provider\n",
    "\n",
    "* We use `for_each` to loop through a set of items to create teams with no organization-wide access.\n",
    "  * `for_each` [link](https://www.terraform.io/docs/language/meta-arguments/for_each.html#basic-syntax)\n",
    "* `organization_access` items are `false` by default."
   ]
  },
  {
   "cell_type": "code",
   "execution_count": null,
   "id": "cad40e40-b352-4b43-9ee9-acd90e5a4b27",
   "metadata": {},
   "outputs": [],
   "source": [
    "cat > $TFE_PROVIDER_DIR/tfe-teams.tf <<EOF\n",
    "locals {\n",
    "  no_org_access = {\n",
    "    managers = {\n",
    "      manage_policies         = false\n",
    "      manage_policy_overrides = false\n",
    "      manage_workspaces       = false\n",
    "      manage_vcs_settings     = false\n",
    "    }\n",
    "    developers = {\n",
    "      manage_policies         = false\n",
    "      manage_policy_overrides = false\n",
    "      manage_workspaces       = false\n",
    "      manage_vcs_settings     = false\n",
    "    }\n",
    "    custom = {\n",
    "      manage_policies         = false\n",
    "      manage_policy_overrides = false\n",
    "      manage_workspaces       = false\n",
    "      manage_vcs_settings     = false\n",
    "    }\n",
    "    admins = {\n",
    "      manage_policies         = true\n",
    "      manage_policy_overrides = true\n",
    "      manage_workspaces       = true\n",
    "      manage_vcs_settings     = true\n",
    "    }\n",
    "  }\n",
    "}\n",
    "\n",
    "# Create admin teams\n",
    "# resource \"tfe_team\" \"admins\" {\n",
    "#   organization = \"${TF_ORG}\"\n",
    "#   name         = \"admins\"\n",
    "\n",
    "#   organization_access {\n",
    "#     manage_policies         = true\n",
    "#     manage_policy_overrides = true\n",
    "#     manage_workspaces       = true\n",
    "#     manage_vcs_settings     = true\n",
    "#   }\n",
    "# }\n",
    "\n",
    "# Create non-admin teams\n",
    "resource \"tfe_team\" \"${TF_ORG}_teams\" {\n",
    "  for_each = local.no_org_access   #toset([\"managers\"],[\"developers\"])\n",
    "  organization = \"${TF_ORG}\"\n",
    "  name         = each.key\n",
    "  organization_access {\n",
    "    manage_policies = local.no_org_access[each.key][\"manage_policies\"]\n",
    "    manage_policy_overrides = local.no_org_access[each.key][\"manage_policy_overrides\"]\n",
    "    manage_workspaces = local.no_org_access[each.key][\"manage_workspaces\"]\n",
    "    manage_vcs_settings = local.no_org_access[each.key][\"manage_vcs_settings\"]\n",
    "  }\n",
    "}\n",
    "EOF"
   ]
  },
  {
   "cell_type": "code",
   "execution_count": null,
   "id": "263d1001-e500-4ce4-abaf-1b0ed0290af0",
   "metadata": {
    "tags": []
   },
   "outputs": [],
   "source": [
    "terraform -chdir=$TFE_PROVIDER_DIR plan"
   ]
  },
  {
   "cell_type": "code",
   "execution_count": null,
   "id": "3c3c6ebf-a18f-4d1d-86a8-d00528b52c02",
   "metadata": {
    "tags": []
   },
   "outputs": [],
   "source": [
    "terraform -chdir=$TFE_PROVIDER_DIR apply -auto-approve"
   ]
  },
  {
   "cell_type": "markdown",
   "id": "5af2368d-2569-4741-a04c-57714d7515ba",
   "metadata": {},
   "source": [
    "### Assign teams and rights to Workspaces with UI\n",
    "\n",
    "Next, assign access rights to the `hashicat-aws` workspace. \n",
    "\n",
    "* Go into the **Settings > Team Access** page of the `hashicat-aws` workspace Settings.\n",
    "\t* If you don't see the **Team Access** link you might need to log out and back into Terraform Cloud.\n",
    "* Give the **admins** group **admin** level access.\n",
    "* Give the **developers** group **write** level access.\n",
    "* Give the **managers** group **read** level access."
   ]
  },
  {
   "cell_type": "markdown",
   "id": "f5c500e6-256c-4bba-852b-58a6263134c8",
   "metadata": {},
   "source": [
    "**[pp] Add tfe provider code as another option.**"
   ]
  },
  {
   "cell_type": "code",
   "execution_count": null,
   "id": "a68e337e-019b-4eb9-a208-daa92cf9bbef",
   "metadata": {},
   "outputs": [],
   "source": [
    "cat > $TFE_PROVIDER_DIR/tfe-team-access.tf <<EOF\n",
    "locals {\n",
    "  hashicat-aws_team_access = {\n",
    "    admins     = \"admin\"\n",
    "    developers = \"write\"\n",
    "    managers = \"read\"\n",
    "  }\n",
    "}\n",
    "\n",
    "# Create team access\n",
    "resource \"tfe_team_access\" \"workspaces\" {\n",
    "  for_each     = local.hashicat-aws_team_access\n",
    "  team_id      = tfe_team.${TF_ORG}_teams[each.key].id\n",
    "  workspace_id = tfe_workspace.hashicat_aws.id\n",
    "  access       = each.value\n",
    "}\n",
    "\n",
    "# resource \"tfe_team_access\" \"workspaces_custom\" {\n",
    "#   for_each     = toset([\"custom\"])\n",
    "#   team_id      = tfe_team.${TF_ORG}_teams[\"custom\"].id #tfe_team.admins.id \n",
    "#   workspace_id = tfe_workspace.hashicat_aws.id\n",
    "#   permissions  {\n",
    "#     runs           = \"apply\"\n",
    "#     sentinel_mocks = \"read\"\n",
    "#     state_versions = \"write\"\n",
    "#     variables      = \"write\"\n",
    "#     workspace_locking = true\n",
    "    \n",
    "#   }\n",
    "# }\n",
    "EOF"
   ]
  },
  {
   "cell_type": "code",
   "execution_count": null,
   "id": "5067e67f-91d3-4ad0-8095-a4bd7d26e0c2",
   "metadata": {
    "tags": []
   },
   "outputs": [],
   "source": [
    "terraform -chdir=$TFE_PROVIDER_DIR plan"
   ]
  },
  {
   "cell_type": "code",
   "execution_count": null,
   "id": "9c53fb40-2729-493a-b147-989863bbb82c",
   "metadata": {},
   "outputs": [],
   "source": [
    "terraform -chdir=$TFE_PROVIDER_DIR apply -auto-approve"
   ]
  },
  {
   "cell_type": "markdown",
   "id": "cb0ca040-a5e9-4ed4-98c2-ca90b9cc22fa",
   "metadata": {},
   "source": [
    "### Invite users\n",
    "\n",
    "Now that you have created teams and given them workspace access, you can **invite some users to your organization**.\n",
    "\n",
    "* Return to your **General Settings** for the **organization**, and select **Users**.\n",
    "* If you're doing an instructor-led training, you can invite your instructor or a fellow student to your organization and place them on the **developers** team. \n",
    "* You'll need the email address attached to their Terraform Cloud account to invite them.\n",
    "* Or you can use one of our example users below:\n",
    "\t* workshops+aisha@hashicorp.com\n",
    "\t* workshops+lars@hashicorp.com\n",
    "\t* workshops+hiro@hashicorp.com\n",
    "* **NOTE**: You will not see any users in your organization until they accept your invitations.\n",
    "\n",
    "⚠️ You will need at least two users (including yourself) in your organization to pass this challenge. The users you invite do not have to accept the invite to be counted.\n",
    "\n",
    "---"
   ]
  },
  {
   "cell_type": "markdown",
   "id": "25c4a694-178c-489e-a0bb-28696e6eae50",
   "metadata": {
    "tags": []
   },
   "source": [
    "### optional - Check - Teams\n",
    "\n",
    "Confirm if you have any teams set up using the API. This step is not necessary but is useful for troubleshooting. It also illustrates how you can verify settings using the API."
   ]
  },
  {
   "cell_type": "code",
   "execution_count": null,
   "id": "6388e4d1-425b-4e1d-ace5-01976f0c925a",
   "metadata": {},
   "outputs": [],
   "source": [
    "printf \"${GREEN}# Get all team IDs in Org.${NC}\\n\"\n",
    "curl -s -H \"Authorization: Bearer $TF_TOKEN\" \\\n",
    "    -H \"Content-Type: application/vnd.api+json\" \\\n",
    "    -X GET https://app.terraform.io/api/v2/organizations/$TF_ORG/teams \\\n",
    "    > $TFE_PROVIDER_DIR/tf_teams.txt\n",
    "\n",
    "printf \"${GREEN}# Get specific team IDs.${NC}\\n\"\n",
    "ADMINS_TEAM_ID=$(cat $TFE_PROVIDER_DIR/tf_teams.txt | jq -r '.data | .[] | select(.attributes.name|test(\"admins\")) | .id')\n",
    "DEVS_TEAM_ID=$(cat $TFE_PROVIDER_DIR/tf_teams.txt | jq -r '.data | .[] | select(.attributes.name|test(\"developers\")) | .id')\n",
    "MANAGERS_TEAM_ID=$(cat $TFE_PROVIDER_DIR/tf_teams.txt | jq -r '.data | .[] | select(.attributes.name|test(\"managers\")) | .id')\n",
    "printf \"${YELLOW}Team IDs: $ADMINS_TEAM_ID $DEVS_TEAM_ID $MANAGERS_TEAM_ID ${NC}\\n\"\n",
    "\n",
    "printf \"${GREEN}# Fetch our workspace ID.${NC}\\n\"\n",
    "WORKSPACE_ID=$(curl -s -H \"Authorization: Bearer $TF_TOKEN\" -H \"Content-Type: application/vnd.api+json\" \\\n",
    "    -X GET https://app.terraform.io/api/v2/organizations/$TF_ORG/workspaces/${TF_WS_NAME} | jq -r .data.id)\n",
    "printf \"${YELLOW}Workspace ID: $WORKSPACE_ID ${NC}\\n\"\n",
    "\n",
    "printf \"${GREEN}# Check if the 'admins' team has been attached to the workspace with correct access${NC}\\n\"\n",
    "ADMINS_ACCESS=$(curl -s --header \"Authorization: Bearer $TF_TOKEN\" --header \"Content-Type: application/vnd.api+json\" \\\n",
    "    --request GET \"https://app.terraform.io/api/v2/team-workspaces?filter%5Bworkspace%5D%5Bid%5D=$WORKSPACE_ID\" \\\n",
    "    | jq -r --arg ADMINS_TEAM_ID \"$ADMINS_TEAM_ID\" '.data | .[] | select(.relationships.team.data.id | test($ADMINS_TEAM_ID)) | .attributes.access')\n",
    "\n",
    "[[ $ADMINS_ACCESS == admin ]] || printf \"${RED}Oops, it looks like your admins group has not been set up correctly yet. Give the admins group admin rights on the hashicat-aws workspace.${NC}\\n\"\n",
    "\n",
    "printf \"${GREEN}# Check if the 'managers' team has been attached to the workspace with correct access${NC}\\n\"\n",
    "MANAGERS_ACCESS=$(curl -s --header \"Authorization: Bearer $TF_TOKEN\" --header \"Content-Type: application/vnd.api+json\" \\\n",
    "    --request GET \"https://app.terraform.io/api/v2/team-workspaces?filter%5Bworkspace%5D%5Bid%5D=$WORKSPACE_ID\" \\\n",
    "    | jq -r --arg MANAGERS_TEAM_ID \"$MANAGERS_TEAM_ID\" '.data | .[] | select(.relationships.team.data.id | test($MANAGERS_TEAM_ID)) | .attributes.access')\n",
    "\n",
    "[[ $MANAGERS_ACCESS == read ]] || printf \"${RED}Oops, it looks like your managers group has not been set up correctly yet. Give the managers group read rights on the hashicat-aws workspace.${NC}\\n\"\n",
    "\n",
    "printf \"${GREEN}# Check if the 'developers' team has been attached to the workspace with correct access${NC}\\n\"\n",
    "DEVS_ACCESS=$(curl -s --header \"Authorization: Bearer $TF_TOKEN\" --header \"Content-Type: application/vnd.api+json\" \\\n",
    "    --request GET \"https://app.terraform.io/api/v2/team-workspaces?filter%5Bworkspace%5D%5Bid%5D=$WORKSPACE_ID\" \\\n",
    "    | jq -r --arg DEVS_TEAM_ID \"$DEVS_TEAM_ID\" '.data | .[] | select(.relationships.team.data.id | test($DEVS_TEAM_ID)) | .attributes.access')\n",
    "\n",
    "[[ $DEVS_ACCESS == write ]] || printf \"${RED}Oops, it looks like your developers group has not been attached to your workspace yet. Give the developers group write access to the hashicat-aws workspace.${NC}\\n\"\n",
    "\n",
    "printf \"${GREEN}# Check the number of users in the org${NC}\\n\"\n",
    "USERS=$(curl -s --header \"Authorization: Bearer $TF_TOKEN\" --header \"Content-Type: application/vnd.api+json\" https://app.terraform.io/api/v2/organizations/$ORG/organization-memberships | jq -r '.data | length')\n",
    "printf \"${YELLOW}Users: $USERS ${NC}\\n\"\n",
    "[[ $USERS -gt 1 ]] || printf \"${RED}Oops, it looks like you haven't added any other users to your organization. Invite at least one user to your org and put them on a team.${NC}\\n\""
   ]
  },
  {
   "cell_type": "markdown",
   "id": "c5d42fb6-dde9-4196-945d-67c51032b8f6",
   "metadata": {},
   "source": [
    "### Bonus Exercise\n",
    "\n",
    "What if you wanted to see all the variables defined in your Org or in a Workspace\n",
    "\n",
    "The example below uses Terraform's API to show all the variables in an org that are not marked as `sensitive`. There is a `filter` for org. Then we use `jq` to only show entries where sensitive is `false`.\n",
    "\n",
    "> NOTE: We are limiting the output to the last `30` lines to reduce the load on Jupyter Lab."
   ]
  },
  {
   "cell_type": "code",
   "execution_count": null,
   "id": "ed5415a8-f10c-4eb3-bfe8-f1b6af5324a8",
   "metadata": {},
   "outputs": [],
   "source": [
    "curl -s -H \"Authorization: Bearer ${TF_TOKEN}\"\\\n",
    "    -H \"Content-Type: application/vnd.api+json\" \\\n",
    "    -X GET \"${TF_ADDR}/api/v2/vars?filter%5Borganization%5D%5Bname%5D=${TF_ORG}\" \\\n",
    "    | jq -rc '.data[] | select(.attributes.sensitive==false)' | tail -n 30 | jq -c "
   ]
  },
  {
   "cell_type": "markdown",
   "id": "fbbed3e2-1e5c-4fb0-82b0-3f4200620b97",
   "metadata": {},
   "source": [
    "# Version Controlled Infrastructure\n",
    "\n",
    "**Teaser**: \n",
    "The team has grown and you need to implement code reviews. Terraform Cloud\n",
    "can connect to popular Version Control Systems to enable collaboration and testing.\n",
    "\n",
    "**Notes:**\n",
    "As Terraform usage continues to increase across the organization, your team needs a better way to store and organize everyone's Terraform code. Until now you haven't had much testing or code review for infrastructure changes. Jane, the QA lead, introduces herself:\n",
    "\n",
    "👩‍🎤 Hi sysadmin, we're trying to implement better quality assurance around our infrastructure deployment process. Can you help me add the **hashicat-aws** GitHub repository to the workspace so we can implement code reviews?\"\n",
    "\n",
    "Once you connect a VCS repository to your Terraform Cloud workspace, **all** changes to the code must be stored in the VCS before Terraform will execute them. This ensures that you have no unauthorized changes to your infrastructure as code.\n",
    "\n",
    "In addition it allows you to enable features like code reviews, pull requests, and automated testing of your code."
   ]
  },
  {
   "cell_type": "markdown",
   "id": "267f8e30-3c5b-470c-b940-8a04af872afa",
   "metadata": {},
   "source": [
    "## Assignment:\n",
    "\n",
    "In order for different teams and individuals to be able to work on the same Terraform code, you need to use a Version Control System (VCS). Terraform Cloud can integrate with the most popular VCS systems including GitHub, GitLab and Bitbucket.\n",
    "\n",
    "> **NOTE**: You will need a free GitHub.com account for this challenge. We recommend using a personal account for training instead of your work account."
   ]
  },
  {
   "attachments": {
    "161b1dfc-36f6-4ec0-8a92-0bc70e80dd25.png": {
     "image/png": "[encoded data removed]"
    }
   },
   "cell_type": "markdown",
   "id": "5f2219cb-6910-46e5-b4d8-051af6edf471",
   "metadata": {
    "tags": []
   },
   "source": [
    "### Create a fork of hashicat-aws repo\n",
    "\n",
    "First, create a fork of the **hashicat-aws** repository. \n",
    "  * Visit this URL: https://github.com/hashicorp/hashicat-aws\n",
    "  * Click on the **Fork** button in the upper right corner to create your own copy of the repo.\n",
    "\n",
    "<img src=\"attachment:161b1dfc-36f6-4ec0-8a92-0bc70e80dd25.png\" width=\"25%\" />\n",
    "\n",
    "> **NOTE:** If you ran this track in the past and already forked the repository, please delete your fork and re-fork it to make sure you are using the latest version and that it does not have changes which you will push to it later in this track."
   ]
  },
  {
   "cell_type": "markdown",
   "id": "0b5ad986-2ca7-4add-9adf-84d77419197f",
   "metadata": {
    "tags": []
   },
   "source": [
    "You can delete a repository by:\n",
    "\n",
    "1. Clicking on the \"**Settings**\" menu of it\n",
    "1. Scrolling all the way to the bottom of the page\n",
    "1. Clicking the \"**Delete this repository**\" button in the \"**Danger Zone**\" section\n",
    "1. Typing the full repository name\n",
    "1. Then clicking the \"**I understand the consequences, delete this repository**\" button."
   ]
  },
  {
   "cell_type": "markdown",
   "id": "2850f862-57c0-48d2-be37-50e4dd73c033",
   "metadata": {
    "tags": []
   },
   "source": [
    "Then re-fork the repository as above."
   ]
  },
  {
   "cell_type": "markdown",
   "id": "c42e894d-18ab-44e5-b594-2c8be208f9ce",
   "metadata": {
    "tags": []
   },
   "source": [
    "Update your git configuration for your own repository. \n",
    "\n",
    "* **NOTE:** Be sure to replace `<YOURGITUSER>` and others with your own git values."
   ]
  },
  {
   "cell_type": "code",
   "execution_count": null,
   "id": "e9f32be9-9cd0-4799-aabb-bffcbab7da4c",
   "metadata": {
    "toc-hr-collapsed": true
   },
   "outputs": [],
   "source": [
    "# export YOURGITUSER=<YOURGITUSER>\n",
    "export YOURGITUSER=phanclan\n",
    "export YOURGIT_EMAIL=pphan@hashicorp.com\n",
    "export YOURGIT_NAME=\"Peter Phan\""
   ]
  },
  {
   "cell_type": "code",
   "execution_count": null,
   "id": "7e97a70c-1f93-407b-961e-30d8cac5d899",
   "metadata": {},
   "outputs": [],
   "source": [
    "pushd $HASHICAT_DIR"
   ]
  },
  {
   "cell_type": "code",
   "execution_count": null,
   "id": "89956bb4-068e-4d60-a174-4070dbd4cae7",
   "metadata": {
    "toc-hr-collapsed": true
   },
   "outputs": [],
   "source": [
    "git remote remove origin\n",
    "git remote add origin https://github.com/${YOURGITUSER}/hashicat-aws\n",
    "git pull origin master # branch might be renamed to main\n",
    "git branch --set-upstream-to=origin/master master\n",
    "git config --global core.editor \"vi\""
   ]
  },
  {
   "cell_type": "code",
   "execution_count": null,
   "id": "c9d624dc-0ac7-4a42-bba9-a4a208915ea6",
   "metadata": {},
   "outputs": [],
   "source": [
    "git config --list"
   ]
  },
  {
   "cell_type": "markdown",
   "id": "631376de-4b9a-4b72-b112-270c67e60e3d",
   "metadata": {
    "toc-hr-collapsed": true
   },
   "source": [
    "Next, set your email and name. Replace the values with your own."
   ]
  },
  {
   "cell_type": "code",
   "execution_count": null,
   "id": "fa881052-0ec7-4f95-91ec-7e8aa7f185c6",
   "metadata": {
    "toc-hr-collapsed": true
   },
   "outputs": [],
   "source": [
    "git config --global user.email \"${YOURGIT_EMAIL}\"\n",
    "git config --global user.name \"${YOURGIT_NAME}\""
   ]
  },
  {
   "cell_type": "markdown",
   "id": "a15e2a85-eb1b-4608-9bfd-1509af4792f0",
   "metadata": {
    "toc-hr-collapsed": true
   },
   "source": [
    "Sync your local repo with your fork! `commit` and `push` modified `remote_backend.tf` file."
   ]
  },
  {
   "cell_type": "code",
   "execution_count": null,
   "id": "20dc41a0-cd60-4791-97d8-2720abf80944",
   "metadata": {
    "toc-hr-collapsed": true
   },
   "outputs": [],
   "source": [
    "git add .\n",
    "git commit -am \"adding remote backend\"\n",
    "git push origin master"
   ]
  },
  {
   "cell_type": "code",
   "execution_count": null,
   "id": "ff692bfb-c99a-4e09-a76c-e5595aefc6f1",
   "metadata": {},
   "outputs": [],
   "source": [
    "popd"
   ]
  },
  {
   "cell_type": "markdown",
   "id": "1cc1d53d-e6d3-4045-9687-9c2f5f26b8b1",
   "metadata": {
    "tags": []
   },
   "source": [
    "**NOTE:** You'll have to provide your GitHub username and password or personal access token in order to complete the `git push` command.\n",
    "\n",
    "### Two Factor Authentication\n",
    "\n",
    "**NOTE**: If you have two-factor authentication enabled and don't remember your personal access token,  you'll need to create a new one.\n",
    "\n",
    "* Create a new GitHub Personal Access Token:\n",
    "    * Log onto GitHub and visit the \"**Tokens**\" page: https://github.com/settings/tokens\n",
    "    * Click on **Personal Access Tokens** and generate a new token for the workshop.\n",
    "    * You can delete it afterwards if you like.\n",
    "    * This token enables you to push changes from your workstation."
   ]
  },
  {
   "cell_type": "markdown",
   "id": "1471d17b-2b17-4dec-8df4-ad5d9b6a1b5c",
   "metadata": {
    "tags": []
   },
   "source": [
    "### Configure GitHub Access\n",
    "\n",
    "Now that you have your own copy of the **hashicat-aws** repo to work with, follow the **Configuring GitHub Access** section of the TFC documentation to connect your GitHub account to your Terraform Organization.\n",
    "\n",
    "https://www.terraform.io/docs/cloud/vcs/github.html"
   ]
  },
  {
   "cell_type": "markdown",
   "id": "0123942d-0713-4971-8210-103fad73f51c",
   "metadata": {
    "tags": []
   },
   "source": [
    "### Configure TFC workspace to use VCS Repo - UI\n",
    "\n",
    "Once you've configured GitHub access, you can update your workspace to use your **hashicat-aws** repository as the source for all Terraform runs. \n",
    "\n",
    "* Configure your workspace to work with VCS\n",
    "\t* Go into the **Settings > Version Control** settings page for your workspace. \n",
    "\t* Connect your workspace to the fork of your **hashicat-aws** repository on GitHub. \n",
    "\t* Leave all the VCS settings at their defaults.\n",
    "* The first VCS-backed **apply** should trigger immediately.\n",
    "\t* If it does not, then manually queue one up.\n",
    "\t* Click on the **Runs** tab to view the run in action."
   ]
  },
  {
   "cell_type": "markdown",
   "id": "7ab8bc58-5ec9-4dd7-ae1a-1a39c596b54b",
   "metadata": {},
   "source": [
    "### Configure TFC workspace to use VCS Repo - TF Provider\n",
    "\n",
    "To perform this option, you need to have configured the workspace with the TF Provider from [Part 1](Terraform_Cloud_AWS_2.ipynb#Create-and-Configure-a-Workspace-with-TFE-Provider)."
   ]
  },
  {
   "cell_type": "code",
   "execution_count": null,
   "id": "9f8da863-9737-4cb3-982e-07a494f64cb1",
   "metadata": {},
   "outputs": [],
   "source": [
    "# Get oauth client id that was created to integrate with VCS Provider\n",
    "OAUTH_CLIENT_ID=$(curl -s \\\n",
    "  -H \"Authorization: Bearer $TF_TOKEN\" \\\n",
    "  -H \"Content-Type: application/vnd.api+json\" \\\n",
    "  -X GET \\\n",
    "  https://app.terraform.io/api/v2/organizations/${TF_ORG}/oauth-clients \\\n",
    "  | jq -r '.data | .[] | select(.attributes.\"service-provider\"|test(\"github\")) | .id ')"
   ]
  },
  {
   "cell_type": "code",
   "execution_count": null,
   "id": "7f9c2b05-6547-4aaa-b645-4f9802719b2f",
   "metadata": {
    "tags": []
   },
   "outputs": [],
   "source": [
    "cat > ${TFE_PROVIDER_DIR}/workspace-hashicat-aws.tf <<-\"EOF\"\n",
    "data \"tfe_oauth_client\" \"client\" {\n",
    "  oauth_client_id = var.vcs_oauth_client_id\n",
    "}\n",
    "\n",
    "resource \"tfe_workspace\" \"hashicat_aws\" {\n",
    "  name         = \"${var.tfc_hashicat_aws_workspace_name}\"\n",
    "  organization = var.tfc_org\n",
    "\n",
    "  queue_all_runs = false\n",
    "  execution_mode = var.execution_mode\n",
    "  auto_apply = var.auto_apply\n",
    "  terraform_version = var.terraform_version\n",
    "\n",
    "  tag_names = [\"boss:eljefe\", \"owner:pphan\"] # New in Terraform Cloud\n",
    "\n",
    "  vcs_repo {\n",
    "    identifier         = var.vcs_identifier_hashicat_aws\n",
    "    oauth_token_id     = data.tfe_oauth_client.client.oauth_token_id\n",
    "    ingress_submodules = true\n",
    "  }\n",
    "}\n",
    "\n",
    "#// TFC Variables and Outputs\n",
    "variable \"auto_apply\" {\n",
    "  description = \"automatically apply changes when a Terraform plan is successful\"\n",
    "  default     = false\n",
    "}\n",
    "variable \"execution_mode\" {\n",
    "  description = \"Which execution mode to use - remote, local, agent\"\n",
    "  default     = \"local\"\n",
    "}\n",
    "variable \"tfc_org\" {\n",
    "  description = \"The Terraform Cloud organization to create things in\"\n",
    "  default     = \"REPLACE_ME\"\n",
    "}\n",
    "variable \"tfc_hashicat_aws_workspace_name\" {\n",
    "  description = \"hashicat-aws workspace name\"\n",
    "  default     = \"hashicat-aws\"\n",
    "}\n",
    "variable \"terraform_version\" {\n",
    "  description = \"Version of Terraform to use for this workspace.\"\n",
    "  default     = null\n",
    "}\n",
    "variable \"vcs_oauth_client_id\" {\n",
    "  description = \"\"\n",
    "  default     = \"REPLACE_ME\"\n",
    "}\n",
    "variable \"vcs_identifier_hashicat_aws\" {\n",
    "  description = \"VCS repo org/repo\"\n",
    "  default     = \"REPLACE_ME\"\n",
    "}\n",
    "\n",
    "output \"workspace_id\" {\n",
    "    value = tfe_workspace.hashicat_aws.id\n",
    "}\n",
    "EOF"
   ]
  },
  {
   "cell_type": "markdown",
   "id": "0716e392-6ee4-487f-ab94-e6a3fbcc6eed",
   "metadata": {},
   "source": [
    "Set variables."
   ]
  },
  {
   "cell_type": "code",
   "execution_count": null,
   "id": "a5cd4603-388f-4eb3-b64e-37d32103073f",
   "metadata": {
    "tags": []
   },
   "outputs": [],
   "source": [
    "tee ${TFE_PROVIDER_DIR}/terraform.tfvars <<-EOF\n",
    "auto_apply                      = true\n",
    "execution_mode                  = \"remote\"\n",
    "tfc_hashicat_aws_workspace_name = \"${TF_WS_NAME}\"\n",
    "tfc_org                         = \"${TF_ORG}\"\n",
    "terraform_version               = \"$(terraform version -json | jq -r .terraform_version)\"\n",
    "vcs_identifier_hashicat_aws     = \"${YOURGITUSER}/${TF_WS_NAME}\"\n",
    "vcs_oauth_client_id              = \"${OAUTH_CLIENT_ID}\"\n",
    "EOF"
   ]
  },
  {
   "cell_type": "markdown",
   "id": "7e919b30-133b-4170-a248-88ec74663d2e",
   "metadata": {},
   "source": [
    "Confirm that tfvars looks correct and that all the variables got rendered.\n",
    "\n",
    "**Sample**\n",
    "```yaml\n",
    "auto_apply                      = false\n",
    "execution_mode                  = \"local\"\n",
    "tfc_hashicat_aws_workspace_name = \"hashicat-aws\"\n",
    "tfc_org                         = \"pphan\"\n",
    "terraform_version               = \"1.0.0\"\n",
    "vcs_identifier_hashicat_aws     = \"phanclan/hashicat-aws\"\n",
    "vcs_oauth_token_id              = \"oc-EzWp6kr9X8tENTXr\"\n",
    "```"
   ]
  },
  {
   "cell_type": "code",
   "execution_count": null,
   "id": "a41be622-06a8-4e31-8183-b3b0b8b2bbee",
   "metadata": {
    "tags": []
   },
   "outputs": [],
   "source": [
    "terraform -chdir=${TFE_PROVIDER_DIR} apply -auto-approve"
   ]
  },
  {
   "cell_type": "markdown",
   "id": "31721b31-137e-4d49-b3c8-8e2c2e9ff294",
   "metadata": {
    "tags": []
   },
   "source": [
    "---\n",
    "\n",
    "Congratulations, all Terraform changes must now go through version control before they are used in your workspace. \n",
    "\n",
    "* This enables you to do code reviews before any changes are pushed to production. \n",
    "* It provides a valuable record of any and all changes made to the code that built your infrastructure. \n",
    "* This can prevent configuration drift and undocumented changes."
   ]
  },
  {
   "cell_type": "markdown",
   "id": "0b7e8d68-1511-497f-be72-e5680d4d1fc0",
   "metadata": {
    "tags": []
   },
   "source": [
    "**Check** your settings and let Jane know that she can clone the hashicat-aws repo for QA testing."
   ]
  },
  {
   "cell_type": "code",
   "execution_count": null,
   "id": "c2896352-de64-4910-a017-6cac71ec5c4e",
   "metadata": {},
   "outputs": [],
   "source": [
    "VCS_HASHICAT=$(curl -s --header \"Authorization: Bearer ${TF_TOKEN}\" --header \"Content-Type: application/vnd.api+json\" --request GET https://app.terraform.io/api/v2/organizations/$TF_ORG/workspaces/hashicat-aws | jq -r '.data.attributes | .[\"vcs-repo\"] | .identifier' | cut -f2 -d '/')\n",
    "\n",
    "[[ $VCS_HASHICAT == hashicat-aws ]] && printf \"${GREEN}You are good to go.${NC}\" || printf \"${RED}Oops, we were unable to find the hashicat-aws VCS repo connected to your workspace. Make sure you have set up GitHub integration, and updated your workspace VCS settings.${NC}\""
   ]
  },
  {
   "cell_type": "markdown",
   "id": "1dd81797-ea7f-4703-bd92-4e9ada63d667",
   "metadata": {
    "tags": []
   },
   "source": [
    "# 👬 Collaborating with VCS\n",
    "\n",
    "**teaser:**\n",
    "Now that you've got your version control system configured with Terraform\n",
    "Cloud, you can collaborate on changes to your Terraform built infrastructure.\n",
    "\n",
    "**notes:**\n",
    "\n",
    "The marketing team at ACME is running a special promotion next week and they need you to push a change to the **hashicat** website. If you're doing an instructor led class you can pair up with a fellow student for this exercise. Alternatively you can do the exercise on your own.\n",
    "\n",
    "👨🏻‍🦲 Hey sysadmin friend, we need to push a change to the hashicat website. Can you please update the placeholder text with some snappy marketing slogans?\n",
    "\n",
    "VCS-backed workspaces enable features like code reviews and automated tests that must pass before any changes can be approved for production."
   ]
  },
  {
   "cell_type": "markdown",
   "id": "1bdc16a3-2426-4520-8acb-296449c392d3",
   "metadata": {
    "tags": []
   },
   "source": [
    "## Assignment:\n",
    "\n",
    "In this challenge you'll make a small change to the code that deploys the **hashicat-aws** application, and then create a \"**Pull Request**\", which is simply a way of proposing a change and optionally allowing others to review your changes."
   ]
  },
  {
   "cell_type": "markdown",
   "id": "eabce012-ce86-413f-82a5-e478705047b5",
   "metadata": {},
   "source": [
    "### Change a change file in GitHub UI"
   ]
  },
  {
   "cell_type": "markdown",
   "id": "2643b45f-27c8-4d1e-9dad-3e0d93236d96",
   "metadata": {
    "tags": []
   },
   "source": [
    "Find a partner, or if you're alone you can do this exercise solo. Exchange github usernames and browse to the other person's fork of the **hashicat-aws** repository. For example:\n",
    "\n",
    "* Go to `https://github.com/<PEER_NAME>/hashicat-aws`"
   ]
  },
  {
   "cell_type": "code",
   "execution_count": null,
   "id": "146155c9-8f27-4dd5-9b6e-9b087c78e8e7",
   "metadata": {
    "tags": []
   },
   "outputs": [],
   "source": [
    "open https://github.com/${YOURGITUSER}/${TF_WS_NAME}"
   ]
  },
  {
   "cell_type": "markdown",
   "id": "cd8dfe22-69dd-4480-a1aa-6eeb107eee45",
   "metadata": {
    "tags": []
   },
   "source": [
    "* Browse to the `files/deploy_app.sh` file and click on the small pencil icon in the upper right corner of the text area. This will allow you to edit the file right in your browser.\n",
    "* Replace the following text with your own catchy marketing slogan for **ACME**.\n",
    "\n",
    "```shell\n",
    "Welcome to ${PREFIX}'s app. Replace this text with your own.\n",
    "```"
   ]
  },
  {
   "cell_type": "markdown",
   "id": "009949c4-5418-4865-81c9-21a5f3952d43",
   "metadata": {},
   "source": [
    "### Create a new branch and start a pull request"
   ]
  },
  {
   "cell_type": "markdown",
   "id": "75ef23f0-9e5c-48c8-9439-8b533fc9be10",
   "metadata": {
    "tags": []
   },
   "source": [
    "* At the bottom of the screen, select the option \"**Create a new branch for this commit and start a pull request.**\".\n",
    "\t* Click **Propose file change**.\n",
    "\t* Click **Create pull request**.\n",
    "* Your partner should now review and approve the pull request. \n",
    "\t* They will go to **<REPO> => Pull Requests**\n",
    "* Or, if you're working alone you can review your own pull request and merge the changes.\n",
    "\t* Click **Merge pull request**, and then **Confirm merge**.\n",
    "* You can delete the temporary branch. Click \"**Delete branch**\"."
   ]
  },
  {
   "cell_type": "markdown",
   "id": "205c3ea2-e40d-44dc-ae0b-e6245cca7410",
   "metadata": {},
   "source": [
    "### Verify run in TFC UI"
   ]
  },
  {
   "cell_type": "markdown",
   "id": "0ab214c3-94d9-427a-aea1-4c0ab1a90012",
   "metadata": {
    "tags": []
   },
   "source": [
    "Once you've merged your changes to the master branch, watch the Terraform run that starts in the UI.\n",
    "\n",
    "* You can do this by clicking on the **Details** link next to the hashicat-aws check on the GitHub screen. \n",
    "* This will take you straight to the speculative plan run in Terraform Cloud.\n",
    "\n",
    "---"
   ]
  },
  {
   "cell_type": "markdown",
   "id": "4cf65fc5-53a1-4959-9348-3a6be8c63476",
   "metadata": {},
   "source": [
    "# Next Steps\n",
    "\n",
    "If you no longer need this environment, proceed to the Clean Up section. Or you can go to the next part [Terraform Cloud AWS Part 3](Terraform_Cloud_AWS_3.ipynb), which will be available soon."
   ]
  },
  {
   "cell_type": "markdown",
   "id": "3b9fd0c3-9d54-44e2-b5f0-9cca015e5e9c",
   "metadata": {},
   "source": [
    "# Clean Up"
   ]
  },
  {
   "cell_type": "markdown",
   "id": "90108bdc-4948-401d-8c5a-f5b8ec2ddd2e",
   "metadata": {},
   "source": [
    "See clean up section [here](Terraform_Cloud_AWS_1.ipynb#Clean-Up)."
   ]
  }
 ],
 "metadata": {
  "kernelspec": {
   "display_name": "Bash",
   "language": "bash",
   "name": "bash"
  },
  "language_info": {
   "codemirror_mode": "shell",
   "file_extension": ".sh",
   "mimetype": "text/x-sh",
   "name": "bash"
  },
  "toc-autonumbering": false
 },
 "nbformat": 4,
 "nbformat_minor": 5
}
