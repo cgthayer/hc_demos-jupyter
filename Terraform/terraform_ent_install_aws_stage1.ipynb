{
 "cells": [
  {
   "cell_type": "markdown",
   "id": "6ae4d947-9c66-485b-ade9-1de34c17f8fb",
   "metadata": {
    "tags": []
   },
   "source": [
    "# Terraform Enterprise Install - Stage 1"
   ]
  },
  {
   "cell_type": "markdown",
   "id": "4985fb27-a791-4d81-a7bb-ead4357e0a74",
   "metadata": {},
   "source": [
    "## Prerequisites"
   ]
  },
  {
   "cell_type": "markdown",
   "id": "9072735a-7f3e-4fb6-bb9f-9394807e755d",
   "metadata": {
    "tags": []
   },
   "source": [
    "### Set Main Environment Variables"
   ]
  },
  {
   "cell_type": "code",
   "execution_count": null,
   "id": "1583436e-42b5-455d-a24b-3e93a321351f",
   "metadata": {},
   "outputs": [],
   "source": [
    "export RED=\"\\e[0;31m\" YELLOW=\"\\e[0;33m\" BLDYELLOW=\"\\e[1;33m\" GREEN=\"\\e[0;32m\"\n",
    "export CYAN=\"\\e[0;36m\" BLUE=\"\\e[0;34m\" WHITE=\"\\e[0;37m\" BLDWHITE=\"\\e[1;37m\"\n",
    "export NC=\"\\e[0m\"\n",
    "# Some commands may have sensitive information. Prevent commands starting with a space to be saved to shell history.\n",
    "HISTCONTROL=ignoreboth # do not save lines that begin with space in history\n",
    "\n",
    "printf \"${GREEN}# Set MAIN_DIR for future reference.${NC}\\n\"\n",
    "export MAIN_DIR=${PWD}\n",
    "export TF_DIR=config/terraform/terraform-aws-tfe-prereqs/tests/single-region"
   ]
  },
  {
   "cell_type": "code",
   "execution_count": null,
   "id": "943abfa0-7553-46fc-bf8c-5dfc86538c54",
   "metadata": {},
   "outputs": [],
   "source": [
    "DATE=$(date +%Y%m%d) && echo ${DATE}"
   ]
  },
  {
   "cell_type": "markdown",
   "id": "4a163c8d-28c8-43c4-a129-fa6cf5738286",
   "metadata": {},
   "source": [
    "Customize `friendly_name_prefix`, `AWS_REGION`, and `cidr_block`."
   ]
  },
  {
   "cell_type": "code",
   "execution_count": null,
   "id": "b3944c21-4921-40a4-aeab-af85a1a9c34c",
   "metadata": {},
   "outputs": [],
   "source": [
    "# TF_DIR=config/terraform/tfe_stage_1\n",
    "export AWS_REGION=us-west-2 && AWS_DEFAULT_REGION=${AWS_REGION} && region=${AWS_REGION}\n",
    "friendly_name_prefix=pphan-${DATE}\n",
    "cidr_block=\"10.0.0.0/16\"\n",
    "bastion_ip=$(curl -s http://ipv4.icanhazip.com)"
   ]
  },
  {
   "cell_type": "code",
   "execution_count": null,
   "id": "958ba725-188a-4d27-8ea3-3272da56e5e3",
   "metadata": {},
   "outputs": [],
   "source": [
    "export RED=\"\\e[0;31m\" YELLOW=\"\\e[0;33m\" BLDYELLOW=\"\\e[1;33m\" GREEN=\"\\e[0;32m\"\n",
    "export CYAN=\"\\e[0;36m\" BLUE=\"\\e[0;34m\" WHITE=\"\\e[0;37m\" BLDWHITE=\"\\e[1;37m\"\n",
    "export NC=\"\\e[0m\"\n",
    "# Prevent commands starting with a space to be saved to shell history.\n",
    "HISTCONTROL=ignoreboth # do not save lines that begin with space in history\n",
    "\n",
    "printf \"${GREEN}# Set MAIN_DIR for future reference.${NC}\\n\"\n",
    "export MAIN_DIR=${PWD}"
   ]
  },
  {
   "cell_type": "markdown",
   "id": "00bd80f4-d3a8-4e7c-8ed7-fb3a723005f9",
   "metadata": {},
   "source": [
    "Be sure to replace `PREFIX`, `TF_ORG`, and `TF_WS_NAME` with your own values."
   ]
  },
  {
   "cell_type": "code",
   "execution_count": null,
   "id": "4573d5ea-9bd8-4650-8627-1ab6e82e838e",
   "metadata": {},
   "outputs": [],
   "source": [
    "export PREFIX=pphan\n",
    "export TF_ORG=pphan\n",
    "export TFC_ORG=$TF_ORG\n",
    "export TF_WS_NAME=consumer\n",
    "export TOKEN=$(jq -r '.credentials.\"app.terraform.io\".token' ~/.terraform.d/credentials.tfrc.json); export TFE_TOKEN=$TOKEN\n",
    "\n",
    "export TF_GIT_DIR=\"config/tfc-agent\"\n",
    "export TFE_PROVIDER_DIR=\"tfe-provider\"\n",
    "printf \"${GREEN}# Set Terraform Variables.${NC}\\n\"\n",
    "printf \"\\n$MAIN_DIR \\n $TF_GIT_DIR \\n TFE_PROVIDER_DIR: $TFE_PROVIDER_DIR\n",
    " TOKEN: $TOKEN \\n TF_ORG: $TFC_ORG\n",
    " TF_WS_NAME: $TF_WS_NAME\""
   ]
  },
  {
   "cell_type": "markdown",
   "id": "af9e9d1d-1093-4990-b963-c8de9ebdf8e1",
   "metadata": {
    "tags": []
   },
   "source": [
    "### AWS Credentials"
   ]
  },
  {
   "cell_type": "markdown",
   "id": "36ba5ede-8663-4a3c-93b1-706d28fc96e8",
   "metadata": {},
   "source": [
    "Unset any previous AWS credentials in environment variables."
   ]
  },
  {
   "cell_type": "code",
   "execution_count": null,
   "id": "d93388c1-dd6e-4188-b353-b52e8731887e",
   "metadata": {},
   "outputs": [],
   "source": [
    "unset AWS_SESSION_TOKEN AWS_SECRET_ACCESS_KEY AWS_ACCESS_KEY_ID"
   ]
  },
  {
   "cell_type": "markdown",
   "id": "1f41145f-59d1-4e7f-a3b1-043909a1e959",
   "metadata": {},
   "source": [
    "Set the AWS credentials"
   ]
  },
  {
   "cell_type": "code",
   "execution_count": null,
   "id": "f87c24bf-ade4-444b-a901-e5f936e44edf",
   "metadata": {},
   "outputs": [],
   "source": [
    "export AWS_ACCESS_KEY_ID=REPLACE_ME\n",
    "export AWS_SECRET_ACCESS_KEY=REPLACE_ME"
   ]
  },
  {
   "cell_type": "markdown",
   "id": "f29ea88f-9302-48ff-b34e-beb4e88eee7a",
   "metadata": {},
   "source": [
    "For Hashi only"
   ]
  },
  {
   "cell_type": "code",
   "execution_count": null,
   "id": "2fff6502-633a-40a3-8d20-d95f1593b76a",
   "metadata": {},
   "outputs": [],
   "source": [
    "awscredsenv"
   ]
  },
  {
   "cell_type": "markdown",
   "id": "7cbd1bd7-5c0a-485a-9791-d185908254e8",
   "metadata": {},
   "source": [
    "Confirm the credentials are in place. Optional link for [envo](https://github.com/im2nguyen/envo)."
   ]
  },
  {
   "cell_type": "code",
   "execution_count": null,
   "id": "cd791e21-14b8-4416-b6c8-e27936456a0f",
   "metadata": {
    "tags": []
   },
   "outputs": [],
   "source": [
    "envo | grep AWS || env | grep AWS"
   ]
  },
  {
   "cell_type": "markdown",
   "id": "e8168e9c-cad3-4a4a-8d3f-c201459581a0",
   "metadata": {
    "tags": []
   },
   "source": [
    "## Single Region\n",
    "In this example, we will provision resources in a single primary region."
   ]
  },
  {
   "cell_type": "markdown",
   "id": "b504f6c6-18e0-4946-ad0d-3b8a5770f20e",
   "metadata": {
    "tags": []
   },
   "source": [
    "### Resources Provisioned and Omitted"
   ]
  },
  {
   "cell_type": "markdown",
   "id": "61681a63-def2-493b-9fa4-f40437540db3",
   "metadata": {},
   "source": [
    "| Resource | Single Region | Primary Region with S3 CRR | Primary and Secondary Region |\n",
    "| --- | --- | --- | --- |\n",
    "| VPC | Yes |\n",
    "  | Public Subnets | Yes |\n",
    "  | Private Subnets | Yes |\n",
    "  | Internet Gateway | Yes |\n",
    "  | NAT Gateways (for each Public Subnet) | Yes |\n",
    "  | Route Tables and Routes | Yes |\n",
    "  | S3 VPC Endpoint | Yes |\n",
    "| Bastion host | Yes |\n",
    "| S3 \"bootstrap\" bucket (Primary) | Yes |\n",
    "| KMS Key | Yes |\n",
    "| AWS Secrets Manager secret | Yes |\n",
    "| AWS CloudWatch Log Group | Yes |\n",
    "| S3 \"bootstrap\" bucket **replica** in Secondary (Disaster Recovery) region | NO |\n",
    "| S3 Cross-Region Replication (CRR) configuration between 'Primary' and 'Replica' buckets | NO |\n",
    "| S3 \"logging\" bucket | NO |\n",
    "| AWS ssh key pair - NEED TO CONFIRM | NO |"
   ]
  },
  {
   "cell_type": "markdown",
   "id": "0b7ce8e1-1893-44d3-8e41-205a1a9aff1f",
   "metadata": {},
   "source": [
    "| Resource |\n",
    "| --- |\n",
    "| VPC\n",
    "| Public Subnets\n",
    "| Private Subnets\n",
    "| Internet Gateway\n",
    "| NAT Gateways (for each Public Subnet)\n",
    "| Route Tables and Routes\n",
    "| S3 VPC Endpoint\n",
    "| Bastion host\n",
    "| S3 \"bootstrap\" bucket (Primary)\n",
    "| KMS Key\n",
    "| AWS Secrets Manager secret\n",
    "| AWS CloudWatch Log Group"
   ]
  },
  {
   "cell_type": "markdown",
   "id": "0955095d-9812-4a43-939a-970228dc9d17",
   "metadata": {},
   "source": [
    "## Clone the Repo - Hashi Folks"
   ]
  },
  {
   "cell_type": "markdown",
   "id": "fe0cd8dc-5ffa-41fd-874d-67eb106d20e5",
   "metadata": {},
   "source": [
    "Create a directory such as `config/terraform/terraform-aws-tfe` into which you want to clone this repository."
   ]
  },
  {
   "cell_type": "code",
   "execution_count": null,
   "id": "6b175a23-2016-44ed-846d-f95a513bfd9f",
   "metadata": {},
   "outputs": [],
   "source": [
    "mkdir -p config/terraform/terraform-aws-tfe-prereqs"
   ]
  },
  {
   "cell_type": "markdown",
   "id": "428ace52-330a-4184-b7d6-d9603757867c",
   "metadata": {},
   "source": [
    "Clone the repo."
   ]
  },
  {
   "cell_type": "code",
   "execution_count": null,
   "id": "d37c2fdc-908c-443b-b8b6-fd915738cff5",
   "metadata": {},
   "outputs": [],
   "source": [
    "git clone https://github.com/hashicorp-services/terraform-aws-tfe-prereqs config/terraform/terraform-aws-tfe-prereqs"
   ]
  },
  {
   "cell_type": "markdown",
   "id": "6f2a5ad6-e08a-4809-bb4a-b3c328a06b78",
   "metadata": {
    "tags": []
   },
   "source": [
    "### unzip Repo - For Non-Hashi Folks\n",
    "\n",
    "A zip file of the Terraform module `terraform-aws-tfe.zip` is in this repo. You can check with your account team in case there is an updated version.\n",
    "\n",
    "Extract the archive."
   ]
  },
  {
   "cell_type": "code",
   "execution_count": null,
   "id": "d44612c4-4fdb-47ad-9b8f-5a65896c04f5",
   "metadata": {
    "tags": []
   },
   "outputs": [],
   "source": [
    "mkdir -p config/terraform && \\\n",
    "  unzip -qq terraform-aws-tfe-prereqs.zip -d config/terraform/ && \\\n",
    "  ls config/terraform/terraform-aws-tfe-prereqs"
   ]
  },
  {
   "cell_type": "markdown",
   "id": "61372e30-75db-4574-b3b7-c16975cbaa19",
   "metadata": {},
   "source": [
    "## Set Terraform Variables"
   ]
  },
  {
   "cell_type": "markdown",
   "id": "f2a71fe2-bac2-4fa6-9f37-a1b940a1614f",
   "metadata": {},
   "source": [
    "Confirm that TF_DIR is mapped to the single-region directory that contains the **Stage 1** Terraform code.\n",
    "\t* Run `cd examples/aws/network-public` or `cd examples/aws/network-private` \n"
   ]
  },
  {
   "cell_type": "code",
   "execution_count": null,
   "id": "11bf78cd-fdad-4ed0-b5bc-86a0639c4b8e",
   "metadata": {},
   "outputs": [],
   "source": [
    "echo $TF_DIR"
   ]
  },
  {
   "cell_type": "markdown",
   "id": "94624f43-a253-4517-b4db-4f68bee0d325",
   "metadata": {},
   "source": [
    "Create an `auto.tfvars` file."
   ]
  },
  {
   "cell_type": "markdown",
   "id": "f3e698f2-43aa-4748-a97f-0e2c9d86a635",
   "metadata": {},
   "source": [
    "### Set Variables auto.tfvars"
   ]
  },
  {
   "cell_type": "markdown",
   "id": "a2224f72-99d4-4e63-befb-6a564ff430c5",
   "metadata": {},
   "source": [
    "Customize `terraform.auto.tfvars`.\n",
    "* Set `friendly_name_prefix` to some suitable prefix for your TFE deployment\n",
    "* Set `aws_region` to your AWS region\n",
    "* Set `cidr_block` to a valid CIDR block: ex `cidr_block = \"10.110.0.0/16\"`\n",
    "* Set `*_password` to your own passwords\n",
    "* Set `bastion_keypair` to your key. We will create one as a modification to this module."
   ]
  },
  {
   "cell_type": "code",
   "execution_count": null,
   "id": "bb480147-37f5-41ba-9ad9-ecbb63b8b64d",
   "metadata": {
    "tags": []
   },
   "outputs": [],
   "source": [
    "tee $TF_DIR/terraform.auto.tfvars <<EOF\n",
    "#// Primary Region\n",
    "# --- Common --- #\n",
    "friendly_name_prefix = \"${friendly_name_prefix}\"\n",
    "common_tags = {\n",
    "  \"Environment\" = \"tfe-prereqs-primary\"\n",
    "  \"Tool\"        = \"Terraform\"\n",
    "  \"Owner\"       = \"YourName\"\n",
    "}\n",
    "\n",
    "# --- Network --- #\n",
    "deploy_vpc           = true\n",
    "vpc_cidr             = \"${cidr_block}\"\n",
    "public_subnet_cidrs  = [\"10.0.1.0/24\", \"10.0.2.0/24\", \"10.0.3.0/24\"]\n",
    "private_subnet_cidrs = [\"10.0.255.0/24\", \"10.0.254.0/24\", \"10.0.253.0/24\"]\n",
    "\n",
    "# --- Bastion --- #\n",
    "deploy_bastion             = true\n",
    "bastion_keypair            = \"${friendly_name_prefix}-bastion-key-pair-${AWS_REGION}\"\n",
    "bastion_ingress_cidr_allow = [\"${bastion_ip}/32\"]\n",
    "\n",
    "# --- S3 --- #\n",
    "deploy_bootstrap_bucket   = true\n",
    "bootstrap_bucket_name     = \"${friendly_name_prefix}-tfe-bootstrap-primary-${DATE}1\"\n",
    "\n",
    "# --- KMS --- #\n",
    "deploy_kms = true\n",
    "\n",
    "# --- Secrets Manager --- #\n",
    "deploy_secretsmanager      = true\n",
    "secretsmanager_secret_name = \"${friendly_name_prefix}-tfe-install-secrets\"\n",
    "secretsmanager_secrets = {\n",
    "  console_password            = \"ProtectThisSecretBetter123!\"\n",
    "  enc_password                = \"DefinitelyProtectThisOne456$\"\n",
    "  # tfe_initial_admin_password  = \"AdvancedTfeBootstrapFunctionality789@\"\n",
    "}\n",
    "\n",
    "# --- CloudWatch Logs --- #\n",
    "deploy_log_group         = true\n",
    "log_group_name           = \"vc-hcl-tfe-online\"\n",
    "log_group_retention_days = 30\n",
    "EOF"
   ]
  },
  {
   "cell_type": "markdown",
   "id": "ad94c7ec-06b0-42f7-ba8d-48b5092f6336",
   "metadata": {},
   "source": [
    "## Modifications to main.tf"
   ]
  },
  {
   "cell_type": "markdown",
   "id": "7be814e0-6045-4184-80e6-030b93ff4d65",
   "metadata": {},
   "source": [
    "The example config has the AWS region statically set. We will undo this.\n",
    "\n",
    "Comment out `region` parameter in AWS provider."
   ]
  },
  {
   "cell_type": "code",
   "execution_count": null,
   "id": "3e48fd45-9164-4757-a5c6-38b806dc7728",
   "metadata": {},
   "outputs": [],
   "source": [
    "sed -i '' '/^[^#]/ s/\\(^.* region .*$\\)/#\\ \\1/' $TF_DIR/main.tf"
   ]
  },
  {
   "cell_type": "markdown",
   "id": "667c8c6a-7950-4f0f-a3c1-bea3c6ebc190",
   "metadata": {},
   "source": [
    "## Optional Configuration for SSH Keys\n",
    "\n",
    "Create items not created by the module eg AWS ssh key. We will upload our ssh key. This is not necessary if you already have an SSH key. Just specify it in the tfvars file above."
   ]
  },
  {
   "cell_type": "code",
   "execution_count": null,
   "id": "09e7f40f-d9ef-4838-9780-c7bf0931ec46",
   "metadata": {},
   "outputs": [],
   "source": [
    "cat > ${TF_DIR}/aws_key_pair.tf <<EOF\n",
    "resource \"aws_key_pair\" \"tfe\" {\n",
    "  key_name   = \"${friendly_name_prefix}-bastion-key-pair-${AWS_REGION}\"\n",
    "  public_key = file(\"~/.ssh/id_rsa.pub\") #var.ssh_public_key\n",
    "}\n",
    "output \"ssh_key_pair\" {\n",
    "  value = aws_key_pair.tfe.id\n",
    "}\n",
    "EOF"
   ]
  },
  {
   "cell_type": "markdown",
   "id": "ee8cb7ec-ff33-441e-bb1a-6a79f8c1a5f8",
   "metadata": {},
   "source": [
    "## Terraform Init"
   ]
  },
  {
   "cell_type": "markdown",
   "id": "6bfd764a-e84d-40a5-b05c-9aa2bd116b45",
   "metadata": {},
   "source": [
    "Initialize **Stage 1** Terraform configuration and download providers."
   ]
  },
  {
   "cell_type": "code",
   "execution_count": null,
   "id": "9b4cf419-d427-48c1-8044-217b019407e7",
   "metadata": {
    "tags": []
   },
   "outputs": [],
   "source": [
    "terraform -chdir=${TF_DIR} init"
   ]
  },
  {
   "cell_type": "markdown",
   "id": "53a28649-f147-444a-8e82-67c77091a5b9",
   "metadata": {},
   "source": [
    "## Terraform Plan\n",
    "\n",
    "* We will format (`fmt`) the configuration and `validate` it.\n",
    "* If validation passes, then we will do a `terraform plan` for a dry run."
   ]
  },
  {
   "cell_type": "code",
   "execution_count": null,
   "id": "e74cc19e-20b4-4158-a46a-efa738711392",
   "metadata": {
    "tags": []
   },
   "outputs": [],
   "source": [
    "printf \"${GREEN}#--> Reformat your configuration in the standard style${NC}\\n\" && \\\n",
    "terraform -chdir=${TF_DIR} fmt && \\\n",
    "printf \"${GREEN}#--> Check whether the configuration is valid.${NC}\\n\" && \\\n",
    "terraform -chdir=${TF_DIR} validate && \\\n",
    "printf \"${GREEN}#--> Show changes required by the current configuration.${NC}\\n\" && \\\n",
    "# terraform -chdir=${TF_DIR} plan -input=false"
   ]
  },
  {
   "cell_type": "markdown",
   "id": "3484220b-e96f-4b4c-8d99-e4179024a63d",
   "metadata": {},
   "source": [
    "## Terraform Apply - Provision the resources\n",
    "\n",
    "The apply takes approximate three minutes. Output is sent to `/tmp/tf_stage_1_apply.out`. "
   ]
  },
  {
   "cell_type": "code",
   "execution_count": null,
   "id": "3eb88e29-b269-4455-8c29-ad8f590b3d2e",
   "metadata": {
    "tags": []
   },
   "outputs": [],
   "source": [
    "time terraform -chdir=${TF_DIR} apply -input=false -auto-approve \\\n",
    "  > /tmp/tf_stage_1_apply.out 2>&1"
   ]
  },
  {
   "cell_type": "markdown",
   "id": "0e1e511e-7413-4199-b082-14e8765d1c7c",
   "metadata": {},
   "source": [
    "You can monitor progress from a separate terminal with this command.\n",
    "```shell\n",
    "tail -f /tmp/tf_stage_1_apply.out\n",
    "```"
   ]
  },
  {
   "cell_type": "markdown",
   "id": "19e550c5-4c80-4e2c-ae65-d58842b8ae84",
   "metadata": {},
   "source": [
    "Show terraform outputs."
   ]
  },
  {
   "cell_type": "code",
   "execution_count": null,
   "id": "fde6bc73-05d5-49bf-8d03-6d39a7c9c51d",
   "metadata": {},
   "outputs": [],
   "source": [
    "terraform -chdir=${TF_DIR} output"
   ]
  },
  {
   "cell_type": "markdown",
   "id": "7ab618ba-a15d-402c-adf2-be9207080966",
   "metadata": {},
   "source": [
    "## Note the outputs"
   ]
  },
  {
   "cell_type": "markdown",
   "id": "e78d718a-e2f9-44ef-93aa-723c31a1f223",
   "metadata": {},
   "source": [
    "Note the following outputs, which you will need in **Stage 2**.\n",
    "\n",
    "* `kms__key_id`\n",
    "* `security_group_id`\n",
    "* `*_subnet_ids`\n",
    "* `vpc_id`\n",
    "\n",
    "Sample Output\n",
    "\n",
    "```shell\n",
    "Apply complete! Resources: 44 added, 0 changed, 0 destroyed.\n",
    "\n",
    "Outputs:\n",
    "\n",
    "bastion_private_ip = \"10.0.1.210\"\n",
    "bastion_public_dns = \"ec2-54-190-138-113.us-west-2.compute.amazonaws.com\"\n",
    "bastion_public_ip = \"54.190.138.113\"\n",
    "bootstrap_bucket_arn = \"arn:aws:s3:::pphan-20211028-tfe-bootstrap-primary-123456789\"\n",
    "bootstrap_bucket_name = \"pphan-20211028-tfe-bootstrap-primary-123456789\"\n",
    "kms_key_arn = \"arn:aws:kms:us-west-2:<aws_acct_id>:key/249cf3dd-4eff-4041-ae22-3c352bdc0676\"\n",
    "kms_key_id = \"249cf3dd-4eff-4041-ae22-3c352bdc0676\"\n",
    "log_bucket_name = \"\"\n",
    "log_group_name = \"vc-hcl-tfe-online\"\n",
    "private_subnet_ids = [\n",
    "  \"subnet-007c20dac236ecad3\",\n",
    "  \"subnet-0c7e5c7d5aaf848c6\",\n",
    "  \"subnet-0b6f4a69f36013b82\",\n",
    "]\n",
    "public_subnet_ids = [\n",
    "  \"subnet-03b8b2c84dfb76e0b\",\n",
    "  \"subnet-02168a862dadcd51c\",\n",
    "  \"subnet-01728482622f84d85\",\n",
    "]\n",
    "s3_replication_iam_role_arn = \"\"\n",
    "secretsmanager_secret_arn = \"arn:aws:secretsmanager:us-west-2:<aws_acct_id>:secret:pphan-20211028-tfe-install-secrets-HoNvCs\"\n",
    "ssh_key_pair = \"pphan-20211028-bastion-key-pair-us-west-2\"\n",
    "tfe_ssh_keypair_fingerprint = \"\"\n",
    "tfe_ssh_keypair_id = \"\"\n",
    "tfe_ssh_keypair_name = \"\"\n",
    "vpc_id = \"vpc-03be0c1b68d9377b1\"\n",
    "```"
   ]
  },
  {
   "cell_type": "markdown",
   "id": "6a933bc9-bfd1-47d0-8248-ac7d4221b9e3",
   "metadata": {},
   "source": [
    "## Copy license file to S3 Bootstrap bucket"
   ]
  },
  {
   "cell_type": "markdown",
   "id": "1e3fd69d-5a27-4070-8eda-88f6e38c5aaa",
   "metadata": {},
   "source": [
    "Add your TFE license file to your TFE source bucket that was created.\n",
    "\n",
    "The easy method is to use the AWS S3 console.\n",
    "* Go to your bucket and upload the file.\n",
    "\n",
    "Alternatively, you can do it from the CLI.\n",
    "1. Place your TFE license file in `${TF_DIR}` folder.\n",
    "1. Copy it to your S3 bootstrap bucket."
   ]
  },
  {
   "cell_type": "code",
   "execution_count": null,
   "id": "4c3e6c9a-8531-4669-aee1-b05be39aa0c2",
   "metadata": {},
   "outputs": [],
   "source": [
    "export BOOTSTRAP_BUCKET_NAME_PRIMARY=$(terraform -chdir=${TF_DIR} output -raw bootstrap_bucket_name_primary) && echo $BOOTSTRAP_BUCKET_NAME_PRIMARY"
   ]
  },
  {
   "cell_type": "code",
   "execution_count": null,
   "id": "6e97300d-146c-473e-9aa8-e3ab2e8e11e5",
   "metadata": {},
   "outputs": [],
   "source": [
    "aws s3 cp ${TF_DIR}/tfe-license.rli s3://${BOOTSTRAP_BUCKET_NAME_PRIMARY}/"
   ]
  },
  {
   "cell_type": "markdown",
   "id": "6ef6db30-ef3b-4d0e-b12f-792ebd62837f",
   "metadata": {},
   "source": [
    "3. Confirm file was uploaded to AWS S3."
   ]
  },
  {
   "cell_type": "code",
   "execution_count": null,
   "id": "6c047464-dab7-4cc6-ba38-f75421258621",
   "metadata": {},
   "outputs": [],
   "source": [
    "aws s3 ls s3://${BOOTSTRAP_BUCKET_NAME_PRIMARY}"
   ]
  },
  {
   "cell_type": "markdown",
   "id": "fa182b41-865b-41d8-8f4f-d756d0cfbbbd",
   "metadata": {},
   "source": [
    "* Name the various objects in your TFE source bucket to match the values given in the `tfvars` file.\n",
    "    * Take into account the version of your airgap bundle.\n",
    "* Avoid the use of spaces in the names of the TFE license and installation files.\n",
    "* If doing an airgapped installation, add your airgap bundle and `replicated.tar.gz` to the PTFE source bucket too.\n",
    "\n",
    "```shell\n",
    "aws s3 cp replicated.tar.gz s3://pphan-tfe-source-bucket\n",
    "```"
   ]
  },
  {
   "cell_type": "markdown",
   "id": "a8b3772d-ff3e-477b-8b87-3c89d3220163",
   "metadata": {},
   "source": [
    "## Clean Up"
   ]
  },
  {
   "cell_type": "markdown",
   "id": "357c79d2-7b42-4f59-b6b0-64b66f318c9f",
   "metadata": {},
   "source": [
    "### Delete S3"
   ]
  },
  {
   "cell_type": "markdown",
   "id": "a48bcd56-9547-4abd-8358-9de521f9c7ff",
   "metadata": {},
   "source": [
    "Delete license file from S3 bucket."
   ]
  },
  {
   "cell_type": "code",
   "execution_count": null,
   "id": "965b91ad-f5a5-45d3-8a7f-70c0f3e226f9",
   "metadata": {},
   "outputs": [],
   "source": [
    "aws s3 rm s3://${BOOTSTRAP_BUCKET_NAME_PRIMARY}/tfe-license.rli"
   ]
  },
  {
   "cell_type": "code",
   "execution_count": null,
   "id": "911e1ffa-c835-4773-83a6-095aa88e22ff",
   "metadata": {},
   "outputs": [],
   "source": [
    "aws s3 ls s3://${BOOTSTRAP_BUCKET_NAME_PRIMARY}"
   ]
  },
  {
   "cell_type": "markdown",
   "id": "63a07083-a845-48a1-81a7-27426e4654c9",
   "metadata": {},
   "source": [
    "Get version id of license file."
   ]
  },
  {
   "cell_type": "code",
   "execution_count": null,
   "id": "f53c9940-3af5-4197-a7a6-1259290af777",
   "metadata": {},
   "outputs": [],
   "source": [
    "LICENSE_VERSION_ID=$(aws s3api list-object-versions --bucket ${BOOTSTRAP_BUCKET_NAME_PRIMARY} --prefix tfe-license.rli | jq -r .Versions[].VersionId) && echo ${LICENSE_VERSION_ID}"
   ]
  },
  {
   "cell_type": "markdown",
   "id": "d0d92da3-c624-416e-8abe-73cf9bd84f20",
   "metadata": {},
   "source": [
    "Permanently delete license file."
   ]
  },
  {
   "cell_type": "code",
   "execution_count": null,
   "id": "51749911-b80d-403e-abdf-c139b2a8cc36",
   "metadata": {},
   "outputs": [],
   "source": [
    "aws s3api delete-object --bucket ${BOOTSTRAP_BUCKET_NAME_PRIMARY} --key tfe-license.rli --version-id ${LICENSE_VERSION_ID}"
   ]
  },
  {
   "cell_type": "markdown",
   "id": "7a06f011-f222-4c0c-84b8-f884acbd9bdb",
   "metadata": {},
   "source": [
    "### Destroy - Stage 1 Resources\n",
    "\n",
    "If no longer needed, you can destroy your provisioned resources. This takes 3 minutes."
   ]
  },
  {
   "cell_type": "code",
   "execution_count": null,
   "id": "66516394-1fbc-4814-9a82-b6e93087d51f",
   "metadata": {},
   "outputs": [],
   "source": [
    "terraform -chdir=${TF_DIR} destroy -input=false -auto-approve \\\n",
    "  > /tmp/tf_stage_1_destroy.out 2>&1"
   ]
  },
  {
   "cell_type": "markdown",
   "id": "b1206322-e680-485b-b9cb-5439951b5e5c",
   "metadata": {},
   "source": [
    "### Delete AWS Secret Immediately"
   ]
  },
  {
   "cell_type": "markdown",
   "id": "3c4269d0-462f-4462-a46b-1f3d45b76035",
   "metadata": {},
   "source": [
    "When secrets are marked for deletion, there will be a default recovery window of 14 days. To immediately delete the secret, perform these steps.\n",
    "\n",
    "* Go to AWS Secrets Manager to see your secrets. \n",
    "* On the Secrets page, choose Preferences (Gear icon).\n",
    "* In the Preferences dialog box, select **Show disabled secrets**, and then choose **Save**."
   ]
  },
  {
   "cell_type": "code",
   "execution_count": null,
   "id": "5077c8d6-d259-4537-8192-88a196ed3e60",
   "metadata": {},
   "outputs": [],
   "source": [
    "open https://${AWS_REGION}.console.aws.amazon.com/secretsmanager/home?region=${AWS_REGION}\\#\\!/listSecrets"
   ]
  },
  {
   "cell_type": "markdown",
   "id": "6c33552e-99d8-4b70-b376-5c40fe80aeb8",
   "metadata": {},
   "source": [
    "Force immediate deletion, so that you can reuse the same name."
   ]
  },
  {
   "cell_type": "code",
   "execution_count": null,
   "id": "d233b953-2d04-4f5f-bb00-31809eb62d9f",
   "metadata": {},
   "outputs": [],
   "source": [
    "aws secretsmanager delete-secret --secret-id ${friendly_name_prefix}-tfe-install-secrets --force-delete-without-recovery"
   ]
  },
  {
   "cell_type": "code",
   "execution_count": null,
   "id": "c4d78831-3a9a-4112-b656-fc9795fcc635",
   "metadata": {
    "tags": []
   },
   "outputs": [],
   "source": [
    "aws secretsmanager list-secrets"
   ]
  },
  {
   "cell_type": "markdown",
   "id": "49bc8cc5-3716-4021-96e7-298656a69de4",
   "metadata": {},
   "source": [
    "Note the `DeletionDate` shows the current date and time instead of a future date."
   ]
  },
  {
   "cell_type": "markdown",
   "id": "45f79d47-0bd6-4a9a-b274-273f1db3296f",
   "metadata": {},
   "source": [
    "### Delete file artifacts"
   ]
  },
  {
   "cell_type": "code",
   "execution_count": null,
   "id": "a51540ea-ec5b-4282-9dc0-4506c7c1bb69",
   "metadata": {},
   "outputs": [],
   "source": [
    "ls -l $MAIN_DIR/config/terraform/terraform-aws-tfe-prereqs"
   ]
  },
  {
   "cell_type": "code",
   "execution_count": null,
   "id": "f286057e-a903-40eb-a5eb-8d6ab108f1a1",
   "metadata": {},
   "outputs": [],
   "source": [
    "cd $MAIN_DIR && rm -rf config/terraform/terraform-aws-tfe-prereqs"
   ]
  },
  {
   "cell_type": "markdown",
   "id": "d77bc44a-16fc-444a-a87e-081df58d5181",
   "metadata": {},
   "source": [
    "## Experimental"
   ]
  },
  {
   "cell_type": "markdown",
   "id": "7f9b661c-2e3c-4085-80ef-3cea0260d67f",
   "metadata": {},
   "source": [
    "### Create configuration"
   ]
  },
  {
   "cell_type": "markdown",
   "id": "fe669fca-4789-4d90-8c27-eee887757410",
   "metadata": {},
   "source": [
    "Don't use this for now."
   ]
  },
  {
   "cell_type": "code",
   "execution_count": null,
   "id": "5e44b6d6-8b98-43ff-a770-e620d08d314f",
   "metadata": {},
   "outputs": [],
   "source": [
    "cat > config/terraform/tfe_stage_1/main.tf <<EOF\n",
    "#// Versions\n",
    "terraform {\n",
    "  required_version = \"~> 0.14.7\"\n",
    "  required_providers {\n",
    "    aws = {\n",
    "      source  = \"hashicorp/aws\"\n",
    "      version = \"~> 3.63.0\"\n",
    "    }\n",
    "    template = {\n",
    "      source  = \"hashicorp/template\"\n",
    "      version = \"~> 2.2.0\"\n",
    "    }\n",
    "  }\n",
    "}\n",
    "\n",
    "#// Provider\n",
    "provider \"aws\" {\n",
    "  region = \"${region}\"\n",
    "}\n",
    "EOF"
   ]
  },
  {
   "cell_type": "code",
   "execution_count": null,
   "id": "3f9701ad-a4d4-4874-b62a-0c952b30dc96",
   "metadata": {
    "tags": []
   },
   "outputs": [],
   "source": [
    "tee config/terraform/tfe_stage_1/main.tf <<EOF\n",
    "#// Primary Region\n",
    "module \"tfe-prereqs-primary\" {\n",
    "  source = \"github.com/hashicorp/is-terraform-aws-tfe-prereqs\"\n",
    "\n",
    "  # --- Common --- #\n",
    "  friendly_name_prefix = \"${friendly_name_prefix}\"\n",
    "  common_tags = {\n",
    "    \"Environment\" = \"tfe-prereqs-primary\"\n",
    "    \"Tool\"        = \"Terraform\"\n",
    "    \"Owner\"       = \"Clegane\"\n",
    "  }\n",
    "\n",
    "  # --- Network --- #\n",
    "  deploy_vpc           = true\n",
    "  vpc_cidr             = \"${cidr_block}\"\n",
    "  public_subnet_cidrs  = [\"10.0.1.0/24\", \"10.0.2.0/24\", \"10.0.3.0/24\"]\n",
    "  private_subnet_cidrs = [\"10.0.255.0/24\", \"10.0.254.0/24\", \"10.0.253.0/24\"]\n",
    "\n",
    "  # --- Bastion --- #\n",
    "  deploy_bastion             = true\n",
    "  bastion_keypair            = aws_key_pair.tfe.key_name #\"${friendly_name_prefix}-bastion-key-pair-us-east-1\"\n",
    "  bastion_ingress_cidr_allow = [\"${bastion_ip}/32\"]\n",
    "\n",
    "  # --- S3 --- #\n",
    "  deploy_bootstrap_bucket   = true\n",
    "  bootstrap_bucket_name     = \"${friendly_name_prefix}-tfe-bootstrap-primary-123456789\"\n",
    "\n",
    "  # --- KMS --- #\n",
    "  deploy_kms = true\n",
    "\n",
    "  # --- Secrets Manager --- #\n",
    "  deploy_secretsmanager      = true\n",
    "  secretsmanager_secret_name = \"${friendly_name_prefix}-tfe-install-secrets\"\n",
    "  secretsmanager_secrets = {\n",
    "    console_password            = \"ProtectThisSecretBetter123!\"\n",
    "    enc_password                = \"DefinitelyProtectThisOne456$\"\n",
    "    tfe_initial_admin_password  = \"AdvancedTfeBootstrapFunctionality789@\"\n",
    "  }\n",
    "}\n",
    "\n",
    "output \"vpc\" {\n",
    "  value = module.tfe-prereqs-primary.vpc_id\n",
    "}\n",
    "\n",
    "output \"public_subnet_ids\" {\n",
    "  value = module.tfe-prereqs-primary.public_subnet_ids\n",
    "}\n",
    "\n",
    "output \"private_subnet_ids\" {\n",
    "  value = module.tfe-prereqs-primary.private_subnet_ids\n",
    "}\n",
    "\n",
    "output \"bootstrap_bucket_name_primary\" {\n",
    "  value = module.tfe-prereqs-primary.bootstrap_bucket_name\n",
    "}\n",
    "\n",
    "output \"bastion_public_ip\" {\n",
    "  value = module.tfe-prereqs-primary.bastion_public_ip\n",
    "}\n",
    "\n",
    "output \"kms_key_arn\" {\n",
    "  value = module.tfe-prereqs-primary.kms_key_arn\n",
    "}\n",
    "\n",
    "output \"secretsmanager_secret_metadata_arn\" {\n",
    "  value = module.tfe-prereqs-primary.secretsmanager_secret_arn\n",
    "}\n",
    "EOF"
   ]
  }
 ],
 "metadata": {
  "kernelspec": {
   "display_name": "Bash",
   "language": "bash",
   "name": "bash"
  },
  "language_info": {
   "codemirror_mode": "shell",
   "file_extension": ".sh",
   "mimetype": "text/x-sh",
   "name": "bash"
  }
 },
 "nbformat": 4,
 "nbformat_minor": 5
}
