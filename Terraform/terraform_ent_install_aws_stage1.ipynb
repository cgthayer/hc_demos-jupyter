{
 "cells": [
  {
   "cell_type": "markdown",
   "id": "6ae4d947-9c66-485b-ade9-1de34c17f8fb",
   "metadata": {
    "tags": []
   },
   "source": [
    "# Terraform Enterprise Install - Stage 1"
   ]
  },
  {
   "cell_type": "markdown",
   "id": "4985fb27-a791-4d81-a7bb-ead4357e0a74",
   "metadata": {},
   "source": [
    "## Prerequisites"
   ]
  },
  {
   "cell_type": "markdown",
   "id": "9072735a-7f3e-4fb6-bb9f-9394807e755d",
   "metadata": {
    "tags": []
   },
   "source": [
    "### Set Main Environment Variables"
   ]
  },
  {
   "cell_type": "code",
   "execution_count": null,
   "id": "1583436e-42b5-455d-a24b-3e93a321351f",
   "metadata": {},
   "outputs": [],
   "source": [
    "export RED=\"\\e[0;31m\" YELLOW=\"\\e[0;33m\" BLDYELLOW=\"\\e[1;33m\" GREEN=\"\\e[0;32m\"\n",
    "export CYAN=\"\\e[0;36m\" BLUE=\"\\e[0;34m\" WHITE=\"\\e[0;37m\" BLDWHITE=\"\\e[1;37m\"\n",
    "export NC=\"\\e[0m\"\n",
    "# Some commands may have sensitive information. Prevent commands starting with a space to be saved to shell history.\n",
    "HISTCONTROL=ignoreboth # do not save lines that begin with space in history\n",
    "\n",
    "printf \"${GREEN}# Set MAIN_DIR for future reference.${NC}\\n\"\n",
    "export MAIN_DIR=${PWD}"
   ]
  },
  {
   "cell_type": "code",
   "execution_count": null,
   "id": "11383ea2-d8f1-4f0e-a732-e3a06140bd79",
   "metadata": {},
   "outputs": [],
   "source": [
    "# TF_DIR=config/terraform/tfe_stage_1\n",
    "TF_DIR=config/terraform/terraform-aws-tfe-prereqs/tests/single-region"
   ]
  },
  {
   "cell_type": "code",
   "execution_count": null,
   "id": "d0467533-9765-45bb-a0c8-b56e54049ebc",
   "metadata": {},
   "outputs": [],
   "source": [
    "pwd"
   ]
  },
  {
   "cell_type": "code",
   "execution_count": null,
   "id": "0f2a0837-f606-46fc-86f1-e996eb49b0e9",
   "metadata": {},
   "outputs": [],
   "source": [
    "export AWS_REGION=us-west-2 && AWS_DEFAULT_REGION=$AWS_REGION"
   ]
  },
  {
   "cell_type": "code",
   "execution_count": null,
   "id": "943abfa0-7553-46fc-bf8c-5dfc86538c54",
   "metadata": {},
   "outputs": [],
   "source": [
    "DATE=$(date +%Y%m%d) && echo $DATE"
   ]
  },
  {
   "cell_type": "code",
   "execution_count": null,
   "id": "20725715-fcdc-46fe-9344-3d0038abfb29",
   "metadata": {},
   "outputs": [],
   "source": [
    "## Configuration\n",
    "friendly_name_prefix=pphan-${DATE}\n",
    "region=us-west-2\n",
    "cidr_block=\"10.0.0.0/16\"\n",
    "bastion_ip=$(curl -s http://ipv4.icanhazip.com)"
   ]
  },
  {
   "cell_type": "code",
   "execution_count": null,
   "id": "958ba725-188a-4d27-8ea3-3272da56e5e3",
   "metadata": {},
   "outputs": [],
   "source": [
    "export RED=\"\\e[0;31m\" YELLOW=\"\\e[0;33m\" BLDYELLOW=\"\\e[1;33m\" GREEN=\"\\e[0;32m\"\n",
    "export CYAN=\"\\e[0;36m\" BLUE=\"\\e[0;34m\" WHITE=\"\\e[0;37m\" BLDWHITE=\"\\e[1;37m\"\n",
    "export NC=\"\\e[0m\"\n",
    "# Prevent commands starting with a space to be saved to shell history.\n",
    "HISTCONTROL=ignoreboth # do not save lines that begin with space in history\n",
    "\n",
    "printf \"${GREEN}# Set MAIN_DIR for future reference.${NC}\\n\"\n",
    "export MAIN_DIR=${PWD}"
   ]
  },
  {
   "cell_type": "markdown",
   "id": "00bd80f4-d3a8-4e7c-8ed7-fb3a723005f9",
   "metadata": {},
   "source": [
    "Be sure to replace `PREFIX`, `TF_ORG`, and `TF_WS_NAME` with your own values."
   ]
  },
  {
   "cell_type": "code",
   "execution_count": null,
   "id": "4573d5ea-9bd8-4650-8627-1ab6e82e838e",
   "metadata": {},
   "outputs": [],
   "source": [
    "export PREFIX=pphan\n",
    "export TF_ORG=pphan\n",
    "export TFC_ORG=$TF_ORG\n",
    "export TF_WS_NAME=consumer\n",
    "export TOKEN=$(jq -r '.credentials.\"app.terraform.io\".token' ~/.terraform.d/credentials.tfrc.json); export TFE_TOKEN=$TOKEN\n",
    "\n",
    "export TF_GIT_DIR=\"config/tfc-agent\"\n",
    "export TFE_PROVIDER_DIR=\"tfe-provider\"\n",
    "printf \"${GREEN}# Set Terraform Variables.${NC}\\n\"\n",
    "printf \"\\n$MAIN_DIR \\n $TF_GIT_DIR \\n TFE_PROVIDER_DIR: $TFE_PROVIDER_DIR\n",
    " TOKEN: $TOKEN \\n TF_ORG: $TFC_ORG\n",
    " TF_WS_NAME: $TF_WS_NAME\""
   ]
  },
  {
   "cell_type": "markdown",
   "id": "af9e9d1d-1093-4990-b963-c8de9ebdf8e1",
   "metadata": {
    "tags": []
   },
   "source": [
    "### AWS Credentials"
   ]
  },
  {
   "cell_type": "markdown",
   "id": "36ba5ede-8663-4a3c-93b1-706d28fc96e8",
   "metadata": {},
   "source": [
    "Unset any previous AWS credentials in environment variables."
   ]
  },
  {
   "cell_type": "code",
   "execution_count": null,
   "id": "d93388c1-dd6e-4188-b353-b52e8731887e",
   "metadata": {},
   "outputs": [],
   "source": [
    "unset AWS_SESSION_TOKEN AWS_SECRET_ACCESS_KEY AWS_ACCESS_KEY_ID"
   ]
  },
  {
   "cell_type": "markdown",
   "id": "1f41145f-59d1-4e7f-a3b1-043909a1e959",
   "metadata": {},
   "source": [
    "Set the AWS credentials"
   ]
  },
  {
   "cell_type": "code",
   "execution_count": null,
   "id": "f87c24bf-ade4-444b-a901-e5f936e44edf",
   "metadata": {},
   "outputs": [],
   "source": [
    "export AWS_ACCESS_KEY_ID=REPLACE_ME\n",
    "export AWS_SECRET_ACCESS_KEY=REPLACE_ME"
   ]
  },
  {
   "cell_type": "markdown",
   "id": "f29ea88f-9302-48ff-b34e-beb4e88eee7a",
   "metadata": {},
   "source": [
    "For Hashi only"
   ]
  },
  {
   "cell_type": "code",
   "execution_count": null,
   "id": "2fff6502-633a-40a3-8d20-d95f1593b76a",
   "metadata": {},
   "outputs": [],
   "source": [
    "awscredsenv"
   ]
  },
  {
   "cell_type": "markdown",
   "id": "7cbd1bd7-5c0a-485a-9791-d185908254e8",
   "metadata": {},
   "source": [
    "Confirm the credentials are in place."
   ]
  },
  {
   "cell_type": "code",
   "execution_count": null,
   "id": "cd791e21-14b8-4416-b6c8-e27936456a0f",
   "metadata": {
    "tags": []
   },
   "outputs": [],
   "source": [
    "envo | grep AWS || env | grep AWS"
   ]
  },
  {
   "cell_type": "markdown",
   "id": "e8168e9c-cad3-4a4a-8d3f-c201459581a0",
   "metadata": {
    "tags": []
   },
   "source": [
    "## Single Region\n",
    "In this example, we will provision resources in a single primary region."
   ]
  },
  {
   "cell_type": "markdown",
   "id": "b504f6c6-18e0-4946-ad0d-3b8a5770f20e",
   "metadata": {
    "jp-MarkdownHeadingCollapsed": true,
    "tags": []
   },
   "source": [
    "### Resources Provisioned"
   ]
  },
  {
   "cell_type": "markdown",
   "id": "0b7ce8e1-1893-44d3-8e41-205a1a9aff1f",
   "metadata": {},
   "source": [
    "| Resource |\n",
    "| --- |\n",
    "| VPC\n",
    "| Public Subnets\n",
    "| Private Subnets\n",
    "| Internet Gateway\n",
    "| NAT Gateways (for each Public Subnet)\n",
    "| Route Tables and Routes\n",
    "| S3 VPC Endpoint\n",
    "| Bastion host\n",
    "| S3 \"bootstrap\" bucket (Primary)\n",
    "| KMS Key\n",
    "| AWS Secrets Manager secret\n",
    "| AWS CloudWatch Log Group"
   ]
  },
  {
   "cell_type": "markdown",
   "id": "88feb6c4-031e-408f-8ef5-dfb072cd29bf",
   "metadata": {},
   "source": [
    "### Resources Omitted\n",
    "\n",
    "| Resource |\n",
    "| --- |\n",
    "| S3 \"bootstrap\" bucket **replica** in Secondary (Disaster Recovery) region\n",
    "| S3 Cross-Region Replication (CRR) configuration between 'Primary' and 'Replica' buckets\n",
    "| S3 \"logging\" bucket\n",
    "| AWS ssh key pair - NEED TO CONFIRM"
   ]
  },
  {
   "cell_type": "markdown",
   "id": "0955095d-9812-4a43-939a-970228dc9d17",
   "metadata": {},
   "source": [
    "## Clone the Repo - Hashi Folks"
   ]
  },
  {
   "cell_type": "markdown",
   "id": "fe0cd8dc-5ffa-41fd-874d-67eb106d20e5",
   "metadata": {},
   "source": [
    "Create a directory such as `config/terraform/terraform-aws-tfe` into which you want to clone this repository."
   ]
  },
  {
   "cell_type": "code",
   "execution_count": null,
   "id": "6b175a23-2016-44ed-846d-f95a513bfd9f",
   "metadata": {},
   "outputs": [],
   "source": [
    "mkdir -p config/terraform/terraform-aws-tfe-prereqs"
   ]
  },
  {
   "cell_type": "markdown",
   "id": "428ace52-330a-4184-b7d6-d9603757867c",
   "metadata": {},
   "source": [
    "Clone the repo."
   ]
  },
  {
   "cell_type": "code",
   "execution_count": null,
   "id": "d37c2fdc-908c-443b-b8b6-fd915738cff5",
   "metadata": {},
   "outputs": [],
   "source": [
    "git clone https://github.com/hashicorp-services/terraform-aws-tfe-prereqs config/terraform/terraform-aws-tfe-prereqs"
   ]
  },
  {
   "cell_type": "markdown",
   "id": "6f2a5ad6-e08a-4809-bb4a-b3c328a06b78",
   "metadata": {
    "tags": []
   },
   "source": [
    "### unzip Repo - For Non-Hashi Folks\n",
    "\n",
    "A zip file of the Terraform module `terraform-aws-tfe.zip` is in this repo. You can check with your account team in case there is an updated version.\n",
    "\n",
    "Extract the archive."
   ]
  },
  {
   "cell_type": "code",
   "execution_count": null,
   "id": "d44612c4-4fdb-47ad-9b8f-5a65896c04f5",
   "metadata": {
    "tags": []
   },
   "outputs": [],
   "source": [
    "mkdir -p config/terraform && \\\n",
    "  unzip -qq terraform-aws-tfe-prereqs.zip -d config/terraform/ && \\\n",
    "  ls config/terraform/terraform-aws-tfe-prereqs"
   ]
  },
  {
   "cell_type": "markdown",
   "id": "61372e30-75db-4574-b3b7-c16975cbaa19",
   "metadata": {},
   "source": [
    "## Set Terraform Variables"
   ]
  },
  {
   "cell_type": "markdown",
   "id": "3d984079-665d-478b-bb34-b14be8cf65a7",
   "metadata": {},
   "source": [
    "1. Go to one of the network directories that contains the **Stage 1** Terraform code.\n",
    "\t* Run `cd examples/aws/network-public` or `cd examples/aws/network-private` \n",
    "3. Edit **network.auto.tfvars**.\n",
    "\t* Set `namespace` to \"`<name>-ptfe`\" where \"`<name>`\" is some suitable prefix for your TFE deployment\n",
    "\t\t* ` namespace = \"pphan-tfe\" `\n",
    "\t* Set `aws_region` to `aws_region = \"us-west-2\"`\n",
    "\t* Set `bucket_name` to the name of the TFE source bucket you wish to create.\n",
    "\t\t* ` bucket_name = \"pphan-tfe-source-bucket\" `\n",
    "\t* Set `cidr_block` to a valid CIDR block: `cidr_block = \"10.110.0.0/16\"`\n",
    "\t* Set `subnet_count` to the number of subnets you want in your VPC: `subnet_count = \"2\"`\n",
    "\t* **NOTE**\n",
    "\t\t* When creating a **public** network, all of the subnets will be public.\n",
    "\t\t* When creating a **private** network, that number of private subnets will be created along with one public subnet to allow outbound internet access.\n",
    "\t\t* If creating a private network, also set `ssh_key_name` in `<linux>.auto.tfvars` file to the name of your SSH key pair so it can be used with the `bastion host` created in the private network.\n",
    "\t* Save the file.\n",
    "\n",
    "```\n",
    "namespace = “pphan-tfe”\n",
    "aws_region = “us-west-2”\n",
    "bucket_name = “pphan-tfe-source-bucket”\n",
    "cidr_block = “10.110.0.0/16”\n",
    "subnet_count = “2”\n",
    "```"
   ]
  },
  {
   "cell_type": "markdown",
   "id": "94624f43-a253-4517-b4db-4f68bee0d325",
   "metadata": {},
   "source": [
    "2. Create an `auto.tfvars` file."
   ]
  },
  {
   "cell_type": "code",
   "execution_count": null,
   "id": "bb480147-37f5-41ba-9ad9-ecbb63b8b64d",
   "metadata": {
    "tags": []
   },
   "outputs": [],
   "source": [
    "tee $TF_DIR/terraform.auto.tfvars <<EOF\n",
    "#// Primary Region\n",
    "# --- Common --- #\n",
    "friendly_name_prefix = \"${friendly_name_prefix}\"\n",
    "common_tags = {\n",
    "  \"Environment\" = \"tfe-prereqs-primary\"\n",
    "  \"Tool\"        = \"Terraform\"\n",
    "  \"Owner\"       = \"YourName\"\n",
    "}\n",
    "\n",
    "# --- Network --- #\n",
    "deploy_vpc           = true\n",
    "vpc_cidr             = \"${cidr_block}\"\n",
    "public_subnet_cidrs  = [\"10.0.1.0/24\", \"10.0.2.0/24\", \"10.0.3.0/24\"]\n",
    "private_subnet_cidrs = [\"10.0.255.0/24\", \"10.0.254.0/24\", \"10.0.253.0/24\"]\n",
    "\n",
    "# --- Bastion --- #\n",
    "deploy_bastion             = true\n",
    "bastion_keypair            = \"${friendly_name_prefix}-bastion-key-pair-${AWS_REGION}\"\n",
    "bastion_ingress_cidr_allow = [\"${bastion_ip}/32\"]\n",
    "\n",
    "# --- S3 --- #\n",
    "deploy_bootstrap_bucket   = true\n",
    "bootstrap_bucket_name     = \"${friendly_name_prefix}-tfe-bootstrap-primary-123456789\"\n",
    "\n",
    "# --- KMS --- #\n",
    "deploy_kms = true\n",
    "\n",
    "# --- Secrets Manager --- #\n",
    "deploy_secretsmanager      = true\n",
    "secretsmanager_secret_name = \"${friendly_name_prefix}-tfe-install-secrets\"\n",
    "secretsmanager_secrets = {\n",
    "  console_password            = \"ProtectThisSecretBetter123!\"\n",
    "  enc_password                = \"DefinitelyProtectThisOne456$\"\n",
    "  # tfe_initial_admin_password  = \"AdvancedTfeBootstrapFunctionality789@\"\n",
    "}\n",
    "\n",
    "# --- CloudWatch Logs --- #\n",
    "deploy_log_group         = true\n",
    "log_group_name           = \"vc-hcl-tfe-online\"\n",
    "log_group_retention_days = 30\n",
    "EOF"
   ]
  },
  {
   "cell_type": "markdown",
   "id": "f3e698f2-43aa-4748-a97f-0e2c9d86a635",
   "metadata": {},
   "source": [
    "## Set Variables auto.tfvars"
   ]
  },
  {
   "cell_type": "markdown",
   "id": "ee8cb7ec-ff33-441e-bb1a-6a79f8c1a5f8",
   "metadata": {},
   "source": [
    "## Terraform Init"
   ]
  },
  {
   "cell_type": "markdown",
   "id": "6bfd764a-e84d-40a5-b05c-9aa2bd116b45",
   "metadata": {},
   "source": [
    "Initialize **Stage 1** Terraform configuration and download providers."
   ]
  },
  {
   "cell_type": "code",
   "execution_count": null,
   "id": "9b4cf419-d427-48c1-8044-217b019407e7",
   "metadata": {
    "tags": []
   },
   "outputs": [],
   "source": [
    "terraform -chdir=${TF_DIR} init"
   ]
  },
  {
   "cell_type": "markdown",
   "id": "53a28649-f147-444a-8e82-67c77091a5b9",
   "metadata": {},
   "source": [
    "## Terraform Plan\n",
    "\n",
    "* We will format (`fmt`) the configuration and `validate` it.\n",
    "* If validation passes, then we will do a `terraform plan` for a dry run."
   ]
  },
  {
   "cell_type": "code",
   "execution_count": null,
   "id": "e74cc19e-20b4-4158-a46a-efa738711392",
   "metadata": {
    "tags": []
   },
   "outputs": [],
   "source": [
    "echo \"#--> Reformat your configuration in the standard style\" && \\\n",
    "terraform -chdir=${TF_DIR} fmt && \\\n",
    "echo \"#--> Check whether the configuration is valid.\" && \\\n",
    "terraform -chdir=${TF_DIR} validate && \\\n",
    "echo \"#--> Show changes required by the current configuration.\" && \\\n",
    "terraform -chdir=${TF_DIR} plan -input=false"
   ]
  },
  {
   "cell_type": "markdown",
   "id": "3484220b-e96f-4b4c-8d99-e4179024a63d",
   "metadata": {},
   "source": [
    "## Terraform Apply - Provision the resources\n",
    "\n",
    "* The apply takes a few minutes."
   ]
  },
  {
   "cell_type": "code",
   "execution_count": null,
   "id": "3eb88e29-b269-4455-8c29-ad8f590b3d2e",
   "metadata": {
    "tags": []
   },
   "outputs": [],
   "source": [
    "time terraform -chdir=${TF_DIR} apply -input=false -auto-approve \\\n",
    "  > /tmp/tf_stage_1_apply.out 2>&1"
   ]
  },
  {
   "cell_type": "code",
   "execution_count": null,
   "id": "fde6bc73-05d5-49bf-8d03-6d39a7c9c51d",
   "metadata": {},
   "outputs": [],
   "source": [
    "terraform -chdir=${TF_DIR} output"
   ]
  },
  {
   "cell_type": "markdown",
   "id": "7ab618ba-a15d-402c-adf2-be9207080966",
   "metadata": {},
   "source": [
    "## Note the outputs"
   ]
  },
  {
   "cell_type": "markdown",
   "id": "e78d718a-e2f9-44ef-93aa-723c31a1f223",
   "metadata": {},
   "source": [
    "Note the following outputs, which you will need in **Stage 2**.\n",
    "\n",
    "* `kms_id`\n",
    "* `security_group_id`\n",
    "* `subnet_ids`\n",
    "* `vpc_id`\n",
    "* NOTE: When creating a **private network**, you will have **`private_subnet_ids`** and **`public_subnet_id`** outputs instead of the **`subnet_ids`** output.\n",
    "\n",
    "Sample Output\n",
    "\n",
    "```shell\n",
    "Apply complete! Resources: 44 added, 0 changed, 0 destroyed.\n",
    "\n",
    "Outputs:\n",
    "\n",
    "bastion_private_ip = \"10.0.1.210\"\n",
    "bastion_public_dns = \"ec2-54-190-138-113.us-west-2.compute.amazonaws.com\"\n",
    "bastion_public_ip = \"54.190.138.113\"\n",
    "bootstrap_bucket_arn = \"arn:aws:s3:::pphan-20211028-tfe-bootstrap-primary-123456789\"\n",
    "bootstrap_bucket_name = \"pphan-20211028-tfe-bootstrap-primary-123456789\"\n",
    "kms_key_arn = \"arn:aws:kms:us-west-2:<aws_acct_id>:key/249cf3dd-4eff-4041-ae22-3c352bdc0676\"\n",
    "kms_key_id = \"249cf3dd-4eff-4041-ae22-3c352bdc0676\"\n",
    "log_bucket_name = \"\"\n",
    "log_group_name = \"vc-hcl-tfe-online\"\n",
    "private_subnet_ids = [\n",
    "  \"subnet-007c20dac236ecad3\",\n",
    "  \"subnet-0c7e5c7d5aaf848c6\",\n",
    "  \"subnet-0b6f4a69f36013b82\",\n",
    "]\n",
    "public_subnet_ids = [\n",
    "  \"subnet-03b8b2c84dfb76e0b\",\n",
    "  \"subnet-02168a862dadcd51c\",\n",
    "  \"subnet-01728482622f84d85\",\n",
    "]\n",
    "s3_replication_iam_role_arn = \"\"\n",
    "secretsmanager_secret_arn = \"arn:aws:secretsmanager:us-west-2:<aws_acct_id>:secret:pphan-20211028-tfe-install-secrets-HoNvCs\"\n",
    "ssh_key_pair = \"pphan-20211028-bastion-key-pair-us-west-2\"\n",
    "tfe_ssh_keypair_fingerprint = \"\"\n",
    "tfe_ssh_keypair_id = \"\"\n",
    "tfe_ssh_keypair_name = \"\"\n",
    "vpc_id = \"vpc-03be0c1b68d9377b1\"\n",
    "```"
   ]
  },
  {
   "cell_type": "markdown",
   "id": "6a933bc9-bfd1-47d0-8248-ac7d4221b9e3",
   "metadata": {},
   "source": [
    "## Copy license file to S3 Bootstrap bucket"
   ]
  },
  {
   "cell_type": "markdown",
   "id": "1e3fd69d-5a27-4070-8eda-88f6e38c5aaa",
   "metadata": {},
   "source": [
    "Add your TFE license file to your TFE source bucket that was created.\n",
    "\n",
    "* You can do this in the AWS Console.\n",
    "\n",
    "Place your TFE license file in `${TF_DIR}` folder.\n",
    "\n",
    "Copy it to your S3 bootstrap bucket."
   ]
  },
  {
   "cell_type": "code",
   "execution_count": null,
   "id": "fd4f0708-88d4-4603-b136-3803e119e880",
   "metadata": {},
   "outputs": [],
   "source": [
    "terraform -chdir=${TF_DIR} output"
   ]
  },
  {
   "cell_type": "code",
   "execution_count": null,
   "id": "4c3e6c9a-8531-4669-aee1-b05be39aa0c2",
   "metadata": {},
   "outputs": [],
   "source": [
    "export BOOTSTRAP_BUCKET_NAME_PRIMARY=$(terraform -chdir=${TF_DIR} output -raw bootstrap_bucket_name_primary) && echo $BOOTSTRAP_BUCKET_NAME_PRIMARY"
   ]
  },
  {
   "cell_type": "code",
   "execution_count": null,
   "id": "6e97300d-146c-473e-9aa8-e3ab2e8e11e5",
   "metadata": {},
   "outputs": [],
   "source": [
    "aws s3 cp ${TF_DIR}/tfe-license.rli s3://${BOOTSTRAP_BUCKET_NAME_PRIMARY}/"
   ]
  },
  {
   "cell_type": "code",
   "execution_count": null,
   "id": "6c047464-dab7-4cc6-ba38-f75421258621",
   "metadata": {},
   "outputs": [],
   "source": [
    "aws s3 ls s3://${BOOTSTRAP_BUCKET_NAME_PRIMARY}"
   ]
  },
  {
   "cell_type": "markdown",
   "id": "fa182b41-865b-41d8-8f4f-d756d0cfbbbd",
   "metadata": {},
   "source": [
    "* If doing an airgapped installation, add your airgap bundle and `replicated.tar.gz` to the PTFE source bucket too.\n",
    "```\n",
    "aws s3 cp replicated.tar.gz s3://pphan-tfe-source-bucket\n",
    "```\n",
    "\n",
    "\t* Name the various objects in your TFE source bucket to match the values given in the `tfvars` file.\n",
    "\t\t* Take into account the version of your airgap bundle.\n",
    "\t* Avoid the use of spaces in the names of the TFE license and installation files."
   ]
  },
  {
   "cell_type": "markdown",
   "id": "d6a0bdf0-9b22-4474-9ff1-6126b8d215d0",
   "metadata": {},
   "source": [
    "## Create configuration"
   ]
  },
  {
   "cell_type": "markdown",
   "id": "fe06e720-ca7e-4136-a6b9-7ec20cfb41f9",
   "metadata": {},
   "source": [
    "Comment out region parameter in AWS provider."
   ]
  },
  {
   "cell_type": "code",
   "execution_count": null,
   "id": "3e48fd45-9164-4757-a5c6-38b806dc7728",
   "metadata": {},
   "outputs": [],
   "source": [
    "sed -i '' '/^[^#]/ s/\\(^.* region .*$\\)/#\\ \\1/' $TF_DIR/main.tf"
   ]
  },
  {
   "cell_type": "code",
   "execution_count": null,
   "id": "cf9bb28c-7cd1-4387-953d-fdba99b959cf",
   "metadata": {},
   "outputs": [],
   "source": [
    "mkdir -p config/terraform/tfe_stage_1"
   ]
  },
  {
   "cell_type": "markdown",
   "id": "7a3b4d6e-95d2-4ca3-9a84-f57f50ca9101",
   "metadata": {},
   "source": [
    "Don't use this for now."
   ]
  },
  {
   "cell_type": "code",
   "execution_count": null,
   "id": "5e44b6d6-8b98-43ff-a770-e620d08d314f",
   "metadata": {},
   "outputs": [],
   "source": [
    "cat > config/terraform/tfe_stage_1/main.tf <<EOF\n",
    "#// Versions\n",
    "terraform {\n",
    "  required_version = \"~> 0.14.7\"\n",
    "  required_providers {\n",
    "    aws = {\n",
    "      source  = \"hashicorp/aws\"\n",
    "      version = \"~> 3.63.0\"\n",
    "    }\n",
    "    template = {\n",
    "      source  = \"hashicorp/template\"\n",
    "      version = \"~> 2.2.0\"\n",
    "    }\n",
    "  }\n",
    "}\n",
    "\n",
    "#// Provider\n",
    "provider \"aws\" {\n",
    "  region = \"${region}\"\n",
    "}\n",
    "EOF"
   ]
  },
  {
   "cell_type": "code",
   "execution_count": null,
   "id": "3f9701ad-a4d4-4874-b62a-0c952b30dc96",
   "metadata": {
    "tags": []
   },
   "outputs": [],
   "source": [
    "tee config/terraform/tfe_stage_1/main.tf <<EOF\n",
    "#// Primary Region\n",
    "module \"tfe-prereqs-primary\" {\n",
    "  source = \"github.com/hashicorp/is-terraform-aws-tfe-prereqs\"\n",
    "\n",
    "  # --- Common --- #\n",
    "  friendly_name_prefix = \"${friendly_name_prefix}\"\n",
    "  common_tags = {\n",
    "    \"Environment\" = \"tfe-prereqs-primary\"\n",
    "    \"Tool\"        = \"Terraform\"\n",
    "    \"Owner\"       = \"Clegane\"\n",
    "  }\n",
    "\n",
    "  # --- Network --- #\n",
    "  deploy_vpc           = true\n",
    "  vpc_cidr             = \"${cidr_block}\"\n",
    "  public_subnet_cidrs  = [\"10.0.1.0/24\", \"10.0.2.0/24\", \"10.0.3.0/24\"]\n",
    "  private_subnet_cidrs = [\"10.0.255.0/24\", \"10.0.254.0/24\", \"10.0.253.0/24\"]\n",
    "\n",
    "  # --- Bastion --- #\n",
    "  deploy_bastion             = true\n",
    "  bastion_keypair            = aws_key_pair.tfe.key_name #\"${friendly_name_prefix}-bastion-key-pair-us-east-1\"\n",
    "  bastion_ingress_cidr_allow = [\"${bastion_ip}/32\"]\n",
    "\n",
    "  # --- S3 --- #\n",
    "  deploy_bootstrap_bucket   = true\n",
    "  bootstrap_bucket_name     = \"${friendly_name_prefix}-tfe-bootstrap-primary-123456789\"\n",
    "\n",
    "  # --- KMS --- #\n",
    "  deploy_kms = true\n",
    "\n",
    "  # --- Secrets Manager --- #\n",
    "  deploy_secretsmanager      = true\n",
    "  secretsmanager_secret_name = \"${friendly_name_prefix}-tfe-install-secrets\"\n",
    "  secretsmanager_secrets = {\n",
    "    console_password            = \"ProtectThisSecretBetter123!\"\n",
    "    enc_password                = \"DefinitelyProtectThisOne456$\"\n",
    "    tfe_initial_admin_password  = \"AdvancedTfeBootstrapFunctionality789@\"\n",
    "  }\n",
    "}\n",
    "\n",
    "output \"vpc\" {\n",
    "  value = module.tfe-prereqs-primary.vpc_id\n",
    "}\n",
    "\n",
    "output \"public_subnet_ids\" {\n",
    "  value = module.tfe-prereqs-primary.public_subnet_ids\n",
    "}\n",
    "\n",
    "output \"private_subnet_ids\" {\n",
    "  value = module.tfe-prereqs-primary.private_subnet_ids\n",
    "}\n",
    "\n",
    "output \"bootstrap_bucket_name_primary\" {\n",
    "  value = module.tfe-prereqs-primary.bootstrap_bucket_name\n",
    "}\n",
    "\n",
    "output \"bastion_public_ip\" {\n",
    "  value = module.tfe-prereqs-primary.bastion_public_ip\n",
    "}\n",
    "\n",
    "output \"kms_key_arn\" {\n",
    "  value = module.tfe-prereqs-primary.kms_key_arn\n",
    "}\n",
    "\n",
    "output \"secretsmanager_secret_metadata_arn\" {\n",
    "  value = module.tfe-prereqs-primary.secretsmanager_secret_arn\n",
    "}\n",
    "EOF"
   ]
  },
  {
   "cell_type": "markdown",
   "id": "f44b4ef5-98a1-4f56-80a3-222390139f9e",
   "metadata": {},
   "source": [
    "### Optional Configuration for SSH Keys\n",
    "\n",
    "Create items not created by the module eg AWS ssh key."
   ]
  },
  {
   "cell_type": "code",
   "execution_count": null,
   "id": "09e7f40f-d9ef-4838-9780-c7bf0931ec46",
   "metadata": {},
   "outputs": [],
   "source": [
    "cat > ${TF_DIR}/aws_key_pair.tf <<EOF\n",
    "resource \"aws_key_pair\" \"tfe\" {\n",
    "  key_name   = \"${friendly_name_prefix}-bastion-key-pair-${AWS_REGION}\"\n",
    "  public_key = file(\"~/.ssh/id_rsa.pub\") #var.ssh_public_key\n",
    "}\n",
    "output \"ssh_key_pair\" {\n",
    "  value = aws_key_pair.tfe.id\n",
    "}\n",
    "EOF"
   ]
  },
  {
   "cell_type": "raw",
   "id": "19313ae3-de74-4957-ac45-4d18bb0ef923",
   "metadata": {},
   "source": [
    "### Show Configuration\n",
    "\n",
    "Verify that the configuration was built correctly."
   ]
  },
  {
   "cell_type": "code",
   "execution_count": null,
   "id": "b9ed2cc2-f050-4689-87b3-e4d150fb2c70",
   "metadata": {
    "tags": []
   },
   "outputs": [],
   "source": [
    "cat $TF_DIR/main.tf"
   ]
  },
  {
   "cell_type": "markdown",
   "id": "a8b3772d-ff3e-477b-8b87-3c89d3220163",
   "metadata": {},
   "source": [
    "## Clean Up"
   ]
  },
  {
   "cell_type": "markdown",
   "id": "a48bcd56-9547-4abd-8358-9de521f9c7ff",
   "metadata": {},
   "source": [
    "Delete license file from S3 bucket."
   ]
  },
  {
   "cell_type": "code",
   "execution_count": null,
   "id": "965b91ad-f5a5-45d3-8a7f-70c0f3e226f9",
   "metadata": {},
   "outputs": [],
   "source": [
    "aws s3 rm s3://${BOOTSTRAP_BUCKET_NAME_PRIMARY}/tfe-license.rli"
   ]
  },
  {
   "cell_type": "code",
   "execution_count": null,
   "id": "911e1ffa-c835-4773-83a6-095aa88e22ff",
   "metadata": {},
   "outputs": [],
   "source": [
    "aws s3 ls s3://${BOOTSTRAP_BUCKET_NAME_PRIMARY}"
   ]
  },
  {
   "cell_type": "code",
   "execution_count": null,
   "id": "51749911-b80d-403e-abdf-c139b2a8cc36",
   "metadata": {},
   "outputs": [],
   "source": [
    "aws s3api delete-object --bucket ${BOOTSTRAP_BUCKET_NAME_PRIMARY} --key tfe-license.rli --version-id 2x77QHkBmam59gvPmyBL4mIB3KaE61M4"
   ]
  },
  {
   "cell_type": "markdown",
   "id": "7a06f011-f222-4c0c-84b8-f884acbd9bdb",
   "metadata": {},
   "source": [
    "### Destroy - Stage 1 Resources\n",
    "\n",
    "If no longer needed, you can destroy your provisioned resources."
   ]
  },
  {
   "cell_type": "code",
   "execution_count": null,
   "id": "66516394-1fbc-4814-9a82-b6e93087d51f",
   "metadata": {},
   "outputs": [],
   "source": [
    "time terraform -chdir=${TF_DIR} destroy -input=false -auto-approve \\\n",
    "  > /tmp/tf_stage_1_destroy.out 2>&1"
   ]
  },
  {
   "cell_type": "markdown",
   "id": "b1206322-e680-485b-b9cb-5439951b5e5c",
   "metadata": {},
   "source": [
    "### Delete AWS Secret Immediately"
   ]
  },
  {
   "cell_type": "markdown",
   "id": "3c4269d0-462f-4462-a46b-1f3d45b76035",
   "metadata": {},
   "source": [
    "When secrets are marked for deletion, there will be a default recovery window of 14 days. To immediately delete the secret, perform these steps.\n",
    "\n",
    "* Go to AWS Secrets Manager to see your secrets. \n",
    "* On the Secrets page, choose Preferences (Gear icon).\n",
    "* In the Preferences dialog box, select **Show disabled secrets**, and then choose **Save**."
   ]
  },
  {
   "cell_type": "code",
   "execution_count": null,
   "id": "5077c8d6-d259-4537-8192-88a196ed3e60",
   "metadata": {},
   "outputs": [],
   "source": [
    "open https://${AWS_REGION}.console.aws.amazon.com/secretsmanager/home?region=${AWS_REGION}#!/listSecrets"
   ]
  },
  {
   "cell_type": "markdown",
   "id": "6c33552e-99d8-4b70-b376-5c40fe80aeb8",
   "metadata": {},
   "source": [
    "Force immediate deletion, so that you can reuse the same name."
   ]
  },
  {
   "cell_type": "code",
   "execution_count": null,
   "id": "d233b953-2d04-4f5f-bb00-31809eb62d9f",
   "metadata": {},
   "outputs": [],
   "source": [
    "aws secretsmanager delete-secret --secret-id ${friendly_name_prefix}-tfe-install-secrets --force-delete-without-recovery"
   ]
  },
  {
   "cell_type": "code",
   "execution_count": null,
   "id": "c4d78831-3a9a-4112-b656-fc9795fcc635",
   "metadata": {
    "tags": []
   },
   "outputs": [],
   "source": [
    "aws secretsmanager list-secrets"
   ]
  },
  {
   "cell_type": "markdown",
   "id": "49bc8cc5-3716-4021-96e7-298656a69de4",
   "metadata": {},
   "source": [
    "Note the DeletionDate shows the current date and time instead of a future date."
   ]
  },
  {
   "cell_type": "markdown",
   "id": "0290936d-53b6-4814-8636-1a2bc0a0e7a5",
   "metadata": {},
   "source": [
    "### Delete S3"
   ]
  },
  {
   "cell_type": "markdown",
   "id": "854472a3-1ba1-4b95-b00a-2abc1c73cb86",
   "metadata": {},
   "source": [
    "Delete license file from S3 bucket."
   ]
  },
  {
   "cell_type": "code",
   "execution_count": null,
   "id": "b63e6a91-ac3e-4e8b-b6d7-e865b08301ec",
   "metadata": {},
   "outputs": [],
   "source": [
    "aws s3 rm s3://${BOOTSTRAP_BUCKET_NAME_PRIMARY}/tfe-license.rli"
   ]
  },
  {
   "cell_type": "code",
   "execution_count": null,
   "id": "b329013f-0073-4e4c-ab8d-69b1a39851a0",
   "metadata": {},
   "outputs": [],
   "source": [
    "aws s3 ls s3://${BOOTSTRAP_BUCKET_NAME_PRIMARY}"
   ]
  },
  {
   "cell_type": "code",
   "execution_count": null,
   "id": "d8783f4e-48fd-4c72-bbb8-1b4cda2d450e",
   "metadata": {},
   "outputs": [],
   "source": [
    "echo $TF_DIR $MAIN_DIR && pwd"
   ]
  },
  {
   "cell_type": "markdown",
   "id": "45f79d47-0bd6-4a9a-b274-273f1db3296f",
   "metadata": {},
   "source": [
    "### Delete file artifacts"
   ]
  },
  {
   "cell_type": "code",
   "execution_count": null,
   "id": "a51540ea-ec5b-4282-9dc0-4506c7c1bb69",
   "metadata": {},
   "outputs": [],
   "source": [
    "ls $MAIN_DIR/config/terraform/terraform-aws-tfe-prereqs"
   ]
  },
  {
   "cell_type": "code",
   "execution_count": null,
   "id": "f286057e-a903-40eb-a5eb-8d6ab108f1a1",
   "metadata": {},
   "outputs": [],
   "source": [
    "cd $MAIN_DIR && rm -rf config/terraform/terraform-aws-tfe-prereqs"
   ]
  }
 ],
 "metadata": {
  "kernelspec": {
   "display_name": "Bash",
   "language": "bash",
   "name": "bash"
  },
  "language_info": {
   "codemirror_mode": "shell",
   "file_extension": ".sh",
   "mimetype": "text/x-sh",
   "name": "bash"
  }
 },
 "nbformat": 4,
 "nbformat_minor": 5
}
