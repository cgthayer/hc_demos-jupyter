{
 "cells": [
  {
   "cell_type": "markdown",
   "id": "b8972a2f-1805-4bf5-988a-9897e3a6c829",
   "metadata": {},
   "source": [
    "# Terraform Cloud with AWS - Part 1"
   ]
  },
  {
   "cell_type": "markdown",
   "id": "c3da791b-499f-42ed-91d2-b0293944219e",
   "metadata": {},
   "source": [
    "Teaser:\n",
    "Join the ACME devops team on their journey to fully automated provisioning with AWS Cloud.\n",
    "\n",
    "**Description:**\n",
    "\n",
    "Work with the devops team at Acme Inc. as they go from manual provisioning with Terraform to a fully automated devops workflow with code reviews, testing, and automated provisioning in AWS Cloud. This workshop covers the following topics:\n",
    "\n",
    "  * Terraform Open Source\n",
    "  * Terraform Cloud\n",
    "  * Remote State\n",
    "  * Secure Variable Storage\n",
    "  * Version Control Integration\n",
    "  * Role-based Access Controls\n",
    "  * Sentinel Security Policies\n",
    "  * Collaboration on Changes\n",
    "  * Private Module Registry\n",
    "  * API Driven Workflows"
   ]
  },
  {
   "cell_type": "markdown",
   "id": "829ba505-dba0-4453-b9bb-eebffd55f21b",
   "metadata": {},
   "source": [
    "## Pre-Requisites\n",
    "\n",
    "* Terraform Cloud Account\n",
    "\t* Create a [free](https://app.terraform.io/signup/account) terraform cloud account.\n",
    "* Create a Terraform organization.\n",
    "\t* Each person should have their own for this lab.\n",
    "\t* Name your new organization: \"`YOURNAME-training`\" (Replace with your actual name).\n",
    "\t* This organization name must be unique!\n",
    "* AWS Credentials\n",
    "* Visual Studio Code\n",
    "* GitHub SaaS Account\n",
    "\t* Create a free one at  [https://github.com/signup](https://github.com/signup) .\n",
    "\t* We will be using GitHub for source control in this workshop.\n",
    "* RECOMMENDATION: Anyone taking this training should already have experience using open source terraform. This training will not cover `terraform` or writing HCL. An understanding of Terraform open source usage will help in understanding the enterprise features. \n",
    "\n",
    "---"
   ]
  },
  {
   "cell_type": "markdown",
   "id": "4804033b-0c06-4c56-9b9f-faa6190dece1",
   "metadata": {},
   "source": [
    "### Set Main Environment Variables"
   ]
  },
  {
   "cell_type": "code",
   "execution_count": null,
   "id": "3f51b9cc-0c45-434e-aee4-0af14a3a06bd",
   "metadata": {},
   "outputs": [],
   "source": [
    "export RED=\"\\e[0;31m\" YELLOW=\"\\e[0;33m\" BLDYELLOW=\"\\e[1;33m\" GREEN=\"\\e[0;32m\"\n",
    "export CYAN=\"\\e[0;36m\" BLUE=\"\\e[0;34m\" WHITE=\"\\e[0;37m\" BLDWHITE=\"\\e[1;37m\"\n",
    "export NC=\"\\e[0m\""
   ]
  },
  {
   "cell_type": "code",
   "execution_count": null,
   "id": "4050bf01-e3e3-4428-8482-ad35eb94d946",
   "metadata": {},
   "outputs": [],
   "source": [
    "# Set MAIN_DIR for future reference.\n",
    "export MAIN_DIR=${PWD}\n",
    "export GIT_DIR=\"config/terraform/hashicat-aws\"\n",
    "export TF_ORG=\"pphan\"\n",
    "export TF_WS_NAME=\"hashicat-aws\"\n",
    "echo $GIT_DIR\n",
    "TFE_PROVIDER_DIR=config/terraform/tfe-provider"
   ]
  },
  {
   "cell_type": "markdown",
   "id": "fa05ed94-3c5a-4a9b-9189-cda0784654a5",
   "metadata": {
    "jp-MarkdownHeadingCollapsed": true,
    "tags": []
   },
   "source": [
    "Some of these commands may place sensitive information. Prevent commands starting with a space to not be saved to shell history."
   ]
  },
  {
   "cell_type": "code",
   "execution_count": null,
   "id": "ad376517-eafc-461f-a381-6ad6cc198c40",
   "metadata": {},
   "outputs": [],
   "source": [
    "HISTCONTROL=ignoreboth # do not save lines that begin with space in history"
   ]
  },
  {
   "cell_type": "markdown",
   "id": "38c6932a-f0b6-4fb0-a3c6-a24c292256e5",
   "metadata": {},
   "source": [
    "### AWS Credentials"
   ]
  },
  {
   "cell_type": "markdown",
   "id": "f7d445f0-0698-458b-8a5d-2352b4513e5e",
   "metadata": {},
   "source": [
    "`terraform` will use credentials set in your environment or through other means as described in the [Terraform documentation](https://www.terraform.io/docs/providers/aws/index.html#environment-variables). This guide will assume you are using the \"**Environment Variables**\" method.\n",
    "\n",
    "Add your AWS credentials as two environment variables. Set your `AWS_ACCESS_KEY_ID` and `AWS_SECRET_ACCESS_KEY` replacing `AAAAAA` with your own values."
   ]
  },
  {
   "cell_type": "code",
   "execution_count": null,
   "id": "09b030d4-f469-4642-a580-3d8c54324f34",
   "metadata": {},
   "outputs": [],
   "source": [
    " export AWS_ACCESS_KEY_ID=AAAAAA\n",
    " export AWS_SECRET_ACCESS_KEY=AAAAAA\n",
    "#  export AWS_SESSION_TOKEN=AAAAAA"
   ]
  },
  {
   "cell_type": "markdown",
   "id": "3ae75079-6648-4426-af5a-7aaf6dbb1cda",
   "metadata": {},
   "source": [
    "NOTE: If you use `doormat`, then use this method. Be sure to replace `tf_org` and `ws_name` with your own values."
   ]
  },
  {
   "cell_type": "code",
   "execution_count": null,
   "id": "cae7f8eb-cf94-4218-b727-412ce2d01162",
   "metadata": {},
   "outputs": [],
   "source": [
    "tf_org=\"pphan\"\n",
    "ws_name=\"hashicat-aws\"\n",
    "account=\"se_demos_dev\"\n",
    "tf_hostname=\"app.terraform.io\"\n",
    "\n",
    "alias awstfcpush='doormat --smoke-test || doormat -r && doormat aws -a ${account} --tf-push --tf-workspace ${ws_name} --tf-organization ${tf_org} --tf-hostname ${tf_hostname}'\n",
    "alias awscredsenv='doormat --smoke-test || doormat -r && eval $(doormat aws -a $account)'\n",
    "\n",
    "awstfcpush\n",
    "awscredsenv"
   ]
  },
  {
   "cell_type": "markdown",
   "id": "81622b09-123e-436b-89d4-6c4254104c03",
   "metadata": {},
   "source": [
    "Make sure your AWS Creds are set. Only showing half the values for security reasons."
   ]
  },
  {
   "cell_type": "code",
   "execution_count": null,
   "id": "21c868bc-07b8-4c00-9e6f-5d19c6faf6fe",
   "metadata": {},
   "outputs": [],
   "source": [
    "printf \"${GREEN}# Make sure we have valid AWS credentials in our shell environment${NC}\\n\"\n",
    "# echo $AWS_ACCESS_KEY_ID | grep -e '(?<![A-Z0-9])[A-Z0-9]{20}(?![A-Z0-9])' \\\n",
    "echo $AWS_ACCESS_KEY_ID | grep -Eo '[A-Z0-9]{11}' \\\n",
    "    || printf \"${RED}Something went wrong. Unable to find a valid AWS_ACCESS_KEY_ID environment variable in your shell.${NC}\\n\"\n",
    "\n",
    "# echo $AWS_SECRET_ACCESS_KEY | grep -e '(?<![A-Za-z0-9/+=])[A-Za-z0-9/+=]{40}(?![A-Za-z0-9/+=])' \\\n",
    "echo $AWS_SECRET_ACCESS_KEY | grep -Eo '[A-Za-z0-9/+=]{21}' \\\n",
    "    || printf \"${RED}Something went wrong. Unable to find a valid AWS_SECRET_ACCESS_KEY environment variable in your shell.${NC}\\n\""
   ]
  },
  {
   "cell_type": "markdown",
   "id": "1fb0405a-504a-4149-b27f-67f7b9f8803e",
   "metadata": {},
   "source": [
    "**Internal NOTE**: Using `--tf-push` to place variables in workspace. `doormat` locks down the IP so loading env vars into remote agent does not work. "
   ]
  },
  {
   "cell_type": "markdown",
   "id": "73dfeeef-a65f-4ee3-af7a-d16a4044b33a",
   "metadata": {
    "tags": []
   },
   "source": [
    "### Clone HashiCat Repo"
   ]
  },
  {
   "cell_type": "code",
   "execution_count": null,
   "id": "3ab4b210-eacb-4c7a-a9dd-365f079992a3",
   "metadata": {},
   "outputs": [],
   "source": [
    "printf \"${GREEN}#==> Clone hashicat-aws repo to config/terraform/hashicat-aws${NC}\\n\"\n",
    "git clone https://github.com/hashicorp/hashicat-aws $GIT_DIR"
   ]
  },
  {
   "cell_type": "markdown",
   "id": "d26574d7-4240-4aa8-aa8b-552b07cc3838",
   "metadata": {},
   "source": [
    "# 🏡 Moving in - Set Up Your Workspace\n",
    "\n",
    "**teaser:**\n",
    "\n",
    "Configure your code editor for Terraform and open a workspace.\n",
    "\n",
    "**notes:**\n",
    "\n",
    "Welcome to your first day on the job at ACME Inc. These are some of your coworkers in the local ACME office:\n",
    "* 👨🏻‍💼 Hiro - Product Manager\n",
    "* 🧕🏽 Aisha - Database Admin\n",
    "* 👮🏿‍♂️ William - InfoSec Lead\n",
    "* 👨🏻‍🦲 Lars - Lead Developer\n",
    "* 🧓🏻 Robin - Operations Admin\n",
    "* 👩‍🎤 Jane - Quality Assurance\n",
    "* 👳🏾‍♂️ Gaurav - Network Admin\n",
    "* 👩🏼‍💼 Karen - Finance\n",
    "* 🤓 You - Brand New Intern\n",
    "\n",
    "Most modern text editors (ex Visual Studio Code, Atom, etc) support Terraform syntax highlighting."
   ]
  },
  {
   "cell_type": "markdown",
   "id": "aa12d034-6825-4ad3-9f35-eae214342c29",
   "metadata": {},
   "source": [
    "## Assignment:\n",
    "Welcome to your first day as an intern at ACME Inc. [ACME](https://www.youtube.com/watch?v=9m7evoFF83c) is a multi-national conglomerate that sells anvils, rocket powered roller skates, portable holes, earthquake pills and birdseed.\n",
    "\n",
    "After employee orientation you sit down at your workstation and open your text editor, Visual Studio Code."
   ]
  },
  {
   "cell_type": "markdown",
   "id": "873c6cd9-e8f9-4d3e-abb6-37465552be15",
   "metadata": {},
   "source": [
    "### Install Visual Studio Code"
   ]
  },
  {
   "cell_type": "code",
   "execution_count": null,
   "id": "3f9844ac-59a4-4897-9a90-3ba593989585",
   "metadata": {},
   "outputs": [],
   "source": [
    "# Install Visual Studio Code if you don't have it.\n",
    "brew install --cask visual-studio-code"
   ]
  },
  {
   "cell_type": "markdown",
   "id": "12ef5efa-9c49-49d1-b425-d46d67ac4df7",
   "metadata": {},
   "source": [
    "Launch Visual Studio Code or your text editor"
   ]
  },
  {
   "cell_type": "code",
   "execution_count": null,
   "id": "822e84e5-8fa8-4adb-b4f4-f45e6b4679a7",
   "metadata": {},
   "outputs": [],
   "source": [
    "code ."
   ]
  },
  {
   "cell_type": "markdown",
   "id": "a8e1fc09-c85a-45e6-8176-651a743575f7",
   "metadata": {},
   "source": [
    "NOTE: This will launch VS Code in the cloned directory."
   ]
  },
  {
   "cell_type": "markdown",
   "id": "6afac614-1f98-4f53-921e-95ab97933a73",
   "metadata": {},
   "source": [
    "### Install Terraform Extension\n",
    "\n",
    "Next, install the Terraform extension to enable syntax highlighting in your code.\n",
    "\n",
    "* Click on the \"**Extensions**\" icon - it looks like four small boxes. \n",
    "* Search for **HashiCorp Terraform** and be sure to select the \"**Terraform 2.x.x**\" extension from HashiCorp.\n",
    "* Click the **Install** button to install the extension.\n",
    "* Then click the **Reload Required** button to activate it.\n",
    "\n",
    "Congratulations, you are ready to start working with Terraform on AWS. We'll use the `hashicat-aws` example app in the rest of the challenges as you learn new Terraform skills.\n",
    "\n",
    "---"
   ]
  },
  {
   "cell_type": "markdown",
   "id": "df5df766-6e7a-4a30-a408-0200742d75ad",
   "metadata": {
    "tags": []
   },
   "source": [
    "# ☁️ Terraform Cloud Setup\n",
    "\n",
    "**teaser**:\n",
    "\n",
    "Terraform Cloud offers unlimited free Terraform state storage for users. Safeguard your state files by storing them remotely in Terraform Cloud.\n",
    "\n",
    "**notes:**\n",
    "\n",
    "Terraform Cloud remote state storage is free for all users."
   ]
  },
  {
   "cell_type": "markdown",
   "id": "af72ccc5-02e8-4dcd-af5c-69c666be18e6",
   "metadata": {},
   "source": [
    "## assignment:\n",
    "\n",
    "### Sign Up for Terraform Cloud\n",
    "\n",
    "* Sign up for a free Terraform Cloud account at the following URL: \n",
    "\t* https://app.terraform.io/signup/account\n",
    "\t* If you already have an account, then sign in with your existing credentials.\n",
    "* New Accounts with no TFC Org\n",
    "\t* Once you're signed into Terraform Cloud, you'll see a screen with several options.\n",
    "\t* Click the \"**Not right now, skip questions**\" link and confirm that you want to skip the questions.\n",
    "\t* Create a new **organization** called `YOURNAME-training`. \n",
    "\t* Replace `YOURNAME` with your own name or other text."
   ]
  },
  {
   "cell_type": "markdown",
   "id": "32c5934f-b111-4aca-855f-ff8ffb2042ff",
   "metadata": {},
   "source": [
    "### Create a workspace with UI\n",
    "\n",
    "Next you'll be prompted to create a workspace.\n",
    "\n",
    "* Select the \"**CLI-driven workflow**\".\n",
    "* Name your workspace `hashicat-aws`.\n",
    "  * **NOTE**: ⚠️ You *MUST* name your workspace **`hashicat-aws`**. If you don't, the exercises will break. Do not attempt to name it something else.\n",
    "* Click \"**Create workspace**\"."
   ]
  },
  {
   "cell_type": "markdown",
   "id": "44569299-8fab-44a3-9e3f-90df4fd97e11",
   "metadata": {
    "tags": []
   },
   "source": [
    "### Configure Your Workspace with UI\n",
    "\n",
    "::**DO NOT SKIP THIS NEXT STEP:**::"
   ]
  },
  {
   "cell_type": "markdown",
   "id": "56532195-4364-4705-8d1b-888b2063b770",
   "metadata": {},
   "source": [
    "#### Terraform Version"
   ]
  },
  {
   "cell_type": "markdown",
   "id": "6ca3da3e-5e57-443d-996d-be07c0e4fa3d",
   "metadata": {
    "tags": []
   },
   "source": [
    "Make sure Terraform Version in Workspace matches the Terraform version on your local machine.\n",
    "* Go to the TFC workspace's **Settings >> General** page. Note the \"Terraform Version\".\n",
    "* Run `terraform version`.\n",
    "* Change \"**Terraform Version**\" in you Workspace so that the two matches."
   ]
  },
  {
   "cell_type": "code",
   "execution_count": null,
   "id": "d683ad35-4e48-47b4-8181-6b2de8b161b7",
   "metadata": {
    "tags": []
   },
   "outputs": [],
   "source": [
    "terraform version"
   ]
  },
  {
   "cell_type": "markdown",
   "id": "c0e5c55d-5322-42be-adee-9a887e516302",
   "metadata": {},
   "source": [
    "#### Terraform Execution Mode"
   ]
  },
  {
   "cell_type": "markdown",
   "id": "a60d7a75-a94f-4a6e-b4e6-da8fcf6d6c60",
   "metadata": {
    "jp-MarkdownHeadingCollapsed": true,
    "tags": []
   },
   "source": [
    "Change the workspace execution mode to \"**Local**\".\n",
    "\n",
    "* Go to the TFC workspace's **Settings >> General** page.\n",
    "* Change the \"**Execution Mode**\" to **Local**.\n",
    "* **NOTE:** This will allow us to perform Terraform runs from our workstation with local variables.\n",
    "* Click **Save settings**. "
   ]
  },
  {
   "cell_type": "markdown",
   "id": "84443d58-9275-4f36-a609-fbaaac26d38c",
   "metadata": {},
   "source": [
    "### Create and Configure a Workspace with TFE Provider\n",
    "\n",
    "You can also create a workspace with the [TFE provider](https://registry.terraform.io/providers/hashicorp/tfe/latest/docs). The following steps will setup the following items via the TFE Provider:\n",
    "\n",
    "* `execution_mode`\n",
    "* `terraform_version`\n",
    "* `auto_apply`\n",
    "* `queue_all_runs`\n",
    "\n",
    "**NOTE:** Don't do this section, if you have already created and configured a workspace with the UI above."
   ]
  },
  {
   "cell_type": "code",
   "execution_count": null,
   "id": "246de9ea-9c6f-4063-b696-eb3faa29951a",
   "metadata": {
    "tags": []
   },
   "outputs": [],
   "source": [
    "TFE_PROVIDER_DIR=config/terraform/tfe-provider\n",
    "TF_WS_NAME=\"hashicat-aws\"\n",
    "TF_ORG=\"pphan\"\n",
    "\n",
    "cd $MAIN_DIR\n",
    "mkdir -p $TFE_PROVIDER_DIR"
   ]
  },
  {
   "cell_type": "code",
   "execution_count": null,
   "id": "a406998c-8c49-4276-becb-2a91a9be3d1e",
   "metadata": {
    "tags": []
   },
   "outputs": [],
   "source": [
    "cat <<-\"EOF\" > ${TFE_PROVIDER_DIR}/workspace-hashicat-aws.tf\n",
    "terraform {\n",
    "  required_providers {\n",
    "    tfe = {\n",
    "      source  = \"hashicorp/tfe\"\n",
    "      version = \"0.25.3\"\n",
    "    }\n",
    "    random = {\n",
    "      source  = \"hashicorp/random\"\n",
    "      version = \"3.1.0\"\n",
    "    }\n",
    "  }\n",
    "  required_version = \"> 0.14\"\n",
    "}\n",
    "\n",
    "# resource \"random_pet\" \"learn\" {}\n",
    "\n",
    "resource \"tfe_workspace\" \"vault\" {\n",
    "  name         = \"${var.tfc_hashicat_aws_workspace_name}\" #-${random_pet.learn.id}\"\n",
    "  organization = var.tfc_org\n",
    "\n",
    "#   vcs_repo {\n",
    "#     identifier         = var.vault_repo_name\n",
    "#     oauth_token_id     = var.vcs_oauth_token_id\n",
    "#     ingress_submodules = true\n",
    "#   }\n",
    "\n",
    "  queue_all_runs = false\n",
    "  execution_mode = var.execution_mode\n",
    "  auto_apply = var.auto_apply\n",
    "  terraform_version = var.terraform_version\n",
    "}\n",
    "\n",
    "#// TFC Variables and Outputs\n",
    "variable \"auto_apply\" {\n",
    "  description = \"automatically apply changes when a Terraform plan is successful\"\n",
    "  default     = false\n",
    "}\n",
    "variable \"execution_mode\" {\n",
    "  description = \"Which execution mode to use - remote, local, agent\"\n",
    "  default     = \"local\"\n",
    "}\n",
    "variable \"tfc_org\" {\n",
    "  description = \"The Terraform Cloud organization to create things in\"\n",
    "  default     = \"REPLACE_ME\"\n",
    "}\n",
    "variable \"tfc_hashicat_aws_workspace_name\" {\n",
    "  description = \"hashicat-aws workspace name\"\n",
    "  default     = \"hashicat-aws\"\n",
    "}\n",
    "variable \"terraform_version\" {\n",
    "  description = \"Version of Terraform to use for this workspace.\"\n",
    "  default     = null\n",
    "}\n",
    "\n",
    "output \"workspace_id\" {\n",
    "    value = tfe_workspace.vault.id\n",
    "}\n",
    "\n",
    "EOF"
   ]
  },
  {
   "cell_type": "code",
   "execution_count": null,
   "id": "bcc86257-6eb1-4a9a-885c-46bb7fca5297",
   "metadata": {
    "tags": []
   },
   "outputs": [],
   "source": [
    "tee ${TFE_PROVIDER_DIR}/terraform.tfvars <<-EOF\n",
    "auto_apply                      = false\n",
    "execution_mode                  = \"local\"\n",
    "tfc_hashicat_aws_workspace_name = \"${TF_WS_NAME}\"\n",
    "tfc_org                         = \"${TF_ORG}\"\n",
    "terraform_version               = \"$(terraform version -json | jq -r .terraform_version)\"\n",
    "EOF"
   ]
  },
  {
   "cell_type": "code",
   "execution_count": null,
   "id": "150344dc-f337-410c-b433-88b437f7a3ae",
   "metadata": {},
   "outputs": [],
   "source": [
    "tf -chdir=${TFE_PROVIDER_DIR} init"
   ]
  },
  {
   "cell_type": "code",
   "execution_count": null,
   "id": "dcf76b02-e2c5-4c58-af33-3ef1419c9bd7",
   "metadata": {
    "tags": []
   },
   "outputs": [],
   "source": [
    "terraform -chdir=${TFE_PROVIDER_DIR} plan"
   ]
  },
  {
   "cell_type": "code",
   "execution_count": null,
   "id": "5a19f70a-7824-45bf-925e-15eb6008ff35",
   "metadata": {},
   "outputs": [],
   "source": [
    "terraform -chdir=${TFE_PROVIDER_DIR} apply -auto-approve"
   ]
  },
  {
   "cell_type": "markdown",
   "id": "2bc22435-436f-4da5-be47-3cd2e6f8714a",
   "metadata": {
    "tags": []
   },
   "source": [
    "### (optional) Destroy Workspace"
   ]
  },
  {
   "cell_type": "markdown",
   "id": "7e4399c0-b653-4a8f-9c51-5651795087a5",
   "metadata": {},
   "source": [
    "See what you will destroy."
   ]
  },
  {
   "cell_type": "code",
   "execution_count": null,
   "id": "3bca4218-ffe0-4231-bccd-5303159eb947",
   "metadata": {
    "tags": []
   },
   "outputs": [],
   "source": [
    "printf \"no\\n\" | terraform -chdir=config/terraform/tfe-provider destroy"
   ]
  },
  {
   "cell_type": "markdown",
   "id": "db8d92e9-fbfa-4aee-b275-0e755562b67f",
   "metadata": {},
   "source": [
    "Destroy your workspace"
   ]
  },
  {
   "cell_type": "code",
   "execution_count": null,
   "id": "28883ca1-dc7b-474b-871b-efa81ce5976d",
   "metadata": {
    "tags": []
   },
   "outputs": [],
   "source": [
    "terraform -chdir=config/terraform/tfe-provider destroy -auto-approve"
   ]
  },
  {
   "cell_type": "markdown",
   "id": "c4f4955e-b8c3-4504-a939-69f0f1d25b3c",
   "metadata": {
    "tags": []
   },
   "source": [
    "### Enable 30 day trial of Terraform Cloud paid features\n",
    "\n",
    "If you never used a trial with your org:\n",
    "\n",
    "* Go to Organization: **Settings** > **Plan & Billing**.\n",
    "* Select link for \"**Click here to get started**\".\n",
    "* \"**Trial Plan**\" should be selected.\n",
    "* Click \"**Start your free trial**\".\n",
    "\n",
    "Or, if you have an existing account where you've already used a trial:\n",
    "\n",
    "* Provide your instructor/SE with your **Organization's name**. \n",
    "* They can upgrade your organization to unlock a 30 day free trial of all paid features."
   ]
  },
  {
   "cell_type": "markdown",
   "id": "ac3e08d1-05c7-4546-9bfe-d6fb798cda25",
   "metadata": {},
   "source": [
    "### Verification"
   ]
  },
  {
   "cell_type": "markdown",
   "id": "e88d4640-cc42-48a2-b893-851f01cca2ba",
   "metadata": {},
   "source": [
    "> ⚠️  Did you change your **Execution Mode** to **Local**? This is an easy step to miss, so we mention it twice.\n",
    "\n",
    "---"
   ]
  },
  {
   "cell_type": "markdown",
   "id": "ddca84ad-2983-49b6-bff5-be12c00604d7",
   "metadata": {
    "tags": []
   },
   "source": [
    "# 📒 Safekeeping Your Terraform State"
   ]
  },
  {
   "cell_type": "markdown",
   "id": "83e34e8e-51ae-4a69-8a9d-ff9e70717ec6",
   "metadata": {
    "tags": []
   },
   "source": [
    "**Teaser:**\n",
    "\n",
    "An unexpected outage has taken down one of the production websites. It took longer than expected to recover because the Terraform state file was stored on someone's laptop. Terraform Cloud's remote state feature is here to help.\n",
    "\n",
    "**Notes:**\n",
    "\n",
    "It's Monday morning and you're the first one into the office. Most of your teammates were up late fixing last night's outage. Eventually senior operations admin Robin shows up at your desk.\n",
    "\n",
    "🧓 Hey kiddo, how are you doing? Listen, I want your help with something. Last night we had trouble rebuilding the website because the Terraform state file was stored on Lars' laptop. And guess what, Lars is on vacation for the next two weeks. Why don't you help me configure remote state on this application so this doesn't happen again?"
   ]
  },
  {
   "cell_type": "markdown",
   "id": "1ca15a63-47b2-484f-ae23-a7f86044c1f9",
   "metadata": {},
   "source": [
    "## assignment:\n",
    "\n",
    "Configure remote state using your Terraform Cloud account. In order to complete this challenge you'll need the following:\n",
    "\n",
    "1. A free Terraform Cloud account. Log in at https://app.terraform.io\n",
    "2. An organization called `<YOURNAME>-training`. You created this in the previous exercise.\n",
    "3. A workspace named `hashicat-aws` with its **Execution Mode** set to **Local** (NOT Remote)\n",
    "4. A Terraform **user** API token for authentication\n",
    "5. A `remote_backend` config stored in your workspace"
   ]
  },
  {
   "cell_type": "markdown",
   "id": "8e9f7cb0-5099-4d06-8b88-635a9fca672c",
   "metadata": {},
   "source": [
    "### Generate TFC User API Token\n",
    "\n",
    "**`terraform login` method**\n",
    "\n",
    "* Use the `terraform login` command to generate and save your token to a local config file.\n",
    "    * **NOTE:** Run this in a separate terminal window, since Jupyter does not allow interactive commands.\n",
    "* Click on the link to open the TFC tokens page. Sample Output\n",
    "\n",
    "```shell\n",
    "Terraform must now open a web browser to the tokens page for app.terraform.io.\n",
    "\n",
    "If a browser does not open this automatically, open the following URL to proceed:\n",
    "\thttps://app.terraform.io/app/settings/tokens?source=terraform-login\n",
    "```\n",
    "\n",
    "* For **Description:** Accept default or provide your own value.\n",
    "* Click **Create API token**.\n",
    "* Copy the token.\n",
    "\t* NOTE: Don't click **Done** until after the token is setup successfully.\n",
    "* Go back to separate terminal window.\n",
    "* Paste the password.\n",
    "* **NOTE**: You won't see your token appear on the screen when you paste it into the terminal.\n",
    "* Press <kbd>Enter</kbd>"
   ]
  },
  {
   "cell_type": "markdown",
   "id": "2770d728-8c03-4f1c-b03f-19990d3b82b7",
   "metadata": {},
   "source": [
    "Alternatively\n",
    "\n",
    "* Go directly to this link in a new browser tab:\n",
    "https://app.terraform.io/app/settings/tokens?source=terraform-login\n",
    "* Create your token.\n",
    "* Paste the value into the `TF_TOKEN` variable below and run the cell."
   ]
  },
  {
   "cell_type": "code",
   "execution_count": null,
   "id": "537ea663-ef78-460f-b966-88b19f5020d6",
   "metadata": {},
   "outputs": [],
   "source": [
    "mkdir -p ${HOME}/.terraform.d\n",
    "TF_TOKEN=\"YOURTOKEN\"\n",
    "cat > ${HOME}/.terraform.d/credentials.tfrc.json <<-EOF\n",
    "{\n",
    "  \"credentials\": {\n",
    "    \"app.terraform.io\": {\n",
    "      \"token\": \"${TF_TOKEN}\"\n",
    "    }\n",
    "  }\n",
    "}\n",
    "EOF"
   ]
  },
  {
   "cell_type": "markdown",
   "id": "23cb5ad8-bf78-42a4-974f-cc9a0f3809fa",
   "metadata": {},
   "source": [
    "Verify that your token is stored in the `${HOME}/.terraform.d/credentials.tfrc.json` file."
   ]
  },
  {
   "cell_type": "code",
   "execution_count": null,
   "id": "b6d6f7de-a215-4f53-8a84-4b05dc173a98",
   "metadata": {},
   "outputs": [],
   "source": [
    "cat ${HOME}/.terraform.d/credentials.tfrc.json"
   ]
  },
  {
   "cell_type": "markdown",
   "id": "ab0ef419-963e-4e34-b0ac-7fce0a0b50dd",
   "metadata": {},
   "source": [
    "### Configure a remote backend"
   ]
  },
  {
   "cell_type": "markdown",
   "id": "6c88c294-6f41-4eb3-89d2-c3016ad4aea8",
   "metadata": {},
   "source": [
    "Create `remote_backend` file.\n",
    "\n",
    "* Replace the `TF_ORG` variable with your organization name\n",
    "* Replace the `TF_WS` variable with your workspace name.\n",
    "\n",
    "Sample `remote_backend.tf`\n",
    "\n",
    "```go\n",
    "terraform {\n",
    "  backend \"remote\" {\n",
    "    hostname = \"app.terraform.io\"\n",
    "    organization = \"peterphan\"\n",
    "    workspaces {\n",
    "      name = \"hashicat-aws\"\n",
    "    }\n",
    "  }\n",
    "}\n",
    "```\n",
    "\n",
    "> NOTE: Do **NOT** delete this file. It is required to complete the track successfully."
   ]
  },
  {
   "cell_type": "code",
   "execution_count": null,
   "id": "bf30121e-6de1-42fd-a76e-a29535b3caba",
   "metadata": {},
   "outputs": [],
   "source": [
    "# export TF_WS=hashicat-aws"
   ]
  },
  {
   "cell_type": "markdown",
   "id": "b0141bc9-f1d9-4464-a29c-771e39c89d9e",
   "metadata": {},
   "source": [
    "Go to back to `$MAIN_DIR`."
   ]
  },
  {
   "cell_type": "code",
   "execution_count": null,
   "id": "fc7daabf-854f-4aed-becb-6971ea9ee6b8",
   "metadata": {},
   "outputs": [],
   "source": [
    "cd $MAIN_DIR"
   ]
  },
  {
   "cell_type": "code",
   "execution_count": null,
   "id": "8dcc4517-3c6f-4700-a952-8ff5b6529470",
   "metadata": {},
   "outputs": [],
   "source": [
    "tee ${GIT_DIR}/remote_backend.tf <<-EOF\n",
    "terraform {\n",
    "  backend \"remote\" {\n",
    "    hostname = \"app.terraform.io\"\n",
    "    organization = \"${TF_ORG}\"\n",
    "    workspaces {\n",
    "      name = \"${TF_WS_NAME}\"\n",
    "    }\n",
    "  }\n",
    "}\n",
    "EOF"
   ]
  },
  {
   "cell_type": "markdown",
   "id": "e28f7777-c8bc-4236-a7a7-fcd0f29a0d0a",
   "metadata": {},
   "source": [
    "### Set Variables with terraform.tfvars file\n",
    "\n",
    "* Edit/create the \"`terraform.tfvars`\" file.\n",
    "* Set `prefix` to your name (first and last with or without a hyphen between them and all lower case).\n",
    "* Set `region` to a valid AWS region such as \"`us-east-1`\", \"`us-west-2`\", \"`eu-west-2`\", or \"`ap-southeast-1`\".\n",
    "    * See this [page](https://docs.aws.amazon.com/AWSEC2/latest/UserGuide/using-regions-availability-zones.html#concepts-available-regions) for a list of valid AWS regions.\n",
    "\n",
    "**NOTE**: The variables are declared in the \"`variables.tf`\" file. The \"`terraform.tfvars`\" file is used to set values for them.\n",
    "**NOTE:** Do not `us-west-2`. One of its AZs do not support the `t2.micro` instance type."
   ]
  },
  {
   "cell_type": "code",
   "execution_count": null,
   "id": "26106626-cf2a-4929-8dbf-b6fa9c78b835",
   "metadata": {},
   "outputs": [],
   "source": [
    "cat <<-EOF > $GIT_DIR/terraform.tfvars\n",
    "instance_type = \"t2.micro\"\n",
    "prefix = \"pphan\"\n",
    "region = \"us-east-1\"\n",
    "EOF"
   ]
  },
  {
   "cell_type": "markdown",
   "id": "17ba1bc1-88c1-49c6-90b4-52648b2cb976",
   "metadata": {},
   "source": [
    "### Deploy hashicat\n",
    "\n",
    "You should have a token stored at `${HOME}/.terraform.d/credentials.tfrc.json` and a remote backend configured. \n",
    "\n",
    "* Initialize terraform. Use `-migrate-state` to copy existing state to new backend."
   ]
  },
  {
   "cell_type": "code",
   "execution_count": null,
   "id": "0fb532f7-7b5d-45d6-974c-25035815fdeb",
   "metadata": {},
   "outputs": [],
   "source": [
    "terraform -chdir=${GIT_DIR} init -migrate-state "
   ]
  },
  {
   "cell_type": "markdown",
   "id": "588dafd7-038e-4727-b1a8-0de5e957d79c",
   "metadata": {},
   "source": [
    "* Confirm (type `yes`) that you want to copy the state file to TFC workspace.\n",
    "* **NOTE**: If you ran terraform locally before configuring remote state, you’ll have a local state file called `terraform.tfstate`. \n",
    "  * Delete the local state file if it exists. `init` has already moved existing state to TFC."
   ]
  },
  {
   "cell_type": "code",
   "execution_count": null,
   "id": "ba80b2d9-1b58-4c7d-bf0e-eede6628600d",
   "metadata": {},
   "outputs": [],
   "source": [
    "# if needed, removing existing local state file\n",
    "rm ${GIT_DIR}/terraform.tfstate"
   ]
  },
  {
   "cell_type": "markdown",
   "id": "7043ff6e-0818-4a7f-aee9-0d3482835713",
   "metadata": {},
   "source": [
    "Run `terraform apply` command. We use `-auto-approve` to avoid being prompted."
   ]
  },
  {
   "cell_type": "code",
   "execution_count": null,
   "id": "0a293ca4-3606-4002-a857-1b4e21286800",
   "metadata": {
    "tags": []
   },
   "outputs": [],
   "source": [
    "terraform -chdir=${GIT_DIR} apply -auto-approve"
   ]
  },
  {
   "cell_type": "markdown",
   "id": "2c35e6be-5113-4fe2-bcc1-a715849d88fe",
   "metadata": {},
   "source": [
    "* When the `terraform apply` finishes, you should see output like this:\n",
    "\n",
    "```shell\n",
    "Outputs:\n",
    "catapp_ip = \"http://44.237.220.215\"\n",
    "catapp_url = \"http://ec2-44-237-220-215.us-west-2.compute.amazonaws.com\"\n",
    "```"
   ]
  },
  {
   "cell_type": "markdown",
   "id": "d2d936c6-b8bd-4578-8bbd-dc8ba258fa8b",
   "metadata": {},
   "source": [
    "### Verification\n",
    "\n",
    "* Confirm that terraform has run successfully and the **hashicat** app is working.\n",
    "    * Click on the `catapp_url` to confirm your application is working.\n",
    "    * If it won't load, please run the `terraform apply` command again. That usually fixes this problem."
   ]
  },
  {
   "cell_type": "markdown",
   "id": "4d886c8e-3b38-433c-8ee3-96fef9581f8b",
   "metadata": {},
   "source": [
    "Open a browser tab to the `catapp_url`."
   ]
  },
  {
   "cell_type": "code",
   "execution_count": null,
   "id": "a99b5da7-571a-4ed9-bea9-35a4f0c33fc5",
   "metadata": {},
   "outputs": [],
   "source": [
    "open $(terraform -chdir=${GIT_DIR} output -raw catapp_url)"
   ]
  },
  {
   "cell_type": "markdown",
   "id": "5fb4a6e4-a107-4fcb-bc22-5ff1a526d598",
   "metadata": {},
   "source": [
    "You should see a new state file on the \"**States**\" tab of your Terraform Cloud workspace."
   ]
  },
  {
   "cell_type": "code",
   "execution_count": null,
   "id": "0c266b7a-1953-42ec-9e65-59f9ca4c7dc8",
   "metadata": {},
   "outputs": [],
   "source": [
    "echo \"#==> Go to https://app.terraform.io/app/${TF_ORG}/workspaces/${TF_WS_NAME}/states\"\n",
    "open https://app.terraform.io/app/${TF_ORG}/workspaces/${TF_WS_NAME}/states"
   ]
  },
  {
   "cell_type": "markdown",
   "id": "7a7b92e5-b8c7-4c2d-863e-e40cb3049014",
   "metadata": {},
   "source": [
    "You've successfully deployed the hashicat application with remote state enabled."
   ]
  },
  {
   "cell_type": "markdown",
   "id": "204e96e2-e5c5-4595-9bf4-25adeffd5c1b",
   "metadata": {},
   "source": [
    "### (optional) Destroy hashicat-aws\n",
    "\n",
    "If you no longer need or you want to start over, you can destroy your resources."
   ]
  },
  {
   "cell_type": "code",
   "execution_count": null,
   "id": "e40edcfe-450d-41a8-b03d-46b6bb30f4be",
   "metadata": {
    "tags": []
   },
   "outputs": [],
   "source": [
    "terraform -chdir=${GIT_DIR} destroy -auto-approve"
   ]
  },
  {
   "cell_type": "markdown",
   "id": "9a73ca96-e007-4246-942b-79ede41a34e6",
   "metadata": {
    "tags": []
   },
   "source": [
    "# 🔐 Securing Cloud Credentials\n",
    "\n",
    "**teaser**:\n",
    "\n",
    "Your team has started building cloud infrastructure on AWS, but the security\n",
    "    team is concerned about protecting access to everyone's cloud credentials.\n",
    "\n",
    "**notes**:\n",
    "<details><summary></summary>\n",
    "\n",
    "After a few weeks on the job you're starting to get into the rhythm of things. Write some code, run some tests, deploy the website. Everything's going great until someone's AWS keys are accidentally pushed to a public code repository. You get this email from William, the lead infosec admin at ACME:\n",
    "\n",
    "> 👮🏿‍♂️ Hello junior admin, we ran a remote scan on your laptop last night and found some unsecured AWS access keys. We need you to move those off your laptop and store them in Terraform Cloud by the end of the day.\n",
    "\n",
    "🤔 Did you know?\n",
    "\n",
    "Thousands of API and cryptographic keys are leaking on GitHub every day!\n",
    "\n",
    "https://nakedsecurity.sophos.com/2019/03/25/thousands-of-coders-are-leaving-their-crown-jewels-exposed-on-github/\n",
    "\n",
    "When you store your API keys as sensitive variables they are encrypted and stored in an instance of HashiCorp Vault. These keys are only decrypted in a trusted, secure container that runs the Terraform command.\n",
    "\n",
    "👩🏼‍💻 Remote Execution, Local Code\n",
    "\n",
    "**Remote Execution** allows you to use the same Terraform commands that you're familiar with, but the run and all your variables are safely stored in your Terraform Cloud workspace. This can be helpful when you're upgrading tools that were originally written for Terraform Open Source.\n",
    "\n",
    "With Remote Execution your Terraform code is still stored on your local machine and sent to the server each time you run.\n",
    "</details>"
   ]
  },
  {
   "cell_type": "markdown",
   "id": "1a040825-6af8-47bd-afe3-fce25dcdef08",
   "metadata": {},
   "source": [
    "## assignment:\n",
    "\n",
    "After the AWS credentials issue, the security team is tightening down access to your AWS account. API keys must now be secured as stored variables in Terraform Cloud. Your task is to find your **AWS Access Key ID** and **Secret Access Key**, and move them into your workspace as secure environment variables.\n",
    "\n",
    "You'll store the Access Key ID as a plain text environment variable, and the Secret Access Key as a **sensitive** environment variable. You may also enter optional descriptions for each variable but this is not required to complete the challenge.\n",
    "\n",
    "> NOTE: Do not set environment variables, if you used `doormat` with `--tf-push`."
   ]
  },
  {
   "cell_type": "markdown",
   "id": "8ac4dc48-ee14-4120-be7d-ba0d74188ba6",
   "metadata": {},
   "source": [
    "1. Find your AWS credentials, which you set earlier."
   ]
  },
  {
   "cell_type": "code",
   "execution_count": null,
   "id": "47749146-237d-4622-a306-8694a525fdd5",
   "metadata": {},
   "outputs": [],
   "source": [
    "echo $AWS_ACCESS_KEY_ID\n",
    "echo $AWS_SECRET_ACCESS_KEY"
   ]
  },
  {
   "cell_type": "markdown",
   "id": "01804b18-f2b7-47d9-8db9-8bce608bec43",
   "metadata": {},
   "source": [
    "2. Or, you might have your AWS credentials stored in `${HOME}/.aws/credentials`."
   ]
  },
  {
   "cell_type": "code",
   "execution_count": null,
   "id": "693dd145-0c1a-4336-a403-4f4492a593fd",
   "metadata": {},
   "outputs": [],
   "source": [
    "# export AWS_ACCESS_KEY_ID=$(grep -A2 default ~/.aws/credentials | awk '/access_key_id/{print $NF}')\n",
    "# export AWS_SECRET_ACCESS_KEY=$(grep -A2 default ~/.aws/credentials | awk '/secret_access_key/{print $NF}')\n",
    "grep -A2 default ~/.aws/credentials | awk '/access_key_id/{print $NF}'\n",
    "grep -A2 default ~/.aws/credentials | awk '/secret_access_key/{print $NF}'"
   ]
  },
  {
   "cell_type": "markdown",
   "id": "8e155372-80f5-4f1b-95bd-1fcee01d1f31",
   "metadata": {},
   "source": [
    "### Configure General Settings for TFC Workspace with UI"
   ]
  },
  {
   "cell_type": "markdown",
   "id": "d3524edc-b367-4f1e-8b24-6f9d46496c47",
   "metadata": {},
   "source": [
    "3. Update the **Execution Mode** settings in your workspace to **Remote** on the **Settings > General tab**.\n",
    "1. Change the **Apply Method** to **Auto apply**. \n",
    "\t* This will save you the trouble of having to approve every Terraform run manually. \n",
    "\t* Click the **Save** button at the bottom of the page!"
   ]
  },
  {
   "cell_type": "markdown",
   "id": "98de6e31-255d-4e0c-b264-0b0d1099ccc3",
   "metadata": {},
   "source": [
    "#### (optional) Modify TFC Workspace with Terraform Provider\n",
    "\n",
    "Instead of using the UI, you can modify your Workspace using the Terraform Provider.\n",
    "\n",
    "Change the `auto_apply` and `execution_mode`."
   ]
  },
  {
   "cell_type": "code",
   "execution_count": null,
   "id": "7ca5f19f-78a5-4ed3-a568-af2dd7c9a1dc",
   "metadata": {},
   "outputs": [],
   "source": [
    "tee ${TFE_PROVIDER_DIR}/terraform.tfvars <<-EOF\n",
    "auto_apply                      = true\n",
    "execution_mode                  = \"remote\"\n",
    "tfc_hashicat_aws_workspace_name = \"${TF_WS_NAME}\"\n",
    "tfc_org                         = \"${TF_ORG}\"\n",
    "terraform_version               = \"$(terraform version -json | jq -r .terraform_version)\"\n",
    "EOF"
   ]
  },
  {
   "cell_type": "code",
   "execution_count": null,
   "id": "60456721-7b92-4147-9bc5-54b24ad3ecf1",
   "metadata": {},
   "outputs": [],
   "source": [
    "terraform -chdir=config/terraform/tfe-provider plan"
   ]
  },
  {
   "cell_type": "code",
   "execution_count": null,
   "id": "d074274f-cd71-4f9d-ae84-e7ac81a1fa64",
   "metadata": {},
   "outputs": [],
   "source": [
    "terraform -chdir=config/terraform/tfe-provider apply -auto-approve"
   ]
  },
  {
   "cell_type": "markdown",
   "id": "a8c22de1-35d9-414f-ae17-08a5b7f996bb",
   "metadata": {},
   "source": [
    "### Configure Variables for TFC Workspace\n",
    "\n",
    "We will cover creating Terraform Workspace Variables in two general ways 1) UI and 2) Provider, API, `tf-helper`."
   ]
  },
  {
   "cell_type": "markdown",
   "id": "cfada82d-9902-4dd5-afe6-1497a227d807",
   "metadata": {},
   "source": [
    "#### Configure Variables in TFC Workspace with UI\n",
    "\n",
    "* Go to the **Variables** tab.\n",
    "* Set **Environment Variables** for your AWS credentials.\n",
    "\t* Store the **`AWS_ACCESS_KEY_ID`** as a regular environment variable.\n",
    "\t* Mark the **`AWS_SECRET_ACCESS_KEY`** as sensitive.\n",
    "* Set **Terraform Variables** for your `prefix` and `region`. \n",
    "\t* Learn more about these variables by looking in the `variables.tf` file.\n",
    "    * Set the same values you used in your `terraform.tfvars` file to avoid all the resources being destroyed and re-created.\n",
    "\t* **NOTE**: You **must** configure these variables on the remote workspace, as they will no longer be read from your local `terraform.tfvars` file.\n",
    "\n",
    "> **TIP**\n",
    "> This code has been tested in the **us-east-1** region. Some regions do not support the `t2.micro` instance type. If you encounter this, switch your region to `us-east-1`.\n",
    "\n",
    "The UI is great and simple for a handful of workspaces. However, if you have to change these values many times and/or for many workspaces, then you want to consider the TFE Provider, API, or utilities like `tf-helper`."
   ]
  },
  {
   "cell_type": "markdown",
   "id": "3253506c-ffb7-49a0-83a9-fd7c693d14ac",
   "metadata": {},
   "source": [
    "#### (optional) Create TFC Workspace Terraform Variables with TFE Provider\n",
    "\n",
    "You can create Workspace variables using the Terraform Provider. We will use the provider to create Terraform variables for `prefix` and `region`."
   ]
  },
  {
   "cell_type": "code",
   "execution_count": null,
   "id": "03cbe278-fe18-485c-af66-f071304ee07f",
   "metadata": {},
   "outputs": [],
   "source": [
    "cat <<-\"EOF\" > config/terraform/tfe-provider/workspace-hashicat-aws-vars.tf\n",
    "## Vault Variables\n",
    "resource \"tfe_variable\" \"prefix\" {\n",
    "  key          = \"prefix\"\n",
    "  value        = var.prefix\n",
    "  category     = \"terraform\"\n",
    "  workspace_id = tfe_workspace.vault.id\n",
    "  description  = \"Workspace that created the Kubernetes k8s\"\n",
    "}\n",
    "\n",
    "resource \"tfe_variable\" \"region\" {\n",
    "  key          = \"region\"\n",
    "  value        = var.region\n",
    "  category     = \"terraform\"\n",
    "  workspace_id = tfe_workspace.vault.id\n",
    "  description  = \"Workspace that created the Consul\"\n",
    "  sensitive    = false\n",
    "}\n",
    "\n",
    "variable \"prefix\" {\n",
    "  description = \"The Terraform Cloud organization to create things in\"\n",
    "  default = \"pphan\"\n",
    "}\n",
    "variable \"region\" {\n",
    "  description = \"The Terraform Cloud organization to create things in\"\n",
    "  default = \"us-east-1\"\n",
    "}\n",
    "EOF"
   ]
  },
  {
   "cell_type": "code",
   "execution_count": null,
   "id": "57273753-2e8d-440f-8d79-4c38a432db0b",
   "metadata": {},
   "outputs": [],
   "source": [
    "terraform -chdir=config/terraform/tfe-provider apply -auto-approve"
   ]
  },
  {
   "cell_type": "markdown",
   "id": "7afcef07-cc1c-4cae-b801-f05bc7189949",
   "metadata": {},
   "source": [
    "#### (optional) Create TFC Workspace Environment Variables with TFC API\n",
    "\n",
    "Instead of using the UI or Terraform Provider, you can create/update TFC variables using the API. We will use the API with `curl` to create TFC Workspace variables for `AWS_ACCESS_KEY_ID` and `AWS_SECRET_ACCESS_KEY`."
   ]
  },
  {
   "cell_type": "code",
   "execution_count": null,
   "id": "0eaf1376-ccfc-4cd4-8526-e6686d835018",
   "metadata": {},
   "outputs": [],
   "source": [
    "# export TF_VAR_aws_access_key_id=${AWS_ACCESS_KEY_ID}\n",
    "# export TF_VAR_aws_secret_access_key=${AWS_SECRET_ACCESS_KEY}\n",
    "\n",
    "export TF_ADDR=https://app.terraform.io\n",
    "# Get the ID of the workspace.\n",
    "export TF_WS_ID=$(terraform -chdir=config/terraform/tfe-provider output -raw workspace_id)\n",
    "export TF_TOKEN=$(jq -r '.credentials.\"app.terraform.io\".token' ${HOME}/.terraform.d/credentials.tfrc.json)\n",
    "echo $TF_WS_ID"
   ]
  },
  {
   "cell_type": "markdown",
   "id": "ff0eff45-e0be-485b-b801-26de36a5f9bd",
   "metadata": {},
   "source": [
    "(optional) Delete the workspace variables. Skip this if you have not created AWS env vars. If they already exist, you can't just overwrite them. They will need to be deleted first."
   ]
  },
  {
   "cell_type": "code",
   "execution_count": null,
   "id": "89a86f9f-2695-4470-a272-eb40f7c982a2",
   "metadata": {},
   "outputs": [],
   "source": [
    "printf \"${GREEN}# Get list of all variables in the workspace${NC}\\n\"\n",
    "list_variables_result=$(curl -s --header \"Authorization: Bearer $TF_TOKEN\" --header \"Content-Type: application/vnd.api+json\" \"${TF_ADDR}/api/v2/vars?filter%5Borganization%5D%5Bname%5D=${TF_ORG}&filter%5Bworkspace%5D%5Bname%5D=${TF_WS_NAME}\" | jq -c)\n",
    "# debugging - uncomment next line\n",
    "# echo $list_variables_result | jq -c\n",
    "\n",
    "printf \"\\n${GREEN}# Create bash function to extract variable IDs and names with python${NC}\\n\"\n",
    "parse_ids_and_names() { python -c '\n",
    "import sys, json\n",
    "parsed = json.load(sys.stdin)\n",
    "id_name_category_dict = \",\".join([v[\"id\"] + \":\" + v[\"attributes\"][\"key\"] + \":\" + v[\"attributes\"][\"category\"] for v in parsed[\"data\"] if v[\"attributes\"][\"key\"].startswith(\"AWS_\")])\n",
    "print(id_name_category_dict)'\n",
    "}\n",
    "printf \"\\n${YELLOW}# We filtered for variables that start with AWS_${NC}\\n\"\n",
    "\n",
    "printf \"\\n${GREEN}# Parse variables from list_variables_result${NC}\\n\"\n",
    "variables_map=$(echo $list_variables_result | parse_ids_and_names)\n",
    "echo ${variables_map} #debugging\n",
    "\n",
    "printf \"\\n${GREEN}# Delete AWS variables in workspace${NC}\\n\"\n",
    "for v in $(echo $variables_map | sed \"s/,/ /g\")\n",
    "do\n",
    "    # Separate ID, name, and category\n",
    "    v_id=$(echo $v | cut -f1 -d\":\")\n",
    "    v_name=$(echo $v | cut -f2 -d\":\")\n",
    "    v_category=$(echo $v | cut -f3 -d\":\")\n",
    "\n",
    "    # Delete variable\n",
    "    echo \"Deleting ${v_category} variable ${v_name}\"\n",
    "    curl -s -H \"Authorization: Bearer ${TF_TOKEN}\" -H \"Content-Type: application/vnd.api+json\" -X DELETE \"${TF_ADDR}/api/v2/vars/${v_id}\"\n",
    "done"
   ]
  },
  {
   "cell_type": "markdown",
   "id": "0f298fea-181c-4777-ad54-8856e76f5e63",
   "metadata": {},
   "source": [
    "Use the API with `curl` to create TFC Workspace variables for `AWS_ACCESS_KEY_ID` and `AWS_SECRET_ACCESS_KEY`."
   ]
  },
  {
   "cell_type": "code",
   "execution_count": null,
   "id": "65f3b228-7e11-4e1b-a369-d3ef6a5b145c",
   "metadata": {
    "tags": []
   },
   "outputs": [],
   "source": [
    "printf \"${GREEN}#==> Set AWS access key${NC}\\n\"\n",
    "cat <<EOF | curl -H \"Authorization: Bearer ${TF_TOKEN}\" -H \"Content-Type: application/vnd.api+json\" -X POST -d @- ${TF_ADDR}/api/v2/workspaces/${TF_WS_ID}/vars \n",
    "{\n",
    "  \"data\": {\n",
    "    \"type\":\"vars\",\n",
    "    \"attributes\": {\n",
    "      \"key\":\"AWS_ACCESS_KEY_ID\",\n",
    "      \"value\":\"${AWS_ACCESS_KEY_ID}\",\n",
    "      \"category\":\"env\",\n",
    "      \"sensitive\":false\n",
    "    }\n",
    "  }\n",
    "}\n",
    "EOF\n",
    "\n",
    "printf \"\\n\\n${GREEN}#==> Set AWS secret key${NC}\\n\"\n",
    "cat <<EOF | curl -H \"Authorization: Bearer ${TF_TOKEN}\" -H \"Content-Type: application/vnd.api+json\" -X POST -d @- ${TF_ADDR}/api/v2/workspaces/${TF_WS_ID}/vars\n",
    "{\n",
    "  \"data\": {\n",
    "    \"type\":\"vars\",\n",
    "    \"attributes\": {\n",
    "      \"key\":\"AWS_SECRET_ACCESS_KEY\",\n",
    "      \"value\":\"${AWS_SECRET_ACCESS_KEY}\",\n",
    "      \"category\":\"env\",\n",
    "      \"sensitive\":true\n",
    "    }\n",
    "  }\n",
    "}\n",
    "EOF\n",
    "\n",
    "printf \"\\n\\n${GREEN}#==> Set AWS session token${NC}\\n\"\n",
    "cat <<EOF | curl -H \"Authorization: Bearer ${TF_TOKEN}\" -H \"Content-Type: application/vnd.api+json\" -X POST -d @- ${TF_ADDR}/api/v2/workspaces/${TF_WS_ID}/vars\n",
    "{\n",
    "  \"data\": {\n",
    "    \"type\":\"vars\",\n",
    "    \"attributes\": {\n",
    "      \"key\":\"AWS_SESSION_TOKEN\",\n",
    "      \"value\":\"${AWS_SESSION_TOKEN}\",\n",
    "      \"category\":\"env\",\n",
    "      \"sensitive\":true\n",
    "    }\n",
    "  }\n",
    "}\n",
    "EOF"
   ]
  },
  {
   "cell_type": "markdown",
   "id": "a6af628c-f1ee-4b2a-95a4-ffeff9bbf4d1",
   "metadata": {},
   "source": [
    "#### (optional) Create TFC Workspace Environment Variables with tf-helper\n",
    "Instead of using the UI or Terraform Provider, you can create/update TFC variables using the `tf-helper` utility. We will overwrite the AWS Workspace Environment Variables."
   ]
  },
  {
   "cell_type": "markdown",
   "id": "cc33bf56-7818-420b-b2c3-db7c40f91354",
   "metadata": {},
   "source": [
    "Install `tf-helper`."
   ]
  },
  {
   "cell_type": "code",
   "execution_count": null,
   "id": "7d0b14cf-7ab0-41d9-b484-977bbdcc2202",
   "metadata": {},
   "outputs": [],
   "source": [
    "wget https://raw.githubusercontent.com/hashicorp-community/tf-helper/release/tfh/bin/tfh\n",
    "git clone git@github.com:hashicorp-community/tf-helper.git\n",
    "pushd tf-helper/tfh/bin\n",
    "ln -s $PWD/tfh /usr/local/bin/tfh\n",
    "popd"
   ]
  },
  {
   "cell_type": "markdown",
   "id": "3546f5ba-59ae-48d0-8e9c-035aa5b1f5f2",
   "metadata": {},
   "source": [
    "Set environment variables that `tf-helper` requires."
   ]
  },
  {
   "cell_type": "code",
   "execution_count": null,
   "id": "dd5db953-e004-483d-9136-633e44ee7fc5",
   "metadata": {},
   "outputs": [],
   "source": [
    "export TFH_token=$TF_TOKEN\n",
    "export TFH_org=$TF_ORG\n",
    "echo $TFH_org\n",
    "export TFH_name=$TF_WS_NAME\n",
    "echo $TFH_name"
   ]
  },
  {
   "cell_type": "code",
   "execution_count": null,
   "id": "55eb7c6b-330e-4234-a285-300471ade8f7",
   "metadata": {},
   "outputs": [],
   "source": [
    "tfh pushvars -var AWS_ACCESS_KEY_ID=$AWS_ACCESS_KEY_ID -svar AWS_SECRET_ACCESS_KEY=${AWS_SECRET_ACCESS_KEY} -vvv -overwrite-all"
   ]
  },
  {
   "cell_type": "markdown",
   "id": "e02d3c8f-4d75-4dfe-8e54-51b7334f74eb",
   "metadata": {},
   "source": [
    "#### Optional list variables using API"
   ]
  },
  {
   "cell_type": "code",
   "execution_count": null,
   "id": "c62a9f7d-d10d-416f-9314-a4e2b932880c",
   "metadata": {
    "tags": []
   },
   "outputs": [],
   "source": [
    "curl -H \"Authorization: Bearer ${TF_TOKEN}\" -H \"Content-Type: application/vnd.api+json\" \\\n",
    "    \"${TF_ADDR}/api/v2/vars?filter%5Borganization%5D%5Bname%5D=${TF_ORG}&filter%5Bworkspace%5D%5Bname%5D=${TF_WS_NAME}\" \\\n",
    "    | jq -rc '.data[]'"
   ]
  },
  {
   "cell_type": "markdown",
   "id": "616f2cde-f018-48bb-acfe-9fa79f7a661f",
   "metadata": {},
   "source": [
    "### Verify"
   ]
  },
  {
   "cell_type": "markdown",
   "id": "dc85243a-2308-49e4-a79a-6348fbf0daf8",
   "metadata": {},
   "source": [
    "* TIP: If you used `doormat` to set your AWS credentials, then changed it with the steps above, you will need to reset with `doormat`."
   ]
  },
  {
   "cell_type": "code",
   "execution_count": null,
   "id": "62c20a86-ec10-4291-928b-2fd743058080",
   "metadata": {},
   "outputs": [],
   "source": [
    "awstfcpush"
   ]
  },
  {
   "cell_type": "markdown",
   "id": "e554881c-9a7c-46af-9ed4-4b3d00e9c586",
   "metadata": {},
   "source": [
    "* Verify by running `terraform init`. Your backend configuration will be updated for remote execution."
   ]
  },
  {
   "cell_type": "code",
   "execution_count": null,
   "id": "3577aa45-4a8a-49eb-a97e-714e3d03bd4d",
   "metadata": {},
   "outputs": [],
   "source": [
    "terraform -chdir=${GIT_DIR} init"
   ]
  },
  {
   "cell_type": "markdown",
   "id": "37690bf5-009e-4748-95c4-c4d88c99aaf2",
   "metadata": {},
   "source": [
    "* Next, try running `terraform plan`. \n",
    "\t* This will trigger what's known as a speculative plan. \n",
    "\t* You can view this plan by clicking the link from your terminal.\n",
    "    * Speculative plans don't show up under the **Runs** tab."
   ]
  },
  {
   "cell_type": "code",
   "execution_count": null,
   "id": "b0d4bd25-e4ac-49af-b56d-36d4269bdea1",
   "metadata": {
    "tags": []
   },
   "outputs": [],
   "source": [
    "terraform -chdir=${GIT_DIR} plan"
   ]
  },
  {
   "cell_type": "markdown",
   "id": "3cd8f913-0f1f-4c4d-a19c-fe0b958ded94",
   "metadata": {},
   "source": [
    "```shell\n",
    "Preparing the remote plan...\n",
    "\n",
    "To view this run in a browser, visit:\n",
    "https://app.terraform.io/app/pphan/hashicat-aws/runs/run-WM1UuA6ytUH7huLT\n",
    "```\n",
    "\t* 📓 This plan will not show up in your TFC **Runs** tab that are triggered via the UI or API.\n",
    "\t* A copy of the output will be streamed back to your terminal. \n",
    "* Run a `terraform apply` to see it in action:\n",
    "\t* The apply will show up if you navigate to the runs page in the Terraform Cloud UI."
   ]
  },
  {
   "cell_type": "code",
   "execution_count": null,
   "id": "ffd7e9ca-7024-4b9c-959b-3f263be17831",
   "metadata": {
    "tags": []
   },
   "outputs": [],
   "source": [
    "terraform -chdir=${GIT_DIR} apply -auto-approve"
   ]
  },
  {
   "cell_type": "markdown",
   "id": "3bfea0c0-39cc-4cba-894c-e5f59a334dd6",
   "metadata": {},
   "source": [
    "### Check Securing Cloud Credentials\n",
    "\n",
    "This section is OPTIONAL but useful if you are running into problems.\n",
    "\n",
    "Below is a set of commands to check if the steps above were all performed. This highlights the power of the Terraform Cloud API."
   ]
  },
  {
   "cell_type": "code",
   "execution_count": null,
   "id": "93e79b3e-df07-433f-9a42-c590f6e7e2a1",
   "metadata": {},
   "outputs": [],
   "source": [
    "printf \"${GREEN}# Test whether remote exec is enabled on the workspace.${NC}\\n\"\n",
    "REMOTE_EXEC_ENABLED=$(curl -s --header \"Authorization: Bearer $TF_TOKEN\" --header \"Content-Type: application/vnd.api+json\" --request GET https://app.terraform.io/api/v2/organizations/$TF_ORG/workspaces/${TF_WS_NAME} | jq .data.attributes.operations)\n",
    "# echo $REMOTE_EXEC_ENABLED\n",
    "[[ $REMOTE_EXEC_ENABLED == true ]] || echo \"Oops, it looks like remote exec is not enabled on your workspace.\"\n",
    "\n",
    "printf \"${GREEN}# Does the workspace have an AWS_ACCESS_KEY_ID${NC}\\n\"\n",
    "PLAINTEXT_ID=$(curl -s --header \"Authorization: Bearer $TF_TOKEN\" --header \"Content-Type: application/vnd.api+json\" \"https://app.terraform.io/api/v2/vars?filter%5Borganization%5D%5Bname%5D=$TF_ORG&filter%5Bworkspace%5D%5Bname%5D=$TF_WS_NAME\"  | jq -r '.data | .[] | select(.attributes.key|test(\"AWS_ACCESS_KEY_ID\")) | .attributes.key')\n",
    "\n",
    "[[ $PLAINTEXT_ID == \"AWS_ACCESS_KEY_ID\" ]] || echo \"Uh oh, we didn't find an environment variable for your AWS_ACCESS_KEY_ID. Try again.\"\n",
    "printf \"${GREEN}# Does the workspace have a secure AWS_SECRET_ACCESS_KEY${NC}\\n\"\n",
    "SECURE_KEY=$(curl -s --header \"Authorization: Bearer $TF_TOKEN\" --header \"Content-Type: application/vnd.api+json\" \"https://app.terraform.io/api/v2/vars?filter%5Borganization%5D%5Bname%5D=$TF_ORG&filter%5Bworkspace%5D%5Bname%5D=$TF_WS_NAME\" | jq '.data | .[] | select(.attributes.key|test(\"AWS_SECRET_ACCESS_KEY\")) | .attributes.sensitive')\n",
    "\n",
    "[[ $SECURE_KEY == true ]] || echo \"Uh oh, we didn't find a secure variable for your AWS_ACCESS_KEY_ID. Try again.\"\n",
    "\n",
    "printf \"${GREEN}# Does the workspace have a prefix variable${NC}\\n\"\n",
    "curl -s --header \"Authorization: Bearer $TF_TOKEN\"   --header \"Content-Type: application/vnd.api+json\" \"https://app.terraform.io/api/v2/vars?filter%5Borganization%5D%5Bname%5D=$TF_ORG&filter%5Bworkspace%5D%5Bname%5D=$TF_WS_NAME\" | grep -q \"prefix\" || fail-message \"Oh dear, it looks like you don't have a Terraform variable called 'prefix' in your workspace.\"\n",
    "\n",
    "printf \"${GREEN}# Does the workspace have a region variable${NC}\\n\"\n",
    "curl -s --header \"Authorization: Bearer $TF_TOKEN\"   --header \"Content-Type: application/vnd.api+json\" \"https://app.terraform.io/api/v2/vars?filter%5Borganization%5D%5Bname%5D=$TF_ORG&filter%5Bworkspace%5D%5Bname%5D=$TF_WS_NAME\" | grep -q \"region\" || fail-message \"Oh dear, it looks like you don't have a Terraform variable called 'region' in your workspace.\""
   ]
  },
  {
   "cell_type": "markdown",
   "id": "090a42e4-a585-4bed-ab5e-5ab7f76dc59f",
   "metadata": {},
   "source": [
    "Congratulations, your AWS keys are now safely encrypted and stored in your Terraform Cloud workspace.\n",
    "\n",
    "You can continue to run `terraform plan` and `terraform apply` in your terminal, but the execution is now done in Terraform Cloud.\n",
    "\n",
    "---"
   ]
  },
  {
   "cell_type": "markdown",
   "id": "d3ec7a16-59ff-48bd-be07-b23270aa6d67",
   "metadata": {},
   "source": [
    "## Next Steps\n",
    "\n",
    "If you no longer need this environment, proceed to the Clean Up section. Or you can go to the next part [Terraform Cloud AWS Part 2](Terraform_Cloud_AWS_2.ipynb)."
   ]
  },
  {
   "cell_type": "markdown",
   "id": "3b9fd0c3-9d54-44e2-b5f0-9cca015e5e9c",
   "metadata": {},
   "source": [
    "# Clean Up"
   ]
  },
  {
   "cell_type": "markdown",
   "id": "2c5020c1-beb7-46ea-998f-da5896c91bd6",
   "metadata": {},
   "source": [
    "### Destroy hashicat-aws"
   ]
  },
  {
   "cell_type": "code",
   "execution_count": null,
   "id": "1bb00fae-908c-4a00-98eb-421056138199",
   "metadata": {},
   "outputs": [],
   "source": [
    "cd $MAIN_DIR; pwd"
   ]
  },
  {
   "cell_type": "code",
   "execution_count": null,
   "id": "6b7f616e-8600-46dd-8611-7b228f313e7c",
   "metadata": {
    "tags": []
   },
   "outputs": [],
   "source": [
    "terraform -chdir=config/terraform/hashicat-aws destroy"
   ]
  },
  {
   "cell_type": "markdown",
   "id": "0f427a3a-f5e3-454f-b6c4-c843001ca7c2",
   "metadata": {},
   "source": [
    "### Destroy hashicat-aws workspace"
   ]
  },
  {
   "cell_type": "code",
   "execution_count": null,
   "id": "25e298cc-037f-4429-9f1b-6febe38e4140",
   "metadata": {},
   "outputs": [],
   "source": [
    "terraform -chdir=config/terraform/tfe-provider destroy -auto-approve"
   ]
  },
  {
   "cell_type": "markdown",
   "id": "3884f0f2-2d75-4e8c-8d57-6ed4b4015647",
   "metadata": {},
   "source": [
    "### Destroy hashicat-aws artifacts\n",
    "\n",
    "Destroy the cloned `hashicat-aws` directory and the `tfe-provider` directory."
   ]
  },
  {
   "cell_type": "code",
   "execution_count": null,
   "id": "79d0b0e5-b28d-495a-ab23-4f8ac2340f73",
   "metadata": {},
   "outputs": [],
   "source": [
    "rm -rf config/terraform/hashicat-aws\n",
    "rm -rf config/terraform/tfe-provider"
   ]
  }
 ],
 "metadata": {
  "kernelspec": {
   "display_name": "Bash",
   "language": "bash",
   "name": "bash"
  },
  "language_info": {
   "codemirror_mode": "shell",
   "file_extension": ".sh",
   "mimetype": "text/x-sh",
   "name": "bash"
  }
 },
 "nbformat": 4,
 "nbformat_minor": 5
}
