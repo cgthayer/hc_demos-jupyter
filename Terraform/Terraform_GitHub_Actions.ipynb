{
 "cells": [
  {
   "cell_type": "markdown",
   "id": "a496e5bd-ba4c-47df-8a40-cf1795488b50",
   "metadata": {},
   "source": [
    "# Automate Terraform with GitHub Actions\n",
    "\n",
    "GitHub Actions add continuous integration to GitHub repositories to automate your software builds, tests, and deployments. Automating Terraform with CI/CD enforces configuration best practices, promotes collaboration and automates the Terraform workflow.\n",
    "\n",
    "HashiCorp's \"[Setup Terraform](https://github.com/marketplace/actions/hashicorp-setup-terraform)\" GitHub Action sets up and configures the Terraform CLI in your Github Actions workflow. This allows most Terraform commands to work exactly like they do on your local command line.\n",
    "\n",
    "In this tutorial, you will set up a complete GitHub Actions workflow to deploy a publicly accessible web server within a Terraform Cloud workspace.\n",
    "\n",
    "<img alt=Terraform Cloud and GitHub Actions Workflow src=https://learn.hashicorp.com/img/terraform/automation/tfc-gh-actions-workflow.png width=640>\n",
    "\n",
    "The workflow will:\n",
    "\n",
    "1. check whether the configuration is formatted properly to demonstrate how you can enforce best practices\n",
    "2. generate a plan for every pull requests\n",
    "3. apply the configuration when you update the `main` branch\n",
    "\n",
    "Then, you will create and merge a pull request to test the workflow.\n",
    "\n",
    "Terraform Cloud's built-in support for GitHub webhooks can accomplish this generic workflow. However, by performing the run from an Actions workflow, you can customize the workflow by adding additional steps before and after your Terraform commands."
   ]
  },
  {
   "cell_type": "markdown",
   "id": "09eaa182-60f1-415c-89df-268ffe600940",
   "metadata": {},
   "source": [
    "## Prerequisites\n",
    "\n",
    "For this tutorial, you will need:\n",
    "\n",
    "- A [GitHub account](https://github.com/join)\n",
    "- A [Terraform Cloud account](https://app.terraform.io)\n",
    "<!-- - An [AWS account](https://aws.amazon.com/account/) and AWS Access Credentials\n",
    " -->\n",
    "\n",
    "<!-- If you don't have AWS Access Credentials, create your AWS Access Key ID and Secret Access Key by navigating to your [IAM security credentials](https://console.aws.amazon.com/iam/home?#/security_credentials) in the AWS console. Click \"Create access key\" here and download the file. This file contains your access credentials. -->\n",
    "\n",
    "<!-- > **Note:** This tutorial will provision resources that qualify under the [AWS free-tier](https://aws.amazon.com/free/). If your account doesn't qualify under the AWS free-tier, we're not responsible for any charges that you may incur. -->"
   ]
  },
  {
   "cell_type": "markdown",
   "id": "82e432bc-591e-4c6a-8831-8f7ff1b2b1af",
   "metadata": {
    "toc-hr-collapsed": true
   },
   "source": [
    "## Set up Terraform Cloud\n",
    "\n",
    "The GitHub Action you create will connect to Terraform Cloud to plan and apply your configuration. Before we set up the Actions workflow, you must:\n",
    "* create a workspace\n",
    "* generate a user API token.\n",
    "<!-- * add your AWS service credentials to your Terraform Cloud workspace -->"
   ]
  },
  {
   "cell_type": "markdown",
   "id": "740a1a5a-4c75-4615-a773-be0319e81920",
   "metadata": {},
   "source": [
    "### Create Terraform Cloud Workspace\n",
    "\n",
    "<details><summary>Terraform Cloud Workspace</summary>\n",
    "\n",
    "* First, create a new Terraform Cloud workspace named `gh-actions-demo`.\n",
    "    * Go to the Create a new Workspace page - Workspaces and click \"New Workspace\".\n",
    "\t* Select \"**API-driven workflow**\".\n",
    "\t* Name your workspace `gh-actions-demo`\n",
    "    * Click \"**Create workspace**\".\n",
    "\n",
    "<img alt=\"Create new Terraform Cloud workspace named gh-actions-demo\" src=https://learn.hashicorp.com/img/terraform/automation/create-tfc-workspace.gif width=640>\n",
    "</details>\n",
    "\n",
    "<details><summary>Cloud Credentials</summary>\n",
    "\n",
    "* Next, add the following as **Environment Variables** for your `gh-actions-demo` workspace with their respective values from the access credentials file you downloaded from AWS earlier.\n",
    "\t* `AWS_ACCESS_KEY_ID`\n",
    "\t* `AWS_SECRET_ACCESS_KEY`\n",
    "\t* Mark both of these values as `sensitive`.\n",
    "        * Terraform Cloud will use these credentials to authenticate to AWS. You will see something similar to the image below.\n",
    "\n",
    "* Azure Secrets\n",
    "\t* `ARM_TENANT_ID`\n",
    "\t* `ARM_SUBSCRIPTION_ID`\n",
    "\t* `ARM_CLIENT_SECRET`\n",
    "\t* `ARM_CLIENT_ID`\n",
    "\n",
    "<img alt=\"Assign AWS Credentials as Terraform Cloud workspace environment variables.\" src=\"https://learn.hashicorp.com/img/terraform/automation/assign-aws-creds-as-env-variables.png\" width=640>\n",
    "    \n",
    "</details>\n",
    "\n",
    "<details><summary>Terraform Cloud API Token</summary>\n",
    "\n",
    "* Finally, go to the [Tokens page](https://app.terraform.io/app/settings/tokens) in your Terraform Cloud User Settings.\n",
    "\t* Click on \"**Create an API token**\" and generate an API token named `GitHub Actions`.\n",
    "    * Save this token in a safe place.\n",
    "        * You will add it to GitHub later as a secret, so the Actions workflow can authenticate to Terraform Cloud.\n",
    "\n",
    "<img alt=\"Generate Terraform Cloud User Token\" src=https://learn.hashicorp.com/img/terraform/automation/generate-tfc-user-token.gif width=640>\n",
    "</details>"
   ]
  },
  {
   "cell_type": "markdown",
   "id": "d2f28b8a-f431-4c90-b784-702162635fe5",
   "metadata": {},
   "source": [
    "## Set up a GitHub repository\n",
    "\n",
    "<!-- * Fork the [Learn Terraform GitHub Actions](https://github.com/hashicorp/learn-terraform-github-actions) repository. -->\n",
    "* Fork the [test-workspace-triggers](https://github.com/cneralich/test-workspace-triggers) repository.\n",
    "* Create a repository secret for Terraform Cloud API.\n",
    "\t* In your **forked** repository, navigate to \"**Settings**\" then \"**Secrets**\".\n",
    "\t* Click \"New Repository Secret\"\n",
    "    * Name it `TF_API_TOKEN`.\n",
    "    * Set the Value to the Terraform Cloud API token you created previously.\n",
    "    * Click \"Add secret\".\n",
    "\n",
    "<img src=https://learn.hashicorp.com/img/terraform/automation/add-tfc-api-token-gh-secrets.gif alt=\"Add Terraform Cloud API Token as GitHub Secret in forked repository.\" width=640>\n",
    "\n",
    "* Navigate to the \"**Actions**\" tab and enable this pre-configured workflow by clicking \"**I understand my workflows, go ahead and enable them.**\"\n",
    "\n",
    "<img src=https://learn.hashicorp.com/img/terraform/automation/enableactions.png alt=\"Enable workflow actions in GitHub fork\" width=640>\n",
    "\n",
    "* Then, clone your forked repository to your local machine.\n",
    "\t* Remember to replace `YOUR-USER_NAME` with your GitHub username if you are using the command below.\n",
    "\n",
    "```shell\n",
    "git clone https://github.com/YOUR-USER-NAME/test-workspace-triggers\n",
    "```"
   ]
  },
  {
   "cell_type": "markdown",
   "id": "d51a484d-e231-4534-a8a1-f4b130f93ca8",
   "metadata": {},
   "source": [
    "Sample that I use."
   ]
  },
  {
   "cell_type": "code",
   "execution_count": 3,
   "id": "07462d6f-753d-460b-b9f5-e6ff6284662e",
   "metadata": {},
   "outputs": [
    {
     "name": "stdout",
     "output_type": "stream",
     "text": [
      "\u001b[?2004h\u001b[?2004l"
     ]
    },
    {
     "ename": "",
     "evalue": "1",
     "output_type": "error",
     "traceback": []
    }
   ],
   "source": [
    "# Save our directories as env variables so we don't get lost.\n",
    "export WORK_DIR=config/terraform/test-workspace-triggers\n",
    "export MAIN_DIR=$PWD"
   ]
  },
  {
   "cell_type": "code",
   "execution_count": 190,
   "id": "a7d2c178-67f3-4349-8d61-9552f8cd5353",
   "metadata": {},
   "outputs": [
    {
     "name": "stdout",
     "output_type": "stream",
     "text": [
      "Cloning into 'config/terraform/test-workspace-triggers'...\n",
      "remote: Enumerating objects: 41, done.\u001b[K\n",
      "remote: Counting objects: 100% (41/41), done.\u001b[K\n",
      "remote: Compressing objects: 100% (33/33), done.\u001b[K\n",
      "remote: Total 41 (delta 7), reused 8 (delta 2), pack-reused 0\u001b[K\n",
      "Receiving objects: 100% (41/41), 8.81 KiB | 8.81 MiB/s, done.\n",
      "Resolving deltas: 100% (7/7), done.\n",
      "\u001b[?2004h"
     ]
    },
    {
     "ename": "",
     "evalue": "1",
     "output_type": "error",
     "traceback": []
    }
   ],
   "source": [
    "# Create config/terraform folder to place cloned repo\n",
    "mkdir -p config/terraform\n",
    "git clone https://github.com/phanclan/test-workspace-triggers $WORK_DIR"
   ]
  },
  {
   "cell_type": "markdown",
   "id": "1d2e8b8b-2f66-427e-82ee-29f7bda82c57",
   "metadata": {},
   "source": [
    "**FOR MONOREPO SCENARIOS - JUMP TO MONOREPO USE CASES SECTION**"
   ]
  },
  {
   "cell_type": "markdown",
   "id": "e8c66c3c-628e-47ea-9eab-44f04ab1754f",
   "metadata": {
    "tags": []
   },
   "source": [
    "## Review/Build Actions workflow\n",
    "\n",
    "There is one sample terraform file `main.tf`.\n",
    "\n",
    "We will add two files to your local repository.\n",
    "\n",
    "- `versions.tf` contains the configuration to use Terraform Cloud as a backend\n",
    "<!-- and to deploy a publicly accessible EC2 instance. -->\n",
    "- `.github/workflows/terraform.yml` - defines the Actions workflow."
   ]
  },
  {
   "cell_type": "markdown",
   "id": "3d586224-15b7-4ab7-b090-0e8cabb4ceae",
   "metadata": {
    "tags": [],
    "toc-hr-collapsed": true
   },
   "source": [
    "Create your `.github/workflows/terraform.yml` file."
   ]
  },
  {
   "cell_type": "code",
   "execution_count": 15,
   "id": "23f70d36-a193-4f16-8fec-e6b7c2427446",
   "metadata": {},
   "outputs": [
    {
     "name": "stdout",
     "output_type": "stream",
     "text": [
      "\u001b[?2004h\u001b[?2004l\u001b[?2004l\u001b[?2004l\u001b[?2004l\u001b[?2004l\u001b[?2004l\u001b[?2004l\u001b[?2004l\u001b[?2004l\u001b[?2004l\u001b[?2004l\u001b[?2004l\u001b[?2004l\u001b[?2004l\u001b[?2004l\u001b[?2004l\u001b[?2004l\u001b[?2004l\u001b[?2004l\u001b[?2004l\u001b[?2004l\u001b[?2004l\u001b[?2004l\u001b[?2004l\u001b[?2004l\u001b[?2004l\u001b[?2004l\u001b[?2004l\u001b[?2004l\u001b[?2004l\u001b[?2004l\u001b[?2004l\u001b[?2004l\u001b[?2004l\u001b[?2004l\u001b[?2004l\u001b[?2004l\u001b[?2004l\u001b[?2004l\u001b[?2004l\u001b[?2004l\u001b[?2004l\u001b[?2004l\u001b[?2004l\u001b[?2004l\u001b[?2004l\u001b[?2004l\u001b[?2004l\u001b[?2004l\u001b[?2004l\u001b[?2004l\u001b[?2004l\u001b[?2004l\u001b[?2004l\u001b[?2004l\u001b[?2004l\u001b[?2004l\u001b[?2004l\u001b[?2004l\u001b[?2004l\u001b[?2004l\u001b[?2004l\u001b[?2004l\u001b[?2004l\u001b[?2004l\u001b[?2004l\u001b[?2004l\u001b[?2004l\u001b[?2004l\u001b[?2004l\u001b[?2004l\u001b[?2004l\u001b[?2004l\u001b[?2004l\u001b[?2004l\u001b[?2004l\u001b[?2004l\u001b[?2004l\u001b[?2004l\u001b[?2004l\u001b[?2004l\u001b[?2004l\u001b[?2004l\u001b[?2004l"
     ]
    },
    {
     "ename": "",
     "evalue": "1",
     "output_type": "error",
     "traceback": []
    }
   ],
   "source": [
    "mkdir -p $MAIN_DIR/$WORK_DIR/.github/workflows\n",
    "cat << \"EOF\" > $MAIN_DIR/$WORK_DIR/.github/workflows/terraform.yml\n",
    "name: \"terraform-plan-approve-apply\"\n",
    "\n",
    "on:\n",
    "  push:\n",
    "    branches:\n",
    "      - main\n",
    "  pull_request:\n",
    "\n",
    "jobs:\n",
    "  terraform:\n",
    "    name: \"Terraform\"\n",
    "    defaults:\n",
    "      run:\n",
    "        working-directory: .\n",
    "        shell: bash # Use the Bash shell regardless if runner is ubuntu, macos, or windows\n",
    "    runs-on: ubuntu-latest\n",
    "    steps:\n",
    "      # Checkout the repository to the GitHub Actions runner\n",
    "      - name: Checkout repository\n",
    "        uses: actions/checkout@v2\n",
    "      # Install Terraform CLI. Specify a Terraform Cloud user API token\n",
    "      - name: Install and Setup Terraform\n",
    "        uses: hashicorp/setup-terraform@v1\n",
    "        with:\n",
    "          terraform_version: 0.14.0\n",
    "          cli_config_credentials_token: ${{ secrets.TF_API_TOKEN }}\n",
    "      # Checks that all Terraform configuration files adhere to a canonical format\n",
    "      - name: Terraform Format\n",
    "        id: fmt\n",
    "        run: terraform fmt -check\n",
    "\n",
    "      # Initialize Terraform working directory - create initial files, load any remote state, download modules, etc.\n",
    "      - name: Terraform Init\n",
    "        id: init\n",
    "        run: terraform init -input=false\n",
    "\n",
    "      - name: Terraform Validate\n",
    "        id: validate\n",
    "        run: terraform validate -no-color\n",
    "\n",
    "      # Generates an execution plan for Terraform\n",
    "      - name: Terraform Plan\n",
    "        id: plan\n",
    "        if: github.event_name == 'pull_request'\n",
    "        run: terraform plan -no-color -input=false\n",
    "        continue-on-error: true\n",
    "\n",
    "      - name: Update Pull Request\n",
    "        uses: actions/github-script@0.9.0\n",
    "        if: github.event_name == 'pull_request'\n",
    "        env:\n",
    "          PLAN: \"terraform\\n${{ steps.plan.outputs.stdout }}\"\n",
    "        with:\n",
    "          github-token: ${{ secrets.GITHUB_TOKEN }}\n",
    "          script: |\n",
    "            const output = `#### Terraform Format and Style 🖌\\`${{ steps.fmt.outcome }}\\`\n",
    "            #### Terraform Initialization ⚙️\\`${{ steps.init.outcome }}\\`\n",
    "            #### Terraform Validation 🤖\\`${{ steps.validate.outcome }}\\`\n",
    "            #### Terraform Plan 📖\\`${{ steps.plan.outcome }}\\`\n",
    "\n",
    "            <details><summary>Show Plan</summary>\n",
    "\n",
    "            \\`\\`\\`\\n\n",
    "            ${process.env.PLAN}\n",
    "            \\`\\`\\`\n",
    "\n",
    "            </details>\n",
    "\n",
    "            *Pusher: @${{ github.actor }}, Action: \\`${{ github.event_name }}\\`*`;\n",
    "\n",
    "            github.issues.createComment({\n",
    "              issue_number: context.issue.number,\n",
    "              owner: context.repo.owner,\n",
    "              repo: context.repo.repo,\n",
    "              body: output\n",
    "            })\n",
    "\n",
    "      - name: Terraform Plan Status\n",
    "        if: steps.plan.outcome == 'failure'\n",
    "        run: exit 1\n",
    "\n",
    "      - name: Terraform Apply\n",
    "        if: github.ref == 'refs/heads/main' && github.event_name == 'push'\n",
    "        run: terraform apply -auto-approve -input=false\n",
    "EOF"
   ]
  },
  {
   "cell_type": "code",
   "execution_count": 4,
   "id": "647082b0-2d53-425a-a36d-eea2e1840c57",
   "metadata": {},
   "outputs": [
    {
     "name": "stdout",
     "output_type": "stream",
     "text": [
      "/Users/pephan/OneDrive/code/vault_transit_test/hc_demos-jupyter/Terraform/config/terraform/test-workspace-triggers\n",
      "Already on 'main'[?2004l\u001b[?2004l\n",
      "Your branch is up to date with 'origin/main'.\n",
      "On branch main4l\n",
      "Your branch is up to date with 'origin/main'.\n",
      "\n",
      "nothing to commit, working tree clean\n",
      "# Add your changes (.github) to your branch's staging area.\n",
      "# Commit these changes with a message.\n",
      "On branch main4l\n",
      "Your branch is up to date with 'origin/main'.\n",
      "\n",
      "nothing to commit, working tree clean\n",
      "# Push these changes.04l\n",
      "Everything up-to-date\n",
      "\u001b[?2004h\u001b[?2004l"
     ]
    },
    {
     "ename": "",
     "evalue": "1",
     "output_type": "error",
     "traceback": []
    }
   ],
   "source": [
    "cd $MAIN_DIR/$WORK_DIR; pwd\n",
    "\n",
    "# Make sure you on main branch. see changes.\n",
    "git switch main\n",
    "git status\n",
    "\n",
    "echo \"# Add your changes (.github) to your branch's staging area.\"\n",
    "git add .github\n",
    "\n",
    "echo \"# Commit these changes with a message.\"\n",
    "git commit -m 'Upload GitHub Actions workflow.'\n",
    "\n",
    "echo \"# Push these changes.\"\n",
    "git push\n",
    "# git push --set-upstream origin update-tfc-backend"
   ]
  },
  {
   "cell_type": "markdown",
   "id": "e79d10ce-f80e-407d-a561-0b064580a70b",
   "metadata": {},
   "source": [
    "### Review your workflow file\n",
    "\n",
    "The first line defines the name of the Actions workflow — `Terraform`.\n",
    "\n",
    "```yaml\n",
    "name: 'Terraform'\n",
    "```\n",
    "\n",
    "Next, define which events to trigger the workflow. This workflow should be triggered for two events:\n",
    "\n",
    "* a `push` to the `main` branch\n",
    "* or a `pull_request` on any branch\n",
    "\n",
    "```yaml\n",
    "on:\n",
    "  push:\n",
    "    branches:\n",
    "      - main\n",
    "  pull_request:\n",
    "```"
   ]
  },
  {
   "cell_type": "markdown",
   "id": "772fbfc4-440e-452b-8109-26d84585a6d1",
   "metadata": {},
   "source": [
    "**jobs**\n",
    "<details><summary></summary>\n",
    "\n",
    "Then, the configuration defines a job.\n",
    "\n",
    "```yaml\n",
    "jobs:\n",
    "  terraform:\n",
    "    name: 'Terraform'\n",
    "    runs-on: ubuntu-latest\n",
    "    defaults:\n",
    "      run:\n",
    "        working-directory: .\n",
    "    steps:\n",
    "```\n",
    "\n",
    "* The first sub-level for jobs is the **job** ID: `Terraform`\n",
    "* `runs-on` - specifies the type of runner to use: `ubuntu-latest`\n",
    "* `workding-directory` - the default working directory is `.`.\n",
    "* `steps` - the steps the job should process\n",
    "</details>"
   ]
  },
  {
   "attachments": {
    "beff6b34-9d2f-4a6e-a942-4da273b70a50.png": {
     "image/png": "[encoded data removed]"
    }
   },
   "cell_type": "markdown",
   "id": "a4d72ec4-c62c-4c3b-965e-63e38dbbd9dd",
   "metadata": {},
   "source": [
    "> You should specify a `name` and an `id` for each step. The `name` will make it easier to read in the console output of GitHub Actions and the `id` will uniquely identify a step. \n",
    "\n",
    "These steps define all actions in the workflow. However, this job does not run every step when you trigger the action. Some of these steps only run from \"pull requests\"; others only run only when you \"merge a commit to `main`\".\n",
    "\n",
    "<img alt=\"pr-master-gh-actions-workflow.png\" src=attachment:beff6b34-9d2f-4a6e-a942-4da273b70a50.png width=640>\n",
    "\n",
    "#### GitHub Actions workflow.\n",
    "\n",
    "* **Both workflows** completes the following steps:\n",
    "    * \"Checkout\", \"Setup Terraform\", \"Terraform Format\", \"Terraform Init\", \"Terraform Validate\".\n",
    "* The **pull request workflow** then completes the following:\n",
    "    * \"Terraform Plan\", \"Update Pull Request\", and \"Terraform Plan Status\".\n",
    "* The **merge to master workflow** goes directly to the \"Terraform Apply\" step.\n",
    "\n",
    "The first two steps call for **actions** and the rest launch Terraform commands via the runner's shell."
   ]
  },
  {
   "cell_type": "markdown",
   "id": "352ee658-4fa0-4891-948c-cd203cb42f92",
   "metadata": {},
   "source": [
    "<details><summary>Step 1 - Checkout</summary>\n",
    "\n",
    "The first action ( `uses: actions/checkout@v2`) allows you to retrieve the project code.\n",
    "\n",
    "- **Checkout** action should always be the first step. It check outs the current configuration.\n",
    "    - [`uses`](https://docs.github.com/en/actions/reference/workflow-syntax-for-github-actions#jobsjob_idstepsuses) specifies the action/Docker image to run that specific step.\n",
    "    - The checkout step \"uses\" GitHub's `actions/checkout@v2` action.\n",
    "\n",
    "```yaml\n",
    "  - name: Checkout\n",
    "    uses: actions/checkout@v2\n",
    "```\n",
    "</details>\n",
    "\n",
    "<details><summary>Step 2 - Terraform Setup</summary>\n",
    "\n",
    "- `uses: hashicorp/setup-terraform@v1` retrieves and configures the Terraform CLI used in the GitHub action workflow.\n",
    "\t- The `with` field gives the ability to add Terraform based inputs such as hostname, token, version, and wrapper.\n",
    "    - We modify the version using the `terraform_version` attribute.\n",
    "        - By default, the latest stable version of the binary is downloaded.\n",
    "\t- We load the `TF_API_TOKEN` secret as an environment variable, enabling the Terraform CLI to authenticate to Terraform Cloud.\n",
    "\n",
    "```yaml\n",
    "  - name: Setup Terraform\n",
    "    uses: hashicorp/setup-terraform@v1\n",
    "    with:\n",
    "      terraform_version: 0.14.0\n",
    "      cli_config_credentials_token: ${{ secrets.TF_API_TOKEN }}\n",
    "```\n",
    "</details>"
   ]
  },
  {
   "cell_type": "markdown",
   "id": "cf0b5803-07d9-44e3-af70-4f003f3cbfaa",
   "metadata": {},
   "source": [
    "The next few steps allow for direct interaction with the Terraform CLI via the `run` field."
   ]
  },
  {
   "cell_type": "markdown",
   "id": "db953c89-0d00-48a1-a38c-54fda9ae6fe4",
   "metadata": {},
   "source": [
    "<details><summary>Step 3 - Terraform Format</summary>\n",
    "\n",
    "- `Terraform Format` checks whether the configuration has been properly formatted. If the configuration isn't properly formatted this step will produce an error. It enforces Terraform best practices by preventing your team from merging misformatted configuration to `main`.\n",
    "\n",
    "```yaml\n",
    "  - name: Terraform Format\n",
    "    id: fmt\n",
    "    run: terraform fmt -check\n",
    "```\n",
    "</details>\n",
    "\n",
    "<details><summary>Step 4 - Terraform Init</summary>\n",
    "\n",
    "- `Terraform Init` initializes the configuration used in the GitHub action workflow.\n",
    "\n",
    "```yaml\n",
    "  - name: Terraform Init\n",
    "    id: init\n",
    "    run: terraform init -input=false\n",
    "```\n",
    "</details>\n",
    "\n",
    "<details><summary>Step 5 - Terraform Validate</summary>\n",
    "\n",
    "- `Terraform Validate` Checks that all Terraform configuration files adhere to a canonical format.\n",
    "\n",
    "```yaml\n",
    "  - name: Terraform Validate\n",
    "    id: validate\n",
    "    run: terraform validate\n",
    "```\n",
    "</details>\n",
    "\n",
    "<details><summary>Step 6 - Terraform Plan</summary>\n",
    "\n",
    "- `Terraform Plan` generates a Terraform plan. Since `main.tf` defines Terraform Cloud as the backend, this step triggers a remote plan run in the Terraform Cloud. Notice:\n",
    "\t* This step only runs on pull requests. The PR generates a plan. When the PR is merged, that plan will be applied.\n",
    "\t* `continue-on-error: true` - This step will continue even when it errors. This allows the next step to display the plan error message even if this step fails.\n",
    "\n",
    "```yaml\n",
    "  - name: Terraform Plan\n",
    "    id: plan\n",
    "    if: github.event_name == 'pull_request'\n",
    "    run: terraform plan -no-color\n",
    "    continue-on-error: true\n",
    "```\n",
    "</details>\n",
    "\n",
    "<details><summary>Step 7 - Pull Request</summary>\n",
    "\n",
    "- `Update Pull Request` adds a comment to the pull request with the results of the format, init and plan steps.\n",
    "    - In addition, it displays the plan output (`steps.plan.outputs.stdout`).\n",
    "    - This allows your team to review the results of the plan directly in the PR instead of opening Terraform Cloud.\n",
    "    - This step only runs on pull requests.\n",
    "\n",
    "```yaml\n",
    "  - name: Update Pull Request\n",
    "    uses: actions/github-script@0.9.0\n",
    "    if: github.event_name == 'pull_request'\n",
    "    env:\n",
    "      PLAN: \"terraform\\n${{ steps.plan.outputs.stdout }}\"\n",
    "    with:\n",
    "      github-token: ${{ secrets.GITHUB_TOKEN }}\n",
    "      script: |\n",
    "        const output = `#### Terraform Format and Style 🖌\\`${{ steps.fmt.outcome }}\\`\n",
    "        #### Terraform Initialization ⚙️\\`${{ steps.init.outcome }}\\`\n",
    "        #### Terraform Plan 📖\\`${{ steps.plan.outcome }}\\`\n",
    "\n",
    "        <details><summary>Show Plan</summary>\n",
    "        \\`\\`\\`${process.env.PLAN}\\`\\`\\`\n",
    "        </details>\n",
    "\n",
    "        *Pusher: @${{ github.actor }}, Action: \\`${{ github.event_name }}\\`*`;\n",
    "\n",
    "        github.issues.createComment({\n",
    "          issue_number: context.issue.number,\n",
    "          owner: context.repo.owner,\n",
    "          repo: context.repo.repo,\n",
    "          body: output\n",
    "        })\n",
    "```\n",
    "</details>\n",
    "\n",
    "<details><summary>Step 8 - Plan Status</summary>\n",
    "\n",
    "- **Terraform Plan Status** returns whether a plan was successfully generated or not. This step highlights whenever a plan fails because the \"Terraform Plan\" step continues on error.\n",
    "\n",
    "```yaml\n",
    "  - name: Terraform Plan Status\n",
    "    if: steps.plan.outcome == 'failure'\n",
    "    run: exit 1\n",
    "```\n",
    "</details>\n",
    "\n",
    "<details><summary>Step 9 - Terraform Apply</summary>\n",
    "\n",
    "- `Terraform Apply` applies the configuration. This step will only run when a commit is pushed to `main`.\n",
    "\n",
    "```yaml\n",
    "  - name: Terraform Apply\n",
    "    if: github.ref == 'refs/heads/main' && github.event_name == 'push'\n",
    "    run: terraform apply -auto-approve\n",
    "```\n",
    "\n",
    "* `if: github.ref == 'refs/heads/main' && github.event_name == 'push'` - allows you to launch a step based on one or more conditions.\n",
    "    * In this example, it needs to be for the `main` branch and for `push` event.\n",
    "\n",
    "> **TIP:** In a production environment, consider adding \"Require status checks to pass before merging\" as a [Branch Protection rule](https://docs.github.com/en/enterprise/2.16/admin/developer-workflow/configuring-protected-branches-and-required-status-checks). This adds another layer of protection, ensuring that this workflow successfully completes before changes are merged into `main`.\n",
    "\n",
    "</details>\n",
    "\n",
    "---"
   ]
  },
  {
   "cell_type": "markdown",
   "id": "de413a53-1af0-49ee-aec1-f186c2db55a9",
   "metadata": {},
   "source": [
    "## Create pull request\n",
    "\n",
    "* Create a new branch in your forked repo named `update-tfc-backend`."
   ]
  },
  {
   "cell_type": "code",
   "execution_count": 5,
   "id": "499cda99-cad4-44cb-9ad0-8b01f7ea6733",
   "metadata": {},
   "outputs": [
    {
     "name": "stdout",
     "output_type": "stream",
     "text": [
      "Switched to branch 'update-tfc-backend'\n",
      "Your branch is up to date with 'origin/update-tfc-backend'.\n",
      "\u001b[?2004h"
     ]
    },
    {
     "ename": "",
     "evalue": "1",
     "output_type": "error",
     "traceback": []
    }
   ],
   "source": [
    "cd $MAIN_DIR/$WORK_DIR; pwd\n",
    "git checkout -b 'update-tfc-backend'\n",
    "\n",
    "### uncomment next line if your branch already exists\n",
    "# git switch update-tfc-backend"
   ]
  },
  {
   "cell_type": "markdown",
   "id": "3f32a540-1704-4f3a-94df-91b63c2744d3",
   "metadata": {},
   "source": [
    "* Create a `versions.tf` file with the Terraform Cloud organization and workspace you created earlier. Set the value for `TF_ORG` with your own organization name."
   ]
  },
  {
   "cell_type": "code",
   "execution_count": 11,
   "id": "d73f0af3-14a2-4956-8c43-3ab1d09fbcd0",
   "metadata": {},
   "outputs": [
    {
     "name": "stdout",
     "output_type": "stream",
     "text": [
      "\u001b[?2004h\u001b[?2004l\u001b[?2004l\u001b[?2004l\u001b[?2004l\u001b[?2004l\u001b[?2004l\u001b[?2004l\u001b[?2004l\u001b[?2004l\u001b[?2004l\u001b[?2004l\u001b[?2004l\u001b[?2004l\u001b[?2004l\u001b[?2004l\u001b[?2004l\u001b[?2004l\u001b[?2004l\u001b[?2004l\u001b[?2004l\u001b[?2004l"
     ]
    },
    {
     "ename": "",
     "evalue": "1",
     "output_type": "error",
     "traceback": []
    }
   ],
   "source": [
    "export TF_ORG=pphan\n",
    "export workspace=test-workspace-triggers\n",
    "\n",
    "cat << EOF > versions.tf\n",
    "terraform {\n",
    "  required_providers {\n",
    "    random = {\n",
    "      source = \"hashicorp/random\"\n",
    "    }\n",
    "  }\n",
    "  backend \"remote\" {\n",
    "    organization = \"${TF_ORG}\"\n",
    "    workspaces {\n",
    "      name = \"${workspace}\"\n",
    "    }\n",
    "  }\n",
    "}\n",
    "\n",
    "output \"workspace\" {\n",
    "  value = \"${workspace}\"\n",
    "}\n",
    "EOF"
   ]
  },
  {
   "cell_type": "markdown",
   "id": "f3449afc-8f33-4395-981f-81ec1b279c2a",
   "metadata": {},
   "source": [
    "Push your changes to the repo."
   ]
  },
  {
   "cell_type": "code",
   "execution_count": 12,
   "id": "b3ef3ee4-1d21-44f9-8951-43144a834617",
   "metadata": {},
   "outputs": [
    {
     "name": "stdout",
     "output_type": "stream",
     "text": [
      "On branch update-tfc-backend\n",
      "Your branch is up to date with 'origin/update-tfc-backend'.\n",
      "\n",
      "Changes not staged for commit:\n",
      "  (use \"git add <file>...\" to update what will be committed)\n",
      "  (use \"git restore <file>...\" to discard changes in working directory)\n",
      "\t\u001b[31mmodified:   versions.tf\u001b[m\n",
      "\n",
      "no changes added to commit (use \"git add\" and/or \"git commit -a\")\n",
      "# Add your changes (versions.tf) to your branch's staging area.\n",
      "# Commit these changes with a message.\n",
      "[update-tfc-backend 3e6348f] Point backend to correct TFC org and workspace\n",
      " 1 file changed, 1 insertion(+)\n",
      "# Push these changes.04l\n",
      "Enumerating objects: 5, done.\n",
      "Counting objects: 100% (5/5), done.\n",
      "Delta compression using up to 12 threads\n",
      "Compressing objects: 100% (3/3), done.\n",
      "Writing objects: 100% (3/3), 307 bytes | 307.00 KiB/s, done.\n",
      "Total 3 (delta 2), reused 0 (delta 0), pack-reused 0\n",
      "remote: Resolving deltas: 100% (2/2), completed with 2 local objects.\u001b[K\n",
      "To https://github.com/phanclan/test-workspace-triggers\n",
      "   0300774..3e6348f  update-tfc-backend -> update-tfc-backend\n",
      "\u001b[?2004h\u001b[?2004l"
     ]
    },
    {
     "ename": "",
     "evalue": "1",
     "output_type": "error",
     "traceback": []
    }
   ],
   "source": [
    "# see changes\n",
    "git status\n",
    "\n",
    "echo \"# Add your changes (versions.tf) to your branch's staging area.\"\n",
    "git add versions.tf\n",
    "\n",
    "echo \"# Commit these changes with a message.\"\n",
    "git commit -m 'Point backend to correct TFC org and workspace'\n",
    "\n",
    "echo \"# Push these changes.\"\n",
    "git push\n",
    "# git push --set-upstream origin update-tfc-backend"
   ]
  },
  {
   "cell_type": "markdown",
   "id": "98128f89-c5d2-4fe3-893b-6c924f41be12",
   "metadata": {},
   "source": [
    "### Generate a Pull Request\n",
    "\n",
    "* Next, generate a pull request from the `update-tfc-backend` branch.\n",
    "\t* Go to **GitHub** > **Code**.\n",
    "    * Click \"**Compare & pull request**\".\n",
    "\t* From the `base repository` drop-down, choose \"**YOUR**\" forked repository and `main` branch.\n",
    "\t* Click \"**Create pull request\"**."
   ]
  },
  {
   "cell_type": "markdown",
   "id": "622fda18-dd12-4d1a-b175-0f09327451fc",
   "metadata": {},
   "source": [
    "## Verify your GitHub Actions workflow results\n",
    "\n",
    "* Go to GitHub, navigate to the main page of the repository.\n",
    "* Under your repository name, click **Actions**.\n",
    "* In the left sidebar, click the workflow you want to see.\n",
    "* From the list of workflow runs, click the name of the run you want to see.\n",
    "* Under **Jobs** or in the visualization graph, click the **Terraform** job.\n",
    "* Any failed steps are automatically expanded to display the results\n",
    "\n",
    "---"
   ]
  },
  {
   "cell_type": "markdown",
   "id": "3b7d35ff-7512-453b-895f-5caa5cc31866",
   "metadata": {},
   "source": [
    "## Review and Merge pull request\n",
    "\n",
    "* Navigate to your pull request.\n",
    "\t* Your PR will trigger the Terraform Actions workflow.\n",
    "\t* When the workflow completes, it will add a comment with the outcome of each step and a speculative plan.\n",
    "\n",
    "<img alt=\"View pull request with workflow action results and speculative plan.\" src=https://learn.hashicorp.com/img/terraform/automation/gh-actions-pr-plan.gif width=640>\n",
    "\n",
    "Terraform plans to create one resource. It will be a random pet name."
   ]
  },
  {
   "cell_type": "markdown",
   "id": "d45baea9-3384-4929-af86-070d5820e0ac",
   "metadata": {},
   "source": [
    "## Troubleshooting\n",
    "\n",
    "Common Errors\n",
    "\n",
    "* Terraform CLI Version mis-match.\n",
    "    * Terraform Cloud Workspaces sets the latest version at creation time.\n",
    "    * `setup-terraform` action downloads the latest version every time.\n",
    "    * You config files might specify a specific version major and/or minor relese.\n",
    "    * Make sure all of these are in agreement.\n",
    "* Credentials\n",
    "    * Are your Cloud credentials correct and set in the right places?\n",
    "    * Is your Terraform API token valid?\n",
    "* Terraform Backend\n",
    "    * Is organization and workspace defined correctly? Spelling?\n",
    "    "
   ]
  },
  {
   "cell_type": "markdown",
   "id": "3dff0441-fb4a-42f9-b539-a97cf2ea4518",
   "metadata": {},
   "source": [
    "## Merge pull request\n",
    "\n",
    "* Click \"Merge pull request\" and then confirm.\n",
    "\n",
    "---"
   ]
  },
  {
   "attachments": {
    "db6b9b2f-da9b-43fc-9840-95896723e151.png": {
     "image/png": "[encoded data removed]"
    }
   },
   "cell_type": "markdown",
   "id": "ea116684-1324-4e62-98ef-ed9aaa646a8f",
   "metadata": {
    "toc-hr-collapsed": true
   },
   "source": [
    "## Verify Resources provisioned\n",
    "\n",
    "You can track the status of the apply job through **GitHub Actions** or **Terraform Cloud**.\n",
    "\n",
    "### GitHub Actions - Verify workflow results\n",
    "\n",
    "- In GitHub, go to \"**Actions**\".\n",
    "- Then, select the **pull request** you just merged.\n",
    "- Then, click on the \"**Terraform**\" workflow.\n",
    "\t- Notice how the \"**Terraform Plan**\", \"**Update Pull Request**\" and \"**Terraform Plan Status**\" steps have been skipped.\n",
    "\n",
    "<img alt=[image.png] src=attachment:db6b9b2f-da9b-43fc-9840-95896723e151.png width=50%>\n",
    "\n",
    "- Expand the \"**Terraform Apply**\" step.\n",
    "    - Terraform should have one created one `random_pet` resource and displayed the pet name and workspace."
   ]
  },
  {
   "attachments": {
    "1e01a84a-1b5a-4e6b-8795-e7121e356321.png": {
     "image/png": "[encoded data removed]"
    }
   },
   "cell_type": "markdown",
   "id": "5e2425ec-99aa-4069-9083-4e50f7fec32c",
   "metadata": {},
   "source": [
    "### Terraform Cloud\n",
    "\n",
    "* In Terraform Cloud, go to the `test-workspace-triggers` workspace.\n",
    "* Select the **run** triggered by the Actions workflow — this should be your most recent run.\n",
    "* Wait for the apply to complete, then expand \"**Apply finished**\".\n",
    "* Terraform should have one created one `random_pet` resource and displayed the pet name and workspace.\n",
    "\n",
    "<img src=attachment:1e01a84a-1b5a-4e6b-8795-e7121e356321.png width=50%>"
   ]
  },
  {
   "cell_type": "markdown",
   "id": "5e9d0262-7b7e-4843-ae88-c68001c8b14b",
   "metadata": {},
   "source": [
    "You have successfully set up a complete GitHub Actions workflow to deploy a `random_pet` resource within a Terraform Cloud workspace."
   ]
  },
  {
   "cell_type": "markdown",
   "id": "5589df9a-2df4-4d4e-a4bf-438cc5796710",
   "metadata": {},
   "source": [
    "# Monorepo Use Cases\n",
    "\n",
    "How does Actions work with Terraform Cloud and Monorepos?\n",
    "\n",
    "Some opportunities to take on:\n",
    "\n",
    "* Only run workflow when changes are done to specific folder or files.\n",
    "* Multiple Terraform Cloud Workspaces are tied to the monorepo.\n"
   ]
  },
  {
   "attachments": {
    "72843fae-ce38-4d57-86e2-acad2ee32a7f.png": {
     "image/png": "[encoded data removed]"
    }
   },
   "cell_type": "markdown",
   "id": "7144bb1e-8330-43f2-897f-df89b2b339a9",
   "metadata": {},
   "source": [
    "## Disable the current workflow.\n",
    "\n",
    "We're going to disable the current workflow to create one that works better for monorepos that are associated with multiple Terraform workspaces, modules, etc.\n",
    "\n",
    "1. Go to your repo.\n",
    "1. Select **Actions**.\n",
    "1. Select your workflow (eg `terraform-plan-approve-apply`).\n",
    "1. Click on the ellipsis `...` and select `Disable workflow`.\n",
    "\n",
    "<img src=attachment:72843fae-ce38-4d57-86e2-acad2ee32a7f.png width=93>"
   ]
  },
  {
   "cell_type": "markdown",
   "id": "f285e811-91f1-4758-a663-8b4a8f3dcff3",
   "metadata": {},
   "source": [
    "## Composite Pre-requisite"
   ]
  },
  {
   "cell_type": "markdown",
   "id": "a4489e6c-ebb6-40bd-b3af-d403bd07bd54",
   "metadata": {},
   "source": [
    "In the `test-workspace-triggers` repository, create a new file called `goodbye.sh`, and add the following example code:"
   ]
  },
  {
   "cell_type": "code",
   "execution_count": null,
   "id": "b9e80790-d053-4942-8009-be2653d98408",
   "metadata": {},
   "outputs": [],
   "source": [
    "# Make sure we are in the test-workspace-triggers directory.\n",
    "cd $MAIN_DIR/$WORK_DIR;pwd"
   ]
  },
  {
   "cell_type": "code",
   "execution_count": 105,
   "id": "92b288d0-5156-45d2-bdb0-a06f8fa39f13",
   "metadata": {},
   "outputs": [],
   "source": [
    "git switch main\n",
    "mkdir -p $MAIN_DIR/$WORK_DIR/.github/actions/terraform-workflow\n",
    "echo 'echo \"Goodbye\"' > $MAIN_DIR/$WORK_DIR/.github/actions/terraform-workflow/goodbye.sh"
   ]
  },
  {
   "cell_type": "markdown",
   "id": "4af39a94-5b54-45ac-93e9-2c4b1744a80e",
   "metadata": {},
   "source": [
    "From your terminal, make `goodbye.sh` executable."
   ]
  },
  {
   "cell_type": "code",
   "execution_count": 16,
   "id": "e15afc2d-c056-4641-b7b2-9175c5e2b1a0",
   "metadata": {},
   "outputs": [
    {
     "name": "stdout",
     "output_type": "stream",
     "text": [
      "\u001b[?2004h"
     ]
    },
    {
     "ename": "",
     "evalue": "1",
     "output_type": "error",
     "traceback": []
    }
   ],
   "source": [
    "chmod +x $MAIN_DIR/$WORK_DIR/.github/actions/terraform-workflow/goodbye.sh"
   ]
  },
  {
   "cell_type": "markdown",
   "id": "5e46f3ab-1d92-4918-a603-b896d404bc4a",
   "metadata": {},
   "source": [
    "Check in your `goodbye.sh` file."
   ]
  },
  {
   "cell_type": "code",
   "execution_count": 106,
   "id": "948cf59f-856d-4deb-b475-24262c0e0702",
   "metadata": {},
   "outputs": [
    {
     "name": "stdout",
     "output_type": "stream",
     "text": [
      "M\t.github/actions/terraform-workflow/goodbye.sh\n",
      "Already on 'main'\n",
      "Your branch is up to date with 'origin/main'.\n",
      "[main c1a492b] Add goodbye script\n",
      " 1 file changed, 1 insertion(+)\n",
      "\u001b[33mhint: Pulling without specifying how to reconcile divergent branches is\u001b[m\n",
      "\u001b[33mhint: discouraged. You can squelch this message by running one of the following\u001b[m\n",
      "\u001b[33mhint: commands sometime before your next pull:\u001b[m\n",
      "\u001b[33mhint: \u001b[m\n",
      "\u001b[33mhint:   git config pull.rebase false  # merge (the default strategy)\u001b[m\n",
      "\u001b[33mhint:   git config pull.rebase true   # rebase\u001b[m\n",
      "\u001b[33mhint:   git config pull.ff only       # fast-forward only\u001b[m\n",
      "\u001b[33mhint: \u001b[m\n",
      "\u001b[33mhint: You can replace \"git config\" with \"git config --global\" to set a default\u001b[m\n",
      "\u001b[33mhint: preference for all repositories. You can also pass --rebase, --no-rebase,\u001b[m\n",
      "\u001b[33mhint: or --ff-only on the command line to override the configured default per\u001b[m\n",
      "\u001b[33mhint: invocation.\u001b[m\n",
      "Already up to date.\n",
      "Enumerating objects: 11, done.\n",
      "Counting objects: 100% (11/11), done.\n",
      "Delta compression using up to 12 threads\n",
      "Compressing objects: 100% (4/4), done.\n",
      "Writing objects: 100% (6/6), 595 bytes | 595.00 KiB/s, done.\n",
      "Total 6 (delta 0), reused 0 (delta 0), pack-reused 0\n",
      "To https://github.com/phanclan/test-workspace-triggers\n",
      "   d423471..c1a492b  main -> main\n",
      "\u001b[?2004h"
     ]
    },
    {
     "ename": "",
     "evalue": "1",
     "output_type": "error",
     "traceback": []
    }
   ],
   "source": [
    "git switch main\n",
    "git add $MAIN_DIR/$WORK_DIR/.github/actions/terraform-workflow/goodbye.sh\n",
    "git commit -m \"Add goodbye script\"\n",
    "# make sure you have the latest\n",
    "git pull\n",
    "# push your changes\n",
    "git push"
   ]
  },
  {
   "cell_type": "markdown",
   "id": "f758974e-bda4-49fc-9fed-70ae42444207",
   "metadata": {},
   "source": [
    "## 1. Create an action metadata file\n",
    "\n",
    "1. In the `test-workspace-triggers` repository, create a new file called `action.yml`. NOTE: Must be named `action.yml` or `action.yaml`.\n",
    "1. Add the following example code. For more information about this syntax, see \"[runs for a composite run steps](https://docs.github.com/en/actions/creating-actions/metadata-syntax-for-github-actions#runs-for-composite-run-steps-actions)\"."
   ]
  },
  {
   "cell_type": "code",
   "execution_count": 123,
   "id": "ff70ba08-5821-4446-9510-26f2e57942da",
   "metadata": {},
   "outputs": [
    {
     "name": "stdout",
     "output_type": "stream",
     "text": [
      "Already on 'main'\n",
      "Your branch is up to date with 'origin/main'.\n",
      "\u001b[?2004h\u001b[?2004l\u001b[?2004l\u001b[?2004l\u001b[?2004l\u001b[?2004l\u001b[?2004l\u001b[?2004l\u001b[?2004l\u001b[?2004l\u001b[?2004l\u001b[?2004l\u001b[?2004l\u001b[?2004l\u001b[?2004l\u001b[?2004l\u001b[?2004l\u001b[?2004l\u001b[?2004l\u001b[?2004l\u001b[?2004l\u001b[?2004l\u001b[?2004l\u001b[?2004l\u001b[?2004l\u001b[?2004l\u001b[?2004l\u001b[?2004l\u001b[?2004l\u001b[?2004l\u001b[?2004l\u001b[?2004l\u001b[?2004l\u001b[?2004l\u001b[?2004l\u001b[?2004l\u001b[?2004l\u001b[?2004l\u001b[?2004l\u001b[?2004l\u001b[?2004l\u001b[?2004l\u001b[?2004l\u001b[?2004l\u001b[?2004l\u001b[?2004l\u001b[?2004l\u001b[?2004l"
     ]
    },
    {
     "ename": "",
     "evalue": "1",
     "output_type": "error",
     "traceback": []
    }
   ],
   "source": [
    "mkdir -p $MAIN_DIR/$WORK_DIR/.github/actions/terraform-workflow\n",
    "git switch main\n",
    "cat << \"EOF\" > $MAIN_DIR/$WORK_DIR/.github/actions/terraform-workflow/action.yml\n",
    "name: 'terraform-plan-approve-apply'\n",
    "description: 'Common workflow for Terraform'\n",
    "inputs:\n",
    "  working-directory:\n",
    "    description: 'Working directory for this action'\n",
    "    required: false\n",
    "    default: '.'\n",
    "outputs:\n",
    "  fmt:\n",
    "    description: \"Status of terraform format\"\n",
    "    value: ${{ steps.fmt.outputs.test }}\n",
    "  init:\n",
    "    description: \"Status of terraform init\"\n",
    "    value: ${{ steps.init.outputs.test }}\n",
    "  validate:\n",
    "    description: \"Status of terraform validate\"\n",
    "    value: ${{ steps.validate.outputs.test }}\n",
    "\n",
    "runs:\n",
    "  using: \"composite\"\n",
    "  steps:\n",
    "    - name: Goodbye Script\n",
    "      run: ${{ github.action_path }}/goodbye.sh\n",
    "      shell: bash\n",
    "\n",
    "    - name: Terraform Format\n",
    "      id: fmt\n",
    "      run: if terraform fmt -check; then echo \"::set-output name=test::success\"; else echo \"::set-output name=test::fail\"; fi\n",
    "      shell: bash\n",
    "      working-directory: ${{ inputs.working-directory }}\n",
    "    - name: Terraform Init\n",
    "      id: init\n",
    "      run: if terraform init -input=false; then echo \"::set-output name=test::success\"; else echo \"::set-output name=test::fail\"; fi\n",
    "      shell: bash\n",
    "      working-directory: ${{ inputs.working-directory }}\n",
    "    - name: Terraform Validate\n",
    "      id: validate\n",
    "      run: |\n",
    "        if terraform validate -no-color; then\n",
    "        echo \"::set-output name=test::success\"\n",
    "        else\n",
    "        echo \"::set-output name=test::fail\"\n",
    "        fi\n",
    "      shell: bash\n",
    "      working-directory: ${{ inputs.working-directory }}\n",
    "EOF"
   ]
  },
  {
   "cell_type": "markdown",
   "id": "70a5e09c-cadc-4c5a-9415-33c74052f792",
   "metadata": {},
   "source": [
    "This file:\n",
    "* Mandatory - `name`, `descriptions`, and `runs`\n",
    "* Optional - `input` and `outputs`\n",
    "  * defines the `who-to-greet` input\n",
    "  * defines the `working-directory` input\n",
    "* `using: \"composite\"` - makes this work\n",
    "* `::set-output name=test::<message>` maps the success/fail messages to the `fmt`, `init`, `validate` output variables\n",
    "* runs the `goodbye.sh` script\n",
    "* tells the runner how to execute the composite run steps action.\n",
    "\n",
    "For more information about managing outputs, see \"[`outputs` for a composite run steps](https://docs.github.com/en/actions/creating-actions/metadata-syntax-for-github-actions#outputs-for-composite-run-steps-actions)\".\n",
    "\n",
    "For more information about how to use `github.action_path`, see \"[github context](https://docs.github.com/en/actions/reference/context-and-expression-syntax-for-github-actions#github-context)\".\n",
    "\n",
    "#### Supported Properties\n",
    "* `name`\n",
    "* `id`\n",
    "* `run`\n",
    "* `env`\n",
    "* `shell`\n",
    "* `working-directory`\n",
    "* `input` and `outputs`\n",
    "\n",
    "#### Currenlty Unsupported:\n",
    "* `uses`, conditionals `if`, `continue-on-error`, `outcome` of a composite step, and timeouts"
   ]
  },
  {
   "cell_type": "markdown",
   "id": "537cb517-95f4-484f-95cb-499ca5eed7b7",
   "metadata": {},
   "source": [
    "Check in your `action.yml` file."
   ]
  },
  {
   "cell_type": "code",
   "execution_count": 124,
   "id": "42183a8b-3859-42ab-afaa-51f22b4a162e",
   "metadata": {},
   "outputs": [
    {
     "name": "stdout",
     "output_type": "stream",
     "text": [
      "Already on 'main'\n",
      "Your branch is up to date with 'origin/main'.\n",
      "On branch main4l\u001b[?2004l\n",
      "Your branch is up to date with 'origin/main'.\n",
      "\n",
      "nothing to commit, working tree clean\n",
      "Everything up-to-date\n",
      "\u001b[?2004h"
     ]
    },
    {
     "ename": "",
     "evalue": "1",
     "output_type": "error",
     "traceback": []
    }
   ],
   "source": [
    "git switch main\n",
    "git add $MAIN_DIR/$WORK_DIR/.github/actions/terraform-workflow/action.yml\n",
    "git commit -m \"Add/update action.yml\"\n",
    "git push"
   ]
  },
  {
   "cell_type": "markdown",
   "id": "b502abbb-8257-4b00-a935-c93a17f34dce",
   "metadata": {},
   "source": [
    "Add a tag. This example uses a tag called `v1`. For more information, see \"[About actions](https://docs.github.com/en/actions/creating-actions/about-actions#using-release-management-for-actions).\""
   ]
  },
  {
   "cell_type": "code",
   "execution_count": 71,
   "id": "ce36d8ae-9567-40ea-84df-e6cf4bfb1975",
   "metadata": {},
   "outputs": [
    {
     "name": "stdout",
     "output_type": "stream",
     "text": [
      "Enumerating objects: 1, done.\n",
      "Counting objects: 100% (1/1), done.\n",
      "Writing objects: 100% (1/1), 172 bytes | 172.00 KiB/s, done.\n",
      "Total 1 (delta 0), reused 0 (delta 0), pack-reused 0\n",
      "To https://github.com/phanclan/test-workspace-triggers\n",
      " * [new tag]         v1.1 -> v1.1\n",
      "\u001b[?2004h"
     ]
    },
    {
     "ename": "",
     "evalue": "1",
     "output_type": "error",
     "traceback": []
    }
   ],
   "source": [
    "git tag -a -m \"Description of this release\" v1.1\n",
    "git push --follow-tags"
   ]
  },
  {
   "cell_type": "markdown",
   "id": "ee4547b6-f529-4224-9242-d838865553ae",
   "metadata": {},
   "source": [
    "## Testing out your action in a workflow\n",
    "\n",
    "The following workflow code uses the completed hello world action that you made in \"**Create an action metadata file**\".\n",
    "\n",
    "Copy the workflow code into a `.github/workflows/main.yml` file in another repository, but replace `actions/hello-world-composite-run-steps-action@v1` with the repository and tag you created. You can also replace the `who-to-greet` input with your name."
   ]
  },
  {
   "cell_type": "markdown",
   "id": "f3c6e557-59b4-4f4d-81e8-cbe624151eb4",
   "metadata": {},
   "source": [
    "### (testing) Create workflow files with bash arrays - DELETE"
   ]
  },
  {
   "cell_type": "code",
   "execution_count": 99,
   "id": "50a08bdb-85a6-431c-b05a-48be5121bf71",
   "metadata": {
    "tags": []
   },
   "outputs": [
    {
     "name": "stdout",
     "output_type": "stream",
     "text": [
      "\u001b[?2004h\u001b[?2004l\u001b[?2004l\u001b[?2004l\u001b[?2004l\u001b[?2004l\u001b[?2004l\u001b[?2004l\u001b[?2004l\u001b[?2004l\u001b[?2004l\u001b[?2004l\u001b[?2004l\u001b[?2004l\u001b[?2004l\u001b[?2004l\u001b[?2004l\u001b[?2004l\u001b[?2004l\u001b[?2004l\u001b[?2004l\u001b[?2004l\u001b[?2004l\u001b[?2004l\u001b[?2004l"
     ]
    },
    {
     "ename": "",
     "evalue": "1",
     "output_type": "error",
     "traceback": []
    }
   ],
   "source": [
    "### Test for creating multiple workflow files based on array.\n",
    "echo \"start\"\n",
    "declare -A array\n",
    "array[sub-1]=sub-1\n",
    "array[sub-2a]=sub-1/sub-2a\n",
    "\n",
    "echo \"start 2\"\n",
    "for i in \"${!array[@]}\"; do\n",
    "    echo \"${i} <--> ${array[$i]}\"\n",
    "done\n",
    "\n",
    "### Create workflow file\n",
    "cat << \"EOF\" > .github/workflows/sub-2a.yml\n",
    "on:\n",
    "  push:\n",
    "    paths:\n",
    "      - 'test-workspace-triggers/sub-1/sub-2a/*'\n",
    "jobs:\n",
    "  hello_world_job:\n",
    "    runs-on: ubuntu-latest\n",
    "    name: A job to say hello\n",
    "    steps:\n",
    "      - name: Checkout repository\n",
    "        uses: actions/checkout@v2\n",
    "      - name: Install and Setup Terraform\n",
    "        uses: hashicorp/setup-terraform@v1\n",
    "        with:\n",
    "          terraform_version: 0.14.0\n",
    "          cli_config_credentials_token: ${{ secrets.TF_API_TOKEN }}\n",
    "      - id: foo\n",
    "        uses: ./.github/actions/terraform-workflow # actions/hello-world-composite-run-steps-action@v1\n",
    "        with:\n",
    "          working-directory: 'test-workspace-triggers/sub-1/sub-2a'\n",
    "          who-to-greet: 'Mona the Octocat'\n",
    "      - run: echo random-number ${{ steps.foo.outputs.random-number }}\n",
    "        shell: bash\n",
    "EOF"
   ]
  },
  {
   "cell_type": "markdown",
   "id": "02122fce-3ac5-4aac-bfe2-f5ec45cbb374",
   "metadata": {},
   "source": [
    "### 2. Create workflow files with Terraform templates\n"
   ]
  },
  {
   "cell_type": "markdown",
   "id": "aa1f508c-34a9-44f5-be64-79d6da694625",
   "metadata": {},
   "source": [
    "We need to create workflow files for each Terraform workspace. Each workflow will use the action metadata file. This saves us from having to makes lots of changes when we want to change our pipeline.\n",
    "\n",
    "To automate this, we will use Terraform's templating ability to create these files. If you have hundreds of workspaces, doing this by hand would not be fun."
   ]
  },
  {
   "cell_type": "markdown",
   "id": "4f6eb072-43b3-4d32-a610-f526d6b412b3",
   "metadata": {},
   "source": [
    "#### 2a. Create Terraform Template file"
   ]
  },
  {
   "cell_type": "code",
   "execution_count": 129,
   "id": "d8e79134-1a56-4d8e-9072-a40813f366dc",
   "metadata": {},
   "outputs": [
    {
     "name": "stdout",
     "output_type": "stream",
     "text": [
      "Already on 'main'\n",
      "Your branch is up to date with 'origin/main'.\n",
      "\u001b[?2004h\u001b[?2004l\u001b[?2004l\u001b[?2004l\u001b[?2004l\u001b[?2004l\u001b[?2004l\u001b[?2004l\u001b[?2004l\u001b[?2004l\u001b[?2004l\u001b[?2004l\u001b[?2004l\u001b[?2004l\u001b[?2004l\u001b[?2004l\u001b[?2004l\u001b[?2004l\u001b[?2004l\u001b[?2004l\u001b[?2004l\u001b[?2004l\u001b[?2004l\u001b[?2004l\u001b[?2004l\u001b[?2004l\u001b[?2004l\u001b[?2004l\u001b[?2004l\u001b[?2004l\u001b[?2004l\u001b[?2004l\u001b[?2004l\u001b[?2004l\u001b[?2004l\u001b[?2004l\u001b[?2004l\u001b[?2004l\u001b[?2004l\u001b[?2004l\u001b[?2004l\u001b[?2004l\u001b[?2004l\u001b[?2004l\u001b[?2004l\u001b[?2004l\u001b[?2004l\u001b[?2004l\u001b[?2004l\u001b[?2004l\u001b[?2004l\u001b[?2004l\u001b[?2004l\u001b[?2004l\u001b[?2004l\u001b[?2004l\u001b[?2004l\u001b[?2004l\u001b[?2004l\u001b[?2004l\u001b[?2004l\u001b[?2004l\u001b[?2004l\u001b[?2004l\u001b[?2004l\u001b[?2004l\u001b[?2004l\u001b[?2004l\u001b[?2004l\u001b[?2004l\u001b[?2004l\u001b[?2004l\u001b[?2004l\u001b[?2004l\u001b[?2004l"
     ]
    },
    {
     "ename": "",
     "evalue": "1",
     "output_type": "error",
     "traceback": []
    }
   ],
   "source": [
    "git switch main\n",
    "mkdir -p $MAIN_DIR/$WORK_DIR/create-workflows/templates\n",
    "cat << \"EOF\" > $MAIN_DIR/$WORK_DIR/create-workflows/templates/workspace_workflow.tpl\n",
    "on:\n",
    "  push:\n",
    "    branches:\n",
    "      - main\n",
    "    paths:\n",
    "      - '${path}'\n",
    "  pull_request:\n",
    "    paths:\n",
    "      - '${path}'\n",
    "defaults:\n",
    "  run:\n",
    "    shell: bash\n",
    "jobs:\n",
    "  hello_world_job:\n",
    "    runs-on: ubuntu-latest\n",
    "    name: Terraform Plan Apply\n",
    "    steps:\n",
    "      - name: Checkout repository\n",
    "        uses: actions/checkout@v2\n",
    "      - name: Install and Setup Terraform\n",
    "        uses: hashicorp/setup-terraform@v1\n",
    "        with:\n",
    "          terraform_version: 0.14.0\n",
    "          cli_config_credentials_token: $${{ secrets.TF_API_TOKEN }}\n",
    "\n",
    "      - name: Terraform Format Init Validate Composite Action\n",
    "        id: foo\n",
    "        uses: ./.github/actions/terraform-workflow\n",
    "        with:\n",
    "          working-directory: '${working_directory}'\n",
    "      - name: Terraform Plan\n",
    "        id: plan\n",
    "        if: github.event_name == 'pull_request'\n",
    "        run: terraform plan -no-color -input=false\n",
    "        working-directory: '${working_directory}'\n",
    "        continue-on-error: true\n",
    "      - name: Update Pull Request\n",
    "        uses: actions/github-script@0.9.0\n",
    "        if: github.event_name == 'pull_request'\n",
    "        env:\n",
    "          PLAN: \"terraform\\n$${{ steps.plan.outputs.stdout }}\"\n",
    "        with:\n",
    "          github-token: $${{ secrets.GITHUB_TOKEN }}\n",
    "          script: |\n",
    "            const output = `#### Terraform Format and Style 🖌\\`$${{ steps.foo.outputs.fmt }}\\`\n",
    "            #### Terraform Initialization ⚙️\\`$${{ steps.foo.outputs.init }}\\`\n",
    "            #### Terraform Validation 🤖\\`$${{ steps.foo.outputs.validate }}\\`\n",
    "            #### Terraform Plan 📖\\`$${{ steps.plan.outcome }}\\`\n",
    "\n",
    "            <details><summary>Show Plan</summary>\n",
    "\n",
    "            \\`\\`\\`\\n\n",
    "            $${process.env.PLAN}\n",
    "            \\`\\`\\`\n",
    "            </details>\n",
    "\n",
    "            *Pusher: @$${{ github.actor }}, Action: \\`$${{ github.event_name }}\\`*`;\n",
    "\n",
    "            github.issues.createComment({\n",
    "              issue_number: context.issue.number,\n",
    "              owner: context.repo.owner,\n",
    "              repo: context.repo.repo,\n",
    "              body: output\n",
    "            })\n",
    "      - name: Terraform Plan Status\n",
    "        if: steps.plan.outcome == 'failure'\n",
    "        run: exit 1\n",
    "      - name: Terraform Apply\n",
    "        if: github.ref == 'refs/heads/main' && github.event_name == 'push'\n",
    "        run: terraform apply -auto-approve -input=false\n",
    "        working-directory: '${working_directory}'\n",
    "EOF"
   ]
  },
  {
   "cell_type": "markdown",
   "id": "c5c010e2-87b9-4d47-b2bb-7a3438958576",
   "metadata": {},
   "source": [
    "* `with:` - pass parameters\n",
    "* `$${{ steps.foo.outputs.fmt }} $${{ steps.foo.outputs.tf_init }} $${{ steps.foo.outputs.random-number }}` "
   ]
  },
  {
   "cell_type": "markdown",
   "id": "9d5ba7a7-4931-4836-bbe0-d6cd9d24660b",
   "metadata": {},
   "source": [
    "#### 2b. Create Terraform Config\n",
    "\n",
    "Create the terraform configuration for the `local_file` resource."
   ]
  },
  {
   "cell_type": "code",
   "execution_count": 61,
   "id": "336ecf3c-cbeb-4f3e-ba5f-b3dc5b36f3ef",
   "metadata": {},
   "outputs": [
    {
     "name": "stdout",
     "output_type": "stream",
     "text": [
      "\u001b[?2004h\u001b[?2004l\u001b[?2004l\u001b[?2004l\u001b[?2004l\u001b[?2004l\u001b[?2004l\u001b[?2004l\u001b[?2004l\u001b[?2004l\u001b[?2004l\u001b[?2004l\u001b[?2004l\u001b[?2004l\u001b[?2004l\u001b[?2004l\u001b[?2004l\u001b[?2004l\u001b[?2004l\u001b[?2004l\u001b[?2004l\u001b[?2004l\u001b[?2004l\u001b[?2004l\u001b[?2004l\u001b[?2004l\u001b[?2004l"
     ]
    },
    {
     "ename": "",
     "evalue": "1",
     "output_type": "error",
     "traceback": []
    }
   ],
   "source": [
    "# mkdir -p create-workflows\n",
    "cat << \"EOF\" > $MAIN_DIR/$WORK_DIR/create-workflows/main.tf\n",
    "## main.tf\n",
    "resource \"local_file\" \"dynamic\" {\n",
    "  for_each   = local.path_to_workspace_map\n",
    "  content    = templatefile(\"${path.module}/templates/workspace_workflow.tpl\", each.value)\n",
    "  filename       = \"${local.local_filepath}/${each.key}.yml\"\n",
    "}\n",
    "\n",
    "## variables.tf\n",
    "#variable \"path_to_workspace_map\" {}\n",
    "#variable \"local_filepath\" {}\n",
    "## terraform.tfvars\n",
    "\n",
    "locals {\n",
    "    path_to_workspace_map = {\n",
    "      \"root\"  = {\n",
    "          path = \"*\", uses = \"./.github/actions/terraform-workflow\", working_directory = \".\" },\n",
    "      \"sub-1\"  = {\n",
    "          path = \"sub-1/*\", uses = \"./.github/actions/terraform-workflow\", working_directory = \"sub-1\" },\n",
    "      \"sub-2a\" = {\n",
    "          path = \"sub-1/sub-2a/*\", uses = \"./.github/actions/terraform-workflow\", working_directory = \"sub-1/sub-2a\" },\n",
    "      \"sub-2b\" = { path = \"sub-1/sub-2b/*\", uses = \"./.github/actions/terraform-workflow\", working_directory = \"sub-1/sub-2b\" },\n",
    "    }\n",
    "    local_filepath = \"../.github/workflows\"\n",
    "}\n",
    "EOF"
   ]
  },
  {
   "cell_type": "markdown",
   "id": "c40e951b-3b3d-4f80-b4e7-f17b1a32686c",
   "metadata": {},
   "source": [
    "#### 2c. Run Terraform to create workflow files"
   ]
  },
  {
   "cell_type": "code",
   "execution_count": 130,
   "id": "a0e8b2f7-42ad-4fa9-b521-9994d90f0644",
   "metadata": {},
   "outputs": [
    {
     "name": "stdout",
     "output_type": "stream",
     "text": [
      "\u001b[?2004l\n",
      "\u001b[0m\u001b[1mInitializing the backend...\u001b[0m\n",
      "\n",
      "\u001b[0m\u001b[1mInitializing provider plugins...\u001b[0m\n",
      "- Reusing previous version of hashicorp/local from the dependency lock file\n",
      "- Installing hashicorp/local v2.1.0...\n",
      "- Installed hashicorp/local v2.1.0 (self-signed, key ID \u001b[0m\u001b[1m34365D9472D7468F\u001b[0m\u001b[0m)\n",
      "\n",
      "Partner and community providers are signed by their developers.\n",
      "If you'd like to know more about provider signing, you can read about it here:\n",
      "https://www.terraform.io/docs/plugins/signing.html\n",
      "\n",
      "\u001b[0m\u001b[1m\u001b[32mTerraform has been successfully initialized!\u001b[0m\u001b[32m\u001b[0m\n",
      "\u001b[0m\u001b[32m\n",
      "You may now begin working with Terraform. Try running \"terraform plan\" to see\n",
      "any changes that are required for your infrastructure. All Terraform commands\n",
      "should now work.\n",
      "\n",
      "If you ever set or change modules or backend configuration for Terraform,\n",
      "rerun this command to reinitialize your working directory. If you forget, other\n",
      "commands will detect it and remind you to do so if necessary.\u001b[0m\n",
      "\u001b[0m\u001b[1mlocal_file.dynamic[\"root\"]: Refreshing state... [id=f50f328a1f90c7f8ebd6a5f4c1cfe3a243434901]\u001b[0m\n",
      "\u001b[0m\u001b[1mlocal_file.dynamic[\"sub-2a\"]: Refreshing state... [id=babd09212340d389c7cd88f18462866891c337bc]\u001b[0m\n",
      "\u001b[0m\u001b[1mlocal_file.dynamic[\"sub-2b\"]: Refreshing state... [id=673b5b2ace8d8a9d6f27e8d7909257cdc51ab4e8]\u001b[0m\n",
      "\u001b[0m\u001b[1mlocal_file.dynamic[\"sub-1\"]: Refreshing state... [id=229ea266931e2c2d59af7bcf41a7d965cfbba9cf]\u001b[0m\n",
      "\u001b[0m\u001b[1mlocal_file.dynamic[\"sub-2a\"]: Destroying... [id=babd09212340d389c7cd88f18462866891c337bc]\u001b[0m\u001b[0m\n",
      "\u001b[0m\u001b[1mlocal_file.dynamic[\"root\"]: Destroying... [id=f50f328a1f90c7f8ebd6a5f4c1cfe3a243434901]\u001b[0m\u001b[0m\n",
      "\u001b[0m\u001b[1mlocal_file.dynamic[\"sub-1\"]: Destroying... [id=229ea266931e2c2d59af7bcf41a7d965cfbba9cf]\u001b[0m\u001b[0m\n",
      "\u001b[0m\u001b[1mlocal_file.dynamic[\"sub-2b\"]: Destroying... [id=673b5b2ace8d8a9d6f27e8d7909257cdc51ab4e8]\u001b[0m\u001b[0m\n",
      "\u001b[0m\u001b[1mlocal_file.dynamic[\"root\"]: Destruction complete after 0s\u001b[0m\u001b[0m\n",
      "\u001b[0m\u001b[1mlocal_file.dynamic[\"sub-1\"]: Destruction complete after 0s\u001b[0m\u001b[0m\n",
      "\u001b[0m\u001b[1mlocal_file.dynamic[\"sub-2b\"]: Destruction complete after 0s\u001b[0m\u001b[0m\n",
      "\u001b[0m\u001b[1mlocal_file.dynamic[\"sub-2a\"]: Destruction complete after 0s\u001b[0m\u001b[0m\n",
      "\u001b[0m\u001b[1mlocal_file.dynamic[\"sub-1\"]: Creating...\u001b[0m\u001b[0m\n",
      "\u001b[0m\u001b[1mlocal_file.dynamic[\"sub-2a\"]: Creating...\u001b[0m\u001b[0m\n",
      "\u001b[0m\u001b[1mlocal_file.dynamic[\"sub-2b\"]: Creating...\u001b[0m\u001b[0m\n",
      "\u001b[0m\u001b[1mlocal_file.dynamic[\"root\"]: Creating...\u001b[0m\u001b[0m\n",
      "\u001b[0m\u001b[1mlocal_file.dynamic[\"root\"]: Creation complete after 0s [id=4df6c68c6e892f03d5b0b8524057f3b4ed38daeb]\u001b[0m\u001b[0m\n",
      "\u001b[0m\u001b[1mlocal_file.dynamic[\"sub-2a\"]: Creation complete after 0s [id=f6321026546dae112c2b2eb99df87daf7f3a012c]\u001b[0m\u001b[0m\n",
      "\u001b[0m\u001b[1mlocal_file.dynamic[\"sub-2b\"]: Creation complete after 0s [id=becbca409b9bdc794ba9db82ba99e341867fb84b]\u001b[0m\u001b[0m\n",
      "\u001b[0m\u001b[1mlocal_file.dynamic[\"sub-1\"]: Creation complete after 0s [id=b66c66851b1101ac63e1519af00a46d3c3bbda35]\u001b[0m\u001b[0m\n",
      "\u001b[0m\u001b[1m\u001b[32m\n",
      "Apply complete! Resources: 4 added, 0 changed, 4 destroyed.\u001b[0m\n",
      "\u001b[?2004h"
     ]
    },
    {
     "ename": "",
     "evalue": "1",
     "output_type": "error",
     "traceback": []
    }
   ],
   "source": [
    "terraform -chdir=create-workflows init\n",
    "# terraform -chdir=create-workflows plan\n",
    "terraform -chdir=$MAIN_DIR/$WORK_DIR/create-workflows apply -auto-approve"
   ]
  },
  {
   "cell_type": "markdown",
   "id": "144b3dcd-4e79-4438-b953-7129ecbca66b",
   "metadata": {},
   "source": [
    "You should see workflow files in your `.github/workflows` directory."
   ]
  },
  {
   "cell_type": "code",
   "execution_count": 32,
   "id": "d5fb19a8-abf9-4b81-86f2-a93613391265",
   "metadata": {},
   "outputs": [
    {
     "name": "stdout",
     "output_type": "stream",
     "text": [
      "total 40\n",
      "drwxr-xr-x  7 pephan  wheel   224 Jul 21 22:28 .\n",
      "drwxr-xr-x  4 pephan  wheel   128 Jul 19 16:31 ..\n",
      "-rwxr-xr-x  1 pephan  wheel  2407 Jul 21 22:28 root.yml\n",
      "-rwxr-xr-x  1 pephan  wheel  2431 Jul 21 22:28 sub-1.yml\n",
      "-rwxr-xr-x  1 pephan  wheel  2466 Jul 21 22:28 sub-2a.yml\n",
      "-rwxr-xr-x  1 pephan  wheel  2466 Jul 21 22:28 sub-2b.yml\n",
      "-rw-r--r--  1 pephan  wheel  2690 Jul 19 16:28 terraform.yml\n",
      "\u001b[?2004h"
     ]
    },
    {
     "ename": "",
     "evalue": "1",
     "output_type": "error",
     "traceback": []
    }
   ],
   "source": [
    "ls -la $MAIN_DIR/$WORK_DIR/.github/workflows"
   ]
  },
  {
   "cell_type": "markdown",
   "id": "257f1952-0030-4b5c-ada5-d5be97fd6064",
   "metadata": {},
   "source": [
    "Sample Output\n",
    "\n",
    "```shell\n",
    "drwxr-xr-x  7 pephan  wheel   224 Jul 19 16:47 .\n",
    "drwxr-xr-x  4 pephan  wheel   128 Jul 19 16:31 ..\n",
    "-rwxr-xr-x  1 pephan  wheel  2322 Jul 19 16:47 root.yml\n",
    "-rwxr-xr-x  1 pephan  wheel  2346 Jul 19 16:47 sub-1.yml\n",
    "-rwxr-xr-x  1 pephan  wheel  2374 Jul 19 16:47 sub-2a.yml\n",
    "-rwxr-xr-x  1 pephan  wheel  2374 Jul 19 16:47 sub-2b.yml\n",
    "-rw-r--r--  1 pephan  wheel  2690 Jul 19 16:28 terraform.yml\n",
    "```"
   ]
  },
  {
   "cell_type": "markdown",
   "id": "2378948e-4044-42ff-8333-785f221fe934",
   "metadata": {},
   "source": [
    "#### 2d. Add file, commit, and push changes."
   ]
  },
  {
   "cell_type": "code",
   "execution_count": 131,
   "id": "2e9675fb-c251-41c1-966a-870705b5237f",
   "metadata": {
    "tags": []
   },
   "outputs": [
    {
     "name": "stdout",
     "output_type": "stream",
     "text": [
      "M\t.github/workflows/root.yml\n",
      "M\t.github/workflows/sub-1.yml\n",
      "M\t.github/workflows/sub-2a.yml\n",
      "M\t.github/workflows/sub-2b.yml\n",
      "M\tcreate-workflows/templates/workspace_workflow.tpl\n",
      "M\tcreate-workflows/terraform.tfstate\n",
      "M\tcreate-workflows/terraform.tfstate.backup\n",
      "Already on 'main'\n",
      "Your branch is up to date with 'origin/main'.\n",
      "[main f4932fe] add/update workspace workflows\n",
      " 7 files changed, 28 insertions(+), 38 deletions(-)\n",
      "Enumerating objects: 23, done.\n",
      "Counting objects: 100% (23/23), done.\n",
      "Delta compression using up to 12 threads\n",
      "Compressing objects: 100% (12/12), done.\n",
      "Writing objects: 100% (12/12), 1.53 KiB | 1.53 MiB/s, done.\n",
      "Total 12 (delta 7), reused 0 (delta 0), pack-reused 0\n",
      "remote: Resolving deltas: 100% (7/7), completed with 7 local objects.\u001b[K\n",
      "To https://github.com/phanclan/test-workspace-triggers\n",
      "   edee347..f4932fe  main -> main\n",
      "\u001b[?2004h"
     ]
    },
    {
     "ename": "",
     "evalue": "1",
     "output_type": "error",
     "traceback": []
    }
   ],
   "source": [
    "git switch main\n",
    "git add $MAIN_DIR/$WORK_DIR/.github/workflows/*.yml\n",
    "git commit -am \"add/update workspace workflows\"\n",
    "git push"
   ]
  },
  {
   "cell_type": "markdown",
   "id": "b5593e65-9ee9-484d-bf60-10f1bc05fe87",
   "metadata": {},
   "source": [
    "## Test out changes for specific workspaces"
   ]
  },
  {
   "cell_type": "markdown",
   "id": "ae2eb0bc-07d8-4cfb-b3da-97df4c348b90",
   "metadata": {},
   "source": [
    "### 3. Prep for Modifications\n",
    "\n",
    "We are going to utilize a bash function to facilitate our changes to our multiple repos. Change the `TF_ORG` value below to your own TFC organization."
   ]
  },
  {
   "cell_type": "code",
   "execution_count": 121,
   "id": "e677bae1-098a-485d-9fd1-94bd5164b634",
   "metadata": {},
   "outputs": [
    {
     "name": "stdout",
     "output_type": "stream",
     "text": [
      "\u001b[?2004h\u001b[?2004l\u001b[?2004l\u001b[?2004l\u001b[?2004l\u001b[?2004l\u001b[?2004l\u001b[?2004l\u001b[?2004l\u001b[?2004l\u001b[?2004l\u001b[?2004l\u001b[?2004l\u001b[?2004l\u001b[?2004l\u001b[?2004l\u001b[?2004l\u001b[?2004l\u001b[?2004l\u001b[?2004l\u001b[?2004l\u001b[?2004l\u001b[?2004l\u001b[?2004l\u001b[?2004l\u001b[?2004l\u001b[?2004l\u001b[?2004l\u001b[?2004l\u001b[?2004l\u001b[?2004l\u001b[?2004l\u001b[?2004l\u001b[?2004l\u001b[?2004l\u001b[?2004l\u001b[?2004l\u001b[?2004l\u001b[?2004l\u001b[?2004l\u001b[?2004l\u001b[?2004l\u001b[?2004l\u001b[?2004l\u001b[?2004l"
     ]
    },
    {
     "ename": "",
     "evalue": "1",
     "output_type": "error",
     "traceback": []
    }
   ],
   "source": [
    "export TF_ORG=pphan\n",
    "\n",
    "#==> Start Function\n",
    "update_repo () {\n",
    "\n",
    "# git switch \"$1\" || git checkout -b \"$1\"\n",
    "git branch \"$1\"\n",
    "git switch \"$1\"\n",
    "\n",
    "cat << EOF > $MAIN_DIR/$WORK_DIR/$2$1/versions.tf\n",
    "terraform {\n",
    "  required_providers {\n",
    "    random = {\n",
    "      source = \"hashicorp/random\"\n",
    "    }\n",
    "  }\n",
    "  backend \"remote\" {\n",
    "    organization = \"${TF_ORG}\"\n",
    "\n",
    "    workspaces {\n",
    "      name = \"$1\"\n",
    "    }\n",
    "  }\n",
    "}\n",
    "output \"workspace\" {\n",
    "  value = \"$1 `date +%Y%m%d%H%M`\"\n",
    "}\n",
    "EOF\n",
    "\n",
    "#done\n",
    "\n",
    "# Push changes to repo\n",
    "git status\n",
    "git add $MAIN_DIR/$WORK_DIR/$2$1/versions.tf\n",
    "git commit -am \"Update $1 `date +%Y%m%d%H%M`\"\n",
    "git push --set-upstream origin $1\n",
    "\n",
    "# Delete branch. If we make changes in main, we want branch to have the latest commit.\n",
    "git switch main && git branch -D \"$1\"\n",
    "}\n",
    "#==> End Function"
   ]
  },
  {
   "cell_type": "markdown",
   "id": "e33e4722-431a-4284-91c9-e99834bd0adb",
   "metadata": {},
   "source": [
    "### 4. Modify sub-1"
   ]
  },
  {
   "cell_type": "markdown",
   "id": "eaa07eff-38ea-4b3e-95bf-d7686fd72fb2",
   "metadata": {},
   "source": [
    "Now let's update `sub-1`. For the function we need to pass the folder and the parent folder(s).\n",
    "\n",
    "```shell\n",
    "update_repo <folder> [<folder_prefix>]\n",
    "```"
   ]
  },
  {
   "cell_type": "code",
   "execution_count": 128,
   "id": "a6348e3e-dd4e-4041-9269-fa48eef45005",
   "metadata": {
    "tags": []
   },
   "outputs": [
    {
     "name": "stdout",
     "output_type": "stream",
     "text": [
      "Switched to branch 'sub-1'\n",
      "On branch sub-1\n",
      "Changes not staged for commit:\n",
      "  (use \"git add <file>...\" to update what will be committed)\n",
      "  (use \"git restore <file>...\" to discard changes in working directory)\n",
      "\t\u001b[31mmodified:   sub-1/versions.tf\u001b[m\n",
      "\n",
      "no changes added to commit (use \"git add\" and/or \"git commit -a\")\n",
      "[sub-1 cb073da] Update sub-1 202107221543\n",
      " 1 file changed, 1 insertion(+), 1 deletion(-)\n",
      "Enumerating objects: 7, done.\n",
      "Counting objects: 100% (7/7), done.\n",
      "Delta compression using up to 12 threads\n",
      "Compressing objects: 100% (4/4), done.\n",
      "Writing objects: 100% (4/4), 358 bytes | 358.00 KiB/s, done.\n",
      "Total 4 (delta 3), reused 0 (delta 0), pack-reused 0\n",
      "remote: Resolving deltas: 100% (3/3), completed with 3 local objects.\u001b[K\n",
      "remote: \n",
      "remote: Create a pull request for 'sub-1' on GitHub by visiting:\u001b[K\n",
      "remote:      https://github.com/phanclan/test-workspace-triggers/pull/new/sub-1\u001b[K\n",
      "remote: \n",
      "To https://github.com/phanclan/test-workspace-triggers\n",
      " * [new branch]      sub-1 -> sub-1\n",
      "Branch 'sub-1' set up to track remote branch 'sub-1' from 'origin'.\n",
      "Switched to branch 'main'\n",
      "Your branch is up to date with 'origin/main'.\n",
      "Deleted branch sub-1 (was cb073da).\n",
      "\u001b[?2004h"
     ]
    },
    {
     "ename": "",
     "evalue": "1",
     "output_type": "error",
     "traceback": []
    }
   ],
   "source": [
    "update_repo sub-1"
   ]
  },
  {
   "cell_type": "markdown",
   "id": "e2976134-952f-43aa-95a6-5cf0b544e8ea",
   "metadata": {},
   "source": [
    "1. Go to **Repo > Pull requests**.\n",
    "1. Select \"**Compare & pull**\" request. Or select \"**New pull request**\"\n",
    "1. For `base:` select your fork.\n",
    "1. For `compare`: select `sub-1` branch.\n",
    "1. Click \"**Create pull request**\"."
   ]
  },
  {
   "cell_type": "markdown",
   "id": "069d81ac-5d83-46af-a7f8-2cbb21c8a653",
   "metadata": {},
   "source": [
    "1. From your repository, click the \"**Actions**\" tab, and select the latest workflow run\n",
    "2. The output should include:\n",
    "\t* ``\"Hello Mona the Octocat\"``\n",
    "\t* Install and Setup Terraform\n",
    "\t* the result of the \"Goodbye\" script, \n",
    "\t* Terraform Plan\n",
    "\t* Update Pull Request"
   ]
  },
  {
   "cell_type": "markdown",
   "id": "6144c3d7-2139-4803-8c13-d512c7043080",
   "metadata": {},
   "source": [
    "### Modify sub-2a"
   ]
  },
  {
   "cell_type": "markdown",
   "id": "f75e9ae5-ddd7-4e35-8373-44ee37071af9",
   "metadata": {},
   "source": [
    "Now let's update `sub-2a`. For the function we need to pass the folder and the parent folder(s)."
   ]
  },
  {
   "cell_type": "code",
   "execution_count": 132,
   "id": "80cbd35d-f000-4857-898a-2b1f78af8fb8",
   "metadata": {
    "tags": []
   },
   "outputs": [
    {
     "name": "stdout",
     "output_type": "stream",
     "text": [
      "Switched to branch 'sub-2a'\n",
      "On branch sub-2a\n",
      "Changes not staged for commit:\n",
      "  (use \"git add <file>...\" to update what will be committed)\n",
      "  (use \"git restore <file>...\" to discard changes in working directory)\n",
      "\t\u001b[31mmodified:   sub-1/sub-2a/versions.tf\u001b[m\n",
      "\n",
      "no changes added to commit (use \"git add\" and/or \"git commit -a\")\n",
      "[sub-2a 4c25c1b] Update sub-2a 202107221613\n",
      " 1 file changed, 1 insertion(+), 1 deletion(-)\n",
      "Enumerating objects: 9, done.\n",
      "Counting objects: 100% (9/9), done.\n",
      "Delta compression using up to 12 threads\n",
      "Compressing objects: 100% (5/5), done.\n",
      "Writing objects: 100% (5/5), 439 bytes | 439.00 KiB/s, done.\n",
      "Total 5 (delta 3), reused 0 (delta 0), pack-reused 0\n",
      "remote: Resolving deltas: 100% (3/3), completed with 3 local objects.\u001b[K\n",
      "remote: \n",
      "remote: Create a pull request for 'sub-2a' on GitHub by visiting:\u001b[K\n",
      "remote:      https://github.com/phanclan/test-workspace-triggers/pull/new/sub-2a\u001b[K\n",
      "remote: \n",
      "To https://github.com/phanclan/test-workspace-triggers\n",
      " * [new branch]      sub-2a -> sub-2a\n",
      "Branch 'sub-2a' set up to track remote branch 'sub-2a' from 'origin'.\n",
      "Switched to branch 'main'\n",
      "Your branch is up to date with 'origin/main'.\n",
      "Deleted branch sub-2a (was 4c25c1b).\n",
      "\u001b[?2004h"
     ]
    },
    {
     "ename": "",
     "evalue": "1",
     "output_type": "error",
     "traceback": []
    }
   ],
   "source": [
    "update_repo sub-2a sub-1/"
   ]
  },
  {
   "cell_type": "markdown",
   "id": "5945b060-e042-4416-95f9-9f75ad201ac5",
   "metadata": {},
   "source": [
    "1. Go to **Repo > Pull requests**.\n",
    "1. Select \"**Compare & pull**\" request. Or select \"**New pull request**\"\n",
    "1. For `base:` select your fork.\n",
    "1. For `compare`: select `sub-2a` branch.\n",
    "1. Click \"**Create pull request**\"."
   ]
  },
  {
   "cell_type": "markdown",
   "id": "4b5d061d-cc4f-4498-a370-138b68c4c48f",
   "metadata": {},
   "source": [
    "### Modify sub-2b"
   ]
  },
  {
   "cell_type": "code",
   "execution_count": 50,
   "id": "14cec4df-271c-4f50-b0d3-2c0ae8f8e4c2",
   "metadata": {},
   "outputs": [
    {
     "name": "stdout",
     "output_type": "stream",
     "text": [
      "Switched to branch 'sub-2b'\n",
      "On branch sub-2b\n",
      "Changes not staged for commit:\n",
      "  (use \"git add <file>...\" to update what will be committed)\n",
      "  (use \"git restore <file>...\" to discard changes in working directory)\n",
      "\t\u001b[31mmodified:   sub-1/sub-2b/versions.tf\u001b[m\n",
      "\n",
      "no changes added to commit (use \"git add\" and/or \"git commit -a\")\n",
      "[sub-2b 00243bf] Update sub-2b 202107220917\n",
      " 1 file changed, 1 insertion(+), 1 deletion(-)\n",
      "Enumerating objects: 19, done.\n",
      "Counting objects: 100% (19/19), done.\n",
      "Delta compression using up to 12 threads\n",
      "Compressing objects: 100% (10/10), done.\n",
      "Writing objects: 100% (11/11), 1.02 KiB | 1.02 MiB/s, done.\n",
      "Total 11 (delta 4), reused 0 (delta 0), pack-reused 0\n",
      "remote: Resolving deltas: 100% (4/4), completed with 3 local objects.\u001b[K\n",
      "remote: \n",
      "remote: Create a pull request for 'sub-2b' on GitHub by visiting:\u001b[K\n",
      "remote:      https://github.com/phanclan/test-workspace-triggers/pull/new/sub-2b\u001b[K\n",
      "remote: \n",
      "To https://github.com/phanclan/test-workspace-triggers\n",
      " * [new branch]      sub-2b -> sub-2b\n",
      "Branch 'sub-2b' set up to track remote branch 'sub-2b' from 'origin'.\n",
      "\u001b[?2004h"
     ]
    },
    {
     "ename": "",
     "evalue": "1",
     "output_type": "error",
     "traceback": []
    }
   ],
   "source": [
    "update_repo sub-2b sub-1/"
   ]
  },
  {
   "cell_type": "markdown",
   "id": "7d966244-97bd-4023-ba2b-ba3e46bf69f7",
   "metadata": {},
   "source": [
    "1. Go to **Repo > Pull requests**.\n",
    "1. Select \"**Compare & pull**\" request. Or select \"**New pull request**\"\n",
    "1. For `base:` select your fork.\n",
    "1. For `compare`: select `sub-2b` branch.\n",
    "1. Click \"**Create pull request**\"."
   ]
  },
  {
   "cell_type": "markdown",
   "id": "8bfdc9d7-6e80-46d3-8f75-ba738bf1dfd5",
   "metadata": {},
   "source": [
    "## Verify path based workflow\n",
    "\n",
    "<!-- <details><summary>Generate a Pull Request</summary>\n",
    "\n",
    "* Next, generate a pull request from the `sub-1` branch.\n",
    "\t* Go to **GitHub** > **Code**.\n",
    "    * Click \"**Compare & pull request**\".\n",
    "\t* From the `base repository` drop-down, choose \"**YOUR**\" forked repository and `main` branch.\n",
    "\t* Click \"**Create pull request\"**.\n",
    "</details> -->\n",
    "\n",
    "**Verify your GitHub Actions workflow results**\n",
    "\n",
    "* Go to **GitHub**, navigate to the main page of the repository.\n",
    "* Click **Actions**.\n",
    "* In the left sidebar, click the workflow you want to see. `sub-1`\n",
    "* From the list of workflow runs, click the name of the run you want to see.\n",
    "    * You probably want the latest one on top.\n",
    "* Under **Jobs** or in the visualization graph, click the **Terraform** job.\n",
    "* Any failed steps are automatically expanded to display the results\n",
    "\n",
    "### Verify Pull Request Workflow Results\n",
    "\n",
    "* You should have 4 new workflows: root.yml, sub-1.yml, sub-2a.yml, and sub-2b.yml.\n",
    "* Only one workflow was triggered by a Pull Request: eg `sub-1`\n",
    "  * Pull requests should not trigger un-necessary activity if filtered correctly.\n",
    "* The terraform plan output performed in a working directory is copied to the relevant PR.\n",
    "\n",
    "### Review and Merge pull request\n",
    "\n",
    "* Navigate to your pull request. eg `sub-1`\n",
    "\t* Your PR will trigger the Terraform Actions workflow.\n",
    "\t* When the workflow completes, it will add a comment with the outcome of each step and a speculative plan.\n",
    "\n",
    "Terraform plans to create one resource. It will be a random pet name.\n",
    "\n",
    "### Merge pull request\n",
    "\n",
    "* Click \"**Merge pull request**\" and then confirm.\n",
    "\n",
    "###Verify Resources provisioned\n",
    "\n",
    "You can track the status of the apply job through **GitHub Actions** or **Terraform Cloud**.\n",
    "\n",
    "### GitHub Actions - Verify workflow results\n",
    "\n",
    "- In GitHub, go to \"**Actions**\".\n",
    "- Then, select the **pull request** you just merged.\n",
    "- Then, click on the \"**Terraform**\" workflow.\n",
    "\t- Notice how the \"**Terraform Plan**\", \"**Update Pull Request**\" and \"**Terraform Plan Status**\" steps have been skipped.\n",
    "- Expand the \"**Terraform Apply**\" step.\n",
    "    - Terraform should have one created one `random_pet` resource and displayed the pet name and workspace.\n",
    "* Only one workflow was triggered by a Merge: eg `sub-1`\n",
    "\n",
    "\n",
    "### Terraform Cloud\n",
    "\n",
    "* In Terraform Cloud, go to the `test-workspace-triggers` workspace.\n",
    "* Select the **run** triggered by the Actions workflow — this should be your most recent run.\n",
    "* Wait for the apply to complete, then expand \"**Apply finished**\".\n",
    "* Terraform should have one created one `random_pet` resource and displayed the pet name and workspace.\n"
   ]
  },
  {
   "cell_type": "markdown",
   "id": "2ed83bc9-96d1-4d69-a5e5-7a73036913ab",
   "metadata": {},
   "source": [
    "## Destroy resources\n",
    "\n",
    "Remember to destroy the resources and Terraform Cloud workspace you created for this tutorial.\n",
    "\n",
    "* Go to the `gh-actions-demo` workspace.\n",
    "* Queue a destroy plan and apply it.\n",
    "    * Click **Settings > Destruction and Deletion**.\n",
    "    * Click \"**Queue destroy plan**\".\n",
    "    * Confirm by entering the name of the workspace: eg `gh-actions-demo`\n",
    "    * Click \"**Queue destroy plan**\".\n",
    "    * Click \"**Confirm and Apply**\".\n",
    "    * Click \"**Confirm Plan**\"\n",
    "* Then, delete the workspace from Terraform Cloud.\n",
    "\n",
    "### GitHub Actions\n",
    "\n",
    "* GitHub - Disable Actions if you no longer need it.\n",
    "\t* Go to **Repo > Settings > Actions**\n",
    "\t* Select **Disable Actions**. Click **Save**.\n",
    "\n",
    "For a more detailed tutorial on destroying resources on Terraform Cloud, reference the [Clean up Cloud Resources tutorial](https://learn.hashicorp.com/tutorials/terraform/cloud-destroy?in=terraform/cloud-get-started).\n",
    "\n",
    "---"
   ]
  },
  {
   "cell_type": "markdown",
   "id": "c13c713b-5dfa-4a12-b4b1-bdd476658c36",
   "metadata": {},
   "source": [
    "## Next steps\n",
    "\n",
    "In this tutorial, you deployed a publicly available web server by automating your Terraform Cloud workflow with GitHub Actions. The resources below will help you customize the Actions workflow to fit your real-world use cases.\n",
    "\n",
    "- [Setup Terraform Action Documentation](https://github.com/marketplace/actions/hashicorp-setup-terraform)\n",
    "- [Continuous Integration for Terraform Modules with GitHub Actions](https://www.hashicorp.com/blog/continuous-integration-for-terraform-modules-with-github-actions/)\n",
    "- [Terraform and CircleCI](/tutorials/terraform/circle-ci) tutorial guides you through building an automated Terraform workflow using AWS S3 as a backend.\n",
    "- [Running Terraform in Automation](/tutorials/terraform/automate-terraform)"
   ]
  },
  {
   "cell_type": "markdown",
   "id": "8389438f-7b06-49d4-a4aa-8ce87efaa2c6",
   "metadata": {},
   "source": [
    "## Clean Up"
   ]
  },
  {
   "cell_type": "code",
   "execution_count": 189,
   "id": "0a3cc31c-6a7d-49f5-b9b9-1927088294a5",
   "metadata": {},
   "outputs": [
    {
     "name": "stdout",
     "output_type": "stream",
     "text": [
      "Delete local repos\n",
      "/Users/pephan/OneDrive/code/vault_transit_test/hc_demos-jupyter/Terraform\n",
      "\u001b[?2004h"
     ]
    },
    {
     "ename": "",
     "evalue": "1",
     "output_type": "error",
     "traceback": []
    }
   ],
   "source": [
    "cd $MAIN_DIR\n",
    "echo \"Delete local repos\"\n",
    "# rm -rf $MAIN_DIR/$WORK_DIR"
   ]
  },
  {
   "cell_type": "markdown",
   "id": "2aa03d9f-b686-4c1a-8db1-a6b043d895c6",
   "metadata": {},
   "source": [
    "* Delete your remote branch from the UI.\n",
    "* Delete your branch from the CLI.\n",
    "\n",
    "```shell\n",
    "# Delete local branch\n",
    "git branch -d <local_branch>\n",
    "# Delete remote branch\n",
    "git push origin --delete <remote_branch_name>\n",
    "```"
   ]
  },
  {
   "cell_type": "markdown",
   "id": "ccc698d0-7146-45f9-8608-3cb6b02d7f58",
   "metadata": {},
   "source": [
    "## Resources\n",
    "\n",
    "### Actions\n",
    "* dflook/terraform-github-actions - https://github.com/dflook/terraform-github-actions\n",
    "* https://github.com/marketplace/actions/hashicorp-setup-terraform\n",
    "* \n",
    "\n",
    "### Monorepo\n",
    "https://translate.google.com/translate?hl=en&sl=fr&u=http://blog.ippon.fr/2021/04/14/github-actions-en-action/&prev=search&pto=aue\n",
    "\n",
    "* GitHub Roadmap with actions filter\n",
    "\t* https://github.com/github/roadmap/projects/1?card_filter_query=action\n",
    "* https://www.kmruddy.com/2020/terraform-github-actions-integration/\n",
    "\n",
    "Super-linter\n",
    "https://github.com/github/super-linter\n",
    "\n",
    "```shell\n",
    "docker run --rm \\\n",
    "    -e RUN_LOCAL=true \\\n",
    "    -e VALIDATE_TERRAFORM=true \\\n",
    "    -e VALIDATE_ANSIBLE=true \\\n",
    "    -v $PWD:/tmp/lint github/super-linter\n",
    "```\n",
    "\n",
    "### Misc\n",
    "\n",
    "* [Running Terraform in Automation](https://learn.hashicorp.com/tutorials/terraform/automate-terraform)\n",
    "* https://github.com/marketplace/actions/paths-changes-filter"
   ]
  }
 ],
 "metadata": {
  "kernelspec": {
   "display_name": "Bash",
   "language": "bash",
   "name": "bash"
  },
  "language_info": {
   "codemirror_mode": "shell",
   "file_extension": ".sh",
   "mimetype": "text/x-sh",
   "name": "bash"
  }
 },
 "nbformat": 4,
 "nbformat_minor": 5
}
