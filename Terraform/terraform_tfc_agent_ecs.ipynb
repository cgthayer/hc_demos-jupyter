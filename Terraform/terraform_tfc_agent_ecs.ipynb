{
 "cells": [
  {
   "cell_type": "markdown",
   "id": "54d1fc21-b6e3-43a8-a019-e929d7405131",
   "metadata": {},
   "source": [
    "# Credential free provisioning with Terraform Cloud Agent on AWS ECS"
   ]
  },
  {
   "cell_type": "markdown",
   "id": "1b9c9c21-35bd-4b38-931c-42d4cd827a74",
   "metadata": {},
   "source": [
    "## Overview"
   ]
  },
  {
   "cell_type": "markdown",
   "id": "3a06bce2-0f53-49df-8853-0c857e0a2342",
   "metadata": {},
   "source": [
    "This guide provides an example of running [tfc-agent](https://hub.docker.com/r/hashicorp/tfc-agent) on AWS ECS, and shows how you can leverage `tfc-agent` to perform credential free provisioning using [Assume Role](https://registry.terraform.io/providers/hashicorp/aws/latest/docs#assume-role). Though this simple example shows usage within a single AWS account, this pattern is used to allow provisioning across accounts without requiring AWS credentials in Terraform workspaces."
   ]
  },
  {
   "cell_type": "markdown",
   "id": "4c1009a2-2b2e-49af-8977-9f8fecbcf74b",
   "metadata": {},
   "source": [
    "## Setup"
   ]
  },
  {
   "cell_type": "markdown",
   "id": "54403092-3d44-415a-81a9-6af8e15946f5",
   "metadata": {},
   "source": [
    "The `producer` workspace contains an example of registering and running the tfc-agent on ECS Fargate, along with necessary IAM policies and roles. It creates a `terraform_dev_role` to be using by the consumer who is provisioning infrastructure with Terraform.\n",
    "\n",
    "The `consumer` workspace provides an example of assuming that role and provisioning an instance without placing credentials in the Terraform Cloud workspace."
   ]
  },
  {
   "cell_type": "markdown",
   "id": "3f623c95-07bc-4c5d-8d2f-c39c0b8efaab",
   "metadata": {},
   "source": [
    "Here's what we are going to cover:\n",
    "\n",
    "1. Create TF Agent Pool and Token.\n",
    "    * Consumer resources will be deployed via these agents.\n",
    "1. Configure and provision the `producer` resources/workspace.\n",
    "    * Create ECS, IAM Role for Consumer, and autoscaling via Lambda.\n",
    "1. Create TF Workspace for Consumer.\n",
    "    * Receives configuration and sends to TF Agent.\n",
    "1. Configure and provision the `consumer` workspace.\n",
    "    * Uses the `terraform_dev_role` created in step 1.\n",
    "    * Assume role and deploy resource."
   ]
  },
  {
   "cell_type": "markdown",
   "id": "6894ac35-87a4-49b2-a11c-0626a007e041",
   "metadata": {},
   "source": [
    "## Prerequisites\n",
    "\n",
    "* [Terraform Cloud Business Tier](https://www.hashicorp.com/blog/announcing-hashicorp-terraform-cloud-business)\n",
    "* [Terraform Cloud Token](https://learn.hashicorp.com/tutorials/terraform/cloud-login)\n",
    "* AWS Credentials\n",
    "* AWS CLI"
   ]
  },
  {
   "cell_type": "markdown",
   "id": "8fcb6e79-4601-4ea1-b9c0-5a8138aa5394",
   "metadata": {},
   "source": [
    "### Set Main Environment Variables"
   ]
  },
  {
   "cell_type": "code",
   "execution_count": null,
   "id": "f18f41f1-7779-4ca4-b364-8f24a93d6052",
   "metadata": {},
   "outputs": [],
   "source": [
    "export RED=\"\\e[0;31m\" YELLOW=\"\\e[0;33m\" BLDYELLOW=\"\\e[1;33m\" GREEN=\"\\e[0;32m\"\n",
    "export CYAN=\"\\e[0;36m\" BLUE=\"\\e[0;34m\" WHITE=\"\\e[0;37m\" BLDWHITE=\"\\e[1;37m\"\n",
    "export NC=\"\\e[0m\"\n",
    "# Prevent commands starting with a space to be saved to shell history.\n",
    "HISTCONTROL=ignoreboth # do not save lines that begin with space in history\n",
    "\n",
    "printf \"${GREEN}# Set MAIN_DIR for future reference.${NC}\\n\"\n",
    "export MAIN_DIR=${PWD}"
   ]
  },
  {
   "cell_type": "markdown",
   "id": "b49a9b46-6465-4424-b929-08ebd4a7fc02",
   "metadata": {},
   "source": [
    "Be sure to replace `PREFIX`, `TF_ORG`, and `TF_WS_NAME` with your own values."
   ]
  },
  {
   "cell_type": "code",
   "execution_count": null,
   "id": "49d497d8-870a-46f6-9396-f0b31f5953c7",
   "metadata": {},
   "outputs": [],
   "source": [
    "export PREFIX=pphan\n",
    "export TF_ORG=pphan\n",
    "export TFC_ORG=$TF_ORG\n",
    "export TF_WS_NAME=consumer\n",
    "export TOKEN=$(jq -r '.credentials.\"app.terraform.io\".token' ~/.terraform.d/credentials.tfrc.json); export TFE_TOKEN=$TOKEN\n",
    "\n",
    "export TF_GIT_DIR=\"config/tfc-agent\"\n",
    "export TFE_PROVIDER_DIR=\"tfe-provider\"\n",
    "printf \"${GREEN}# Set Terraform Variables.${NC}\\n\"\n",
    "printf \"\\n$MAIN_DIR \\n $TF_GIT_DIR \\n TFE_PROVIDER_DIR: $TFE_PROVIDER_DIR\n",
    " TOKEN: $TOKEN \\n TF_ORG: $TFC_ORG\n",
    " TF_WS_NAME: $TF_WS_NAME\""
   ]
  },
  {
   "cell_type": "markdown",
   "id": "17bf7c54-b2bc-426f-a319-653d9581cd34",
   "metadata": {
    "tags": []
   },
   "source": [
    "### AWS Credentials"
   ]
  },
  {
   "cell_type": "markdown",
   "id": "556b83bb-734c-415b-a32f-7f19505a483c",
   "metadata": {},
   "source": [
    "**SE TIP:** You can get AWS creds from the following Instruqt tracks [AWS Dynamic Secrets](https://play.instruqt.com/hashicorp/tracks/vault-aws-dynamic-secrets) or [AWS Open Lab](https://play.instruqt.com/hashicorp/tracks/aws-open-lab).\n",
    "\n",
    "You can grab the grabs from a terminal tab or console tab.\n",
    "\n",
    "```shell\n",
    "env | grep -i ^aws_ | grep -v ACCOUNT\n",
    "```\n",
    "\n",
    "> NOTE: The labs and creds are good for 20 or 480 minutes respectively."
   ]
  },
  {
   "cell_type": "markdown",
   "id": "3f2dcbcc-7ec6-4ae3-8a45-9be195fa86dc",
   "metadata": {},
   "source": [
    "Unset any previous AWS credentials in environment variables."
   ]
  },
  {
   "cell_type": "code",
   "execution_count": null,
   "id": "cc79a15b-a287-46d0-a0b3-380c6082184a",
   "metadata": {},
   "outputs": [],
   "source": [
    "unset AWS_SESSION_TOKEN AWS_SECRET_ACCESS_KEY AWS_ACCESS_KEY_ID\n",
    "envo | grep AWS || env | grep AWS"
   ]
  },
  {
   "cell_type": "markdown",
   "id": "dc594029-fe1d-4a80-ab56-7bc868d4b72d",
   "metadata": {},
   "source": [
    "Set the AWS credentials"
   ]
  },
  {
   "cell_type": "code",
   "execution_count": null,
   "id": "60b82346-ce89-493c-b032-1741414c10ef",
   "metadata": {},
   "outputs": [],
   "source": [
    "export AWS_ACCESS_KEY_ID=REPLACE_ME\n",
    "export AWS_SECRET_ACCESS_KEY=REPLACE_ME\n",
    "export AWS_REGION=us-west-2"
   ]
  },
  {
   "cell_type": "markdown",
   "id": "4ca6ece9-24a4-45a1-9272-c8cd4a36654b",
   "metadata": {},
   "source": [
    "Confirm the credentials are in place."
   ]
  },
  {
   "cell_type": "code",
   "execution_count": null,
   "id": "2a2e8a8b-d9d1-44e5-9727-7696914f7479",
   "metadata": {},
   "outputs": [],
   "source": [
    "env | grep AWS"
   ]
  },
  {
   "cell_type": "markdown",
   "id": "12e0b7f3-e5ec-4321-a093-208cc46c7460",
   "metadata": {},
   "source": [
    "### Clone the tfc-agent repo"
   ]
  },
  {
   "cell_type": "code",
   "execution_count": null,
   "id": "73789666-1c64-4f30-a13b-c9a3dbc8d103",
   "metadata": {},
   "outputs": [],
   "source": [
    "mkdir -p $TF_GIT_DIR\n",
    "# cd config\n",
    "git clone https://github.com/assareh/tfc-agent.git $TF_GIT_DIR"
   ]
  },
  {
   "cell_type": "markdown",
   "id": "62be891c-3608-4b9f-8e6c-56dba2c2926f",
   "metadata": {},
   "source": [
    "## Steps"
   ]
  },
  {
   "cell_type": "markdown",
   "id": "11f2c573-3f2c-4430-b138-ee93c3f39147",
   "metadata": {
    "tags": []
   },
   "source": [
    "## Terraform Cloud Agent Token\n",
    "An agent token is a secret value that is used to uniquely identify your agents and allow them to register themselves with your Terraform Cloud organization. Please refer to the [documentation](https://www.terraform.io/docs/cloud/agents/index.html#managing-agent-pools) for an explanation of what an agent pool is and how to create an agent token in the Terraform Cloud Settings console.\n",
    "\n",
    "Additionally, these may now be created and managed with Terraform due to the addition of the following resources and data sources in version 0.24.0 of the [tfe provider](https://registry.terraform.io/providers/hashicorp/tfe/latest):\n",
    "* [`tfe_agent_pool`](https://registry.terraform.io/providers/hashicorp/tfe/latest/docs/resources/agent_pool) resource\n",
    "* [`tfe_agent_pool`](https://registry.terraform.io/providers/hashicorp/tfe/latest/docs/data-sources/agent_pool) data source\n",
    "* [`tfe_agent_token`](https://registry.terraform.io/providers/hashicorp/tfe/latest/docs/resources/agent_token) resource"
   ]
  },
  {
   "cell_type": "code",
   "execution_count": null,
   "id": "5f2aaad5-d288-403d-8a7b-40dfd0621ba1",
   "metadata": {},
   "outputs": [],
   "source": [
    "pushd ${TF_GIT_DIR}/tfc-agent-ecs/producer"
   ]
  },
  {
   "cell_type": "markdown",
   "id": "7b56e116-9f4b-47d5-802a-dc442afe76ff",
   "metadata": {},
   "source": [
    "### Create Agent Pool"
   ]
  },
  {
   "cell_type": "code",
   "execution_count": null,
   "id": "4fc165f1-887a-4658-81b6-9d94f203f6bf",
   "metadata": {},
   "outputs": [],
   "source": [
    "mkdir -p ${MAIN_DIR}/${TF_GIT_DIR}/tfc-agent-ecs/agent && cd $_"
   ]
  },
  {
   "cell_type": "code",
   "execution_count": null,
   "id": "1ebe529d-d0d5-43c0-b2bd-e8275a68c9d1",
   "metadata": {},
   "outputs": [],
   "source": [
    "cat > agent_pool.tf <<EOF\n",
    "resource \"tfe_agent_pool\" \"test-agent-pool\" {\n",
    "  name         = var.agent_pool_name\n",
    "  organization = var.organization\n",
    "}\n",
    "resource \"tfe_agent_token\" \"test-agent-token\" {\n",
    "  agent_pool_id = tfe_agent_pool.test-agent-pool.id\n",
    "  description   = var.agent_token_description\n",
    "}\n",
    "\n",
    "variable \"agent_pool_name\" {}\n",
    "variable \"agent_token_description\" {}\n",
    "variable \"organization\" {}\n",
    "\n",
    "output \"agent_pool_id\" { value = tfe_agent_pool.test-agent-pool.id }\n",
    "output \"agent_token_token\" {\n",
    "  value = tfe_agent_token.test-agent-token.token\n",
    "  sensitive = true\n",
    "}\n",
    "EOF"
   ]
  },
  {
   "cell_type": "markdown",
   "id": "82fb6879-309c-43c1-872c-3580e10d2069",
   "metadata": {},
   "source": [
    "Customize your agents by modifying the values for the variables."
   ]
  },
  {
   "cell_type": "code",
   "execution_count": null,
   "id": "84a594ce-845e-4767-a754-bd90f56d5a66",
   "metadata": {},
   "outputs": [],
   "source": [
    "tee terraform.auto.tfvars <<EOF\n",
    "agent_pool_name         = \"beeker-agent-pool\" # \"my-agent-pool-name\"\n",
    "agent_token_description = \"beeker-agents\" # \"my-agent-token-name\"\n",
    "organization            = \"${TFC_ORG}\"\n",
    "EOF"
   ]
  },
  {
   "cell_type": "markdown",
   "id": "05ad5b1b-69e1-4b8e-b5d4-45d172bb36a8",
   "metadata": {},
   "source": [
    "### Provision Agent Resources"
   ]
  },
  {
   "cell_type": "code",
   "execution_count": null,
   "id": "80e76f31-5d5a-46ee-8350-096f20254913",
   "metadata": {
    "tags": []
   },
   "outputs": [],
   "source": [
    "terraform init"
   ]
  },
  {
   "cell_type": "code",
   "execution_count": null,
   "id": "71e81b39-b019-4650-a8f4-41fdd178308b",
   "metadata": {
    "tags": []
   },
   "outputs": [],
   "source": [
    "terraform validate && tf apply -input=false -auto-approve"
   ]
  },
  {
   "cell_type": "markdown",
   "id": "5ea261b7-9d5e-4f6f-aef6-9c3db2fd47c1",
   "metadata": {},
   "source": [
    "Get agent pool with API"
   ]
  },
  {
   "cell_type": "code",
   "execution_count": null,
   "id": "aefa6d51-e88a-4c63-a70f-b07b550c9b6d",
   "metadata": {},
   "outputs": [],
   "source": [
    "AGENT_POOL_ID=$(curl --silent \\\n",
    "  --header \"Authorization: Bearer $TOKEN\" \\\n",
    "  --header \"Content-Type: application/vnd.api+json\" \\\n",
    "  --request GET \\\n",
    "  https://app.terraform.io/api/v2/organizations/$TFC_ORG/agent-pools | jq -r '.data[0].id')\n",
    "printf \"$AGENT_POOL_ID\\n\""
   ]
  },
  {
   "cell_type": "markdown",
   "id": "04813253-7b32-4be6-804e-831860c79863",
   "metadata": {},
   "source": [
    "---\n",
    "## TFC Agent in Amazon ECS Producer Workspace"
   ]
  },
  {
   "cell_type": "markdown",
   "id": "2291a923-9e0d-40e8-9067-ea64a8e3c20f",
   "metadata": {},
   "source": [
    "This workspace will require AWS access/credentials to provision.\n",
    "\n",
    "It will be used to provision the following items:\n",
    "\n",
    "* ECS\n",
    "* Lambda Function for autoscaling\n",
    "* IAM role"
   ]
  },
  {
   "cell_type": "markdown",
   "id": "7eb43701-01b8-4e3d-be7c-b049cf40e724",
   "metadata": {},
   "source": [
    "### Autoscaling tfc-agent with a Lambda Function\n",
    "\n",
    "There is an included Lambda function that, when combined with [Terraform Cloud notifications](https://www.terraform.io/docs/cloud/workspaces/notifications.html), enables autoscaling the number of Terraform Cloud Agents running.\n",
    "\n",
    "To use it, you'll need to:\n",
    "1. Configure the `desired_count` and `max_count` Terraform variables.\n",
    "    * `desired_count` sets the baseline number of agents to always be running.\n",
    "    * `max_count` sets the maximum number of agents allowed to be running at one time.\n",
    "2. Configure a [generic notification](https://www.terraform.io/docs/cloud/workspaces/notifications.html#creating-a-notification-configuration) for each Terraform Cloud workspace that will be using an agent for its [execution mode](https://www.terraform.io/docs/cloud/workspaces/settings.html#execution-mode)\n",
    "    * We will use the [Terraform Enterprise provider](https://registry.terraform.io/providers/hashicorp/tfe/latest/docs) to configure this in consumer workspace."
   ]
  },
  {
   "cell_type": "markdown",
   "id": "db019aae-5cf8-4cc7-a850-8d99fe21d850",
   "metadata": {},
   "source": [
    "Expected Results:\n",
    "\n",
    "* When a run is queued, TFC will send a notification to the Lambda function\n",
    "    * This will increase the number of running agents by 1.\n",
    "* When the run is completed, TFC will send another notification to the Lambda function.\n",
    "    * This will decrease the number of running agents by 1.\n",
    "\n",
    "NOTE: [Speculative Plans](https://www.terraform.io/docs/cloud/run/index.html#speculative-plans) will not trigger this autoscaling."
   ]
  },
  {
   "cell_type": "markdown",
   "id": "32a8f493-3937-4629-89d9-1a1ed1c68605",
   "metadata": {},
   "source": [
    "### Set Variables\n",
    "Please provide values for the following required [variables](https://www.terraform.io/docs/language/values/variables.html#assigning-values-to-root-module-variables):\n",
    "* `prefix`: a name prefix to add to the resources\n",
    "* `tfc_agent_token`: The Terraform Cloud agent token you would like to use. NOTE: This is a secret and should be marked as sensitive in Terraform Cloud. (See the next section for how to create this.)"
   ]
  },
  {
   "cell_type": "code",
   "execution_count": null,
   "id": "ec71e5d5-9d60-4faa-aa15-2d895748d127",
   "metadata": {},
   "outputs": [],
   "source": [
    "mkdir -p $MAIN_DIR/$TF_GIT_DIR/tfc-agent-ecs/producer && cd $_ ; pwd"
   ]
  },
  {
   "cell_type": "markdown",
   "id": "adbe7897-e435-4ed7-af85-91f44840e4ae",
   "metadata": {},
   "source": [
    "Set `TFC_AGENT_TOKEN` from terraform output of agent provisioning."
   ]
  },
  {
   "cell_type": "code",
   "execution_count": null,
   "id": "ca7a77f2-c5e5-4323-b506-f6793b5cd113",
   "metadata": {},
   "outputs": [],
   "source": [
    "TFC_AGENT_TOKEN=$(terraform -chdir=../agent output agent_token_token)"
   ]
  },
  {
   "cell_type": "code",
   "execution_count": null,
   "id": "e24af1c7-e8a8-4afb-8083-1498b41802f2",
   "metadata": {},
   "outputs": [],
   "source": [
    "cat > outputs_2.tf << EOF\n",
    "output \"notification_token\" {\n",
    "  value = aws_ssm_parameter.notification_token.value\n",
    "  sensitive = true\n",
    "}\n",
    "EOF"
   ]
  },
  {
   "cell_type": "code",
   "execution_count": null,
   "id": "6a569f16-7499-4952-ba63-54d0dd9efd75",
   "metadata": {},
   "outputs": [],
   "source": [
    "tee terraform.auto.tfvars <<EOF\n",
    "desired_count = 2\n",
    "max_count     = 4\n",
    "notification_token = \"SuperSecret!!\"\n",
    "prefix        = \"${PREFIX}\"\n",
    "region        = \"${AWS_REGION}\"\n",
    "tfc_agent_token = ${TFC_AGENT_TOKEN} #$(echo $AGENT_TOKEN | jq .attributes.token)\n",
    "task_cpu = 1024 # 1024: 1cpu, 2048: 2cpu\n",
    "task_mem = 8192\n",
    "task_def_mem = 2048 # 2048, 4096\n",
    "EOF"
   ]
  },
  {
   "cell_type": "markdown",
   "id": "58ca0ff5-312a-41fa-9539-f80e64a996f3",
   "metadata": {},
   "source": [
    "We recommend you review all other variables and configure their values according to your specifications. You can adjust the resource allocations for the agent task with `task_cpu`, `task_mem`, `task_def_cpu`, and `task_def_mem`. (Refer to the [AWS docs](https://docs.aws.amazon.com/AmazonECS/latest/developerguide/task_definition_parameters.html#task_size) for the supported sizes.) As of this writing, the terraform run environment built in to Terraform Cloud provides 2 cores and 2GB of RAM. However, I have used the agent with as little as 256MB of RAM. YMMV\n",
    "\n",
    "`ttl` and `common_tags` are used only for tagging and are completely optional."
   ]
  },
  {
   "cell_type": "markdown",
   "id": "92930d0a-1b41-4d51-a925-0696ac6f16f6",
   "metadata": {},
   "source": [
    "### Provision Producer Resources"
   ]
  },
  {
   "cell_type": "code",
   "execution_count": null,
   "id": "681f9827-fbf0-4063-ae28-73d71a0d930f",
   "metadata": {
    "tags": []
   },
   "outputs": [],
   "source": [
    "terraform init"
   ]
  },
  {
   "cell_type": "code",
   "execution_count": null,
   "id": "a8e50d49-705f-44ae-8067-b01157fd211a",
   "metadata": {
    "tags": []
   },
   "outputs": [],
   "source": [
    "terraform validate && terraform plan -input=false -out=tfplan"
   ]
  },
  {
   "cell_type": "code",
   "execution_count": null,
   "id": "1672103c-5e21-4ef2-9e4a-7519001a7991",
   "metadata": {
    "tags": []
   },
   "outputs": [],
   "source": [
    "terraform apply -input=false -auto-approve"
   ]
  },
  {
   "cell_type": "markdown",
   "id": "5023542d-d192-42f9-a128-6debfa067767",
   "metadata": {},
   "source": [
    "Confirm that agents are registering with TFC."
   ]
  },
  {
   "cell_type": "code",
   "execution_count": null,
   "id": "3eae4f2f-8b84-4909-a80c-a08e4735f5e6",
   "metadata": {},
   "outputs": [],
   "source": [
    "open https://app.terraform.io/app/${TFC_ORG}/settings/agents"
   ]
  },
  {
   "attachments": {
    "28b8b3bb-3942-4f76-a697-84e611efa884.png": {
     "image/png": "[encoded data removed]"
    }
   },
   "cell_type": "markdown",
   "id": "db3f0704-63d2-48af-a81b-221d23e22453",
   "metadata": {},
   "source": [
    "![image.png](attachment:28b8b3bb-3942-4f76-a697-84e611efa884.png)"
   ]
  },
  {
   "cell_type": "markdown",
   "id": "56617bc3-a6d9-4ffa-ab85-d0ff8daf55fc",
   "metadata": {},
   "source": [
    "Or from the API."
   ]
  },
  {
   "cell_type": "code",
   "execution_count": null,
   "id": "f4930dde-5dde-4cef-8aab-2e9bea60dc2d",
   "metadata": {},
   "outputs": [],
   "source": [
    "curl \\\n",
    "  --header \"Authorization: Bearer $TOKEN\" \\\n",
    "  --header \"Content-Type: application/vnd.api+json\" \\\n",
    "  --request GET \\\n",
    "  https://app.terraform.io/api/v2/agent-pools/$(terraform -chdir=../agent output -raw  agent_pool_id)/agents | jq -c .data[]"
   ]
  },
  {
   "cell_type": "markdown",
   "id": "604c1c0d-c644-42f2-8268-5c6f6f4c65e6",
   "metadata": {},
   "source": [
    "In both the UI and the API, you should see four agents."
   ]
  },
  {
   "cell_type": "markdown",
   "id": "f5d2f77d-b611-4352-8f1e-01970e156f2a",
   "metadata": {},
   "source": [
    "### References\n",
    "* [Terraform Cloud Agents](https://www.terraform.io/docs/cloud/workspaces/agent.html)\n",
    "* [Agent Pools and Agents API](https://www.terraform.io/docs/cloud/api/agents.html)\n",
    "* [Agent Tokens API](https://www.terraform.io/docs/cloud/api/agent-tokens.html)"
   ]
  },
  {
   "cell_type": "markdown",
   "id": "63bf0ef1-400c-4579-9665-53ef7869d9b4",
   "metadata": {},
   "source": [
    "## Create and Configure a Workspace with TFE Provider\n",
    "\n",
    "Create a workspace with the [TFE provider](https://registry.terraform.io/providers/hashicorp/tfe/latest/docs). The following steps will setup the following items via the TFE Provider:\n",
    "\n",
    "* `execution_mode`\n",
    "* `agent_pool`\n",
    "* `terraform_version`\n",
    "* `auto_apply`\n",
    "* `queue_all_runs`"
   ]
  },
  {
   "cell_type": "code",
   "execution_count": null,
   "id": "690fae0c-a132-4287-8b25-26586bd91bfb",
   "metadata": {
    "tags": []
   },
   "outputs": [],
   "source": [
    "# Confirm variables are set.\n",
    "printf \"\\nMAIN_DIR: $MAIN_DIR \\n PROVIDER_DIR: $TFE_PROVIDER_DIR \\n TF_ORG: $TF_ORG \\n TF_WS_NAME: $TF_WS_NAME \\n\""
   ]
  },
  {
   "cell_type": "markdown",
   "id": "caf7619c-43f0-4f59-89fa-20af43faeccf",
   "metadata": {},
   "source": [
    "Create and go to folder for your TFC Workspace configuration."
   ]
  },
  {
   "cell_type": "code",
   "execution_count": null,
   "id": "82331143-dc6f-40a9-8fe6-0c40f8ea310c",
   "metadata": {},
   "outputs": [],
   "source": [
    "mkdir -p $MAIN_DIR/$TF_GIT_DIR/tfc-agent-ecs/$TFE_PROVIDER_DIR && cd $_ ; pwd"
   ]
  },
  {
   "cell_type": "markdown",
   "id": "4e1dd8a7-955d-41f7-818e-1c67ee0793e6",
   "metadata": {},
   "source": [
    "Define the required providers and versions."
   ]
  },
  {
   "cell_type": "code",
   "execution_count": null,
   "id": "392a9d6f-645e-4b8f-99f4-c79ee9ad6f6d",
   "metadata": {
    "tags": []
   },
   "outputs": [],
   "source": [
    "cat > versions.tf <<-EOF\n",
    "terraform {\n",
    "  required_providers {\n",
    "    tfe = {\n",
    "      source  = \"hashicorp/tfe\"\n",
    "      version = \">=0.26.1\"\n",
    "    }\n",
    "  }\n",
    "  required_version = \"> 0.14\" # tf oss version\n",
    "}\n",
    "EOF"
   ]
  },
  {
   "cell_type": "code",
   "execution_count": null,
   "id": "e42ab5fb-f433-4e08-8995-cf383c5eedcc",
   "metadata": {
    "tags": []
   },
   "outputs": [],
   "source": [
    "cat > workspace-consumer.tf <<-\"EOF\"\n",
    "resource \"tfe_workspace\" \"this\" {\n",
    "  name         = \"${var.tfc_workspace_name}\"\n",
    "  organization = var.tfc_org\n",
    "  queue_all_runs = false\n",
    "  execution_mode = var.execution_mode\n",
    "  agent_pool_id  = var.agent_pool_id\n",
    "  auto_apply     = var.auto_apply\n",
    "  terraform_version = var.terraform_version\n",
    "  tag_names = [\"boss:eljefe\", \"owner:pphan\"] # New in Terraform Cloud\n",
    "}\n",
    "\n",
    "resource \"tfe_notification_configuration\" \"agent_lambda_webhook\" {\n",
    "  name             = \"tfc-agent\"\n",
    "  enabled          = true\n",
    "  destination_type = \"generic\"\n",
    "  token            = var.notification_token\n",
    "  triggers         = [\"run:created\", \"run:completed\", \"run:errored\"]\n",
    "  url              = var.webhook_url\n",
    "  workspace_id     = tfe_workspace.this.id\n",
    "}\n",
    "EOF"
   ]
  },
  {
   "cell_type": "code",
   "execution_count": null,
   "id": "01fada8e-ade5-4d97-89bd-20a152c1dd92",
   "metadata": {
    "tags": []
   },
   "outputs": [],
   "source": [
    "cat > variables.tf <<-\"EOF\"\n",
    "#// TFC Variables and Outputs\n",
    "variable \"agent_pool_id\" {\n",
    "  description = \"auto apply changes when a Terraform plan is successful\"\n",
    "  default     = false\n",
    "}\n",
    "variable \"auto_apply\" {\n",
    "  description = \"auto apply changes when a Terraform plan is successful\"\n",
    "  default     = false\n",
    "}\n",
    "variable \"execution_mode\" {\n",
    "  description = \"execution mode to use - remote, local, agent\"\n",
    "  default     = \"local\"\n",
    "}\n",
    "variable \"notification_token\" {\n",
    "  description = \"Token to authenticate with Lambda\"\n",
    "}\n",
    "variable \"region\" {\n",
    "  description = \"AWS Region\"\n",
    "}\n",
    "variable \"tfc_org\" {\n",
    "  description = \"The Terraform Cloud organization to create things in\"\n",
    "  default     = \"REPLACE_ME\"\n",
    "}\n",
    "variable \"tfc_workspace_name\" {\n",
    "  description = \"Terraform workspace name\"\n",
    "  default     = \"consumer\"\n",
    "}\n",
    "variable \"terraform_version\" {\n",
    "  description = \"Version of Terraform to use for this workspace.\"\n",
    "  default     = null\n",
    "}\n",
    "variable \"webhook_url\" {\n",
    "  description = \"URL target for workspace notification\"\n",
    "}\n",
    "\n",
    "output \"workspace_id\" {\n",
    "    value = tfe_workspace.this.id\n",
    "}\n",
    "EOF"
   ]
  },
  {
   "cell_type": "markdown",
   "id": "4bdd32e2-fb17-493d-be0e-283292e0dd3a",
   "metadata": {},
   "source": [
    "### Add Notification to Workspaces"
   ]
  },
  {
   "cell_type": "markdown",
   "id": "c7007e91-a99b-48ba-9160-b7704d63933a",
   "metadata": {},
   "source": [
    "Here's how we add notifications to a workspace with the [TFE provider](https://registry.terraform.io/providers/hashicorp/tfe/latest/docs):"
   ]
  },
  {
   "cell_type": "markdown",
   "id": "5eff8092-72ed-4d8f-b2fd-a39020351bb2",
   "metadata": {},
   "source": [
    "```go\n",
    "resource \"tfe_notification_configuration\" \"agent_lambda_webhook\" {\n",
    "  name             = \"tfc-agent\"\n",
    "  enabled          = true\n",
    "  destination_type = \"generic\"\n",
    "  token            = var.notification_token\n",
    "  triggers         = [\"run:created\", \"run:completed\", \"run:errored\"]\n",
    "  url              = var.webhook_url\n",
    "  // url              = data.terraform_remote_state.tfc-agent-ecs-producer.outputs.webhook_url\n",
    "  workspace_id     = tfe_workspace.this.id\n",
    "}\n",
    "```"
   ]
  },
  {
   "cell_type": "markdown",
   "id": "3f719fb7-11f7-47ca-bfa3-53e2c48d916e",
   "metadata": {},
   "source": [
    "* `token` - the notification token\n",
    "* `triggers` - type of events that will trigger a notification\n",
    "* `url` - webhook url"
   ]
  },
  {
   "cell_type": "markdown",
   "id": "1a9cb082-73bb-4c89-b79c-e36051fa31d8",
   "metadata": {},
   "source": [
    "### Set variables for TFC Workspace"
   ]
  },
  {
   "cell_type": "code",
   "execution_count": null,
   "id": "d52002c0-43db-4e0e-ad4c-f649d4be0be2",
   "metadata": {
    "tags": []
   },
   "outputs": [],
   "source": [
    "tee terraform.tfvars <<-EOF\n",
    "agent_pool_id      = \"$(terraform -chdir=../agent output -raw  agent_pool_id)\"\n",
    "auto_apply         = true\n",
    "execution_mode     = \"agent\"\n",
    "notification_token = \"$(terraform -chdir=../producer output -raw  notification_token)\"\n",
    "region             = \"$AWS_REGION\"\n",
    "tfc_workspace_name = \"${TF_WS_NAME}\"\n",
    "tfc_org            = \"${TF_ORG}\"\n",
    "terraform_version  = \"$(terraform version -json | jq -r .terraform_version)\"\n",
    "webhook_url        = \"$(terraform -chdir=../producer output -raw  webhook_url)\"\n",
    "EOF"
   ]
  },
  {
   "cell_type": "markdown",
   "id": "9b3b5bc0-c2a8-4902-b566-5f38e3b9d001",
   "metadata": {},
   "source": [
    "* `execution_mode` - Set to agent\n",
    "* `agent_pool_id` - Specify which agent pool to use\n",
    "* `notification_token` - we reference this from the `producer` workspace\n",
    "* `webhook_url` - we reference this from the `producer` workspace"
   ]
  },
  {
   "cell_type": "markdown",
   "id": "9386ab26-ee6c-4a27-a896-d2b3db530fee",
   "metadata": {},
   "source": [
    "### Provision Consumer TFC Workspace"
   ]
  },
  {
   "cell_type": "code",
   "execution_count": null,
   "id": "8d35806a-4dca-44a8-9feb-ebade9f1bdfa",
   "metadata": {},
   "outputs": [],
   "source": [
    "tf init -upgrade"
   ]
  },
  {
   "cell_type": "code",
   "execution_count": null,
   "id": "dca0ffce-048b-4164-90c8-0c31b49a2517",
   "metadata": {
    "tags": []
   },
   "outputs": [],
   "source": [
    "terraform validate && terraform plan -input=false"
   ]
  },
  {
   "cell_type": "code",
   "execution_count": null,
   "id": "6800901d-a1d5-4129-b593-d9f41377f4f7",
   "metadata": {
    "tags": []
   },
   "outputs": [],
   "source": [
    "terraform apply -input=false -auto-approve"
   ]
  },
  {
   "cell_type": "markdown",
   "id": "883c6909-331e-410b-9612-28435bedb634",
   "metadata": {},
   "source": [
    "### Verification"
   ]
  },
  {
   "cell_type": "code",
   "execution_count": null,
   "id": "000e869f-65fa-4337-8572-760afbff5231",
   "metadata": {},
   "outputs": [],
   "source": [
    "curl -s \\\n",
    "  --header \"Authorization: Bearer $TOKEN\" \\\n",
    "  --header \"Content-Type: application/vnd.api+json\" \\\n",
    "  https://app.terraform.io/api/v2/organizations/${TFC_ORG}/workspaces/consumer \\\n",
    "  | jq .data | grep -E \"\\\"name\\\"|mode\""
   ]
  },
  {
   "cell_type": "markdown",
   "id": "4cbb53b7-7deb-47f8-8f48-656e9b14c356",
   "metadata": {},
   "source": [
    "Verify that your workspace is configured correctly."
   ]
  },
  {
   "cell_type": "code",
   "execution_count": null,
   "id": "da06065a-e022-432e-a648-c77c47c8d357",
   "metadata": {},
   "outputs": [],
   "source": [
    "open https://app.terraform.io/app/${TFC_ORG}/workspaces/consumer/settings/notifications"
   ]
  },
  {
   "cell_type": "markdown",
   "id": "12f536f4-25cc-418a-a17b-c0069a710070",
   "metadata": {},
   "source": [
    "<img src=https://raw.githubusercontent.com/assareh/tfc-agent/master/tfc-agent-ecs/producer/files/notification_config.png width=640>"
   ]
  },
  {
   "cell_type": "markdown",
   "id": "c5f0d979-801d-49ea-8bd2-fd731e60cb6c",
   "metadata": {},
   "source": [
    "---\n",
    "\n",
    "## TFC Agent in Amazon ECS Consumer Workspace"
   ]
  },
  {
   "cell_type": "markdown",
   "id": "b41788a3-87a5-4359-85fe-75995560ca8d",
   "metadata": {},
   "source": [
    "No AWS credentials are required in this workspace. AWS access is obtained through the `tfc-agent`. The `tfc-agent` running in AWS ECS is granted IAM permissions to assume roles. A Terraform user can invoke a role in their aws provider as follows:\n",
    "\n",
    "```go\n",
    "provider \"aws\" {\n",
    "  assume_role {\n",
    "    role_arn = ...\n",
    "  }\n",
    "...\n",
    "```\n",
    "\n",
    "In this model it is important to enforce least privilege on Terraform Cloud workspace access using [Single Sign-on](https://www.terraform.io/docs/cloud/users-teams-organizations/single-sign-on.html) and the built-in [RBAC controls](https://www.terraform.io/docs/cloud/workspaces/access.html)."
   ]
  },
  {
   "cell_type": "markdown",
   "id": "408b29a2-b97f-411a-8923-20e0c3acd17a",
   "metadata": {},
   "source": [
    "Create and go to folder for your TFC Workspace configuration."
   ]
  },
  {
   "cell_type": "code",
   "execution_count": null,
   "id": "4319d77a-a6e3-4f0d-ab8f-af7f2617841f",
   "metadata": {},
   "outputs": [],
   "source": [
    "mkdir -p $MAIN_DIR/$TF_GIT_DIR/tfc-agent-ecs/consumer && cd $_ ; pwd"
   ]
  },
  {
   "cell_type": "markdown",
   "id": "0cb76d05-8ad0-4489-b6f5-3073f2b913e7",
   "metadata": {},
   "source": [
    "### main.tf"
   ]
  },
  {
   "cell_type": "markdown",
   "id": "b7e27441-7f1d-4a7e-aeeb-55955cf766b6",
   "metadata": {},
   "source": [
    "This workspace will create an Ubuntu VM."
   ]
  },
  {
   "cell_type": "code",
   "execution_count": null,
   "id": "09610153-bd3e-4c0b-950a-08a4ad5c7fba",
   "metadata": {},
   "outputs": [],
   "source": [
    "# backup original main.tf for reference\n",
    "mv main.tf main.tf.$(date +%Y%m%d)"
   ]
  },
  {
   "cell_type": "code",
   "execution_count": null,
   "id": "07dd45fe-683a-4178-9010-38a65b8c168e",
   "metadata": {},
   "outputs": [],
   "source": [
    "cat > main.tf <<EOF\n",
    "provider \"aws\" {\n",
    "  region = var.region\n",
    "  assume_role {\n",
    "    role_arn     = var.dev_role_arn\n",
    "    session_name = \"terraform\"\n",
    "  }\n",
    "  default_tags {\n",
    "    tags = local.common_tags\n",
    "  }\n",
    "}\n",
    "\n",
    "data \"aws_caller_identity\" \"current\" {}\n",
    "\n",
    "data \"aws_ami\" \"ubuntu-vault-oss\" {\n",
    "  owners      = [\"099720109477\"] # Canonical\n",
    "  # owners      = [\"679593333241\"] # HashiCorp\n",
    "  most_recent = true\n",
    "  filter {\n",
    "    name   = \"name\"\n",
    "    values = [\"ubuntu/images/hvm-ssd/ubuntu-focal-20*-amd64-server-*\"]\n",
    "    # values = [\"hashicorp/marketplace/vault-1.5.0-*\"]\n",
    "  }\n",
    "  filter {\n",
    "    name   = \"virtualization-type\"\n",
    "    values = [\"hvm\"]\n",
    "  }\n",
    "}\n",
    "\n",
    "resource \"aws_instance\" \"vault\" {\n",
    "  ami           = data.aws_ami.ubuntu-vault-oss.id\n",
    "  instance_type = \"t3.small\"\n",
    "}\n",
    "\n",
    "resource \"null_resource\" \"delay\" {\n",
    "  provisioner \"local-exec\" {\n",
    "    command = \"sleep 60\"\n",
    "  }\n",
    "}\n",
    "\n",
    "output \"caller_user\" {\n",
    "  value = data.aws_caller_identity.current.user_id\n",
    "}\n",
    "EOF"
   ]
  },
  {
   "cell_type": "markdown",
   "id": "b8e912a9-c94a-482a-ab08-ad8d8c567239",
   "metadata": {},
   "source": [
    "* `aws_caller_identity` Use this data source to get the access to the effective Account ID, User ID, and ARN in which Terraform is authorized."
   ]
  },
  {
   "cell_type": "markdown",
   "id": "6a227c7d-621e-449f-bc22-58b86266c8bb",
   "metadata": {},
   "source": [
    "### Set Variables"
   ]
  },
  {
   "cell_type": "markdown",
   "id": "17259af0-1aa9-4ac5-a526-884e8837f908",
   "metadata": {},
   "source": [
    "Provide a value for the following required [variable](https://www.terraform.io/docs/language/values/variables.html#assigning-values-to-root-module-variables):\n",
    "\n",
    "* `dev_role_arn`: The Amazon Resource Name of the dev role to be assumed.\n",
    "    * This is the value of output `terraform_dev_role` from the Producer workspace."
   ]
  },
  {
   "cell_type": "code",
   "execution_count": null,
   "id": "4d0fdf28-4a73-490f-94b8-d5098ba0f09f",
   "metadata": {},
   "outputs": [],
   "source": [
    "tee terraform.auto.tfvars <<EOF\n",
    "dev_role_arn=$(terraform -chdir=../producer output terraform_dev_role)\n",
    "region      =\"${AWS_REGION}\"\n",
    "EOF"
   ]
  },
  {
   "cell_type": "markdown",
   "id": "2a6af7ad-b3d7-4aa4-8d2a-16d70292ceaf",
   "metadata": {},
   "source": [
    "### Define Remote backend"
   ]
  },
  {
   "cell_type": "markdown",
   "id": "5156cfe0-0be6-4598-bf13-17d588bfb89f",
   "metadata": {},
   "source": [
    "Specify the TFC org and workspace that will run this plan/apply and store the state files."
   ]
  },
  {
   "cell_type": "code",
   "execution_count": null,
   "id": "0d5e2c22-700b-4b2d-8e3f-91af79979c0d",
   "metadata": {},
   "outputs": [],
   "source": [
    "tee remote_backend.tf <<EOF\n",
    "terraform {\n",
    "  backend \"remote\" {\n",
    "    hostname     = \"app.terraform.io\"\n",
    "    organization = \"${TFC_ORG}\"\n",
    "    workspaces {\n",
    "      name = \"consumer\"\n",
    "    }\n",
    "  }\n",
    "}\n",
    "EOF"
   ]
  },
  {
   "cell_type": "markdown",
   "id": "7122002f-b13d-4630-82ee-dbce4a043a42",
   "metadata": {},
   "source": [
    "### Provision Consumer Resources"
   ]
  },
  {
   "cell_type": "markdown",
   "id": "f231769a-3ba4-4065-9bab-470ecb077b70",
   "metadata": {},
   "source": [
    "TIP: If you are using AWS credentials from Instruqt, the environment will not have a default VPC."
   ]
  },
  {
   "cell_type": "markdown",
   "id": "ebd445b3-e564-4b2c-9fdb-c2e76a9c508e",
   "metadata": {},
   "source": [
    "Create a default VPC if you don't have one."
   ]
  },
  {
   "cell_type": "code",
   "execution_count": null,
   "id": "4c7670c9-465f-4c11-bcd5-297890e0e8ad",
   "metadata": {
    "tags": []
   },
   "outputs": [],
   "source": [
    "# Create a default VPC with subnets\n",
    "aws ec2 create-default-vpc"
   ]
  },
  {
   "cell_type": "code",
   "execution_count": null,
   "id": "597720f4-9bd5-4d6d-a0ef-06763176aedb",
   "metadata": {
    "tags": []
   },
   "outputs": [],
   "source": [
    "aws ec2 describe-vpcs | jq -c"
   ]
  },
  {
   "cell_type": "code",
   "execution_count": null,
   "id": "6ab95cef-8454-4de7-854c-b1c050ca52b8",
   "metadata": {},
   "outputs": [],
   "source": [
    "mkdir -p $MAIN_DIR/$TF_GIT_DIR/tfc-agent-ecs/consumer && cd $_ ; pwd"
   ]
  },
  {
   "cell_type": "code",
   "execution_count": null,
   "id": "103ab0c8-5202-4190-8474-9d6642ff4162",
   "metadata": {
    "tags": []
   },
   "outputs": [],
   "source": [
    "terraform init"
   ]
  },
  {
   "cell_type": "code",
   "execution_count": null,
   "id": "48321b08-cf61-4bf6-8cee-d5714e9d8043",
   "metadata": {
    "tags": []
   },
   "outputs": [],
   "source": [
    "terraform validate && terraform apply -input=false -auto-approve -h"
   ]
  },
  {
   "cell_type": "code",
   "execution_count": null,
   "id": "f298795d-5129-4590-9381-c28214c4d91a",
   "metadata": {},
   "outputs": [],
   "source": [
    "terraform apply -replace=\"aws_instance.vault\" -replace=\"null_resource.delay\" -input=false -auto-approve "
   ]
  },
  {
   "cell_type": "markdown",
   "id": "caf1abd4-a199-4a08-be79-f2bd3105ca5c",
   "metadata": {},
   "source": [
    "In the outputs, we display the ARN that we use to create the resource. Notice that it uses the `*-terraform_dev_role` role.\n",
    "\n",
    "For the consumer workspace, we did not provide AWS credentials."
   ]
  },
  {
   "cell_type": "markdown",
   "id": "65c163f7-33dd-4d88-a454-170dee34a174",
   "metadata": {},
   "source": [
    "### Verfication"
   ]
  },
  {
   "cell_type": "markdown",
   "id": "1df2d9f2-9d9f-4ba3-9e48-b21a46137195",
   "metadata": {},
   "source": [
    "On this page, you should see one \"`IDLE`\" and one \"`BUSY`\" agent.\n",
    "`EXITED`"
   ]
  },
  {
   "cell_type": "markdown",
   "id": "9d06d504-9df1-4a76-9958-cf59662899b1",
   "metadata": {},
   "source": [
    "https://app.terraform.io/app/${TFC_ORG}/settings/agents"
   ]
  },
  {
   "cell_type": "markdown",
   "id": "2f5baacc-9559-4904-8cb8-81b894e8f75d",
   "metadata": {},
   "source": [
    "If you monitor the ECS Clusters console, you will see two tasks and possibly a third if your timing is good. While the consumber workspace is running, a new tfc-agent comes up. When its done, a tfc-agent is removed."
   ]
  },
  {
   "cell_type": "code",
   "execution_count": null,
   "id": "ce88edd2-9c1a-4e9c-9984-154bc1be22ab",
   "metadata": {},
   "outputs": [],
   "source": [
    "open https://${AWS_REGION}.console.aws.amazon.com/ecs/home?region=${AWS_REGION}#/clusters/${PREFIX}-cluster/tasks"
   ]
  },
  {
   "cell_type": "markdown",
   "id": "19d28e07-5128-43c4-962e-eedb6806f99d",
   "metadata": {},
   "source": [
    "### Troubleshooting\n",
    "\n",
    "* Do you have a Terraform Cloud workspace?\n",
    "    * Make sure you created a TFC Workspace for \"consumer\"\n",
    "* Are your TFC workspace settings correct?\n",
    "    * Ensure the consumer workspace [Execution Mode](https://www.terraform.io/docs/cloud/workspaces/settings.html#execution-mode) is set to `Agent`!\n",
    "    * Make sure you have a remote backend configuration pointing to your workspace.\n",
    "    * We defined this inside of `remote_backend.tf` file."
   ]
  },
  {
   "cell_type": "markdown",
   "id": "37fc1c35-6e3a-4150-8cc7-27dee9241deb",
   "metadata": {},
   "source": [
    "* Lambda"
   ]
  },
  {
   "cell_type": "code",
   "execution_count": null,
   "id": "f222102a-ff90-457a-b47b-10cf8087ddba",
   "metadata": {},
   "outputs": [],
   "source": [
    "open https://${AWS_REGION}.console.aws.amazon.com/lambda/home?region=${AWS_REGION}#/functions"
   ]
  },
  {
   "cell_type": "markdown",
   "id": "3f1c0690-496c-4909-b626-a18fad284e02",
   "metadata": {},
   "source": [
    "* Cloudwatch"
   ]
  },
  {
   "cell_type": "code",
   "execution_count": null,
   "id": "ebec44b2-5b90-4691-9983-aaf4b7518acd",
   "metadata": {},
   "outputs": [],
   "source": [
    "open https://${AWS_REGION}.console.aws.amazon.com/cloudwatch/home?region=${AWS_REGION}#logsV2:log-groups"
   ]
  },
  {
   "cell_type": "markdown",
   "id": "99777bf9-22fc-4d5d-ab09-facce7311d11",
   "metadata": {},
   "source": [
    "## Clean Up"
   ]
  },
  {
   "cell_type": "markdown",
   "id": "239b773f-05fd-43b2-97d9-adcecb381bd3",
   "metadata": {},
   "source": [
    "### Destroy Resources"
   ]
  },
  {
   "cell_type": "markdown",
   "id": "468fc37e-368d-40f1-9df9-41d0ec817890",
   "metadata": {},
   "source": [
    "Make sure you are in the correct folder."
   ]
  },
  {
   "cell_type": "code",
   "execution_count": null,
   "id": "8500d688-b66d-4578-878d-d14be983d7b0",
   "metadata": {},
   "outputs": [],
   "source": [
    "cd $MAIN_DIR/$TF_GIT_DIR/tfc-agent-ecs"
   ]
  },
  {
   "cell_type": "markdown",
   "id": "35987a51-27b8-4c1b-b48c-f67b22994ac8",
   "metadata": {},
   "source": [
    "Delete consumer resources."
   ]
  },
  {
   "cell_type": "code",
   "execution_count": null,
   "id": "98557e5e-1b67-438f-852d-a71712c51c8f",
   "metadata": {
    "tags": []
   },
   "outputs": [],
   "source": [
    "terraform -chdir=consumer destroy -auto-approve"
   ]
  },
  {
   "cell_type": "markdown",
   "id": "e65d8cae-5783-4939-a9e2-dc7c4cc925b5",
   "metadata": {
    "tags": []
   },
   "source": [
    "Delete consumer TFC workspace"
   ]
  },
  {
   "cell_type": "code",
   "execution_count": null,
   "id": "09b812ab-4fff-44f3-b95c-35c04c109446",
   "metadata": {
    "tags": []
   },
   "outputs": [],
   "source": [
    "terraform -chdir=tfe-provider destroy -auto-approve"
   ]
  },
  {
   "cell_type": "markdown",
   "id": "cfabf41a-c4ae-4d66-9606-979e79730309",
   "metadata": {},
   "source": [
    "Delete producer resources."
   ]
  },
  {
   "cell_type": "code",
   "execution_count": null,
   "id": "e9c2f548-c910-4b6c-ac46-c0fad23020f8",
   "metadata": {
    "tags": []
   },
   "outputs": [],
   "source": [
    "terraform -chdir=producer destroy -auto-approve"
   ]
  },
  {
   "cell_type": "markdown",
   "id": "54550dd5-7572-4bae-9c64-cc91bdbc864d",
   "metadata": {},
   "source": [
    "Delete agent token and pool"
   ]
  },
  {
   "cell_type": "code",
   "execution_count": null,
   "id": "2bc59dd0-e487-4fb5-bb11-c33459b99a14",
   "metadata": {},
   "outputs": [],
   "source": [
    "terraform -chdir=agent destroy -auto-approve"
   ]
  },
  {
   "cell_type": "markdown",
   "id": "ea9d6181-a019-4a90-958c-6450e1a0a739",
   "metadata": {},
   "source": [
    "Delete file artifacts"
   ]
  },
  {
   "cell_type": "code",
   "execution_count": null,
   "id": "cf544ed4-03aa-41a1-a728-b67b9a5cafa0",
   "metadata": {},
   "outputs": [],
   "source": [
    "cd $MAIN_DIR\n",
    "printf \"Are you sure you want to do this?\\n\"\n",
    "echo rm -rf $TF_GIT_DIR"
   ]
  },
  {
   "cell_type": "code",
   "execution_count": null,
   "id": "5bb921ef-f82a-4beb-840a-b0c86c416500",
   "metadata": {},
   "outputs": [],
   "source": [
    "rm -rf $TF_GIT_DIR"
   ]
  },
  {
   "cell_type": "markdown",
   "id": "4405d5e6-d5fc-4ffe-bac2-6931b8d8ebf0",
   "metadata": {},
   "source": [
    "Unset sensitive variables"
   ]
  },
  {
   "cell_type": "code",
   "execution_count": null,
   "id": "a1825d53-a3e4-4720-93a2-e4ba914031b8",
   "metadata": {},
   "outputs": [],
   "source": [
    "unset AWS_ACCESS_KEY_ID AWS_SECRET_ACCESS_KEY"
   ]
  },
  {
   "cell_type": "markdown",
   "id": "49c18bf0-c377-4c4a-be80-af8094aec0e6",
   "metadata": {},
   "source": [
    "## Additional Topics\n",
    "\n",
    "* A [Sentinel](https://www.terraform.io/docs/cloud/sentinel/index.html) policy like [this example](https://github.com/hashicorp/terraform-guides/blob/master/governance/third-generation/aws/restrict-assumed-roles-by-workspace.sentinel) can be used to restrict which roles would be allowed in a given workspace.\n",
    "* Declaring AssumeRole in the provider block is not necessarily required. IAM permissions given to the agent role directly will be available to Terraform runs without any provider configuration necessary.\n",
    "* The agent image and environment can be customized. For example, abstracting the role ARNs from the Terraform consumers entirely is possible if you were to embed an AWS CLI config file into the agent image. In this scenario users can select an AWS role or profile with `profile = \"dev\"` in their provider block."
   ]
  },
  {
   "cell_type": "markdown",
   "id": "c8f2f789-f26f-4d72-b3fe-ce20f4d466f6",
   "metadata": {},
   "source": [
    "## References\n",
    "\n",
    "* Documentation\n",
    "    * [Terraform Cloud Agent Docs](https://www.terraform.io/docs/cloud/workspaces/agent.html)\n",
    "    * [Agent Pools and Agents API](https://www.terraform.io/docs/cloud/api/agents.html)\n",
    "    * [Agent Tokens API](https://www.terraform.io/docs/cloud/api/agent-tokens.html)\n",
    "    * [AWS Provider Authentication Docs](https://registry.terraform.io/providers/hashicorp/aws/latest/docs#codebuild-ecs-and-eks-roles)\n",
    "* Provisioning\n",
    "    * [Andy's TFC Agent Repo](https://github.com/assareh/tfc-agent) - Lots of examples for deployin TFC Agents\n",
    "    * [terraform-cloud-agent on Kubernetes module by Phil Sautter](https://registry.terraform.io/modules/redeux/terraform-cloud-agent/kubernetes/latest)\n",
    "    * [tfc-cloud-agent on Kubernetes module by Cloud Posse](https://registry.terraform.io/modules/cloudposse/tfc-cloud-agent/kubernetes/latest)\n",
    "    * [tfc_agent Chef cookbook](https://supermarket.chef.io/cookbooks/tfc_agent)\n",
    "* [hashicorp/tfc-agent on DockerHub](https://hub.docker.com/r/hashicorp/tfc-agent)\n"
   ]
  }
 ],
 "metadata": {
  "kernelspec": {
   "display_name": "Bash",
   "language": "bash",
   "name": "bash"
  },
  "language_info": {
   "codemirror_mode": "shell",
   "file_extension": ".sh",
   "mimetype": "text/x-sh",
   "name": "bash"
  }
 },
 "nbformat": 4,
 "nbformat_minor": 5
}
