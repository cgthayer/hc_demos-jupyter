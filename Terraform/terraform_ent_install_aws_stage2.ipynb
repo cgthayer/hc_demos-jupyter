{
 "cells": [
  {
   "cell_type": "markdown",
   "metadata": {},
   "source": [
    "# Terraform Enterprise Install on AWS - Stage 2"
   ]
  },
  {
   "cell_type": "markdown",
   "metadata": {},
   "source": [
    "* Stage 1: **TFE Standalone Prerequisites on AWS**\n",
    "    * https://github.com/hashicorp-services/terraform-aws-tfe-prereqs\n",
    "* Stage 2: **TFE Standalone on AWS - Quick Install**\n",
    "    * https://github.com/hashicorp-services/terraform-aws-tfe\n",
    "* Motivated by **Automated Installation of PTFE with External Services in AWS**.\n",
    "\t* Source: https://github.com/hashicorp/private-terraform-enterprise/tree/automated-aws-pes-installation"
   ]
  },
  {
   "cell_type": "markdown",
   "metadata": {},
   "source": [
    "## Overview\n",
    "\n",
    "This is a guide for deploying Terraform Enterprise on AWS using HashiCorp’s IS Terraform module. It will perform an [automated installations](https://www.terraform.io/docs/enterprise/private/automating-the-installer.html) of [Terraform Enterprise](https://www.terraform.io/docs/enterprise/private/index.html).\n",
    "\n",
    "> **NOTE:** The repo is close to, but not quite production-ready. It **should NOT** be used for an enterprise customer production deployment without some tweaking/customization/hardening.\n",
    "\n",
    "This module supports a number of different configurations/scenarios:\n",
    "\n",
    "\n",
    "* **OS:** Ubuntu or Amazon Linux.\n",
    "* **Operational Mode**: `External Services`\n",
    "* **Installation Methods**: `online` and `airgap`\n",
    "* Active/Active\n",
    "* Supports public and private networks.\n",
    "\n",
    "See the [examples](https://github.com/hashicorp/is-terraform-aws-tfe-standalone-quick-install/blob/master/examples) section for detailed deployment scenarios & instructions. \n",
    "\n",
    "Several assumptions are made and default values are set for some of the resource arguments to reduce complexity and the amount of required inputs (see the [Security Caveats](#Security-Caveats)  section).\n",
    "\n",
    "[Guide to is-terraform-aws-tfe-standalone-quick-install - Required Inputs](bear://x-callback-url/open-note?id=BE232B3D-94AE-49B6-9B33-B62095551C8C-66557-000513BBCB51AF13&header=Required%20Inputs)\n",
    "[Guide to is-terraform-aws-tfe-standalone-quick-install - Optional Inputs](bear://x-callback-url/open-note?id=BE232B3D-94AE-49B6-9B33-B62095551C8C-66557-000513BBCB51AF13&header=Optional%20Inputs)\n",
    "[Guide to is-terraform-aws-tfe-standalone-quick-install - Outputs](bear://x-callback-url/open-note?id=BE232B3D-94AE-49B6-9B33-B62095551C8C-66557-000513BBCB51AF13&header=Outputs)"
   ]
  },
  {
   "cell_type": "markdown",
   "metadata": {
    "tags": []
   },
   "source": [
    "## Prerequisites"
   ]
  },
  {
   "cell_type": "markdown",
   "metadata": {},
   "source": [
    "- Terraform >= 0.14 installed on clients/workstations\n",
    "- TFE license file from Replicated (named `tfe-license.rli`). Stored in Terraform working directory\n",
    "- AWS account w/ the ability to deploy resources via Terraform CLI\n",
    "- S3 bucket for [S3 Remote State backend](https://www.terraform.io/docs/language/settings/backends/s3.html) is recommended\n",
    "- S3 \"`bootstrap`\" bucket used to stage required files to automate TFE install:\n",
    "  - TFE license file from Replicated (`.rli` file extension)\n",
    "  - TFE airgap bundle (only if installation method is _airgap_)\n",
    "  - `replicated.tar.gz` bundle (only if installation method is _airgap_)\n",
    "- VPC w/ subnets (minimum of 2) in different Availability Zones\n",
    "- TLS/SSL certificate in one of the following configurations:\n",
    "  - Route53 Hosted Zone of the type **public** so ACM certificate validation works\n",
    "  - Custom CA certificate files staged in AWS Secrets Manager\n",
    "      - Common Name needs to match the desired TFE hostname/FQDN (`tfe_hostname` required input)\n",
    "- TFE install secrets stored in AWS Secrets Manager or specified directly as input variables\n",
    "- A mechanism for shell access to EC2 instance (SSH key pair, SSM, etc.)  \n",
    "\n",
    "> Note: a prereqs helper module exists [here](https://github.com/hashicorp/is-terraform-aws-tfe-standalone-prereqs)."
   ]
  },
  {
   "cell_type": "markdown",
   "metadata": {},
   "source": [
    "## Getting Started"
   ]
  },
  {
   "cell_type": "markdown",
   "metadata": {},
   "source": [
    "A good place to start is with one of the [test deployment scenarios](https://github.com/hashicorp-services/terraform-aws-tfe/blob/main/tests/README.md). \n",
    "* The _deployment scenarios_ contain actual Terraform code that can be referenced and deployed after populating a `terraform.tfvars` file.\n",
    "* The \"happy path\" deployment scenario that is probably the quickest and easiest to deploy and manage can be found [here](https://github.com/hashicorp-services/terraform-aws-tfe/blob/main/tests/alb-ext-r53-acm-ol/README.md). The input variable default values of the module favor this scenario.\n",
    "* Alternatively, the more locked-down-network/security option can be found [here](https://github.com/hashicorp-services/terraform-aws-tfe/blob/main/tests/nlb-int-r53-cust-ag/README.md). (for air-gapped deployements)"
   ]
  },
  {
   "cell_type": "markdown",
   "metadata": {},
   "source": [
    "For this tutorial, we will take the happy path. You can jump there now."
   ]
  },
  {
   "cell_type": "markdown",
   "metadata": {},
   "source": [
    "## Usage\n",
    "The following subsections below contain details on features, modes, and settings that this module supports - and how to configure them."
   ]
  },
  {
   "cell_type": "markdown",
   "metadata": {},
   "source": [
    "### Installation Method\n",
    "Both **online** and **airgap** installation methods are supported by this module.\n",
    "\n",
    "* For **online**, specify a value for `tfe_release_sequence`.\n",
    "    * Omit `airgap_install`, `replicated_bundle_path`, and `tfe_airgap_bundle_path`.<br>\n",
    "    For example:\n",
    "```go\n",
    "tfe_release_sequence = 568\n",
    "```\n",
    "* For **airgap**, specify values for `airgap_install`, `replicated_bundle_path`, and `tfe_airgap_bundle_path`.\n",
    "    * Omit `tfe_release_sequence`.<br>\n",
    "    For example:\n",
    "```go\n",
    "airgap_install         = true\n",
    "replicated_bundle_path = \"s3://my-tfe-bootstrap-bucket/replicated.tar.gz\"\n",
    "tfe_airgap_bundle_path = \"s3://my-tfe-bootstrap-bucket/tfe-568.airgap\"\n",
    "```\n",
    "\n",
    "**NOTE:** If `airgap_install = true`, the `user_data` (cloud-init) script assumes Linux package repositories cannot be reached. So, the AMI specified must contain the following software dependencies:\n",
    "- `unzip`\n",
    "- `jq`\n",
    "- `awscli`\n",
    "- `docker` (version 19.03.8 recommended)\n",
    "\n",
    "> **NOTE:** If you are deploying into an airgapped environment but your EC2 instances can reach a Linux package repository, then modify the `install_dependencies()` function within the `./templates/tfe_user_data.sh.tpl` file.\n",
    "<p>&nbsp;</p>"
   ]
  },
  {
   "cell_type": "markdown",
   "metadata": {
    "toc-hr-collapsed": true
   },
   "source": [
    "### Load Balancing"
   ]
  },
  {
   "cell_type": "markdown",
   "metadata": {},
   "source": [
    "This module supports both the AWS Application Load Balancer (ALB) and the Network Load Balancer (NLB) via the input variable `load_balancer_type`. The [test deployment scenarios](./tests/README.md) section contains more detail on how to choose based on the _deployment_scenario_, but in general here are the differences:"
   ]
  },
  {
   "cell_type": "markdown",
   "metadata": {},
   "source": [
    "#### ALB\n",
    "- Module default variable values favor the ALB deployment scenarios\n",
    "- ALB is a layer 7 HTTPS load balancer and works really well when used in combination with Route53 and ACM\n",
    "- Module will either create the TFE TLS/SSL certificate on the fly via ACM, or the certificate can be imported into ACM as a module prereq\n",
    "- Input variable `tls_bootstrap_type` defaults to `self-signed` because the TFE TLS/SSL certificate will be terminated at the load balancer-level"
   ]
  },
  {
   "cell_type": "markdown",
   "metadata": {},
   "source": [
    "#### NLB\n",
    "- NLB is a layer 4 TCP load balancer that does TLS-passthrough in the supported deployment scenarios\n",
    "- NLB is ideal for users who want to terminate TLS/SSL end-to-end at the instance-level rather than at the load balancer-level\n",
    "- Input variable `tls_bootstrap_type` should be set to `server-path` because the TFE server certificate files must exist on the instance where TLS/SSL will be terminated\n",
    "- Typically the TFE server certificate files are placed in AWS Secrets Manager as a module prereq (see [TLS/SSL-Certificates](####TLS/SSL-Certificates) within the [Secrets Management](###Secrets-Management) section)\n",
    "- The subnet CIDR's must be in the `ingress_cidr_443_allow` so the NLB health checks can reach the instance(s) properly\n",
    "- If the NLB is deployed onto private subnets and the `load_balancer_scheme` is set to `internal`, then `hairpin_addressing` must be set to `true` because the NLB does not support loopback addressing\n",
    "- If `hairpin_addressing` is `true` and a proxy is also in use, then the TFE FQDN (`tfe_hostname`) must be added to the `extra_no_proxy` input\n",
    "<p>&nbsp;</p>"
   ]
  },
  {
   "cell_type": "markdown",
   "metadata": {},
   "source": [
    "### Secrets Management"
   ]
  },
  {
   "cell_type": "markdown",
   "metadata": {},
   "source": [
    "By default, this module expects the necessary secrets for the deployment to be stored in AWS Secrets Manager as a module prereq. Terraform will automatically grant the TFE IAM Instance Profile read access to the secrets based on the ARNs specified for the corresponding input variables detailed below. Then, when the EC2 instance boots and the cloud-init process executes, the secrets will automatically be retrieved from Secrets Manager via `awscli`."
   ]
  },
  {
   "cell_type": "markdown",
   "metadata": {},
   "source": [
    "#### Install Secrets\n",
    "Create a single secret with two key/value pairs, naming the keys exactly as follows:\n",
    "  - `console_password`\n",
    "  - `enc_password`\n",
    "\n",
    "Specify the ARN of the secret for the input variable `tfe_install_secrets_arn`. If it is not desirable to use AWS Secrets Manager for the _install secrets_, it is also possible to specify the secrets directly as variable values for the input variables `console_password` and `enc_password`."
   ]
  },
  {
   "cell_type": "markdown",
   "metadata": {},
   "source": [
    "#### TLS/SSL Certificates (optional)\n",
    "These secrets are only necessary in deployment scenarios where `tls_bootstrap_type` is set to `server-path` (and typically the NLB is in use).\n",
    "\n",
    "- **Certificate** - store this as a plaintext secret in Secrets Manager and specify the ARN for the input variable `tfe_cert_secret_arn`\n",
    "- **Private Key** - store this as a base64-encoded plaintext secret in Secrets Manager and specify the ARN for the input variable `tfe_privkey_secret_arn`\\\n",
    "(_i.e._ `cat privkey.pem | base64 -w 0`)\n",
    "- **Custom CA bundle** - store this as a plaintext secret, replace any new lines with `\\n` because JSON does not support raw new line characters, and specify the ARN for the input variable `ca_bundle_secret_arn`\n",
    "\n",
    "An example command to help format the string before storing your custom CA bundle as a secret for `ca_bundle_secret_arn`:\n",
    "```shell\n",
    "sed -e ':a' -e 'N' -e '$!ba' -e 's/\\n/\\\\n/g' ./my-custom-ca-bundle.pem\n",
    "```\n",
    "<p>&nbsp;</p>"
   ]
  },
  {
   "cell_type": "markdown",
   "metadata": {},
   "source": [
    "### Active-Active\n",
    "This module supports deploying TFE in the Active/Active architecture, including external Redis and multiple nodes within the Autoscaling Group. For more detailed instructions on the upgrade path to Active/Active, see the [Active/Active](./docs/active-active.md) page. In order to enable Active/Active, specify the following input variables:\n",
    "```go\n",
    "enable_active_active = true\n",
    "redis_subnet_ids     = [\"subnet-00000000000000000\", \"subnet-11111111111111111\", \"subnet-22222222222222222\"] # private subnet IDs\n",
    "redis_password       = \"MyTfeRedisPasswd123!\" # optional password to enable transit encryption with Redis\n",
    "```\n",
    "<p>&nbsp;</p>"
   ]
  },
  {
   "cell_type": "markdown",
   "metadata": {},
   "source": [
    "### Database\n",
    "This module supports an Amazon RDS and AWS Aurora RDS for the database requirement of TFE. The variable `rds_is_aurora` controls which database type is created. By default this is set to `false` and an AWS RDS database will be deployed. This module supports the initial deployment of either database type, however it does not support migration between one or the other after deployment. If this variable is changed after TFE has been deployed the existing database will be deleted and a new one created, which will result in data loss.\n",
    "<p>&nbsp;</p>"
   ]
  },
  {
   "cell_type": "markdown",
   "metadata": {},
   "source": [
    "### Alternative Terraform Build Worker (TBW) Image\n",
    "The module supports running a custom Terraform Build Worker container image. The only supported container registry at this time (without requiring additional tweaks to the module code) is AWS Elastic Container Registry (ECR). In order to enable this functionality, specify the following input variables:\n",
    "```go\n",
    "tbw_image            = \"custom_image\"\n",
    "custom_tbw_ecr_repo  = \"<my-ecr-repo-name>\"\n",
    "custom_tbw_image_tag = \"<my-image-tag>\" (e.g. `v1` or `latest`)\n",
    "```\n",
    "\n",
    "Pushing the docker image up to the ECR repository becomes an additional module prereq when leveraging this functionality.\n",
    "<p>&nbsp;</p>"
   ]
  },
  {
   "cell_type": "markdown",
   "metadata": {},
   "source": [
    "### Log Forwarding\n",
    "Currently by default, this module supports configuring AWS Cloud Watch as a destination for the [TFE Log Forwarding](https://www.terraform.io/docs/enterprise/admin/logging.html) feature. To enable this functionality, specify the following input variables:\n",
    "```go\n",
    "log_forwarding_enabled    = true\n",
    "cloudwatch_log_group_name = \"<my-tfe-log-group>\"\n",
    "```\n",
    "<p>&nbsp;</p>"
   ]
  },
  {
   "cell_type": "markdown",
   "metadata": {},
   "source": [
    "## Post Deploy"
   ]
  },
  {
   "cell_type": "markdown",
   "metadata": {
    "tags": []
   },
   "source": [
    "## Troubleshooting"
   ]
  },
  {
   "cell_type": "markdown",
   "metadata": {},
   "source": [
    "### Terraform Apply"
   ]
  },
  {
   "cell_type": "markdown",
   "metadata": {},
   "source": [
    "* I ran into issues with the user-data file being too big (>16KB).\n",
    "    * I added this resource to the TFE module to see what the user-data file looks like.\n",
    "    * Determined that copying the license file from a local file did not work. I used s3 instead."
   ]
  },
  {
   "cell_type": "code",
   "execution_count": null,
   "metadata": {},
   "outputs": [],
   "source": [
    "cat > config/terraform/terraform-aws-tfe/local_file.tf <<\"EOF\"\n",
    "resource \"local_file\" \"inventory\" {\n",
    "  content = templatefile(\"${path.module}/templates/tfe_user_data.sh.tpl\", local.user_data_args )\n",
    "  filename = \"cloud_init_deleteme\"\n",
    "}\n",
    "EOF"
   ]
  },
  {
   "cell_type": "markdown",
   "metadata": {},
   "source": [
    "### Network Issues"
   ]
  },
  {
   "cell_type": "markdown",
   "metadata": {},
   "source": [
    "* By default, the ALB security group only allows access to port 880 to the 10.0.0.0/16 subnet.\n",
    "    * You can add your IP or another subnet to the allow list.\n",
    "    * https://us-west-2.console.aws.amazon.com/ec2/v2/home?region=us-west-2#LoadBalancers:search=pphan;sort=loadBalancerName"
   ]
  },
  {
   "cell_type": "markdown",
   "metadata": {
    "tags": []
   },
   "source": [
    "---"
   ]
  },
  {
   "cell_type": "markdown",
   "metadata": {},
   "source": [
    "## Day 2 Operations\n",
    "See the [operations](./docs/operations.md) page for more information on TFE administrative tasks and procedures.\n",
    "<p>&nbsp;</p>"
   ]
  },
  {
   "cell_type": "markdown",
   "metadata": {},
   "source": [
    "## Providers\n",
    "\n",
    "| Name | Version |\n",
    "|------|---------|\n",
    "| aws | `>= 3.33.0` |\n",
    "| random | `3.1.0` |\n",
    "| template | `2.2.0` |"
   ]
  },
  {
   "cell_type": "markdown",
   "metadata": {},
   "source": [
    "## Inputs\n",
    "\n",
    "| Name | Description | Type | Default | Required |\n",
    "|------|-------------|------|---------|:--------:|\n",
    "| airgap\\_install | Boolean for TFE installation method to be airgap. | `bool` | `false` | no |\n",
    "| ami\\_id | Custom AMI ID for TFE EC2 Launch Template. If specified, value of `os_distro` must coincide with this custom AMI OS distro. | `string` | `null` | no |\n",
    "| asg\\_health\\_check\\_grace\\_period | The amount of time to wait for a new TFE instance to be healthy. If this threshold is breached, the ASG will terminate the instance and launch a new one. | `number` | `900` | no |\n",
    "| asg\\_instance\\_count | Desired number of EC2 instances to run in Autoscaling Group. Leave at `1` unless Active/Active is enabled. | `number` | `1` | no |\n",
    "| asg\\_max\\_size | Max number of EC2 instances to run in Autoscaling Group. Increase after Active/Active is enabled. | `number` | `1` | no |\n",
    "| aurora\\_rds\\_availability\\_zones | List of Availability Zones to spread Aurora DB cluster across. | `list(string)` | `null` | no |\n",
    "| aurora\\_rds\\_engine\\_mode | Aurora engine mode. | `string` | `\"provisioned\"` | no |\n",
    "| aurora\\_rds\\_engine\\_version | Engine version of Aurora PostgreSQL. | `number` | `12.4` | no |\n",
    "| aurora\\_rds\\_global\\_cluster\\_id | Aurora Global Database cluster identifier. Intended to be used by Aurora DB Cluster instance in Secondary region. | `string` | `null` | no |\n",
    "| aurora\\_rds\\_instance\\_class | Instance class of Aurora PostgreSQL database. | `string` | `\"db.r5.xlarge\"` | no |\n",
    "| aurora\\_rds\\_replica\\_count | Amount of Aurora Replica instances to deploy within the Aurora DB cluster within the same region. | `number` | `1` | no |\n",
    "| aurora\\_rds\\_replication\\_source\\_identifier | ARN of a source DB cluster or DB instance if this DB cluster is to be created as a Read Replica. Intended to be used by Aurora Replica in Secondary region. | `string` | `null` | no |\n",
    "| aurora\\_source\\_region | Source region for Aurora Cross-Region Replication. Only specify for Secondary instance. | `string` | `null` | no |\n",
    "| aws\\_ssm\\_enable | Boolean to attach the `AmazonSSMManagedInstanceCore` policy to the TFE role, allowing the SSM agent (if present) to function. | `bool` | `false` | no |\n",
    "| bucket\\_replication\\_configuration | Map containing S3 Cross-Region Replication configuration. | `any` | `{}` | no |\n",
    "| ca\\_bundle\\_secret\\_arn | ARN of AWS Secrets Manager secret for private/custom CA bundles. New lines must be replaced by `<br>` character prior to storing as a plaintext secret. | `string` | `\"\"` | no |\n",
    "| capacity\\_concurrency | Total concurrent Terraform Runs (Plans/Applies) allowed within TFE. | `string` | `\"10\"` | no |\n",
    "| capacity\\_memory | Maxium amount of memory (MB) that a Terraform Run (Plan/Apply) can consume within TFE. | `string` | `\"512\"` | no |\n",
    "| cloudwatch\\_log\\_group\\_name | Name of CloudWatch Log Group to configure as log forwarding destination. `log_forwarding_enabled` must also be `true`. | `string` | `\"\"` | no |\n",
    "| common\\_tags | Map of common tags for taggable AWS resources. | `map(string)` | `{}` | no |\n",
    "| console\\_password | Password to unlock TFE Admin Console accessible via port 8800. Specify `aws_secretsmanager` to retrieve from AWS Secrets Manager via `tfe_install_secrets_arn` input. | `string` | `\"aws_secretsmanager\"` | no |\n",
    "| create\\_tfe\\_alias\\_record | Boolean to create Route53 Alias Record for `tfe_hostname` resolving to Load Balancer DNS name. If `true`, `route53_hosted_zone_tfe` is also required. | `bool` | `true` | no |\n",
    "| custom\\_tbw\\_ecr\\_repo | Name of AWS Elastic Container Registry (ECR) Repository where custom Terraform Build Worker (tbw) image exists. Only specify if `tbw_image` is set to `custom_image`. | `string` | `\"\"` | no |\n",
    "| custom\\_tbw\\_image\\_tag | Tag of custom Terraform Build Worker (tbw) image. Examples: `v1`, `latest`. Only specify if `tbw_image` is set to `custom_image`. | `string` | `\"latest\"` | no |\n",
    "| destination\\_bucket | Destination S3 Bucket for Cross-Region Replication configuration. Should exist in Secondary region. | `string` | `\"\"` | no |\n",
    "| ec2\\_subnet\\_ids | List of subnet IDs to use for the EC2 instance. Private subnets is the best practice. | `list(string)` | n/a | yes |\n",
    "| enable\\_active\\_active | Boolean to enable TFE Active/Active and in turn deploy Redis cluster. | `bool` | `false` | no |\n",
    "| enable\\_metrics\\_collection | Boolean to enable internal TFE metrics collection. | `bool` | `true` | no |\n",
    "| enc\\_password | Password to protect unseal key and root token of TFE embedded Vault. Specify `aws_secretsmanager` to retrieve from AWS Secrets Manager via `tfe_install_secrets_arn` input. | `string` | `\"aws_secretsmanager\"` | no |\n",
    "| encrypt\\_ebs | Boolean for encrypting the root block device of the TFE EC2 instance(s). | `bool` | `false` | no |\n",
    "| extra\\_no\\_proxy | A comma-separated string of hostnames or IP addresses to add to the TFE no\\_proxy list. Only specify if a value for `http_proxy` is also specified. | `string` | `\"\"` | no |\n",
    "| force\\_tls | Boolean to require all internal TFE application traffic to use HTTPS by sending a 'Strict-Transport-Security' header value in responses, and marking cookies as secure. Only enable if `tls_bootstrap_type` is `server-path`. | `bool` | `false` | no |\n",
    "| friendly\\_name\\_prefix | String value for friendly name prefix for AWS resource names. | `string` | n/a | yes |\n",
    "| hairpin\\_addressing | Boolean to enable TFE services to direct requests to the servers' internal IP address rather than the TFE hostname/FQDN. Only enable if `tls_bootstrap_type` is `server-path`. | `bool` | `false` | no |\n",
    "| http\\_proxy | Proxy address to configure for TFE to use for outbound connections/requests. | `string` | `\"\"` | no |\n",
    "| ingress\\_cidr\\_22\\_allow | List of CIDR ranges to allow SSH ingress to TFE EC2 instance (i.e. bastion host IP, workstation IP, etc.). | `list(string)` | `[]` | no |\n",
    "| ingress\\_cidr\\_443\\_allow | List of CIDR ranges to allow ingress traffic on port 443 to TFE server or load balancer. | `list(string)` | <pre>[<br>  \"0.0.0.0/0\"<br>]</pre> | no |\n",
    "| ingress\\_cidr\\_8800\\_allow | List of CIDR ranges to allow TFE Replicated admin console (port 8800) traffic ingress to TFE server or load balancer. | `list(string)` | `null` | no |\n",
    "| instance\\_size | EC2 instance type for TFE Launch Template. | `string` | `\"m5.xlarge\"` | no |\n",
    "| is\\_secondary | Boolean indicating whether TFE instance deployment is for Primary region or Secondary region. | `bool` | `false` | no |\n",
    "| kms\\_key\\_arn | ARN of KMS key to encrypt TFE RDS, S3, EBS, and Redis resources. | `string` | `\"\"` | no |\n",
    "| lb\\_subnet\\_ids | List of subnet IDs to use for the load balancer. If LB is external, these should be public subnets. | `list(string)` | n/a | yes |\n",
    "| load\\_balancer\\_scheme | Load balancer exposure. Specify `external` if load balancer is to be public/external-facing, or `internal` if load balancer is to be private/internal-facing. | `string` | `\"external\"` | no |\n",
    "| load\\_balancer\\_type | String indicating whether the load balancer deployed is an Application Load Balancer (alb) or Network Load Balancer (nlb). | `string` | `\"alb\"` | no |\n",
    "| log\\_forwarding\\_enabled | Boolean to enable TFE log forwarding at the application level. | `bool` | `false` | no |\n",
    "| os\\_distro | Linux OS distribution for TFE EC2 instance. Choose from `amzn2`, `ubuntu`, `rhel`, `centos`. | `string` | `\"amzn2\"` | no |\n",
    "| rds\\_allocated\\_storage | Size capacity (GB) of RDS PostgreSQL database. | `string` | `\"50\"` | no |\n",
    "| rds\\_allow\\_major\\_version\\_upgrade | Boolean to allow major version upgrades of the database. | `bool` | `false` | no |\n",
    "| rds\\_auto\\_minor\\_version\\_upgrade | Boolean to enable the automatic upgrading of new minor versions during the specified `rds_preferred_maintenance_window`. | `bool` | `true` | no |\n",
    "| rds\\_backup\\_retention\\_period | The number of days to retain backups for. Must be between 0 and 35. Must be greater than 0 if the database is used as a source for a Read Replica. | `number` | `35` | no |\n",
    "| rds\\_copy\\_tags\\_to\\_snapshot | Boolean to enable copying tags to RDS snapshot. | `bool` | `true` | no |\n",
    "| rds\\_database\\_name | Name of database. | `string` | `\"tfe\"` | no |\n",
    "| rds\\_deletion\\_protection | Boolean to proctect the database from being deleted. The database cannot be deleted when `true`. | `bool` | `false` | no |\n",
    "| rds\\_engine\\_version | Version of RDS PostgreSQL. | `number` | `12.7` | no |\n",
    "| rds\\_instance\\_class | Instance class of RDS PostgreSQL database. | `string` | `\"db.m5.xlarge\"` | no |\n",
    "| rds\\_is\\_aurora | Boolean for deploying global Amazon Aurora PostgreSQL instead of Amazon RDS for PostgreSQL | `bool` | `false` | no |\n",
    "| rds\\_multi\\_az | Boolean to create a standby instance in a different AZ than the primary and enable HA. | `bool` | `true` | no |\n",
    "| rds\\_password | Password for RDS master DB user. | `string` | n/a | yes |\n",
    "| rds\\_preferred\\_backup\\_window | Daily time range (UTC) for RDS backup to occur. Must not overlap with `rds_preferred_maintenance_window` if specified. | `string` | `\"04:00-04:30\"` | no |\n",
    "| rds\\_preferred\\_maintenance\\_window | Window (UTC) to perform RDS database maintenance. Must not overlap with `rds_preferred_backup_window` if specified. | `string` | `\"Sun:08:00-Sun:09:00\"` | no |\n",
    "| rds\\_skip\\_final\\_snapshot | Boolean for RDS to take a final snapshot. | `bool` | `false` | no |\n",
    "| rds\\_subnet\\_ids | List of subnet IDs to use for RDS Database Subnet Group. Private subnets is the best practice. | `list(string)` | n/a | yes |\n",
    "| rds\\_username | Username for the master DB user. | `string` | `\"tfe\"` | no |\n",
    "| redis\\_at\\_rest\\_encryption\\_enabled | Boolean to enable encryption at rest on Redis cluster. A `kms_key_arn` is required when set to `true`. | `bool` | `false` | no |\n",
    "| redis\\_engine\\_version | Redis version number | `string` | `\"5.0.6\"` | no |\n",
    "| redis\\_multi\\_az\\_enabled | Boolean for deploying Redis nodes in multiple Availability Zones and enabling automatic failover. | `bool` | `true` | no |\n",
    "| redis\\_node\\_type | Type of Redis node from a compute, memory, and network throughput standpoint. | `string` | `\"cache.m4.large\"` | no |\n",
    "| redis\\_parameter\\_group\\_name | Name of parameter group to associate with Redis cluster. | `string` | `\"default.redis5.0\"` | no |\n",
    "| redis\\_password | Password (auth token) used to enable transit encryption (TLS) with Redis. | `string` | `\"\"` | no |\n",
    "| redis\\_port | Port number the Redis nodes will accept connections on. | `number` | `6379` | no |\n",
    "| redis\\_replica\\_count | Number of replica nodes in Redis cluster. | `number` | `1` | no |\n",
    "| redis\\_subnet\\_ids | List of subnet IDs to use for Redis cluster subnet group. | `list(string)` | `null` | no |\n",
    "| remove\\_import\\_settings\\_from | Replicated setting to automatically remove the `/etc/tfe-settings.json` file (referred to as `ImportSettingsFrom` by Replicated) after installation. | `bool` | `false` | no |\n",
    "| replicated\\_bundle\\_path | Full path of Replicated bundle (`replicated.tar.gz`) in S3 bucket. A local filepath is not supported because the Replicated bundle is too large for user\\_data. Only specify if `airgap_install` is `true`. Should start with `s3://`. | `string` | `\"\"` | no |\n",
    "| restrict\\_worker\\_metadata\\_access | Boolean to block Terraform build worker containers from being able to access the EC2 instance metadata endpoint. | `bool` | `false` | no |\n",
    "| route53\\_hosted\\_zone\\_acm | Route53 Hosted Zone name to create ACM Certificate Validation CNAME record in. Required if `tls_certificate_arn` is not specified. | `string` | `null` | no |\n",
    "| route53\\_hosted\\_zone\\_tfe | Route53 Hosted Zone name to create `tfe_hostname` Alias record in. Required if `create_tfe_alias_record` is `true`. | `string` | `null` | no |\n",
    "| ssh\\_key\\_pair | Name of existing SSH key pair to attach to TFE EC2 instance. | `string` | `\"\"` | no |\n",
    "| syslog\\_endpoint | Syslog endpoint for Logspout to forward TFE logs to. | `string` | `\"\"` | no |\n",
    "| tbw\\_image | Terraform Build Worker container image to use. Set this to `custom_image` to use alternative container image. | `string` | `\"default_image\"` | no |\n",
    "| tfe\\_airgap\\_bundle\\_path | Full path of TFE airgap bundle in S3 bucket. A local filepath is not supported because the airgap bundle is too large for user\\_data. Only specify if `airgap_install` is `true`. Should start with `s3://`. | `string` | `\"\"` | no |\n",
    "| tfe\\_bootstrap\\_bucket | Name of existing S3 bucket containing prerequisite files for TFE automated install. Typically would contain TFE license file and airgap files if `airgap_install` is `true`. | `string` | `\"\"` | no |\n",
    "| tfe\\_cert\\_secret\\_arn | ARN of AWS Secrets Manager secret for TFE server certificate in PEM format. Required if `tls_bootstrap_type` is `server-path`; otherwise ignored. | `string` | `\"\"` | no |\n",
    "| tfe\\_hosted\\_zone\\_is\\_private | Boolean indicating if `route53_hosted_zone_tfe` is a private zone. | `bool` | `false` | no |\n",
    "| tfe\\_hostname | Hostname/FQDN of TFE instance. This name should resolve to the load balancer DNS name and will be how users and systems access TFE. | `string` | n/a | yes |\n",
    "| tfe\\_install\\_secrets\\_arn | ARN of AWS Secrets Manager secret metadata for TFE install secrets. If specified, secret must contain key/value pairs for `console_password`, and `enc_password` | `string` | `\"\"` | no |\n",
    "| tfe\\_license\\_filepath | Full filepath of TFE license file (`.rli` file extension). A local filepath or S3 is supported. If s3, the path should start with `s3://`. | `string` | n/a | yes |\n",
    "| tfe\\_privkey\\_secret\\_arn | ARN of AWS Secrets Manager secret for TFE private key in PEM format and base64 encoded. Required if `tls_bootstrap_type` is `server-path`; otherwise ignored. | `string` | `\"\"` | no |\n",
    "| tfe\\_release\\_sequence | TFE application version release sequence number within Replicated. Ignored if `airgap_install` is `true`. | `number` | `0` | no |\n",
    "| tfe\\_tls\\_certificate\\_arn | ARN of TFE certificate imported in ACM to be used for Application Load Balancer HTTPS listeners. Required if `route53_hosted_zone_acm` is not specified. | `string` | `null` | no |\n",
    "| tls\\_bootstrap\\_type | Defines where to terminate TLS/SSL. Set to `self-signed` to terminate at the load balancer, or `server-path` to terminate at the instance-level. | `string` | `\"self-signed\"` | no |\n",
    "| vpc\\_id | VPC ID that TFE will be deployed into. | `string` | n/a | yes |"
   ]
  },
  {
   "cell_type": "markdown",
   "metadata": {
    "tags": []
   },
   "source": [
    "## Outputs\n",
    "\n",
    "| Name | Description |\n",
    "|------|-------------|\n",
    "| admin\\_console\\_url | URL of TFE (Replicated) Admin Console based on `tfe_hostname` input. |\n",
    "| aurora\\_aws\\_rds\\_cluster\\_endpoint | Aurora DB cluster instance endpoint. |\n",
    "| aurora\\_rds\\_cluster\\_arn | ARN of Aurora DB cluster. |\n",
    "| aurora\\_rds\\_cluster\\_members | List of instances that are part of this Aurora DB Cluster. |\n",
    "| aurora\\_rds\\_global\\_cluster\\_id | Aurora Global Database cluster identifier. |\n",
    "| aws\\_db\\_instance\\_arn | ARN of RDS DB instance. |\n",
    "| aws\\_db\\_instance\\_endpoint | RDS DB instance endpoint. |\n",
    "| lb\\_dns\\_name | DNS name of the Load Balancer. |\n",
    "| s3\\_bucket\\_arn | ARN of TFE S3 bucket. |\n",
    "| s3\\_bucket\\_name | Name of TFE S3 bucket. |\n",
    "| s3\\_crr\\_iam\\_role\\_arn | ARN of S3 Cross-Region Replication IAM Role. |\n",
    "| url | URL of TFE application based on `tfe_hostname` input. |"
   ]
  },
  {
   "cell_type": "markdown",
   "metadata": {
    "tags": []
   },
   "source": [
    "## Explanation of the Two Stage Deployment Model\n",
    "\n",
    "We deploy the *AWS infrastructure* and TFE in two stages using the open source flavor of Terraform.\n",
    "\n",
    "### Stage 1\n",
    "* Deploy **network** and **security group** resources that the EC2 instances will run in\n",
    "* Deploy a private **S3 bucket** (source) to upload the PTFE software, license, and settings files\n",
    "* Deploy a **KMS key** to encrypt the S3 source bucket.\n",
    "* If deploying a private network, then deploy an EC2 instance as a **bastion host**.\n",
    "\n",
    "### Stage 2\n",
    "* Deploy the external PostgreSQL database and S3 bucket (runtime) used in the [Production - External Services](https://www.terraform.io/docs/enterprise/private/preflight-installer.html#operational-mode-decision) operational mode of TFE.\n",
    "* Deploy the **Auto Scaling Group** and **Launch Template** that will run TFE. \n",
    "* Deploy an **Application Load Balancer** and associated resources\n",
    "* Deploy some required **IAM** resources.\n",
    "\n",
    "> NOTE: We are creating an S3 bucket in both stages\n",
    ">\t* The bucket created in **Stage 1** is the \"**TFE source bucket**\"\n",
    ">\t* The bucket created in **Stage 2** is the \"**TFE runtime bucket**\".\n",
    "\n",
    "### Why Two Stages?\n",
    "There are two reasons for splitting the deployment into two stages:\n",
    "* **Main reason**: Some users are not allowed to provision their own VPC, subnets, and security groups. They would skip Stage 1. \n",
    "\t* Users who are allowed to provision all required AWS resources, will perform Stage 1.\n",
    "\t* Deploy the network and security group resources and the TFE source bucket from the [network](https://github.com/hashicorp/private-terraform-enterprise/blob/automated-aws-pes-installation/examples/aws/network) directory\n",
    "\t* Copy the IDs of the VPC, subnets, and security groups into a **terraform.tfvars** file in the [aws](https://github.com/hashicorp/private-terraform-enterprise/blob/automated-aws-pes-installation/examples/aws) directory\n",
    "\t* Then deploy the rest of the resources in Stage 2.\n",
    "* **Second reason**: Some users want to be able to \"repave\" their TFE instances periodically. For example, they want to destroy the instances and recreate them (possibly with a new AMI).\n",
    "\t* These users need to create the TFE **source bucket** and then place the TFE software and license file in it before they run the Terraform code in **Stage 2**.\n",
    "\n",
    "---"
   ]
  },
  {
   "cell_type": "markdown",
   "metadata": {
    "jp-MarkdownHeadingCollapsed": true,
    "tags": []
   },
   "source": [
    "### Stage 1 Prerequisites\n",
    "* You need to have an AWS account before running the **Stage 1** Terraform code in either the [network-public](https://github.com/hashicorp/private-terraform-enterprise/blob/automated-aws-pes-installation/examples/aws/network-public) or the [network-private](https://github.com/hashicorp/private-terraform-enterprise/blob/automated-aws-pes-installation/examples/aws/network-private) directory of this repository.\n",
    "\n",
    "NOTE: A [prereqs helper](https://github.com/hashicorp/is-terraform-aws-tfe-standalone-prereqs) module is available for reference and/or use.\n",
    "\n",
    "### Stage 2 Prerequisites\n",
    "You need to have the following things before running the **Stage 2** Terraform code in the [aws](https://github.com/hashicorp/private-terraform-enterprise/blob/automated-aws-pes-installation/examples/aws) directory of this repository:\n",
    "* **VPC** (provisioned in Stage 1)\n",
    "* At least two **Subnets** in the VPC (provisioned in Stage 1)\n",
    "\t* You can use the same subnets or use separate subnets for the following:\n",
    "\t\t* the EC2 instances, the PostgreSQL database, and the ALB\n",
    "\t* If you have more than two subnets, make sure that the two specified in the **alb_subnet_ids** variable include those containing the EC2 instances running PTFE.\n",
    "* **Security Group** - provisioned in **Stage 1**\n",
    "* **S3 Bucket** - provisioned in **Stage 1** - to be used as the TFE source bucket\n",
    "* AWS **KMS key** - provisioned in **Stage 1**\n",
    "* AWS **AMI** running a Ubuntu or Amazon Linux in the region in which you plan to deploy TFE\n",
    "* AWS **key pair** that can be used to SSH to the EC2 instances that will be provisioned to run TFE.\n",
    "* AWS **Route 53 zone** to host the Route 53 record set that will be provisioned.\n",
    "\t* This needs to be a public zone so that the ACM cert created can be validated against a record set created in that zone.\n",
    "\t* If you absolutely need to use a private zone, provide your own ACM cert and remove the code that provisions the additional ACM cert.\n",
    "* **TFE license**\n",
    "* If doing an airgap install, need a TFE airgap bundle and **replicated.tar.gz** installer bootstrapper that you can upload to the TFE **source bucket**.\n",
    "\t* Access to Docker and packages it requires so that you can upload them to the TFE source bucket.\n",
    "* You can also provide the ARN of a certificate that you uploaded into or created within Amazon Certificate Manager (ACM).\n",
    "    * This will be attached to the listeners created for the application load balancer that will be provisioned in front of the EC2 instances.\n",
    "    * The **Stage 2** Terraform code actually creates an ACM certificate whether you provide one or not, but if you do provide your own, the generated one is associated with a fake domain consisting of \"`fake-`\" concatenated to your hostname.\n",
    "    * If you set the `ssl_certificate_arn` variable to `\"\"`, the generated ACM cert will be associated with your hostname.\n",
    "    * We generate an ACM cert even if you provide your own in order to make the generation of an ACM cert optional in Terraform 0.11. (This will not be needed with Terraform 0.12.)\n",
    "\n",
    "\n",
    "---"
   ]
  },
  {
   "cell_type": "markdown",
   "metadata": {},
   "source": [
    "## Usage\n",
    "\n",
    "Follow these steps to deploy TFE in your AWS account."
   ]
  },
  {
   "cell_type": "markdown",
   "metadata": {},
   "source": [
    "## Provision Stage 1\n",
    "\n",
    "* For the purposes of this tutorial, we will deploy Stage 1 instead of using existing resources.\n",
    "* Follow the guide [here], which uses single region scenario.(./terraform_ent_install_aws_stage1.ipynb)\n",
    "* Here is the source repo for [TFE on AWS Prerequisites](https://github.com/hashicorp-services/terraform-aws-tfe-prereqs)\n",
    "\n",
    "---"
   ]
  },
  {
   "cell_type": "markdown",
   "metadata": {},
   "source": [
    "## Provision Stage 2"
   ]
  },
  {
   "cell_type": "markdown",
   "metadata": {},
   "source": [
    "1. Get repo\n",
    "1. Set variables"
   ]
  },
  {
   "cell_type": "markdown",
   "metadata": {},
   "source": [
    "Follow the sections below to deploy TFE for the \"happy path\" deployment scenario."
   ]
  },
  {
   "cell_type": "markdown",
   "metadata": {},
   "source": [
    "### Clone the Repo - Hashi Folks"
   ]
  },
  {
   "cell_type": "markdown",
   "metadata": {},
   "source": [
    "Create a directory such as `config/terraform/terraform-aws-tfe` into which you want to clone this repository."
   ]
  },
  {
   "cell_type": "code",
   "execution_count": null,
   "metadata": {},
   "outputs": [],
   "source": [
    "mkdir -p config/terraform/terraform-aws-tfe"
   ]
  },
  {
   "cell_type": "markdown",
   "metadata": {},
   "source": [
    "Clone the repo."
   ]
  },
  {
   "cell_type": "code",
   "execution_count": null,
   "metadata": {},
   "outputs": [],
   "source": [
    "git clone https://github.com/hashicorp-services/terraform-aws-tfe config/terraform/terraform-aws-tfe"
   ]
  },
  {
   "cell_type": "markdown",
   "metadata": {
    "tags": []
   },
   "source": [
    "### unzip Repo - For Non-Hashi Folks\n",
    "\n",
    "A zip file of the Terraform module `terraform-aws-tfe.zip` is in this repo. You can check with your account team in case there is an updated version.\n",
    "\n",
    "Extract the archive."
   ]
  },
  {
   "cell_type": "code",
   "execution_count": null,
   "metadata": {
    "tags": []
   },
   "outputs": [],
   "source": [
    "mkdir -p config/terraform && \\\n",
    "  unzip -qq terraform-aws-tfe.zip -d config/terraform/ && \\\n",
    "  ls config/terraform/terraform-aws-tfe"
   ]
  },
  {
   "cell_type": "markdown",
   "metadata": {},
   "source": [
    "### Set Main Variables"
   ]
  },
  {
   "cell_type": "code",
   "execution_count": null,
   "metadata": {
    "tags": []
   },
   "outputs": [],
   "source": [
    "export PREFIX=pphan\n",
    "export TFE_STAGE_1=config/terraform/tfe_stage_1\n",
    "export ALB_EXT_R53_ACM_OL=config/terraform/terraform-aws-tfe/tests/alb-ext-r53-acm-ol\n",
    "export AWS_REGION=us-west-2"
   ]
  },
  {
   "cell_type": "markdown",
   "metadata": {},
   "source": [
    "Create variables of Stage 1 outputs"
   ]
  },
  {
   "cell_type": "code",
   "execution_count": null,
   "metadata": {},
   "outputs": [],
   "source": [
    "export BOOTSTRAP_BUCKET_NAME_PRIMARY=$(terraform -chdir=${TFE_STAGE_1} output -raw bootstrap_bucket_name_primary) && echo $BOOTSTRAP_BUCKET_NAME_PRIMARY\n",
    "export BASTION_IP=$(terraform -chdir=${TFE_STAGE_1} output -raw bastion_public_ip) && echo $BASTION_IP"
   ]
  },
  {
   "cell_type": "markdown",
   "metadata": {},
   "source": [
    "Review outputs from Stage 1."
   ]
  },
  {
   "cell_type": "code",
   "execution_count": null,
   "metadata": {
    "tags": []
   },
   "outputs": [],
   "source": [
    "terraform -chdir=${TFE_STAGE_1} output"
   ]
  },
  {
   "cell_type": "markdown",
   "metadata": {},
   "source": [
    "### Copy license file to S3 Bootstrap bucket"
   ]
  },
  {
   "cell_type": "markdown",
   "metadata": {},
   "source": [
    "Place your TFE license file in `${ALB_EXT_R53_ACM_OL}` folder.\n",
    "\n",
    "Copy it to your S3 bootstrap bucket."
   ]
  },
  {
   "cell_type": "code",
   "execution_count": null,
   "metadata": {},
   "outputs": [],
   "source": [
    "aws s3 cp ${ALB_EXT_R53_ACM_OL}/tfe-license.rli s3://${BOOTSTRAP_BUCKET_NAME_PRIMARY}/"
   ]
  },
  {
   "cell_type": "code",
   "execution_count": null,
   "metadata": {},
   "outputs": [],
   "source": [
    "aws s3 ls s3://${BOOTSTRAP_BUCKET_NAME_PRIMARY}"
   ]
  },
  {
   "cell_type": "markdown",
   "metadata": {},
   "source": [
    "### Create main.tf"
   ]
  },
  {
   "cell_type": "code",
   "execution_count": null,
   "metadata": {},
   "outputs": [],
   "source": [
    "mkdir -p config/terraform/tfe"
   ]
  },
  {
   "cell_type": "code",
   "execution_count": null,
   "metadata": {},
   "outputs": [],
   "source": [
    "cat > ${ALB_EXT_R53_ACM_OL}/versions.tf <<EOF \n",
    "terraform {\n",
    "  required_providers {\n",
    "    aws      = \"~> 3.36.0\"\n",
    "    random   = \">= 2.2.0\"\n",
    "    template = \">= 2.1.2\"\n",
    "  }\n",
    "}\n",
    "\n",
    "provider \"aws\" {\n",
    "  region = var.aws_region\n",
    "}\n",
    "variable \"aws_region\" {}\n",
    "EOF"
   ]
  },
  {
   "cell_type": "code",
   "execution_count": null,
   "metadata": {},
   "outputs": [],
   "source": [
    "cat > ${ALB_EXT_R53_ACM_OL}/main.tf <<EOF \n",
    "module \"tfe\" {\n",
    "  source = \"../..\"\n",
    "\n",
    "  friendly_name_prefix = var.friendly_name_prefix\n",
    "  common_tags          = var.common_tags\n",
    "\n",
    "  tfe_bootstrap_bucket      = var.tfe_bootstrap_bucket\n",
    "  tfe_license_filepath      = var.tfe_license_filepath\n",
    "  tfe_release_sequence      = var.tfe_release_sequence\n",
    "  tfe_hostname              = var.tfe_hostname\n",
    "  tfe_install_secrets_arn   = var.tfe_install_secrets_arn\n",
    "  console_password          = var.console_password\n",
    "  enc_password              = var.enc_password\n",
    "  log_forwarding_enabled    = var.log_forwarding_enabled\n",
    "  cloudwatch_log_group_name = var.cloudwatch_log_group_name\n",
    "\n",
    "  vpc_id                  = var.vpc_id\n",
    "  lb_subnet_ids           = var.lb_subnet_ids\n",
    "  ec2_subnet_ids          = var.ec2_subnet_ids\n",
    "  rds_subnet_ids          = var.rds_subnet_ids\n",
    "  ingress_cidr_443_allow  = var.ingress_cidr_443_allow\n",
    "  ingress_cidr_8800_allow = var.ingress_cidr_8800_allow\n",
    "  ingress_cidr_22_allow   = var.ingress_cidr_22_allow\n",
    "  load_balancer_scheme    = var.load_balancer_scheme\n",
    "  route53_hosted_zone_acm = var.route53_hosted_zone_acm\n",
    "  route53_hosted_zone_tfe = var.route53_hosted_zone_tfe\n",
    "  create_tfe_alias_record = var.create_tfe_alias_record\n",
    "\n",
    "  kms_key_arn = var.kms_key_arn\n",
    "\n",
    "  asg_instance_count = var.asg_instance_count\n",
    "  asg_max_size       = var.asg_max_size\n",
    "  os_distro          = var.os_distro\n",
    "  ami_id             = var.ami_id\n",
    "  encrypt_ebs        = var.encrypt_ebs\n",
    "  ssh_key_pair       = var.ssh_key_pair\n",
    "  instance_size      = var.instance_size # added\n",
    "\n",
    "  rds_instance_class      = var.rds_instance_class # added\n",
    "  rds_password            = var.rds_password\n",
    "  rds_multi_az            = var.rds_multi_az\n",
    "  rds_skip_final_snapshot = var.rds_skip_final_snapshot\n",
    "\n",
    "  enable_active_active             = var.enable_active_active\n",
    "  redis_subnet_ids                 = var.redis_subnet_ids\n",
    "  redis_password                   = var.redis_password\n",
    "  redis_at_rest_encryption_enabled = var.redis_at_rest_encryption_enabled\n",
    "}\n",
    "EOF"
   ]
  },
  {
   "cell_type": "markdown",
   "metadata": {},
   "source": [
    "### Create outputs.tf"
   ]
  },
  {
   "cell_type": "markdown",
   "metadata": {},
   "source": [
    "We will using the existing `outputs.tf` file. Run this command if you want to view it."
   ]
  },
  {
   "cell_type": "code",
   "execution_count": null,
   "metadata": {
    "tags": []
   },
   "outputs": [],
   "source": [
    "cat ${ALB_EXT_R53_ACM_OL}/outputs.tf"
   ]
  },
  {
   "cell_type": "markdown",
   "metadata": {},
   "source": [
    "Alternatively, you can use this if you are on a Mac with vscode. "
   ]
  },
  {
   "cell_type": "code",
   "execution_count": null,
   "metadata": {},
   "outputs": [],
   "source": [
    "code ${ALB_EXT_R53_ACM_OL}/outputs.tf"
   ]
  },
  {
   "cell_type": "markdown",
   "metadata": {},
   "source": [
    "Create a new file to get more outputs out of terraform. TO BE COMPLETED"
   ]
  },
  {
   "cell_type": "code",
   "execution_count": null,
   "metadata": {},
   "outputs": [],
   "source": [
    "cat ${ALB_EXT_R53_ACM_OL}/outputs_new.tf <<EOF\n",
    "output \"tfe_rds\" {\n",
    "  value = module.tfe.RDS\n",
    "}\n",
    "EOF"
   ]
  },
  {
   "cell_type": "markdown",
   "metadata": {},
   "source": [
    "### Create variables.tf"
   ]
  },
  {
   "cell_type": "markdown",
   "metadata": {},
   "source": [
    "We will using the existing `variables.tf` file. Run this command if you want to view it."
   ]
  },
  {
   "cell_type": "code",
   "execution_count": null,
   "metadata": {
    "tags": []
   },
   "outputs": [],
   "source": [
    "cat ${ALB_EXT_R53_ACM_OL}/variables.tf"
   ]
  },
  {
   "cell_type": "markdown",
   "metadata": {},
   "source": [
    "Alternatively, you can use this if you are on a Mac with vscode. "
   ]
  },
  {
   "cell_type": "code",
   "execution_count": null,
   "metadata": {},
   "outputs": [],
   "source": [
    "code ${ALB_EXT_R53_ACM_OL}/variables.tf"
   ]
  },
  {
   "cell_type": "markdown",
   "metadata": {},
   "source": [
    "### Create tfvars file to set variables."
   ]
  },
  {
   "cell_type": "markdown",
   "metadata": {},
   "source": [
    "#### Common Variables\n",
    "<details><summary></summary>\n",
    "\n",
    "</details>\n",
    "Here are the values you should set in the tfvars section below.\n",
    "\n",
    "* `friendly_name_prefix` - the same namespace you set in [Stage 1](bear://x-callback-url/open-note?id=BE232B3D-94AE-49B6-9B33-B62095551C8C-66557-000513BBCB51AF13&header=Set%20Terraform%20Variables). ex: `\"pphan\"`\n",
    "* `aws_region` - setting from env var, but you can change\n",
    "* `common_tags` - customize as needed\n",
    "\t* `Owner` and `TTL` are used within HashiCorp's own AWS account for resource reaping purposes.\n",
    "\n",
    "```go\n",
    "common_tags = {\n",
    "  Owner       = \"pphan\"\n",
    "  Environment = \"Test\"\n",
    "  Tool        = \"Terraform\"\n",
    "  TTL         = \"1day\"\n",
    "}\n",
    "```\n"
   ]
  },
  {
   "cell_type": "markdown",
   "metadata": {
    "tags": []
   },
   "source": [
    "#### TFE Variables\n",
    "\n",
    "Here are the values you should set in the tfvars section below.\n",
    "\n",
    "* `friendly_name_prefix` - your resource names will be prefixed with this\n",
    "* `tfe_hostname` - ex \"`pphan-tfe.hashidemos.io`\"\n",
    "* `tfe_release_sequence` - `0` for the latest; specify a number to pin it to that [release](https://www.terraform.io/docs/enterprise/release/index.html)\n",
    "* `tfe_license_file_path` - must use s3 bootstrap bucket for this module\n"
   ]
  },
  {
   "cell_type": "markdown",
   "metadata": {},
   "source": [
    "<details><summary>Compute Variables</summary>\n",
    "\n",
    "</details>\n",
    "\n",
    "* Set `instance_size` to\n",
    "\t* `m5.xlarge` for demos and POCs\n",
    "\t* \"`m5.2xlarge`\" or larger for production\n",
    "        * rule of thumb is 2GB memory per run, 32GB memory will support about 14 concurrent runs. 4GB for TFE.\n",
    "    * for larger deployments consider the `r5.2xlarge` instead; more memory allows you to support more concurrent runs\n",
    "* Set `os_distro` to\n",
    "\t* `ubuntu`, \"amzn2\", \"rhel\", \"centos\"; default is `amzn2`"
   ]
  },
  {
   "cell_type": "markdown",
   "metadata": {},
   "source": [
    "#### Database Variables\n",
    "<details><summary></summary>\n",
    "    \n",
    "</details>\n",
    "\n",
    "* Set `rds_instance_class`:\n",
    "\t* \"`db.m5.xlarge`\" for Demos, POCs (default)\n",
    "\t* \"`db.m5.xlarge`\" or \"`db.m5.2xlarge`\" for production.\n",
    "* Set `rds_multi_az` to\n",
    "\t* \"`false`\" for Demos\n",
    "\t* \"`true`\" for POCs and Production (default)"
   ]
  },
  {
   "cell_type": "markdown",
   "metadata": {
    "tags": []
   },
   "source": [
    "#### Network Variables\n",
    "<details><summary></summary>\n",
    "\n",
    "</details>\n",
    "\n",
    "* Set `vpc_id`, `ec2_subnet_ids`, `rds_subnet_ids`, and `lb_subnet_ids` to the corresponding **outputs** from Stage 1 or the IDs of the resources you created using other means.\n",
    "```go\n",
    "vpc_id                    = \"vpc-07b89518584abd90b\"\n",
    "lb_subnet_ids             = [\"subnet-04be8d0fe8aba96a4\", \"subnet-0b623ade19e6271c5\"] \n",
    "ec2_subnet_ids            = [\"subnet-04be8d0fe8aba96a4\", \"subnet-0b623ade19e6271c5\"] \n",
    "rds_subnet_ids            = [\"subnet-04be8d0fe8aba96a4\", \"subnet-0b623ade19e6271c5\"] \n",
    "```\n",
    "    * We pull the values from env var's, terraform output, etc when possible.\n",
    "* Note on Subnets\n",
    "\t* The `*_subnet_ids` should be in the form `\"[<subnet_1>\",\"<subnet_2>\"]`.\n",
    "\t* The `ec2` and `rds` subnets can be distinct or the same and can be public or private.\n",
    "\t* The `alb` subnets must be **public**.\n",
    "* Set `route53_hosted_zone` - ex `hashidemos.io` \n",
    "* Set `kms_key_arn` to the `kms_key_arn` output from [Stage 1](./TerraformInstallStage1.ipynb) or the ID of the KMS key you created using other means.\n",
    "* Access to Console Port (8800)\n",
    "    * I added my machine's IP to the LB SG allow for 8800, so that I can connect to it directly.\n",
    "    * Adjust accordingly for your environment\n",
    "    * `ingress_cidr_8800_allow = [\"10.0.0.0/16\",\"$(curl -s http://ipv4.icanhazip.com)/32\"]`\n",
    "\n",
    "<br>\n",
    "\n",
    "Set the rest of the variables in the `<linux_flavor>.auto.tfvars` file.\n"
   ]
  },
  {
   "cell_type": "markdown",
   "metadata": {},
   "source": [
    "* Be sure to adjust the following variables if deploying for a POC or in production.\n",
    "    * `aws_instance_type`\n",
    "    * `database_storage`\n",
    "    * `database_instance_class`\n",
    "    * `database_multi_az`\n"
   ]
  },
  {
   "cell_type": "markdown",
   "metadata": {},
   "source": [
    "* Set `ssh_key_pair` to the name of your SSH keypair as it is displayed in the AWS Console.\n",
    "\t* `ssh_key_pair = \"pphan-ptfe-ec2-key\"`\n",
    "\t* [::pp::] I added a resource to create a `aws_key_pair` but you might already have one. Else you can manually create one in AWS console.\n",
    "    \n",
    "```go\n",
    "resource \"aws_key_pair\" \"ec2_key\" {\n",
    "  key_name   = \"${var.namespace}-ec2-key\"\n",
    "  public_key = \"<key>\"\n",
    "}\n",
    "```"
   ]
  },
  {
   "cell_type": "markdown",
   "metadata": {},
   "source": [
    "#### New tfvars"
   ]
  },
  {
   "cell_type": "markdown",
   "metadata": {},
   "source": [
    "This module currently does not allow you to specify the volume type, which is currently set to `gp2`. We recommend you change this to `gp3` and increase the volume size from `50` to `100`. You can change manually change these values in `compute.tf`.\n",
    "\n",
    "> `gp3` volumes provide more IOPS than `gp2` volumes. Learn more [here](https://aws.amazon.com/about-aws/whats-new/2020/12/introducing-new-amazon-ebs-general-purpose-volumes-gp3/)\n",
    "\n",
    "Alternatively, this `sed` command can change it for you."
   ]
  },
  {
   "cell_type": "code",
   "execution_count": null,
   "metadata": {},
   "outputs": [],
   "source": [
    "sed -i '' -e 's/volume_type =.*/volume_type = \"gp3\"/' \\\n",
    "  -e 's/volume_size =.*/volume_size = 100/' \\\n",
    "  ${ALB_EXT_R53_ACM_OL}/../../compute.tf"
   ]
  },
  {
   "cell_type": "markdown",
   "metadata": {},
   "source": [
    "Copy license file - NOT NEEDED; WILL COPY TO S3"
   ]
  },
  {
   "cell_type": "code",
   "execution_count": null,
   "metadata": {},
   "outputs": [],
   "source": [
    "cp tfe-license.rli ${ALB_EXT_R53_ACM_OL}"
   ]
  },
  {
   "cell_type": "markdown",
   "metadata": {},
   "source": [
    "We will set required and optional variables. Some of the values are pulled from our stage 1 deployment. Replace these with your own values if you didn't use the Stage 1 process."
   ]
  },
  {
   "cell_type": "code",
   "execution_count": null,
   "metadata": {
    "tags": []
   },
   "outputs": [],
   "source": [
    "tee ${ALB_EXT_R53_ACM_OL}/alb-ext-r53-acm-ol-ubuntu.auto.tfvars <<EOF\n",
    "#------------------------------------------------------------------------------\n",
    "# COMMON\n",
    "#------------------------------------------------------------------------------\n",
    "friendly_name_prefix = \"${PREFIX}\"\n",
    "aws_region    = \"${AWS_REGION}\"\n",
    "common_tags   = {\n",
    "  \"App\"       = \"TFE\"\n",
    "  \"Env\"       = \"test\"\n",
    "  \"Scenario\"  = \"alb-ext-r53-acm-ol\"\n",
    "  \"Terraform\" = \"local-cli\"\n",
    "  \"Owner\"     = \"YourName\"\n",
    "  \"TTL\"       = \"1day\"\n",
    "}\n",
    "\n",
    "#------------------------------------------------------------------------------\n",
    "# TFE\n",
    "#------------------------------------------------------------------------------\n",
    "tfe_bootstrap_bucket      = $(terraform -chdir=${TFE_STAGE_1} output bootstrap_bucket_name_primary)\n",
    "tfe_license_filepath      = \"s3://${BOOTSTRAP_BUCKET_NAME_PRIMARY}/tfe-license.rli\"\n",
    "tfe_release_sequence      = 0\n",
    "tfe_hostname              = \"pphan-tfe.hashidemos.io\"\n",
    "console_password          = \"pphan_aws_secretsmanager\" #\"aws_secretsmanager\"\n",
    "enc_password              = \"pphan_aws_secretsmanager\" #\"aws_secretsmanager\"\n",
    "tfe_install_secrets_arn   = $(terraform -chdir=${TFE_STAGE_1} output secretsmanager_secret_metadata_arn)\n",
    "log_forwarding_enabled    = true\n",
    "cloudwatch_log_group_name = \"tfe-log-group\"\n",
    "\n",
    "#------------------------------------------------------------------------------\n",
    "# NETWORK - data needs to be refreshed everytime - from Stage 1 outputs\n",
    "#------------------------------------------------------------------------------\n",
    "vpc_id                  = $(terraform -chdir=${TFE_STAGE_1} output vpc)\n",
    "lb_subnet_ids           = $(terraform -chdir=${TFE_STAGE_1} output public_subnet_ids)\n",
    "ec2_subnet_ids          = $(terraform -chdir=${TFE_STAGE_1} output private_subnet_ids)\n",
    "rds_subnet_ids          = $(terraform -chdir=${TFE_STAGE_1} output private_subnet_ids)\n",
    "ingress_cidr_443_allow  = [\"0.0.0.0/0\"]\n",
    "ingress_cidr_8800_allow = [\"10.0.0.0/16\",\"$(curl -s http://ipv4.icanhazip.com)/32\"]\n",
    "ingress_cidr_22_allow   = [\"10.0.0.0/16\"]\n",
    "load_balancer_scheme    = \"external\"\n",
    "route53_hosted_zone_acm = \"hashidemos.io\"\n",
    "create_tfe_alias_record = true\n",
    "route53_hosted_zone_tfe = \"hashidemos.io\"\n",
    "\n",
    "kms_key_arn = $(terraform -chdir=${TFE_STAGE_1} output kms_key_arn)\n",
    "\n",
    "#------------------------------------------------------------------------------\n",
    "# COMPUTE\n",
    "#------------------------------------------------------------------------------\n",
    "asg_instance_count = 1\n",
    "asg_max_size       = 1\n",
    "os_distro          = \"ubuntu\" #amzn2\n",
    "ssh_key_pair       = $(terraform -chdir=${TFE_STAGE_1} output ssh_key_pair)\n",
    "instance_size      = \"m5.xlarge\" \n",
    "\n",
    "#------------------------------------------------------------------------------\n",
    "# DATABASE\n",
    "#------------------------------------------------------------------------------\n",
    "rds_instance_class = \"db.m5.xlarge\"\n",
    "rds_username       = \"tfe\" # Default is tfe\n",
    "rds_password       = \"MyRdsPassword123!\"\n",
    "rds_multi_az       = true\n",
    "\n",
    "# Active/Active\n",
    "enable_active_active             = false\n",
    "redis_subnet_ids                 = $(terraform -chdir=${TFE_STAGE_1} output private_subnet_ids)\n",
    "redis_password                   = \"MyRedisPassword123!\"\n",
    "redis_at_rest_encryption_enabled = true\n",
    "\n",
    "#------------------------------------------------------------------------------\n",
    "# STORAGE\n",
    "#------------------------------------------------------------------------------\n",
    "# None needed\n",
    "EOF"
   ]
  },
  {
   "cell_type": "markdown",
   "metadata": {},
   "source": [
    "### Set Credentials"
   ]
  },
  {
   "cell_type": "markdown",
   "metadata": {},
   "source": [
    "Set AWS Credentials as environment variables."
   ]
  },
  {
   "cell_type": "code",
   "execution_count": null,
   "metadata": {},
   "outputs": [],
   "source": [
    "export AWS_ACCESS_KEY_ID=REPLACE_ME\n",
    "export AWS_SECRET_ACCESS_KEY=REPLACE_ME"
   ]
  },
  {
   "cell_type": "markdown",
   "metadata": {},
   "source": [
    "**FOR HASHI ONLY:** Use `doormat` to get AWS Credentials"
   ]
  },
  {
   "cell_type": "code",
   "execution_count": null,
   "metadata": {},
   "outputs": [],
   "source": [
    "awscredsenv"
   ]
  },
  {
   "cell_type": "markdown",
   "metadata": {},
   "source": [
    "Verify credentials were set. Using `envo` if available."
   ]
  },
  {
   "cell_type": "code",
   "execution_count": null,
   "metadata": {},
   "outputs": [],
   "source": [
    "# Check to see if a variable is set, but don't show values\n",
    "envo | grep AWS || env | grep AWS | cut -d= -f1"
   ]
  },
  {
   "cell_type": "markdown",
   "metadata": {
    "tags": []
   },
   "source": [
    "### Provision TFE - Initialize and Apply"
   ]
  },
  {
   "cell_type": "markdown",
   "metadata": {},
   "source": [
    "Initialize the **Stage 2** Terraform configuration and download providers."
   ]
  },
  {
   "cell_type": "code",
   "execution_count": null,
   "metadata": {
    "tags": []
   },
   "outputs": [],
   "source": [
    "terraform -chdir=${ALB_EXT_R53_ACM_OL} init"
   ]
  },
  {
   "cell_type": "code",
   "execution_count": null,
   "metadata": {},
   "outputs": [],
   "source": [
    "terraform -chdir=${ALB_EXT_R53_ACM_OL} validate"
   ]
  },
  {
   "cell_type": "code",
   "execution_count": null,
   "metadata": {
    "tags": []
   },
   "outputs": [],
   "source": [
    "terraform -chdir=${ALB_EXT_R53_ACM_OL} plan -input=false"
   ]
  },
  {
   "cell_type": "markdown",
   "metadata": {},
   "source": [
    "Provision the Stage 2 resources."
   ]
  },
  {
   "cell_type": "code",
   "execution_count": null,
   "metadata": {
    "tags": []
   },
   "outputs": [],
   "source": [
    "terraform -chdir=${ALB_EXT_R53_ACM_OL} apply -input=false -auto-approve \\\n",
    "  > /tmp/tf_stage_2_apply.out 2>&1"
   ]
  },
  {
   "cell_type": "markdown",
   "metadata": {},
   "source": [
    "Output is sent to `/tmp/tf_stage_2_apply.out`. View that file from a terminal to check progress/results.\n",
    "```shell\n",
    "tail -f /tmp/tf_stage_2_apply.out\n",
    "```\n",
    "\n",
    "> NOTE: This takes approximately 15 minutes (14 just for RDS)"
   ]
  },
  {
   "cell_type": "markdown",
   "metadata": {},
   "source": [
    "Sample Outputs:\n",
    "```shell\n",
    "Outputs:\n",
    "\n",
    "tfe_admin_console_url = \"https://pphan-tfe.hashidemos.io:8800\"\n",
    "tfe_lb_dns_name = \"pphan-tfe-web-alb-664253854.us-west-2.elb.amazonaws.com\"\n",
    "tfe_s3_bucket_name = \"pphan-tfe-app-us-west-2-<aws_acct_id>\"\n",
    "tfe_url = \"https://pphan-tfe.hashidemos.io\"\n",
    "```"
   ]
  },
  {
   "cell_type": "markdown",
   "metadata": {},
   "source": [
    "## Monitoring and Verifying the Deployment"
   ]
  },
  {
   "cell_type": "markdown",
   "metadata": {},
   "source": [
    "The following steps are not necessary for setup, but useful for verifying the deployment."
   ]
  },
  {
   "cell_type": "markdown",
   "metadata": {
    "tags": []
   },
   "source": [
    "### SSH to EC2 instance"
   ]
  },
  {
   "cell_type": "markdown",
   "metadata": {
    "tags": []
   },
   "source": [
    "#### Get IP of TFE Instance\n",
    "\n",
    "1. Wait until you see outputs for the `apply`.\n",
    "1. Go to the **AWS Console > EC2 > Auto Scaling Groups**.\n",
    "1. Find your ASG. You can filter by your `prefix` to narrow down the results.\n",
    "1. Select your ASG.\n",
    "\t* My ASG is called: `pphan-tfe-asg`\n",
    "1. Click **Instance management** tab.\n",
    "1. Click the Instance ID link.\n",
    "1. Copy the Private IP address.\n",
    "\n",
    "1. Click the **Connect** button and copy the SSH connection command.\n",
    "1. Type that command in a shell that contains your SSH private key from your AWS key pair and connect to your primary PTFE instance. (It might not be ready right away.)\n",
    "\n",
    "The TFE instance is placed in a private subnet and has no public IP. To connect to it you will need to go through a bastion host. This is covered next."
   ]
  },
  {
   "cell_type": "code",
   "execution_count": null,
   "metadata": {},
   "outputs": [],
   "source": [
    "ASG_NAME=$(jq -r '.resources[].instances[].attributes.name' \\\n",
    "  ${ALB_EXT_R53_ACM_OL}/terraform.tfstate \\\n",
    "  | grep tfe-asg) && echo $ASG_NAME"
   ]
  },
  {
   "cell_type": "markdown",
   "metadata": {},
   "source": [
    "Grab the instance ID from ASG, get private IP address of instance, and store value into `TFE_PRIVATE_IP`."
   ]
  },
  {
   "cell_type": "code",
   "execution_count": null,
   "metadata": {},
   "outputs": [],
   "source": [
    "TFE_PRIVATE_IP=$(aws ec2 describe-instances --instance-ids i-0d707c5706eee4b6d \\\n",
    "  $(aws autoscaling describe-auto-scaling-instances --output text \\\n",
    "  --query \"AutoScalingInstances[?AutoScalingGroupName=='${ASG_NAME}'].InstanceId\") \\\n",
    "  --query \"Reservations[].Instances[].PrivateIpAddress\" --output text) && $TFE_PRIVATE_IP"
   ]
  },
  {
   "cell_type": "markdown",
   "metadata": {},
   "source": [
    "#### Connect to Bastion"
   ]
  },
  {
   "cell_type": "markdown",
   "metadata": {},
   "source": [
    "To ssh to the TFE instance, I use the bastion host deployed in Stage 1. You can't run interactive commands in Jupyter Notebooks, so you use the following command to see what you should run from a CLI terminal. NOTE: You might need to change the username based on `os_distro`."
   ]
  },
  {
   "cell_type": "markdown",
   "metadata": {},
   "source": [
    "First hop. Connect to Bastion."
   ]
  },
  {
   "cell_type": "code",
   "execution_count": null,
   "metadata": {},
   "outputs": [],
   "source": [
    "ssh -A ec2-user@${BASTION_IP} \\\n",
    "  ssh -A -o StrictHostKeyChecking=no ubuntu@${TFE_PRIVATE_IP} \\\n",
    "  tail /var/log/cloud-init-output.log"
   ]
  },
  {
   "cell_type": "markdown",
   "metadata": {},
   "source": [
    "Sample output\n",
    "```shell\n",
    "ssh -A ec2-user@34.210.115.80\n",
    "```"
   ]
  },
  {
   "cell_type": "markdown",
   "metadata": {},
   "source": [
    "Then, from the bastion host I run this command. Replace IP with your specific one.\n",
    "```shell\n",
    "ssh -A ubuntu@<tfe_instance_private_ip>\n",
    "```\n",
    "\n",
    "> My bastion host defaulted to `amzn2` but for TFE i selected `ubuntu`.\n",
    "\n",
    "More info on [transparent multihop ssh](http://sshmenu.sourceforge.net/articles/transparent-mulithop.html)."
   ]
  },
  {
   "cell_type": "markdown",
   "metadata": {},
   "source": [
    "Quick and Dirty Hack: You can chain ssh commands together and/or create an alias to save on typing. This also allows us to run them in Jupyter since it avoids interacting with the terminal.\n",
    "\n",
    "```shell\n",
    "ssh -A ec2-user@34.210.115.80 \\\n",
    "    ssh -A ubuntu@10.0.254.113 tail /var/log/cloud-init-output.log\n",
    "```"
   ]
  },
  {
   "cell_type": "markdown",
   "metadata": {},
   "source": [
    "### Monitor the deployment"
   ]
  },
  {
   "cell_type": "markdown",
   "metadata": {
    "tags": []
   },
   "source": [
    "To monitor the progress of the install (cloud-init process):\n",
    "\n",
    "1. SSH into the EC2 instance\n",
    "2. run `journalctl -xu cloud-final -f` to tail the logs (or remove the `-f` if the cloud-init process has finished).\n",
    "3. If the operating system is Ubuntu, logs can also be viewed via:\n",
    "    * `tail /var/log/cloud-init-output.log`\n",
    "    * add `-f` to follow it\n",
    "    * NOTE: It is **ok** if you see multiple warnings in the log like:\n",
    "```shell\n",
    "curl: (6) Could not resolve host: <ptfe_dns>\n",
    "```\n",
    "\t* This means that the script has run the installer and is currently testing the availability of the TFE application with `curl` every **5 seconds**.\n",
    "\t* You will also see this warning.\n",
    "```shell\n",
    "curl: (22) The requested URL returned error: 502 Bad Gateway\n",
    "```\n",
    "\t* If this lasts for more than **5 minutes**, then something is wrong.\n",
    "\t* When the `/var/log/cloud-init-output.log` stops showing `curl` calls against the hostname and instead shows `INFO: TFE user_data script finished successfully!` then things should be good."
   ]
  },
  {
   "cell_type": "markdown",
   "metadata": {
    "tags": []
   },
   "source": [
    "* The install script dumps the out to install-ptfe.log. You can view or tail it to see the bootstrap logs and `curl` test against TFE. \n",
    "    * `tail -f install-ptfe.log`\n",
    "    * `less install-ptfe.log`\n",
    "    * NOTE: This is based on Roger's [install script](https://github.com/hashicorp/private-terraform-enterprise/blob/automated-aws-pes-installation/examples/aws/user-data-ubuntu-online.tpl) and not available here."
   ]
  },
  {
   "cell_type": "markdown",
   "metadata": {
    "tags": []
   },
   "source": [
    "* You can tail the audit log and watch it as you click around the TFE UI.  Just log into your server and run\n",
    "    * `docker logs -f ptfe_atlas | grep \"Audit Log\"`\n",
    "    * `docker logs ptfe_atlas --since 5m | grep \"Audit Log\"`"
   ]
  },
  {
   "cell_type": "markdown",
   "metadata": {},
   "source": [
    "``` shell\n",
    "+ curl -ksfS --connect-timeout 5 https://10.110.1.46/_health_check\n",
    "OK+ '[' true == true ']'\n",
    "+ echo 'Creating initial admin user and organization'\n",
    "Creating initial admin user and organization\n",
    "+ cat\n",
    "++ replicated admin --tty=0 retrieve-iact\n",
    "+ initial_token=OtzRwvj4yNNPSXfP9odg23JFcPtra84t\n",
    "```"
   ]
  },
  {
   "cell_type": "markdown",
   "metadata": {},
   "source": [
    "### Check postgres"
   ]
  },
  {
   "cell_type": "markdown",
   "metadata": {},
   "source": [
    "This is an optional check. It makes sure your DB was installed and the database configured."
   ]
  },
  {
   "cell_type": "markdown",
   "metadata": {},
   "source": [
    "Get DB identifier.\n",
    "\n",
    "1. Go to this page."
   ]
  },
  {
   "cell_type": "code",
   "execution_count": null,
   "metadata": {},
   "outputs": [],
   "source": [
    "open https://${AWS_REGION}.console.aws.amazon.com/rds/home?region=${AWS_REGION}#databases:"
   ]
  },
  {
   "cell_type": "markdown",
   "metadata": {},
   "source": [
    "2. Filter by your `prefix`.\n",
    "3. Click on your DB.\n",
    "4. Copy your Endpoint address.<br> ex `pphan-tfe-rds-<aws_acct_id>.cyqfwyfsxjlb.us-west-2.rds.amazonaws.com`"
   ]
  },
  {
   "cell_type": "markdown",
   "metadata": {},
   "source": [
    "Or you can use this."
   ]
  },
  {
   "cell_type": "code",
   "execution_count": null,
   "metadata": {},
   "outputs": [],
   "source": [
    "DB_ADDRESS=$(jq -r '.resources[].instances[].attributes.address' \\\n",
    "  ${ALB_EXT_R53_ACM_OL}/terraform.tfstate \\\n",
    "  | grep rds) && echo $DB_ADDRESS"
   ]
  },
  {
   "cell_type": "markdown",
   "metadata": {},
   "source": [
    "5. From your bastion session, connect with `psql`. Replace the endpoint and password with your own."
   ]
  },
  {
   "cell_type": "code",
   "execution_count": null,
   "metadata": {},
   "outputs": [],
   "source": [
    "ssh -A ec2-user@${BASTION_IP} \\\n",
    "  ssh -A -o StrictHostKeyChecking=no ubuntu@${TFE_PRIVATE_IP} /bin/bash <<EOF\n",
    "    sudo DEBIAN_FRONTEND=noninteractive apt-get install -qq postgresql-client > /dev/null\n",
    "    PGPASSWORD=\"MyRdsPassword123!\" psql \\\n",
    "    -h $DB_ADDRESS -d tfe -U tfe -c \"\\dn\"\n",
    "EOF  "
   ]
  },
  {
   "cell_type": "markdown",
   "metadata": {},
   "source": [
    "* `-h` is host. Copied from above.\n",
    "* `-d` is database name. Default is `tfe`\n",
    "* `-U` is username. Default is `tfe`\n",
    "* You will provide password via env var. See `rds_password`."
   ]
  },
  {
   "cell_type": "markdown",
   "metadata": {},
   "source": [
    "Sample Output\n",
    "```\n",
    " List of schemas\n",
    "   Name   | Owner \n",
    "----------+----------\n",
    " public   | tfe\n",
    " rails    | tfe\n",
    " registry | tfe\n",
    " vault    | tfe\n",
    "(4 rows)\n",
    "```"
   ]
  },
  {
   "cell_type": "markdown",
   "metadata": {},
   "source": [
    "## Log In to TFE"
   ]
  },
  {
   "cell_type": "markdown",
   "metadata": {},
   "source": [
    "After the module has been deployed and the EC2 instance created by the Autoscaling Group has finished initializing, open a web browser and log in to the new TFE instance.\n",
    "\n",
    "1. Give the EC2 instance around 7-12 minutes after it has finished initializing before launching a browser and attempting to login to TFE.\n",
    "1. Connect to the TFE Admin Console on port 8800 (`https://<tfe_hostname>:8800`)\n",
    "    * This is the load balancer URL."
   ]
  },
  {
   "cell_type": "markdown",
   "metadata": {},
   "source": [
    "Open Admin Console"
   ]
  },
  {
   "cell_type": "code",
   "execution_count": null,
   "metadata": {},
   "outputs": [],
   "source": [
    "open $(terraform -chdir=${ALB_EXT_R53_ACM_OL} output -raw tfe_url):8800"
   ]
  },
  {
   "cell_type": "markdown",
   "metadata": {},
   "source": [
    "3. Authenticate using the value of `console_password`.\n",
    "    * See `tfvars` file.\n",
    "1. From the Dashboard page, after verifying the application is started, click the \"**Open**\" link underneath the **Stop Now** button.\n",
    "1. Create the Initial Admin User \n",
    "    * Username, Email, Password\n",
    "    * Click `Create an account`.\n",
    "1. Create the Initial Organization.\n",
    "    * Organization name, Email address\n",
    "    * Click `Create organization`.\n",
    "1. Create a new Workspace or skip to other Post-Deployment steps.\n",
    "<p>&nbsp;</p>"
   ]
  },
  {
   "cell_type": "markdown",
   "metadata": {},
   "source": [
    "* The username defaults to `admin` unless a value was specified for the input `tfe_initial_admin_username` input. \n",
    "* The **password** is the value set for the `tfe_initial_admin_pw` variable.\n",
    "\t* If not set, then it will be `random_password.tfe_initial_admin_pw.result` (found in the Terraform State file).\n",
    "* The **console password** can be found here `terraform.tfstate > console_password`."
   ]
  },
  {
   "cell_type": "markdown",
   "metadata": {},
   "source": [
    "Open UI"
   ]
  },
  {
   "cell_type": "code",
   "execution_count": null,
   "metadata": {},
   "outputs": [],
   "source": [
    "open $(terraform -chdir=${ALB_EXT_R53_ACM_OL} output -raw tfe_url)"
   ]
  },
  {
   "cell_type": "markdown",
   "metadata": {},
   "source": [
    "---"
   ]
  },
  {
   "cell_type": "markdown",
   "metadata": {},
   "source": [
    "## Repaving Your PTFE Instances With Terraform\n",
    "\n",
    "* You can replace or \"repave\" the EC2 instance(s) running TFE with Terraform at any time by following this process:\n",
    "\t* Terminate the EC2 instance(s) in the AWS Console\n",
    "* This will cause the EC2 instance(s) to be destroyed and recreated.\n",
    "* In addition, it will cause the `aws_lb_target_group_attachment` resources associated with the application load balancer to be destroyed and recreated.\n",
    "* This ensures that the ALB will always point to the primary TFE instance.\n",
    "\n",
    "---"
   ]
  },
  {
   "cell_type": "markdown",
   "metadata": {},
   "source": [
    "## Resources"
   ]
  },
  {
   "cell_type": "markdown",
   "metadata": {},
   "source": [
    "## Appendix"
   ]
  },
  {
   "cell_type": "markdown",
   "metadata": {},
   "source": [
    "### Creating Initial User and Inital Org vi API"
   ]
  },
  {
   "cell_type": "markdown",
   "metadata": {},
   "source": [
    "Set variables"
   ]
  },
  {
   "cell_type": "code",
   "execution_count": null,
   "metadata": {},
   "outputs": [],
   "source": [
    "tfe_initial_admin_username=admin\n",
    "tfe_initial_admin_email=pphan@hashicorp.com\n",
    "tfe_initial_admin_pw=TVCN4life!\n",
    "\n",
    "tfe_hostname=https://pphan-tfe.hashidemos.io\n",
    "tfe_config_dir=/tmp\n",
    "tfe_initial_org_name=pphan_corp\n",
    "tfe_initial_org_email=$tfe_initial_admin_email\n",
    "\n",
    "printf \"#==> Make sure variables are set.\n",
    "$tfe_initial_admin_username\n",
    "$tfe_initial_admin_email\n",
    "$tfe_initial_admin_pw\n",
    "$tfe_hostname\n",
    "$tfe_initial_org_name\n",
    "$tfe_initial_org_email\n",
    "\""
   ]
  },
  {
   "cell_type": "markdown",
   "metadata": {},
   "source": [
    "Create initial user"
   ]
  },
  {
   "cell_type": "code",
   "execution_count": null,
   "metadata": {},
   "outputs": [],
   "source": [
    "# build payload for initial TFE admin user\n",
    "tee $tfe_config_dir/initial_admin_user.json <<EOF\n",
    "{\n",
    "\t\"username\": \"${tfe_initial_admin_username}\",\n",
    "\t\"email\": \"${tfe_initial_admin_email}\",\n",
    "\t\"password\": \"${tfe_initial_admin_pw}\"\n",
    "}\n",
    "EOF\n",
    "\n",
    "# retrieve Initial Admin Creation Token\n",
    "iact=$(ssh -A ec2-user@34.210.115.80 \\\n",
    "    ssh -A ubuntu@10.0.254.113 \\\n",
    "    replicated admin --tty=0 retrieve-iact)\n",
    "\n",
    "# HTTP POST to retrieve Initial Admin User Token\n",
    "iaut=$(curl --header \"Content-Type: application/json\" --request POST --data @$tfe_config_dir/initial_admin_user.json \"${tfe_hostname}/admin/initial-admin-user?token=$iact\" | jq -r '.token')\n",
    "echo $iaut"
   ]
  },
  {
   "cell_type": "markdown",
   "metadata": {},
   "source": [
    "Create initial organization"
   ]
  },
  {
   "cell_type": "code",
   "execution_count": null,
   "metadata": {},
   "outputs": [],
   "source": [
    "# build payload for initial TFE Organization creation\n",
    "tee $tfe_config_dir/initial_org.json <<EOF\n",
    "{\n",
    "  \"data\": {\n",
    "    \"type\": \"organizations\",\n",
    "    \"attributes\": {\n",
    "      \"name\": \"${tfe_initial_org_name}\",\n",
    "      \"email\": \"${tfe_initial_org_email}\"\n",
    "    }\n",
    "  }\n",
    "}\n",
    "EOF\n",
    "\n",
    "# HTTP POST to create initial TFE Organization\n",
    "curl -H \"Authorization: Bearer $iaut\" \\\n",
    "  -H \"Content-Type: application/vnd.api+json\" \\\n",
    "  --request POST --data @$tfe_config_dir/initial_org.json \\\n",
    "  \"${tfe_hostname}/api/v2/organizations\" | jq -c .data"
   ]
  },
  {
   "cell_type": "markdown",
   "metadata": {},
   "source": [
    "### Fun Hacks"
   ]
  },
  {
   "cell_type": "markdown",
   "metadata": {},
   "source": [
    "#### Getting additional data from state file"
   ]
  },
  {
   "cell_type": "code",
   "execution_count": null,
   "metadata": {},
   "outputs": [],
   "source": [
    "jq -r '.resources[].instances[].attributes.address' \\\n",
    "  ${ALB_EXT_R53_ACM_OL}/terraform.tfstate \\\n",
    "  | grep rds"
   ]
  },
  {
   "cell_type": "markdown",
   "metadata": {},
   "source": [
    "---\n",
    "\n",
    "## Cleanup"
   ]
  },
  {
   "cell_type": "markdown",
   "metadata": {
    "tags": []
   },
   "source": [
    "### Destroy TFE"
   ]
  },
  {
   "cell_type": "markdown",
   "metadata": {},
   "source": [
    "Destroy TFE. This will take about 16 minutes. It will error out due to a lingering DB snapshot. The error message will provide the name of the snapshot to delete."
   ]
  },
  {
   "cell_type": "code",
   "execution_count": null,
   "metadata": {
    "tags": []
   },
   "outputs": [],
   "source": [
    "time terraform -chdir=${ALB_EXT_R53_ACM_OL} destroy -input=false -auto-approve > /tmp/tf_stage_2_destroy.out 2>&1"
   ]
  },
  {
   "cell_type": "markdown",
   "metadata": {},
   "source": [
    "Expected Output\n",
    "```\n",
    "│ Error: error deleting Database Instance \"pphan-tfe-rds-<aws_acct_id>\": DBSnapshotAlreadyExists: Cannot create the snapshot because a snapshot with the identifier pphan-tfe-rds-<aws_acct_id>-final-snapshot already exists.\n",
    "```"
   ]
  },
  {
   "cell_type": "markdown",
   "metadata": {},
   "source": [
    "Delete DB snapshot. Be sure to replace identifier with your own value."
   ]
  },
  {
   "cell_type": "code",
   "execution_count": null,
   "metadata": {
    "tags": []
   },
   "outputs": [],
   "source": [
    "aws rds delete-db-snapshot \\\n",
    "  --db-snapshot-identifier pphan-tfe-rds-<aws_acct_id>-final-snapshot"
   ]
  },
  {
   "cell_type": "markdown",
   "metadata": {},
   "source": [
    "Run `terraform destroy` again."
   ]
  },
  {
   "cell_type": "code",
   "execution_count": null,
   "metadata": {
    "tags": []
   },
   "outputs": [],
   "source": [
    "time terraform -chdir=${ALB_EXT_R53_ACM_OL} destroy -input=false -auto-approve >> /tmp/tf_stage_2_destroy.out 2>&1"
   ]
  },
  {
   "cell_type": "markdown",
   "metadata": {},
   "source": [
    "### Destroy artifacts"
   ]
  },
  {
   "cell_type": "markdown",
   "metadata": {},
   "source": [
    "Delete json data files."
   ]
  },
  {
   "cell_type": "code",
   "execution_count": null,
   "metadata": {},
   "outputs": [],
   "source": [
    "rm -rf /tmp/initial_admin_user.json /tmp/initial_org.json"
   ]
  },
  {
   "cell_type": "markdown",
   "metadata": {},
   "source": [
    "Delete terraform ouput files"
   ]
  },
  {
   "cell_type": "code",
   "execution_count": null,
   "metadata": {},
   "outputs": [],
   "source": [
    "rm -rf /tmp/tf_stage_2_*.out"
   ]
  },
  {
   "cell_type": "code",
   "execution_count": null,
   "metadata": {},
   "outputs": [],
   "source": [
    "#debugging\n",
    "rm -rf config/terraform/tfe/cloud_init_deleteme"
   ]
  },
  {
   "cell_type": "markdown",
   "metadata": {},
   "source": [
    "Delete license file from S3 bucket."
   ]
  },
  {
   "cell_type": "code",
   "execution_count": null,
   "metadata": {},
   "outputs": [],
   "source": [
    "aws s3 rm s3://${BOOTSTRAP_BUCKET_NAME_PRIMARY}/tfe-license.rli"
   ]
  },
  {
   "cell_type": "code",
   "execution_count": null,
   "metadata": {},
   "outputs": [],
   "source": [
    "aws s3 ls s3://${BOOTSTRAP_BUCKET_NAME_PRIMARY}"
   ]
  },
  {
   "cell_type": "markdown",
   "metadata": {},
   "source": [
    "## Changes\n",
    "* Add a resource to create a `aws_key_pair` in `custom.tf` in root module.\n",
    "\n",
    "```shell\n",
    "resource \"aws_key_pair\" \"ec2_key\" {\n",
    "  key_name   = \"${var.namespace}-ec2-key\"\n",
    "  public_key = \"<pub_key>\"\n",
    "}\n",
    "```\n",
    "\n",
    "* Add the following to `database/main.tf` resource `aws_db_instance.ptfe`.\n",
    "    * This allows me to easily destroy the environment. Do **NOT** do this in production.\n",
    "\n",
    "```shell\n",
    "  # changes\n",
    "  skip_final_snapshot       = \"true\"\n",
    "  backup_retention_period   = \"0\" # disable backup\n",
    "```"
   ]
  },
  {
   "cell_type": "markdown",
   "metadata": {},
   "source": [
    "**END**"
   ]
  }
 ],
 "metadata": {
  "kernelspec": {
   "display_name": "Bash",
   "language": "bash",
   "name": "bash"
  },
  "language_info": {
   "codemirror_mode": "shell",
   "file_extension": ".sh",
   "mimetype": "text/x-sh",
   "name": "bash"
  },
  "toc-autonumbering": false,
  "toc-showcode": false
 },
 "nbformat": 4,
 "nbformat_minor": 4
}
