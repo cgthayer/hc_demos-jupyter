{
 "cells": [
  {
   "cell_type": "markdown",
   "id": "e7fb412a-ae3c-4448-9c14-d234280e3190",
   "metadata": {},
   "source": [
    "# Terraform Import Example"
   ]
  },
  {
   "cell_type": "markdown",
   "id": "0e98c157-b4e9-4185-b1f6-c14b446d735d",
   "metadata": {},
   "source": [
    "## Table of Contents\n",
    "\n",
    "1. [Overview](#overview)\n",
    "1. [Requirements](#requirements)\n",
    "1. [Workflow](#workflow)\n",
    "    * [Create an orphaned resource](#create-an-orphaned-resource)\n",
    "    * [Import and orphaned resource](#import-and-orphaned-resource)\n",
    "    * [Generate Terraform code](#generate-terraform-code)\n",
    "    * [Run generated code](#run-generated-code)\n",
    "    * [Destroy the resource](#destroy-the-resource)\n",
    "1. [Demo Reset](#demo-reset)"
   ]
  },
  {
   "cell_type": "markdown",
   "id": "2636c184-6ec1-4b7a-bd8c-5932205ad7e8",
   "metadata": {},
   "source": [
    "## Overview\n",
    "\n",
    "An example workflow for importing an unmanaged resource into Terraform state and generating the corresponding code.\n",
    "\n",
    "All content originated from Ranjit's wonderful repo. https://github.com/WhatsARanjit/terraform-import_demo"
   ]
  },
  {
   "cell_type": "markdown",
   "id": "d36e58bc-bfe2-4df3-9d45-23f44304b552",
   "metadata": {
    "tags": []
   },
   "source": [
    "## Requirements\n",
    "\n",
    "* `terraform` version >= 0.12.0\n",
    "* AWS credentials\n",
    "* `jq`"
   ]
  },
  {
   "cell_type": "markdown",
   "id": "35c1f84b-b4dd-4277-8c15-757a56458cd1",
   "metadata": {},
   "source": [
    "### Set Main Environment Variables"
   ]
  },
  {
   "cell_type": "code",
   "execution_count": null,
   "id": "4a0c12b6-a337-45b5-a069-cd50f59fa711",
   "metadata": {},
   "outputs": [],
   "source": [
    "export RED=\"\\e[0;31m\" YELLOW=\"\\e[0;33m\" BLDYELLOW=\"\\e[1;33m\" GREEN=\"\\e[0;32m\"\n",
    "export CYAN=\"\\e[0;36m\" BLUE=\"\\e[0;34m\" WHITE=\"\\e[0;37m\" BLDWHITE=\"\\e[1;37m\"\n",
    "export NC=\"\\e[0m\"\n",
    "\n",
    "printf \"${GREEN}# Set MAIN_DIR for future reference.${NC}\\n\"\n",
    "export MAIN_DIR=${PWD}"
   ]
  },
  {
   "cell_type": "markdown",
   "id": "2b8571a6-c929-44bf-a2d4-1ca7640a9479",
   "metadata": {},
   "source": [
    "Be sure to replace `TF_ORG` and `TF_WS_NAME` with your own values."
   ]
  },
  {
   "cell_type": "code",
   "execution_count": null,
   "id": "fd789a15-0522-455d-9846-2f025f1beaaa",
   "metadata": {},
   "outputs": [],
   "source": [
    "export TF_GIT_DIR=\"config/terraform/terraform-import_demo\"\n",
    "printf \"${GREEN}# Set Terraform Variables.${NC}\\n\"\n",
    "printf \"\\n$MAIN_DIR \\n $TF_GIT_DIR \\n\"\n",
    "\n",
    "# Some commands may have sensitive information. Prevent commands starting with a space to be saved to shell history.\n",
    "HISTCONTROL=ignoreboth # do not save lines that begin with space in history"
   ]
  },
  {
   "cell_type": "markdown",
   "id": "a970a749-a267-4819-90c8-5ec710c12414",
   "metadata": {},
   "source": [
    "### AWS Credentials"
   ]
  },
  {
   "cell_type": "markdown",
   "id": "1d834fb6-9b92-4495-b23a-7d1045ce052a",
   "metadata": {},
   "source": [
    "`terraform` will use credentials set in your environment or through other means as described in the [Terraform documentation](https://www.terraform.io/docs/providers/aws/index.html#environment-variables). This guide will assume you are using the \"**Environment Variables**\" method.\n",
    "\n",
    "Add your AWS credentials as two environment variables. Set your `AWS_ACCESS_KEY_ID` and `AWS_SECRET_ACCESS_KEY` replacing `AAAAAA` with your own values."
   ]
  },
  {
   "cell_type": "code",
   "execution_count": null,
   "id": "3689002a-ff27-45f6-904e-77a00129dd74",
   "metadata": {},
   "outputs": [],
   "source": [
    " export AWS_ACCESS_KEY_ID=AAAAAA\n",
    " export AWS_SECRET_ACCESS_KEY=AAAAAA\n",
    "#  export AWS_SESSION_TOKEN=AAAAAA"
   ]
  },
  {
   "cell_type": "markdown",
   "id": "1bd1a4a3-3db0-49ca-a5ac-b8b6587e8f40",
   "metadata": {},
   "source": [
    "NOTE: If you use `doormat`, then use this method."
   ]
  },
  {
   "cell_type": "code",
   "execution_count": null,
   "id": "b7300858-c013-42f6-b1af-369829fe08de",
   "metadata": {},
   "outputs": [],
   "source": [
    "alias awscredsenv='doormat --smoke-test || doormat -r && eval $(doormat aws -a $account)'\n",
    "awscredsenv"
   ]
  },
  {
   "cell_type": "markdown",
   "id": "d0f45e56-c867-4ebf-9064-8e1af3a008a9",
   "metadata": {},
   "source": [
    "### Clone Repo"
   ]
  },
  {
   "cell_type": "code",
   "execution_count": null,
   "id": "109b26e8-10a9-480a-9e5a-59210a7d9d70",
   "metadata": {},
   "outputs": [],
   "source": [
    "git clone https://github.com/WhatsARanjit/terraform-import_demo.git $TF_GIT_DIR"
   ]
  },
  {
   "cell_type": "markdown",
   "id": "d34ce8b4-5a39-4fad-84c7-1ba1aa20f7dc",
   "metadata": {},
   "source": [
    "## Workflow"
   ]
  },
  {
   "cell_type": "markdown",
   "id": "b9f2b036-1c65-4601-ab70-d249226188fa",
   "metadata": {},
   "source": [
    "### Create an orphaned resource\n",
    "\n",
    "Start by creating an example VPC in AWS to play with:"
   ]
  },
  {
   "cell_type": "code",
   "execution_count": null,
   "id": "7dcc1573-a37d-435e-8f9e-f6a0ea8925f7",
   "metadata": {},
   "outputs": [],
   "source": [
    "# pushd examples/\n",
    "terraform -chdir=$TF_GIT_DIR/example init"
   ]
  },
  {
   "cell_type": "code",
   "execution_count": null,
   "id": "d6c6d006-afde-4f6f-85b9-771b306f238b",
   "metadata": {},
   "outputs": [],
   "source": [
    "terraform -chdir=$TF_GIT_DIR/example apply -auto-approve"
   ]
  },
  {
   "cell_type": "markdown",
   "id": "d0dd2a5c-7715-472c-b74b-f25ab2b25695",
   "metadata": {},
   "source": [
    "Grab the `VPC_ID` for later:"
   ]
  },
  {
   "cell_type": "code",
   "execution_count": null,
   "id": "f63d6bab-8716-4ce6-9392-383adb1664da",
   "metadata": {},
   "outputs": [],
   "source": [
    "export VPC_ID=$(terraform -chdir=${TF_GIT_DIR}/example output -json | jq -r '.ARN.value' | rev | cut -d/ -f1 | rev)\n",
    "echo $VPC_ID"
   ]
  },
  {
   "cell_type": "markdown",
   "id": "37ea7e7f-70d6-4367-be24-503f4ebab0d7",
   "metadata": {},
   "source": [
    "### Import and orphaned resource\n",
    "\n",
    "Let's move back to the main directory. We will specify the `root` folder for the next few steps.\n",
    "\n",
    "* For all intents and purposes, working out of this directory, Terraform has no idea of any state.\n",
    "* To make a strong point, you can even consider deleting the `terraform.tfstate` and `terraform.tfstate.backup` files to simulate an event.\n",
    "\n",
    "Attempt to import the VPC with the name `main`:"
   ]
  },
  {
   "cell_type": "code",
   "execution_count": null,
   "id": "8ded4f61-894e-44d9-b754-64cba4508fb7",
   "metadata": {},
   "outputs": [],
   "source": [
    "export TF_RESOURCE_NAME=\"main\"\n",
    "terraform -chdir=$TF_GIT_DIR import aws_vpc.$TF_RESOURCE_NAME $VPC_ID"
   ]
  },
  {
   "cell_type": "markdown",
   "id": "de430496-e604-4dfd-a17f-e640725074f5",
   "metadata": {},
   "source": [
    "You'll see that Terraform is unhappy because there is no resource in code for `aws_vpc.main`\n",
    "* This is kind of a chicken & egg problem"
   ]
  },
  {
   "cell_type": "markdown",
   "id": "a767c92c-c7e6-4b73-ae37-03aee6c71bd7",
   "metadata": {},
   "source": [
    "Let's stub a resource:"
   ]
  },
  {
   "cell_type": "code",
   "execution_count": null,
   "id": "d26c05b9-f43f-4176-9350-59b295cff305",
   "metadata": {},
   "outputs": [],
   "source": [
    "tee $TF_GIT_DIR/${TF_RESOURCE_NAME}.tf << EOF\n",
    "resource \"aws_vpc\" \"${TF_RESOURCE_NAME}\" {}\n",
    "EOF"
   ]
  },
  {
   "cell_type": "markdown",
   "id": "ba3ae6f6-4e79-45a7-9fff-45959a4f299a",
   "metadata": {},
   "source": [
    "Now we have a stubbed resource\n",
    "\n",
    "Attempt to import the resource again:"
   ]
  },
  {
   "cell_type": "code",
   "execution_count": null,
   "id": "1ec4d893-906f-46f7-b2f1-1c94d178714b",
   "metadata": {},
   "outputs": [],
   "source": [
    "terraform -chdir=$TF_GIT_DIR init"
   ]
  },
  {
   "cell_type": "code",
   "execution_count": null,
   "id": "7cfe49d6-6329-4829-80b8-0f7e4a5e80dd",
   "metadata": {},
   "outputs": [],
   "source": [
    "terraform -chdir=$TF_GIT_DIR import aws_vpc.$TF_RESOURCE_NAME $VPC_ID"
   ]
  },
  {
   "cell_type": "markdown",
   "id": "60413f0f-5b57-4689-8367-b3e1cdc8e5d3",
   "metadata": {},
   "source": [
    "* Now Terraform is unhappy because the provider is not completely configured\n",
    "\n",
    "We have to supply the region information, which is not actually in the statefile itself:"
   ]
  },
  {
   "cell_type": "code",
   "execution_count": null,
   "id": "73f8b59d-3691-4659-9d14-d8163370b6c6",
   "metadata": {},
   "outputs": [],
   "source": [
    "cat > $TF_GIT_DIR/versions.tf << EOF\n",
    "provider \"aws\" {\n",
    "  region = \"us-east-1\"\n",
    "}\n",
    "EOF"
   ]
  },
  {
   "cell_type": "markdown",
   "id": "bc475296-d736-4951-9416-1e2ad13a1e98",
   "metadata": {},
   "source": [
    "Now attempt to import the resource:"
   ]
  },
  {
   "cell_type": "code",
   "execution_count": null,
   "id": "97e15e41-2ae6-49d5-b534-b74191d16b24",
   "metadata": {},
   "outputs": [],
   "source": [
    "terraform -chdir=$TF_GIT_DIR import aws_vpc.$TF_RESOURCE_NAME $VPC_ID"
   ]
  },
  {
   "cell_type": "markdown",
   "id": "b0f3a482-7398-43a2-a22e-2a6236b88226",
   "metadata": {},
   "source": [
    "### Generate Terraform code\n",
    "\n",
    "You can generate Terraform code from state like this. **NOTE:** We're overwriting the stub with real code."
   ]
  },
  {
   "cell_type": "code",
   "execution_count": null,
   "id": "7137a058-2b1d-4dc5-b434-376cc561814c",
   "metadata": {},
   "outputs": [],
   "source": [
    "terraform -chdir=$TF_GIT_DIR show -no-color > $TF_GIT_DIR/$TF_RESOURCE_NAME.tf\n",
    "cat $TF_GIT_DIR/$TF_RESOURCE_NAME.tf"
   ]
  },
  {
   "cell_type": "markdown",
   "id": "13ff17fe-b89b-42c6-a2d8-4139e8ea2b7e",
   "metadata": {},
   "source": [
    "Running the generated code from state should produce a no-changes apply:"
   ]
  },
  {
   "cell_type": "code",
   "execution_count": null,
   "id": "1fab76d7-da94-4882-8e21-55d88cea4776",
   "metadata": {
    "tags": []
   },
   "outputs": [],
   "source": [
    "terraform -chdir=$TF_GIT_DIR apply -auto-approve"
   ]
  },
  {
   "cell_type": "markdown",
   "id": "6bc99716-7318-44fa-af70-4dc88e46d6ca",
   "metadata": {},
   "source": [
    "**NOTE:** When running on a terminal, Terraform recognizes you are a human and returns HCL.  When running inside of a script Terraform decides to return JSON instead."
   ]
  },
  {
   "cell_type": "markdown",
   "id": "15e58dbc-81e0-499f-91b0-97a2ec1ac0ef",
   "metadata": {
    "tags": []
   },
   "source": [
    "### Run generated code\n",
    "\n",
    "* We see that Terraform is unhappy because the code is specifying values for read-only attrbutes\n",
    "* Remove the read-only attributes from the code, which are:\n",
    "  * `arn`\n",
    "  * `default_network_acl_id`\n",
    "  * `default_route_table_id`\n",
    "  * `default_security_group_id`\n",
    "  * `dhcp_options_id`\n",
    "  * `id`\n",
    "  * `main_route_table_id`\n",
    "  * `owner_id`"
   ]
  },
  {
   "cell_type": "code",
   "execution_count": null,
   "id": "9026e695-4b86-46b7-a2ac-8c715e9e6b0d",
   "metadata": {},
   "outputs": [],
   "source": [
    "sed -i '.bak' -e '/^ *arn/d' -e '/^ *default_network_acl_id/d' \\\n",
    "  -e '/^ *default_route_table_id/d' -e '/^ *default_security_group_id/d' \\\n",
    "  -e '/^ *dhcp_options_id/d' -e '/^ *id/d' \\\n",
    "  -e '/^ *main_route_table_id/d' -e '/^ *owner_id/d' \\\n",
    "  $TF_GIT_DIR/$TF_RESOURCE_NAME.tf"
   ]
  },
  {
   "cell_type": "markdown",
   "id": "9a78075f-22c4-4343-b3cd-d03fb1e5f3a0",
   "metadata": {},
   "source": [
    "> **NOTE:** Deleting lines in the above manner could accidentally match unintended lines."
   ]
  },
  {
   "cell_type": "markdown",
   "id": "8cd36515-8ffe-457d-8e76-6d4cf8864920",
   "metadata": {
    "jp-MarkdownHeadingCollapsed": true,
    "tags": []
   },
   "source": [
    "Now try the code again:"
   ]
  },
  {
   "cell_type": "code",
   "execution_count": null,
   "id": "1fe5d36f-aa23-4dd6-8b41-46c97ce131e4",
   "metadata": {},
   "outputs": [],
   "source": [
    "terraform -chdir=$TF_GIT_DIR apply -auto-approve"
   ]
  },
  {
   "cell_type": "markdown",
   "id": "f0f5ae0a-e344-4cdf-a83a-bce16e1aaa0d",
   "metadata": {},
   "source": [
    "You should see that there are no changes.\n",
    "\n",
    "```shell\n",
    "aws_vpc.main: Refreshing state... [id=vpc-033922d140d7e8a0c]\n",
    "\n",
    "No changes. Your infrastructure matches the configuration.\n",
    "\n",
    "Terraform has compared your real infrastructure against your configuration and\n",
    "found no differences, so no changes are needed.\n",
    "\n",
    "Apply complete! Resources: 0 added, 0 changed, 0 destroyed.\n",
    "```"
   ]
  },
  {
   "cell_type": "markdown",
   "id": "0cf63f23-d9b6-47aa-be82-3b27dc0a66f3",
   "metadata": {},
   "source": [
    "### Destroy the resource\n",
    "\n",
    "Now that we have the resource under management and corresponding code, we can take it the end of its lifecycle:"
   ]
  },
  {
   "cell_type": "code",
   "execution_count": null,
   "id": "63d93c19-6dd2-44d3-bba0-84f89fa3ecb9",
   "metadata": {},
   "outputs": [],
   "source": [
    "terraform -chdir=$TF_GIT_DIR destroy -auto-approve"
   ]
  },
  {
   "cell_type": "markdown",
   "id": "4ba6a544-1557-4c23-a8ef-feb3c58662f3",
   "metadata": {},
   "source": [
    "## Clean Up"
   ]
  },
  {
   "cell_type": "code",
   "execution_count": null,
   "id": "22894cf0-e454-45eb-86c8-3d339b226f87",
   "metadata": {},
   "outputs": [],
   "source": [
    "rm -rf $TF_GIT_DIR\n",
    "unset AWS_DEFAULT_REGION"
   ]
  }
 ],
 "metadata": {
  "kernelspec": {
   "display_name": "Bash",
   "language": "bash",
   "name": "bash"
  },
  "language_info": {
   "codemirror_mode": "shell",
   "file_extension": ".sh",
   "mimetype": "text/x-sh",
   "name": "bash"
  }
 },
 "nbformat": 4,
 "nbformat_minor": 5
}
